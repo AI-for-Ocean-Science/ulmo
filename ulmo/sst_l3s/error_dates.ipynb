{
 "cells": [
  {
   "cell_type": "code",
   "execution_count": 1,
   "id": "49d93fc0",
   "metadata": {},
   "outputs": [
    {
     "name": "stderr",
     "output_type": "stream",
     "text": [
      "/Users/rachelstumpf/ulmo/ulmo/utils/image_utils.py:8: UserWarning: healpy not installed.  Not all functions will work!\n",
      "  warnings.warn(\"healpy not installed.  Not all functions will work!\")\n"
     ]
    }
   ],
   "source": [
    "import xarray\n",
    "import numpy as np\n",
    "import pandas\n",
    "import h5py\n",
    "import datetime\n",
    "from ulmo.utils import image_utils\n",
    "from ulmo.plotting import plotting\n",
    "import matplotlib.pyplot as plt\n",
    "import seaborn as sns\n",
    "import os"
   ]
  },
  {
   "cell_type": "code",
   "execution_count": 2,
   "id": "368e4b12",
   "metadata": {},
   "outputs": [],
   "source": [
    "# check extraction tables\n",
    "\n",
    "table_2012 = pandas.read_parquet('/Users/rachelstumpf/Desktop/parquet/SST_L3S_VIIRS_2012.parquet')\n",
    "table_2013 = pandas.read_parquet('/Users/rachelstumpf/Desktop/parquet/SST_L3S_VIIRS_2013.parquet')\n",
    "table_2014 = pandas.read_parquet('/Users/rachelstumpf/Desktop/parquet/SST_L3S_VIIRS_2014.parquet')\n",
    "table_2015 = pandas.read_parquet('/Users/rachelstumpf/Desktop/parquet/SST_L3S_VIIRS_2015.parquet')\n",
    "table_2016 = pandas.read_parquet('/Users/rachelstumpf/Desktop/parquet/SST_L3S_VIIRS_2016.parquet')\n",
    "table_2017 = pandas.read_parquet('/Users/rachelstumpf/Desktop/parquet/SST_L3S_VIIRS_2017.parquet')\n",
    "table_2018 = pandas.read_parquet('/Users/rachelstumpf/Desktop/parquet/SST_L3S_VIIRS_2018.parquet')\n",
    "table_2019 = pandas.read_parquet('/Users/rachelstumpf/Desktop/parquet/SST_L3S_VIIRS_2019.parquet')\n",
    "table_2020 = pandas.read_parquet('/Users/rachelstumpf/Desktop/parquet/SST_L3S_VIIRS_2020.parquet')\n",
    "\n",
    "table_all = pandas.concat([table_2012, table_2013, table_2014, table_2015,\n",
    "                        table_2016, table_2017, table_2018, table_2019, table_2020])\n",
    "table_all.reset_index(drop=True, inplace=True)\n",
    "table_all = table_all.dropna(subset=['LL'])"
   ]
  },
  {
   "cell_type": "code",
   "execution_count": 29,
   "id": "854f6c4a",
   "metadata": {},
   "outputs": [],
   "source": [
    "table_all.loc[:,'local_timedelta'] = pandas.to_timedelta(table_all.loc[:,'lon'] / 15, unit='H')\n",
    "table_all.loc[:,'local_suntime'] = table_all.loc[:,'VIIRS_datetime'] + table_all.loc[:,'local_timedelta']\n",
    "normalized_date = table_all.loc[:,'local_suntime'].dt.normalize()\n",
    "time_component_timedelta = pandas.to_timedelta(table_all.loc[:,'local_suntime'].dt.hour, unit='h') + pandas.to_timedelta(table_all['local_suntime'].dt.minute, unit='m') + pandas.to_timedelta(table_all.loc[:,'local_suntime'].dt.second, unit='s')\n",
    "\n",
    "table_all.loc[:,'L2_local_suntime'] = normalized_date + time_component_timedelta\n",
    "table_all['L2_local_suntime_hours'] = table_all['L2_local_suntime'].dt.hour + table_all['L2_local_suntime'].dt.minute / 60 + table_all['L2_local_suntime'].dt.second / 3600"
   ]
  },
  {
   "cell_type": "code",
   "execution_count": 30,
   "id": "d722c342",
   "metadata": {},
   "outputs": [],
   "source": [
    "table_all.loc[:,'LL_diff'] = table_all.loc[:,'VIIRS_LL'] - table_all.loc[:,'LL']"
   ]
  },
  {
   "cell_type": "code",
   "execution_count": 31,
   "id": "16b3a849",
   "metadata": {},
   "outputs": [],
   "source": [
    "nighttime_start = 22.0\n",
    "nighttime_end = 6.0\n",
    "\n",
    "nighttime_cutouts = table_all[\n",
    "    (table_all['L2_local_suntime_hours'] >= nighttime_start) |\n",
    "    (table_all['L2_local_suntime_hours'] <= nighttime_end)\n",
    "]\n",
    "daytime_cutouts = table_all[\n",
    "    (table_all['L2_local_suntime_hours'] <= nighttime_start) &\n",
    "    (table_all['L2_local_suntime_hours'] >= nighttime_end)\n",
    "]"
   ]
  },
  {
   "cell_type": "code",
   "execution_count": 32,
   "id": "6e2d969e",
   "metadata": {},
   "outputs": [],
   "source": [
    "filtered_data = nighttime_cutouts[nighttime_cutouts['LL_diff'] >= 100]\n",
    "random_sample = filtered_data.sample(n=10, random_state=42)\n",
    "pandas.set_option('display.max_colwidth', None)\n",
    "table = pandas.DataFrame(random_sample[['VIIRS_pp_file', \"VIIRS_pp_idx\", 'VIIRS_datetime', 'VIIRS_filename', 'VIIRS_row', 'VIIRS_col', 'row', 'col', 'lat', 'lon']])\n",
    "table.to_csv('higher_VIIRS_LL.csv', index=False)"
   ]
  },
  {
   "cell_type": "code",
   "execution_count": 33,
   "id": "613e4ce2",
   "metadata": {},
   "outputs": [],
   "source": [
    "filtered_data = nighttime_cutouts[nighttime_cutouts['LL_diff'] <= -100]\n",
    "random_sample = filtered_data.sample(n=10, random_state=42)\n",
    "pandas.set_option('display.max_colwidth', None)\n",
    "table = pandas.DataFrame(random_sample[['VIIRS_pp_file', \"VIIRS_pp_idx\", 'VIIRS_datetime', 'VIIRS_filename', 'VIIRS_row', 'VIIRS_col', 'row', 'col', 'lat', 'lon']])\n",
    "table.to_csv('higher_L3S_LL.csv', index=False)"
   ]
  },
  {
   "cell_type": "code",
   "execution_count": null,
   "id": "8b9ca012",
   "metadata": {},
   "outputs": [],
   "source": []
  }
 ],
 "metadata": {
  "kernelspec": {
   "display_name": "Python 3 (ipykernel)",
   "language": "python",
   "name": "python3"
  },
  "language_info": {
   "codemirror_mode": {
    "name": "ipython",
    "version": 3
   },
   "file_extension": ".py",
   "mimetype": "text/x-python",
   "name": "python",
   "nbconvert_exporter": "python",
   "pygments_lexer": "ipython3",
   "version": "3.10.11"
  }
 },
 "nbformat": 4,
 "nbformat_minor": 5
}
