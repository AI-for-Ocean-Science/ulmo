{
 "cells": [
  {
   "cell_type": "code",
   "execution_count": 1,
   "id": "559b1bf5-64ba-4948-b340-e4a1ba7509ee",
   "metadata": {},
   "outputs": [],
   "source": [
    "# in JupyterHub, plot difference in DT across globe between VIIRS and L3S\n",
    "# HealPix\n",
    "# once you can get geographic plots to work, everything else is just changing what you want to plot"
   ]
  },
  {
   "cell_type": "code",
   "execution_count": 1,
   "id": "b489ef18-833b-48e0-b7f4-5520a39697e8",
   "metadata": {},
   "outputs": [],
   "source": [
    "import xarray\n",
    "import numpy as np\n",
    "import pandas\n",
    "import h5py\n",
    "import datetime\n",
    "from ulmo.utils import image_utils\n",
    "from ulmo.plotting import plotting\n",
    "import matplotlib.pyplot as plt\n",
    "import seaborn as sns\n",
    "import os\n",
    "import healpy as hp\n",
    "# os.path.expanduser(\"~\")"
   ]
  },
  {
   "cell_type": "code",
   "execution_count": 2,
   "id": "fa3be74b-72f2-4ce8-b93f-d6052a876836",
   "metadata": {},
   "outputs": [],
   "source": [
    "# read in 2012 h5 file\n",
    "\n",
    "analysis_table = pandas.read_parquet('/home/jovyan/SST_L3S_VIIRS_2012.parquet')\n",
    "\n",
    "file_path = '/home/jovyan/L3S_VIIRS144_2012_preproc.h5'\n",
    "with h5py.File(file_path, 'r') as h5_file:\n",
    "    h5_extractions = h5_file['valid']"
   ]
  },
  {
   "cell_type": "code",
   "execution_count": 3,
   "id": "8690638b-ad03-4729-97a2-be07f0eb96cb",
   "metadata": {},
   "outputs": [
    {
     "data": {
      "text/html": [
       "<div>\n",
       "<style scoped>\n",
       "    .dataframe tbody tr th:only-of-type {\n",
       "        vertical-align: middle;\n",
       "    }\n",
       "\n",
       "    .dataframe tbody tr th {\n",
       "        vertical-align: top;\n",
       "    }\n",
       "\n",
       "    .dataframe thead th {\n",
       "        text-align: right;\n",
       "    }\n",
       "</style>\n",
       "<table border=\"1\" class=\"dataframe\">\n",
       "  <thead>\n",
       "    <tr style=\"text-align: right;\">\n",
       "      <th></th>\n",
       "      <th>VIIRS_datetime</th>\n",
       "      <th>datetime</th>\n",
       "    </tr>\n",
       "  </thead>\n",
       "  <tbody>\n",
       "    <tr>\n",
       "      <th>0</th>\n",
       "      <td>2012-02-01 00:10:00</td>\n",
       "      <td>2012-01-31 13:42:26</td>\n",
       "    </tr>\n",
       "    <tr>\n",
       "      <th>1</th>\n",
       "      <td>2012-02-01 00:10:00</td>\n",
       "      <td>2012-01-31 13:44:47</td>\n",
       "    </tr>\n",
       "    <tr>\n",
       "      <th>2</th>\n",
       "      <td>2012-02-01 00:10:00</td>\n",
       "      <td>2012-01-31 13:49:19</td>\n",
       "    </tr>\n",
       "    <tr>\n",
       "      <th>3</th>\n",
       "      <td>2012-02-01 00:10:00</td>\n",
       "      <td>2012-01-31 13:46:48</td>\n",
       "    </tr>\n",
       "    <tr>\n",
       "      <th>4</th>\n",
       "      <td>2012-02-01 00:10:00</td>\n",
       "      <td>2012-01-31 13:44:00</td>\n",
       "    </tr>\n",
       "    <tr>\n",
       "      <th>...</th>\n",
       "      <td>...</td>\n",
       "      <td>...</td>\n",
       "    </tr>\n",
       "    <tr>\n",
       "      <th>293937</th>\n",
       "      <td>2012-12-31 23:20:00</td>\n",
       "      <td>2012-12-31 04:04:45</td>\n",
       "    </tr>\n",
       "    <tr>\n",
       "      <th>293938</th>\n",
       "      <td>2012-12-31 23:20:00</td>\n",
       "      <td>2012-12-31 03:48:18</td>\n",
       "    </tr>\n",
       "    <tr>\n",
       "      <th>293939</th>\n",
       "      <td>2012-12-31 23:20:00</td>\n",
       "      <td>2012-12-31 03:47:34</td>\n",
       "    </tr>\n",
       "    <tr>\n",
       "      <th>293940</th>\n",
       "      <td>2012-12-31 23:20:00</td>\n",
       "      <td>2012-12-31 03:46:52</td>\n",
       "    </tr>\n",
       "    <tr>\n",
       "      <th>293941</th>\n",
       "      <td>2012-12-31 23:20:00</td>\n",
       "      <td>2012-12-31 03:46:09</td>\n",
       "    </tr>\n",
       "  </tbody>\n",
       "</table>\n",
       "<p>293942 rows × 2 columns</p>\n",
       "</div>"
      ],
      "text/plain": [
       "            VIIRS_datetime            datetime\n",
       "0      2012-02-01 00:10:00 2012-01-31 13:42:26\n",
       "1      2012-02-01 00:10:00 2012-01-31 13:44:47\n",
       "2      2012-02-01 00:10:00 2012-01-31 13:49:19\n",
       "3      2012-02-01 00:10:00 2012-01-31 13:46:48\n",
       "4      2012-02-01 00:10:00 2012-01-31 13:44:00\n",
       "...                    ...                 ...\n",
       "293937 2012-12-31 23:20:00 2012-12-31 04:04:45\n",
       "293938 2012-12-31 23:20:00 2012-12-31 03:48:18\n",
       "293939 2012-12-31 23:20:00 2012-12-31 03:47:34\n",
       "293940 2012-12-31 23:20:00 2012-12-31 03:46:52\n",
       "293941 2012-12-31 23:20:00 2012-12-31 03:46:09\n",
       "\n",
       "[293942 rows x 2 columns]"
      ]
     },
     "execution_count": 3,
     "metadata": {},
     "output_type": "execute_result"
    }
   ],
   "source": [
    "analysis_table[['VIIRS_datetime', 'datetime']]"
   ]
  },
  {
   "cell_type": "code",
   "execution_count": 4,
   "id": "7dfa6f53-6313-40b2-acc8-0127cb4a2cce",
   "metadata": {},
   "outputs": [],
   "source": [
    "file_path = '/home/jovyan/L3S_VIIRS144_2012_preproc.h5'\n",
    "with h5py.File(file_path, 'r+') as h5_file:\n",
    "    column_names = list(analysis_table.columns)\n",
    "    target_dataset = h5_file['valid_metadata']\n",
    "    df = pandas.DataFrame(target_dataset[:]).applymap(lambda x: x.decode() if isinstance(x, bytes) else x)\n",
    "    df.columns = column_names\n",
    "    \n",
    "    lat = df['lat'].values\n",
    "    lon = df['lon'].values\n",
    "    variable = h5_file['valid'][:]"
   ]
  },
  {
   "cell_type": "code",
   "execution_count": 35,
   "id": "e3e02d0b-514f-49e3-a65a-bc0d80e5716a",
   "metadata": {},
   "outputs": [
    {
     "ename": "TypeError",
     "evalue": "loop of ufunc does not support argument 0 of type str which has no callable radians method",
     "output_type": "error",
     "traceback": [
      "\u001b[0;31m---------------------------------------------------------------------------\u001b[0m",
      "\u001b[0;31mAttributeError\u001b[0m                            Traceback (most recent call last)",
      "\u001b[0;31mAttributeError\u001b[0m: 'str' object has no attribute 'radians'",
      "\nThe above exception was the direct cause of the following exception:\n",
      "\u001b[0;31mTypeError\u001b[0m                                 Traceback (most recent call last)",
      "Cell \u001b[0;32mIn[35], line 6\u001b[0m\n\u001b[1;32m      4\u001b[0m \u001b[38;5;66;03m# Create a map using the data\u001b[39;00m\n\u001b[1;32m      5\u001b[0m map_data \u001b[38;5;241m=\u001b[39m np\u001b[38;5;241m.\u001b[39mzeros(healpy\u001b[38;5;241m.\u001b[39mnside2npix(nside))\n\u001b[0;32m----> 6\u001b[0m pixel_indices \u001b[38;5;241m=\u001b[39m healpy\u001b[38;5;241m.\u001b[39mang2pix(nside, np\u001b[38;5;241m.\u001b[39mpi \u001b[38;5;241m/\u001b[39m \u001b[38;5;241m2\u001b[39m \u001b[38;5;241m-\u001b[39m \u001b[43mnp\u001b[49m\u001b[38;5;241;43m.\u001b[39;49m\u001b[43mradians\u001b[49m\u001b[43m(\u001b[49m\u001b[43mlat\u001b[49m\u001b[43m)\u001b[49m, np\u001b[38;5;241m.\u001b[39mradians(lon))\n\u001b[1;32m      7\u001b[0m map_data[pixel_indices] \u001b[38;5;241m=\u001b[39m variable[\u001b[38;5;124m'\u001b[39m\u001b[38;5;124mvalue\u001b[39m\u001b[38;5;124m'\u001b[39m]\n",
      "File \u001b[0;32m/opt/conda/lib/python3.10/site-packages/pandas/core/generic.py:2016\u001b[0m, in \u001b[0;36mNDFrame.__array_ufunc__\u001b[0;34m(self, ufunc, method, *inputs, **kwargs)\u001b[0m\n\u001b[1;32m   2012\u001b[0m \u001b[38;5;129m@final\u001b[39m\n\u001b[1;32m   2013\u001b[0m \u001b[38;5;28;01mdef\u001b[39;00m \u001b[38;5;21m__array_ufunc__\u001b[39m(\n\u001b[1;32m   2014\u001b[0m     \u001b[38;5;28mself\u001b[39m, ufunc: np\u001b[38;5;241m.\u001b[39mufunc, method: \u001b[38;5;28mstr\u001b[39m, \u001b[38;5;241m*\u001b[39minputs: Any, \u001b[38;5;241m*\u001b[39m\u001b[38;5;241m*\u001b[39mkwargs: Any\n\u001b[1;32m   2015\u001b[0m ):\n\u001b[0;32m-> 2016\u001b[0m     \u001b[38;5;28;01mreturn\u001b[39;00m \u001b[43marraylike\u001b[49m\u001b[38;5;241;43m.\u001b[39;49m\u001b[43marray_ufunc\u001b[49m\u001b[43m(\u001b[49m\u001b[38;5;28;43mself\u001b[39;49m\u001b[43m,\u001b[49m\u001b[43m \u001b[49m\u001b[43mufunc\u001b[49m\u001b[43m,\u001b[49m\u001b[43m \u001b[49m\u001b[43mmethod\u001b[49m\u001b[43m,\u001b[49m\u001b[43m \u001b[49m\u001b[38;5;241;43m*\u001b[39;49m\u001b[43minputs\u001b[49m\u001b[43m,\u001b[49m\u001b[43m \u001b[49m\u001b[38;5;241;43m*\u001b[39;49m\u001b[38;5;241;43m*\u001b[39;49m\u001b[43mkwargs\u001b[49m\u001b[43m)\u001b[49m\n",
      "File \u001b[0;32m/opt/conda/lib/python3.10/site-packages/pandas/core/arraylike.py:396\u001b[0m, in \u001b[0;36marray_ufunc\u001b[0;34m(self, ufunc, method, *inputs, **kwargs)\u001b[0m\n\u001b[1;32m    393\u001b[0m \u001b[38;5;28;01melif\u001b[39;00m \u001b[38;5;28mself\u001b[39m\u001b[38;5;241m.\u001b[39mndim \u001b[38;5;241m==\u001b[39m \u001b[38;5;241m1\u001b[39m:\n\u001b[1;32m    394\u001b[0m     \u001b[38;5;66;03m# ufunc(series, ...)\u001b[39;00m\n\u001b[1;32m    395\u001b[0m     inputs \u001b[38;5;241m=\u001b[39m \u001b[38;5;28mtuple\u001b[39m(extract_array(x, extract_numpy\u001b[38;5;241m=\u001b[39m\u001b[38;5;28;01mTrue\u001b[39;00m) \u001b[38;5;28;01mfor\u001b[39;00m x \u001b[38;5;129;01min\u001b[39;00m inputs)\n\u001b[0;32m--> 396\u001b[0m     result \u001b[38;5;241m=\u001b[39m \u001b[38;5;28;43mgetattr\u001b[39;49m\u001b[43m(\u001b[49m\u001b[43mufunc\u001b[49m\u001b[43m,\u001b[49m\u001b[43m \u001b[49m\u001b[43mmethod\u001b[49m\u001b[43m)\u001b[49m\u001b[43m(\u001b[49m\u001b[38;5;241;43m*\u001b[39;49m\u001b[43minputs\u001b[49m\u001b[43m,\u001b[49m\u001b[43m \u001b[49m\u001b[38;5;241;43m*\u001b[39;49m\u001b[38;5;241;43m*\u001b[39;49m\u001b[43mkwargs\u001b[49m\u001b[43m)\u001b[49m\n\u001b[1;32m    397\u001b[0m \u001b[38;5;28;01melse\u001b[39;00m:\n\u001b[1;32m    398\u001b[0m     \u001b[38;5;66;03m# ufunc(dataframe)\u001b[39;00m\n\u001b[1;32m    399\u001b[0m     \u001b[38;5;28;01mif\u001b[39;00m method \u001b[38;5;241m==\u001b[39m \u001b[38;5;124m\"\u001b[39m\u001b[38;5;124m__call__\u001b[39m\u001b[38;5;124m\"\u001b[39m \u001b[38;5;129;01mand\u001b[39;00m \u001b[38;5;129;01mnot\u001b[39;00m kwargs:\n\u001b[1;32m    400\u001b[0m         \u001b[38;5;66;03m# for np.<ufunc>(..) calls\u001b[39;00m\n\u001b[1;32m    401\u001b[0m         \u001b[38;5;66;03m# kwargs cannot necessarily be handled block-by-block, so only\u001b[39;00m\n\u001b[1;32m    402\u001b[0m         \u001b[38;5;66;03m# take this path if there are no kwargs\u001b[39;00m\n",
      "\u001b[0;31mTypeError\u001b[0m: loop of ufunc does not support argument 0 of type str which has no callable radians method"
     ]
    }
   ],
   "source": [
    "# Define the Healpix resolution (nside)\n",
    "nside = 64  # Example resolution, adjust as needed\n",
    "\n",
    "# Create a map using the data\n",
    "map_data = np.zeros(hp.nside2npix(nside))\n",
    "pixel_indices = hp.ang2pix(nside, np.pi / 2 - np.radians(lat), np.radians(lon))\n",
    "map_data[pixel_indices] = variable['value']"
   ]
  },
  {
   "cell_type": "code",
   "execution_count": null,
   "id": "b6b80218-8ea9-4e89-8fd1-ad1dce60dfc9",
   "metadata": {},
   "outputs": [],
   "source": [
    "# Plot the Healpix map\n",
    "hp.mollview(map_data, cmap='jet', title='Ocean Plot')\n",
    "hp.graticule()\n",
    "plt.show()"
   ]
  }
 ],
 "metadata": {
  "kernelspec": {
   "display_name": "Python 3 (ipykernel)",
   "language": "python",
   "name": "python3"
  },
  "language_info": {
   "codemirror_mode": {
    "name": "ipython",
    "version": 3
   },
   "file_extension": ".py",
   "mimetype": "text/x-python",
   "name": "python",
   "nbconvert_exporter": "python",
   "pygments_lexer": "ipython3",
   "version": "3.10.12"
  }
 },
 "nbformat": 4,
 "nbformat_minor": 5
}
