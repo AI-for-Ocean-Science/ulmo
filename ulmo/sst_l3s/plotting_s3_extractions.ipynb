{
 "cells": [
  {
   "cell_type": "code",
   "execution_count": 3,
   "id": "559b1bf5-64ba-4948-b340-e4a1ba7509ee",
   "metadata": {},
   "outputs": [],
   "source": [
    "# in JupyterHub, plot difference in DT across globe between VIIRS and L3S\n",
    "# HealPix\n",
    "# once you can get geographic plots to work, everything else is just changing what you want to plot"
   ]
  },
  {
   "cell_type": "code",
   "execution_count": 2,
   "id": "b489ef18-833b-48e0-b7f4-5520a39697e8",
   "metadata": {},
   "outputs": [],
   "source": [
    "import xarray\n",
    "import numpy as np\n",
    "import pandas\n",
    "import h5py\n",
    "import datetime\n",
    "from ulmo.utils import image_utils\n",
    "from ulmo.plotting import plotting\n",
    "import matplotlib.pyplot as plt\n",
    "import seaborn as sns\n",
    "import os\n",
    "import healpy as hp\n",
    "# os.path.expanduser(\"~\")"
   ]
  },
  {
   "cell_type": "code",
   "execution_count": 3,
   "id": "fa3be74b-72f2-4ce8-b93f-d6052a876836",
   "metadata": {},
   "outputs": [],
   "source": [
    "# read in 2012 h5 file\n",
    "\n",
    "analysis_table = pandas.read_parquet('/home/jovyan/SST_L3S_VIIRS_2012.parquet')\n",
    "\n",
    "file_path = '/home/jovyan/L3S_VIIRS144_2012_preproc.h5'\n",
    "with h5py.File(file_path, 'r') as h5_file:\n",
    "    h5_extractions = h5_file['valid']"
   ]
  },
  {
   "cell_type": "code",
   "execution_count": 32,
   "id": "58266f85-707d-4866-a474-e9a903f2ff14",
   "metadata": {
    "tags": []
   },
   "outputs": [
    {
     "data": {
      "text/plain": [
       "Index(['lat', 'lon'], dtype='object')"
      ]
     },
     "execution_count": 32,
     "metadata": {},
     "output_type": "execute_result"
    }
   ],
   "source": [
    "analysis_table.columns[[20,21]]"
   ]
  },
  {
   "cell_type": "code",
   "execution_count": 3,
   "id": "8690638b-ad03-4729-97a2-be07f0eb96cb",
   "metadata": {},
   "outputs": [
    {
     "data": {
      "text/html": [
       "<div>\n",
       "<style scoped>\n",
       "    .dataframe tbody tr th:only-of-type {\n",
       "        vertical-align: middle;\n",
       "    }\n",
       "\n",
       "    .dataframe tbody tr th {\n",
       "        vertical-align: top;\n",
       "    }\n",
       "\n",
       "    .dataframe thead th {\n",
       "        text-align: right;\n",
       "    }\n",
       "</style>\n",
       "<table border=\"1\" class=\"dataframe\">\n",
       "  <thead>\n",
       "    <tr style=\"text-align: right;\">\n",
       "      <th></th>\n",
       "      <th>VIIRS_datetime</th>\n",
       "      <th>datetime</th>\n",
       "    </tr>\n",
       "  </thead>\n",
       "  <tbody>\n",
       "    <tr>\n",
       "      <th>0</th>\n",
       "      <td>2012-02-01 00:10:00</td>\n",
       "      <td>2012-01-31 13:42:26</td>\n",
       "    </tr>\n",
       "    <tr>\n",
       "      <th>1</th>\n",
       "      <td>2012-02-01 00:10:00</td>\n",
       "      <td>2012-01-31 13:44:47</td>\n",
       "    </tr>\n",
       "    <tr>\n",
       "      <th>2</th>\n",
       "      <td>2012-02-01 00:10:00</td>\n",
       "      <td>2012-01-31 13:49:19</td>\n",
       "    </tr>\n",
       "    <tr>\n",
       "      <th>3</th>\n",
       "      <td>2012-02-01 00:10:00</td>\n",
       "      <td>2012-01-31 13:46:48</td>\n",
       "    </tr>\n",
       "    <tr>\n",
       "      <th>4</th>\n",
       "      <td>2012-02-01 00:10:00</td>\n",
       "      <td>2012-01-31 13:44:00</td>\n",
       "    </tr>\n",
       "    <tr>\n",
       "      <th>...</th>\n",
       "      <td>...</td>\n",
       "      <td>...</td>\n",
       "    </tr>\n",
       "    <tr>\n",
       "      <th>293937</th>\n",
       "      <td>2012-12-31 23:20:00</td>\n",
       "      <td>2012-12-31 04:04:45</td>\n",
       "    </tr>\n",
       "    <tr>\n",
       "      <th>293938</th>\n",
       "      <td>2012-12-31 23:20:00</td>\n",
       "      <td>2012-12-31 03:48:18</td>\n",
       "    </tr>\n",
       "    <tr>\n",
       "      <th>293939</th>\n",
       "      <td>2012-12-31 23:20:00</td>\n",
       "      <td>2012-12-31 03:47:34</td>\n",
       "    </tr>\n",
       "    <tr>\n",
       "      <th>293940</th>\n",
       "      <td>2012-12-31 23:20:00</td>\n",
       "      <td>2012-12-31 03:46:52</td>\n",
       "    </tr>\n",
       "    <tr>\n",
       "      <th>293941</th>\n",
       "      <td>2012-12-31 23:20:00</td>\n",
       "      <td>2012-12-31 03:46:09</td>\n",
       "    </tr>\n",
       "  </tbody>\n",
       "</table>\n",
       "<p>293942 rows × 2 columns</p>\n",
       "</div>"
      ],
      "text/plain": [
       "            VIIRS_datetime            datetime\n",
       "0      2012-02-01 00:10:00 2012-01-31 13:42:26\n",
       "1      2012-02-01 00:10:00 2012-01-31 13:44:47\n",
       "2      2012-02-01 00:10:00 2012-01-31 13:49:19\n",
       "3      2012-02-01 00:10:00 2012-01-31 13:46:48\n",
       "4      2012-02-01 00:10:00 2012-01-31 13:44:00\n",
       "...                    ...                 ...\n",
       "293937 2012-12-31 23:20:00 2012-12-31 04:04:45\n",
       "293938 2012-12-31 23:20:00 2012-12-31 03:48:18\n",
       "293939 2012-12-31 23:20:00 2012-12-31 03:47:34\n",
       "293940 2012-12-31 23:20:00 2012-12-31 03:46:52\n",
       "293941 2012-12-31 23:20:00 2012-12-31 03:46:09\n",
       "\n",
       "[293942 rows x 2 columns]"
      ]
     },
     "execution_count": 3,
     "metadata": {},
     "output_type": "execute_result"
    }
   ],
   "source": [
    "analysis_table[['VIIRS_datetime', 'datetime']]"
   ]
  },
  {
   "cell_type": "code",
   "execution_count": 4,
   "id": "e9afa564-8834-4081-9502-90850559b0b7",
   "metadata": {
    "tags": []
   },
   "outputs": [],
   "source": [
    "file_path = '/home/jovyan/L3S_VIIRS144_2012_preproc.h5'\n",
    "\n",
    "#with h5py.File(file_path, \"r\") as h5:\n",
    "#       data = h5[\"valid\"][:]"
   ]
  },
  {
   "cell_type": "code",
   "execution_count": 10,
   "id": "a4890817-032e-46ac-9778-30ed4699f109",
   "metadata": {
    "tags": []
   },
   "outputs": [],
   "source": [
    "with h5py.File(file_path, \"r\") as h5:\n",
    "        metadata = h5['valid_metadata'][:]"
   ]
  },
  {
   "cell_type": "code",
   "execution_count": 18,
   "id": "4872797a-fd8d-490d-a3e4-add996ca8569",
   "metadata": {
    "tags": []
   },
   "outputs": [],
   "source": [
    "data1 = data[0]\n",
    "metadata1 = metadata[0]"
   ]
  },
  {
   "cell_type": "code",
   "execution_count": 25,
   "id": "8691b8b1-db17-4f9b-b435-259d85100c9e",
   "metadata": {
    "tags": []
   },
   "outputs": [],
   "source": [
    "viirs_dt = float(metadata1[8])\n",
    "dt = float(metadata1[35])\n",
    "diff_dt = viirs_dt - dt"
   ]
  },
  {
   "cell_type": "code",
   "execution_count": 26,
   "id": "1fcb3f0b-c2c8-486c-991c-c02eccea1247",
   "metadata": {
    "tags": []
   },
   "outputs": [
    {
     "data": {
      "text/plain": [
       "0.972930908203125"
      ]
     },
     "execution_count": 26,
     "metadata": {},
     "output_type": "execute_result"
    }
   ],
   "source": [
    "# row 9 is VIIRS_DT, row 36 is DT\n",
    "diff_dt\n"
   ]
  },
  {
   "cell_type": "code",
   "execution_count": null,
   "id": "d3a0461b-814f-4a44-a914-9ec277d0df0a",
   "metadata": {},
   "outputs": [],
   "source": []
  },
  {
   "cell_type": "code",
   "execution_count": null,
   "id": "6e5f050b-4596-495d-a712-d5b723025551",
   "metadata": {},
   "outputs": [],
   "source": []
  },
  {
   "cell_type": "code",
   "execution_count": null,
   "id": "153ad6f5-8a50-4a3d-bca2-ffab16eea9ec",
   "metadata": {},
   "outputs": [],
   "source": []
  },
  {
   "cell_type": "code",
   "execution_count": 5,
   "id": "836d71e0-1a40-4c7d-bfb3-842fde9bd904",
   "metadata": {
    "tags": []
   },
   "outputs": [],
   "source": [
    "with h5py.File(file_path, \"r\") as h5:\n",
    "    metadata = h5[\"valid_metadata\"][:]  # Replace \"metadata\" with the dataset name containing metadata\n",
    "\n",
    "# Extract the 8th, 20th, 21st, and 35th indices for each cutout\n",
    "cutout_indices = metadata[:, [8, 20, 21, 35]]"
   ]
  },
  {
   "cell_type": "code",
   "execution_count": null,
   "id": "b3054191-f48f-471e-81a8-98b400264694",
   "metadata": {
    "tags": []
   },
   "outputs": [],
   "source": [
    "# Loop through each cutout entry and plot the subarray area centered at lat, lon\n",
    "nside = 64  # Adjust the nside to control the resolution of the map\n",
    "for i in range(len(cutout_indices)):\n",
    "    viirs_dt = float(cutout_indices[i, 0])\n",
    "    lat = float(cutout_indices[i, 1])\n",
    "    lon = float(cutout_indices[i, 2])\n",
    "    dt = float(cutout_indices[i, 3])\n",
    "    \n",
    "    healpix_map = np.zeros(hp.nside2npix(nside))\n",
    "    pix_index = hp.pixelfunc.ang2pix(nside, np.pi / 2 - np.radians(lat), np.radians(lon))\n",
    "    healpix_map[pix_index] = viirs_dt - dt  \n",
    "    hp.mollview(healpix_map, title=f\"Cutout {i+1}\", unit=\"Difference\", min=-2, max=2, cmap='coolwarm')\n",
    "    plt.close()"
   ]
  },
  {
   "cell_type": "code",
   "execution_count": 38,
   "id": "6ba68ad7-9c4a-4f36-93cf-5182852da3c0",
   "metadata": {
    "tags": []
   },
   "outputs": [
    {
     "data": {
      "text/plain": [
       "0.99853515625"
      ]
     },
     "execution_count": 38,
     "metadata": {},
     "output_type": "execute_result"
    }
   ],
   "source": [
    "plt.show()"
   ]
  },
  {
   "cell_type": "code",
   "execution_count": null,
   "id": "6bef7963-2ad3-4105-87eb-21c5c2eb0b91",
   "metadata": {},
   "outputs": [],
   "source": [
    "\n",
    "\n",
    "    # Create a Healpix map with the difference between viirs_dt and dt\n",
    "    healpix_map = np.zeros(hp.nside2npix(nside))\n",
    "    pix_index = hp.pixelfunc.ang2pix(nside, np.pi / 2 - np.radians(lat), np.radians(lon))\n",
    "    healpix_map[pix_index] = viirs_dt - dt\n",
    "\n",
    "    # Plot the subarray area centered at lat, lon using healpy\n",
    "    hp.mollview(healpix_map, title=f\"Cutout {i+1}\", unit=\"Difference\", min=-2, max=2, cmap='coolwarm')\n",
    "\n",
    "plt.show()\n",
    "In this code, we load the metadata from the h5 file, extract the 8th, 20th, 21st, and 35th indices for each cutout, and loop through each cutout entry. For each entry, we create a Healpix map (`\n",
    "\n",
    "\n"
   ]
  },
  {
   "cell_type": "code",
   "execution_count": null,
   "id": "b6b80218-8ea9-4e89-8fd1-ad1dce60dfc9",
   "metadata": {},
   "outputs": [],
   "source": [
    "#\n",
    "\n",
    "# Assuming the datasets are in the format (number_of_cutouts, 64, 64)\n",
    "# You may need to adjust the indices depending on the structure of your data\n",
    "viirs_dt_july_20 = viirs_dt_data[:, :, :]\n",
    "dt_july_20 = dt_data[:, :, :]\n",
    "\n",
    "# Step 3: Compute the difference\n",
    "difference = viirs_dt_july_20 - dt_july_20\n",
    "\n",
    "# Step 4: Plot the difference across the globe using healpy\n",
    "# Convert the difference to a Healpix map\n",
    "nside = 64  # Adjust the nside to control the resolution of the map\n",
    "healpix_map = hp.pixelfunc.ang2pix(nside, theta=np.pi / 2 - latitudes, phi=longitudes)\n",
    "\n",
    "# Assuming you have latitude and longitude values for each cutout\n",
    "# Replace latitudes and longitudes with the actual data\n",
    "# Make sure to convert them to radians if they are in degrees\n",
    "\n",
    "# Create the Healpix map with the difference values\n",
    "hp_difference = np.zeros(hp.nside2npix(nside))\n",
    "hp_difference[healpix_map] = difference\n",
    "\n",
    "# Plot the difference map using healpy\n",
    "hp.mollview(hp_difference, title=\"VIIRS_DT - DT Difference (July 20, 2020)\", unit=\"YourUnit\")\n",
    "plt.show()\n",
    "\n",
    "Plot the Healpix map\n",
    "hp.mollview(map_data, cmap='jet', title='Ocean Plot')\n",
    "hp.graticule()\n",
    "plt.show()"
   ]
  }
 ],
 "metadata": {
  "kernelspec": {
   "display_name": "Python 3 (ipykernel)",
   "language": "python",
   "name": "python3"
  },
  "language_info": {
   "codemirror_mode": {
    "name": "ipython",
    "version": 3
   },
   "file_extension": ".py",
   "mimetype": "text/x-python",
   "name": "python",
   "nbconvert_exporter": "python",
   "pygments_lexer": "ipython3",
   "version": "3.10.10"
  }
 },
 "nbformat": 4,
 "nbformat_minor": 5
}
