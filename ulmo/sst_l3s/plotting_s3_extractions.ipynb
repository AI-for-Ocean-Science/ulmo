{
 "cells": [
  {
   "cell_type": "code",
   "execution_count": 1,
   "id": "559b1bf5-64ba-4948-b340-e4a1ba7509ee",
   "metadata": {},
   "outputs": [],
   "source": [
    "# in JupyterHub, plot difference in DT across globe between VIIRS and L3S\n",
    "# HealPix\n",
    "# once you can get geographic plots to work, everything else is just changing what you want to plot"
   ]
  },
  {
   "cell_type": "code",
   "execution_count": 4,
   "id": "b489ef18-833b-48e0-b7f4-5520a39697e8",
   "metadata": {},
   "outputs": [],
   "source": [
    "import xarray\n",
    "import numpy as np\n",
    "import pandas\n",
    "import h5py\n",
    "import datetime\n",
    "from ulmo.utils import image_utils\n",
    "from ulmo.plotting import plotting\n",
    "import matplotlib.pyplot as plt\n",
    "import seaborn as sns\n",
    "import os\n",
    "import healpy as hp\n",
    "# os.path.expanduser(\"~\")\n",
    "import cartopy\n",
    "from ulmo.analysis.spatial_plots import evals_to_healpix, evals_to_healpix_stat, show_med_LL"
   ]
  },
  {
   "cell_type": "code",
   "execution_count": 10,
   "id": "fa3be74b-72f2-4ce8-b93f-d6052a876836",
   "metadata": {},
   "outputs": [],
   "source": [
    "# read in 2012 h5 file\n",
    "\n",
    "analysis_table = pandas.read_parquet('/home/jovyan/SST_L3S_VIIRS_2012.parquet')"
   ]
  },
  {
   "cell_type": "code",
   "execution_count": 12,
   "id": "3c382c2b-75b1-4558-b793-4c386af26a26",
   "metadata": {
    "tags": []
   },
   "outputs": [],
   "source": [
    "eval_tbl = analysis_table\n",
    "nside = 64"
   ]
  },
  {
   "cell_type": "code",
   "execution_count": 13,
   "id": "e7be2422-9758-4b32-b9f2-1b688d9ab236",
   "metadata": {
    "tags": []
   },
   "outputs": [],
   "source": [
    "hpma, hp_lons, hp_lats, hpma1 = evals_to_healpix_stat(eval_tbl, nside)"
   ]
  },
  {
   "cell_type": "code",
   "execution_count": 14,
   "id": "204d79d1-1c73-4ce3-81ec-d75219c7aefe",
   "metadata": {
    "tags": []
   },
   "outputs": [
    {
     "data": {
      "text/plain": [
       "masked_array(data=[--, --, 1.0, 1.0, 2.0, --, --, --, --, --, --, --, --,\n",
       "                   1.0, 1.0, --, --, --, --, 1.0, --, 1.0, 1.0, 8.0, 11.0,\n",
       "                   16.0, 28.0, 17.0, 21.0, 39.0, 65.0, 87.0, 106.0, 130.0,\n",
       "                   11.0, --, --, --, --, --, --, 5.0, --, --, --, --, --,\n",
       "                   --, --, 1.0, --, --, --, --, --, --, 1.0, --, 3.0, 2.0,\n",
       "                   2.0, --, --, --, --, --, --, --, --, --, 1.0, 2.0, 2.0,\n",
       "                   5.0, 9.0, 11.0, 20.0, 28.0, 31.0, 36.0, 55.0, 63.0,\n",
       "                   56.0, 56.0, 4.0, --, --, --, --, --, --, --, --, --,\n",
       "                   --, --, --, --, --, --],\n",
       "             mask=[ True,  True, False, False, False,  True,  True,  True,\n",
       "                    True,  True,  True,  True,  True, False, False,  True,\n",
       "                    True,  True,  True, False,  True, False, False, False,\n",
       "                   False, False, False, False, False, False, False, False,\n",
       "                   False, False, False,  True,  True,  True,  True,  True,\n",
       "                    True, False,  True,  True,  True,  True,  True,  True,\n",
       "                    True, False,  True,  True,  True,  True,  True,  True,\n",
       "                   False,  True, False, False, False,  True,  True,  True,\n",
       "                    True,  True,  True,  True,  True,  True, False, False,\n",
       "                   False, False, False, False, False, False, False, False,\n",
       "                   False, False, False, False, False,  True,  True,  True,\n",
       "                    True,  True,  True,  True,  True,  True,  True,  True,\n",
       "                    True,  True,  True,  True],\n",
       "       fill_value=-1.6375e+30)"
      ]
     },
     "execution_count": 14,
     "metadata": {},
     "output_type": "execute_result"
    }
   ],
   "source": [
    "hp_lons # healpix splits into equal area patches, longitudes of these patches\n",
    "hpma1 # median LL within the patches\n",
    "hpma1[20000:20100] # negative LL is rare\n",
    "hpma[20000:20100] # number of cutouts in the healpix patch"
   ]
  },
  {
   "cell_type": "code",
   "execution_count": 16,
   "id": "ed8bd2a7-e4f8-4f17-affe-fc9b0b222478",
   "metadata": {
    "tags": []
   },
   "outputs": [],
   "source": [
    "# show_med_LL(analysis_table) # repeats Healpix calculation and then plots w cartopy"
   ]
  },
  {
   "cell_type": "code",
   "execution_count": 8,
   "id": "e9afa564-8834-4081-9502-90850559b0b7",
   "metadata": {
    "tags": []
   },
   "outputs": [],
   "source": [
    "file_path = '/home/jovyan/L3S_VIIRS144_2012_preproc.h5'\n",
    "with h5py.File(file_path, \"r\") as h5:\n",
    "    data = h5['valid'][:]\n",
    "    metadata = h5['valid_metadata'][:]"
   ]
  },
  {
   "cell_type": "code",
   "execution_count": 9,
   "id": "dc4dfc0a-e320-4afe-b774-fb1a3bd8bfad",
   "metadata": {
    "tags": []
   },
   "outputs": [],
   "source": [
    "cutout_indices = metadata[:, [8, 20, 21, 33, 34]]\n",
    "decoded_data = [[float(item.decode('utf-8')) for item in row] for row in cutout_indices]\n",
    "column_names = ['VIIRS_DT', 'lat', 'lon', 'T90', 'T10']\n",
    "df = pandas.DataFrame(decoded_data, columns = column_names)\n",
    "\n",
    "df.loc[:,'DT'] = df.loc[:,'T90'] - df.loc[:,'T10']"
   ]
  },
  {
   "cell_type": "code",
   "execution_count": 10,
   "id": "5c61b300-7e1b-48d7-84ab-e892a4d7d708",
   "metadata": {
    "tags": []
   },
   "outputs": [
    {
     "data": {
      "text/plain": [
       "\"\\nnside = 8\\nnpix = hp.nside2npix(nside)\\n\\nnum_cutouts = len(df)\\n\\ncenter_lat_values = np.zeros(num_cutouts)\\ncenter_lon_values = np.zeros(num_cutouts)\\ndt_values = np.zeros(num_cutouts)\\n\\nfor i in range(num_cutouts):\\n    viirs_dt = float(df.iloc[i, 0])\\n    lat = float(df.iloc[i, 1])\\n    lon = float(df.iloc[i, 2])\\n    dt = float(df.iloc[i, 5])\\n\\n    center_lat_values[i] = lat\\n    center_lon_values[i] = lon\\n\\n    dt_values[i] = viirs_dt - dt\\n\\nhp_map = np.zeros(npix)\\nfor i in range(npix):\\n    hp_map[i] = np.mean(dt_values[i * (4096 // npix):(i + 1) * (4096 // npix)])\\nfig, ax = plt.subplots(subplot_kw={'projection': 'mollweide'})\\nim = ax.scatter(np.radians(center_lon_values), np.radians(center_lat_values), c=dt_values, cmap='viridis', s=4, linewidth=1, zorder=10, vmin = -2, vmax = 2)\\n# hp.cartview(hp_map, cmap='viridis', lonra=[-180, 180], latra=[-90, 90], cbar=False, hold=True)\\nax.set_title('Difference in VIIRS_DT and DT 2012')\\ncbar = plt.colorbar(im, ax=ax, orientation='horizontal')\\ncbar.set_label('VIIRS_DT - DT')\\n\\nplt.show()\\n\""
      ]
     },
     "execution_count": 10,
     "metadata": {},
     "output_type": "execute_result"
    }
   ],
   "source": [
    "# this makes a plot of DT difference using the h5 file\n",
    "\"\"\"\n",
    "nside = 8\n",
    "npix = hp.nside2npix(nside)\n",
    "\n",
    "num_cutouts = len(df)\n",
    "\n",
    "center_lat_values = np.zeros(num_cutouts)\n",
    "center_lon_values = np.zeros(num_cutouts)\n",
    "dt_values = np.zeros(num_cutouts)\n",
    "\n",
    "for i in range(num_cutouts):\n",
    "    viirs_dt = float(df.iloc[i, 0])\n",
    "    lat = float(df.iloc[i, 1])\n",
    "    lon = float(df.iloc[i, 2])\n",
    "    dt = float(df.iloc[i, 5])\n",
    "\n",
    "    center_lat_values[i] = lat\n",
    "    center_lon_values[i] = lon\n",
    "\n",
    "    dt_values[i] = viirs_dt - dt\n",
    "\n",
    "hp_map = np.zeros(npix)\n",
    "for i in range(npix):\n",
    "    hp_map[i] = np.mean(dt_values[i * (4096 // npix):(i + 1) * (4096 // npix)])\n",
    "fig, ax = plt.subplots(subplot_kw={'projection': 'mollweide'})\n",
    "im = ax.scatter(np.radians(center_lon_values), np.radians(center_lat_values), c=dt_values, cmap='viridis', s=4, linewidth=1, zorder=10, vmin = -2, vmax = 2)\n",
    "# hp.cartview(hp_map, cmap='viridis', lonra=[-180, 180], latra=[-90, 90], cbar=False, hold=True)\n",
    "ax.set_title('Difference in VIIRS_DT and DT 2012')\n",
    "cbar = plt.colorbar(im, ax=ax, orientation='horizontal')\n",
    "cbar.set_label('VIIRS_DT - DT')\n",
    "\n",
    "plt.show()\n",
    "\"\"\""
   ]
  },
  {
   "cell_type": "code",
   "execution_count": 11,
   "id": "f7056539-1b4f-49a3-a3b3-0f7146adad62",
   "metadata": {
    "tags": []
   },
   "outputs": [
    {
     "data": {
      "text/plain": [
       "\"\\nnside = 8\\nnpix = hp.nside2npix(nside)\\n\\ncutout_indices = analysis_table.iloc[:, [8, 20, 21, 36]]\\nnum_cutouts = len(cutout_indices)\\n\\ncenter_lat_values = np.zeros(num_cutouts)\\ncenter_lon_values = np.zeros(num_cutouts)\\ndt_values = np.zeros(num_cutouts)\\n\\nfor i in range(num_cutouts):\\n    viirs_dt = float(cutout_indices.iloc[i, 0])\\n    lat = float(cutout_indices.iloc[i, 1])\\n    lon = float(cutout_indices.iloc[i, 2])\\n    dt = float(cutout_indices.iloc[i, 3])\\n\\n    center_lat_values[i] = lat\\n    center_lon_values[i] = lon\\n\\n    dt_values[i] = viirs_dt - dt\\n    \\nhp_map = np.zeros(npix)\\nfor i in range(npix):\\n    hp_map[i] = np.mean(dt_values[i * (4096 // npix):(i + 1) * (4096 // npix)])\\n\\nfig, ax = plt.subplots(subplot_kw={'projection': 'mollweide'})\\nim = ax.scatter(np.radians(center_lon_values), np.radians(center_lat_values), c=dt_values, cmap='viridis', s=4, linewidth=1, zorder=10, vmin = -2, vmax = 2)\\nax.set_title('Difference in VIIRS_DT and DT 2012')\\ncbar = plt.colorbar(im, ax=ax, orientation='horizontal')\\ncbar.set_label('VIIRS_DT - DT')\\n\\nplt.show()\\n\""
      ]
     },
     "execution_count": 11,
     "metadata": {},
     "output_type": "execute_result"
    }
   ],
   "source": [
    "# this makes plot of DT difference using analyis table\n",
    "# I am only plotting a point at the lat/lon, so it doesn't matter which method right now but the h5 does not have LL so good to have both methods\n",
    "\n",
    "\"\"\"\n",
    "nside = 8\n",
    "npix = hp.nside2npix(nside)\n",
    "\n",
    "cutout_indices = analysis_table.iloc[:, [8, 20, 21, 36]]\n",
    "num_cutouts = len(cutout_indices)\n",
    "\n",
    "center_lat_values = np.zeros(num_cutouts)\n",
    "center_lon_values = np.zeros(num_cutouts)\n",
    "dt_values = np.zeros(num_cutouts)\n",
    "\n",
    "for i in range(num_cutouts):\n",
    "    viirs_dt = float(cutout_indices.iloc[i, 0])\n",
    "    lat = float(cutout_indices.iloc[i, 1])\n",
    "    lon = float(cutout_indices.iloc[i, 2])\n",
    "    dt = float(cutout_indices.iloc[i, 3])\n",
    "\n",
    "    center_lat_values[i] = lat\n",
    "    center_lon_values[i] = lon\n",
    "\n",
    "    dt_values[i] = viirs_dt - dt\n",
    "    \n",
    "hp_map = np.zeros(npix)\n",
    "for i in range(npix):\n",
    "    hp_map[i] = np.mean(dt_values[i * (4096 // npix):(i + 1) * (4096 // npix)])\n",
    "\n",
    "fig, ax = plt.subplots(subplot_kw={'projection': 'mollweide'})\n",
    "im = ax.scatter(np.radians(center_lon_values), np.radians(center_lat_values), c=dt_values, cmap='viridis', s=4, linewidth=1, zorder=10, vmin = -2, vmax = 2)\n",
    "ax.set_title('Difference in VIIRS_DT and DT 2012')\n",
    "cbar = plt.colorbar(im, ax=ax, orientation='horizontal')\n",
    "cbar.set_label('VIIRS_DT - DT')\n",
    "\n",
    "plt.show()\n",
    "\"\"\""
   ]
  },
  {
   "cell_type": "code",
   "execution_count": 12,
   "id": "fc22077a-3cd2-4fc8-9eb9-dd6617c59332",
   "metadata": {
    "tags": []
   },
   "outputs": [
    {
     "name": "stdout",
     "output_type": "stream",
     "text": [
      "Minimum value: -10.709991455078125\n",
      "Maximum value: 9.07000732421875\n",
      "Mean: 0.10928955424229445\n",
      "Standard Deviation: 0.8288329603954461\n"
     ]
    },
    {
     "name": "stderr",
     "output_type": "stream",
     "text": [
      "/tmp/ipykernel_690/2307269794.py:4: SettingWithCopyWarning: \n",
      "A value is trying to be set on a copy of a slice from a DataFrame.\n",
      "Try using .loc[row_indexer,col_indexer] = value instead\n",
      "\n",
      "See the caveats in the documentation: https://pandas.pydata.org/pandas-docs/stable/user_guide/indexing.html#returning-a-view-versus-a-copy\n",
      "  cutout_indices.loc[:,'diff_dt'] = cutout_indices.loc[:,'VIIRS_DT'] - cutout_indices.loc[:,'DT']\n"
     ]
    }
   ],
   "source": [
    "# look at difference in DT\n",
    "\n",
    "cutout_indices = analysis_table.iloc[:, [8, 20, 21, 36]]\n",
    "cutout_indices.loc[:,'diff_dt'] = cutout_indices.loc[:,'VIIRS_DT'] - cutout_indices.loc[:,'DT']\n",
    "\n",
    "print(\"Minimum value:\", np.min(cutout_indices.loc[:,'diff_dt']))\n",
    "print(\"Maximum value:\", np.max(cutout_indices.loc[:,'diff_dt']))\n",
    "print(\"Mean:\", np.mean(cutout_indices.loc[:,'diff_dt']))\n",
    "print(\"Standard Deviation:\", np.std(cutout_indices.loc[:,'diff_dt']))"
   ]
  },
  {
   "cell_type": "code",
   "execution_count": 13,
   "id": "34a1ebc7-6985-4555-ad26-0776e61ed166",
   "metadata": {
    "tags": []
   },
   "outputs": [],
   "source": [
    "diff_dt = cutout_indices.loc[:,'diff_dt']\n",
    "threshold = np.mean(diff_dt) + 3 * np.std(diff_dt)\n",
    "filtered_values = diff_dt[diff_dt > threshold]\n",
    "# np.mean(filtered_values) # most of the values are between the 2nd and 3rd deviations above mean\n",
    "# filtered_values\n",
    "# 3063 below three sds, 2052 above\n",
    "# VIIRS_DT is more likely to be smaller ? "
   ]
  },
  {
   "cell_type": "code",
   "execution_count": 14,
   "id": "36306638-2082-4c48-8a58-6c0cf59ce585",
   "metadata": {
    "tags": []
   },
   "outputs": [],
   "source": [
    "# cutout with largest difference: -10.7099\n",
    "\n",
    "cutout_indices.loc[:,'diff_dt'] = cutout_indices.loc[:,'VIIRS_DT'] - cutout_indices.loc[:,'DT']\n",
    "\n",
    "close_ex = cutout_indices.loc[8]\n",
    "# far_ex = cutout_indices.loc[cutout_indices['diff_dt'] < -10.7]\n",
    "far_ex = cutout_indices.loc[94852]\n",
    "\n",
    "# see notebook entitled 's3_images' for plots"
   ]
  },
  {
   "cell_type": "code",
   "execution_count": 15,
   "id": "ea770c6b-75c4-46ba-b6ab-3610ee589d3d",
   "metadata": {
    "tags": []
   },
   "outputs": [
    {
     "data": {
      "text/plain": [
       "VIIRS_DT      0.419983\n",
       "lat          21.487778\n",
       "lon        -175.995350\n",
       "DT            0.510010\n",
       "diff_dt      -0.090027\n",
       "Name: 8, dtype: float64"
      ]
     },
     "execution_count": 15,
     "metadata": {},
     "output_type": "execute_result"
    }
   ],
   "source": [
    "close_ex"
   ]
  },
  {
   "cell_type": "code",
   "execution_count": 16,
   "id": "6f004816-af1f-439f-9604-796d24c43a81",
   "metadata": {
    "tags": []
   },
   "outputs": [
    {
     "data": {
      "text/plain": [
       "VIIRS_DT     1.850006\n",
       "lat         39.218983\n",
       "lon        -69.083350\n",
       "DT          12.559998\n",
       "diff_dt    -10.709991\n",
       "Name: 94852, dtype: float64"
      ]
     },
     "execution_count": 16,
     "metadata": {},
     "output_type": "execute_result"
    }
   ],
   "source": [
    "far_ex"
   ]
  },
  {
   "cell_type": "code",
   "execution_count": 17,
   "id": "90f7fee6-214d-4e90-b60b-3bd73cd57201",
   "metadata": {
    "tags": []
   },
   "outputs": [
    {
     "data": {
      "text/plain": [
       "'s3://viirs/data/2012/132/20120511061000-OSPO-L2P_GHRSST-SSTsubskin-VIIRS_NPP-ACSPO_V2.61-v02.0-fv01.0.nc'"
      ]
     },
     "execution_count": 17,
     "metadata": {},
     "output_type": "execute_result"
    }
   ],
   "source": [
    "analysis_table.loc[94852]['VIIRS_filename']"
   ]
  },
  {
   "cell_type": "code",
   "execution_count": 18,
   "id": "11a0462b-bee9-4b0e-88d1-001b028b1f2a",
   "metadata": {
    "tags": []
   },
   "outputs": [
    {
     "data": {
      "text/plain": [
       "\"\\nnside = 8\\nnpix = hp.nside2npix(nside)\\n\\ncutout_indices = analysis_table.iloc[:, [20, 21, 3, 37]]\\nnum_cutouts = len(cutout_indices)\\n\\ncenter_lat_values = np.zeros(num_cutouts)\\ncenter_lon_values = np.zeros(num_cutouts)\\nviirs_ll_values = np.zeros(num_cutouts)\\nll_values = np.zeros(num_cutouts)\\n\\nfor i in range(num_cutouts):\\n    lat = cutout_indices.iloc[i,0]\\n    lon = cutout_indices.iloc[i,1]\\n    viirs_ll = cutout_indices.iloc[i,2]\\n    ll  = cutout_indices.iloc[i,3]\\n    \\n    center_lat_values[i] = lat\\n    center_lon_values[i] = lon\\n    viirs_ll_values[i] = viirs_ll\\n    ll_values[i] = ll\\n    \\ncombined_values = np.concatenate((viirs_ll_values, ll_values))\\nvmin = np.min(combined_values)\\nvmax = np.max(combined_values)\\n\\nviirs_ll_map = np.zeros(npix)\\nll_map = np.zeros(npix)\\nfor i in range(npix):\\n    viirs_ll_map[i] = np.mean(viirs_ll_values[i * (4096 // npix):(i + 1) * (4096 // npix)])\\n    ll_map[i] = np.mean(ll_values[i * (4096 // npix):(i + 1) * (4096 // npix)])\\n\\nfig, (ax1, ax2) = plt.subplots(1, 2, figsize=(15, 6), subplot_kw={'projection': 'mollweide'})\\n\\nim1 = ax1.scatter(np.radians(center_lon_values), np.radians(center_lat_values), c=viirs_ll_values, cmap='viridis', s=4, linewidth=1, zorder=10, vmin=vmin, vmax=vmax)\\nax1.set_title('VIIRS_LL 2012')\\ncbar1 = plt.colorbar(im1, ax=ax1, orientation='horizontal')\\ncbar1.set_label('VIIRS_LL')\\n\\nim2 = ax2.scatter(np.radians(center_lon_values), np.radians(center_lat_values), c=ll_values, cmap='viridis', s=4, linewidth=1, zorder=10,vmin=vmin, vmax=vmax)\\nax2.set_title('LL 2012')\\ncbar2 = plt.colorbar(im2, ax=ax2, orientation='horizontal')\\ncbar2.set_label('LL')\\n\\nplt.tight_layout()\\nplt.show()\\n\""
      ]
     },
     "execution_count": 18,
     "metadata": {},
     "output_type": "execute_result"
    }
   ],
   "source": [
    "# plot log likelihoods side by side\n",
    "\n",
    "\"\"\"\n",
    "nside = 8\n",
    "npix = hp.nside2npix(nside)\n",
    "\n",
    "cutout_indices = analysis_table.iloc[:, [20, 21, 3, 37]]\n",
    "num_cutouts = len(cutout_indices)\n",
    "\n",
    "center_lat_values = np.zeros(num_cutouts)\n",
    "center_lon_values = np.zeros(num_cutouts)\n",
    "viirs_ll_values = np.zeros(num_cutouts)\n",
    "ll_values = np.zeros(num_cutouts)\n",
    "\n",
    "for i in range(num_cutouts):\n",
    "    lat = cutout_indices.iloc[i,0]\n",
    "    lon = cutout_indices.iloc[i,1]\n",
    "    viirs_ll = cutout_indices.iloc[i,2]\n",
    "    ll  = cutout_indices.iloc[i,3]\n",
    "    \n",
    "    center_lat_values[i] = lat\n",
    "    center_lon_values[i] = lon\n",
    "    viirs_ll_values[i] = viirs_ll\n",
    "    ll_values[i] = ll\n",
    "    \n",
    "combined_values = np.concatenate((viirs_ll_values, ll_values))\n",
    "vmin = np.min(combined_values)\n",
    "vmax = np.max(combined_values)\n",
    "\n",
    "viirs_ll_map = np.zeros(npix)\n",
    "ll_map = np.zeros(npix)\n",
    "for i in range(npix):\n",
    "    viirs_ll_map[i] = np.mean(viirs_ll_values[i * (4096 // npix):(i + 1) * (4096 // npix)])\n",
    "    ll_map[i] = np.mean(ll_values[i * (4096 // npix):(i + 1) * (4096 // npix)])\n",
    "\n",
    "fig, (ax1, ax2) = plt.subplots(1, 2, figsize=(15, 6), subplot_kw={'projection': 'mollweide'})\n",
    "\n",
    "im1 = ax1.scatter(np.radians(center_lon_values), np.radians(center_lat_values), c=viirs_ll_values, cmap='viridis', s=4, linewidth=1, zorder=10, vmin=vmin, vmax=vmax)\n",
    "ax1.set_title('VIIRS_LL 2012')\n",
    "cbar1 = plt.colorbar(im1, ax=ax1, orientation='horizontal')\n",
    "cbar1.set_label('VIIRS_LL')\n",
    "\n",
    "im2 = ax2.scatter(np.radians(center_lon_values), np.radians(center_lat_values), c=ll_values, cmap='viridis', s=4, linewidth=1, zorder=10,vmin=vmin, vmax=vmax)\n",
    "ax2.set_title('LL 2012')\n",
    "cbar2 = plt.colorbar(im2, ax=ax2, orientation='horizontal')\n",
    "cbar2.set_label('LL')\n",
    "\n",
    "plt.tight_layout()\n",
    "plt.show()\n",
    "\"\"\""
   ]
  },
  {
   "cell_type": "code",
   "execution_count": 19,
   "id": "9c311f0b-79b2-40f2-844e-2f187591af18",
   "metadata": {
    "tags": []
   },
   "outputs": [
    {
     "data": {
      "text/plain": [
       "\"\\nnside = 8\\nnpix = hp.nside2npix(nside)\\n\\ncutout_indices = analysis_table.iloc[:, [20, 21, 3, 37]]\\nnum_cutouts = len(cutout_indices)\\n\\ncenter_lat_values = np.zeros(num_cutouts)\\ncenter_lon_values = np.zeros(num_cutouts)\\nviirs_ll_values = np.zeros(num_cutouts)\\nll_values = np.zeros(num_cutouts)\\n\\nfor i in range(num_cutouts):\\n    lat = cutout_indices.iloc[i,0]\\n    lon = cutout_indices.iloc[i,1]\\n    viirs_ll = cutout_indices.iloc[i,2]\\n    ll  = cutout_indices.iloc[i,3]\\n    \\n    center_lat_values[i] = lat\\n    center_lon_values[i] = lon\\n    viirs_ll_values[i] = viirs_ll\\n    ll_values[i] = ll\\n\\nviirs_ll_map = np.zeros(npix)\\nll_map = np.zeros(npix)\\nfor i in range(npix):\\n    viirs_ll_map[i] = np.mean(viirs_ll_values[i * (4096 // npix):(i + 1) * (4096 // npix)])\\n    ll_map[i] = np.mean(ll_values[i * (4096 // npix):(i + 1) * (4096 // npix)])\\n\\nfig, (ax1, ax2) = plt.subplots(1, 2, figsize=(15, 6), subplot_kw={'projection': 'mollweide'})\\n\\nim1 = ax1.scatter(np.radians(center_lon_values), np.radians(center_lat_values), c=viirs_ll_values, cmap='viridis', s=4, linewidth=1, zorder=10)\\nax1.set_title('VIIRS_LL 2012')\\ncbar1 = plt.colorbar(im1, ax=ax1, orientation='horizontal')\\ncbar1.set_label('VIIRS_LL')\\n\\nim2 = ax2.scatter(np.radians(center_lon_values), np.radians(center_lat_values), c=ll_values, cmap='viridis', s=4, linewidth=1, zorder=10)\\nax2.set_title('LL 2012')\\ncbar2 = plt.colorbar(im2, ax=ax2, orientation='horizontal')\\ncbar2.set_label('LL')\\n\\nplt.tight_layout()\\nplt.show()\\n\""
      ]
     },
     "execution_count": 19,
     "metadata": {},
     "output_type": "execute_result"
    }
   ],
   "source": [
    "# plot log likelihoods side by side\n",
    "\n",
    "\"\"\"\n",
    "nside = 8\n",
    "npix = hp.nside2npix(nside)\n",
    "\n",
    "cutout_indices = analysis_table.iloc[:, [20, 21, 3, 37]]\n",
    "num_cutouts = len(cutout_indices)\n",
    "\n",
    "center_lat_values = np.zeros(num_cutouts)\n",
    "center_lon_values = np.zeros(num_cutouts)\n",
    "viirs_ll_values = np.zeros(num_cutouts)\n",
    "ll_values = np.zeros(num_cutouts)\n",
    "\n",
    "for i in range(num_cutouts):\n",
    "    lat = cutout_indices.iloc[i,0]\n",
    "    lon = cutout_indices.iloc[i,1]\n",
    "    viirs_ll = cutout_indices.iloc[i,2]\n",
    "    ll  = cutout_indices.iloc[i,3]\n",
    "    \n",
    "    center_lat_values[i] = lat\n",
    "    center_lon_values[i] = lon\n",
    "    viirs_ll_values[i] = viirs_ll\n",
    "    ll_values[i] = ll\n",
    "\n",
    "viirs_ll_map = np.zeros(npix)\n",
    "ll_map = np.zeros(npix)\n",
    "for i in range(npix):\n",
    "    viirs_ll_map[i] = np.mean(viirs_ll_values[i * (4096 // npix):(i + 1) * (4096 // npix)])\n",
    "    ll_map[i] = np.mean(ll_values[i * (4096 // npix):(i + 1) * (4096 // npix)])\n",
    "\n",
    "fig, (ax1, ax2) = plt.subplots(1, 2, figsize=(15, 6), subplot_kw={'projection': 'mollweide'})\n",
    "\n",
    "im1 = ax1.scatter(np.radians(center_lon_values), np.radians(center_lat_values), c=viirs_ll_values, cmap='viridis', s=4, linewidth=1, zorder=10)\n",
    "ax1.set_title('VIIRS_LL 2012')\n",
    "cbar1 = plt.colorbar(im1, ax=ax1, orientation='horizontal')\n",
    "cbar1.set_label('VIIRS_LL')\n",
    "\n",
    "im2 = ax2.scatter(np.radians(center_lon_values), np.radians(center_lat_values), c=ll_values, cmap='viridis', s=4, linewidth=1, zorder=10)\n",
    "ax2.set_title('LL 2012')\n",
    "cbar2 = plt.colorbar(im2, ax=ax2, orientation='horizontal')\n",
    "cbar2.set_label('LL')\n",
    "\n",
    "plt.tight_layout()\n",
    "plt.show()\n",
    "\"\"\""
   ]
  },
  {
   "cell_type": "code",
   "execution_count": 20,
   "id": "8b1c41e8-bb74-4ed6-b607-66903f8860eb",
   "metadata": {
    "tags": []
   },
   "outputs": [
    {
     "name": "stdout",
     "output_type": "stream",
     "text": [
      "VIIRS Minimum value: -7527.6396484375\n",
      "VIIRS Maximum value: 1136.343017578125\n",
      "VIIRS Mean: 236.72816\n",
      "VIIRS Standard Deviation: 286.133056640625\n",
      "L3S Minimum value: -12129.490234375\n",
      "L3S Maximum value: 1142.1265869140625\n",
      "L3S Mean: 307.61035079559497\n",
      "L3S Standard Deviation: 302.9994250357969\n"
     ]
    }
   ],
   "source": [
    "print(\"VIIRS Minimum value:\", np.min(analysis_table.loc[:,'VIIRS_LL']))\n",
    "print(\"VIIRS Maximum value:\", np.max(analysis_table.loc[:,'VIIRS_LL']))\n",
    "print(\"VIIRS Mean:\", np.mean(analysis_table.loc[:,'VIIRS_LL']))\n",
    "print(\"VIIRS Standard Deviation:\", np.std(analysis_table.loc[:,'VIIRS_LL']))\n",
    "\n",
    "print(\"L3S Minimum value:\", np.min(analysis_table.loc[:,'LL']))\n",
    "print(\"L3S Maximum value:\", np.max(analysis_table.loc[:,'LL']))\n",
    "print(\"L3S Mean:\", np.mean(analysis_table.loc[:,'LL']))\n",
    "print(\"L3S Standard Deviation:\", np.std(analysis_table.loc[:,'LL']))"
   ]
  }
 ],
 "metadata": {
  "kernelspec": {
   "display_name": "Python 3 (ipykernel)",
   "language": "python",
   "name": "python3"
  },
  "language_info": {
   "codemirror_mode": {
    "name": "ipython",
    "version": 3
   },
   "file_extension": ".py",
   "mimetype": "text/x-python",
   "name": "python",
   "nbconvert_exporter": "python",
   "pygments_lexer": "ipython3",
   "version": "3.10.10"
  }
 },
 "nbformat": 4,
 "nbformat_minor": 5
}
