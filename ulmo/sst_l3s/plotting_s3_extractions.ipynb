{
 "cells": [
  {
   "cell_type": "code",
   "execution_count": 1,
   "id": "559b1bf5-64ba-4948-b340-e4a1ba7509ee",
   "metadata": {},
   "outputs": [],
   "source": [
    "# in JupyterHub, plot difference in DT across globe between VIIRS and L3S\n",
    "# HealPix\n",
    "# once you can get geographic plots to work, everything else is just changing what you want to plot"
   ]
  },
  {
   "cell_type": "code",
   "execution_count": 2,
   "id": "b489ef18-833b-48e0-b7f4-5520a39697e8",
   "metadata": {},
   "outputs": [],
   "source": [
    "import xarray\n",
    "import numpy as np\n",
    "import pandas\n",
    "import h5py\n",
    "import datetime\n",
    "from ulmo.utils import image_utils\n",
    "from ulmo.plotting import plotting\n",
    "import matplotlib.pyplot as plt\n",
    "import seaborn as sns\n",
    "import os\n",
    "import healpy as hp\n",
    "# os.path.expanduser(\"~\")"
   ]
  },
  {
   "cell_type": "code",
   "execution_count": 3,
   "id": "fa3be74b-72f2-4ce8-b93f-d6052a876836",
   "metadata": {},
   "outputs": [],
   "source": [
    "# read in 2012 h5 file\n",
    "\n",
    "analysis_table = pandas.read_parquet('/home/jovyan/SST_L3S_VIIRS_2012.parquet')\n",
    "\n",
    "file_path = '/home/jovyan/L3S_VIIRS144_2012_preproc.h5'\n",
    "with h5py.File(file_path, 'r') as h5_file:\n",
    "    h5_extractions = h5_file['valid']"
   ]
  },
  {
   "cell_type": "code",
   "execution_count": 4,
   "id": "58266f85-707d-4866-a474-e9a903f2ff14",
   "metadata": {
    "tags": []
   },
   "outputs": [
    {
     "data": {
      "text/plain": [
       "Index(['lat', 'lon'], dtype='object')"
      ]
     },
     "execution_count": 4,
     "metadata": {},
     "output_type": "execute_result"
    }
   ],
   "source": [
    "analysis_table.columns[[20,21]]"
   ]
  },
  {
   "cell_type": "code",
   "execution_count": 5,
   "id": "8690638b-ad03-4729-97a2-be07f0eb96cb",
   "metadata": {},
   "outputs": [
    {
     "data": {
      "text/html": [
       "<div>\n",
       "<style scoped>\n",
       "    .dataframe tbody tr th:only-of-type {\n",
       "        vertical-align: middle;\n",
       "    }\n",
       "\n",
       "    .dataframe tbody tr th {\n",
       "        vertical-align: top;\n",
       "    }\n",
       "\n",
       "    .dataframe thead th {\n",
       "        text-align: right;\n",
       "    }\n",
       "</style>\n",
       "<table border=\"1\" class=\"dataframe\">\n",
       "  <thead>\n",
       "    <tr style=\"text-align: right;\">\n",
       "      <th></th>\n",
       "      <th>VIIRS_datetime</th>\n",
       "      <th>datetime</th>\n",
       "    </tr>\n",
       "  </thead>\n",
       "  <tbody>\n",
       "    <tr>\n",
       "      <th>0</th>\n",
       "      <td>2012-02-01 00:10:00</td>\n",
       "      <td>2012-01-31 13:42:26</td>\n",
       "    </tr>\n",
       "    <tr>\n",
       "      <th>1</th>\n",
       "      <td>2012-02-01 00:10:00</td>\n",
       "      <td>2012-01-31 13:44:47</td>\n",
       "    </tr>\n",
       "    <tr>\n",
       "      <th>2</th>\n",
       "      <td>2012-02-01 00:10:00</td>\n",
       "      <td>2012-01-31 13:49:19</td>\n",
       "    </tr>\n",
       "    <tr>\n",
       "      <th>3</th>\n",
       "      <td>2012-02-01 00:10:00</td>\n",
       "      <td>2012-01-31 13:46:48</td>\n",
       "    </tr>\n",
       "    <tr>\n",
       "      <th>4</th>\n",
       "      <td>2012-02-01 00:10:00</td>\n",
       "      <td>2012-01-31 13:44:00</td>\n",
       "    </tr>\n",
       "    <tr>\n",
       "      <th>...</th>\n",
       "      <td>...</td>\n",
       "      <td>...</td>\n",
       "    </tr>\n",
       "    <tr>\n",
       "      <th>293937</th>\n",
       "      <td>2012-12-31 23:20:00</td>\n",
       "      <td>2012-12-31 04:04:45</td>\n",
       "    </tr>\n",
       "    <tr>\n",
       "      <th>293938</th>\n",
       "      <td>2012-12-31 23:20:00</td>\n",
       "      <td>2012-12-31 03:48:18</td>\n",
       "    </tr>\n",
       "    <tr>\n",
       "      <th>293939</th>\n",
       "      <td>2012-12-31 23:20:00</td>\n",
       "      <td>2012-12-31 03:47:34</td>\n",
       "    </tr>\n",
       "    <tr>\n",
       "      <th>293940</th>\n",
       "      <td>2012-12-31 23:20:00</td>\n",
       "      <td>2012-12-31 03:46:52</td>\n",
       "    </tr>\n",
       "    <tr>\n",
       "      <th>293941</th>\n",
       "      <td>2012-12-31 23:20:00</td>\n",
       "      <td>2012-12-31 03:46:09</td>\n",
       "    </tr>\n",
       "  </tbody>\n",
       "</table>\n",
       "<p>293942 rows × 2 columns</p>\n",
       "</div>"
      ],
      "text/plain": [
       "            VIIRS_datetime            datetime\n",
       "0      2012-02-01 00:10:00 2012-01-31 13:42:26\n",
       "1      2012-02-01 00:10:00 2012-01-31 13:44:47\n",
       "2      2012-02-01 00:10:00 2012-01-31 13:49:19\n",
       "3      2012-02-01 00:10:00 2012-01-31 13:46:48\n",
       "4      2012-02-01 00:10:00 2012-01-31 13:44:00\n",
       "...                    ...                 ...\n",
       "293937 2012-12-31 23:20:00 2012-12-31 04:04:45\n",
       "293938 2012-12-31 23:20:00 2012-12-31 03:48:18\n",
       "293939 2012-12-31 23:20:00 2012-12-31 03:47:34\n",
       "293940 2012-12-31 23:20:00 2012-12-31 03:46:52\n",
       "293941 2012-12-31 23:20:00 2012-12-31 03:46:09\n",
       "\n",
       "[293942 rows x 2 columns]"
      ]
     },
     "execution_count": 5,
     "metadata": {},
     "output_type": "execute_result"
    }
   ],
   "source": [
    "analysis_table[['VIIRS_datetime', 'datetime']]"
   ]
  },
  {
   "cell_type": "code",
   "execution_count": 6,
   "id": "e9afa564-8834-4081-9502-90850559b0b7",
   "metadata": {
    "tags": []
   },
   "outputs": [],
   "source": [
    "file_path = '/home/jovyan/L3S_VIIRS144_2012_preproc.h5'"
   ]
  },
  {
   "cell_type": "code",
   "execution_count": 7,
   "id": "a4890817-032e-46ac-9778-30ed4699f109",
   "metadata": {
    "tags": []
   },
   "outputs": [],
   "source": [
    "with h5py.File(file_path, \"r\") as h5:\n",
    "    data = h5['valid'][:]\n",
    "    metadata = h5['valid_metadata'][:]\n",
    "        \n",
    "data1 = data[0]\n",
    "metadata1 = metadata[0]\n",
    "\n",
    "viirs_dt = float(metadata1[8])\n",
    "dt = float(metadata1[35])\n",
    "diff_dt = viirs_dt - dt"
   ]
  },
  {
   "cell_type": "code",
   "execution_count": 30,
   "id": "f5c44b3a-cec8-4cf2-96f2-3164931bceaf",
   "metadata": {
    "tags": []
   },
   "outputs": [
    {
     "data": {
      "image/png": "[encoded data removed]",
      "text/plain": [
       "<Figure size 640x480 with 2 Axes>"
      ]
     },
     "metadata": {},
     "output_type": "display_data"
    }
   ],
   "source": [
    "flat_sst_data = data1\n",
    "flat_dt_data = diff_dt\n",
    "\n",
    "nside = 8  # Adjust the nside to control the resolution of the map\n",
    "npix = hp.nside2npix(nside)\n",
    "\n",
    "# Create a Healpy map using the sea surface temperature data\n",
    "hp_map = np.zeros(npix)\n",
    "for i in range(npix):\n",
    "    hp_map[i] = np.mean(flat_sst_data[i * (4096 // npix):(i + 1) * (4096 // npix)])  # Adjust how the grid is averaged\n",
    "\n",
    "# Get the spherical angles (longitude and latitude) for each Healpy pixel\n",
    "lon, lat = hp.pix2ang(nside, np.arange(npix), lonlat=True)\n",
    "\n",
    "# Find the center pixel index\n",
    "center_pixel_index = hp.ang2pix(nside, np.pi / 2 - np.radians(0), np.radians(0))  # Replace with the desired center coordinates\n",
    "\n",
    "# Normalize the DT value at the center pixel to the range [0, 1]\n",
    "\n",
    "# Plot the Healpy map and add a dot at the center colored by the variable DT\n",
    "fig, ax = plt.subplots(subplot_kw={'projection': 'mollweide'})\n",
    "im = ax.scatter(lon, lat, c=hp_map, cmap='viridis', s=10)\n",
    "ax.scatter(lon[center_pixel_index], lat[center_pixel_index], c=flat_dt_data, cmap='viridis', s=200, linewidth=1, zorder=10)\n",
    "ax.set_title('Sea Surface Temperature Map with Center Colored by DT')\n",
    "cbar = plt.colorbar(im, ax=ax, orientation='horizontal')\n",
    "cbar.set_label('Sea Surface Temperature')\n",
    "plt.show()"
   ]
  },
  {
   "cell_type": "code",
   "execution_count": 5,
   "id": "836d71e0-1a40-4c7d-bfb3-842fde9bd904",
   "metadata": {
    "tags": []
   },
   "outputs": [],
   "source": [
    "# rest of this code does not work\n",
    "\n",
    "\n",
    "with h5py.File(file_path, \"r\") as h5:\n",
    "    metadata = h5[\"valid_metadata\"][:]  # Replace \"metadata\" with the dataset name containing metadata\n",
    "\n",
    "# Extract the 8th, 20th, 21st, and 35th indices for each cutout\n",
    "cutout_indices = metadata[:, [8, 20, 21, 35]]"
   ]
  },
  {
   "cell_type": "code",
   "execution_count": null,
   "id": "b3054191-f48f-471e-81a8-98b400264694",
   "metadata": {
    "tags": []
   },
   "outputs": [],
   "source": [
    "# Loop through each cutout entry and plot the subarray area centered at lat, lon\n",
    "nside = 64  # Adjust the nside to control the resolution of the map\n",
    "for i in range(len(cutout_indices)):\n",
    "    viirs_dt = float(cutout_indices[i, 0])\n",
    "    lat = float(cutout_indices[i, 1])\n",
    "    lon = float(cutout_indices[i, 2])\n",
    "    dt = float(cutout_indices[i, 3])\n",
    "    \n",
    "    healpix_map = np.zeros(hp.nside2npix(nside))\n",
    "    pix_index = hp.pixelfunc.ang2pix(nside, np.pi / 2 - np.radians(lat), np.radians(lon))\n",
    "    healpix_map[pix_index] = viirs_dt - dt  \n",
    "    hp.mollview(healpix_map, title=f\"Cutout {i+1}\", unit=\"Difference\", min=-2, max=2, cmap='coolwarm')\n",
    "    plt.close()"
   ]
  },
  {
   "cell_type": "code",
   "execution_count": 38,
   "id": "6ba68ad7-9c4a-4f36-93cf-5182852da3c0",
   "metadata": {
    "tags": []
   },
   "outputs": [
    {
     "data": {
      "text/plain": [
       "0.99853515625"
      ]
     },
     "execution_count": 38,
     "metadata": {},
     "output_type": "execute_result"
    }
   ],
   "source": [
    "plt.show()"
   ]
  }
 ],
 "metadata": {
  "kernelspec": {
   "display_name": "Python 3 (ipykernel)",
   "language": "python",
   "name": "python3"
  },
  "language_info": {
   "codemirror_mode": {
    "name": "ipython",
    "version": 3
   },
   "file_extension": ".py",
   "mimetype": "text/x-python",
   "name": "python",
   "nbconvert_exporter": "python",
   "pygments_lexer": "ipython3",
   "version": "3.10.10"
  }
 },
 "nbformat": 4,
 "nbformat_minor": 5
}
