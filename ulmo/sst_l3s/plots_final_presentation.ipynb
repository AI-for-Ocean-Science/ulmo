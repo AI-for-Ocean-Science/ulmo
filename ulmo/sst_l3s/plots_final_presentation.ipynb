{
 "cells": [
  {
   "cell_type": "code",
   "execution_count": 1,
   "id": "6af634ce",
   "metadata": {
    "tags": []
   },
   "outputs": [],
   "source": [
    "import xarray\n",
    "import numpy as np\n",
    "import pandas\n",
    "import h5py\n",
    "import datetime\n",
    "from ulmo.utils import image_utils\n",
    "from ulmo.plotting import plotting\n",
    "import matplotlib.pyplot as plt\n",
    "import seaborn as sns\n",
    "import os\n",
    "import healpy as hp\n",
    "import warnings\n",
    "import matplotlib.colors as mcolors\n",
    "\n",
    "import cartopy\n",
    "from ulmo.analysis.spatial_plots import evals_to_healpix, evals_to_healpix_stat, show_med_LL\n",
    "\n",
    "import cartopy.crs as ccrs\n",
    "from cartopy.mpl.gridliner import LONGITUDE_FORMATTER, LATITUDE_FORMATTER\n",
    "# this should be run in JupyterHub"
   ]
  },
  {
   "cell_type": "code",
   "execution_count": 2,
   "id": "873c6e6f-6cfb-4cba-9972-ae67d2a5444a",
   "metadata": {
    "tags": []
   },
   "outputs": [],
   "source": [
    "# plot 1: healpy of entire globe SST field as example\n",
    "\n",
    "# August 10, 2012 (day 223)\n",
    "aug10 = xarray.open_dataset('/home/jovyan/20120810120000-STAR-L3S_GHRSST-SSTsubskin-LEO_Daily-ACSPO_V2.80-v02.0-fv01.0.nc')\n",
    "analysis_table = pandas.read_parquet('/home/jovyan/SST_L3S_VIIRS_2012.parquet')"
   ]
  },
  {
   "cell_type": "code",
   "execution_count": 8,
   "id": "cc0f7572-6330-4a22-917f-10d804c0ab5f",
   "metadata": {
    "tags": []
   },
   "outputs": [],
   "source": [
    "eval_tbl = analysis_table\n",
    "nside = 64\n",
    "hpma, hp_lons, hp_lats, hp_values = evals_to_healpix_stat(eval_tbl, nside, metric = 'mean_temperature', stat = 'mean')"
   ]
  },
  {
   "cell_type": "code",
   "execution_count": null,
   "id": "96ef50db-60ed-4334-b4c7-7bea8d6a9a4c",
   "metadata": {
    "tags": []
   },
   "outputs": [],
   "source": [
    "fig = plt.figure(figsize=(12,8))\n",
    "color='bwr'\n",
    "plt.clf()\n",
    "\n",
    "tformM = ccrs.Mollweide()\n",
    "tformP = ccrs.PlateCarree()\n",
    "\n",
    "ax = plt.axes(projection=tformM)\n",
    "\n",
    "cm = plt.get_cmap(color)\n",
    "good = np.invert(hp_values.mask)\n",
    "img = plt.scatter(x=hp_lons[good],\n",
    "    y=hp_lats[good],\n",
    "    c=hp_values[good],  \n",
    "    cmap=cm,\n",
    "    s=1,\n",
    "    transform=tformP)\n",
    "\n",
    "cb = plt.colorbar(img, orientation='horizontal', pad=0.)\n",
    "clbl = 'Sea Surface Temperature (demeaned)'\n",
    "cb.set_label(clbl, fontsize=20.)\n",
    "cb.ax.tick_params(labelsize=17)\n",
    "ax.coastlines(zorder=10)\n",
    "ax.set_global()\n",
    "    \n",
    "gl = ax.gridlines(crs=ccrs.PlateCarree(), linewidth=1,\n",
    "                  color='black', alpha=0.5, linestyle=':', draw_labels=True)\n",
    "\n",
    "gl.top_labels = True\n",
    "gl.left_labels = True\n",
    "gl.right_labels = True\n",
    "gl.xlines = True\n",
    "gl.xformatter = LONGITUDE_FORMATTER\n",
    "gl.yformatter = LATITUDE_FORMATTER\n",
    "gl.xlabel_style = {'color': 'black'}\n",
    "gl.ylabel_style = {'color': 'black'}\n",
    "plt.title(\"August 10, 2012: Mean SST\")\n",
    "\n",
    "plt.show()\n",
    "\n",
    "#save_dir = os.path.expanduser('~/plots')\n",
    "#save_filename = os.path.join(save_dir, 'plot1.png')\n",
    "\n",
    "#plt.savefig(save_filename, dpi=300, bbox_inches='tight')\n",
    "#plt.close(fig)\n",
    "# mean per cutout and lots median of cutouts in that area"
   ]
  },
  {
   "cell_type": "code",
   "execution_count": null,
   "id": "c3f2fad6-0f45-481b-8379-dfdb52d5dfc0",
   "metadata": {},
   "outputs": [],
   "source": [
    "# plot 2: VIIRS sensor map"
   ]
  },
  {
   "cell_type": "code",
   "execution_count": null,
   "id": "6f38d936-6f5f-4ad6-9965-d37baf460e0d",
   "metadata": {},
   "outputs": [],
   "source": [
    "# plot 3: L3S day map"
   ]
  },
  {
   "cell_type": "code",
   "execution_count": null,
   "id": "cb301cec-24bd-4ae8-b665-7d1769ba62d5",
   "metadata": {},
   "outputs": [],
   "source": [
    "# plot 4: L3S night map"
   ]
  },
  {
   "cell_type": "code",
   "execution_count": null,
   "id": "bbc0ba34-6a15-4bcc-97a0-fed6d43d4246",
   "metadata": {},
   "outputs": [],
   "source": [
    "# plot 5: L3S daily map"
   ]
  },
  {
   "cell_type": "code",
   "execution_count": null,
   "id": "9f907c20-5b41-4cd7-9f53-ddc9724e7d38",
   "metadata": {},
   "outputs": [],
   "source": []
  },
  {
   "cell_type": "code",
   "execution_count": null,
   "id": "6f96c6a5-283b-4f76-951b-92bd757ccc93",
   "metadata": {},
   "outputs": [],
   "source": []
  }
 ],
 "metadata": {
  "kernelspec": {
   "display_name": "Python 3 (ipykernel)",
   "language": "python",
   "name": "python3"
  },
  "language_info": {
   "codemirror_mode": {
    "name": "ipython",
    "version": 3
   },
   "file_extension": ".py",
   "mimetype": "text/x-python",
   "name": "python",
   "nbconvert_exporter": "python",
   "pygments_lexer": "ipython3",
   "version": "3.10.10"
  }
 },
 "nbformat": 4,
 "nbformat_minor": 5
}
