{
 "cells": [
  {
   "cell_type": "code",
   "execution_count": 1,
   "id": "33a8db48",
   "metadata": {},
   "outputs": [],
   "source": [
    "# GOAL: get a L2 cutout date and time at low longitude and high longitude\n",
    "# see what date it is extracting from L3\n",
    "\n",
    "import xarray\n",
    "import numpy as np\n",
    "import pandas\n",
    "import h5py\n",
    "import datetime"
   ]
  },
  {
   "cell_type": "code",
   "execution_count": 2,
   "id": "20eaacb6",
   "metadata": {},
   "outputs": [],
   "source": [
    "l3s = pandas.read_parquet('/Users/rachelstumpf/SST_L3S_VIIRS.parquet')\n",
    "gd_date = l3s.datetime <= datetime.datetime(2012,2,2)\n",
    "df = l3s[gd_date]"
   ]
  },
  {
   "cell_type": "code",
   "execution_count": 3,
   "id": "25531e92",
   "metadata": {},
   "outputs": [
    {
     "data": {
      "text/html": [
       "<div>\n",
       "<style scoped>\n",
       "    .dataframe tbody tr th:only-of-type {\n",
       "        vertical-align: middle;\n",
       "    }\n",
       "\n",
       "    .dataframe tbody tr th {\n",
       "        vertical-align: top;\n",
       "    }\n",
       "\n",
       "    .dataframe thead th {\n",
       "        text-align: right;\n",
       "    }\n",
       "</style>\n",
       "<table border=\"1\" class=\"dataframe\">\n",
       "  <thead>\n",
       "    <tr style=\"text-align: right;\">\n",
       "      <th></th>\n",
       "      <th>lon</th>\n",
       "      <th>VIIRS_datetime</th>\n",
       "      <th>VIIRS_UID</th>\n",
       "    </tr>\n",
       "  </thead>\n",
       "  <tbody>\n",
       "    <tr>\n",
       "      <th>1329</th>\n",
       "      <td>-179.84679</td>\n",
       "      <td>2012-02-02 14:00:00</td>\n",
       "      <td>1328130134015321</td>\n",
       "    </tr>\n",
       "    <tr>\n",
       "      <th>387</th>\n",
       "      <td>-179.83559</td>\n",
       "      <td>2012-02-01 14:20:00</td>\n",
       "      <td>1328126105416441</td>\n",
       "    </tr>\n",
       "    <tr>\n",
       "      <th>28</th>\n",
       "      <td>-179.58327</td>\n",
       "      <td>2012-02-01 01:50:00</td>\n",
       "      <td>1328103567741673</td>\n",
       "    </tr>\n",
       "    <tr>\n",
       "      <th>29</th>\n",
       "      <td>-178.89117</td>\n",
       "      <td>2012-02-01 01:50:00</td>\n",
       "      <td>13281042787110883</td>\n",
       "    </tr>\n",
       "    <tr>\n",
       "      <th>31</th>\n",
       "      <td>-177.80217</td>\n",
       "      <td>2012-02-01 01:50:00</td>\n",
       "      <td>13281100437219783</td>\n",
       "    </tr>\n",
       "    <tr>\n",
       "      <th>...</th>\n",
       "      <td>...</td>\n",
       "      <td>...</td>\n",
       "      <td>...</td>\n",
       "    </tr>\n",
       "    <tr>\n",
       "      <th>389</th>\n",
       "      <td>169.14713</td>\n",
       "      <td>2012-02-01 14:20:00</td>\n",
       "      <td>1328109224134914713</td>\n",
       "    </tr>\n",
       "    <tr>\n",
       "      <th>391</th>\n",
       "      <td>169.74101</td>\n",
       "      <td>2012-02-01 14:20:00</td>\n",
       "      <td>1328108472734974101</td>\n",
       "    </tr>\n",
       "    <tr>\n",
       "      <th>390</th>\n",
       "      <td>169.90172</td>\n",
       "      <td>2012-02-01 14:20:00</td>\n",
       "      <td>1328109097034990172</td>\n",
       "    </tr>\n",
       "    <tr>\n",
       "      <th>388</th>\n",
       "      <td>170.06294</td>\n",
       "      <td>2012-02-01 14:20:00</td>\n",
       "      <td>1328109721435006294</td>\n",
       "    </tr>\n",
       "    <tr>\n",
       "      <th>27</th>\n",
       "      <td>179.82285</td>\n",
       "      <td>2012-02-01 01:50:00</td>\n",
       "      <td>1328102862635982285</td>\n",
       "    </tr>\n",
       "  </tbody>\n",
       "</table>\n",
       "<p>1364 rows × 3 columns</p>\n",
       "</div>"
      ],
      "text/plain": [
       "            lon      VIIRS_datetime            VIIRS_UID\n",
       "1329 -179.84679 2012-02-02 14:00:00     1328130134015321\n",
       "387  -179.83559 2012-02-01 14:20:00     1328126105416441\n",
       "28   -179.58327 2012-02-01 01:50:00     1328103567741673\n",
       "29   -178.89117 2012-02-01 01:50:00    13281042787110883\n",
       "31   -177.80217 2012-02-01 01:50:00    13281100437219783\n",
       "...         ...                 ...                  ...\n",
       "389   169.14713 2012-02-01 14:20:00  1328109224134914713\n",
       "391   169.74101 2012-02-01 14:20:00  1328108472734974101\n",
       "390   169.90172 2012-02-01 14:20:00  1328109097034990172\n",
       "388   170.06294 2012-02-01 14:20:00  1328109721435006294\n",
       "27    179.82285 2012-02-01 01:50:00  1328102862635982285\n",
       "\n",
       "[1364 rows x 3 columns]"
      ]
     },
     "execution_count": 3,
     "metadata": {},
     "output_type": "execute_result"
    }
   ],
   "source": [
    "df[['lon', 'VIIRS_datetime', 'VIIRS_UID']].sort_values(by=['lon'])"
   ]
  },
  {
   "cell_type": "code",
   "execution_count": 4,
   "id": "af048b78",
   "metadata": {},
   "outputs": [],
   "source": [
    "# okay we're going to look at \n",
    "# CUTOUT 1: VIIRS_UID = 1328126105416441, lon = 179.83559, index = 387\n",
    "# CUTOUT 2: VIIRS_UID = 1328102862635982285, lon = 179.82285, index = 27\n",
    "\n",
    "cutout_1 = df[(df['VIIRS_UID'] == 1328126105416441)]\n",
    "cutout_2 = df[(df['VIIRS_UID'] == 1328102862635982285)]"
   ]
  },
  {
   "cell_type": "code",
   "execution_count": 5,
   "id": "ba4d6b2c",
   "metadata": {},
   "outputs": [
    {
     "data": {
      "text/plain": [
       "387   2012-02-01 14:20:00\n",
       "Name: VIIRS_datetime, dtype: datetime64[ns]"
      ]
     },
     "execution_count": 5,
     "metadata": {},
     "output_type": "execute_result"
    }
   ],
   "source": [
    "# cutout 1 and time conversions\n",
    "\n",
    "cutout_1['VIIRS_datetime']\n",
    "\n",
    "#base_datetime = pandas.to_datetime(cutout_1['VIIRS_datetime']).dt.date.astype(str) + ' 01:30:00'\n",
    "\n",
    " #   base_datetime = pandas.to_datetime(base_datetime, format='%Y-%m-%d %H:%M:%S')\n",
    " #   l3s['datetime'] = (base_datetime + pandas.to_timedelta(l3s['VIIRS_lon'] * 4, unit='minutes')).dt.round('S')"
   ]
  },
  {
   "cell_type": "code",
   "execution_count": 6,
   "id": "1989fc28",
   "metadata": {},
   "outputs": [],
   "source": [
    "# take the VIIRS date, convert it to L3S date,\n",
    "# you selected it based on the VIIRS date anyway, \n",
    "# what you need to do is select on closest L3S date\n",
    "\n",
    "base_datetime = pandas.to_datetime(cutout_1['VIIRS_datetime']).dt.date.astype(str) + ' 01:30:00'\n",
    "base_datetime = pandas.to_datetime(base_datetime, format='%Y-%m-%d %H:%M:%S')\n",
    "given_date = (base_datetime + pandas.to_timedelta(cutout_1['VIIRS_lon'] * 4, unit='minutes')).dt.round('S')"
   ]
  },
  {
   "cell_type": "code",
   "execution_count": 7,
   "id": "e169b977",
   "metadata": {},
   "outputs": [],
   "source": [
    "# take this given date: \n",
    "# If it is before 12:00:00 on the original VIIRS date, we want to take the L3S cutout from that VIIRS date\n",
    "# If it is after 12:00:00 on the previous day's VIIRS date, we want to take the L3S cutout from that VIIRS date\n",
    "# If it is before 12:00:00 on the previous day's VIIRS date, we want to take the L3S cutout from the previous VIIRS date\n",
    "# If it is after 12:00:00 on the original VIIRS date, we want to take the L3S cutout from the next VIIRS date\n",
    "\n",
    "given_date = given_date.dt.date\n",
    "viirs_date = cutout_1['VIIRS_datetime'].dt.date"
   ]
  },
  {
   "cell_type": "code",
   "execution_count": 8,
   "id": "5e15df57",
   "metadata": {},
   "outputs": [
    {
     "data": {
      "text/plain": [
       "387   2012-01-31 13:30:39\n",
       "Name: VIIRS_lon, dtype: datetime64[ns]"
      ]
     },
     "execution_count": 8,
     "metadata": {},
     "output_type": "execute_result"
    }
   ],
   "source": [
    "viirs_date = cutout_1['VIIRS_datetime'].dt.date\n",
    "desired_time = datetime.time(1, 30, 0)\n",
    "combined_datetime = datetime.datetime.combine(viirs_date.iloc[0], desired_time)\n",
    "\n",
    "datetime = (combined_datetime + pandas.to_timedelta(cutout_1['VIIRS_lon'] * 4, unit='minutes')).round('S')\n",
    "datetime"
   ]
  },
  {
   "cell_type": "code",
   "execution_count": 9,
   "id": "ff5f7584",
   "metadata": {},
   "outputs": [],
   "source": [
    "# viirs_date = datetime.datetime.combine(cutout_1['VIIRS_datetime'].dt.date.iloc[0], desired_time)\n",
    "# viirs_date_minus1 = datetime.datetime.combine(cutout_1['VIIRS_datetime'].dt.date.iloc[0] - datetime.timedelta(days=1), desired_time)\n",
    "# viirs_date_plus1 = datetime.datetime.combine(cutout_1['VIIRS_datetime'].dt.date.iloc[0] + datetime.timedelta(days=1), desired_time)"
   ]
  },
  {
   "cell_type": "code",
   "execution_count": 10,
   "id": "9c5fcea8",
   "metadata": {},
   "outputs": [],
   "source": [
    "# re-run extractions to see if anything with data size has changed?\n",
    "# it appears that even when a cutout is very low or very high longitude, it is not enough to shift it more than\n",
    "# 12 hours away from the 1:30 am time so they are usually just on the same day as the VIIRS cutout"
   ]
  }
 ],
 "metadata": {
  "kernelspec": {
   "display_name": "Python 3 (ipykernel)",
   "language": "python",
   "name": "python3"
  },
  "language_info": {
   "codemirror_mode": {
    "name": "ipython",
    "version": 3
   },
   "file_extension": ".py",
   "mimetype": "text/x-python",
   "name": "python",
   "nbconvert_exporter": "python",
   "pygments_lexer": "ipython3",
   "version": "3.10.11"
  }
 },
 "nbformat": 4,
 "nbformat_minor": 5
}
