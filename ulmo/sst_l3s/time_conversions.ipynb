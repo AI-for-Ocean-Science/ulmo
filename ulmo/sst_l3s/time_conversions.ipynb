{
 "cells": [
  {
   "cell_type": "code",
   "execution_count": 1,
   "id": "48304fc7",
   "metadata": {},
   "outputs": [],
   "source": [
    "# GOAL: get a L2 cutout date and time at low longitude and high longitude\n",
    "# see what date it is extracting from L3\n",
    "\n",
    "import xarray\n",
    "import numpy as np\n",
    "import pandas\n",
    "import h5py\n",
    "import datetime"
   ]
  },
  {
   "cell_type": "code",
   "execution_count": 2,
   "id": "2d8e3817",
   "metadata": {},
   "outputs": [],
   "source": [
    "l3s = pandas.read_parquet('/Users/rachelstumpf/SST_L3S_VIIRS.parquet')\n",
    "gd_date = l3s.datetime <= datetime.datetime(2012,2,2)\n",
    "df = l3s[gd_date]"
   ]
  },
  {
   "cell_type": "code",
   "execution_count": 3,
   "id": "d0aa46e2",
   "metadata": {},
   "outputs": [
    {
     "data": {
      "text/html": [
       "<div>\n",
       "<style scoped>\n",
       "    .dataframe tbody tr th:only-of-type {\n",
       "        vertical-align: middle;\n",
       "    }\n",
       "\n",
       "    .dataframe tbody tr th {\n",
       "        vertical-align: top;\n",
       "    }\n",
       "\n",
       "    .dataframe thead th {\n",
       "        text-align: right;\n",
       "    }\n",
       "</style>\n",
       "<table border=\"1\" class=\"dataframe\">\n",
       "  <thead>\n",
       "    <tr style=\"text-align: right;\">\n",
       "      <th></th>\n",
       "      <th>lon</th>\n",
       "      <th>VIIRS_datetime</th>\n",
       "      <th>VIIRS_UID</th>\n",
       "    </tr>\n",
       "  </thead>\n",
       "  <tbody>\n",
       "    <tr>\n",
       "      <th>941635</th>\n",
       "      <td>-179.99990</td>\n",
       "      <td>2014-12-31 13:30:00</td>\n",
       "      <td>1420129744910</td>\n",
       "    </tr>\n",
       "    <tr>\n",
       "      <th>2154637</th>\n",
       "      <td>-179.99986</td>\n",
       "      <td>2018-09-25 01:20:00</td>\n",
       "      <td>153793412114</td>\n",
       "    </tr>\n",
       "    <tr>\n",
       "      <th>500259</th>\n",
       "      <td>-179.99979</td>\n",
       "      <td>2013-08-07 13:30:00</td>\n",
       "      <td>137550022021</td>\n",
       "    </tr>\n",
       "    <tr>\n",
       "      <th>1582103</th>\n",
       "      <td>-179.99974</td>\n",
       "      <td>2017-01-10 02:30:00</td>\n",
       "      <td>148455197326</td>\n",
       "    </tr>\n",
       "    <tr>\n",
       "      <th>2145523</th>\n",
       "      <td>-179.99960</td>\n",
       "      <td>2018-09-14 12:40:00</td>\n",
       "      <td>153651655440</td>\n",
       "    </tr>\n",
       "    <tr>\n",
       "      <th>...</th>\n",
       "      <td>...</td>\n",
       "      <td>...</td>\n",
       "      <td>...</td>\n",
       "    </tr>\n",
       "    <tr>\n",
       "      <th>2877804</th>\n",
       "      <td>179.99928</td>\n",
       "      <td>2020-10-26 01:20:00</td>\n",
       "      <td>160350264035999928</td>\n",
       "    </tr>\n",
       "    <tr>\n",
       "      <th>1325407</th>\n",
       "      <td>179.99947</td>\n",
       "      <td>2016-03-25 01:50:00</td>\n",
       "      <td>145837662335999947</td>\n",
       "    </tr>\n",
       "    <tr>\n",
       "      <th>1833393</th>\n",
       "      <td>179.99957</td>\n",
       "      <td>2017-10-03 12:30:00</td>\n",
       "      <td>150749579835999957</td>\n",
       "    </tr>\n",
       "    <tr>\n",
       "      <th>632803</th>\n",
       "      <td>179.99991</td>\n",
       "      <td>2014-01-08 13:30:00</td>\n",
       "      <td>1389110817635999991</td>\n",
       "    </tr>\n",
       "    <tr>\n",
       "      <th>2188567</th>\n",
       "      <td>180.00000</td>\n",
       "      <td>2018-11-05 01:40:00</td>\n",
       "      <td>154148841936000000</td>\n",
       "    </tr>\n",
       "  </tbody>\n",
       "</table>\n",
       "<p>2932452 rows × 3 columns</p>\n",
       "</div>"
      ],
      "text/plain": [
       "               lon      VIIRS_datetime            VIIRS_UID\n",
       "941635  -179.99990 2014-12-31 13:30:00        1420129744910\n",
       "2154637 -179.99986 2018-09-25 01:20:00         153793412114\n",
       "500259  -179.99979 2013-08-07 13:30:00         137550022021\n",
       "1582103 -179.99974 2017-01-10 02:30:00         148455197326\n",
       "2145523 -179.99960 2018-09-14 12:40:00         153651655440\n",
       "...            ...                 ...                  ...\n",
       "2877804  179.99928 2020-10-26 01:20:00   160350264035999928\n",
       "1325407  179.99947 2016-03-25 01:50:00   145837662335999947\n",
       "1833393  179.99957 2017-10-03 12:30:00   150749579835999957\n",
       "632803   179.99991 2014-01-08 13:30:00  1389110817635999991\n",
       "2188567  180.00000 2018-11-05 01:40:00   154148841936000000\n",
       "\n",
       "[2932452 rows x 3 columns]"
      ]
     },
     "execution_count": 3,
     "metadata": {},
     "output_type": "execute_result"
    }
   ],
   "source": [
    "df[['lon', 'VIIRS_datetime', 'VIIRS_UID']].sort_values(by=['lon'])"
   ]
  },
  {
   "cell_type": "code",
   "execution_count": 4,
   "id": "58bc5087",
   "metadata": {},
   "outputs": [],
   "source": [
    "# okay we're going to look at \n",
    "# CUTOUT 1: VIIRS_UID = 1328126105416441, lon = 179.83559, index = 387\n",
    "# CUTOUT 2: VIIRS_UID = 1328102862635982285, lon = 179.82285, index = 27\n",
    "\n",
    "cutout_1 = df[(df['VIIRS_UID'] == 1328126105416441)]\n",
    "cutout_2 = df[(df['VIIRS_UID'] == 1328102862635982285)]"
   ]
  },
  {
   "cell_type": "code",
   "execution_count": 5,
   "id": "dad5b8b7",
   "metadata": {},
   "outputs": [
    {
     "data": {
      "text/plain": [
       "387   2012-02-01 14:20:00\n",
       "Name: VIIRS_datetime, dtype: datetime64[ns]"
      ]
     },
     "execution_count": 5,
     "metadata": {},
     "output_type": "execute_result"
    }
   ],
   "source": [
    "# cutout 1 and time conversions\n",
    "\n",
    "cutout_1['VIIRS_datetime']\n",
    "\n",
    "#base_datetime = pandas.to_datetime(cutout_1['VIIRS_datetime']).dt.date.astype(str) + ' 01:30:00'\n",
    "\n",
    " #   base_datetime = pandas.to_datetime(base_datetime, format='%Y-%m-%d %H:%M:%S')\n",
    " #   l3s['datetime'] = (base_datetime + pandas.to_timedelta(l3s['VIIRS_lon'] * 4, unit='minutes')).dt.round('S')"
   ]
  },
  {
   "cell_type": "code",
   "execution_count": 6,
   "id": "3cfecb77",
   "metadata": {},
   "outputs": [],
   "source": [
    "# take the VIIRS date, convert it to L3S date,\n",
    "# you selected it based on the VIIRS date anyway, \n",
    "# what you need to do is select on closest L3S date\n",
    "\n",
    "base_datetime = pandas.to_datetime(cutout_1['VIIRS_datetime']).dt.date.astype(str) + ' 01:30:00'\n",
    "base_datetime = pandas.to_datetime(base_datetime, format='%Y-%m-%d %H:%M:%S')\n",
    "given_date = (base_datetime + pandas.to_timedelta(cutout_1['VIIRS_lon'] * 4, unit='minutes')).dt.round('S')"
   ]
  },
  {
   "cell_type": "code",
   "execution_count": 7,
   "id": "4b261d88",
   "metadata": {},
   "outputs": [],
   "source": [
    "# take this given date: \n",
    "# If it is before 12:00:00 on the original VIIRS date, we want to take the L3S cutout from that VIIRS date\n",
    "# If it is after 12:00:00 on the previous day's VIIRS date, we want to take the L3S cutout from that VIIRS date\n",
    "# If it is before 12:00:00 on the previous day's VIIRS date, we want to take the L3S cutout from the previous VIIRS date\n",
    "# If it is after 12:00:00 on the original VIIRS date, we want to take the L3S cutout from the next VIIRS date\n",
    "\n",
    "given_date = given_date.dt.date\n",
    "viirs_date = cutout_1['VIIRS_datetime'].dt.date"
   ]
  },
  {
   "cell_type": "code",
   "execution_count": 8,
   "id": "90d29190",
   "metadata": {},
   "outputs": [
    {
     "data": {
      "text/plain": [
       "387   2012-01-31 13:30:39\n",
       "Name: VIIRS_lon, dtype: datetime64[ns]"
      ]
     },
     "execution_count": 8,
     "metadata": {},
     "output_type": "execute_result"
    }
   ],
   "source": [
    "viirs_date = cutout_1['VIIRS_datetime'].dt.date\n",
    "desired_time = datetime.time(1, 30, 0)\n",
    "combined_datetime = datetime.datetime.combine(viirs_date.iloc[0], desired_time)\n",
    "\n",
    "datetime = (combined_datetime + pandas.to_timedelta(cutout_1['VIIRS_lon'] * 4, unit='minutes')).round('S')\n",
    "datetime"
   ]
  },
  {
   "cell_type": "code",
   "execution_count": 9,
   "id": "90414461",
   "metadata": {},
   "outputs": [],
   "source": [
    "# viirs_date = datetime.datetime.combine(cutout_1['VIIRS_datetime'].dt.date.iloc[0], desired_time)\n",
    "# viirs_date_minus1 = datetime.datetime.combine(cutout_1['VIIRS_datetime'].dt.date.iloc[0] - datetime.timedelta(days=1), desired_time)\n",
    "# viirs_date_plus1 = datetime.datetime.combine(cutout_1['VIIRS_datetime'].dt.date.iloc[0] + datetime.timedelta(days=1), desired_time)"
   ]
  },
  {
   "cell_type": "code",
   "execution_count": 10,
   "id": "61a42c17",
   "metadata": {},
   "outputs": [],
   "source": [
    "# re-run extractions to see if anything with data size has changed?\n",
    "# it appears that even when a cutout is very low or very high longitude, it is not enough to shift it more than\n",
    "# 12 hours away from the 1:30 am time so they are usually just on the same day as the VIIRS cutout"
   ]
  }
 ],
 "metadata": {
  "kernelspec": {
   "display_name": "Python 3 (ipykernel)",
   "language": "python",
   "name": "python3"
  },
  "language_info": {
   "codemirror_mode": {
    "name": "ipython",
    "version": 3
   },
   "file_extension": ".py",
   "mimetype": "text/x-python",
   "name": "python",
   "nbconvert_exporter": "python",
   "pygments_lexer": "ipython3",
   "version": "3.10.11"
  }
 },
 "nbformat": 4,
 "nbformat_minor": 5
}
