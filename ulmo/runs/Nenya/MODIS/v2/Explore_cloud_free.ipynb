{
 "cells": [
  {
   "cell_type": "markdown",
   "id": "947f5d5b",
   "metadata": {},
   "source": [
    "# Cloud free?"
   ]
  },
  {
   "cell_type": "code",
   "execution_count": 2,
   "id": "e25c300e",
   "metadata": {},
   "outputs": [],
   "source": [
    "# imports\n",
    "import os\n",
    "import numpy as np\n",
    "\n",
    "import h5py\n",
    "\n",
    "from ulmo import io as ulmo_io"
   ]
  },
  {
   "cell_type": "markdown",
   "id": "59a305fd",
   "metadata": {},
   "source": [
    "# Load me"
   ]
  },
  {
   "cell_type": "code",
   "execution_count": 3,
   "id": "73c2a5be",
   "metadata": {},
   "outputs": [],
   "source": [
    "local_modis_file = os.path.join(os.getenv('SST_OOD'),\n",
    "                                    'MODIS_L2/Tables/MODIS_L2_std.parquet')"
   ]
  },
  {
   "cell_type": "code",
   "execution_count": 4,
   "id": "1bd6a8e0",
   "metadata": {},
   "outputs": [
    {
     "name": "stdout",
     "output_type": "stream",
     "text": [
      "Read main table: /data/Projects/Oceanography/AI/OOD/SST/MODIS_L2/Tables/MODIS_L2_std.parquet\n"
     ]
    }
   ],
   "source": [
    "modis_tbl = ulmo_io.load_main_table(local_modis_file)"
   ]
  },
  {
   "cell_type": "code",
   "execution_count": 5,
   "id": "bed5eadd",
   "metadata": {},
   "outputs": [
    {
     "data": {
      "text/html": [
       "<div>\n",
       "<style scoped>\n",
       "    .dataframe tbody tr th:only-of-type {\n",
       "        vertical-align: middle;\n",
       "    }\n",
       "\n",
       "    .dataframe tbody tr th {\n",
       "        vertical-align: top;\n",
       "    }\n",
       "\n",
       "    .dataframe thead th {\n",
       "        text-align: right;\n",
       "    }\n",
       "</style>\n",
       "<table border=\"1\" class=\"dataframe\">\n",
       "  <thead>\n",
       "    <tr style=\"text-align: right;\">\n",
       "      <th></th>\n",
       "      <th>lat</th>\n",
       "      <th>lon</th>\n",
       "      <th>col</th>\n",
       "      <th>datetime</th>\n",
       "      <th>LL</th>\n",
       "      <th>row</th>\n",
       "      <th>clear_fraction</th>\n",
       "      <th>mean_temperature</th>\n",
       "      <th>Tmin</th>\n",
       "      <th>Tmax</th>\n",
       "      <th>...</th>\n",
       "      <th>pp_root</th>\n",
       "      <th>field_size</th>\n",
       "      <th>pp_type</th>\n",
       "      <th>pp_idx</th>\n",
       "      <th>U0</th>\n",
       "      <th>U1</th>\n",
       "      <th>zonal_slope</th>\n",
       "      <th>merid_slope</th>\n",
       "      <th>zonal_slope_err</th>\n",
       "      <th>merid_slope_err</th>\n",
       "    </tr>\n",
       "  </thead>\n",
       "  <tbody>\n",
       "    <tr>\n",
       "      <th>0</th>\n",
       "      <td>13.980967</td>\n",
       "      <td>62.675774</td>\n",
       "      <td>517</td>\n",
       "      <td>2003-03-10 21:25:00</td>\n",
       "      <td>520.178711</td>\n",
       "      <td>304</td>\n",
       "      <td>0.000000</td>\n",
       "      <td>26.199476</td>\n",
       "      <td>25.250000</td>\n",
       "      <td>26.885000</td>\n",
       "      <td>...</td>\n",
       "      <td>standard</td>\n",
       "      <td>128</td>\n",
       "      <td>0</td>\n",
       "      <td>0</td>\n",
       "      <td>-2.209477</td>\n",
       "      <td>5.983506</td>\n",
       "      <td>-1.186275</td>\n",
       "      <td>-2.126147</td>\n",
       "      <td>0.137467</td>\n",
       "      <td>0.224244</td>\n",
       "    </tr>\n",
       "    <tr>\n",
       "      <th>1</th>\n",
       "      <td>13.043748</td>\n",
       "      <td>-102.751816</td>\n",
       "      <td>706</td>\n",
       "      <td>2003-12-12 08:30:00</td>\n",
       "      <td>432.766724</td>\n",
       "      <td>1696</td>\n",
       "      <td>0.049805</td>\n",
       "      <td>28.924648</td>\n",
       "      <td>27.789999</td>\n",
       "      <td>29.654999</td>\n",
       "      <td>...</td>\n",
       "      <td>standard</td>\n",
       "      <td>128</td>\n",
       "      <td>0</td>\n",
       "      <td>1</td>\n",
       "      <td>-2.575606</td>\n",
       "      <td>6.238604</td>\n",
       "      <td>-0.678604</td>\n",
       "      <td>-0.904867</td>\n",
       "      <td>0.115963</td>\n",
       "      <td>0.128991</td>\n",
       "    </tr>\n",
       "    <tr>\n",
       "      <th>2</th>\n",
       "      <td>-18.086618</td>\n",
       "      <td>40.844833</td>\n",
       "      <td>581</td>\n",
       "      <td>2003-09-24 22:35:00</td>\n",
       "      <td>764.413086</td>\n",
       "      <td>656</td>\n",
       "      <td>0.006104</td>\n",
       "      <td>25.551611</td>\n",
       "      <td>24.775000</td>\n",
       "      <td>26.154999</td>\n",
       "      <td>...</td>\n",
       "      <td>standard</td>\n",
       "      <td>128</td>\n",
       "      <td>0</td>\n",
       "      <td>2</td>\n",
       "      <td>-4.080777</td>\n",
       "      <td>6.772544</td>\n",
       "      <td>-0.723022</td>\n",
       "      <td>-0.590398</td>\n",
       "      <td>0.076410</td>\n",
       "      <td>0.052984</td>\n",
       "    </tr>\n",
       "    <tr>\n",
       "      <th>3</th>\n",
       "      <td>39.071575</td>\n",
       "      <td>18.569141</td>\n",
       "      <td>1028</td>\n",
       "      <td>2003-05-01 01:05:00</td>\n",
       "      <td>371.310120</td>\n",
       "      <td>898</td>\n",
       "      <td>0.049988</td>\n",
       "      <td>16.414951</td>\n",
       "      <td>15.160000</td>\n",
       "      <td>17.205000</td>\n",
       "      <td>...</td>\n",
       "      <td>standard</td>\n",
       "      <td>128</td>\n",
       "      <td>0</td>\n",
       "      <td>3</td>\n",
       "      <td>-0.867894</td>\n",
       "      <td>7.890549</td>\n",
       "      <td>-1.370202</td>\n",
       "      <td>-1.285166</td>\n",
       "      <td>0.187732</td>\n",
       "      <td>0.101415</td>\n",
       "    </tr>\n",
       "    <tr>\n",
       "      <th>4</th>\n",
       "      <td>17.901926</td>\n",
       "      <td>90.155480</td>\n",
       "      <td>997</td>\n",
       "      <td>2003-12-05 19:55:00</td>\n",
       "      <td>-214.759277</td>\n",
       "      <td>1520</td>\n",
       "      <td>0.035461</td>\n",
       "      <td>26.744499</td>\n",
       "      <td>24.975000</td>\n",
       "      <td>28.724998</td>\n",
       "      <td>...</td>\n",
       "      <td>standard</td>\n",
       "      <td>128</td>\n",
       "      <td>0</td>\n",
       "      <td>4</td>\n",
       "      <td>4.985051</td>\n",
       "      <td>7.191708</td>\n",
       "      <td>-1.902952</td>\n",
       "      <td>-2.023731</td>\n",
       "      <td>0.232980</td>\n",
       "      <td>0.235537</td>\n",
       "    </tr>\n",
       "  </tbody>\n",
       "</table>\n",
       "<p>5 rows × 25 columns</p>\n",
       "</div>"
      ],
      "text/plain": [
       "         lat         lon   col            datetime          LL   row  \\\n",
       "0  13.980967   62.675774   517 2003-03-10 21:25:00  520.178711   304   \n",
       "1  13.043748 -102.751816   706 2003-12-12 08:30:00  432.766724  1696   \n",
       "2 -18.086618   40.844833   581 2003-09-24 22:35:00  764.413086   656   \n",
       "3  39.071575   18.569141  1028 2003-05-01 01:05:00  371.310120   898   \n",
       "4  17.901926   90.155480   997 2003-12-05 19:55:00 -214.759277  1520   \n",
       "\n",
       "   clear_fraction  mean_temperature       Tmin       Tmax  ...   pp_root  \\\n",
       "0        0.000000         26.199476  25.250000  26.885000  ...  standard   \n",
       "1        0.049805         28.924648  27.789999  29.654999  ...  standard   \n",
       "2        0.006104         25.551611  24.775000  26.154999  ...  standard   \n",
       "3        0.049988         16.414951  15.160000  17.205000  ...  standard   \n",
       "4        0.035461         26.744499  24.975000  28.724998  ...  standard   \n",
       "\n",
       "   field_size pp_type  pp_idx        U0        U1  zonal_slope  merid_slope  \\\n",
       "0         128       0       0 -2.209477  5.983506    -1.186275    -2.126147   \n",
       "1         128       0       1 -2.575606  6.238604    -0.678604    -0.904867   \n",
       "2         128       0       2 -4.080777  6.772544    -0.723022    -0.590398   \n",
       "3         128       0       3 -0.867894  7.890549    -1.370202    -1.285166   \n",
       "4         128       0       4  4.985051  7.191708    -1.902952    -2.023731   \n",
       "\n",
       "   zonal_slope_err  merid_slope_err  \n",
       "0         0.137467         0.224244  \n",
       "1         0.115963         0.128991  \n",
       "2         0.076410         0.052984  \n",
       "3         0.187732         0.101415  \n",
       "4         0.232980         0.235537  \n",
       "\n",
       "[5 rows x 25 columns]"
      ]
     },
     "execution_count": 5,
     "metadata": {},
     "output_type": "execute_result"
    }
   ],
   "source": [
    "modis_tbl.head()"
   ]
  },
  {
   "cell_type": "code",
   "execution_count": 6,
   "id": "18d5588f",
   "metadata": {},
   "outputs": [
    {
     "data": {
      "text/plain": [
       "Index(['lat', 'lon', 'col', 'datetime', 'LL', 'row', 'clear_fraction',\n",
       "       'mean_temperature', 'Tmin', 'Tmax', 'T90', 'T10', 'filename', 'UID',\n",
       "       'pp_file', 'pp_root', 'field_size', 'pp_type', 'pp_idx', 'U0', 'U1',\n",
       "       'zonal_slope', 'merid_slope', 'zonal_slope_err', 'merid_slope_err'],\n",
       "      dtype='object')"
      ]
     },
     "execution_count": 6,
     "metadata": {},
     "output_type": "execute_result"
    }
   ],
   "source": [
    "modis_tbl.keys()"
   ]
  },
  {
   "cell_type": "markdown",
   "id": "c60a409c",
   "metadata": {},
   "source": [
    "# Restrict"
   ]
  },
  {
   "cell_type": "markdown",
   "id": "70e49473",
   "metadata": {},
   "source": [
    "## Year 2010"
   ]
  },
  {
   "cell_type": "code",
   "execution_count": 8,
   "id": "c5315c91",
   "metadata": {},
   "outputs": [],
   "source": [
    "y2010 = modis_tbl.pp_file == 's3://modis-l2/PreProc/MODIS_R2019_2010_95clear_128x128_preproc_std.h5'"
   ]
  },
  {
   "cell_type": "code",
   "execution_count": 11,
   "id": "cefb968b",
   "metadata": {},
   "outputs": [
    {
     "data": {
      "text/plain": [
       "678557"
      ]
     },
     "execution_count": 11,
     "metadata": {},
     "output_type": "execute_result"
    }
   ],
   "source": [
    "np.sum(y2010)"
   ]
  },
  {
   "cell_type": "markdown",
   "id": "432d6d8e",
   "metadata": {},
   "source": [
    "## Cloud free"
   ]
  },
  {
   "cell_type": "code",
   "execution_count": 14,
   "id": "a46062e9",
   "metadata": {},
   "outputs": [
    {
     "data": {
      "text/plain": [
       "3966903"
      ]
     },
     "execution_count": 14,
     "metadata": {},
     "output_type": "execute_result"
    }
   ],
   "source": [
    "cloud_free = modis_tbl.clear_fraction < 0.01\n",
    "np.sum(cloud_free)"
   ]
  },
  {
   "cell_type": "code",
   "execution_count": 15,
   "id": "26498a4e",
   "metadata": {},
   "outputs": [
    {
     "data": {
      "text/plain": [
       "205568"
      ]
     },
     "execution_count": 15,
     "metadata": {},
     "output_type": "execute_result"
    }
   ],
   "source": [
    "np.sum(y2010 & cloud_free)"
   ]
  },
  {
   "cell_type": "code",
   "execution_count": 16,
   "id": "26e2cd97",
   "metadata": {},
   "outputs": [],
   "source": [
    "tmp = np.arange(100)"
   ]
  },
  {
   "cell_type": "code",
   "execution_count": 19,
   "id": "3946e634",
   "metadata": {},
   "outputs": [
    {
     "data": {
      "text/html": [
       "<div>\n",
       "<style scoped>\n",
       "    .dataframe tbody tr th:only-of-type {\n",
       "        vertical-align: middle;\n",
       "    }\n",
       "\n",
       "    .dataframe tbody tr th {\n",
       "        vertical-align: top;\n",
       "    }\n",
       "\n",
       "    .dataframe thead th {\n",
       "        text-align: right;\n",
       "    }\n",
       "</style>\n",
       "<table border=\"1\" class=\"dataframe\">\n",
       "  <thead>\n",
       "    <tr style=\"text-align: right;\">\n",
       "      <th></th>\n",
       "      <th>lat</th>\n",
       "      <th>lon</th>\n",
       "      <th>col</th>\n",
       "      <th>datetime</th>\n",
       "      <th>LL</th>\n",
       "      <th>row</th>\n",
       "      <th>clear_fraction</th>\n",
       "      <th>mean_temperature</th>\n",
       "      <th>Tmin</th>\n",
       "      <th>Tmax</th>\n",
       "      <th>...</th>\n",
       "      <th>pp_root</th>\n",
       "      <th>field_size</th>\n",
       "      <th>pp_type</th>\n",
       "      <th>pp_idx</th>\n",
       "      <th>U0</th>\n",
       "      <th>U1</th>\n",
       "      <th>zonal_slope</th>\n",
       "      <th>merid_slope</th>\n",
       "      <th>zonal_slope_err</th>\n",
       "      <th>merid_slope_err</th>\n",
       "    </tr>\n",
       "  </thead>\n",
       "  <tbody>\n",
       "    <tr>\n",
       "      <th>0</th>\n",
       "      <td>13.980967</td>\n",
       "      <td>62.675774</td>\n",
       "      <td>517</td>\n",
       "      <td>2003-03-10 21:25:00</td>\n",
       "      <td>520.178711</td>\n",
       "      <td>304</td>\n",
       "      <td>0.000000</td>\n",
       "      <td>26.199476</td>\n",
       "      <td>25.250000</td>\n",
       "      <td>26.885000</td>\n",
       "      <td>...</td>\n",
       "      <td>standard</td>\n",
       "      <td>128</td>\n",
       "      <td>0</td>\n",
       "      <td>0</td>\n",
       "      <td>-2.209477</td>\n",
       "      <td>5.983506</td>\n",
       "      <td>-1.186275</td>\n",
       "      <td>-2.126147</td>\n",
       "      <td>0.137467</td>\n",
       "      <td>0.224244</td>\n",
       "    </tr>\n",
       "    <tr>\n",
       "      <th>1</th>\n",
       "      <td>13.043748</td>\n",
       "      <td>-102.751816</td>\n",
       "      <td>706</td>\n",
       "      <td>2003-12-12 08:30:00</td>\n",
       "      <td>432.766724</td>\n",
       "      <td>1696</td>\n",
       "      <td>0.049805</td>\n",
       "      <td>28.924648</td>\n",
       "      <td>27.789999</td>\n",
       "      <td>29.654999</td>\n",
       "      <td>...</td>\n",
       "      <td>standard</td>\n",
       "      <td>128</td>\n",
       "      <td>0</td>\n",
       "      <td>1</td>\n",
       "      <td>-2.575606</td>\n",
       "      <td>6.238604</td>\n",
       "      <td>-0.678604</td>\n",
       "      <td>-0.904867</td>\n",
       "      <td>0.115963</td>\n",
       "      <td>0.128991</td>\n",
       "    </tr>\n",
       "    <tr>\n",
       "      <th>2</th>\n",
       "      <td>-18.086618</td>\n",
       "      <td>40.844833</td>\n",
       "      <td>581</td>\n",
       "      <td>2003-09-24 22:35:00</td>\n",
       "      <td>764.413086</td>\n",
       "      <td>656</td>\n",
       "      <td>0.006104</td>\n",
       "      <td>25.551611</td>\n",
       "      <td>24.775000</td>\n",
       "      <td>26.154999</td>\n",
       "      <td>...</td>\n",
       "      <td>standard</td>\n",
       "      <td>128</td>\n",
       "      <td>0</td>\n",
       "      <td>2</td>\n",
       "      <td>-4.080777</td>\n",
       "      <td>6.772544</td>\n",
       "      <td>-0.723022</td>\n",
       "      <td>-0.590398</td>\n",
       "      <td>0.076410</td>\n",
       "      <td>0.052984</td>\n",
       "    </tr>\n",
       "    <tr>\n",
       "      <th>3</th>\n",
       "      <td>39.071575</td>\n",
       "      <td>18.569141</td>\n",
       "      <td>1028</td>\n",
       "      <td>2003-05-01 01:05:00</td>\n",
       "      <td>371.310120</td>\n",
       "      <td>898</td>\n",
       "      <td>0.049988</td>\n",
       "      <td>16.414951</td>\n",
       "      <td>15.160000</td>\n",
       "      <td>17.205000</td>\n",
       "      <td>...</td>\n",
       "      <td>standard</td>\n",
       "      <td>128</td>\n",
       "      <td>0</td>\n",
       "      <td>3</td>\n",
       "      <td>-0.867894</td>\n",
       "      <td>7.890549</td>\n",
       "      <td>-1.370202</td>\n",
       "      <td>-1.285166</td>\n",
       "      <td>0.187732</td>\n",
       "      <td>0.101415</td>\n",
       "    </tr>\n",
       "    <tr>\n",
       "      <th>4</th>\n",
       "      <td>17.901926</td>\n",
       "      <td>90.155480</td>\n",
       "      <td>997</td>\n",
       "      <td>2003-12-05 19:55:00</td>\n",
       "      <td>-214.759277</td>\n",
       "      <td>1520</td>\n",
       "      <td>0.035461</td>\n",
       "      <td>26.744499</td>\n",
       "      <td>24.975000</td>\n",
       "      <td>28.724998</td>\n",
       "      <td>...</td>\n",
       "      <td>standard</td>\n",
       "      <td>128</td>\n",
       "      <td>0</td>\n",
       "      <td>4</td>\n",
       "      <td>4.985051</td>\n",
       "      <td>7.191708</td>\n",
       "      <td>-1.902952</td>\n",
       "      <td>-2.023731</td>\n",
       "      <td>0.232980</td>\n",
       "      <td>0.235537</td>\n",
       "    </tr>\n",
       "    <tr>\n",
       "      <th>...</th>\n",
       "      <td>...</td>\n",
       "      <td>...</td>\n",
       "      <td>...</td>\n",
       "      <td>...</td>\n",
       "      <td>...</td>\n",
       "      <td>...</td>\n",
       "      <td>...</td>\n",
       "      <td>...</td>\n",
       "      <td>...</td>\n",
       "      <td>...</td>\n",
       "      <td>...</td>\n",
       "      <td>...</td>\n",
       "      <td>...</td>\n",
       "      <td>...</td>\n",
       "      <td>...</td>\n",
       "      <td>...</td>\n",
       "      <td>...</td>\n",
       "      <td>...</td>\n",
       "      <td>...</td>\n",
       "      <td>...</td>\n",
       "      <td>...</td>\n",
       "    </tr>\n",
       "    <tr>\n",
       "      <th>95</th>\n",
       "      <td>28.401287</td>\n",
       "      <td>-45.495354</td>\n",
       "      <td>485</td>\n",
       "      <td>2003-08-10 04:45:00</td>\n",
       "      <td>283.588318</td>\n",
       "      <td>528</td>\n",
       "      <td>0.046814</td>\n",
       "      <td>27.789036</td>\n",
       "      <td>26.730000</td>\n",
       "      <td>28.545000</td>\n",
       "      <td>...</td>\n",
       "      <td>standard</td>\n",
       "      <td>128</td>\n",
       "      <td>0</td>\n",
       "      <td>95</td>\n",
       "      <td>0.902466</td>\n",
       "      <td>8.295392</td>\n",
       "      <td>-1.321589</td>\n",
       "      <td>-1.448842</td>\n",
       "      <td>0.096536</td>\n",
       "      <td>0.094340</td>\n",
       "    </tr>\n",
       "    <tr>\n",
       "      <th>96</th>\n",
       "      <td>39.676930</td>\n",
       "      <td>12.912404</td>\n",
       "      <td>261</td>\n",
       "      <td>2003-07-15 00:45:00</td>\n",
       "      <td>406.291748</td>\n",
       "      <td>1616</td>\n",
       "      <td>0.000061</td>\n",
       "      <td>27.372808</td>\n",
       "      <td>26.480000</td>\n",
       "      <td>28.349998</td>\n",
       "      <td>...</td>\n",
       "      <td>standard</td>\n",
       "      <td>128</td>\n",
       "      <td>0</td>\n",
       "      <td>96</td>\n",
       "      <td>1.672698</td>\n",
       "      <td>8.556923</td>\n",
       "      <td>-1.743409</td>\n",
       "      <td>-1.104188</td>\n",
       "      <td>0.088631</td>\n",
       "      <td>0.168535</td>\n",
       "    </tr>\n",
       "    <tr>\n",
       "      <th>97</th>\n",
       "      <td>68.270500</td>\n",
       "      <td>-11.948500</td>\n",
       "      <td>632</td>\n",
       "      <td>2003-04-12 03:45:00</td>\n",
       "      <td>83.249451</td>\n",
       "      <td>402</td>\n",
       "      <td>0.048401</td>\n",
       "      <td>0.972715</td>\n",
       "      <td>0.185000</td>\n",
       "      <td>2.245000</td>\n",
       "      <td>...</td>\n",
       "      <td>standard</td>\n",
       "      <td>128</td>\n",
       "      <td>0</td>\n",
       "      <td>97</td>\n",
       "      <td>3.773006</td>\n",
       "      <td>9.801711</td>\n",
       "      <td>-2.537361</td>\n",
       "      <td>-1.739796</td>\n",
       "      <td>0.127235</td>\n",
       "      <td>0.182993</td>\n",
       "    </tr>\n",
       "    <tr>\n",
       "      <th>98</th>\n",
       "      <td>12.504951</td>\n",
       "      <td>94.380860</td>\n",
       "      <td>206</td>\n",
       "      <td>2003-04-26 19:00:00</td>\n",
       "      <td>125.835571</td>\n",
       "      <td>1648</td>\n",
       "      <td>0.048157</td>\n",
       "      <td>30.507929</td>\n",
       "      <td>29.045000</td>\n",
       "      <td>32.594997</td>\n",
       "      <td>...</td>\n",
       "      <td>standard</td>\n",
       "      <td>128</td>\n",
       "      <td>0</td>\n",
       "      <td>98</td>\n",
       "      <td>-0.158122</td>\n",
       "      <td>7.542377</td>\n",
       "      <td>-1.537948</td>\n",
       "      <td>-1.535529</td>\n",
       "      <td>0.274891</td>\n",
       "      <td>0.150436</td>\n",
       "    </tr>\n",
       "    <tr>\n",
       "      <th>99</th>\n",
       "      <td>-17.818693</td>\n",
       "      <td>119.291016</td>\n",
       "      <td>389</td>\n",
       "      <td>2003-07-10 17:15:00</td>\n",
       "      <td>366.696899</td>\n",
       "      <td>48</td>\n",
       "      <td>0.000000</td>\n",
       "      <td>26.233852</td>\n",
       "      <td>24.955000</td>\n",
       "      <td>27.035000</td>\n",
       "      <td>...</td>\n",
       "      <td>standard</td>\n",
       "      <td>128</td>\n",
       "      <td>0</td>\n",
       "      <td>99</td>\n",
       "      <td>-0.018840</td>\n",
       "      <td>8.896789</td>\n",
       "      <td>-1.983787</td>\n",
       "      <td>-2.179395</td>\n",
       "      <td>0.109933</td>\n",
       "      <td>0.117154</td>\n",
       "    </tr>\n",
       "  </tbody>\n",
       "</table>\n",
       "<p>100 rows × 25 columns</p>\n",
       "</div>"
      ],
      "text/plain": [
       "          lat         lon   col            datetime          LL   row  \\\n",
       "0   13.980967   62.675774   517 2003-03-10 21:25:00  520.178711   304   \n",
       "1   13.043748 -102.751816   706 2003-12-12 08:30:00  432.766724  1696   \n",
       "2  -18.086618   40.844833   581 2003-09-24 22:35:00  764.413086   656   \n",
       "3   39.071575   18.569141  1028 2003-05-01 01:05:00  371.310120   898   \n",
       "4   17.901926   90.155480   997 2003-12-05 19:55:00 -214.759277  1520   \n",
       "..        ...         ...   ...                 ...         ...   ...   \n",
       "95  28.401287  -45.495354   485 2003-08-10 04:45:00  283.588318   528   \n",
       "96  39.676930   12.912404   261 2003-07-15 00:45:00  406.291748  1616   \n",
       "97  68.270500  -11.948500   632 2003-04-12 03:45:00   83.249451   402   \n",
       "98  12.504951   94.380860   206 2003-04-26 19:00:00  125.835571  1648   \n",
       "99 -17.818693  119.291016   389 2003-07-10 17:15:00  366.696899    48   \n",
       "\n",
       "    clear_fraction  mean_temperature       Tmin       Tmax  ...   pp_root  \\\n",
       "0         0.000000         26.199476  25.250000  26.885000  ...  standard   \n",
       "1         0.049805         28.924648  27.789999  29.654999  ...  standard   \n",
       "2         0.006104         25.551611  24.775000  26.154999  ...  standard   \n",
       "3         0.049988         16.414951  15.160000  17.205000  ...  standard   \n",
       "4         0.035461         26.744499  24.975000  28.724998  ...  standard   \n",
       "..             ...               ...        ...        ...  ...       ...   \n",
       "95        0.046814         27.789036  26.730000  28.545000  ...  standard   \n",
       "96        0.000061         27.372808  26.480000  28.349998  ...  standard   \n",
       "97        0.048401          0.972715   0.185000   2.245000  ...  standard   \n",
       "98        0.048157         30.507929  29.045000  32.594997  ...  standard   \n",
       "99        0.000000         26.233852  24.955000  27.035000  ...  standard   \n",
       "\n",
       "    field_size pp_type  pp_idx        U0        U1  zonal_slope  merid_slope  \\\n",
       "0          128       0       0 -2.209477  5.983506    -1.186275    -2.126147   \n",
       "1          128       0       1 -2.575606  6.238604    -0.678604    -0.904867   \n",
       "2          128       0       2 -4.080777  6.772544    -0.723022    -0.590398   \n",
       "3          128       0       3 -0.867894  7.890549    -1.370202    -1.285166   \n",
       "4          128       0       4  4.985051  7.191708    -1.902952    -2.023731   \n",
       "..         ...     ...     ...       ...       ...          ...          ...   \n",
       "95         128       0      95  0.902466  8.295392    -1.321589    -1.448842   \n",
       "96         128       0      96  1.672698  8.556923    -1.743409    -1.104188   \n",
       "97         128       0      97  3.773006  9.801711    -2.537361    -1.739796   \n",
       "98         128       0      98 -0.158122  7.542377    -1.537948    -1.535529   \n",
       "99         128       0      99 -0.018840  8.896789    -1.983787    -2.179395   \n",
       "\n",
       "    zonal_slope_err  merid_slope_err  \n",
       "0          0.137467         0.224244  \n",
       "1          0.115963         0.128991  \n",
       "2          0.076410         0.052984  \n",
       "3          0.187732         0.101415  \n",
       "4          0.232980         0.235537  \n",
       "..              ...              ...  \n",
       "95         0.096536         0.094340  \n",
       "96         0.088631         0.168535  \n",
       "97         0.127235         0.182993  \n",
       "98         0.274891         0.150436  \n",
       "99         0.109933         0.117154  \n",
       "\n",
       "[100 rows x 25 columns]"
      ]
     },
     "execution_count": 19,
     "metadata": {},
     "output_type": "execute_result"
    }
   ],
   "source": [
    "modis_tbl.iloc[tmp]"
   ]
  },
  {
   "cell_type": "markdown",
   "id": "92b4eb74",
   "metadata": {},
   "source": [
    "----"
   ]
  },
  {
   "cell_type": "markdown",
   "id": "641c3f8e",
   "metadata": {},
   "source": [
    "# Image format"
   ]
  },
  {
   "cell_type": "markdown",
   "id": "62140639",
   "metadata": {},
   "source": [
    "## Cloud free"
   ]
  },
  {
   "cell_type": "code",
   "execution_count": 3,
   "id": "2749a7e4",
   "metadata": {},
   "outputs": [],
   "source": [
    "cloud_free_file = 'MODIS_SSL_cloud_free_images.h5'"
   ]
  },
  {
   "cell_type": "code",
   "execution_count": 5,
   "id": "e46474cb",
   "metadata": {},
   "outputs": [],
   "source": [
    "cf_h5 = h5py.File(cloud_free_file, 'r')"
   ]
  },
  {
   "cell_type": "code",
   "execution_count": 7,
   "id": "7e91b449",
   "metadata": {},
   "outputs": [
    {
     "data": {
      "text/plain": [
       "(600000, 64, 64)"
      ]
     },
     "execution_count": 7,
     "metadata": {},
     "output_type": "execute_result"
    }
   ],
   "source": [
    "cf_h5['train'].shape"
   ]
  },
  {
   "cell_type": "code",
   "execution_count": 11,
   "id": "33d0d60a",
   "metadata": {},
   "outputs": [
    {
     "data": {
      "text/plain": [
       "(150000, 64, 64)"
      ]
     },
     "execution_count": 11,
     "metadata": {},
     "output_type": "execute_result"
    }
   ],
   "source": [
    "cf_h5['valid'].shape"
   ]
  },
  {
   "cell_type": "code",
   "execution_count": 15,
   "id": "04d60216",
   "metadata": {},
   "outputs": [],
   "source": [
    "cf_h5.close()"
   ]
  },
  {
   "cell_type": "markdown",
   "id": "a35e875e",
   "metadata": {},
   "source": [
    "## Standard"
   ]
  },
  {
   "cell_type": "code",
   "execution_count": 8,
   "id": "d93bd976",
   "metadata": {},
   "outputs": [],
   "source": [
    "std_file = '/data/Projects/Oceanography/AI/OOD/SST/MODIS_L2/PreProc/MODIS_R2019_2019_95clear_128x128_preproc_std.h5'"
   ]
  },
  {
   "cell_type": "code",
   "execution_count": 12,
   "id": "96c47ea1",
   "metadata": {},
   "outputs": [],
   "source": [
    "std_h5 = h5py.File(std_file, 'r')"
   ]
  },
  {
   "cell_type": "code",
   "execution_count": 13,
   "id": "18e53e2a",
   "metadata": {},
   "outputs": [
    {
     "data": {
      "text/plain": [
       "(751689, 1, 64, 64)"
      ]
     },
     "execution_count": 13,
     "metadata": {},
     "output_type": "execute_result"
    }
   ],
   "source": [
    "std_h5['valid'].shape"
   ]
  },
  {
   "cell_type": "code",
   "execution_count": 16,
   "id": "ec5da28c",
   "metadata": {},
   "outputs": [],
   "source": [
    "std_h5.close()"
   ]
  },
  {
   "cell_type": "markdown",
   "id": "2f0f4184",
   "metadata": {},
   "source": [
    "## Fix"
   ]
  },
  {
   "cell_type": "code",
   "execution_count": 14,
   "id": "308ec27b",
   "metadata": {},
   "outputs": [],
   "source": [
    "orig_cloud_free_file = 'MODIS_SSL_cloud_free_images_orig.h5'"
   ]
  },
  {
   "cell_type": "code",
   "execution_count": 18,
   "id": "8cc1e98b",
   "metadata": {},
   "outputs": [],
   "source": [
    "orig_cf_h5 = h5py.File(orig_cloud_free_file, 'r')"
   ]
  },
  {
   "cell_type": "code",
   "execution_count": 27,
   "id": "88878b1a",
   "metadata": {},
   "outputs": [],
   "source": [
    "valid_imgs = orig_cf_h5['valid'][:]"
   ]
  },
  {
   "cell_type": "code",
   "execution_count": 20,
   "id": "1eed31dd",
   "metadata": {},
   "outputs": [
    {
     "data": {
      "text/plain": [
       "(150000, 64, 64)"
      ]
     },
     "execution_count": 20,
     "metadata": {},
     "output_type": "execute_result"
    }
   ],
   "source": [
    "valid_imgs.shape"
   ]
  },
  {
   "cell_type": "code",
   "execution_count": 21,
   "id": "80b4ab06",
   "metadata": {},
   "outputs": [],
   "source": [
    "train_imgs = orig_cf_h5['train'][:]"
   ]
  },
  {
   "cell_type": "markdown",
   "id": "8ac5355b",
   "metadata": {},
   "source": [
    "### Reshape"
   ]
  },
  {
   "cell_type": "code",
   "execution_count": 24,
   "id": "d27fa9bd",
   "metadata": {},
   "outputs": [
    {
     "data": {
      "text/plain": [
       "(600000, 1, 64, 64)"
      ]
     },
     "execution_count": 24,
     "metadata": {},
     "output_type": "execute_result"
    }
   ],
   "source": [
    "train_imgs = train_imgs.reshape((train_imgs.shape[0],1,64,64))\n",
    "train_imgs.shape"
   ]
  },
  {
   "cell_type": "code",
   "execution_count": 28,
   "id": "bfb37f8d",
   "metadata": {},
   "outputs": [],
   "source": [
    "valid_imgs = valid_imgs.reshape((valid_imgs.shape[0],1,64,64))"
   ]
  },
  {
   "cell_type": "markdown",
   "id": "926d24fe",
   "metadata": {},
   "source": [
    "### Indices"
   ]
  },
  {
   "cell_type": "code",
   "execution_count": 22,
   "id": "4ddcbf8a",
   "metadata": {},
   "outputs": [],
   "source": [
    "train_indices = orig_cf_h5['train_indices']\n",
    "valid_indices = orig_cf_h5['valid_indices']"
   ]
  },
  {
   "cell_type": "markdown",
   "id": "ccd6239f",
   "metadata": {},
   "source": [
    "### Write"
   ]
  },
  {
   "cell_type": "code",
   "execution_count": 29,
   "id": "06db78e7",
   "metadata": {},
   "outputs": [],
   "source": [
    "# Write\n",
    "out_h5 = h5py.File(cloud_free_file, 'w')\n",
    "out_h5.create_dataset('train', data=train_imgs) \n",
    "out_h5.create_dataset('train_indices', data=train_indices)  # These are the cloud free indices\n",
    "out_h5.create_dataset('valid', data=valid_imgs) \n",
    "out_h5.create_dataset('valid_indices', data=valid_indices)  # These are the cloud free indices\n",
    "out_h5.close()"
   ]
  },
  {
   "cell_type": "code",
   "execution_count": null,
   "id": "947a04ca",
   "metadata": {},
   "outputs": [],
   "source": []
  }
 ],
 "metadata": {
  "kernelspec": {
   "display_name": "Python 3 (ipykernel)",
   "language": "python",
   "name": "python3"
  },
  "language_info": {
   "codemirror_mode": {
    "name": "ipython",
    "version": 3
   },
   "file_extension": ".py",
   "mimetype": "text/x-python",
   "name": "python",
   "nbconvert_exporter": "python",
   "pygments_lexer": "ipython3",
   "version": "3.8.5"
  }
 },
 "nbformat": 4,
 "nbformat_minor": 5
}
