{
 "cells": [
  {
   "cell_type": "markdown",
   "metadata": {},
   "source": [
    "# Debuggin"
   ]
  },
  {
   "cell_type": "code",
   "execution_count": 9,
   "metadata": {},
   "outputs": [],
   "source": [
    "# imports\n",
    "from ulmo import io as ulmo_io\n",
    "from ulmo.llc import io as llc_io\n",
    "from ulmo.plotting import plotting"
   ]
  },
  {
   "cell_type": "markdown",
   "metadata": {},
   "source": [
    "# Load table"
   ]
  },
  {
   "cell_type": "code",
   "execution_count": 15,
   "metadata": {},
   "outputs": [
    {
     "name": "stdout",
     "output_type": "stream",
     "text": [
      "Read main table: s3://llc/Tables/LLC_MODIS2012_SSL_v1.parquet\n"
     ]
    }
   ],
   "source": [
    "llc_tbl = ulmo_io.load_main_table(\"s3://llc/Tables/LLC_MODIS2012_SSL_v1.parquet\")"
   ]
  },
  {
   "cell_type": "code",
   "execution_count": 3,
   "metadata": {},
   "outputs": [
    {
     "data": {
      "text/html": [
       "<div>\n",
       "<style scoped>\n",
       "    .dataframe tbody tr th:only-of-type {\n",
       "        vertical-align: middle;\n",
       "    }\n",
       "\n",
       "    .dataframe tbody tr th {\n",
       "        vertical-align: top;\n",
       "    }\n",
       "\n",
       "    .dataframe thead th {\n",
       "        text-align: right;\n",
       "    }\n",
       "</style>\n",
       "<table border=\"1\" class=\"dataframe\">\n",
       "  <thead>\n",
       "    <tr style=\"text-align: right;\">\n",
       "      <th></th>\n",
       "      <th>modis_lat</th>\n",
       "      <th>modis_lon</th>\n",
       "      <th>modis_col</th>\n",
       "      <th>modis_datetime</th>\n",
       "      <th>modis_LL</th>\n",
       "      <th>modis_row</th>\n",
       "      <th>clear_fraction</th>\n",
       "      <th>mean_temperature</th>\n",
       "      <th>Tmin</th>\n",
       "      <th>Tmax</th>\n",
       "      <th>...</th>\n",
       "      <th>pp_idx</th>\n",
       "      <th>lat</th>\n",
       "      <th>lon</th>\n",
       "      <th>row</th>\n",
       "      <th>col</th>\n",
       "      <th>datetime</th>\n",
       "      <th>filename</th>\n",
       "      <th>LL</th>\n",
       "      <th>U0</th>\n",
       "      <th>U1</th>\n",
       "    </tr>\n",
       "  </thead>\n",
       "  <tbody>\n",
       "    <tr>\n",
       "      <th>0</th>\n",
       "      <td>-52.410507</td>\n",
       "      <td>-42.126858</td>\n",
       "      <td>1028</td>\n",
       "      <td>2012-01-01 04:10:00</td>\n",
       "      <td>-147.370605</td>\n",
       "      <td>64</td>\n",
       "      <td>0.049805</td>\n",
       "      <td>4.124990</td>\n",
       "      <td>3.401999</td>\n",
       "      <td>6.411</td>\n",
       "      <td>...</td>\n",
       "      <td>487936</td>\n",
       "      <td>-52.406319</td>\n",
       "      <td>-42.135418</td>\n",
       "      <td>4687</td>\n",
       "      <td>17049</td>\n",
       "      <td>2012-01-01</td>\n",
       "      <td>s3://llc/ThetaUVSalt/LLC4320_2012-01-01T00_00_...</td>\n",
       "      <td>124.020691</td>\n",
       "      <td>0.081190</td>\n",
       "      <td>-1.683316</td>\n",
       "    </tr>\n",
       "    <tr>\n",
       "      <th>1</th>\n",
       "      <td>-52.194720</td>\n",
       "      <td>-42.787216</td>\n",
       "      <td>997</td>\n",
       "      <td>2012-01-01 04:10:00</td>\n",
       "      <td>-248.946106</td>\n",
       "      <td>48</td>\n",
       "      <td>0.043213</td>\n",
       "      <td>5.315350</td>\n",
       "      <td>3.464000</td>\n",
       "      <td>6.544</td>\n",
       "      <td>...</td>\n",
       "      <td>517068</td>\n",
       "      <td>-52.188812</td>\n",
       "      <td>-42.781250</td>\n",
       "      <td>4705</td>\n",
       "      <td>17018</td>\n",
       "      <td>2012-01-01</td>\n",
       "      <td>s3://llc/ThetaUVSalt/LLC4320_2012-01-01T00_00_...</td>\n",
       "      <td>45.473206</td>\n",
       "      <td>2.156744</td>\n",
       "      <td>5.446103</td>\n",
       "    </tr>\n",
       "    <tr>\n",
       "      <th>2</th>\n",
       "      <td>-52.031720</td>\n",
       "      <td>-43.191420</td>\n",
       "      <td>976</td>\n",
       "      <td>2012-01-01 04:10:00</td>\n",
       "      <td>-264.156342</td>\n",
       "      <td>33</td>\n",
       "      <td>0.049500</td>\n",
       "      <td>5.912542</td>\n",
       "      <td>3.557000</td>\n",
       "      <td>6.852</td>\n",
       "      <td>...</td>\n",
       "      <td>58066</td>\n",
       "      <td>-52.031147</td>\n",
       "      <td>-43.197918</td>\n",
       "      <td>4718</td>\n",
       "      <td>16998</td>\n",
       "      <td>2012-01-01</td>\n",
       "      <td>s3://llc/ThetaUVSalt/LLC4320_2012-01-01T00_00_...</td>\n",
       "      <td>159.249695</td>\n",
       "      <td>-0.153196</td>\n",
       "      <td>5.635493</td>\n",
       "    </tr>\n",
       "    <tr>\n",
       "      <th>3</th>\n",
       "      <td>-51.908875</td>\n",
       "      <td>-42.702328</td>\n",
       "      <td>997</td>\n",
       "      <td>2012-01-01 04:10:00</td>\n",
       "      <td>-228.816925</td>\n",
       "      <td>16</td>\n",
       "      <td>0.018188</td>\n",
       "      <td>5.859069</td>\n",
       "      <td>3.442000</td>\n",
       "      <td>6.709</td>\n",
       "      <td>...</td>\n",
       "      <td>76355</td>\n",
       "      <td>-51.909538</td>\n",
       "      <td>-42.697918</td>\n",
       "      <td>4728</td>\n",
       "      <td>17022</td>\n",
       "      <td>2012-01-01</td>\n",
       "      <td>s3://llc/ThetaUVSalt/LLC4320_2012-01-01T00_00_...</td>\n",
       "      <td>153.434143</td>\n",
       "      <td>-1.593299</td>\n",
       "      <td>3.993969</td>\n",
       "    </tr>\n",
       "    <tr>\n",
       "      <th>4</th>\n",
       "      <td>-51.865665</td>\n",
       "      <td>-43.186947</td>\n",
       "      <td>974</td>\n",
       "      <td>2012-01-01 04:10:00</td>\n",
       "      <td>-260.829315</td>\n",
       "      <td>16</td>\n",
       "      <td>0.048279</td>\n",
       "      <td>6.131550</td>\n",
       "      <td>5.386000</td>\n",
       "      <td>6.852</td>\n",
       "      <td>...</td>\n",
       "      <td>523013</td>\n",
       "      <td>-51.860813</td>\n",
       "      <td>-43.177082</td>\n",
       "      <td>4732</td>\n",
       "      <td>16999</td>\n",
       "      <td>2012-01-01</td>\n",
       "      <td>s3://llc/ThetaUVSalt/LLC4320_2012-01-01T00_00_...</td>\n",
       "      <td>148.887573</td>\n",
       "      <td>-0.660622</td>\n",
       "      <td>1.895348</td>\n",
       "    </tr>\n",
       "  </tbody>\n",
       "</table>\n",
       "<p>5 rows × 28 columns</p>\n",
       "</div>"
      ],
      "text/plain": [
       "   modis_lat  modis_lon  modis_col      modis_datetime    modis_LL  modis_row  \\\n",
       "0 -52.410507 -42.126858       1028 2012-01-01 04:10:00 -147.370605         64   \n",
       "1 -52.194720 -42.787216        997 2012-01-01 04:10:00 -248.946106         48   \n",
       "2 -52.031720 -43.191420        976 2012-01-01 04:10:00 -264.156342         33   \n",
       "3 -51.908875 -42.702328        997 2012-01-01 04:10:00 -228.816925         16   \n",
       "4 -51.865665 -43.186947        974 2012-01-01 04:10:00 -260.829315         16   \n",
       "\n",
       "   clear_fraction  mean_temperature      Tmin   Tmax  ...  pp_idx        lat  \\\n",
       "0        0.049805          4.124990  3.401999  6.411  ...  487936 -52.406319   \n",
       "1        0.043213          5.315350  3.464000  6.544  ...  517068 -52.188812   \n",
       "2        0.049500          5.912542  3.557000  6.852  ...   58066 -52.031147   \n",
       "3        0.018188          5.859069  3.442000  6.709  ...   76355 -51.909538   \n",
       "4        0.048279          6.131550  5.386000  6.852  ...  523013 -51.860813   \n",
       "\n",
       "         lon   row    col   datetime  \\\n",
       "0 -42.135418  4687  17049 2012-01-01   \n",
       "1 -42.781250  4705  17018 2012-01-01   \n",
       "2 -43.197918  4718  16998 2012-01-01   \n",
       "3 -42.697918  4728  17022 2012-01-01   \n",
       "4 -43.177082  4732  16999 2012-01-01   \n",
       "\n",
       "                                            filename          LL        U0  \\\n",
       "0  s3://llc/ThetaUVSalt/LLC4320_2012-01-01T00_00_...  124.020691  0.081190   \n",
       "1  s3://llc/ThetaUVSalt/LLC4320_2012-01-01T00_00_...   45.473206  2.156744   \n",
       "2  s3://llc/ThetaUVSalt/LLC4320_2012-01-01T00_00_...  159.249695 -0.153196   \n",
       "3  s3://llc/ThetaUVSalt/LLC4320_2012-01-01T00_00_...  153.434143 -1.593299   \n",
       "4  s3://llc/ThetaUVSalt/LLC4320_2012-01-01T00_00_...  148.887573 -0.660622   \n",
       "\n",
       "         U1  \n",
       "0 -1.683316  \n",
       "1  5.446103  \n",
       "2  5.635493  \n",
       "3  3.993969  \n",
       "4  1.895348  \n",
       "\n",
       "[5 rows x 28 columns]"
      ]
     },
     "execution_count": 3,
     "metadata": {},
     "output_type": "execute_result"
    }
   ],
   "source": [
    "llc_tbl.head()"
   ]
  },
  {
   "cell_type": "markdown",
   "metadata": {},
   "source": [
    "# Check one"
   ]
  },
  {
   "cell_type": "code",
   "execution_count": 4,
   "metadata": {},
   "outputs": [
    {
     "data": {
      "text/html": [
       "<div>\n",
       "<style scoped>\n",
       "    .dataframe tbody tr th:only-of-type {\n",
       "        vertical-align: middle;\n",
       "    }\n",
       "\n",
       "    .dataframe tbody tr th {\n",
       "        vertical-align: top;\n",
       "    }\n",
       "\n",
       "    .dataframe thead th {\n",
       "        text-align: right;\n",
       "    }\n",
       "</style>\n",
       "<table border=\"1\" class=\"dataframe\">\n",
       "  <thead>\n",
       "    <tr style=\"text-align: right;\">\n",
       "      <th></th>\n",
       "      <th>modis_lat</th>\n",
       "      <th>modis_lon</th>\n",
       "      <th>modis_col</th>\n",
       "      <th>modis_datetime</th>\n",
       "      <th>modis_LL</th>\n",
       "      <th>modis_row</th>\n",
       "      <th>clear_fraction</th>\n",
       "      <th>mean_temperature</th>\n",
       "      <th>Tmin</th>\n",
       "      <th>Tmax</th>\n",
       "      <th>...</th>\n",
       "      <th>pp_idx</th>\n",
       "      <th>lat</th>\n",
       "      <th>lon</th>\n",
       "      <th>row</th>\n",
       "      <th>col</th>\n",
       "      <th>datetime</th>\n",
       "      <th>filename</th>\n",
       "      <th>LL</th>\n",
       "      <th>U0</th>\n",
       "      <th>U1</th>\n",
       "    </tr>\n",
       "  </thead>\n",
       "  <tbody>\n",
       "    <tr>\n",
       "      <th>20741</th>\n",
       "      <td>-41.17441</td>\n",
       "      <td>-53.519936</td>\n",
       "      <td>453</td>\n",
       "      <td>2012-01-13 04:30:00</td>\n",
       "      <td>-57.402588</td>\n",
       "      <td>848</td>\n",
       "      <td>0.0</td>\n",
       "      <td>20.076447</td>\n",
       "      <td>16.423</td>\n",
       "      <td>21.674</td>\n",
       "      <td>...</td>\n",
       "      <td>613628</td>\n",
       "      <td>-41.174377</td>\n",
       "      <td>-53.510418</td>\n",
       "      <td>5532</td>\n",
       "      <td>16503</td>\n",
       "      <td>2012-01-13</td>\n",
       "      <td>s3://llc/ThetaUVSalt/LLC4320_2012-01-13T00_00_...</td>\n",
       "      <td>-582.798157</td>\n",
       "      <td>6.68562</td>\n",
       "      <td>-0.61592</td>\n",
       "    </tr>\n",
       "  </tbody>\n",
       "</table>\n",
       "<p>1 rows × 28 columns</p>\n",
       "</div>"
      ],
      "text/plain": [
       "       modis_lat  modis_lon  modis_col      modis_datetime   modis_LL  \\\n",
       "20741  -41.17441 -53.519936        453 2012-01-13 04:30:00 -57.402588   \n",
       "\n",
       "       modis_row  clear_fraction  mean_temperature    Tmin    Tmax  ...  \\\n",
       "20741        848             0.0         20.076447  16.423  21.674  ...   \n",
       "\n",
       "       pp_idx        lat        lon   row    col   datetime  \\\n",
       "20741  613628 -41.174377 -53.510418  5532  16503 2012-01-13   \n",
       "\n",
       "                                                filename          LL       U0  \\\n",
       "20741  s3://llc/ThetaUVSalt/LLC4320_2012-01-13T00_00_... -582.798157  6.68562   \n",
       "\n",
       "            U1  \n",
       "20741 -0.61592  \n",
       "\n",
       "[1 rows x 28 columns]"
      ]
     },
     "execution_count": 4,
     "metadata": {},
     "output_type": "execute_result"
    }
   ],
   "source": [
    "llc_tbl[20741:20742]"
   ]
  },
  {
   "cell_type": "code",
   "execution_count": 12,
   "metadata": {},
   "outputs": [
    {
     "data": {
      "text/html": [
       "<div>\n",
       "<style scoped>\n",
       "    .dataframe tbody tr th:only-of-type {\n",
       "        vertical-align: middle;\n",
       "    }\n",
       "\n",
       "    .dataframe tbody tr th {\n",
       "        vertical-align: top;\n",
       "    }\n",
       "\n",
       "    .dataframe thead th {\n",
       "        text-align: right;\n",
       "    }\n",
       "</style>\n",
       "<table border=\"1\" class=\"dataframe\">\n",
       "  <thead>\n",
       "    <tr style=\"text-align: right;\">\n",
       "      <th></th>\n",
       "      <th>modis_lat</th>\n",
       "      <th>modis_lon</th>\n",
       "      <th>modis_col</th>\n",
       "      <th>modis_datetime</th>\n",
       "      <th>modis_LL</th>\n",
       "      <th>modis_row</th>\n",
       "      <th>clear_fraction</th>\n",
       "      <th>mean_temperature</th>\n",
       "      <th>Tmin</th>\n",
       "      <th>Tmax</th>\n",
       "      <th>...</th>\n",
       "      <th>pp_idx</th>\n",
       "      <th>lat</th>\n",
       "      <th>lon</th>\n",
       "      <th>row</th>\n",
       "      <th>col</th>\n",
       "      <th>datetime</th>\n",
       "      <th>filename</th>\n",
       "      <th>LL</th>\n",
       "      <th>U0</th>\n",
       "      <th>U1</th>\n",
       "    </tr>\n",
       "  </thead>\n",
       "  <tbody>\n",
       "    <tr>\n",
       "      <th>20741</th>\n",
       "      <td>-41.17441</td>\n",
       "      <td>-53.519936</td>\n",
       "      <td>453</td>\n",
       "      <td>2012-01-13 04:30:00</td>\n",
       "      <td>-57.402588</td>\n",
       "      <td>848</td>\n",
       "      <td>0.0</td>\n",
       "      <td>20.076447</td>\n",
       "      <td>16.423</td>\n",
       "      <td>21.674</td>\n",
       "      <td>...</td>\n",
       "      <td>613628</td>\n",
       "      <td>-41.174377</td>\n",
       "      <td>-53.510418</td>\n",
       "      <td>5532</td>\n",
       "      <td>16503</td>\n",
       "      <td>2012-01-13</td>\n",
       "      <td>s3://llc/ThetaUVSalt/LLC4320_2012-01-13T00_00_...</td>\n",
       "      <td>-582.798157</td>\n",
       "      <td>6.534503</td>\n",
       "      <td>0.430718</td>\n",
       "    </tr>\n",
       "  </tbody>\n",
       "</table>\n",
       "<p>1 rows × 28 columns</p>\n",
       "</div>"
      ],
      "text/plain": [
       "       modis_lat  modis_lon  modis_col      modis_datetime   modis_LL  \\\n",
       "20741  -41.17441 -53.519936        453 2012-01-13 04:30:00 -57.402588   \n",
       "\n",
       "       modis_row  clear_fraction  mean_temperature    Tmin    Tmax  ...  \\\n",
       "20741        848             0.0         20.076447  16.423  21.674  ...   \n",
       "\n",
       "       pp_idx        lat        lon   row    col   datetime  \\\n",
       "20741  613628 -41.174377 -53.510418  5532  16503 2012-01-13   \n",
       "\n",
       "                                                filename          LL  \\\n",
       "20741  s3://llc/ThetaUVSalt/LLC4320_2012-01-13T00_00_... -582.798157   \n",
       "\n",
       "             U0        U1  \n",
       "20741  6.534503  0.430718  \n",
       "\n",
       "[1 rows x 28 columns]"
      ]
     },
     "execution_count": 12,
     "metadata": {},
     "output_type": "execute_result"
    }
   ],
   "source": [
    "llc_tbl[20741:20742]"
   ]
  },
  {
   "cell_type": "code",
   "execution_count": 5,
   "metadata": {},
   "outputs": [
    {
     "data": {
      "text/plain": [
       "Index(['modis_lat', 'modis_lon', 'modis_col', 'modis_datetime', 'modis_LL',\n",
       "       'modis_row', 'clear_fraction', 'mean_temperature', 'Tmin', 'Tmax',\n",
       "       'T90', 'T10', 'modis_filename', 'modis_UID', 'pp_file', 'pp_root',\n",
       "       'field_size', 'pp_type', 'pp_idx', 'lat', 'lon', 'row', 'col',\n",
       "       'datetime', 'filename', 'LL', 'U0', 'U1'],\n",
       "      dtype='object')"
      ]
     },
     "execution_count": 5,
     "metadata": {},
     "output_type": "execute_result"
    }
   ],
   "source": [
    "llc_tbl.keys()"
   ]
  },
  {
   "cell_type": "markdown",
   "metadata": {},
   "source": [
    "## Cutout"
   ]
  },
  {
   "cell_type": "code",
   "execution_count": 6,
   "metadata": {},
   "outputs": [
    {
     "data": {
      "text/plain": [
       "modis_lat                                                    -41.1744\n",
       "modis_lon                                                    -53.5199\n",
       "modis_col                                                         453\n",
       "modis_datetime                                    2012-01-13 04:30:00\n",
       "modis_LL                                                     -57.4026\n",
       "modis_row                                                         848\n",
       "clear_fraction                                                      0\n",
       "mean_temperature                                              20.0764\n",
       "Tmin                                                           16.423\n",
       "Tmax                                                           21.674\n",
       "T90                                                            21.441\n",
       "T10                                                            17.706\n",
       "modis_filename                   AQUA_MODIS.20120113T043008.L2.SST.nc\n",
       "modis_UID                                          132648825612648006\n",
       "pp_file             s3://llc/PreProc/LLC_modis2012_test_noise_prep...\n",
       "pp_root                                                     llc_noise\n",
       "field_size                                                         64\n",
       "pp_type                                                             0\n",
       "pp_idx                                                         613628\n",
       "lat                                                          -41.1744\n",
       "lon                                                          -53.5104\n",
       "row                                                              5532\n",
       "col                                                             16503\n",
       "datetime                                          2012-01-13 00:00:00\n",
       "filename            s3://llc/ThetaUVSalt/LLC4320_2012-01-13T00_00_...\n",
       "LL                                                           -582.798\n",
       "U0                                                            6.68562\n",
       "U1                                                           -0.61592\n",
       "Name: 20741, dtype: object"
      ]
     },
     "execution_count": 6,
     "metadata": {},
     "output_type": "execute_result"
    }
   ],
   "source": [
    "cutout = llc_tbl.iloc[20741]\n",
    "cutout"
   ]
  },
  {
   "cell_type": "code",
   "execution_count": 8,
   "metadata": {},
   "outputs": [],
   "source": [
    "cutout_img = llc_io.grab_image(cutout)"
   ]
  },
  {
   "cell_type": "code",
   "execution_count": 10,
   "metadata": {},
   "outputs": [
    {
     "data": {
      "text/plain": [
       "<AxesSubplot:>"
      ]
     },
     "execution_count": 10,
     "metadata": {},
     "output_type": "execute_result"
    },
    {
     "data": {
      "image/png": "[encoded data removed]",
      "text/plain": [
       "<Figure size 432x288 with 2 Axes>"
      ]
     },
     "metadata": {
      "needs_background": "light"
     },
     "output_type": "display_data"
    }
   ],
   "source": [
    "plotting.show_image(cutout_img)"
   ]
  },
  {
   "cell_type": "markdown",
   "metadata": {},
   "source": [
    "----"
   ]
  },
  {
   "cell_type": "markdown",
   "metadata": {},
   "source": [
    "# Check another.."
   ]
  },
  {
   "cell_type": "code",
   "execution_count": 16,
   "metadata": {},
   "outputs": [
    {
     "data": {
      "text/plain": [
       "modis_lat                                                     29.5922\n",
       "modis_lon                                                     125.542\n",
       "modis_col                                                         197\n",
       "modis_datetime                                    2012-01-31 17:10:00\n",
       "modis_LL                                                     -99.2478\n",
       "modis_row                                                         560\n",
       "clear_fraction                                              0.0129395\n",
       "mean_temperature                                              14.6778\n",
       "Tmin                                                           12.974\n",
       "Tmax                                                           18.988\n",
       "T90                                                              17.1\n",
       "T10                                                            13.367\n",
       "modis_filename                   AQUA_MODIS.20120131T171008.L2.SST.nc\n",
       "modis_UID                                         1328119592230554171\n",
       "pp_file             s3://llc/PreProc/LLC_modis2012_test_noise_prep...\n",
       "pp_root                                                     llc_noise\n",
       "field_size                                                         64\n",
       "pp_type                                                             0\n",
       "pp_idx                                                         239350\n",
       "lat                                                            29.598\n",
       "lon                                                           125.552\n",
       "row                                                              9502\n",
       "col                                                              7818\n",
       "datetime                                          2012-01-31 12:00:00\n",
       "filename            s3://llc/ThetaUVSalt/LLC4320_2012-01-31T12_00_...\n",
       "LL                                                           -249.754\n",
       "U0                                                            6.43033\n",
       "U1                                                          -0.209928\n",
       "Name: 55485, dtype: object"
      ]
     },
     "execution_count": 16,
     "metadata": {},
     "output_type": "execute_result"
    }
   ],
   "source": [
    "cutout = llc_tbl.iloc[55485]\n",
    "cutout"
   ]
  },
  {
   "cell_type": "code",
   "execution_count": 14,
   "metadata": {},
   "outputs": [
    {
     "data": {
      "text/plain": [
       "<AxesSubplot:>"
      ]
     },
     "execution_count": 14,
     "metadata": {},
     "output_type": "execute_result"
    },
    {
     "data": {
      "image/png": "[encoded data removed]",
      "text/plain": [
       "<Figure size 432x288 with 2 Axes>"
      ]
     },
     "metadata": {
      "needs_background": "light"
     },
     "output_type": "display_data"
    }
   ],
   "source": [
    "cutout_img = llc_io.grab_image(cutout)\n",
    "plotting.show_image(cutout_img)"
   ]
  },
  {
   "cell_type": "code",
   "execution_count": null,
   "metadata": {},
   "outputs": [],
   "source": []
  }
 ],
 "metadata": {
  "kernelspec": {
   "display_name": "Python 3",
   "language": "python",
   "name": "python3"
  },
  "language_info": {
   "codemirror_mode": {
    "name": "ipython",
    "version": 3
   },
   "file_extension": ".py",
   "mimetype": "text/x-python",
   "name": "python",
   "nbconvert_exporter": "python",
   "pygments_lexer": "ipython3",
   "version": "3.8.5"
  }
 },
 "nbformat": 4,
 "nbformat_minor": 4
}
