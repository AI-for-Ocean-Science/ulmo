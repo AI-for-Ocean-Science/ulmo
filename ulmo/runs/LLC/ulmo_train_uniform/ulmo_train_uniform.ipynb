{
 "cells": [
  {
   "cell_type": "markdown",
   "id": "5f366785-dba0-45f7-909c-acdab43f589a",
   "metadata": {},
   "source": [
    "# Train Ulmo with llc modis uniform data"
   ]
  },
  {
   "cell_type": "code",
   "execution_count": 1,
   "id": "076ab466-c93b-49a5-878b-c4971929d798",
   "metadata": {},
   "outputs": [],
   "source": [
    "import numpy as np\n",
    "from ulmo.models import DCAE, ConditionalFlow\n",
    "from ulmo.ood import ProbabilisticAutoencoder"
   ]
  },
  {
   "cell_type": "code",
   "execution_count": 2,
   "id": "3d77a954-8851-4edc-9a38-dd40a87e7e8d",
   "metadata": {},
   "outputs": [],
   "source": [
    "import h5py"
   ]
  },
  {
   "cell_type": "markdown",
   "id": "4480b28b-049b-4ffb-b6a9-033adb5dac43",
   "metadata": {},
   "source": [
    "## Split the data set into 'train' and 'valid' part"
   ]
  },
  {
   "cell_type": "code",
   "execution_count": 22,
   "id": "184f74ea-a280-4685-9762-e3d52a45886b",
   "metadata": {},
   "outputs": [],
   "source": [
    "filepath = '/home/jovyan/ulmo/ulmo/runs/LLC/experiments/datasets/llc_modis_uniform/LLC_uniform_test_preproc_split.h5'"
   ]
  },
  {
   "cell_type": "code",
   "execution_count": 26,
   "id": "6f0f525f-0dd2-4091-9833-94c340b675be",
   "metadata": {},
   "outputs": [
    {
     "name": "stdout",
     "output_type": "stream",
     "text": [
      "<KeysViewHDF5 ['train', 'valid']>\n",
      "78167\n"
     ]
    }
   ],
   "source": [
    "with h5py.File(filepath, 'r') as f:\n",
    "    print(f.keys())\n",
    "    #print(len_valid = f['valid'][:].shape[0])\n",
    "    len_valid = f['valid'].shape[0]\n",
    "    print(len_valid)"
   ]
  },
  {
   "cell_type": "code",
   "execution_count": 17,
   "id": "068a2280-71cc-4a22-9ce3-c4d98118ba05",
   "metadata": {},
   "outputs": [],
   "source": [
    "import numpy as np\n",
    "from sklearn.model_selection import train_test_split"
   ]
  },
  {
   "cell_type": "code",
   "execution_count": 18,
   "id": "1aac3728-bcda-4071-86dc-e7d5f0da72bf",
   "metadata": {},
   "outputs": [],
   "source": [
    " llc_modis_uniform_train, llc_modis_uniform_test = train_test_split(\n",
    "     llc_modis_uniform, test_size=0.1, random_state=0)"
   ]
  },
  {
   "cell_type": "markdown",
   "id": "dca2415d-edfb-4eef-a831-8e35034f14f3",
   "metadata": {},
   "source": [
    "## Create new h5py file with train and valid"
   ]
  },
  {
   "cell_type": "code",
   "execution_count": 3,
   "id": "a1b3f0b7-89d1-4465-9074-4103d96bc4b6",
   "metadata": {},
   "outputs": [],
   "source": [
    "filepath_split = '/home/jovyan/ulmo/ulmo/runs/LLC/experiments/datasets/llc_modis_uniform/LLC_uniform_test_preproc_split.h5'"
   ]
  },
  {
   "cell_type": "code",
   "execution_count": 21,
   "id": "35590eeb-7c32-43fa-b3e9-c647f3312a28",
   "metadata": {},
   "outputs": [],
   "source": [
    "with h5py.File(filepath_split, 'w') as f:\n",
    "    f.create_dataset('train', data=llc_modis_uniform_train)\n",
    "    f.create_dataset('valid', data=llc_modis_uniform_test)"
   ]
  },
  {
   "cell_type": "markdown",
   "id": "223fc63f-7266-4b79-bd08-878c7543e6a5",
   "metadata": {},
   "source": [
    "## Train Autoencoder"
   ]
  },
  {
   "cell_type": "code",
   "execution_count": 4,
   "id": "9577fc11-e114-4edc-8035-3a29b8e8c84f",
   "metadata": {},
   "outputs": [],
   "source": [
    "autoencoder = DCAE(image_shape=(1, 64, 64), latent_dim=512)"
   ]
  },
  {
   "cell_type": "code",
   "execution_count": 5,
   "id": "b336f039-160a-472f-9816-d2d78423df64",
   "metadata": {},
   "outputs": [],
   "source": [
    "flow = ConditionalFlow(\n",
    "    dim=512, \n",
    "    context_dim=None, \n",
    "    transform_type='autoregressive', \n",
    "    n_layers=10, \n",
    "    hidden_units=256,\n",
    "    n_blocks=2, \n",
    "    dropout=0.2, \n",
    "    use_batch_norm=False, \n",
    "    tails='linear', \n",
    "    tail_bound=10, \n",
    "    n_bins=5,\n",
    "    min_bin_height=1e-3, \n",
    "    min_bin_width=1e-3, \n",
    "    min_derivative=1e-3, \n",
    "    unconditional_transform=False, \n",
    "    encoder=None)"
   ]
  },
  {
   "cell_type": "code",
   "execution_count": 6,
   "id": "9813e8d3-6b0a-41a0-aaec-d2c81ed76a18",
   "metadata": {},
   "outputs": [
    {
     "name": "stdout",
     "output_type": "stream",
     "text": [
      "Using device=cuda\n",
      "Wrote model parameters to ./model.json\n"
     ]
    }
   ],
   "source": [
    "pae = ProbabilisticAutoencoder(autoencoder=autoencoder, flow=flow, filepath=filepath_split)"
   ]
  },
  {
   "cell_type": "code",
   "execution_count": 11,
   "id": "5342335b-6807-4f85-91e1-49eac57fed59",
   "metadata": {},
   "outputs": [
    {
     "name": "stdout",
     "output_type": "stream",
     "text": [
      "703,488 training samples. 78,080 validation samples.\n"
     ]
    },
    {
     "data": {
      "application/vnd.jupyter.widget-view+json": {
       "model_id": "ed87b4fda3ac4789ac59ba0e7a47650c",
       "version_major": 2,
       "version_minor": 0
      },
      "text/plain": [
       "  0%|          | 0/20 [00:00<?, ?epoch/s]"
      ]
     },
     "metadata": {},
     "output_type": "display_data"
    },
    {
     "data": {
      "application/vnd.jupyter.widget-view+json": {
       "model_id": "e16e1053139a4158b35ce89332c119d5",
       "version_major": 2,
       "version_minor": 0
      },
      "text/plain": [
       "  0%|          | 0/2748 [00:08<?, ?batch/s]"
      ]
     },
     "metadata": {},
     "output_type": "display_data"
    },
    {
     "data": {
      "application/vnd.jupyter.widget-view+json": {
       "model_id": "c073921120704c8cb4bb99d5d2ce2c23",
       "version_major": 2,
       "version_minor": 0
      },
      "text/plain": [
       "  0%|          | 0/2748 [00:09<?, ?batch/s]"
      ]
     },
     "metadata": {},
     "output_type": "display_data"
    },
    {
     "data": {
      "application/vnd.jupyter.widget-view+json": {
       "model_id": "4b2558500d614a97bd0bb45af0d88f8b",
       "version_major": 2,
       "version_minor": 0
      },
      "text/plain": [
       "  0%|          | 0/2748 [00:08<?, ?batch/s]"
      ]
     },
     "metadata": {},
     "output_type": "display_data"
    },
    {
     "data": {
      "application/vnd.jupyter.widget-view+json": {
       "model_id": "740be3e57c044cbf8076d09e898cea39",
       "version_major": 2,
       "version_minor": 0
      },
      "text/plain": [
       "  0%|          | 0/2748 [00:09<?, ?batch/s]"
      ]
     },
     "metadata": {},
     "output_type": "display_data"
    },
    {
     "name": "stderr",
     "output_type": "stream",
     "text": [
      "Exception ignored in: <function _MultiProcessingDataLoaderIter.__del__ at 0x7fee04ebe9d0>\n",
      "Traceback (most recent call last):\n",
      "  File \"/opt/conda/lib/python3.9/site-packages/torch/utils/data/dataloader.py\", line 1328, in __del__\n",
      "    self._shutdown_workers()\n",
      "  File \"/opt/conda/lib/python3.9/site-packages/torch/utils/data/dataloader.py\", line 1301, in _shutdown_workers\n",
      "    w.join(timeout=_utils.MP_STATUS_CHECK_INTERVAL)\n",
      "  File \"/opt/conda/lib/python3.9/multiprocessing/process.py\", line 149, in join\n",
      "    res = self._popen.wait(timeout)\n",
      "  File \"/opt/conda/lib/python3.9/multiprocessing/popen_fork.py\", line 40, in wait\n",
      "    if not wait([self.sentinel], timeout):\n",
      "  File \"/opt/conda/lib/python3.9/multiprocessing/connection.py\", line 936, in wait\n",
      "    ready = selector.select(timeout)\n",
      "  File \"/opt/conda/lib/python3.9/selectors.py\", line 416, in select\n",
      "    fd_event_list = self._selector.poll(timeout)\n",
      "KeyboardInterrupt: \n"
     ]
    },
    {
     "name": "stdin",
     "output_type": "stream",
     "text": [
      "Training stopped. Save model (y/n)? y\n"
     ]
    },
    {
     "name": "stdout",
     "output_type": "stream",
     "text": [
      "Model saved.\n",
      "Loading autoencoder model from: ./autoencoder.pt\n"
     ]
    },
    {
     "data": {
      "image/png": "[encoded data removed]",
      "text/plain": [
       "<Figure size 432x288 with 1 Axes>"
      ]
     },
     "metadata": {
      "needs_background": "light"
     },
     "output_type": "display_data"
    }
   ],
   "source": [
    "pae.train_autoencoder(n_epochs=20, batch_size=256, lr=2.5e-3, summary_interval=2, eval_interval=10)"
   ]
  },
  {
   "cell_type": "code",
   "execution_count": 7,
   "id": "89aebdd0-1eaa-4c25-aad8-318039555edb",
   "metadata": {},
   "outputs": [
    {
     "name": "stdin",
     "output_type": "stream",
     "text": [
      "Existing latents file found. Use file (y) or recompute (n)? y\n"
     ]
    },
    {
     "name": "stdout",
     "output_type": "stream",
     "text": [
      "703,488 training samples. 78,144 validation samples.\n"
     ]
    },
    {
     "data": {
      "application/vnd.jupyter.widget-view+json": {
       "model_id": "7b10b7325a0843418168b37daebba6d2",
       "version_major": 2,
       "version_minor": 0
      },
      "text/plain": [
       "  0%|          | 0/5 [00:00<?, ?epoch/s]"
      ]
     },
     "metadata": {},
     "output_type": "display_data"
    },
    {
     "data": {
      "application/vnd.jupyter.widget-view+json": {
       "model_id": "057c326d885e490ab06e65ece69ea536",
       "version_major": 2,
       "version_minor": 0
      },
      "text/plain": [
       "  0%|          | 0/10992 [00:10<?, ?batch/s]"
      ]
     },
     "metadata": {},
     "output_type": "display_data"
    },
    {
     "data": {
      "application/vnd.jupyter.widget-view+json": {
       "model_id": "a6a9e3b583a94ece904778ab7c681a35",
       "version_major": 2,
       "version_minor": 0
      },
      "text/plain": [
       "  0%|          | 0/10992 [00:10<?, ?batch/s]"
      ]
     },
     "metadata": {},
     "output_type": "display_data"
    },
    {
     "data": {
      "application/vnd.jupyter.widget-view+json": {
       "model_id": "b5c01ea2a5fc4931af33e9988c7b4de7",
       "version_major": 2,
       "version_minor": 0
      },
      "text/plain": [
       "  0%|          | 0/10992 [00:10<?, ?batch/s]"
      ]
     },
     "metadata": {},
     "output_type": "display_data"
    },
    {
     "data": {
      "application/vnd.jupyter.widget-view+json": {
       "model_id": "cd80522b565c4f0e8d555d05eabef9d7",
       "version_major": 2,
       "version_minor": 0
      },
      "text/plain": [
       "  0%|          | 0/10992 [00:10<?, ?batch/s]"
      ]
     },
     "metadata": {},
     "output_type": "display_data"
    },
    {
     "data": {
      "application/vnd.jupyter.widget-view+json": {
       "model_id": "dda1ebf2741d4cf6bdb1fd85d106ad1b",
       "version_major": 2,
       "version_minor": 0
      },
      "text/plain": [
       "  0%|          | 0/10992 [00:10<?, ?batch/s]"
      ]
     },
     "metadata": {},
     "output_type": "display_data"
    },
    {
     "name": "stdin",
     "output_type": "stream",
     "text": [
      "Training stopped. Save model (y/n)? y\n"
     ]
    },
    {
     "name": "stdout",
     "output_type": "stream",
     "text": [
      "Model saved.\n",
      "Loading flow model from: ./flow.pt\n"
     ]
    },
    {
     "data": {
      "image/png": "[encoded data removed]",
      "text/plain": [
       "<Figure size 432x288 with 1 Axes>"
      ]
     },
     "metadata": {
      "needs_background": "light"
     },
     "output_type": "display_data"
    }
   ],
   "source": [
    "pae.train_flow(n_epochs=5, batch_size=64, lr=2.5e-4, summary_interval=50, eval_interval=1000)"
   ]
  },
  {
   "cell_type": "code",
   "execution_count": 12,
   "id": "070688f4-9d48-4001-b421-22cc3ed45519",
   "metadata": {},
   "outputs": [
    {
     "name": "stderr",
     "output_type": "stream",
     "text": [
      "/opt/conda/lib/python3.9/site-packages/seaborn/distributions.py:2557: FutureWarning: `distplot` is a deprecated function and will be removed in a future version. Please adapt your code to use either `displot` (a figure-level function with similar flexibility) or `histplot` (an axes-level function for histograms).\n",
      "  warnings.warn(msg, FutureWarning)\n"
     ]
    },
    {
     "data": {
      "image/png": "[encoded data removed]",
      "text/plain": [
       "<Figure size 432x288 with 1 Axes>"
      ]
     },
     "metadata": {
      "needs_background": "light"
     },
     "output_type": "display_data"
    }
   ],
   "source": [
    "pae.plot_log_probs()"
   ]
  },
  {
   "cell_type": "code",
   "execution_count": null,
   "id": "63937d3e-8d3c-4781-b4df-af97bd76f96c",
   "metadata": {},
   "outputs": [],
   "source": []
  }
 ],
 "metadata": {
  "kernelspec": {
   "display_name": "Python 3 (ipykernel)",
   "language": "python",
   "name": "python3"
  },
  "language_info": {
   "codemirror_mode": {
    "name": "ipython",
    "version": 3
   },
   "file_extension": ".py",
   "mimetype": "text/x-python",
   "name": "python",
   "nbconvert_exporter": "python",
   "pygments_lexer": "ipython3",
   "version": "3.9.5"
  }
 },
 "nbformat": 4,
 "nbformat_minor": 5
}
