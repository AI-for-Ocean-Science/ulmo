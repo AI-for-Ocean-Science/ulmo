{
 "cells": [
  {
   "cell_type": "markdown",
   "id": "5f366785-dba0-45f7-909c-acdab43f589a",
   "metadata": {},
   "source": [
    "# Test of load_modis_l2_extension"
   ]
  },
  {
   "cell_type": "code",
   "execution_count": 1,
   "id": "d7b17b92-d652-48f5-a31a-30bef5e6911b",
   "metadata": {},
   "outputs": [],
   "source": [
    "### used to set the interpreter searching path\n",
    "import sys\n",
    "target_path = '/home/jovyan/ulmo/'\n",
    "sys.path.append(target_path)"
   ]
  },
  {
   "cell_type": "code",
   "execution_count": 2,
   "id": "076ab466-c93b-49a5-878b-c4971929d798",
   "metadata": {},
   "outputs": [
    {
     "name": "stdout",
     "output_type": "stream",
     "text": [
      "Cartopy not installed.  Some plots will not work!\n"
     ]
    }
   ],
   "source": [
    "import numpy as np\n",
    "import h5py\n",
    "from ulmo.models import DCAE, ConditionalFlow\n",
    "from ulmo.ood import ProbabilisticAutoencoder\n",
    "from ulmo.models.io import load_modis_l2_extension\n",
    "import ulmo.io as ulmo_io"
   ]
  },
  {
   "cell_type": "markdown",
   "id": "48ab4108-dff1-490f-9b69-a99da8f984ae",
   "metadata": {},
   "source": [
    "## Test of load_modis_l2_extension function"
   ]
  },
  {
   "cell_type": "code",
   "execution_count": 3,
   "id": "17caf659-74a5-49eb-bb72-2038a8347202",
   "metadata": {},
   "outputs": [
    {
     "name": "stdout",
     "output_type": "stream",
     "text": [
      "Using device=cpu\n",
      "Loading autoencoder model from: s3://llc/Model_Ulmo/llc_uniform_test_10_percent_train/autoencoder.pt\n",
      "Loading flow model from: s3://llc/Model_Ulmo/llc_uniform_test_10_percent_train/flow.pt\n",
      "scaler loaded from: s3://llc/Model_Ulmo/llc_uniform_test_10_percent_train/LLC_uniform_test_preproc_split_scaler.pkl\n"
     ]
    }
   ],
   "source": [
    "datadir = 's3://llc/Model_Ulmo/llc_uniform_test_10_percent_train/'\n",
    "filepath = '/home/jovyan/ulmo/ulmo/runs/LLC/experiments/datasets/llc_modis_uniform/LLC_uniform_test_preproc_split.h5'\n",
    "pae = load_modis_l2_extension(datadir=datadir, filepath=filepath)"
   ]
  },
  {
   "cell_type": "markdown",
   "id": "4f775c28-1af3-4b17-9641-545352ab3f08",
   "metadata": {},
   "source": [
    "## Evaluate to get log_prob"
   ]
  },
  {
   "cell_type": "code",
   "execution_count": 5,
   "id": "e78e58fe-4cd0-40cf-8baf-6976914b108f",
   "metadata": {},
   "outputs": [],
   "source": [
    "import os "
   ]
  },
  {
   "cell_type": "code",
   "execution_count": 6,
   "id": "ce19fde6-2595-43ce-a978-bb1d7d802150",
   "metadata": {},
   "outputs": [],
   "source": [
    "log_prob_file = os.path.join('./llc_uniform_test', pae.stem+'_log_probs.h5')"
   ]
  },
  {
   "cell_type": "code",
   "execution_count": null,
   "id": "070688f4-9d48-4001-b421-22cc3ed45519",
   "metadata": {},
   "outputs": [
    {
     "name": "stdout",
     "output_type": "stream",
     "text": [
      "Calculating latents..\n"
     ]
    }
   ],
   "source": [
    "pae.eval_data_file(filepath, 'valid', log_prob_file)"
   ]
  },
  {
   "cell_type": "code",
   "execution_count": null,
   "id": "cb7441ee-7632-4125-acb6-8501e6c60068",
   "metadata": {},
   "outputs": [],
   "source": []
  }
 ],
 "metadata": {
  "kernelspec": {
   "display_name": "Python 3 (ipykernel)",
   "language": "python",
   "name": "python3"
  },
  "language_info": {
   "codemirror_mode": {
    "name": "ipython",
    "version": 3
   },
   "file_extension": ".py",
   "mimetype": "text/x-python",
   "name": "python",
   "nbconvert_exporter": "python",
   "pygments_lexer": "ipython3",
   "version": "3.9.5"
  }
 },
 "nbformat": 4,
 "nbformat_minor": 5
}
