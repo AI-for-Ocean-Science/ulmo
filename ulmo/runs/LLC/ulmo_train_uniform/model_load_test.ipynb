{
 "cells": [
  {
   "cell_type": "markdown",
   "id": "5f94b39a-6c78-4601-b694-64d5871f860e",
   "metadata": {},
   "source": [
    "# Model Load Test"
   ]
  },
  {
   "cell_type": "code",
   "execution_count": 2,
   "id": "daffee98-2a45-45fd-8e87-862dd155d6f4",
   "metadata": {},
   "outputs": [],
   "source": [
    "### used to set the interpreter searching path\n",
    "import sys\n",
    "target_path = '/home/jovyan/ulmo/'\n",
    "sys.path.append(target_path)"
   ]
  },
  {
   "cell_type": "code",
   "execution_count": 3,
   "id": "cae9ba65-1df3-4f2a-899f-e06899b8160a",
   "metadata": {},
   "outputs": [
    {
     "name": "stdout",
     "output_type": "stream",
     "text": [
      "Cartopy not installed.  Some plots will not work!\n"
     ]
    }
   ],
   "source": [
    "import os\n",
    "import h5py\n",
    "\n",
    "from ulmo.models import DCAE, ConditionalFlow\n",
    "from ulmo.ood import ood"
   ]
  },
  {
   "cell_type": "code",
   "execution_count": 4,
   "id": "46c888e1-7c0e-4a68-9772-277be9f85211",
   "metadata": {},
   "outputs": [],
   "source": [
    "model_dir = '/home/jovyan/ulmo/ulmo/runs/LLC/ulmo_train_uniform/llc_uniform_test/llc_uniform_test_10_percent_train/'"
   ]
  },
  {
   "cell_type": "code",
   "execution_count": 5,
   "id": "61707e91-11bd-41af-a822-2b740039ed65",
   "metadata": {},
   "outputs": [],
   "source": [
    "filepath = '/home/jovyan/ulmo/ulmo/runs/LLC/ulmo_train_uniform/llc_uniform_test/llc_uniform_test_10_percent_train/LLC_uniform_test_preproc_split.h5'"
   ]
  },
  {
   "cell_type": "code",
   "execution_count": 6,
   "id": "8a587f35-f5e5-416c-a225-3c398a161510",
   "metadata": {},
   "outputs": [
    {
     "name": "stdout",
     "output_type": "stream",
     "text": [
      "Using device=cpu\n"
     ]
    }
   ],
   "source": [
    "pae = ood.ProbabilisticAutoencoder.from_json(model_dir+'model.json', \n",
    "                                             datadir=model_dir, \n",
    "                                             filepath=filepath,\n",
    "                                             logdir=model_dir)"
   ]
  },
  {
   "cell_type": "code",
   "execution_count": 7,
   "id": "3697c259-97c2-4222-9ac7-1d838c522026",
   "metadata": {},
   "outputs": [
    {
     "name": "stdout",
     "output_type": "stream",
     "text": [
      "Loading autoencoder model from: /home/jovyan/ulmo/ulmo/runs/LLC/ulmo_train_uniform/llc_uniform_test/llc_uniform_test_10_percent_train/autoencoder.pt\n",
      "Loading flow model from: /home/jovyan/ulmo/ulmo/runs/LLC/ulmo_train_uniform/llc_uniform_test/llc_uniform_test_10_percent_train/flow.pt\n"
     ]
    }
   ],
   "source": [
    "pae.load_autoencoder()\n",
    "pae.load_flow()"
   ]
  },
  {
   "cell_type": "code",
   "execution_count": null,
   "id": "77498830-d80c-4b45-afed-cab56d0d04de",
   "metadata": {},
   "outputs": [],
   "source": []
  }
 ],
 "metadata": {
  "kernelspec": {
   "display_name": "Python 3 (ipykernel)",
   "language": "python",
   "name": "python3"
  },
  "language_info": {
   "codemirror_mode": {
    "name": "ipython",
    "version": 3
   },
   "file_extension": ".py",
   "mimetype": "text/x-python",
   "name": "python",
   "nbconvert_exporter": "python",
   "pygments_lexer": "ipython3",
   "version": "3.9.5"
  }
 },
 "nbformat": 4,
 "nbformat_minor": 5
}
