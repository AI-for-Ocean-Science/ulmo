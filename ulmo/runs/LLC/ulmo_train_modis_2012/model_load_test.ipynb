{
 "cells": [
  {
   "cell_type": "markdown",
   "id": "5ad427da-9d59-405d-a45d-070f9b000722",
   "metadata": {},
   "source": [
    "# Model Load Test"
   ]
  },
  {
   "cell_type": "code",
   "execution_count": 1,
   "id": "7ad7f9eb-5fd4-4c95-bcf5-e2c9c3e52539",
   "metadata": {},
   "outputs": [],
   "source": [
    "### used to set the interpreter searching path\n",
    "import sys\n",
    "target_path = '/home/jovyan/ulmo/'\n",
    "sys.path.append(target_path)"
   ]
  },
  {
   "cell_type": "code",
   "execution_count": 3,
   "id": "502d65d9-a0f1-46cc-8b78-b0f33eca9ac3",
   "metadata": {},
   "outputs": [
    {
     "name": "stdout",
     "output_type": "stream",
     "text": [
      "Cartopy not installed.  Some plots will not work!\n"
     ]
    }
   ],
   "source": [
    "import os\n",
    "import h5py\n",
    "\n",
    "from ulmo.models import DCAE, ConditionalFlow\n",
    "from ulmo.ood import ood"
   ]
  },
  {
   "cell_type": "code",
   "execution_count": 4,
   "id": "152128de-4de0-4632-b7de-900f1031a547",
   "metadata": {},
   "outputs": [],
   "source": [
    "model_dir = '/home/jovyan/ulmo/ulmo/runs/LLC/ulmo_train_modis_2012/modis_2012_uniform/modis_2012_test_10_percent_train/'"
   ]
  },
  {
   "cell_type": "code",
   "execution_count": 5,
   "id": "b53657cd-1820-4e83-bc8a-4c75ff2ad03b",
   "metadata": {},
   "outputs": [],
   "source": [
    "filepath = '/home/jovyan/ulmo/ulmo/runs/LLC/ulmo_train_modis_2012/modis_2012_uniform/modis_2012_test_10_percent_train/LLC_modis2012_test_preproc_split.h5'"
   ]
  },
  {
   "cell_type": "code",
   "execution_count": 6,
   "id": "b9590ccf-b064-4796-8cb2-3023c96c043e",
   "metadata": {},
   "outputs": [
    {
     "name": "stdout",
     "output_type": "stream",
     "text": [
      "Using device=cpu\n"
     ]
    }
   ],
   "source": [
    "pae = ood.ProbabilisticAutoencoder.from_json(model_dir+'model.json', \n",
    "                                             datadir=model_dir, \n",
    "                                             filepath=filepath,\n",
    "                                             logdir=model_dir)"
   ]
  },
  {
   "cell_type": "code",
   "execution_count": 7,
   "id": "75780a59-5498-431c-b260-e528ff4c52b4",
   "metadata": {},
   "outputs": [
    {
     "name": "stdout",
     "output_type": "stream",
     "text": [
      "Loading autoencoder model from: /home/jovyan/ulmo/ulmo/runs/LLC/ulmo_train_modis_2012/modis_2012_uniform/modis_2012_test_10_percent_train/autoencoder.pt\n",
      "Loading flow model from: /home/jovyan/ulmo/ulmo/runs/LLC/ulmo_train_modis_2012/modis_2012_uniform/modis_2012_test_10_percent_train/flow.pt\n"
     ]
    }
   ],
   "source": [
    "pae.load_autoencoder()\n",
    "pae.load_flow()"
   ]
  },
  {
   "cell_type": "code",
   "execution_count": null,
   "id": "e3f50451-faff-414a-a497-84782ae82dc2",
   "metadata": {},
   "outputs": [],
   "source": []
  }
 ],
 "metadata": {
  "kernelspec": {
   "display_name": "Python 3 (ipykernel)",
   "language": "python",
   "name": "python3"
  },
  "language_info": {
   "codemirror_mode": {
    "name": "ipython",
    "version": 3
   },
   "file_extension": ".py",
   "mimetype": "text/x-python",
   "name": "python",
   "nbconvert_exporter": "python",
   "pygments_lexer": "ipython3",
   "version": "3.9.5"
  }
 },
 "nbformat": 4,
 "nbformat_minor": 5
}
