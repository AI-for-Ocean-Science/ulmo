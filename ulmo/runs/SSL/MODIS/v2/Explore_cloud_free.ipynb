{
 "cells": [
  {
   "cell_type": "markdown",
   "id": "bd012622",
   "metadata": {},
   "source": [
    "# Cloud free?"
   ]
  },
  {
   "cell_type": "code",
   "execution_count": 10,
   "id": "c14db67c",
   "metadata": {},
   "outputs": [],
   "source": [
    "# imports\n",
    "import os\n",
    "import numpy as np\n",
    "\n",
    "from ulmo import io as ulmo_io"
   ]
  },
  {
   "cell_type": "markdown",
   "id": "f9d4d039",
   "metadata": {},
   "source": [
    "# Load me"
   ]
  },
  {
   "cell_type": "code",
   "execution_count": 3,
   "id": "48e934b2",
   "metadata": {},
   "outputs": [],
   "source": [
    "local_modis_file = os.path.join(os.getenv('SST_OOD'),\n",
    "                                    'MODIS_L2/Tables/MODIS_L2_std.parquet')"
   ]
  },
  {
   "cell_type": "code",
   "execution_count": 4,
   "id": "6ff1cae1",
   "metadata": {},
   "outputs": [
    {
     "name": "stdout",
     "output_type": "stream",
     "text": [
      "Read main table: /data/Projects/Oceanography/AI/OOD/SST/MODIS_L2/Tables/MODIS_L2_std.parquet\n"
     ]
    }
   ],
   "source": [
    "modis_tbl = ulmo_io.load_main_table(local_modis_file)"
   ]
  },
  {
   "cell_type": "code",
   "execution_count": 5,
   "id": "3d39d476",
   "metadata": {},
   "outputs": [
    {
     "data": {
      "text/html": [
       "<div>\n",
       "<style scoped>\n",
       "    .dataframe tbody tr th:only-of-type {\n",
       "        vertical-align: middle;\n",
       "    }\n",
       "\n",
       "    .dataframe tbody tr th {\n",
       "        vertical-align: top;\n",
       "    }\n",
       "\n",
       "    .dataframe thead th {\n",
       "        text-align: right;\n",
       "    }\n",
       "</style>\n",
       "<table border=\"1\" class=\"dataframe\">\n",
       "  <thead>\n",
       "    <tr style=\"text-align: right;\">\n",
       "      <th></th>\n",
       "      <th>lat</th>\n",
       "      <th>lon</th>\n",
       "      <th>col</th>\n",
       "      <th>datetime</th>\n",
       "      <th>LL</th>\n",
       "      <th>row</th>\n",
       "      <th>clear_fraction</th>\n",
       "      <th>mean_temperature</th>\n",
       "      <th>Tmin</th>\n",
       "      <th>Tmax</th>\n",
       "      <th>...</th>\n",
       "      <th>pp_root</th>\n",
       "      <th>field_size</th>\n",
       "      <th>pp_type</th>\n",
       "      <th>pp_idx</th>\n",
       "      <th>U0</th>\n",
       "      <th>U1</th>\n",
       "      <th>zonal_slope</th>\n",
       "      <th>merid_slope</th>\n",
       "      <th>zonal_slope_err</th>\n",
       "      <th>merid_slope_err</th>\n",
       "    </tr>\n",
       "  </thead>\n",
       "  <tbody>\n",
       "    <tr>\n",
       "      <th>0</th>\n",
       "      <td>13.980967</td>\n",
       "      <td>62.675774</td>\n",
       "      <td>517</td>\n",
       "      <td>2003-03-10 21:25:00</td>\n",
       "      <td>520.178711</td>\n",
       "      <td>304</td>\n",
       "      <td>0.000000</td>\n",
       "      <td>26.199476</td>\n",
       "      <td>25.250000</td>\n",
       "      <td>26.885000</td>\n",
       "      <td>...</td>\n",
       "      <td>standard</td>\n",
       "      <td>128</td>\n",
       "      <td>0</td>\n",
       "      <td>0</td>\n",
       "      <td>-2.209477</td>\n",
       "      <td>5.983506</td>\n",
       "      <td>-1.186275</td>\n",
       "      <td>-2.126147</td>\n",
       "      <td>0.137467</td>\n",
       "      <td>0.224244</td>\n",
       "    </tr>\n",
       "    <tr>\n",
       "      <th>1</th>\n",
       "      <td>13.043748</td>\n",
       "      <td>-102.751816</td>\n",
       "      <td>706</td>\n",
       "      <td>2003-12-12 08:30:00</td>\n",
       "      <td>432.766724</td>\n",
       "      <td>1696</td>\n",
       "      <td>0.049805</td>\n",
       "      <td>28.924648</td>\n",
       "      <td>27.789999</td>\n",
       "      <td>29.654999</td>\n",
       "      <td>...</td>\n",
       "      <td>standard</td>\n",
       "      <td>128</td>\n",
       "      <td>0</td>\n",
       "      <td>1</td>\n",
       "      <td>-2.575606</td>\n",
       "      <td>6.238604</td>\n",
       "      <td>-0.678604</td>\n",
       "      <td>-0.904867</td>\n",
       "      <td>0.115963</td>\n",
       "      <td>0.128991</td>\n",
       "    </tr>\n",
       "    <tr>\n",
       "      <th>2</th>\n",
       "      <td>-18.086618</td>\n",
       "      <td>40.844833</td>\n",
       "      <td>581</td>\n",
       "      <td>2003-09-24 22:35:00</td>\n",
       "      <td>764.413086</td>\n",
       "      <td>656</td>\n",
       "      <td>0.006104</td>\n",
       "      <td>25.551611</td>\n",
       "      <td>24.775000</td>\n",
       "      <td>26.154999</td>\n",
       "      <td>...</td>\n",
       "      <td>standard</td>\n",
       "      <td>128</td>\n",
       "      <td>0</td>\n",
       "      <td>2</td>\n",
       "      <td>-4.080777</td>\n",
       "      <td>6.772544</td>\n",
       "      <td>-0.723022</td>\n",
       "      <td>-0.590398</td>\n",
       "      <td>0.076410</td>\n",
       "      <td>0.052984</td>\n",
       "    </tr>\n",
       "    <tr>\n",
       "      <th>3</th>\n",
       "      <td>39.071575</td>\n",
       "      <td>18.569141</td>\n",
       "      <td>1028</td>\n",
       "      <td>2003-05-01 01:05:00</td>\n",
       "      <td>371.310120</td>\n",
       "      <td>898</td>\n",
       "      <td>0.049988</td>\n",
       "      <td>16.414951</td>\n",
       "      <td>15.160000</td>\n",
       "      <td>17.205000</td>\n",
       "      <td>...</td>\n",
       "      <td>standard</td>\n",
       "      <td>128</td>\n",
       "      <td>0</td>\n",
       "      <td>3</td>\n",
       "      <td>-0.867894</td>\n",
       "      <td>7.890549</td>\n",
       "      <td>-1.370202</td>\n",
       "      <td>-1.285166</td>\n",
       "      <td>0.187732</td>\n",
       "      <td>0.101415</td>\n",
       "    </tr>\n",
       "    <tr>\n",
       "      <th>4</th>\n",
       "      <td>17.901926</td>\n",
       "      <td>90.155480</td>\n",
       "      <td>997</td>\n",
       "      <td>2003-12-05 19:55:00</td>\n",
       "      <td>-214.759277</td>\n",
       "      <td>1520</td>\n",
       "      <td>0.035461</td>\n",
       "      <td>26.744499</td>\n",
       "      <td>24.975000</td>\n",
       "      <td>28.724998</td>\n",
       "      <td>...</td>\n",
       "      <td>standard</td>\n",
       "      <td>128</td>\n",
       "      <td>0</td>\n",
       "      <td>4</td>\n",
       "      <td>4.985051</td>\n",
       "      <td>7.191708</td>\n",
       "      <td>-1.902952</td>\n",
       "      <td>-2.023731</td>\n",
       "      <td>0.232980</td>\n",
       "      <td>0.235537</td>\n",
       "    </tr>\n",
       "  </tbody>\n",
       "</table>\n",
       "<p>5 rows × 25 columns</p>\n",
       "</div>"
      ],
      "text/plain": [
       "         lat         lon   col            datetime          LL   row  \\\n",
       "0  13.980967   62.675774   517 2003-03-10 21:25:00  520.178711   304   \n",
       "1  13.043748 -102.751816   706 2003-12-12 08:30:00  432.766724  1696   \n",
       "2 -18.086618   40.844833   581 2003-09-24 22:35:00  764.413086   656   \n",
       "3  39.071575   18.569141  1028 2003-05-01 01:05:00  371.310120   898   \n",
       "4  17.901926   90.155480   997 2003-12-05 19:55:00 -214.759277  1520   \n",
       "\n",
       "   clear_fraction  mean_temperature       Tmin       Tmax  ...   pp_root  \\\n",
       "0        0.000000         26.199476  25.250000  26.885000  ...  standard   \n",
       "1        0.049805         28.924648  27.789999  29.654999  ...  standard   \n",
       "2        0.006104         25.551611  24.775000  26.154999  ...  standard   \n",
       "3        0.049988         16.414951  15.160000  17.205000  ...  standard   \n",
       "4        0.035461         26.744499  24.975000  28.724998  ...  standard   \n",
       "\n",
       "   field_size pp_type  pp_idx        U0        U1  zonal_slope  merid_slope  \\\n",
       "0         128       0       0 -2.209477  5.983506    -1.186275    -2.126147   \n",
       "1         128       0       1 -2.575606  6.238604    -0.678604    -0.904867   \n",
       "2         128       0       2 -4.080777  6.772544    -0.723022    -0.590398   \n",
       "3         128       0       3 -0.867894  7.890549    -1.370202    -1.285166   \n",
       "4         128       0       4  4.985051  7.191708    -1.902952    -2.023731   \n",
       "\n",
       "   zonal_slope_err  merid_slope_err  \n",
       "0         0.137467         0.224244  \n",
       "1         0.115963         0.128991  \n",
       "2         0.076410         0.052984  \n",
       "3         0.187732         0.101415  \n",
       "4         0.232980         0.235537  \n",
       "\n",
       "[5 rows x 25 columns]"
      ]
     },
     "execution_count": 5,
     "metadata": {},
     "output_type": "execute_result"
    }
   ],
   "source": [
    "modis_tbl.head()"
   ]
  },
  {
   "cell_type": "code",
   "execution_count": 6,
   "id": "f3ebcec7",
   "metadata": {},
   "outputs": [
    {
     "data": {
      "text/plain": [
       "Index(['lat', 'lon', 'col', 'datetime', 'LL', 'row', 'clear_fraction',\n",
       "       'mean_temperature', 'Tmin', 'Tmax', 'T90', 'T10', 'filename', 'UID',\n",
       "       'pp_file', 'pp_root', 'field_size', 'pp_type', 'pp_idx', 'U0', 'U1',\n",
       "       'zonal_slope', 'merid_slope', 'zonal_slope_err', 'merid_slope_err'],\n",
       "      dtype='object')"
      ]
     },
     "execution_count": 6,
     "metadata": {},
     "output_type": "execute_result"
    }
   ],
   "source": [
    "modis_tbl.keys()"
   ]
  },
  {
   "cell_type": "markdown",
   "id": "c4c02cd5",
   "metadata": {},
   "source": [
    "# Restrict"
   ]
  },
  {
   "cell_type": "markdown",
   "id": "f73dcbe4",
   "metadata": {},
   "source": [
    "## Year 2010"
   ]
  },
  {
   "cell_type": "code",
   "execution_count": 8,
   "id": "2fe9db6e",
   "metadata": {},
   "outputs": [],
   "source": [
    "y2010 = modis_tbl.pp_file == 's3://modis-l2/PreProc/MODIS_R2019_2010_95clear_128x128_preproc_std.h5'"
   ]
  },
  {
   "cell_type": "code",
   "execution_count": 11,
   "id": "71801c99",
   "metadata": {},
   "outputs": [
    {
     "data": {
      "text/plain": [
       "678557"
      ]
     },
     "execution_count": 11,
     "metadata": {},
     "output_type": "execute_result"
    }
   ],
   "source": [
    "np.sum(y2010)"
   ]
  },
  {
   "cell_type": "markdown",
   "id": "4cfb840c",
   "metadata": {},
   "source": [
    "## Cloud free"
   ]
  },
  {
   "cell_type": "code",
   "execution_count": 14,
   "id": "c9995156",
   "metadata": {},
   "outputs": [
    {
     "data": {
      "text/plain": [
       "3966903"
      ]
     },
     "execution_count": 14,
     "metadata": {},
     "output_type": "execute_result"
    }
   ],
   "source": [
    "cloud_free = modis_tbl.clear_fraction < 0.01\n",
    "np.sum(cloud_free)"
   ]
  },
  {
   "cell_type": "code",
   "execution_count": 15,
   "id": "4a750adf",
   "metadata": {},
   "outputs": [
    {
     "data": {
      "text/plain": [
       "205568"
      ]
     },
     "execution_count": 15,
     "metadata": {},
     "output_type": "execute_result"
    }
   ],
   "source": [
    "np.sum(y2010 & cloud_free)"
   ]
  },
  {
   "cell_type": "code",
   "execution_count": null,
   "id": "8ab8ab40",
   "metadata": {},
   "outputs": [],
   "source": []
  }
 ],
 "metadata": {
  "kernelspec": {
   "display_name": "Python 3 (ipykernel)",
   "language": "python",
   "name": "python3"
  },
  "language_info": {
   "codemirror_mode": {
    "name": "ipython",
    "version": 3
   },
   "file_extension": ".py",
   "mimetype": "text/x-python",
   "name": "python",
   "nbconvert_exporter": "python",
   "pygments_lexer": "ipython3",
   "version": "3.8.5"
  }
 },
 "nbformat": 4,
 "nbformat_minor": 5
}
