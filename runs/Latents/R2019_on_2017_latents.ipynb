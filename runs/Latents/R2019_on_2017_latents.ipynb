{
 "cells": [
  {
   "cell_type": "markdown",
   "metadata": {},
   "source": [
    "# R2019 (2010) on R2019 2017 with Latents"
   ]
  },
  {
   "cell_type": "code",
   "execution_count": 1,
   "metadata": {},
   "outputs": [
    {
     "name": "stdout",
     "output_type": "stream",
     "text": [
      "Cartopy not installed.  Some plots will not work!\n"
     ]
    }
   ],
   "source": [
    "import os\n",
    "import h5py\n",
    "\n",
    "from ulmo.models import DCAE, ConditionalFlow\n",
    "from ulmo.ood import ood"
   ]
  },
  {
   "cell_type": "code",
   "execution_count": 2,
   "metadata": {},
   "outputs": [
    {
     "data": {
      "text/plain": [
       "2"
      ]
     },
     "execution_count": 2,
     "metadata": {},
     "output_type": "execute_result"
    }
   ],
   "source": [
    "1+1"
   ]
  },
  {
   "cell_type": "markdown",
   "metadata": {},
   "source": [
    "# Load Original MODIS 2010 model"
   ]
  },
  {
   "cell_type": "code",
   "execution_count": 3,
   "metadata": {},
   "outputs": [],
   "source": [
    "sst_path = '/home/jovyan/Oceanography/SST-OOD/'\n",
    "datadir = os.path.join(sst_path, 'Models', 'R2019_2010_128x128_std')\n",
    "filepath='/home/jovyan/Oceanography/SST-OOD/PreProc/MODIS_R2019_2010_95clear_128x128_preproc_std.h5'\n",
    "pae = ood.ProbabilisticAutoencoder.from_json(datadir+'/model.json', \n",
    "                                             datadir=datadir, \n",
    "                                             filepath=filepath,\n",
    "                                             logdir=datadir)"
   ]
  },
  {
   "cell_type": "code",
   "execution_count": 4,
   "metadata": {},
   "outputs": [
    {
     "name": "stdout",
     "output_type": "stream",
     "text": [
      "Loading autoencoder model from: /home/jovyan/Oceanography/SST-OOD/Models/R2019_2010_128x128_std/autoencoder.pt\n",
      "Loading flow model from: /home/jovyan/Oceanography/SST-OOD/Models/R2019_2010_128x128_std/flow.pt\n"
     ]
    }
   ],
   "source": [
    "pae.load_autoencoder()\n",
    "pae.load_flow()"
   ]
  },
  {
   "cell_type": "markdown",
   "metadata": {},
   "source": [
    "# Evaluate"
   ]
  },
  {
   "cell_type": "code",
   "execution_count": 5,
   "metadata": {},
   "outputs": [],
   "source": [
    "data_file = os.path.join(sst_path, 'PreProc', 'MODIS_R2019_2017_95clear_128x128_preproc_std.h5')"
   ]
  },
  {
   "cell_type": "code",
   "execution_count": 6,
   "metadata": {},
   "outputs": [],
   "source": [
    "log_prob_file = os.path.join(sst_path, 'Evaluations', 'R2010_on_2017_95clear_128x128_preproc_std_log_prob.h5')"
   ]
  },
  {
   "cell_type": "markdown",
   "metadata": {},
   "source": [
    "## Do it"
   ]
  },
  {
   "cell_type": "code",
   "execution_count": 7,
   "metadata": {},
   "outputs": [
    {
     "data": {
      "application/vnd.jupyter.widget-view+json": {
       "model_id": "70ac11d87e73494b99ca982f1d24b75d",
       "version_major": 2,
       "version_minor": 0
      },
      "text/plain": [
       "HBox(children=(FloatProgress(value=0.0, description='Computing log probs', max=724.0, style=ProgressStyle(desc…"
      ]
     },
     "metadata": {},
     "output_type": "display_data"
    },
    {
     "name": "stdout",
     "output_type": "stream",
     "text": [
      "\n",
      "Log probabilities saved to /home/jovyan/Oceanography/SST-OOD/Evaluations/R2010_on_2017_95clear_128x128_preproc_std_log_prob.h5.\n",
      "Saved log probabilities to /home/jovyan/Oceanography/SST-OOD/Evaluations/R2010_on_2017_95clear_128x128_preproc_std_log_prob.csv.\n"
     ]
    }
   ],
   "source": [
    "latents = pae.compute_log_probs(data_file, 'valid', log_prob_file, csv=True)"
   ]
  },
  {
   "cell_type": "markdown",
   "metadata": {},
   "source": [
    "# Latents"
   ]
  },
  {
   "cell_type": "code",
   "execution_count": 8,
   "metadata": {},
   "outputs": [],
   "source": [
    "latent_file = os.path.join(sst_path, 'Latents', 'R2010_on_2017_95clear_128x128_preproc_std_latents.h5')"
   ]
  },
  {
   "cell_type": "code",
   "execution_count": 11,
   "metadata": {},
   "outputs": [],
   "source": [
    "with h5py.File(latent_file, 'w') as f:\n",
    "    f.create_dataset('latents', data=latents)"
   ]
  },
  {
   "cell_type": "code",
   "execution_count": null,
   "metadata": {},
   "outputs": [],
   "source": []
  }
 ],
 "metadata": {
  "kernelspec": {
   "display_name": "Python 3",
   "language": "python",
   "name": "python3"
  },
  "language_info": {
   "codemirror_mode": {
    "name": "ipython",
    "version": 3
   },
   "file_extension": ".py",
   "mimetype": "text/x-python",
   "name": "python",
   "nbconvert_exporter": "python",
   "pygments_lexer": "ipython3",
   "version": "3.8.3"
  }
 },
 "nbformat": 4,
 "nbformat_minor": 4
}
