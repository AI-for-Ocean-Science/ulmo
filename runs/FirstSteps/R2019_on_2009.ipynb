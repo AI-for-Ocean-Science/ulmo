{
 "cells": [
  {
   "cell_type": "markdown",
   "metadata": {},
   "source": [
    "# R2019 (2010) on R2019 2009"
   ]
  },
  {
   "cell_type": "code",
   "execution_count": 1,
   "metadata": {},
   "outputs": [
    {
     "name": "stdout",
     "output_type": "stream",
     "text": [
      "Cartopy not installed.  Some plots will not work!\n"
     ]
    }
   ],
   "source": [
    "import os\n",
    "\n",
    "from ulmo.models import DCAE, ConditionalFlow\n",
    "from ulmo.ood import ood"
   ]
  },
  {
   "cell_type": "markdown",
   "metadata": {},
   "source": [
    "# Load Original MODIS 2010 model"
   ]
  },
  {
   "cell_type": "code",
   "execution_count": 3,
   "metadata": {},
   "outputs": [],
   "source": [
    "datadir = './R2019_2010_128x128_std'\n",
    "filepath='PreProc/MODIS_R2019_2010_95clear_128x128_preproc_std.h5'\n",
    "pae = ood.ProbabilisticAutoencoder.from_json(datadir+'/model.json', \n",
    "                                             datadir=datadir, \n",
    "                                             filepath=filepath,\n",
    "                                             logdir=datadir)"
   ]
  },
  {
   "cell_type": "code",
   "execution_count": 4,
   "metadata": {},
   "outputs": [
    {
     "name": "stdout",
     "output_type": "stream",
     "text": [
      "Loading autoencoder model from: ./R2019_2010_128x128_std/autoencoder.pt\n",
      "Loading flow model from: ./R2019_2010_128x128_std/flow.pt\n"
     ]
    }
   ],
   "source": [
    "pae.load_autoencoder()\n",
    "pae.load_flow()"
   ]
  },
  {
   "cell_type": "markdown",
   "metadata": {},
   "source": [
    "# Evaluate"
   ]
  },
  {
   "cell_type": "code",
   "execution_count": 7,
   "metadata": {},
   "outputs": [],
   "source": [
    "data_file = 'PreProc/MODIS_R2019_2009_95clear_128x128_preproc_std.h5'"
   ]
  },
  {
   "cell_type": "code",
   "execution_count": 8,
   "metadata": {},
   "outputs": [],
   "source": [
    "log_prob_file = 'Evaluations/R2010_on_2009_95clear_128x128_preproc_std_log_prob.h5'"
   ]
  },
  {
   "cell_type": "markdown",
   "metadata": {},
   "source": [
    "## Do it"
   ]
  },
  {
   "cell_type": "code",
   "execution_count": 9,
   "metadata": {},
   "outputs": [
    {
     "name": "stdin",
     "output_type": "stream",
     "text": [
      "Scaler file found in logdir. Use this (y/n)? y\n"
     ]
    },
    {
     "data": {
      "application/vnd.jupyter.widget-view+json": {
       "model_id": "72d3db8681d9469fb4839217ef836ed9",
       "version_major": 2,
       "version_minor": 0
      },
      "text/plain": [
       "HBox(children=(FloatProgress(value=0.0, description='Computing log probs', max=740.0, style=ProgressStyle(desc…"
      ]
     },
     "metadata": {},
     "output_type": "display_data"
    },
    {
     "name": "stdout",
     "output_type": "stream",
     "text": [
      "\n",
      "Log probabilities saved to Evaluations/R2010_on_2009_95clear_128x128_preproc_std_log_prob.h5.\n",
      "Saved log probabilities to Evaluations/R2010_on_2009_95clear_128x128_preproc_std_log_prob.csv.\n"
     ]
    }
   ],
   "source": [
    "pae.compute_log_probs(data_file, 'valid', log_prob_file, csv=True)"
   ]
  },
  {
   "cell_type": "code",
   "execution_count": null,
   "metadata": {},
   "outputs": [],
   "source": []
  }
 ],
 "metadata": {
  "kernelspec": {
   "display_name": "Python 3",
   "language": "python",
   "name": "python3"
  },
  "language_info": {
   "codemirror_mode": {
    "name": "ipython",
    "version": 3
   },
   "file_extension": ".py",
   "mimetype": "text/x-python",
   "name": "python",
   "nbconvert_exporter": "python",
   "pygments_lexer": "ipython3",
   "version": "3.8.3"
  }
 },
 "nbformat": 4,
 "nbformat_minor": 4
}
