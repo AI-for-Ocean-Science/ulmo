{
 "cells": [
  {
   "cell_type": "markdown",
   "metadata": {},
   "source": [
    "# Testing Expon"
   ]
  },
  {
   "cell_type": "code",
   "execution_count": 1,
   "metadata": {},
   "outputs": [
    {
     "name": "stdout",
     "output_type": "stream",
     "text": [
      "Cartopy not installed.  Some plots will not work!\n"
     ]
    }
   ],
   "source": [
    "from ulmo.models import DCAE, ConditionalFlow\n",
    "from ulmo.ood import ood\n",
    "import h5py"
   ]
  },
  {
   "cell_type": "markdown",
   "metadata": {},
   "source": [
    "# Load M2010 R2014 model"
   ]
  },
  {
   "cell_type": "code",
   "execution_count": 2,
   "metadata": {},
   "outputs": [],
   "source": [
    "datadir = './2010_128x128_orig'\n",
    "filepath='PreProc/MODIS_2010_95clear_128x128_inpaintT_preproc_0.8valid.h5'\n",
    "pae = ood.ProbabilisticAutoencoder.from_json('2010_128x128_orig/model.json', \n",
    "                                             datadir=datadir, \n",
    "                                             filepath=filepath,\n",
    "                                             logdir='./2010_128x128_orig')"
   ]
  },
  {
   "cell_type": "code",
   "execution_count": 3,
   "metadata": {},
   "outputs": [
    {
     "name": "stdout",
     "output_type": "stream",
     "text": [
      "Loading autoencoder model from: ./2010_128x128_orig/autoencoder.pt\n",
      "Loading flow model from: ./2010_128x128_orig/flow.pt\n"
     ]
    }
   ],
   "source": [
    "pae.load_autoencoder()\n",
    "pae.load_flow()"
   ]
  },
  {
   "cell_type": "markdown",
   "metadata": {},
   "source": [
    "# Evaluate"
   ]
  },
  {
   "cell_type": "markdown",
   "metadata": {},
   "source": [
    "## Expon = 2"
   ]
  },
  {
   "cell_type": "code",
   "execution_count": 6,
   "metadata": {},
   "outputs": [],
   "source": [
    "expon_file = 'PreProc/MODIS_2010_95clear_128x128_inpaintT_preproc_expon2.h5'"
   ]
  },
  {
   "cell_type": "code",
   "execution_count": 7,
   "metadata": {},
   "outputs": [],
   "source": [
    "log_prob_file = 'Evaluations/MODIS_2010_95clear_128x128_inpaintT_preproc_expon2_logprob.h5'"
   ]
  },
  {
   "cell_type": "code",
   "execution_count": 8,
   "metadata": {},
   "outputs": [
    {
     "name": "stdin",
     "output_type": "stream",
     "text": [
      "Scaler file found in logdir. Use this (y/n)? y\n"
     ]
    },
    {
     "data": {
      "application/vnd.jupyter.widget-view+json": {
       "model_id": "29fbafb018934206967ca92278b0c19f",
       "version_major": 2,
       "version_minor": 0
      },
      "text/plain": [
       "HBox(children=(FloatProgress(value=0.0, description='Computing log probs', max=656.0, style=ProgressStyle(desc…"
      ]
     },
     "metadata": {},
     "output_type": "display_data"
    },
    {
     "name": "stdout",
     "output_type": "stream",
     "text": [
      "\n",
      "Log probabilities saved to Evaluations/MODIS_2010_95clear_128x128_inpaintT_preproc_expon2_logprob.h5.\n",
      "Saved log probabilities to Evaluations/MODIS_2010_95clear_128x128_inpaintT_preproc_expon2_logprob.csv.\n"
     ]
    }
   ],
   "source": [
    "pae.compute_log_probs(expon_file, 'valid', log_prob_file, csv=True)"
   ]
  },
  {
   "cell_type": "markdown",
   "metadata": {},
   "source": [
    "## Expon = 1/3"
   ]
  },
  {
   "cell_type": "code",
   "execution_count": 10,
   "metadata": {},
   "outputs": [],
   "source": [
    "expon_file = 'PreProc/MODIS_2010_95clear_128x128_inpaintT_preproc_expon1_3.h5'"
   ]
  },
  {
   "cell_type": "code",
   "execution_count": 11,
   "metadata": {},
   "outputs": [],
   "source": [
    "log_prob_file = 'Evaluations/MODIS_2010_95clear_128x128_inpaintT_preproc_expon1_3_logprob.h5'"
   ]
  },
  {
   "cell_type": "code",
   "execution_count": 12,
   "metadata": {},
   "outputs": [
    {
     "name": "stdin",
     "output_type": "stream",
     "text": [
      "Scaler file found in logdir. Use this (y/n)? y\n"
     ]
    },
    {
     "data": {
      "application/vnd.jupyter.widget-view+json": {
       "model_id": "83132c0bfef94bf6a5eeed486610629d",
       "version_major": 2,
       "version_minor": 0
      },
      "text/plain": [
       "HBox(children=(FloatProgress(value=0.0, description='Computing log probs', max=663.0, style=ProgressStyle(desc…"
      ]
     },
     "metadata": {},
     "output_type": "display_data"
    },
    {
     "name": "stdout",
     "output_type": "stream",
     "text": [
      "\n",
      "Log probabilities saved to Evaluations/MODIS_2010_95clear_128x128_inpaintT_preproc_expon1_3_logprob.h5.\n",
      "Saved log probabilities to Evaluations/MODIS_2010_95clear_128x128_inpaintT_preproc_expon1_3_logprob.csv.\n"
     ]
    }
   ],
   "source": [
    "pae.compute_log_probs(expon_file, 'valid', log_prob_file, csv=True)"
   ]
  },
  {
   "cell_type": "code",
   "execution_count": null,
   "metadata": {},
   "outputs": [],
   "source": []
  }
 ],
 "metadata": {
  "kernelspec": {
   "display_name": "Python 3",
   "language": "python",
   "name": "python3"
  },
  "language_info": {
   "codemirror_mode": {
    "name": "ipython",
    "version": 3
   },
   "file_extension": ".py",
   "mimetype": "text/x-python",
   "name": "python",
   "nbconvert_exporter": "python",
   "pygments_lexer": "ipython3",
   "version": "3.8.3"
  }
 },
 "nbformat": 4,
 "nbformat_minor": 4
}
