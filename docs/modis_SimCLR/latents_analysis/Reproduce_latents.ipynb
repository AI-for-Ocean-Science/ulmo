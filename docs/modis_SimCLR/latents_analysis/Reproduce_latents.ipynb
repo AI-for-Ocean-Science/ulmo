{
 "cells": [
  {
   "cell_type": "markdown",
   "metadata": {},
   "source": [
    "# Reproduce Latents"
   ]
  },
  {
   "cell_type": "code",
   "execution_count": 2,
   "metadata": {},
   "outputs": [],
   "source": [
    "%matplotlib inline\n",
    "\n",
    "from importlib import reload\n",
    "import os\n",
    "import numpy as np\n",
    "from pkg_resources import resource_filename\n",
    "\n",
    "import pandas\n",
    "\n",
    "import h5py\n",
    "import seaborn as sns\n",
    "import pandas as pd\n",
    "#import umap\n",
    "from ulmo import io as ulmo_io\n",
    "from ulmo import plotting\n",
    "from ulmo.ssl.my_util import modis_loader, set_model\n",
    "from ulmo.ssl.my_util import Params, option_preprocess\n",
    "from ulmo.ssl import latents_extraction\n",
    "\n",
    "import torch\n",
    "\n",
    "from sklearn.manifold import TSNE\n",
    "from sklearn.preprocessing import StandardScaler\n",
    "from sklearn.decomposition import PCA\n",
    "from sklearn.cluster import KMeans\n",
    "\n",
    "from matplotlib import pyplot as plt\n",
    "from tqdm import trange"
   ]
  },
  {
   "cell_type": "markdown",
   "metadata": {},
   "source": [
    "# Load files"
   ]
  },
  {
   "cell_type": "markdown",
   "metadata": {},
   "source": [
    "## Option file"
   ]
  },
  {
   "cell_type": "code",
   "execution_count": 3,
   "metadata": {},
   "outputs": [],
   "source": [
    "# Load options\n",
    "opt_file = os.path.join(resource_filename('ulmo', 'runs'),\n",
    "                        'SSL', 'First','experiments', \n",
    "                        'base_modis_model', 'opts.json')"
   ]
  },
  {
   "cell_type": "code",
   "execution_count": 4,
   "metadata": {},
   "outputs": [],
   "source": [
    "opt = Params(opt_file)\n",
    "opt = option_preprocess(opt)"
   ]
  },
  {
   "cell_type": "markdown",
   "metadata": {},
   "source": [
    "## Pytorch file"
   ]
  },
  {
   "cell_type": "code",
   "execution_count": 5,
   "metadata": {},
   "outputs": [
    {
     "name": "stdout",
     "output_type": "stream",
     "text": [
      "Downloading from s3: last.pth\n",
      "Done!\n"
     ]
    }
   ],
   "source": [
    "s3_model_path = 's3://modis-l2/modis_simclr_base_model/SimCLR_modis_resnet50_lr_0.05_decay_0.0001_bsz_64_temp_0.07_trial_0_cosine_warm/last.pth'\n",
    "ulmo_io.download_file_from_s3(os.path.basename(s3_model_path), s3_model_path)"
   ]
  },
  {
   "cell_type": "markdown",
   "metadata": {},
   "source": [
    "## Erdong's reproduced"
   ]
  },
  {
   "cell_type": "code",
   "execution_count": 6,
   "metadata": {},
   "outputs": [
    {
     "name": "stdout",
     "output_type": "stream",
     "text": [
      "Downloading from s3: modis_latents_last_reproduced.h5\n",
      "Done!\n"
     ]
    }
   ],
   "source": [
    "s3_reproduce_latents = 's3://modis-l2/modis_latents_last_reproduced.h5'\n",
    "ulmo_io.download_file_from_s3(os.path.basename(s3_reproduce_latents), s3_reproduce_latents)"
   ]
  },
  {
   "cell_type": "code",
   "execution_count": 7,
   "metadata": {},
   "outputs": [
    {
     "data": {
      "text/plain": [
       "(134162, 128)"
      ]
     },
     "execution_count": 7,
     "metadata": {},
     "output_type": "execute_result"
    }
   ],
   "source": [
    "with h5py.File('modis_latents_last_reproduced.h5', 'r') as f:\n",
    "    reproduced = f['modis_latents'][:]\n",
    "reproduced.shape"
   ]
  },
  {
   "cell_type": "markdown",
   "metadata": {},
   "source": [
    "## Load one image"
   ]
  },
  {
   "cell_type": "code",
   "execution_count": 8,
   "metadata": {},
   "outputs": [],
   "source": [
    "modis_dataset_path = \"s3://modis-l2/PreProc/MODIS_2010_95clear_128x128_inpaintT_preproc_0.8valid.h5\"\n",
    "with ulmo_io.open(modis_dataset_path, 'rb') as f:\n",
    "    hf = h5py.File(f, 'r')\n",
    "    img0 = hf['train'][0:1,...]"
   ]
  },
  {
   "cell_type": "code",
   "execution_count": 9,
   "metadata": {},
   "outputs": [
    {
     "data": {
      "text/plain": [
       "(1, 1, 64, 64)"
      ]
     },
     "execution_count": 9,
     "metadata": {},
     "output_type": "execute_result"
    }
   ],
   "source": [
    "img0.shape"
   ]
  },
  {
   "cell_type": "markdown",
   "metadata": {},
   "source": [
    "# Defs"
   ]
  },
  {
   "cell_type": "markdown",
   "metadata": {},
   "source": [
    "## Load model"
   ]
  },
  {
   "cell_type": "code",
   "execution_count": 10,
   "metadata": {},
   "outputs": [],
   "source": [
    "model_path = './'\n",
    "model_name = \"last.pth\"\n",
    "model_path_title = os.path.join(model_path, model_name)"
   ]
  },
  {
   "cell_type": "code",
   "execution_count": 11,
   "metadata": {},
   "outputs": [],
   "source": [
    "def load_model(opt, model_path, remove_module=True):\n",
    "    using_gpu = torch.cuda.is_available()\n",
    "    model, _ = set_model(opt, cuda_use=using_gpu)\n",
    "    if not using_gpu:\n",
    "        model_dict = torch.load(model_path, map_location=torch.device('cpu'))\n",
    "    else:\n",
    "        model_dict = torch.load(model_path)\n",
    "\n",
    "    if remove_module:\n",
    "        new_dict = {}\n",
    "        for key in model_dict['model'].keys():\n",
    "            new_dict[key.replace('module.','')] = model_dict['model'][key]\n",
    "        model.load_state_dict(new_dict)\n",
    "    else:\n",
    "        model.load_state_dict(model_dict['model'])\n",
    "    print(\"Model loaded\")\n",
    "    return model"
   ]
  },
  {
   "cell_type": "markdown",
   "metadata": {},
   "source": [
    "## Calculate latents"
   ]
  },
  {
   "cell_type": "code",
   "execution_count": 12,
   "metadata": {},
   "outputs": [],
   "source": [
    "def calc_latent(model, img, using_gpu):\n",
    "    modis_data = np.repeat(img, 3, axis=1)\n",
    "    image_tensor = torch.tensor(modis_data)\n",
    "    latents_np = latents_extraction.calc_latent(model, image_tensor, using_gpu)\n",
    "    return latents_np"
   ]
  },
  {
   "cell_type": "markdown",
   "metadata": {},
   "source": [
    "# Run on CPU"
   ]
  },
  {
   "cell_type": "code",
   "execution_count": 16,
   "metadata": {},
   "outputs": [],
   "source": [
    "using_gpu = False"
   ]
  },
  {
   "cell_type": "markdown",
   "metadata": {},
   "source": [
    "## Load model"
   ]
  },
  {
   "cell_type": "code",
   "execution_count": 20,
   "metadata": {},
   "outputs": [
    {
     "name": "stdout",
     "output_type": "stream",
     "text": [
      "Model loaded\n"
     ]
    }
   ],
   "source": [
    "cpu_model = load_model(opt, model_path_title, remove_module=True)"
   ]
  },
  {
   "cell_type": "markdown",
   "metadata": {},
   "source": [
    "## Calc latents"
   ]
  },
  {
   "cell_type": "code",
   "execution_count": 31,
   "metadata": {},
   "outputs": [],
   "source": [
    "with torch.no_grad():\n",
    "    cpu_latents = calc_latent(cpu_model, img0, using_gpu)"
   ]
  },
  {
   "cell_type": "code",
   "execution_count": 32,
   "metadata": {},
   "outputs": [
    {
     "data": {
      "text/plain": [
       "array([[-0.02050127,  0.07407618,  0.04224342, -0.0722819 ,  0.00294061,\n",
       "         0.01800058,  0.12333521, -0.04895734, -0.03287374,  0.08677723,\n",
       "         0.07657994, -0.05697816, -0.05136307, -0.08338682, -0.00944599,\n",
       "        -0.12602489,  0.0230847 , -0.04223683,  0.0372562 , -0.04805676,\n",
       "        -0.10619931, -0.13996214,  0.08047187,  0.13067569, -0.13676985,\n",
       "         0.17556271, -0.05703831,  0.06767135, -0.14134355,  0.12577687,\n",
       "        -0.07186496, -0.05439653, -0.10089992,  0.0928174 , -0.02457148,\n",
       "        -0.05033816,  0.03225619, -0.11719637, -0.11773968,  0.01282729,\n",
       "        -0.00686526, -0.07831512, -0.03915553,  0.0032813 ,  0.1243174 ,\n",
       "        -0.05613922, -0.08427165,  0.11099236,  0.0152957 ,  0.13387296,\n",
       "         0.09926886,  0.05570457,  0.06872411,  0.02095909, -0.0634723 ,\n",
       "        -0.03160271, -0.0385897 , -0.025409  ,  0.05674249, -0.05657056,\n",
       "         0.07395758, -0.04900097, -0.12068846,  0.04964582, -0.11162041,\n",
       "         0.03284034,  0.07940092,  0.05017281,  0.10332932, -0.09880722,\n",
       "         0.07857935,  0.00096056,  0.10138888, -0.19495325,  0.13020469,\n",
       "        -0.00715913,  0.05058214, -0.04028964,  0.00246153, -0.07281154,\n",
       "        -0.09336194,  0.041227  ,  0.14216779,  0.18254744,  0.05712875,\n",
       "        -0.11247262, -0.05312988, -0.11164968, -0.04808997,  0.02305445,\n",
       "        -0.14097059, -0.05007052, -0.04390207,  0.03841867, -0.13870247,\n",
       "         0.02065971,  0.10367139, -0.0268687 , -0.01042501, -0.04367452,\n",
       "         0.13201031,  0.01131195,  0.18509153, -0.0822506 ,  0.0605721 ,\n",
       "         0.07220654, -0.07298015, -0.01897972,  0.00899498, -0.03251255,\n",
       "         0.12540516, -0.05593175, -0.03641879,  0.11998665, -0.10369503,\n",
       "         0.10345784, -0.16076781, -0.09193707,  0.02354402,  0.01349625,\n",
       "        -0.14017422,  0.15995039, -0.16102898, -0.11166814, -0.08139827,\n",
       "        -0.21800297, -0.04827842, -0.08208117]], dtype=float32)"
      ]
     },
     "execution_count": 32,
     "metadata": {},
     "output_type": "execute_result"
    }
   ],
   "source": [
    "cpu_latents"
   ]
  },
  {
   "cell_type": "markdown",
   "metadata": {},
   "source": [
    "# Run on 2 GPU"
   ]
  },
  {
   "cell_type": "code",
   "execution_count": 13,
   "metadata": {},
   "outputs": [],
   "source": [
    "using_gpu = True"
   ]
  },
  {
   "cell_type": "code",
   "execution_count": 15,
   "metadata": {},
   "outputs": [
    {
     "name": "stdout",
     "output_type": "stream",
     "text": [
      "Model loaded\n"
     ]
    }
   ],
   "source": [
    "gpu_model = load_model(opt, model_path_title, remove_module=False)"
   ]
  },
  {
   "cell_type": "code",
   "execution_count": 16,
   "metadata": {},
   "outputs": [],
   "source": [
    "with torch.no_grad():\n",
    "    gpu_latents = calc_latent(gpu_model, img0, using_gpu)"
   ]
  },
  {
   "cell_type": "code",
   "execution_count": 17,
   "metadata": {},
   "outputs": [
    {
     "data": {
      "text/plain": [
       "array([[-0.02050127,  0.07407615,  0.04224341, -0.07228189,  0.00294061,\n",
       "         0.01800058,  0.12333518, -0.04895733, -0.03287373,  0.0867772 ,\n",
       "         0.07657992, -0.05697815, -0.05136306, -0.0833868 , -0.00944599,\n",
       "        -0.12602486,  0.02308469, -0.04223682,  0.03725619, -0.04805674,\n",
       "        -0.10619929, -0.1399621 ,  0.08047186,  0.13067566, -0.13676982,\n",
       "         0.17556266, -0.0570383 ,  0.06767134, -0.14134352,  0.12577684,\n",
       "        -0.07186494, -0.05439652, -0.1008999 ,  0.09281737, -0.02457148,\n",
       "        -0.05033815,  0.03225618, -0.11719634, -0.11773965,  0.01282729,\n",
       "        -0.00686526, -0.0783151 , -0.03915552,  0.00328129,  0.12431738,\n",
       "        -0.05613921, -0.08427163,  0.11099234,  0.0152957 ,  0.13387293,\n",
       "         0.09926884,  0.05570455,  0.0687241 ,  0.02095909, -0.06347229,\n",
       "        -0.0316027 , -0.0385897 , -0.02540899,  0.05674247, -0.05657055,\n",
       "         0.07395757, -0.04900096, -0.12068843,  0.0496458 , -0.11162039,\n",
       "         0.03284033,  0.0794009 ,  0.05017279,  0.1033293 , -0.09880719,\n",
       "         0.07857933,  0.00096056,  0.10138886, -0.1949532 ,  0.13020466,\n",
       "        -0.00715913,  0.05058213, -0.04028963,  0.00246152, -0.07281152,\n",
       "        -0.09336192,  0.04122699,  0.14216776,  0.18254739,  0.05712874,\n",
       "        -0.1124726 , -0.05312987, -0.11164965, -0.04808996,  0.02305444,\n",
       "        -0.14097054, -0.05007051, -0.04390206,  0.03841866, -0.13870244,\n",
       "         0.0206597 ,  0.10367136, -0.02686869, -0.010425  , -0.04367451,\n",
       "         0.13201028,  0.01131195,  0.18509148, -0.08225058,  0.06057208,\n",
       "         0.07220653, -0.07298014, -0.01897971,  0.00899498, -0.03251255,\n",
       "         0.12540515, -0.05593174, -0.03641878,  0.11998662, -0.10369501,\n",
       "         0.10345782, -0.16076778, -0.09193704,  0.02354402,  0.01349624,\n",
       "        -0.1401742 ,  0.15995036, -0.16102895, -0.11166811, -0.08139825,\n",
       "        -0.21800293, -0.04827841, -0.08208115]], dtype=float32)"
      ]
     },
     "execution_count": 17,
     "metadata": {},
     "output_type": "execute_result"
    }
   ],
   "source": [
    "gpu_latents"
   ]
  },
  {
   "cell_type": "code",
   "execution_count": 18,
   "metadata": {},
   "outputs": [
    {
     "data": {
      "text/plain": [
       "True"
      ]
     },
     "execution_count": 18,
     "metadata": {},
     "output_type": "execute_result"
    }
   ],
   "source": [
    "torch.cuda.is_available()"
   ]
  },
  {
   "cell_type": "code",
   "execution_count": 19,
   "metadata": {},
   "outputs": [
    {
     "data": {
      "text/plain": [
       "2"
      ]
     },
     "execution_count": 19,
     "metadata": {},
     "output_type": "execute_result"
    }
   ],
   "source": [
    "torch.cuda.device_count()"
   ]
  },
  {
   "cell_type": "markdown",
   "metadata": {},
   "source": [
    "## Erdong's latents"
   ]
  },
  {
   "cell_type": "code",
   "execution_count": 20,
   "metadata": {},
   "outputs": [
    {
     "data": {
      "text/plain": [
       "array([-0.02155386, -0.06343812,  0.1735882 , ..., -0.04469956,\n",
       "        0.15122856, -0.03635954], dtype=float32)"
      ]
     },
     "execution_count": 20,
     "metadata": {},
     "output_type": "execute_result"
    }
   ],
   "source": [
    "reproduced[:,0]"
   ]
  },
  {
   "cell_type": "markdown",
   "metadata": {},
   "source": [
    "## Shuffled?"
   ]
  },
  {
   "cell_type": "code",
   "execution_count": 21,
   "metadata": {},
   "outputs": [],
   "source": [
    "diff = reproduced - gpu_latents"
   ]
  },
  {
   "cell_type": "code",
   "execution_count": 22,
   "metadata": {},
   "outputs": [
    {
     "data": {
      "text/plain": [
       "(134162, 128)"
      ]
     },
     "execution_count": 22,
     "metadata": {},
     "output_type": "execute_result"
    }
   ],
   "source": [
    "diff.shape"
   ]
  },
  {
   "cell_type": "code",
   "execution_count": 28,
   "metadata": {},
   "outputs": [
    {
     "data": {
      "text/plain": [
       "(134162,)"
      ]
     },
     "execution_count": 28,
     "metadata": {},
     "output_type": "execute_result"
    }
   ],
   "source": [
    "coll = np.sum(np.abs(diff), axis=1)\n",
    "coll.shape"
   ]
  },
  {
   "cell_type": "code",
   "execution_count": 29,
   "metadata": {},
   "outputs": [
    {
     "data": {
      "text/plain": [
       "28418"
      ]
     },
     "execution_count": 29,
     "metadata": {},
     "output_type": "execute_result"
    }
   ],
   "source": [
    "np.argmin(np.abs(coll))"
   ]
  },
  {
   "cell_type": "code",
   "execution_count": 30,
   "metadata": {},
   "outputs": [
    {
     "data": {
      "text/plain": [
       "array([ 0.02300929, -0.01443782,  0.08370233, -0.01953413, -0.00470556,\n",
       "        0.06687014, -0.02280299,  0.01368805, -0.00121663,  0.00035466,\n",
       "       -0.03584557,  0.08917063,  0.1024095 , -0.07567263, -0.03344906,\n",
       "        0.00987158, -0.00551604,  0.04641563,  0.09849343,  0.04990767,\n",
       "       -0.03382512,  0.01376998, -0.03758459, -0.01024165,  0.06636506,\n",
       "       -0.00242111, -0.00057833,  0.01628938,  0.01175076,  0.00627048,\n",
       "        0.04728827,  0.02251767,  0.00035165,  0.0178895 , -0.01416013,\n",
       "        0.0569285 ,  0.01368723, -0.00091407,  0.03235236, -0.02294117,\n",
       "       -0.01198949, -0.03785446,  0.019293  ,  0.01009876, -0.059648  ,\n",
       "       -0.00631548,  0.07141049, -0.05201278, -0.02989315,  0.00752009,\n",
       "       -0.05838902,  0.00725605, -0.01924752, -0.01545174,  0.09455034,\n",
       "       -0.05258417, -0.00313755,  0.00156968, -0.02284767,  0.02315697,\n",
       "       -0.02556891,  0.06480764, -0.00995973, -0.00638906,  0.04461364,\n",
       "       -0.01216662,  0.04516967,  0.01229106,  0.07505825, -0.00143129,\n",
       "        0.03023005,  0.05043612,  0.06437679, -0.00673051,  0.03984368,\n",
       "       -0.03950892,  0.00217921,  0.01013587, -0.02952243,  0.02379955,\n",
       "        0.03363232,  0.02538107, -0.03348236, -0.01064366,  0.03882048,\n",
       "       -0.00170699, -0.05701891,  0.0428221 ,  0.03459326,  0.02291465,\n",
       "        0.08444455,  0.06831568, -0.00240801, -0.02229837,  0.00070472,\n",
       "        0.0226645 , -0.05935557,  0.00610284, -0.00809207, -0.01258124,\n",
       "        0.0229212 , -0.03634428, -0.03012091, -0.03041198, -0.08141762,\n",
       "        0.03050504,  0.03417081,  0.02544935,  0.00953778, -0.05804398,\n",
       "       -0.075787  ,  0.04959498, -0.02983077,  0.03621641, -0.04212393,\n",
       "       -0.00838267,  0.02244425,  0.0197707 , -0.02809757,  0.01048392,\n",
       "        0.00172906, -0.01384918,  0.02273187, -0.0485975 ,  0.09029057,\n",
       "        0.00618251,  0.02154972,  0.05218469], dtype=float32)"
      ]
     },
     "execution_count": 30,
     "metadata": {},
     "output_type": "execute_result"
    }
   ],
   "source": [
    "diff[28418,:]"
   ]
  },
  {
   "cell_type": "code",
   "execution_count": 27,
   "metadata": {},
   "outputs": [
    {
     "data": {
      "text/plain": [
       "array([ 7.26199821e-02,  1.64982919e-02, -1.14336967e-01, -5.90138510e-02,\n",
       "       -7.93228224e-02, -1.47404820e-02,  4.94753867e-02,  3.99645120e-02,\n",
       "       -5.14201969e-02, -2.81686969e-02, -4.29565012e-02,  5.49756810e-02,\n",
       "       -5.77338450e-02,  1.66457206e-01, -8.37837160e-02, -1.74851879e-01,\n",
       "       -9.54723954e-02, -1.35257110e-01, -9.04405266e-02, -1.04017697e-01,\n",
       "       -2.29768045e-02, -1.18896505e-02,  9.70488116e-02,  1.45358905e-01,\n",
       "       -3.56174447e-02,  1.15349524e-01, -9.63498726e-02,  3.16082686e-02,\n",
       "        5.08358926e-02,  7.50424489e-02,  8.19345284e-03,  1.12717807e-01,\n",
       "       -4.14534137e-02, -9.73928273e-02,  1.51695669e-01, -3.19805322e-03,\n",
       "        1.66340172e-01, -5.33876661e-03, -2.35126317e-02, -9.05339271e-02,\n",
       "       -5.53592704e-02,  8.92295968e-03,  6.80580661e-02, -6.13395981e-02,\n",
       "       -1.23335429e-01, -3.15948389e-02, -7.38016516e-02, -6.21085502e-02,\n",
       "        8.84830207e-02,  2.77109474e-01,  9.89952609e-02,  1.14709638e-01,\n",
       "       -2.78939325e-02,  5.37450798e-03, -3.96191627e-02,  9.91546661e-02,\n",
       "       -3.50199379e-02,  7.82762617e-02, -1.59447059e-01, -2.83115376e-02,\n",
       "       -2.11128797e-02, -2.25840621e-02, -1.80480592e-02,  5.72359785e-02,\n",
       "        5.21723591e-02, -6.16585324e-03,  3.72670740e-02, -7.51147280e-03,\n",
       "       -8.21901262e-02, -3.27393715e-03,  2.80454960e-02, -1.75412431e-01,\n",
       "        8.58887061e-02, -7.44403526e-02, -2.04917312e-01, -3.23592722e-02,\n",
       "       -7.03484938e-02, -1.26839608e-01, -1.06739532e-02,  2.88821273e-02,\n",
       "        1.26057252e-01,  5.92795806e-03,  1.30645279e-02,  4.13751900e-02,\n",
       "       -1.17962487e-01,  2.28597242e-02, -7.39765912e-02, -5.38769141e-02,\n",
       "        7.54173845e-02,  1.34876864e-02,  1.46345049e-01, -5.97140640e-02,\n",
       "       -7.61474892e-02,  5.27476519e-02, -1.41344354e-01,  6.37179688e-02,\n",
       "        1.26422569e-01, -1.35939065e-02, -1.26951048e-02, -1.03844274e-02,\n",
       "        2.63338797e-02, -7.22406209e-02, -1.28415442e-04,  4.26932909e-02,\n",
       "       -1.49706006e-01, -4.28045681e-03, -9.10048336e-02, -1.61468059e-01,\n",
       "        3.89838666e-02,  1.03172913e-01,  1.35671675e-01, -1.27576932e-01,\n",
       "        3.85075323e-02,  2.13897973e-02, -3.88103649e-02, -1.07178271e-01,\n",
       "       -3.17935571e-02, -1.87771413e-02, -4.37065363e-02,  1.14935912e-01,\n",
       "        3.10114343e-02,  2.01057017e-01, -5.30748144e-02,  1.07687823e-02,\n",
       "       -1.04332902e-02, -2.63202339e-01, -1.62684266e-02, -5.94904199e-02],\n",
       "      dtype=float32)"
      ]
     },
     "execution_count": 27,
     "metadata": {},
     "output_type": "execute_result"
    }
   ],
   "source": [
    "reproduced[72515,:]"
   ]
  },
  {
   "cell_type": "code",
   "execution_count": null,
   "metadata": {},
   "outputs": [],
   "source": []
  }
 ],
 "metadata": {
  "kernelspec": {
   "display_name": "Python 3",
   "language": "python",
   "name": "python3"
  },
  "language_info": {
   "codemirror_mode": {
    "name": "ipython",
    "version": 3
   },
   "file_extension": ".py",
   "mimetype": "text/x-python",
   "name": "python",
   "nbconvert_exporter": "python",
   "pygments_lexer": "ipython3",
   "version": "3.8.8"
  }
 },
 "nbformat": 4,
 "nbformat_minor": 4
}
