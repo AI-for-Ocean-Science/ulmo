{
 "cells": [
  {
   "cell_type": "markdown",
   "metadata": {},
   "source": [
    "# Reproduce Latents"
   ]
  },
  {
   "cell_type": "code",
   "execution_count": 13,
   "metadata": {},
   "outputs": [],
   "source": [
    "%matplotlib inline\n",
    "\n",
    "from importlib import reload\n",
    "import os\n",
    "import numpy as np\n",
    "from pkg_resources import resource_filename\n",
    "\n",
    "import pandas\n",
    "\n",
    "import h5py\n",
    "import seaborn as sns\n",
    "import pandas as pd\n",
    "import umap\n",
    "from ulmo import io as ulmo_io\n",
    "from ulmo import plotting\n",
    "from ulmo.ssl.my_util import modis_loader, set_model\n",
    "from ulmo.ssl.my_util import Params, option_preprocess\n",
    "from ulmo.ssl import latents_extraction\n",
    "\n",
    "import torch\n",
    "\n",
    "from sklearn.manifold import TSNE\n",
    "from sklearn.preprocessing import StandardScaler\n",
    "from sklearn.decomposition import PCA\n",
    "from sklearn.cluster import KMeans\n",
    "\n",
    "from matplotlib import pyplot as plt\n",
    "from tqdm import trange"
   ]
  },
  {
   "cell_type": "markdown",
   "metadata": {},
   "source": [
    "# Load files"
   ]
  },
  {
   "cell_type": "markdown",
   "metadata": {},
   "source": [
    "## Option file"
   ]
  },
  {
   "cell_type": "code",
   "execution_count": 2,
   "metadata": {},
   "outputs": [],
   "source": [
    "# Load options\n",
    "opt_file = os.path.join(resource_filename('ulmo', 'runs'),\n",
    "                        'SSL', 'First','experiments', \n",
    "                        'base_modis_model', 'opts.json')"
   ]
  },
  {
   "cell_type": "code",
   "execution_count": 3,
   "metadata": {},
   "outputs": [],
   "source": [
    "opt = Params(opt_file)\n",
    "opt = option_preprocess(opt)"
   ]
  },
  {
   "cell_type": "markdown",
   "metadata": {},
   "source": [
    "## Pytorch file"
   ]
  },
  {
   "cell_type": "code",
   "execution_count": 3,
   "metadata": {},
   "outputs": [
    {
     "name": "stdout",
     "output_type": "stream",
     "text": [
      "Downloading from s3: last.pth\n",
      "Done!\n"
     ]
    }
   ],
   "source": [
    "s3_model_path = 's3://modis-l2/modis_simclr_base_model/SimCLR_modis_resnet50_lr_0.05_decay_0.0001_bsz_64_temp_0.07_trial_0_cosine_warm/last.pth'\n",
    "ulmo_io.download_file_from_s3(os.path.basename(s3_model_path), s3_model_path)"
   ]
  },
  {
   "cell_type": "markdown",
   "metadata": {},
   "source": [
    "## Erdong's reproduced"
   ]
  },
  {
   "cell_type": "code",
   "execution_count": 6,
   "metadata": {},
   "outputs": [
    {
     "name": "stdout",
     "output_type": "stream",
     "text": [
      "Downloading from s3: modis_latents_last_reproduced.h5\n",
      "Done!\n"
     ]
    }
   ],
   "source": [
    "s3_reproduce_latents = 's3://modis-l2/modis_latents_last_reproduced.h5'\n",
    "ulmo_io.download_file_from_s3(os.path.basename(s3_reproduce_latents), s3_reproduce_latents)"
   ]
  },
  {
   "cell_type": "code",
   "execution_count": 34,
   "metadata": {},
   "outputs": [
    {
     "data": {
      "text/plain": [
       "(134162, 128)"
      ]
     },
     "execution_count": 34,
     "metadata": {},
     "output_type": "execute_result"
    }
   ],
   "source": [
    "with h5py.File('modis_latents_last_reproduced.h5', 'r') as f:\n",
    "    reproduced = f['modis_latents'][:]\n",
    "reproduced.shape"
   ]
  },
  {
   "cell_type": "markdown",
   "metadata": {},
   "source": [
    "## Load one image"
   ]
  },
  {
   "cell_type": "code",
   "execution_count": 25,
   "metadata": {},
   "outputs": [],
   "source": [
    "modis_dataset_path = \"s3://modis-l2/PreProc/MODIS_2010_95clear_128x128_inpaintT_preproc_0.8valid.h5\"\n",
    "with ulmo_io.open(modis_dataset_path, 'rb') as f:\n",
    "    hf = h5py.File(f, 'r')\n",
    "    img0 = hf['train'][0:1,...]"
   ]
  },
  {
   "cell_type": "code",
   "execution_count": 26,
   "metadata": {},
   "outputs": [
    {
     "data": {
      "text/plain": [
       "(1, 1, 64, 64)"
      ]
     },
     "execution_count": 26,
     "metadata": {},
     "output_type": "execute_result"
    }
   ],
   "source": [
    "img0.shape"
   ]
  },
  {
   "cell_type": "markdown",
   "metadata": {},
   "source": [
    "# Defs"
   ]
  },
  {
   "cell_type": "markdown",
   "metadata": {},
   "source": [
    "## Load model"
   ]
  },
  {
   "cell_type": "code",
   "execution_count": 4,
   "metadata": {},
   "outputs": [],
   "source": [
    "model_path = './'\n",
    "model_name = \"last.pth\"\n",
    "model_path_title = os.path.join(model_path, model_name)"
   ]
  },
  {
   "cell_type": "code",
   "execution_count": 19,
   "metadata": {},
   "outputs": [],
   "source": [
    "def load_model(opt, model_path, remove_module=True):\n",
    "    using_gpu = torch.cuda.is_available()\n",
    "    model, _ = set_model(opt, cuda_use=using_gpu)\n",
    "    if not using_gpu:\n",
    "        model_dict = torch.load(model_path, map_location=torch.device('cpu'))\n",
    "    else:\n",
    "        model_dict = torch.load(model_path)\n",
    "\n",
    "    if remove_module:\n",
    "        new_dict = {}\n",
    "        for key in model_dict['model'].keys():\n",
    "            new_dict[key.replace('module.','')] = model_dict['model'][key]\n",
    "        model.load_state_dict(new_dict)\n",
    "    else:\n",
    "        model.load_state_dict(model_dict['model'])\n",
    "    print(\"Model loaded\")\n",
    "    return model"
   ]
  },
  {
   "cell_type": "markdown",
   "metadata": {},
   "source": [
    "## Calculate latents"
   ]
  },
  {
   "cell_type": "code",
   "execution_count": 30,
   "metadata": {},
   "outputs": [],
   "source": [
    "def calc_latent(model, img, using_gpu):\n",
    "    modis_data = np.repeat(img, 3, axis=1)\n",
    "    image_tensor = torch.tensor(modis_data)\n",
    "    latents_np = latents_extraction.calc_latent(model, image_tensor, using_gpu)\n",
    "    return latents_np"
   ]
  },
  {
   "cell_type": "markdown",
   "metadata": {},
   "source": [
    "# Run on CPU"
   ]
  },
  {
   "cell_type": "code",
   "execution_count": 16,
   "metadata": {},
   "outputs": [],
   "source": [
    "using_gpu = False"
   ]
  },
  {
   "cell_type": "markdown",
   "metadata": {},
   "source": [
    "## Load model"
   ]
  },
  {
   "cell_type": "code",
   "execution_count": 20,
   "metadata": {},
   "outputs": [
    {
     "name": "stdout",
     "output_type": "stream",
     "text": [
      "Model loaded\n"
     ]
    }
   ],
   "source": [
    "cpu_model = load_model(opt, model_path_title, remove_module=True)"
   ]
  },
  {
   "cell_type": "markdown",
   "metadata": {},
   "source": [
    "## Calc latents"
   ]
  },
  {
   "cell_type": "code",
   "execution_count": 31,
   "metadata": {},
   "outputs": [],
   "source": [
    "with torch.no_grad():\n",
    "    cpu_latents = calc_latent(cpu_model, img0, using_gpu)"
   ]
  },
  {
   "cell_type": "code",
   "execution_count": 32,
   "metadata": {},
   "outputs": [
    {
     "data": {
      "text/plain": [
       "array([[-0.02050127,  0.07407618,  0.04224342, -0.0722819 ,  0.00294061,\n",
       "         0.01800058,  0.12333521, -0.04895734, -0.03287374,  0.08677723,\n",
       "         0.07657994, -0.05697816, -0.05136307, -0.08338682, -0.00944599,\n",
       "        -0.12602489,  0.0230847 , -0.04223683,  0.0372562 , -0.04805676,\n",
       "        -0.10619931, -0.13996214,  0.08047187,  0.13067569, -0.13676985,\n",
       "         0.17556271, -0.05703831,  0.06767135, -0.14134355,  0.12577687,\n",
       "        -0.07186496, -0.05439653, -0.10089992,  0.0928174 , -0.02457148,\n",
       "        -0.05033816,  0.03225619, -0.11719637, -0.11773968,  0.01282729,\n",
       "        -0.00686526, -0.07831512, -0.03915553,  0.0032813 ,  0.1243174 ,\n",
       "        -0.05613922, -0.08427165,  0.11099236,  0.0152957 ,  0.13387296,\n",
       "         0.09926886,  0.05570457,  0.06872411,  0.02095909, -0.0634723 ,\n",
       "        -0.03160271, -0.0385897 , -0.025409  ,  0.05674249, -0.05657056,\n",
       "         0.07395758, -0.04900097, -0.12068846,  0.04964582, -0.11162041,\n",
       "         0.03284034,  0.07940092,  0.05017281,  0.10332932, -0.09880722,\n",
       "         0.07857935,  0.00096056,  0.10138888, -0.19495325,  0.13020469,\n",
       "        -0.00715913,  0.05058214, -0.04028964,  0.00246153, -0.07281154,\n",
       "        -0.09336194,  0.041227  ,  0.14216779,  0.18254744,  0.05712875,\n",
       "        -0.11247262, -0.05312988, -0.11164968, -0.04808997,  0.02305445,\n",
       "        -0.14097059, -0.05007052, -0.04390207,  0.03841867, -0.13870247,\n",
       "         0.02065971,  0.10367139, -0.0268687 , -0.01042501, -0.04367452,\n",
       "         0.13201031,  0.01131195,  0.18509153, -0.0822506 ,  0.0605721 ,\n",
       "         0.07220654, -0.07298015, -0.01897972,  0.00899498, -0.03251255,\n",
       "         0.12540516, -0.05593175, -0.03641879,  0.11998665, -0.10369503,\n",
       "         0.10345784, -0.16076781, -0.09193707,  0.02354402,  0.01349625,\n",
       "        -0.14017422,  0.15995039, -0.16102898, -0.11166814, -0.08139827,\n",
       "        -0.21800297, -0.04827842, -0.08208117]], dtype=float32)"
      ]
     },
     "execution_count": 32,
     "metadata": {},
     "output_type": "execute_result"
    }
   ],
   "source": [
    "cpu_latents"
   ]
  },
  {
   "cell_type": "markdown",
   "metadata": {},
   "source": [
    "# Run on 2 GPU"
   ]
  },
  {
   "cell_type": "code",
   "execution_count": 37,
   "metadata": {},
   "outputs": [],
   "source": [
    "using_gpu = True"
   ]
  },
  {
   "cell_type": "code",
   "execution_count": null,
   "metadata": {},
   "outputs": [],
   "source": [
    "gpu_model = load_model(opt, model_path_title, remove_module=False)"
   ]
  }
 ],
 "metadata": {
  "kernelspec": {
   "display_name": "Python 3",
   "language": "python",
   "name": "python3"
  },
  "language_info": {
   "codemirror_mode": {
    "name": "ipython",
    "version": 3
   },
   "file_extension": ".py",
   "mimetype": "text/x-python",
   "name": "python",
   "nbconvert_exporter": "python",
   "pygments_lexer": "ipython3",
   "version": "3.7.8"
  }
 },
 "nbformat": 4,
 "nbformat_minor": 4
}
