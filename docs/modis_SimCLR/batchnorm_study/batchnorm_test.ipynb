{
 "cells": [
  {
   "cell_type": "markdown",
   "id": "43ad80da-bdc2-435c-9fe6-eaf915d36fb1",
   "metadata": {},
   "source": [
    "# Test of BatchNorm Layers "
   ]
  },
  {
   "cell_type": "code",
   "execution_count": 3,
   "id": "118dcd2c-016e-41fb-a231-132eb10ff8bf",
   "metadata": {},
   "outputs": [],
   "source": [
    "### used to set the interpreter searching path\n",
    "import sys\n",
    "target_path = '/home/jovyan/ulmo/'\n",
    "sys.path.append(target_path)"
   ]
  },
  {
   "cell_type": "code",
   "execution_count": 5,
   "id": "b6672ed5-facc-4ac7-ae69-4036af1fd32d",
   "metadata": {},
   "outputs": [],
   "source": [
    "%matplotlib inline\n",
    "\n",
    "from importlib import reload\n",
    "import os\n",
    "import numpy as np\n",
    "from pkg_resources import resource_filename\n",
    "\n",
    "import pandas\n",
    "\n",
    "import h5py\n",
    "import seaborn as sns\n",
    "import pandas as pd\n",
    "from ulmo.ssl.train_util import modis_loader, set_model\n",
    "from ulmo.ssl.train_util import Params, option_preprocess\n",
    "from ulmo.ssl import latents_extraction\n",
    "\n",
    "import torch\n",
    "\n",
    "from sklearn.preprocessing import StandardScaler\n",
    "from sklearn.decomposition import PCA\n",
    "from sklearn.cluster import KMeans\n",
    "\n",
    "from matplotlib import pyplot as plt\n",
    "from tqdm import trange"
   ]
  },
  {
   "cell_type": "code",
   "execution_count": 15,
   "id": "1bdd909e-7a9f-44b4-9d98-886689318fb1",
   "metadata": {},
   "outputs": [],
   "source": [
    "# Load options\n",
    "opt_path = \"/home/jovyan/ulmo/ulmo/runs/SSL/llc_ssl/experiments/llc_modis_2012\"\n",
    "opt_file = os.path.join(opt_path, 'opts.json')"
   ]
  },
  {
   "cell_type": "code",
   "execution_count": 16,
   "id": "fa807db3-0fb1-4ffa-9287-14a68c2867ac",
   "metadata": {},
   "outputs": [],
   "source": [
    "opt = Params(opt_file)\n",
    "opt = option_preprocess(opt)"
   ]
  },
  {
   "cell_type": "code",
   "execution_count": 22,
   "id": "1c4f2ca2-5887-40a3-9aa3-605af538d33d",
   "metadata": {},
   "outputs": [],
   "source": [
    "model_dir = os.listdir(opt_path)[1]\n",
    "model_name = \"last.pth\"\n",
    "model_path = os.path.join(opt_path, model_dir, model_name)"
   ]
  },
  {
   "cell_type": "code",
   "execution_count": 67,
   "id": "cf007972-8e85-4b5b-ac26-a89894a87f93",
   "metadata": {},
   "outputs": [],
   "source": [
    "using_gpu = torch.cuda.is_available()\n",
    "model, _ = set_model(opt, cuda_use=using_gpu)\n",
    "if not using_gpu:\n",
    "    model_dict = torch.load(model_path, map_location=torch.device('cpu'))\n",
    "else:\n",
    "    model_dict = torch.load(model_path)"
   ]
  },
  {
   "cell_type": "code",
   "execution_count": 68,
   "id": "2421af2d-b674-431d-bc19-31992ac33813",
   "metadata": {},
   "outputs": [
    {
     "name": "stdout",
     "output_type": "stream",
     "text": [
      "Model loaded\n"
     ]
    }
   ],
   "source": [
    "remove_module = True\n",
    "if remove_module:\n",
    "    new_dict = {}\n",
    "    for key in model_dict['model'].keys():\n",
    "        new_dict[key.replace('module.','')] = model_dict['model'][key]\n",
    "    model.load_state_dict(new_dict)\n",
    "else:\n",
    "    model.load_state_dict(model_dict['model'])\n",
    "print(\"Model loaded\")"
   ]
  },
  {
   "cell_type": "code",
   "execution_count": 69,
   "id": "7e6fe367-cb78-4cc7-b851-a0ed6d19d47d",
   "metadata": {},
   "outputs": [],
   "source": [
    "np.random.seed(0)\n",
    "test_batch = np.random.randn(1, 3, 64, 64)"
   ]
  },
  {
   "cell_type": "markdown",
   "id": "af7402bc-f100-465a-96f1-b5e5b7208803",
   "metadata": {},
   "source": [
    "## Batch with size 1"
   ]
  },
  {
   "cell_type": "code",
   "execution_count": 84,
   "id": "2c0e4d24-81a3-41be-8e31-95d27827159d",
   "metadata": {},
   "outputs": [],
   "source": [
    "model.eval()\n",
    "with torch.no_grad():\n",
    "    test_latents = model(torch.tensor(test_batch).float())"
   ]
  },
  {
   "cell_type": "code",
   "execution_count": 85,
   "id": "6b11a125-8f1a-4571-a39b-e09b4dbc2d48",
   "metadata": {},
   "outputs": [
    {
     "data": {
      "text/plain": [
       "torch.Size([1, 256])"
      ]
     },
     "execution_count": 85,
     "metadata": {},
     "output_type": "execute_result"
    }
   ],
   "source": [
    "test_latents.shape"
   ]
  },
  {
   "cell_type": "markdown",
   "id": "50bbb821-4c52-4e4a-809a-8b1290262406",
   "metadata": {},
   "source": [
    "## Batch with size 32"
   ]
  },
  {
   "cell_type": "code",
   "execution_count": 74,
   "id": "b8f85ca9-1566-4e05-9531-ca4db7ce7a32",
   "metadata": {},
   "outputs": [],
   "source": [
    "test_batch_32 = np.repeat(test_batch, 32, axis=0)"
   ]
  },
  {
   "cell_type": "code",
   "execution_count": 81,
   "id": "e98261e0-e2e2-4fd2-9daa-784171dc755e",
   "metadata": {},
   "outputs": [],
   "source": [
    "model.eval()\n",
    "with torch.no_grad():\n",
    "    test_latents_32 = model(torch.tensor(test_batch_32).float())"
   ]
  },
  {
   "cell_type": "markdown",
   "id": "0a839ea3-b024-4c78-9ce7-bddb41984171",
   "metadata": {},
   "source": [
    "## Batch with Size 64"
   ]
  },
  {
   "cell_type": "code",
   "execution_count": 99,
   "id": "2bbbfbbe-bfec-4562-9af3-38b57107ce79",
   "metadata": {},
   "outputs": [],
   "source": [
    "test_batch_64 = np.repeat(test_batch, 64, axis=0)"
   ]
  },
  {
   "cell_type": "code",
   "execution_count": 100,
   "id": "682ae036-792f-45b4-bd0f-68a028ba3490",
   "metadata": {},
   "outputs": [],
   "source": [
    "model.eval()\n",
    "with torch.no_grad():\n",
    "    test_latents_64 = model(torch.tensor(test_batch_64).float())"
   ]
  },
  {
   "cell_type": "code",
   "execution_count": 103,
   "id": "bf2685d8-cd59-452c-a1fa-62b7328b5576",
   "metadata": {},
   "outputs": [
    {
     "data": {
      "text/plain": [
       "tensor([-0.0574, -0.0573,  0.0955,  0.0312, -0.0273,  0.0373,  0.0004,  0.0392,\n",
       "        -0.0550,  0.1091])"
      ]
     },
     "execution_count": 103,
     "metadata": {},
     "output_type": "execute_result"
    }
   ],
   "source": [
    "test_latents[0][10: 20]"
   ]
  },
  {
   "cell_type": "code",
   "execution_count": 104,
   "id": "79fede36-7b8b-4545-9436-079680fc1506",
   "metadata": {},
   "outputs": [
    {
     "data": {
      "text/plain": [
       "tensor([-0.0574, -0.0573,  0.0955,  0.0312, -0.0273,  0.0373,  0.0004,  0.0392,\n",
       "        -0.0550,  0.1091])"
      ]
     },
     "execution_count": 104,
     "metadata": {},
     "output_type": "execute_result"
    }
   ],
   "source": [
    "test_latents_64[0][10: 20]"
   ]
  },
  {
   "cell_type": "markdown",
   "id": "ceea611f-478f-42d2-969b-3b7c45fd16dd",
   "metadata": {},
   "source": [
    "---------------------------------------"
   ]
  },
  {
   "cell_type": "code",
   "execution_count": 106,
   "id": "a772c562-7db7-41c1-a88c-cc893cb0c712",
   "metadata": {},
   "outputs": [],
   "source": [
    "test_batch_other = np.random.randn(63, 3, 64, 64)"
   ]
  },
  {
   "cell_type": "code",
   "execution_count": 108,
   "id": "26680504-d72c-4eb7-b862-2ee8e39cdce6",
   "metadata": {},
   "outputs": [],
   "source": [
    "test_batch_64_concat = np.concatenate((test_batch, test_batch_other), axis=0)"
   ]
  },
  {
   "cell_type": "code",
   "execution_count": 110,
   "id": "b972e646-836e-4519-88e5-c2868f8a3432",
   "metadata": {},
   "outputs": [],
   "source": [
    "model.eval()\n",
    "with torch.no_grad():\n",
    "    test_latents_64_concat = model(torch.tensor(test_batch_64_concat).float())"
   ]
  },
  {
   "cell_type": "code",
   "execution_count": 112,
   "id": "ef0bb708-13c7-4338-b2fb-3dc8f7f40990",
   "metadata": {},
   "outputs": [
    {
     "data": {
      "text/plain": [
       "tensor([-0.0574, -0.0573,  0.0955,  0.0312, -0.0273,  0.0373,  0.0004,  0.0392,\n",
       "        -0.0550,  0.1091])"
      ]
     },
     "execution_count": 112,
     "metadata": {},
     "output_type": "execute_result"
    }
   ],
   "source": [
    "test_latents_64_concat[0][10:20]"
   ]
  },
  {
   "cell_type": "code",
   "execution_count": 113,
   "id": "7ab53a15-521c-45bb-bd4a-719e591391f8",
   "metadata": {},
   "outputs": [],
   "source": [
    "test_batch_64 = np.random.randn(64, 3, 64, 64)"
   ]
  },
  {
   "cell_type": "code",
   "execution_count": 115,
   "id": "94b5f6f9-c8ba-48f9-aa5a-d0ef26d0ca5a",
   "metadata": {},
   "outputs": [],
   "source": [
    "test_batch_64[24] = test_batch[0]"
   ]
  },
  {
   "cell_type": "code",
   "execution_count": 117,
   "id": "5dd5f441-1f7b-4a31-91c4-a268e8ff2a63",
   "metadata": {},
   "outputs": [],
   "source": [
    "model.eval()\n",
    "with torch.no_grad():\n",
    "    test_latents_64 = model(torch.tensor(test_batch_64).float())"
   ]
  },
  {
   "cell_type": "code",
   "execution_count": 119,
   "id": "4e2b8561-12bd-4e10-84b3-b214a4089977",
   "metadata": {},
   "outputs": [
    {
     "data": {
      "text/plain": [
       "tensor([-0.0574, -0.0573,  0.0955,  0.0312, -0.0273,  0.0373,  0.0004,  0.0392,\n",
       "        -0.0550,  0.1091])"
      ]
     },
     "execution_count": 119,
     "metadata": {},
     "output_type": "execute_result"
    }
   ],
   "source": [
    "test_latents_64[24][10:20]"
   ]
  },
  {
   "cell_type": "code",
   "execution_count": null,
   "id": "0aadcaf7-bcd4-423f-ae32-7066b66c99d5",
   "metadata": {},
   "outputs": [],
   "source": []
  }
 ],
 "metadata": {
  "kernelspec": {
   "display_name": "Python 3",
   "language": "python",
   "name": "python3"
  },
  "language_info": {
   "codemirror_mode": {
    "name": "ipython",
    "version": 3
   },
   "file_extension": ".py",
   "mimetype": "text/x-python",
   "name": "python",
   "nbconvert_exporter": "python",
   "pygments_lexer": "ipython3",
   "version": "3.8.8"
  }
 },
 "nbformat": 4,
 "nbformat_minor": 5
}
