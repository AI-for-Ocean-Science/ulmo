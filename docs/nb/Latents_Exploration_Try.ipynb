{
 "cells": [
  {
   "cell_type": "markdown",
   "metadata": {
    "collapsed": true,
    "pycharm": {
     "name": "#%% md\n"
    }
   },
   "source": [
    "# The Exploration of Latents of MODIS L2\n",
    "## Date: 3/24/2021\n"
   ]
  },
  {
   "cell_type": "code",
   "execution_count": 1,
   "outputs": [],
   "source": [
    "%matplotlib inline\n",
    "\n",
    "from importlib import reload\n",
    "import os\n",
    "import numpy as np\n",
    "\n",
    "import pandas\n",
    "\n",
    "import h5py\n",
    "import seaborn as sns\n",
    "import pandas as pd\n",
    "\n",
    "from ulmo.analysis import io as analy_io\n",
    "from ulmo.utils import image_utils\n",
    "from ulmo import plotting\n",
    "from ulmo import io as ulmo_io\n",
    "from sklearn.manifold import TSNE\n",
    "from sklearn.preprocessing import StandardScaler\n",
    "from sklearn.decomposition import PCA\n",
    "from sklearn.cluster import KMeans\n",
    "\n",
    "from matplotlib import pyplot as plt"
   ],
   "metadata": {
    "collapsed": false,
    "pycharm": {
     "name": "#%%\n"
    }
   }
  },
  {
   "cell_type": "code",
   "execution_count": 2,
   "outputs": [
    {
     "data": {
      "text/plain": "<module 'ulmo.utils.image_utils' from '/home/erdong/PycharmProjects/ulmo/ulmo/utils/image_utils.py'>"
     },
     "execution_count": 2,
     "metadata": {},
     "output_type": "execute_result"
    }
   ],
   "source": [
    "reload(image_utils)"
   ],
   "metadata": {
    "collapsed": false,
    "pycharm": {
     "name": "#%%\n"
    }
   }
  },
  {
   "cell_type": "code",
   "execution_count": 3,
   "outputs": [
    {
     "name": "stdout",
     "output_type": "stream",
     "text": [
      "Read main table: /home/erdong/ulmos/modis_l2/MODIS_L2_std.feather\n"
     ]
    }
   ],
   "source": [
    "### Load the table\n",
    "evals_path = '/home/erdong/ulmos/modis_l2/MODIS_L2_std.feather'\n",
    "evals_tbl = ulmo_io.load_main_table(evals_path)"
   ],
   "metadata": {
    "collapsed": false,
    "pycharm": {
     "name": "#%%\n"
    }
   }
  },
  {
   "cell_type": "code",
   "execution_count": 4,
   "outputs": [
    {
     "name": "stdout",
     "output_type": "stream",
     "text": [
      "lat                      0\n",
      "lon                      0\n",
      "col                      0\n",
      "datetime                 0\n",
      "LL                  135712\n",
      "row                      0\n",
      "clear_fraction           0\n",
      "mean_temperature         0\n",
      "Tmin                     0\n",
      "Tmax                     0\n",
      "T90                      0\n",
      "T10                      0\n",
      "filename                 0\n",
      "UID                      0\n",
      "pp_file                  0\n",
      "pp_root                  0\n",
      "field_size               0\n",
      "pp_type                  0\n",
      "pp_idx                   0\n",
      "dtype: int64\n"
     ]
    }
   ],
   "source": [
    "### Check if there exist any 'NaN' values\n",
    "print(evals_tbl.isna().sum())"
   ],
   "metadata": {
    "collapsed": false,
    "pycharm": {
     "name": "#%%\n"
    }
   }
  },
  {
   "cell_type": "code",
   "execution_count": 5,
   "outputs": [
    {
     "name": "stdout",
     "output_type": "stream",
     "text": [
      "lat                 0\n",
      "lon                 0\n",
      "col                 0\n",
      "datetime            0\n",
      "LL                  0\n",
      "row                 0\n",
      "clear_fraction      0\n",
      "mean_temperature    0\n",
      "Tmin                0\n",
      "Tmax                0\n",
      "T90                 0\n",
      "T10                 0\n",
      "filename            0\n",
      "UID                 0\n",
      "pp_file             0\n",
      "pp_root             0\n",
      "field_size          0\n",
      "pp_type             0\n",
      "pp_idx              0\n",
      "dtype: int64\n"
     ]
    }
   ],
   "source": [
    "### Quick try: drop the 'NaN' points\n",
    "evals_tbl_drop = evals_tbl.dropna()\n",
    "print(evals_tbl_drop.isna().sum())"
   ],
   "metadata": {
    "collapsed": false,
    "pycharm": {
     "name": "#%%\n"
    }
   }
  },
  {
   "cell_type": "code",
   "execution_count": 6,
   "outputs": [
    {
     "name": "stderr",
     "output_type": "stream",
     "text": [
      "<ipython-input-6-44a31c3606f3>:3: SettingWithCopyWarning: \n",
      "A value is trying to be set on a copy of a slice from a DataFrame.\n",
      "Try using .loc[row_indexer,col_indexer] = value instead\n",
      "\n",
      "See the caveats in the documentation: https://pandas.pydata.org/pandas-docs/stable/user_guide/indexing.html#returning-a-view-versus-a-copy\n",
      "  evals_tbl_drop['DT'] = evals_tbl.T90 - evals_tbl.T10\n"
     ]
    }
   ],
   "source": [
    "# Add in DT\n",
    "if 'DT' not in evals_tbl.keys():\n",
    "    evals_tbl_drop['DT'] = evals_tbl.T90 - evals_tbl.T10"
   ],
   "metadata": {
    "collapsed": false,
    "pycharm": {
     "name": "#%%\n"
    }
   }
  },
  {
   "cell_type": "code",
   "execution_count": 7,
   "outputs": [],
   "source": [
    "in_brazil = ((np.abs(evals_tbl_drop.lon.values + 57.5) < 10.)  &\n",
    "    (np.abs(evals_tbl_drop.lat.values + 43.0) < 10))\n",
    "in_DT = np.abs(evals_tbl_drop.DT - 2.05) < 0.05\n",
    "evals_bz = evals_tbl_drop[in_brazil & in_DT].copy()"
   ],
   "metadata": {
    "collapsed": false,
    "pycharm": {
     "name": "#%%\n"
    }
   }
  },
  {
   "cell_type": "code",
   "execution_count": 8,
   "outputs": [],
   "source": [
    "logL = evals_bz.LL.values\n",
    "\n",
    "lowLL_val = np.percentile(logL, 10.)\n",
    "hiLL_val = np.percentile(logL, 90.)"
   ],
   "metadata": {
    "collapsed": false,
    "pycharm": {
     "name": "#%%\n"
    }
   }
  },
  {
   "cell_type": "code",
   "execution_count": 9,
   "outputs": [
    {
     "data": {
      "text/plain": "lat                                                        -38.458702\nlon                                                        -54.815647\ncol                                                               645\ndatetime                                          2019-01-05 04:50:00\nLL                                                        -254.304993\nrow                                                                16\nclear_fraction                                               0.006042\nmean_temperature                                            18.216663\nTmin                                                        16.369999\nTmax                                                           21.285\nT90                                                         19.234999\nT10                                                            17.205\nfilename                         AQUA_MODIS.20190105T045000.L2.SST.nc\nUID                                                154651541312518435\npp_file             s3://modis-l2/PreProc/MODIS_R2019_2019_95clear...\npp_root                                                      standard\nfield_size                                                        128\npp_type                                                             0\npp_idx                                                         747500\nDT                                                           2.029999\nName: 12353860, dtype: object"
     },
     "execution_count": 9,
     "metadata": {},
     "output_type": "execute_result"
    }
   ],
   "source": [
    "low = evals_bz.LL < lowLL_val\n",
    "high = evals_bz.LL > hiLL_val\n",
    "\n",
    "example = evals_bz[low].iloc[-1]\n",
    "example"
   ],
   "metadata": {
    "collapsed": false,
    "pycharm": {
     "name": "#%%\n"
    }
   }
  },
  {
   "cell_type": "code",
   "execution_count": 10,
   "outputs": [],
   "source": [
    "### Show the example\n",
    "# field, mask = image_utils.grab_modis_l2_img(example, 'PreProc', ptype='std')"
   ],
   "metadata": {
    "collapsed": false,
    "pycharm": {
     "name": "#%%\n"
    }
   }
  },
  {
   "cell_type": "code",
   "execution_count": 11,
   "outputs": [
    {
     "data": {
      "text/plain": "(751689, 512)"
     },
     "execution_count": 11,
     "metadata": {},
     "output_type": "execute_result"
    }
   ],
   "source": [
    "### Load the latents file\n",
    "lat_file = '/home/erdong/ulmos/modis_l2/' \\\n",
    "           'MODIS_R2019_2019_95clear_128x128_latents_std.h5'\n",
    "\n",
    "l_h5 = h5py.File(lat_file, 'r')\n",
    "latents = l_h5['latents']\n",
    "latents.shape"
   ],
   "metadata": {
    "collapsed": false,
    "pycharm": {
     "name": "#%%\n"
    }
   }
  },
  {
   "cell_type": "code",
   "execution_count": 12,
   "outputs": [
    {
     "name": "stdout",
     "output_type": "stream",
     "text": [
      "<class 'pandas.core.frame.DataFrame'>\n",
      "RangeIndex: 751689 entries, 0 to 751688\n",
      "Columns: 400 entries, 0 to 399\n",
      "dtypes: float32(400)\n",
      "memory usage: 1.1 GB\n"
     ]
    }
   ],
   "source": [
    "### Show the statistics of several features of the latents\n",
    "latents_part_df = pd.DataFrame(latents[:, :400])\n",
    "latents_part_df.info()"
   ],
   "metadata": {
    "collapsed": false,
    "pycharm": {
     "name": "#%%\n"
    }
   }
  },
  {
   "cell_type": "code",
   "execution_count": 13,
   "outputs": [
    {
     "data": {
      "text/plain": "                 0              1              2              3    \\\ncount  751689.000000  751689.000000  751689.000000  751689.000000   \nmean        0.004975       0.001060      -0.001625       0.007018   \nstd         0.974134       0.983585       0.973872       0.983486   \nmin       -12.895608     -11.473268      -8.643445     -12.344545   \n25%        -0.488145      -0.524477      -0.541840      -0.476032   \n50%         0.033400       0.002166      -0.038763       0.018280   \n75%         0.539309       0.532241       0.486545       0.512602   \nmax         9.434946       9.087834      13.096346       9.850948   \n\n                 4              5              6              7    \\\ncount  751689.000000  751689.000000  751689.000000  751689.000000   \nmean        0.010252      -0.004330      -0.001359      -0.000082   \nstd         0.985401       0.987638       0.978905       0.982374   \nmin       -11.076551     -11.799313     -12.563170     -14.518270   \n25%        -0.495000      -0.493991      -0.497078      -0.496550   \n50%         0.000002       0.008190       0.000602       0.008204   \n75%         0.503973       0.494812       0.495949       0.507855   \nmax        10.632300      10.975488      11.278859      10.691287   \n\n                 8              9    ...            390            391  \\\ncount  751689.000000  751689.000000  ...  751689.000000  751689.000000   \nmean       -0.005402       0.000272  ...       0.004499      -0.007422   \nstd         0.981341       0.979087  ...       0.976848       0.985243   \nmin       -11.212376     -10.744902  ...      -9.777671      -9.955516   \n25%        -0.538741      -0.501030  ...      -0.521854      -0.498464   \n50%        -0.013831       0.020663  ...      -0.008118      -0.026581   \n75%         0.518780       0.522501  ...       0.518684       0.478979   \nmax        10.463519      12.954918  ...      12.420573      10.999012   \n\n                 392            393            394            395  \\\ncount  751689.000000  751689.000000  751689.000000  751689.000000   \nmean       -0.002398       0.004064       0.010843       0.002954   \nstd         0.980718       0.981631       0.973597       0.979820   \nmin       -12.292439     -12.638578     -15.550569     -12.391028   \n25%        -0.507808      -0.481324      -0.453612      -0.520528   \n50%         0.026821       0.004810       0.077684       0.022664   \n75%         0.540610       0.485096       0.558634       0.548474   \nmax        11.334339      10.844025       7.939140       9.157885   \n\n                 396            397            398            399  \ncount  751689.000000  751689.000000  751689.000000  751689.000000  \nmean        0.004194       0.000145      -0.011412      -0.006052  \nstd         0.992822       0.982427       0.986249       0.984277  \nmin       -13.237496     -13.111054     -13.853485     -12.878211  \n25%        -0.493105      -0.500887      -0.429397      -0.507753  \n50%         0.007105       0.007249       0.047447      -0.005162  \n75%         0.506308       0.503110       0.472975       0.498321  \nmax        11.574175      10.978301      11.022414      11.049067  \n\n[8 rows x 400 columns]",
      "text/html": "<div>\n<style scoped>\n    .dataframe tbody tr th:only-of-type {\n        vertical-align: middle;\n    }\n\n    .dataframe tbody tr th {\n        vertical-align: top;\n    }\n\n    .dataframe thead th {\n        text-align: right;\n    }\n</style>\n<table border=\"1\" class=\"dataframe\">\n  <thead>\n    <tr style=\"text-align: right;\">\n      <th></th>\n      <th>0</th>\n      <th>1</th>\n      <th>2</th>\n      <th>3</th>\n      <th>4</th>\n      <th>5</th>\n      <th>6</th>\n      <th>7</th>\n      <th>8</th>\n      <th>9</th>\n      <th>...</th>\n      <th>390</th>\n      <th>391</th>\n      <th>392</th>\n      <th>393</th>\n      <th>394</th>\n      <th>395</th>\n      <th>396</th>\n      <th>397</th>\n      <th>398</th>\n      <th>399</th>\n    </tr>\n  </thead>\n  <tbody>\n    <tr>\n      <th>count</th>\n      <td>751689.000000</td>\n      <td>751689.000000</td>\n      <td>751689.000000</td>\n      <td>751689.000000</td>\n      <td>751689.000000</td>\n      <td>751689.000000</td>\n      <td>751689.000000</td>\n      <td>751689.000000</td>\n      <td>751689.000000</td>\n      <td>751689.000000</td>\n      <td>...</td>\n      <td>751689.000000</td>\n      <td>751689.000000</td>\n      <td>751689.000000</td>\n      <td>751689.000000</td>\n      <td>751689.000000</td>\n      <td>751689.000000</td>\n      <td>751689.000000</td>\n      <td>751689.000000</td>\n      <td>751689.000000</td>\n      <td>751689.000000</td>\n    </tr>\n    <tr>\n      <th>mean</th>\n      <td>0.004975</td>\n      <td>0.001060</td>\n      <td>-0.001625</td>\n      <td>0.007018</td>\n      <td>0.010252</td>\n      <td>-0.004330</td>\n      <td>-0.001359</td>\n      <td>-0.000082</td>\n      <td>-0.005402</td>\n      <td>0.000272</td>\n      <td>...</td>\n      <td>0.004499</td>\n      <td>-0.007422</td>\n      <td>-0.002398</td>\n      <td>0.004064</td>\n      <td>0.010843</td>\n      <td>0.002954</td>\n      <td>0.004194</td>\n      <td>0.000145</td>\n      <td>-0.011412</td>\n      <td>-0.006052</td>\n    </tr>\n    <tr>\n      <th>std</th>\n      <td>0.974134</td>\n      <td>0.983585</td>\n      <td>0.973872</td>\n      <td>0.983486</td>\n      <td>0.985401</td>\n      <td>0.987638</td>\n      <td>0.978905</td>\n      <td>0.982374</td>\n      <td>0.981341</td>\n      <td>0.979087</td>\n      <td>...</td>\n      <td>0.976848</td>\n      <td>0.985243</td>\n      <td>0.980718</td>\n      <td>0.981631</td>\n      <td>0.973597</td>\n      <td>0.979820</td>\n      <td>0.992822</td>\n      <td>0.982427</td>\n      <td>0.986249</td>\n      <td>0.984277</td>\n    </tr>\n    <tr>\n      <th>min</th>\n      <td>-12.895608</td>\n      <td>-11.473268</td>\n      <td>-8.643445</td>\n      <td>-12.344545</td>\n      <td>-11.076551</td>\n      <td>-11.799313</td>\n      <td>-12.563170</td>\n      <td>-14.518270</td>\n      <td>-11.212376</td>\n      <td>-10.744902</td>\n      <td>...</td>\n      <td>-9.777671</td>\n      <td>-9.955516</td>\n      <td>-12.292439</td>\n      <td>-12.638578</td>\n      <td>-15.550569</td>\n      <td>-12.391028</td>\n      <td>-13.237496</td>\n      <td>-13.111054</td>\n      <td>-13.853485</td>\n      <td>-12.878211</td>\n    </tr>\n    <tr>\n      <th>25%</th>\n      <td>-0.488145</td>\n      <td>-0.524477</td>\n      <td>-0.541840</td>\n      <td>-0.476032</td>\n      <td>-0.495000</td>\n      <td>-0.493991</td>\n      <td>-0.497078</td>\n      <td>-0.496550</td>\n      <td>-0.538741</td>\n      <td>-0.501030</td>\n      <td>...</td>\n      <td>-0.521854</td>\n      <td>-0.498464</td>\n      <td>-0.507808</td>\n      <td>-0.481324</td>\n      <td>-0.453612</td>\n      <td>-0.520528</td>\n      <td>-0.493105</td>\n      <td>-0.500887</td>\n      <td>-0.429397</td>\n      <td>-0.507753</td>\n    </tr>\n    <tr>\n      <th>50%</th>\n      <td>0.033400</td>\n      <td>0.002166</td>\n      <td>-0.038763</td>\n      <td>0.018280</td>\n      <td>0.000002</td>\n      <td>0.008190</td>\n      <td>0.000602</td>\n      <td>0.008204</td>\n      <td>-0.013831</td>\n      <td>0.020663</td>\n      <td>...</td>\n      <td>-0.008118</td>\n      <td>-0.026581</td>\n      <td>0.026821</td>\n      <td>0.004810</td>\n      <td>0.077684</td>\n      <td>0.022664</td>\n      <td>0.007105</td>\n      <td>0.007249</td>\n      <td>0.047447</td>\n      <td>-0.005162</td>\n    </tr>\n    <tr>\n      <th>75%</th>\n      <td>0.539309</td>\n      <td>0.532241</td>\n      <td>0.486545</td>\n      <td>0.512602</td>\n      <td>0.503973</td>\n      <td>0.494812</td>\n      <td>0.495949</td>\n      <td>0.507855</td>\n      <td>0.518780</td>\n      <td>0.522501</td>\n      <td>...</td>\n      <td>0.518684</td>\n      <td>0.478979</td>\n      <td>0.540610</td>\n      <td>0.485096</td>\n      <td>0.558634</td>\n      <td>0.548474</td>\n      <td>0.506308</td>\n      <td>0.503110</td>\n      <td>0.472975</td>\n      <td>0.498321</td>\n    </tr>\n    <tr>\n      <th>max</th>\n      <td>9.434946</td>\n      <td>9.087834</td>\n      <td>13.096346</td>\n      <td>9.850948</td>\n      <td>10.632300</td>\n      <td>10.975488</td>\n      <td>11.278859</td>\n      <td>10.691287</td>\n      <td>10.463519</td>\n      <td>12.954918</td>\n      <td>...</td>\n      <td>12.420573</td>\n      <td>10.999012</td>\n      <td>11.334339</td>\n      <td>10.844025</td>\n      <td>7.939140</td>\n      <td>9.157885</td>\n      <td>11.574175</td>\n      <td>10.978301</td>\n      <td>11.022414</td>\n      <td>11.049067</td>\n    </tr>\n  </tbody>\n</table>\n<p>8 rows × 400 columns</p>\n</div>"
     },
     "execution_count": 13,
     "metadata": {},
     "output_type": "execute_result"
    }
   ],
   "source": [
    "latents_part_df.describe()"
   ],
   "metadata": {
    "collapsed": false,
    "pycharm": {
     "name": "#%%\n"
    }
   }
  },
  {
   "cell_type": "markdown",
   "source": [
    "### From above descriptions, we know that all the features of the latents almost belong to the standard normal distribution."
   ],
   "metadata": {
    "collapsed": false,
    "pycharm": {
     "name": "#%% md\n",
     "is_executing": true
    }
   }
  },
  {
   "cell_type": "code",
   "execution_count": 14,
   "outputs": [
    {
     "data": {
      "text/plain": "<AxesSubplot:ylabel='Count'>"
     },
     "execution_count": 14,
     "metadata": {},
     "output_type": "execute_result"
    },
    {
     "data": {
      "text/plain": "<Figure size 432x288 with 1 Axes>",
      "image/png": "[encoded data removed]"
     },
     "metadata": {
      "needs_background": "light"
     },
     "output_type": "display_data"
    }
   ],
   "source": [
    "### We will plot the histogram of a randomly selected feature of the latents\n",
    "seed = 0\n",
    "np.random.seed(seed)\n",
    "index_rand = np.random.randint(512)\n",
    "sns.histplot(latents[:, index_rand])"
   ],
   "metadata": {
    "collapsed": false,
    "pycharm": {
     "name": "#%%\n"
    }
   }
  },
  {
   "cell_type": "markdown",
   "source": [
    "### Let's do linear transformation to standarize the latent vector at first.\n",
    "### For each component, we do $x_{std} = (x - \\mu) / \\sigma(x)$."
   ],
   "metadata": {
    "collapsed": false,
    "pycharm": {
     "name": "#%% md\n"
    }
   }
  },
  {
   "cell_type": "code",
   "execution_count": 15,
   "outputs": [],
   "source": [
    "### Initialize the linear transformer at first\n",
    "scaler = StandardScaler()\n",
    "### Estimate the parameters\n",
    "scaler.fit(latents)\n",
    "### Transform the latents\n",
    "latents_std = scaler.transform(latents)"
   ],
   "metadata": {
    "collapsed": false,
    "pycharm": {
     "name": "#%%\n"
    }
   }
  },
  {
   "cell_type": "code",
   "source": [
    "### Let's use PCA at first to estimate the dimension of the main components. But before that, we want to standarize the latent vector\n",
    "pca = PCA(n_components='mle', random_state=0)\n",
    "pca.fit(latents_std)\n",
    "singular_vals = pca.singular_values_"
   ],
   "metadata": {
    "collapsed": false,
    "pycharm": {
     "name": "#%%\n"
    }
   },
   "execution_count": 16,
   "outputs": []
  },
  {
   "cell_type": "code",
   "execution_count": 17,
   "outputs": [
    {
     "data": {
      "text/plain": "<Figure size 432x288 with 1 Axes>",
      "image/png": "[encoded data removed]"
     },
     "metadata": {
      "needs_background": "light"
     },
     "output_type": "display_data"
    }
   ],
   "source": [
    "### plot the singular values to estimate the dimensions\n",
    "plt.figure()\n",
    "plt.title('Singular values plot')\n",
    "plt.plot(singular_vals.squeeze(), linewidth=2)\n",
    "plt.xlabel('dims')\n",
    "plt.ylabel('singular_vals')\n",
    "plt.show()"
   ],
   "metadata": {
    "collapsed": false,
    "pycharm": {
     "name": "#%%\n"
    }
   }
  },
  {
   "cell_type": "markdown",
   "source": [
    "### From above plot, actually we can try to use the $dims = 300$ for the latent space.\n",
    "### Here we use $dim = 256$"
   ],
   "metadata": {
    "collapsed": false,
    "pycharm": {
     "name": "#%% md\n"
    }
   }
  },
  {
   "cell_type": "code",
   "execution_count": 18,
   "outputs": [
    {
     "name": "stdout",
     "output_type": "stream",
     "text": [
      "(751689, 256)\n"
     ]
    }
   ],
   "source": [
    "pca = PCA(n_components=256, random_state=0)\n",
    "pca.fit(latents_std)\n",
    "latents_reduced = pca.transform(latents_std)\n",
    "print(latents_reduced.shape)\n"
   ],
   "metadata": {
    "collapsed": false,
    "pycharm": {
     "name": "#%%\n"
    }
   }
  },
  {
   "cell_type": "code",
   "source": [
    "### As a first try, let's try to use 'k-means' clustering.\n",
    "n_clusters = 2\n",
    "kmeans = KMeans(n_clusters=n_clusters, random_state=0)\n",
    "kmeans.fit(latents_reduced)"
   ],
   "metadata": {
    "collapsed": false,
    "pycharm": {
     "name": "#%%\n"
    }
   },
   "execution_count": 19,
   "outputs": [
    {
     "data": {
      "text/plain": "KMeans(n_clusters=2, random_state=0)"
     },
     "execution_count": 19,
     "metadata": {},
     "output_type": "execute_result"
    }
   ]
  },
  {
   "cell_type": "code",
   "execution_count": 20,
   "outputs": [
    {
     "data": {
      "text/plain": "<AxesSubplot:ylabel='Count'>"
     },
     "execution_count": 20,
     "metadata": {},
     "output_type": "execute_result"
    },
    {
     "data": {
      "text/plain": "<Figure size 432x288 with 1 Axes>",
      "image/png": "[encoded data removed]"
     },
     "metadata": {
      "needs_background": "light"
     },
     "output_type": "display_data"
    }
   ],
   "source": [
    "### Check the labels given by 'k-means'\n",
    "sns.histplot(kmeans.labels_)"
   ],
   "metadata": {
    "collapsed": false,
    "pycharm": {
     "name": "#%%\n"
    }
   }
  },
  {
   "cell_type": "code",
   "execution_count": 21,
   "outputs": [
    {
     "data": {
      "text/plain": "       predicted_label\ncount    751689.000000\nmean          0.827969\nstd           0.377408\nmin           0.000000\n25%           1.000000\n50%           1.000000\n75%           1.000000\nmax           1.000000",
      "text/html": "<div>\n<style scoped>\n    .dataframe tbody tr th:only-of-type {\n        vertical-align: middle;\n    }\n\n    .dataframe tbody tr th {\n        vertical-align: top;\n    }\n\n    .dataframe thead th {\n        text-align: right;\n    }\n</style>\n<table border=\"1\" class=\"dataframe\">\n  <thead>\n    <tr style=\"text-align: right;\">\n      <th></th>\n      <th>predicted_label</th>\n    </tr>\n  </thead>\n  <tbody>\n    <tr>\n      <th>count</th>\n      <td>751689.000000</td>\n    </tr>\n    <tr>\n      <th>mean</th>\n      <td>0.827969</td>\n    </tr>\n    <tr>\n      <th>std</th>\n      <td>0.377408</td>\n    </tr>\n    <tr>\n      <th>min</th>\n      <td>0.000000</td>\n    </tr>\n    <tr>\n      <th>25%</th>\n      <td>1.000000</td>\n    </tr>\n    <tr>\n      <th>50%</th>\n      <td>1.000000</td>\n    </tr>\n    <tr>\n      <th>75%</th>\n      <td>1.000000</td>\n    </tr>\n    <tr>\n      <th>max</th>\n      <td>1.000000</td>\n    </tr>\n  </tbody>\n</table>\n</div>"
     },
     "execution_count": 21,
     "metadata": {},
     "output_type": "execute_result"
    }
   ],
   "source": [
    "### Show the statistics of the 'clusters'\n",
    "labels_df = pd.DataFrame(kmeans.labels_, columns=['predicted_label'])\n",
    "labels_df.describe()"
   ],
   "metadata": {
    "collapsed": false,
    "pycharm": {
     "name": "#%%\n"
    }
   }
  },
  {
   "cell_type": "markdown",
   "source": [
    "### From 'k-means', if we divide the data set into two groups, there are $82.8\\%$ positive samples.\n",
    "### But here we assume that there are $2$ clusters, actually we can explore the num of clusters.5"
   ],
   "metadata": {
    "collapsed": false,
    "pycharm": {
     "name": "#%% md\n"
    }
   }
  },
  {
   "cell_type": "code",
   "execution_count": 23,
   "outputs": [],
   "source": [
    "###  color prepare\n",
    "red_indices = np.argwhere(kmeans.labels_ == 1)\n",
    "blue_indices = np.argwhere(kmeans.labels_ == 0)\n",
    "#colors = [0] * kmeans.labels_.shape[0]\n",
    "#colors[red_indices.squeeze()] = 'red'\n"
   ],
   "metadata": {
    "collapsed": false,
    "pycharm": {
     "name": "#%%\n"
    }
   }
  },
  {
   "cell_type": "code",
   "execution_count": 34,
   "outputs": [
    {
     "data": {
      "text/plain": "Text(0.5, 1.0, 'Scatter plot of Reduced Latent Space')"
     },
     "execution_count": 34,
     "metadata": {},
     "output_type": "execute_result"
    },
    {
     "name": "stderr",
     "output_type": "stream",
     "text": [
      "/home/erdong/PycharmProjects/ulmo/venv_conda/lib/python3.8/site-packages/IPython/core/pylabtools.py:132: UserWarning: Creating legend with loc=\"best\" can be slow with large amounts of data.\n",
      "  fig.canvas.print_figure(bytes_io, **kw)\n"
     ]
    },
    {
     "data": {
      "text/plain": "<Figure size 432x288 with 1 Axes>",
      "image/png": "[encoded data removed]"
     },
     "metadata": {
      "needs_background": "light"
     },
     "output_type": "display_data"
    }
   ],
   "source": [
    "plt.scatter(latents_reduced[:, 0][red_indices.squeeze()], latents_reduced[:, 1][red_indices.squeeze()],\n",
    "            s=12, label='positive sample')\n",
    "plt.scatter(latents_reduced[:, 0][blue_indices.squeeze()], latents_reduced[:, 1][blue_indices.squeeze()],\n",
    "            s=12, label='negative sample')\n",
    "plt.xlabel('1st dimension', fontsize=15)\n",
    "plt.ylabel('2ed dimension', fontsize=15)\n",
    "plt.legend()\n",
    "plt.title('Scatter plot of Reduced Latent Space', fontsize=15)"
   ],
   "metadata": {
    "collapsed": false,
    "pycharm": {
     "name": "#%%\n"
    }
   }
  },
  {
   "cell_type": "markdown",
   "source": [
    "## We will continue to work on the histogram of each cluster, UMap, t-SNE, etc suggested in the meeting with X and Peter."
   ],
   "metadata": {
    "collapsed": false,
    "pycharm": {
     "name": "#%% md\n"
    }
   }
  },
  {
   "cell_type": "code",
   "execution_count": null,
   "outputs": [],
   "source": [],
   "metadata": {
    "collapsed": false,
    "pycharm": {
     "name": "#%%\n"
    }
   }
  }
 ],
 "metadata": {
  "kernelspec": {
   "display_name": "Python 3",
   "language": "python",
   "name": "python3"
  },
  "language_info": {
   "codemirror_mode": {
    "name": "ipython",
    "version": 2
   },
   "file_extension": ".py",
   "mimetype": "text/x-python",
   "name": "python",
   "nbconvert_exporter": "python",
   "pygments_lexer": "ipython2",
   "version": "2.7.6"
  }
 },
 "nbformat": 4,
 "nbformat_minor": 0
}