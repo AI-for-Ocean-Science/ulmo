{
 "cells": [
  {
   "cell_type": "markdown",
   "id": "e090b322",
   "metadata": {},
   "source": [
    "# Fussing with URLs"
   ]
  },
  {
   "cell_type": "code",
   "execution_count": 1,
   "id": "dec660c4",
   "metadata": {},
   "outputs": [],
   "source": [
    "# imports\n",
    "import requests"
   ]
  },
  {
   "cell_type": "markdown",
   "id": "457c098e",
   "metadata": {},
   "source": [
    "# Tests"
   ]
  },
  {
   "cell_type": "markdown",
   "id": "98bf9f91",
   "metadata": {},
   "source": [
    "## Good URL"
   ]
  },
  {
   "cell_type": "code",
   "execution_count": 6,
   "id": "6b9750c5",
   "metadata": {},
   "outputs": [],
   "source": [
    "good_url = 'https://opendap.jpl.nasa.gov/opendap/SeaSurfaceTopography/merged_alt/L4/cdr_grid/ssh_grids_v1812_1992100212.nc'"
   ]
  },
  {
   "cell_type": "code",
   "execution_count": 7,
   "id": "b0466626",
   "metadata": {},
   "outputs": [],
   "source": [
    "response_good = requests.get(good_url)"
   ]
  },
  {
   "cell_type": "code",
   "execution_count": 8,
   "id": "bf6db343",
   "metadata": {},
   "outputs": [
    {
     "data": {
      "text/plain": [
       "200"
      ]
     },
     "execution_count": 8,
     "metadata": {},
     "output_type": "execute_result"
    }
   ],
   "source": [
    "response_good.status_code"
   ]
  },
  {
   "cell_type": "markdown",
   "id": "43565274",
   "metadata": {},
   "source": [
    "## Bad URL"
   ]
  },
  {
   "cell_type": "code",
   "execution_count": 3,
   "id": "5bf2680c",
   "metadata": {},
   "outputs": [],
   "source": [
    "bad_url = 'https://opendap.jpl.nasa.gov/opendap/SeaSurfaceTopography/merged_alt/L4/cdr_grid/ssh_grids_v1812_199201112.nc'"
   ]
  },
  {
   "cell_type": "code",
   "execution_count": 4,
   "id": "0223efea",
   "metadata": {},
   "outputs": [],
   "source": [
    "response = requests.get(bad_url)"
   ]
  },
  {
   "cell_type": "code",
   "execution_count": 5,
   "id": "c216cd9c",
   "metadata": {},
   "outputs": [
    {
     "data": {
      "text/plain": [
       "404"
      ]
     },
     "execution_count": 5,
     "metadata": {},
     "output_type": "execute_result"
    }
   ],
   "source": [
    "response.status_code"
   ]
  },
  {
   "cell_type": "code",
   "execution_count": null,
   "id": "cb703fb3",
   "metadata": {},
   "outputs": [],
   "source": []
  }
 ],
 "metadata": {
  "kernelspec": {
   "display_name": "Python 3 (ipykernel)",
   "language": "python",
   "name": "python3"
  },
  "language_info": {
   "codemirror_mode": {
    "name": "ipython",
    "version": 3
   },
   "file_extension": ".py",
   "mimetype": "text/x-python",
   "name": "python",
   "nbconvert_exporter": "python",
   "pygments_lexer": "ipython3",
   "version": "3.8.5"
  }
 },
 "nbformat": 4,
 "nbformat_minor": 5
}
