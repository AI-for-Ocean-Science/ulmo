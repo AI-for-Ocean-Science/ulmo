{
 "cells": [
  {
   "cell_type": "code",
   "execution_count": null,
   "id": "c1d08d32-5e2c-469b-873d-a9ee40f20e2d",
   "metadata": {},
   "outputs": [],
   "source": [
    "# imports\n",
    "from importlib import reload\n",
    "\n",
    "import os # a module to interact with the operating system\n",
    "os.environ[\"ENDPOINT_URL\"]=\"http://rook-ceph-rgw-nautiluss3.rook\"\n",
    "import numpy as np\n",
    "\n",
    "import pandas as pd\n",
    "import xarray\n",
    "import h5py\n",
    "import healpy as hp\n",
    "import time\n",
    "\n",
    "import cartopy.crs as ccrs\n",
    "from cartopy.mpl.gridliner import LONGITUDE_FORMATTER, LATITUDE_FORMATTER\n",
    "\n",
    "from matplotlib import pyplot as plt\n",
    "import seaborn as sns\n",
    "import scipy.stats as stats\n",
    "\n",
    "from ulmo import io as ulmo_io\n",
    "from ulmo import plotting\n",
    "from ulmo.llc import io as llc_io\n",
    "from ulmo.llc import plotting as llc_plotting\n",
    "\n",
    "from ulmo.utils import image_utils\n",
    "from ulmo.analysis import figures as ulmo_figs\n",
    "from ulmo.plotting import plotting as ulmo_plotting\n",
    "from ulmo.analysis import spatial_plots as sp"
   ]
  },
  {
   "cell_type": "markdown",
   "id": "62a47619-d974-4b87-8aab-18bdc27cf9ba",
   "metadata": {},
   "source": [
    "#### Goals: \n",
    "#### 1. Select LLC and VIIRS cutouts from two regions: in equatorial pacific and 60W shelf/confluence\n",
    "#### 2. Create a side by side 9 ~ med LL image gallery for LLC and VIIRS"
   ]
  },
  {
   "cell_type": "markdown",
   "id": "fe2114f2-cc81-4bcd-aa8b-5042944fe6b7",
   "metadata": {},
   "source": [
    "# Load Tables"
   ]
  },
  {
   "cell_type": "code",
   "execution_count": null,
   "id": "3eabc0eb-fdb0-4544-843f-5c4ab02bb4b6",
   "metadata": {},
   "outputs": [],
   "source": [
    "llc_tbl= ulmo_io.load_main_table( 's3://llc/Tables/LLC_uniform_viirs_noise.parquet' )\n",
    "llc_tbl.head()"
   ]
  },
  {
   "cell_type": "code",
   "execution_count": null,
   "id": "5b8ca0e5-7d40-4d03-a598-1f28a2e88a1e",
   "metadata": {},
   "outputs": [],
   "source": [
    "uni_tbl = ulmo_io.load_main_table( 's3://llc/Tables/test_uniform_r0.5_test.feather' )\n",
    "uni_tbl.head()"
   ]
  },
  {
   "cell_type": "code",
   "execution_count": null,
   "id": "05eb90e3-5215-468b-8eaa-dae6af2281ba",
   "metadata": {},
   "outputs": [],
   "source": [
    "viirs_tbl = ulmo_io.load_main_table( 's3://viirs/Tables/VIIRS_all_99clear_std.parquet')\n",
    "viirs_tbl.head()"
   ]
  },
  {
   "cell_type": "markdown",
   "id": "793c3747-5de6-4bea-9ea2-4662358d2c2c",
   "metadata": {},
   "source": [
    "# Region 1 : Equatorial Pacific"
   ]
  },
  {
   "cell_type": "markdown",
   "id": "3b97b531-23d2-4bc4-95b4-d60c098d52bf",
   "metadata": {},
   "source": [
    "### North : LLC"
   ]
  },
  {
   "cell_type": "code",
   "execution_count": null,
   "id": "7752965d-8a8e-4e65-abd6-b580e7c3caa6",
   "metadata": {},
   "outputs": [],
   "source": [
    "eqtr_n = (llc_tbl.lat > 0. ) & (np.abs(llc_tbl.lat) < 2.) & (np.abs(llc_tbl.lon + 100) < 5.)\n",
    "llc_eqtr_n = llc_tbl[ eqtr_n ]\n",
    "\n",
    "med_LL_n = np.median(llc_eqtr_n.LL.to_numpy())\n",
    "med_LL_n"
   ]
  },
  {
   "cell_type": "code",
   "execution_count": null,
   "id": "cdd930e2-fd29-459c-aa6f-64d67db5921f",
   "metadata": {},
   "outputs": [],
   "source": [
    "llc_eqtr_n.keys()"
   ]
  },
  {
   "cell_type": "markdown",
   "id": "643eadbf-5cf3-49aa-92aa-a6306673fa54",
   "metadata": {},
   "source": [
    "### South : LLC"
   ]
  },
  {
   "cell_type": "code",
   "execution_count": null,
   "id": "592a3ea7-f102-49ad-b16b-170207f564fb",
   "metadata": {},
   "outputs": [],
   "source": [
    "eqtr_s = (llc_tbl.lat < 0. ) & (np.abs(llc_tbl.lat) < 2.) & (np.abs(llc_tbl.lon + 100) < 5.)\n",
    "llc_eqtr_s = llc_tbl[ eqtr_s ]\n",
    "\n",
    "med_LL_s = np.median(llc_eqtr_s.LL.to_numpy())\n",
    "med_LL_s"
   ]
  },
  {
   "cell_type": "code",
   "execution_count": null,
   "id": "5fbef447-2585-4f39-9cdd-398f8f2dc807",
   "metadata": {},
   "outputs": [],
   "source": [
    "med = np.abs(llc_tbl.LL - med_LL_n) < 50\n",
    "llc_n = llc_tbl[ eqtr_n & med ]\n",
    "llc_n"
   ]
  },
  {
   "cell_type": "code",
   "execution_count": null,
   "id": "f17456ae-e702-48b3-bf9c-6dea431faf4b",
   "metadata": {},
   "outputs": [],
   "source": [
    "med = np.abs(llc_tbl.LL - med_LL_s) < 50\n",
    "llc_s = llc_tbl[ eqtr_s & med ]\n",
    "llc_s"
   ]
  },
  {
   "cell_type": "markdown",
   "id": "196574aa-2b02-48bf-b189-8769c708aab2",
   "metadata": {},
   "source": [
    "### North : VIIRS"
   ]
  },
  {
   "cell_type": "code",
   "execution_count": null,
   "id": "0dfea7f6-8197-4e53-9203-d0852b054c09",
   "metadata": {},
   "outputs": [],
   "source": [
    "eqtr_n = (viirs_tbl.lat > 0. ) & (np.abs(viirs_tbl.lat) < 2.) & (np.abs(viirs_tbl.lon + 100) < 5.)\n",
    "viirs_eqtr_n = viirs_tbl[ eqtr_n ]\n",
    "\n",
    "med_LL_n = np.median(viirs_eqtr_n.LL.to_numpy())\n",
    "med_LL_n"
   ]
  },
  {
   "cell_type": "markdown",
   "id": "6e62df42-17f9-46f0-a387-1a6c9f5690d3",
   "metadata": {},
   "source": [
    "### South : VIIRS"
   ]
  },
  {
   "cell_type": "code",
   "execution_count": null,
   "id": "1b4ec245-b26c-43a3-bf7d-961163e4ad32",
   "metadata": {
    "tags": []
   },
   "outputs": [],
   "source": [
    "eqtr_s = (viirs_tbl.lat < 0. ) & (np.abs(viirs_tbl.lat) < 2.) & (np.abs(viirs_tbl.lon + 100) < 5.)\n",
    "viirs_eqtr_s = viirs_tbl[ eqtr_s ]\n",
    "\n",
    "med_LL_s = np.median(viirs_eqtr_s.LL.to_numpy())\n",
    "med_LL_s"
   ]
  },
  {
   "cell_type": "code",
   "execution_count": null,
   "id": "f20b7e33-8be8-4b46-b0df-f4d9fff0ddc3",
   "metadata": {},
   "outputs": [],
   "source": [
    "med = np.abs(viirs_tbl.LL - med_LL_n) < 50\n",
    "viirs_n = viirs_tbl[ eqtr_n & med ]\n",
    "viirs_n"
   ]
  },
  {
   "cell_type": "code",
   "execution_count": null,
   "id": "14d98fbf-faf2-4c5b-9f4a-7feb8df8b1e0",
   "metadata": {},
   "outputs": [],
   "source": [
    "med = np.abs(viirs_tbl.LL - med_LL_s) < 50\n",
    "viirs_s = viirs_tbl[ eqtr_s & med ]\n",
    "viirs_s"
   ]
  },
  {
   "cell_type": "markdown",
   "id": "a1f552aa-69f3-4199-8bf3-8c520896fd4e",
   "metadata": {},
   "source": [
    "## Check Seasonal Bias of Viirs"
   ]
  },
  {
   "cell_type": "code",
   "execution_count": null,
   "id": "39936790-60e3-4039-b610-6ca09af54939",
   "metadata": {},
   "outputs": [],
   "source": [
    "def fig_year_month(outfile, ptype, evals_tbl=None, frac=False,\n",
    "                   all=False):\n",
    "    \"\"\"\n",
    "    Time evolution in outliers\n",
    "    Parameters\n",
    "    ----------\n",
    "    outfile\n",
    "    ptype\n",
    "    evals_tbl\n",
    "    Returns\n",
    "    -------\n",
    "    \"\"\"\n",
    "\n",
    "    # Load\n",
    "    if evals_tbl is None:\n",
    "        evals_tbl = results.load_log_prob(ptype, feather=True)\n",
    "        print(\"Loaded..\")\n",
    "\n",
    "    # Outliers\n",
    "    point1 = int(0.001 * len(evals_tbl))\n",
    "    isortLL = np.argsort(evals_tbl.LL)\n",
    "    outliers = evals_tbl.iloc[isortLL[0:point1]]\n",
    "\n",
    "    # All\n",
    "    if all or frac:\n",
    "        all_years = [item.year for item in evals_tbl.datetime]\n",
    "        all_months = [item.month for item in evals_tbl.datetime]\n",
    "\n",
    "    # Parse\n",
    "    years = [item.year for item in outliers.datetime]\n",
    "    months = [item.month for item in outliers.datetime]\n",
    "\n",
    "    # Histogram\n",
    "    bins_year = np.arange(2011.5, 2021.5)\n",
    "    bins_month = np.arange(0.5, 13.5)\n",
    "\n",
    "    counts, xedges, yedges = np.histogram2d(months, years,\n",
    "                                            bins=(bins_month, bins_year))\n",
    "    if all or frac:\n",
    "        all_counts, _, _ = np.histogram2d(all_months, all_years,\n",
    "                                            bins=(bins_month, bins_year))\n",
    "\n",
    "    fig = plt.figure(figsize=(12, 8))\n",
    "    plt.clf()\n",
    "    gs = plt.GridSpec(5,6)\n",
    "\n",
    "    # Total NSpax\n",
    "    ax_tot = plt.subplot(gs[1:,1:-1])\n",
    "\n",
    "    cm = plt.get_cmap('Blues')\n",
    "    if frac:\n",
    "        values  = counts.transpose()/all_counts.transpose()\n",
    "        lbl = 'Fraction'\n",
    "    elif all:\n",
    "        cm = plt.get_cmap('Greens')\n",
    "        norm = np.sum(all_counts) / np.product(all_counts.shape)\n",
    "        values = all_counts.transpose()#/norm\n",
    "        lbl = 'Counts'\n",
    "        #lbl = 'Fraction (all)'\n",
    "    else:\n",
    "        values = counts.transpose()\n",
    "        lbl = 'Counts'\n",
    "    mplt = ax_tot.pcolormesh(xedges, yedges, values, cmap=cm)\n",
    "    \n",
    "    # Color bar\n",
    "    cbaxes = fig.add_axes([0.03, 0.1, 0.05, 0.7])\n",
    "    cb = plt.colorbar(mplt, cax=cbaxes, aspect=20)\n",
    "    #cb.set_label(lbl, fontsize=20.)\n",
    "    cbaxes.yaxis.set_ticks_position('left')\n",
    "    cbaxes.set_xlabel(lbl, fontsize=15.)\n",
    "\n",
    "    ax_tot.set_xlabel('Month')\n",
    "    ax_tot.set_ylabel('Year')\n",
    "\n",
    "    #ax_tot.set_fontsize(ax_tot, 19.)\n",
    "\n",
    "    # Edges\n",
    "    fsz = 30.\n",
    "    months = np.mean(values, axis=0)\n",
    "    ax_m = plt.subplot(gs[0,1:-1])\n",
    "    ax_m.step(np.arange(12)+1, months, color='k', where='mid')\n",
    "    #ax_m.set_fontsize(ax_m, fsz)\n",
    "    #ax_m.minorticks_on()\n",
    "\n",
    "    years = np.mean(values, axis=1)\n",
    "    ax_y = plt.subplot(gs[1:,-1])\n",
    "    ax_y.invert_xaxis()\n",
    "    ax_y.step(years, 2012 + np.arange(9), color='k', where='mid')\n",
    "    #ax_y.set_xlim(40,80)\n",
    "    #ax_y.set_fontsize(ax_y, fsz)\n",
    "    \n",
    "    # Layout and save\n",
    "    plt.title('Total # of Cutouts : {}'.format( round(np.sum(all_counts))))\n",
    "    plt.tight_layout(pad=0.2,h_pad=0.2,w_pad=0.1)\n",
    "    plt.show()\n",
    "    #plt.savefig('mbyytest', dpi=600)\n",
    "    #plt.close()\n",
    "    #print('Wrote {:s}'.format(outfile))\n"
   ]
  },
  {
   "cell_type": "code",
   "execution_count": null,
   "id": "15c794fd-0688-4aed-b802-5ddddad141e2",
   "metadata": {},
   "outputs": [],
   "source": [
    "fig_year_month(outfile = viirs_n, ptype='std', evals_tbl= viirs_n, all=True)"
   ]
  },
  {
   "cell_type": "code",
   "execution_count": null,
   "id": "daea6217-6e69-4d44-9b8a-0f73ccf56b29",
   "metadata": {},
   "outputs": [],
   "source": [
    "fig_year_month(outfile = viirs_eqtr_n, ptype='std', evals_tbl= viirs_eqtr_n, all=True)"
   ]
  },
  {
   "cell_type": "code",
   "execution_count": null,
   "id": "c964f55d-4c9c-4ea0-91d3-2c0dc11c485d",
   "metadata": {},
   "outputs": [],
   "source": [
    "fig_year_month(outfile = viirs_s, ptype='std', evals_tbl= viirs_s, all=True)"
   ]
  },
  {
   "cell_type": "code",
   "execution_count": null,
   "id": "c8256c4c-0d0c-480e-96f2-73bc9689cfcd",
   "metadata": {},
   "outputs": [],
   "source": [
    "fig_year_month(outfile = viirs_eqtr_s, ptype='std', evals_tbl= viirs_eqtr_s, all=True)"
   ]
  },
  {
   "cell_type": "markdown",
   "id": "25ddf7cd-70ef-47c1-896a-3d73577c448e",
   "metadata": {
    "tags": []
   },
   "source": [
    "# Region 2: 60W Shelf & Confluence"
   ]
  },
  {
   "cell_type": "code",
   "execution_count": null,
   "id": "ff9b778c-2e7b-4d40-9169-0b4b2dc5591a",
   "metadata": {},
   "outputs": [],
   "source": [
    "R2 = dict( lon=-61.0, dlon=1., lat=-45, dlat=2)\n",
    "R1 = dict( lon=-56.5, dlon=1.5, lat=-45, dlat=2)"
   ]
  },
  {
   "cell_type": "markdown",
   "id": "1ea7b527-55ae-49df-8ce6-35b240f79d76",
   "metadata": {},
   "source": [
    "### R1 & R2 : LLC"
   ]
  },
  {
   "cell_type": "code",
   "execution_count": null,
   "id": "03811380-191b-4f1e-9174-0e0e9797fc27",
   "metadata": {},
   "outputs": [],
   "source": [
    "in_R1, in_R2 = [((np.abs(llc_tbl.lon.values - R['lon']) < R['dlon']) & (np.abs(llc_tbl.lat.values - R['lat']) < R['dlat'])) for R in [R1, R2]]\n"
   ]
  },
  {
   "cell_type": "markdown",
   "id": "6af4b5ac-ae7a-47aa-80e9-0a7d2cc00453",
   "metadata": {},
   "source": [
    "#### R1"
   ]
  },
  {
   "cell_type": "code",
   "execution_count": null,
   "id": "4885fab6-16fc-49ec-982a-c583d1ae39b1",
   "metadata": {},
   "outputs": [],
   "source": [
    "llc_R1 = llc_tbl[ in_R1 ]\n",
    "med_LL1 = np.median(llc_R1.LL.to_numpy())\n",
    "med_LL1"
   ]
  },
  {
   "cell_type": "code",
   "execution_count": null,
   "id": "82984f2a-991c-4929-9091-495e75c0a234",
   "metadata": {},
   "outputs": [],
   "source": [
    "med = np.abs( llc_tbl.LL - med_LL1) < 20\n",
    "llc1 = llc_tbl[ in_R1 & med ]\n",
    "llc1"
   ]
  },
  {
   "cell_type": "markdown",
   "id": "db20df41-7f3a-4bfd-a615-4639724f88c2",
   "metadata": {},
   "source": [
    "#### R2"
   ]
  },
  {
   "cell_type": "code",
   "execution_count": null,
   "id": "24375909-d184-4f36-bac0-141847901532",
   "metadata": {},
   "outputs": [],
   "source": [
    "llc_R2 = llc_tbl[ in_R2 ]\n",
    "med_LL2 = np.median(llc_R2.LL.to_numpy())\n",
    "med_LL2"
   ]
  },
  {
   "cell_type": "code",
   "execution_count": null,
   "id": "1e69cf18-ebf2-41cd-88f5-8708a450261e",
   "metadata": {},
   "outputs": [],
   "source": [
    "med = np.abs( llc_tbl.LL - med_LL2) < 20\n",
    "llc2 = llc_tbl[ in_R2 & med ]\n",
    "llc2"
   ]
  },
  {
   "cell_type": "markdown",
   "id": "2937e104-35ed-4b4a-9d10-78b2be10aa88",
   "metadata": {},
   "source": [
    "### R1 & R2 : VIIRS"
   ]
  },
  {
   "cell_type": "code",
   "execution_count": null,
   "id": "7c83ab48-a00b-47f5-815b-921f4ae79f7a",
   "metadata": {},
   "outputs": [],
   "source": [
    "in_R1, in_R2 = [((np.abs(viirs_tbl.lon.values - R['lon']) < R['dlon']) & (np.abs(viirs_tbl.lat.values - R['lat']) < R['dlat'])) for R in [R1, R2]]"
   ]
  },
  {
   "cell_type": "markdown",
   "id": "1884cdfc-5621-4679-b0ab-b527229dbb1c",
   "metadata": {},
   "source": [
    "#### R1"
   ]
  },
  {
   "cell_type": "code",
   "execution_count": null,
   "id": "7d4bbd32-3d41-49f3-9001-13d4925aafa2",
   "metadata": {},
   "outputs": [],
   "source": [
    "viirs_R1 = viirs_tbl[ in_R1 ]\n",
    "med_V1 = np.median( viirs_R1.LL.to_numpy())\n",
    "med_V1"
   ]
  },
  {
   "cell_type": "code",
   "execution_count": null,
   "id": "ff901080-148a-474e-8a23-59c4abe2ebb1",
   "metadata": {},
   "outputs": [],
   "source": [
    "med = np.abs( viirs_tbl.LL - med_V1) < 10\n",
    "viirs1 = viirs_tbl[ in_R1 & med]\n",
    "viirs1"
   ]
  },
  {
   "cell_type": "markdown",
   "id": "29f6c5a6-8d44-4377-af3a-e92f7d933d21",
   "metadata": {},
   "source": [
    "#### R2"
   ]
  },
  {
   "cell_type": "code",
   "execution_count": null,
   "id": "eaff0565-031e-4e13-beb3-01deded685e9",
   "metadata": {},
   "outputs": [],
   "source": [
    "viirs_R2 = viirs_tbl[ in_R2 ]\n",
    "med_V2 = np.median( viirs_R2.LL.to_numpy())\n",
    "med_V2"
   ]
  },
  {
   "cell_type": "code",
   "execution_count": null,
   "id": "7ca2dce8-7f5f-4113-9f6c-a68e8987b5c6",
   "metadata": {},
   "outputs": [],
   "source": [
    "med = np.abs( viirs_tbl.LL - med_V2) < 20\n",
    "viirs2 = viirs_tbl[ in_R2 & med]\n",
    "viirs2"
   ]
  },
  {
   "cell_type": "code",
   "execution_count": null,
   "id": "5476345c-2918-4233-880c-335c3b4b3069",
   "metadata": {},
   "outputs": [],
   "source": [
    "_ = ulmo_figs.show_spatial(viirs2, lbl = 'viirs_2')"
   ]
  },
  {
   "cell_type": "code",
   "execution_count": null,
   "id": "56bebb25-0264-4444-85cd-6bc69ae60be0",
   "metadata": {},
   "outputs": [],
   "source": [
    "_ = ulmo_figs.show_spatial(viirs1, lbl = 'viirs_R1')"
   ]
  },
  {
   "cell_type": "markdown",
   "id": "b6351e95-5b2e-4153-856d-1d7a9f52c2fa",
   "metadata": {},
   "source": [
    "# ~ Med LL 9 image gallery"
   ]
  },
  {
   "cell_type": "code",
   "execution_count": null,
   "id": "2466e2e3-3211-40a9-92c4-2936af40568c",
   "metadata": {},
   "outputs": [],
   "source": [
    "pal, cm = plotting.load_palette()"
   ]
  },
  {
   "cell_type": "markdown",
   "id": "b4ae1213-4ed4-4d57-b08b-9c04124515aa",
   "metadata": {},
   "source": [
    "### Equatorial Pacific: LLC"
   ]
  },
  {
   "cell_type": "code",
   "execution_count": null,
   "id": "c16cec6d-6be8-4bec-aa7a-f5f8a253dd99",
   "metadata": {},
   "outputs": [],
   "source": [
    "#Generate 9 random numbers from tbl\n",
    "northlist1 = np.random.choice( llc_n.index.to_numpy(), size = 9)\n",
    "print(northlist1)"
   ]
  },
  {
   "cell_type": "code",
   "execution_count": null,
   "id": "68758b8b-42c3-4b20-876e-ccce29090780",
   "metadata": {},
   "outputs": [],
   "source": [
    "northlist1 = [312928, 703391, 312559, 573114,  51624, 311433, 181160, 573482, 182656]"
   ]
  },
  {
   "cell_type": "code",
   "execution_count": null,
   "id": "9e1d84df-50db-4680-b7a7-89c9d085541b",
   "metadata": {},
   "outputs": [],
   "source": [
    "fig, axes = plt.subplots(3, 3, figsize = (10,8) )\n",
    "\n",
    "fig.suptitle('9 ~ med LL imgs: North Pacific: LLC data')\n",
    "fig.supylabel('dT')\n",
    "\n",
    "for i in [0, 1, 2]: \n",
    "    \n",
    "    idx = northlist1[ i ] \n",
    "    cutout = llc_tbl.iloc[ idx ] \n",
    "    \n",
    "    img= llc_io.grab_image(cutout)\n",
    "    \n",
    "    sns.heatmap(ax=axes[i, 0], data=img, xticklabels=[], yticklabels=[], cmap=cm,\n",
    "             cbar=True)\n",
    "    \n",
    "for i in [3, 4, 5]: \n",
    "    \n",
    "    idx = northlist1[ i ] \n",
    "    cutout = llc_tbl.iloc[ idx ] \n",
    "    \n",
    "    img= llc_io.grab_image(cutout)\n",
    "    \n",
    "    sns.heatmap(ax = axes[i-3, 1], data=img, xticklabels=[], yticklabels=[], cmap=cm,\n",
    "             cbar=True)\n",
    "    \n",
    "for i in [6, 7, 8]: \n",
    "    \n",
    "    idx = northlist1[ i ] \n",
    "    cutout = llc_tbl.iloc[ idx ] \n",
    "    \n",
    "    img= llc_io.grab_image(cutout)\n",
    "    \n",
    "    sns.heatmap(ax = axes[i-6, 2], data=img, xticklabels=[], yticklabels=[], cmap=cm,\n",
    "             cbar=True)  \n",
    "plt.show()"
   ]
  },
  {
   "cell_type": "code",
   "execution_count": null,
   "id": "94a8595a-80e5-44d9-ae64-9df13278698b",
   "metadata": {},
   "outputs": [],
   "source": [
    "fig, axes = plt.subplots(3, 3, figsize = (8,8) )\n",
    "\n",
    "fig.suptitle('9 ~ med LL imgs: North Pacific: LLC data')\n",
    "fig.supylabel('dT')\n",
    "cbar_ax = fig.add_axes([0.95, 0.15, 0.02, 0.7])\n",
    "    \n",
    "for i, ax in enumerate(axes.flat):\n",
    "    idx = northlist1[ i ] \n",
    "    cutout = llc_tbl.iloc[ idx ] \n",
    "    \n",
    "    img= llc_io.grab_image(cutout)\n",
    "    \n",
    "    sns.heatmap(ax=ax, data=img, xticklabels=[], yticklabels=[], cmap=cm,\n",
    "                cbar=i == 0,\n",
    "                vmin=-1., vmax=2.,\n",
    "                cbar_ax=None if i else cbar_ax)\n",
    "    ax.set_title('LL = {}'.format(round(cutout.LL)))\n",
    "\n",
    "fig.tight_layout(rect=[0, 0, .9, 1])\n",
    "\n",
    "plt.savefig('med_LL_imgs_LC_NP', dpi = 600)"
   ]
  },
  {
   "cell_type": "code",
   "execution_count": null,
   "id": "78ef90fa-71db-481d-91ca-f96369ce0704",
   "metadata": {},
   "outputs": [],
   "source": [
    "fig, axes = plt.subplots(3, 3, figsize = (8,8) )\n",
    "\n",
    "fig.suptitle('9 ~ med LL imgs: North Pacific: LLC data')\n",
    "fig.supylabel('dT')\n",
    "cbar_ax = fig.add_axes([0.95, 0.15, 0.02, 0.7])\n",
    "    \n",
    "for i, ax in enumerate(axes.flat):\n",
    "    idx = northlist[ i ] \n",
    "    cutout = uni_tbl.iloc[ idx ] \n",
    "    \n",
    "    img= llc_io.grab_image(cutout)\n",
    "    \n",
    "    sns.heatmap(ax=ax, data=img, xticklabels=[], yticklabels=[], cmap=cm,\n",
    "                cbar=i == 0,\n",
    "                vmin=-1.5, vmax=2.2,\n",
    "                cbar_ax=None if i else cbar_ax)\n",
    "    ax.set_title('LL = {}'.format(round(cutout.LL)))\n",
    "\n",
    "fig.tight_layout(rect=[0, 0, .9, 1])"
   ]
  },
  {
   "cell_type": "code",
   "execution_count": null,
   "id": "2d555a6a-a6a1-4c99-9781-b865a89014da",
   "metadata": {},
   "outputs": [],
   "source": [
    "#Generate 9 random numbers from tbl\n",
    "southlist1 = np.random.choice( llc_s.index.to_numpy(), size = 9)\n",
    "print(southlist1)"
   ]
  },
  {
   "cell_type": "code",
   "execution_count": null,
   "id": "ee2d4304-c0c7-4465-aa5b-d29b7826a406",
   "metadata": {},
   "outputs": [],
   "source": [
    "southlist1 = [184128, 184122, 182657, 314404, 182648,  53492, 183760, 574962, 704128]"
   ]
  },
  {
   "cell_type": "code",
   "execution_count": null,
   "id": "3699996a-5a6d-4c9f-81f1-985bc55e4303",
   "metadata": {},
   "outputs": [],
   "source": [
    "viirs_tbl.iloc[0]"
   ]
  },
  {
   "cell_type": "code",
   "execution_count": null,
   "id": "266a9204-97ee-4ca2-846f-bfd2f6fa5b35",
   "metadata": {},
   "outputs": [],
   "source": [
    "fig, axes = plt.subplots(3, 3, figsize = (10,8) )\n",
    "\n",
    "fig.suptitle('9 ~ Med LL Imgs: South Pacific: LLC data')\n",
    "fig.supylabel( 'dT' )\n",
    "\n",
    "for i in [0, 1, 2]: \n",
    "    \n",
    "    idx = southlist1[ i ] \n",
    "    cutout = llc_tbl.iloc[ idx ] \n",
    "    \n",
    "    img= llc_io.grab_image(cutout)\n",
    "    \n",
    "    sns.heatmap(ax=axes[i, 0], data=img, xticklabels=[], yticklabels=[], cmap=cm,\n",
    "             cbar=True)\n",
    "    \n",
    "for i in [3, 4, 5]: \n",
    "    \n",
    "    idx = southlist1[ i ] \n",
    "    cutout = llc_tbl.iloc[ idx ] \n",
    "    \n",
    "    img= llc_io.grab_image(cutout)\n",
    "    \n",
    "    sns.heatmap(ax = axes[i-3, 1], data=img, xticklabels=[], yticklabels=[], cmap=cm,\n",
    "             cbar=True)\n",
    "    \n",
    "for i in [6, 7, 8]: \n",
    "    \n",
    "    idx = southlist1[ i ] \n",
    "    cutout = llc_tbl.iloc[ idx ] \n",
    "    \n",
    "    img= llc_io.grab_image(cutout)\n",
    "    \n",
    "    sns.heatmap(ax = axes[i-6, 2], data=img, xticklabels=[], yticklabels=[], cmap=cm,\n",
    "             cbar=True)  \n",
    "plt.show()\n",
    "#plt.savefig( 'medLL9_LLC_SP', dpi = 600)"
   ]
  },
  {
   "cell_type": "code",
   "execution_count": null,
   "id": "b7db9472-e1f7-4578-a7b6-45d4ab15557a",
   "metadata": {},
   "outputs": [],
   "source": [
    "fig, axes = plt.subplots(3, 3, figsize = (8,8) )\n",
    "\n",
    "fig.suptitle('9 ~ med LL imgs: South Pacific: LLC data')\n",
    "fig.supylabel('dT')\n",
    "cbar_ax = fig.add_axes([0.95, 0.15, 0.02, 0.7])\n",
    "    \n",
    "for i, ax in enumerate(axes.flat):\n",
    "    idx = southlist1[ i ] \n",
    "    cutout = llc_tbl.iloc[ idx ] \n",
    "    \n",
    "    img= llc_io.grab_image(cutout)\n",
    "    \n",
    "    sns.heatmap(ax=ax, data=img, xticklabels=[], yticklabels=[], cmap=cm,\n",
    "                cbar=i == 0,\n",
    "                vmin=-1.5, vmax=1.5,\n",
    "                cbar_ax=None if i else cbar_ax)\n",
    "    ax.set_title('LL = {}'.format(round(cutout.LL)))\n",
    "\n",
    "fig.tight_layout(rect=[0, 0, .9, 1])\n",
    "plt.savefig( 'med_LL_LLC_SP', dpi = 600)"
   ]
  },
  {
   "cell_type": "code",
   "execution_count": null,
   "id": "857e4c78-8712-4166-bd43-aceefc25a04a",
   "metadata": {},
   "outputs": [],
   "source": [
    "fig, axes = plt.subplots(3, 3, figsize = (8,8) )\n",
    "\n",
    "fig.suptitle('9 ~ med LL imgs: South Pacific: LLC data')\n",
    "fig.supylabel('dT')\n",
    "cbar_ax = fig.add_axes([0.95, 0.15, 0.02, 0.7])\n",
    "    \n",
    "for i, ax in enumerate(axes.flat):\n",
    "    idx = southlist[ i ] \n",
    "    cutout = uni_tbl.iloc[ idx ] \n",
    "    \n",
    "    img= llc_io.grab_image(cutout)\n",
    "    \n",
    "    sns.heatmap(ax=ax, data=img, xticklabels=[], yticklabels=[], cmap=cm,\n",
    "                cbar=i == 0,\n",
    "                vmin=-1.3, vmax=1.3,\n",
    "                cbar_ax=None if i else cbar_ax)\n",
    "    ax.set_title('LL = {}'.format(round(cutout.LL)))\n",
    "\n",
    "fig.tight_layout(rect=[0, 0, .9, 1])"
   ]
  },
  {
   "cell_type": "markdown",
   "id": "ec79f7d8-4c62-4c36-b1f4-18fc4be61b95",
   "metadata": {},
   "source": [
    "### Equatorial Pacific: VIIRS"
   ]
  },
  {
   "cell_type": "code",
   "execution_count": null,
   "id": "79cfde20-1692-4327-accc-1052501d4593",
   "metadata": {},
   "outputs": [],
   "source": [
    "#Generate 9 random numbers from tbl\n",
    "northlist = np.random.choice( viirs_n.index.to_numpy(), size = 9)\n",
    "print(northlist)"
   ]
  },
  {
   "cell_type": "code",
   "execution_count": null,
   "id": "f940af9e-3a88-4532-8f83-91a805f4f2fb",
   "metadata": {},
   "outputs": [],
   "source": [
    "northlist=[1553120, 1908931, 1309681, 1054985, 2212253, 2196295, 1156313, 1007509, 1054985]"
   ]
  },
  {
   "cell_type": "code",
   "execution_count": null,
   "id": "8fc46f03-450d-4ed4-bec4-b8358ba778d0",
   "metadata": {},
   "outputs": [],
   "source": [
    "fig, axes = plt.subplots(3, 3, figsize = (10,8) )\n",
    "\n",
    "fig.suptitle('9 ~ Med LL imgs: North Pacific: VIIRS data')\n",
    "fig.supylabel('dT')\n",
    "\n",
    "for i in [0, 1, 2]: \n",
    "    \n",
    "    idx = northlist[ i ] \n",
    "    cutout = viirs_tbl.iloc[ idx ] \n",
    "    \n",
    "    img= llc_io.grab_image(cutout)\n",
    "    \n",
    "    sns.heatmap(ax=axes[i, 0], data=img, xticklabels=[], yticklabels=[], cmap=cm,\n",
    "             cbar=True)\n",
    "    \n",
    "for i in [3, 4, 5]: \n",
    "    \n",
    "    idx = northlist[ i ] \n",
    "    cutout = viirs_tbl.iloc[ idx ] \n",
    "    \n",
    "    img= llc_io.grab_image(cutout)\n",
    "    \n",
    "    sns.heatmap(ax = axes[i-3, 1], data=img, xticklabels=[], yticklabels=[], cmap=cm,\n",
    "             cbar=True)\n",
    "    \n",
    "for i in [6, 7, 8]: \n",
    "    \n",
    "    idx = northlist[ i ] \n",
    "    cutout = viirs_tbl.iloc[ idx ] \n",
    "    \n",
    "    img= llc_io.grab_image(cutout)\n",
    "    \n",
    "    sns.heatmap(ax = axes[i-6, 2], data=img, xticklabels=[], yticklabels=[], cmap=cm,\n",
    "             cbar=True)  \n",
    "plt.show()\n",
    "#plt.savefig( 'medLL9_VIIRS_NP', dpi = 600)"
   ]
  },
  {
   "cell_type": "code",
   "execution_count": null,
   "id": "8a0d1e6f-a8eb-4f52-9745-cca9f62cb2a6",
   "metadata": {},
   "outputs": [],
   "source": [
    "fig, axes = plt.subplots(3, 3, figsize = (8,8) )\n",
    "\n",
    "fig.suptitle('9 ~ med LL imgs: North Pacific: VIIRS data')\n",
    "fig.supylabel('dT')\n",
    "cbar_ax = fig.add_axes([0.95, 0.15, 0.02, 0.7])\n",
    "    \n",
    "for i, ax in enumerate(axes.flat):\n",
    "    idx = northlist[ i ] \n",
    "    cutout = viirs_tbl.iloc[ idx ] \n",
    "    \n",
    "    img= llc_io.grab_image(cutout)\n",
    "    name1 = cutout.pp_file.replace('s3://viirs/PreProc/VIIRS_', '')\n",
    "    year = name1[0:4]\n",
    "    \n",
    "    sns.heatmap(ax=ax, data=img, xticklabels=[], yticklabels=[], cmap=cm,\n",
    "                cbar=i == 0,\n",
    "                vmin=-1.0, vmax=2.0,\n",
    "                cbar_ax=None if i else cbar_ax)\n",
    "    #ax.set_title('i={}, yr={}'.format(cutout.pp_idx, year))\n",
    "    ax.set_title('LL = {}'.format(round(cutout.LL)))\n",
    "\n",
    "fig.tight_layout(rect=[0, 0, .9, 1])\n",
    "plt.savefig( 'med_LL_VIIRS_NP', dpi=600)"
   ]
  },
  {
   "cell_type": "code",
   "execution_count": null,
   "id": "f0c2d16b-01bc-40f0-8726-21e822bcbd9d",
   "metadata": {},
   "outputs": [],
   "source": [
    "viirs_tbl.iloc"
   ]
  },
  {
   "cell_type": "code",
   "execution_count": null,
   "id": "dfd33186-21c5-47a3-91aa-83159aee52af",
   "metadata": {},
   "outputs": [],
   "source": [
    "fig = plt.figure(figsize=(12,8))\n",
    "plt.clf()\n",
    "\n",
    "tformM = ccrs.Mollweide()\n",
    "tformP = ccrs.PlateCarree()\n",
    "\n",
    "ax = plt.axes(projection=tformM)\n",
    "    \n",
    "ax.coastlines(zorder=10)\n",
    "ax.set_extent([-105, -95, -2, 2], ccrs.PlateCarree())\n",
    "    \n",
    "gl = ax.gridlines(crs=ccrs.PlateCarree(), linewidth=2, x_inline=False, y_inline=False, \n",
    "        color='black', alpha=0.5, linestyle=':', draw_labels=True)\n",
    "gl.top_labels=False\n",
    "gl.bottom_labels=True\n",
    "gl.left_labels=True\n",
    "gl.right_labels=False\n",
    "#gl.xformatter = LONGITUDE_FORMATTER\n",
    "#gl.yformatter = LATITUDE_FORMATTER\n",
    "gl.xlabel_style = {'color': 'black','weight': 'bold'}\n",
    "gl.ylabel_style = {'color': 'black', 'weight': 'bold'}\n",
    "\n",
    "for i, elem in enumerate(northlist): \n",
    "    \n",
    "    cutout = viirs_tbl.iloc[elem]\n",
    "    lat = cutout.lat\n",
    "    lon = cutout.lon\n",
    "    \n",
    "    plt.plot(lon, lat, marker = 'X', color= 'orange', markersize = 10, transform=ccrs.PlateCarree())\n",
    "    #plt.text(lon+0.2, lat, '{}'.format(i), horizontalalignment='left',\n",
    "         #transform=ccrs.Geodetic())\n",
    "\n",
    "for i, elem in enumerate(northlist1): \n",
    "    \n",
    "    cutout = llc_tbl.iloc[elem]\n",
    "    lat = cutout.lat\n",
    "    lon = cutout.lon\n",
    "    \n",
    "    plt.plot(lon, lat, marker = 'P', color= 'seagreen', markersize = 10, transform=ccrs.PlateCarree())\n",
    "    #plt.text(lon+0.2, lat, '{}'.format(i), horizontalalignment='left',\n",
    "         #transform=ccrs.Geodetic())\n",
    "    "
   ]
  },
  {
   "cell_type": "code",
   "execution_count": null,
   "id": "7309d55a-741a-47c8-976b-7800ceb7b7d6",
   "metadata": {},
   "outputs": [],
   "source": [
    "#Generate 9 random numbers from tbl\n",
    "southlist = np.random.choice( viirs_s.index.to_numpy(), size = 9)\n",
    "print(southlist)"
   ]
  },
  {
   "cell_type": "code",
   "execution_count": null,
   "id": "d30e055f-2699-4d24-8557-6d09736c0d29",
   "metadata": {},
   "outputs": [],
   "source": [
    "southlist = [ 441085, 134431, 1814813, 2141796, 1701056, 1952871, 1391020, 1147233, 1222688]"
   ]
  },
  {
   "cell_type": "code",
   "execution_count": null,
   "id": "0a04b7a3-c7fc-481f-9012-7adaa743c391",
   "metadata": {},
   "outputs": [],
   "source": [
    "fig, axes = plt.subplots(3, 3, figsize = (10,8) )\n",
    "\n",
    "fig.suptitle('9 ~ med LL imgs: South Pacific: VIIRS data')\n",
    "fig.supylabel('dT')\n",
    "\n",
    "for i in [0, 1, 2]: \n",
    "    \n",
    "    idx = southlist[ i ] \n",
    "    cutout = viirs_tbl.iloc[ idx ] \n",
    "    \n",
    "    img= llc_io.grab_image(cutout)\n",
    "    \n",
    "    sns.heatmap(ax=axes[i, 0], data=img, xticklabels=[], yticklabels=[], cmap=cm,\n",
    "             cbar=True)\n",
    "    \n",
    "for i in [3, 4, 5]: \n",
    "    \n",
    "    idx = southlist[ i ] \n",
    "    cutout = viirs_tbl.iloc[ idx ] \n",
    "    \n",
    "    img= llc_io.grab_image(cutout)\n",
    "    \n",
    "    sns.heatmap(ax = axes[i-3, 1], data=img, xticklabels=[], yticklabels=[], cmap=cm,\n",
    "             cbar=True)\n",
    "    \n",
    "for i in [6, 7, 8]: \n",
    "    \n",
    "    idx = southlist[ i ] \n",
    "    cutout = viirs_tbl.iloc[ idx ] \n",
    "    \n",
    "    img= llc_io.grab_image(cutout)\n",
    "    \n",
    "    sns.heatmap(ax = axes[i-6, 2], data=img, xticklabels=[], yticklabels=[], cmap=cm,\n",
    "             cbar=True)  \n",
    "plt.show()\n",
    "#plt.savefig( 'medLL9_VIIRS_SP', dpi = 600)"
   ]
  },
  {
   "cell_type": "code",
   "execution_count": null,
   "id": "09d9146f-b276-4fa1-9962-c1fda8edf6c1",
   "metadata": {},
   "outputs": [],
   "source": [
    "fig, axes = plt.subplots(3, 3, figsize = (8,8) )\n",
    "\n",
    "fig.suptitle('9 ~ med LL imgs: South Pacific: VIIRS data')\n",
    "fig.supylabel('dT')\n",
    "cbar_ax = fig.add_axes([0.95, 0.15, 0.02, 0.7])\n",
    "    \n",
    "for i, ax in enumerate(axes.flat):\n",
    "    idx = southlist[ i ] \n",
    "    cutout = viirs_tbl.iloc[ idx ] \n",
    "    \n",
    "    img= llc_io.grab_image(cutout)\n",
    "    name1 = cutout.pp_file.replace('s3://viirs/PreProc/VIIRS_', '')\n",
    "    year = name1[0:4]\n",
    "    \n",
    "    sns.heatmap(ax=ax, data=img, xticklabels=[], yticklabels=[], cmap=cm,\n",
    "                cbar=i == 0,\n",
    "                vmin=-1.5, vmax=1.5,\n",
    "                cbar_ax=None if i else cbar_ax)\n",
    "    #ax.set_title('i={}, yr={}'.format(cutout.pp_idx, year))\n",
    "    ax.set_title('LL = {}'.format(round(cutout.LL)))\n",
    "\n",
    "fig.tight_layout(rect=[0, 0, .9, 1])\n",
    "plt.savefig('med_LL_VIIRS_SP', dpi=600)"
   ]
  },
  {
   "cell_type": "code",
   "execution_count": null,
   "id": "655d31a5-404c-46f5-9ae9-9825157cdc9d",
   "metadata": {},
   "outputs": [],
   "source": []
  },
  {
   "cell_type": "code",
   "execution_count": null,
   "id": "5fe8d9e0-fa14-4c04-94c3-2578a5c436e9",
   "metadata": {},
   "outputs": [],
   "source": [
    "fig = plt.figure(figsize=(12,8))\n",
    "plt.clf()\n",
    "\n",
    "tformM = ccrs.Mollweide()\n",
    "tformP = ccrs.PlateCarree()\n",
    "\n",
    "ax = plt.axes(projection=tformM)\n",
    "    \n",
    "ax.coastlines(zorder=10)\n",
    "ax.set_extent([-105, -95, -2, 2], ccrs.PlateCarree())\n",
    "    \n",
    "gl = ax.gridlines(crs=ccrs.PlateCarree(), linewidth=2, x_inline=False, y_inline=False, \n",
    "        color='black', alpha=0.5, linestyle=':', draw_labels=True)\n",
    "gl.top_labels=False\n",
    "gl.bottom_labels=True\n",
    "gl.left_labels=True\n",
    "gl.right_labels=False\n",
    "#gl.xformatter = LONGITUDE_FORMATTER\n",
    "#gl.yformatter = LATITUDE_FORMATTER\n",
    "gl.xlabel_style = {'color': 'black', 'size': 14, 'weight': 'bold'}\n",
    "gl.ylabel_style = {'color': 'black', 'size': 14, 'weight': 'bold'}\n",
    "\n",
    "\n",
    "for i, elem in enumerate(northlist): \n",
    "    \n",
    "    cutout = viirs_tbl.iloc[elem]\n",
    "    lat = cutout.lat\n",
    "    lon = cutout.lon\n",
    "    \n",
    "    if i == 8: \n",
    "    \n",
    "        plt.plot(lon, lat, marker = 'o', color= 'orange', markersize = 10, transform=ccrs.PlateCarree(), label = 'VIIRS')\n",
    "    #plt.text(lon+0.2, lat, '{}'.format(i), horizontalalignment='left',\n",
    "         #transform=ccrs.Geodetic())\n",
    "        \n",
    "        plt.legend()\n",
    "    else: \n",
    "        \n",
    "        plt.plot(lon, lat, marker = 'o', color= 'orange', markersize = 10, transform=ccrs.PlateCarree())\n",
    "    #plt.text(lon+0.2, lat, '{}'.format(i), horizontalalignment='left',\n",
    "         #transform=ccrs.Geodetic())\n",
    "    \n",
    "for i, elem in enumerate(northlist1): \n",
    "    \n",
    "    cutout = llc_tbl.iloc[elem]\n",
    "    lat = cutout.lat\n",
    "    lon = cutout.lon\n",
    "    \n",
    "    if i == 8: \n",
    "    \n",
    "        plt.plot(lon, lat, marker = '*', color= 'seagreen', markersize = 10, transform=ccrs.PlateCarree(), label = 'LLC')\n",
    "    #plt.text(lon+0.2, lat, '{}'.format(i), horizontalalignment='left',\n",
    "         #transform=ccrs.Geodetic())\n",
    "        \n",
    "        plt.legend(prop={'size': 14, 'weight': 'bold'})\n",
    "    else: \n",
    "        \n",
    "        plt.plot(lon, lat, marker = '*', color= 'seagreen', markersize = 10, transform=ccrs.PlateCarree())\n",
    "    #plt.text(lon+0.2, lat, '{}'.format(i), horizontalalignment='left',\n",
    "         #transform=ccrs.Geodetic())\n",
    "\n",
    "for i, elem in enumerate(southlist): \n",
    "    \n",
    "    cutout = viirs_tbl.iloc[elem]\n",
    "    lat = cutout.lat\n",
    "    lon = cutout.lon\n",
    "    \n",
    "    plt.plot(lon, lat, marker = 'o', color= 'orange', markersize = 10, transform=ccrs.PlateCarree())\n",
    "    #plt.text(lon+0.2, lat, '{}'.format(i), horizontalalignment='left',\n",
    "         #transform=ccrs.Geodetic())\n",
    "    \n",
    "for i, elem in enumerate(southlist1): \n",
    "    \n",
    "    cutout = llc_tbl.iloc[elem]\n",
    "    lat = cutout.lat\n",
    "    lon = cutout.lon\n",
    "    \n",
    "        \n",
    "    plt.plot(lon, lat, marker = '*', color= 'seagreen', markersize = 10, transform=ccrs.PlateCarree())\n",
    "    #plt.text(lon+0.2, lat, '{}'.format(i), horizontalalignment='left',\n",
    "         #transform=ccrs.Geodetic())\n",
    "        \n",
    "#plt.show()\n",
    "plt.savefig('loc', dpi=600)"
   ]
  },
  {
   "cell_type": "markdown",
   "id": "6fed885a-b259-435a-abb8-60414ad35071",
   "metadata": {
    "tags": []
   },
   "source": [
    "### 60W : LLC"
   ]
  },
  {
   "cell_type": "code",
   "execution_count": null,
   "id": "62ca410b-eb97-4e61-bbc0-e297552979f4",
   "metadata": {},
   "outputs": [],
   "source": [
    "R1list = np.random.choice( llc1.index.to_numpy(), size = 9)\n",
    "print(R1list)"
   ]
  },
  {
   "cell_type": "code",
   "execution_count": null,
   "id": "7e7eab13-d988-4971-aae0-0cb1b406168b",
   "metadata": {},
   "outputs": [],
   "source": [
    "fig, axes = plt.subplots(3, 3, figsize = (10,8) )\n",
    "\n",
    "fig.suptitle('9 ~ Med LL imgs: 60W R1: LLC data')\n",
    "fig.supylabel('dT')\n",
    "\n",
    "for i in [0, 1, 2]: \n",
    "    \n",
    "    idx = R1list[ i ] \n",
    "    cutout = llc_tbl.iloc[ idx ] \n",
    "    \n",
    "    img= llc_io.grab_image(cutout)\n",
    "    \n",
    "    sns.heatmap(ax=axes[i, 0], data=img, xticklabels=[], yticklabels=[], cmap=cm,\n",
    "             cbar=True)\n",
    "    \n",
    "for i in [3, 4, 5]: \n",
    "    \n",
    "    idx = R1list[ i ] \n",
    "    cutout = llc_tbl.iloc[ idx ] \n",
    "    \n",
    "    img= llc_io.grab_image(cutout)\n",
    "    \n",
    "    sns.heatmap(ax = axes[i-3, 1], data=img, xticklabels=[], yticklabels=[], cmap=cm,\n",
    "             cbar=True)\n",
    "    \n",
    "for i in [6, 7, 8]: \n",
    "    \n",
    "    idx = R1list[ i ] \n",
    "    cutout = llc_tbl.iloc[ idx ] \n",
    "    \n",
    "    img= llc_io.grab_image(cutout)\n",
    "    \n",
    "    sns.heatmap(ax = axes[i-6, 2], data=img, xticklabels=[], yticklabels=[], cmap=cm,\n",
    "             cbar=True)  \n",
    "plt.show()\n",
    "#plt.savefig( 'medLL9_LLC_60W_R1', dpi = 600)"
   ]
  },
  {
   "cell_type": "code",
   "execution_count": null,
   "id": "5e82ea0e-5991-41bd-8ba8-49ae5b723e55",
   "metadata": {},
   "outputs": [],
   "source": [
    "fig, axes = plt.subplots(3, 3, figsize = (8,8) )\n",
    "\n",
    "fig.suptitle('9 ~ med LL imgs: 60W R1: LLC data')\n",
    "fig.supylabel('dT')\n",
    "cbar_ax = fig.add_axes([0.95, 0.15, 0.02, 0.7])\n",
    "    \n",
    "for i, ax in enumerate(axes.flat):\n",
    "    idx = R1list[ i ] \n",
    "    cutout = llc_tbl.iloc[ idx ] \n",
    "    \n",
    "    img= llc_io.grab_image(cutout)\n",
    "    name1 = cutout.pp_file.replace('s3://viirs/PreProc/VIIRS_', '')\n",
    "    year = name1[0:4]\n",
    "    \n",
    "    sns.heatmap(ax=ax, data=img, xticklabels=[], yticklabels=[], cmap=cm,\n",
    "                cbar=i == 0,\n",
    "                vmin=-4, vmax=5,\n",
    "                cbar_ax=None if i else cbar_ax)\n",
    "    #ax.set_title('i={}, yr={}'.format(cutout.pp_idx, year))\n",
    "    ax.set_title('LL = {}'.format(round(cutout.LL)))\n",
    "\n",
    "fig.tight_layout(rect=[0, 0, .9, 1])"
   ]
  },
  {
   "cell_type": "code",
   "execution_count": null,
   "id": "c6727df4-6c21-454c-ac4c-076ade6e6540",
   "metadata": {},
   "outputs": [],
   "source": [
    "R2list = np.random.choice( llc2.index.to_numpy(), size = 9)\n",
    "print(R2list)"
   ]
  },
  {
   "cell_type": "code",
   "execution_count": null,
   "id": "de4c003d-b5fb-42b7-8250-e7facfa0104b",
   "metadata": {},
   "outputs": [],
   "source": [
    "fig, axes = plt.subplots(3, 3, figsize = (10,8) )\n",
    "\n",
    "fig.suptitle('9 ~ Med LL imgs: 60W R2: LLC data')\n",
    "fig.supylabel('dT')\n",
    "\n",
    "for i in [0, 1, 2]: \n",
    "    \n",
    "    idx = R2list[ i ] \n",
    "    cutout = llc_tbl.iloc[ idx ] \n",
    "    \n",
    "    img= llc_io.grab_image(cutout)\n",
    "    \n",
    "    sns.heatmap(ax=axes[i, 0], data=img, xticklabels=[], yticklabels=[], cmap=cm,\n",
    "             cbar=True)\n",
    "    \n",
    "for i in [3, 4, 5]: \n",
    "    \n",
    "    idx = R2list[ i ] \n",
    "    cutout = llc_tbl.iloc[ idx ] \n",
    "    \n",
    "    img= llc_io.grab_image(cutout)\n",
    "    \n",
    "    sns.heatmap(ax = axes[i-3, 1], data=img, xticklabels=[], yticklabels=[], cmap=cm,\n",
    "             cbar=True)\n",
    "    \n",
    "for i in [6, 7, 8]: \n",
    "    \n",
    "    idx = R2list[ i ] \n",
    "    cutout = llc_tbl.iloc[ idx ] \n",
    "    \n",
    "    img= llc_io.grab_image(cutout)\n",
    "    \n",
    "    sns.heatmap(ax = axes[i-6, 2], data=img, xticklabels=[], yticklabels=[], cmap=cm,\n",
    "             cbar=True)  \n",
    "plt.show()\n",
    "#plt.savefig( 'medLL9_LLC_60W_R2', dpi = 600)"
   ]
  },
  {
   "cell_type": "code",
   "execution_count": null,
   "id": "0c463c27-8d6d-4a7c-9258-3d9f4de89079",
   "metadata": {},
   "outputs": [],
   "source": [
    "fig, axes = plt.subplots(3, 3, figsize = (8,8) )\n",
    "\n",
    "fig.suptitle('9 ~ med LL imgs: 60W R2: LLC data')\n",
    "fig.supylabel('dT')\n",
    "cbar_ax = fig.add_axes([0.95, 0.15, 0.02, 0.7])\n",
    "    \n",
    "for i, ax in enumerate(axes.flat):\n",
    "    idx = R2list[ i ] \n",
    "    cutout = llc_tbl.iloc[ idx ] \n",
    "    \n",
    "    img= llc_io.grab_image(cutout)\n",
    "    name1 = cutout.pp_file.replace('s3://viirs/PreProc/VIIRS_', '')\n",
    "    year = name1[0:4]\n",
    "    \n",
    "    sns.heatmap(ax=ax, data=img, xticklabels=[], yticklabels=[], cmap=cm,\n",
    "                cbar=i == 0,\n",
    "                vmin=-3, vmax=2,\n",
    "                cbar_ax=None if i else cbar_ax)\n",
    "    #ax.set_title('i={}, yr={}'.format(cutout.pp_idx, year))\n",
    "    ax.set_title('LL = {}'.format(round(cutout.LL)))\n",
    "\n",
    "fig.tight_layout(rect=[0, 0, .9, 1])"
   ]
  },
  {
   "cell_type": "markdown",
   "id": "794e9812-fd5e-4e14-9e04-cb003a309b62",
   "metadata": {},
   "source": [
    "### 60W : VIIRS"
   ]
  },
  {
   "cell_type": "code",
   "execution_count": null,
   "id": "6ded38d8-28bb-4c8c-aee4-6bb34ec66e36",
   "metadata": {},
   "outputs": [],
   "source": [
    "R1list = np.random.choice( viirs1.index.to_numpy(), size = 9)\n",
    "print(R1list)"
   ]
  },
  {
   "cell_type": "code",
   "execution_count": null,
   "id": "41235a6a-3ec8-43bd-8dcd-6263a64d8c60",
   "metadata": {},
   "outputs": [],
   "source": [
    "fig, axes = plt.subplots(3, 3, figsize = (10,8) )\n",
    "\n",
    "fig.suptitle('9 ~ Med LL imgs: 60W R1: VIIRS data')\n",
    "fig.supylabel('dT')\n",
    "\n",
    "for i in [0, 1, 2]: \n",
    "    \n",
    "    idx = R1list[ i ] \n",
    "    cutout = viirs_tbl.iloc[ idx ] \n",
    "    \n",
    "    img= llc_io.grab_image(cutout)\n",
    "    \n",
    "    sns.heatmap(ax=axes[i, 0], data=img, xticklabels=[], yticklabels=[], cmap=cm,\n",
    "             cbar=True)\n",
    "    \n",
    "for i in [3, 4, 5]: \n",
    "    \n",
    "    idx = R1list[ i ] \n",
    "    cutout = viirs_tbl.iloc[ idx ] \n",
    "    \n",
    "    img= llc_io.grab_image(cutout)\n",
    "    \n",
    "    sns.heatmap(ax = axes[i-3, 1], data=img, xticklabels=[], yticklabels=[], cmap=cm,\n",
    "             cbar=True)\n",
    "    \n",
    "for i in [6, 7, 8]: \n",
    "    \n",
    "    idx = R1list[ i ] \n",
    "    cutout = viirs_tbl.iloc[ idx ] \n",
    "    \n",
    "    img= llc_io.grab_image(cutout)\n",
    "    \n",
    "    sns.heatmap(ax = axes[i-6, 2], data=img, xticklabels=[], yticklabels=[], cmap=cm,\n",
    "             cbar=True)  \n",
    "plt.show()\n",
    "#plt.savefig( 'medLL9_VIIRS_60W_R1', dpi = 600)"
   ]
  },
  {
   "cell_type": "code",
   "execution_count": null,
   "id": "4c33f5fd-cdc0-4252-8214-9a617f05c606",
   "metadata": {},
   "outputs": [],
   "source": [
    "fig, axes = plt.subplots(3, 3, figsize = (8,8) )\n",
    "\n",
    "fig.suptitle('9 ~ med LL imgs: 60W R1: VIIRS data')\n",
    "fig.supylabel('dT')\n",
    "cbar_ax = fig.add_axes([0.95, 0.15, 0.02, 0.7])\n",
    "    \n",
    "for i, ax in enumerate(axes.flat):\n",
    "    idx = R1list[ i ] \n",
    "    cutout = viirs_tbl.iloc[ idx ] \n",
    "    \n",
    "    img= llc_io.grab_image(cutout)\n",
    "    name1 = cutout.pp_file.replace('s3://viirs/PreProc/VIIRS_', '')\n",
    "    year = name1[0:4]\n",
    "    \n",
    "    sns.heatmap(ax=ax, data=img, xticklabels=[], yticklabels=[], cmap=cm,\n",
    "                cbar=i == 0,\n",
    "                vmin=-4, vmax=5,\n",
    "                cbar_ax=None if i else cbar_ax)\n",
    "    #ax.set_title('i={}, yr={}'.format(cutout.pp_idx, year))\n",
    "    ax.set_title('LL = {}'.format(round(cutout.LL)))\n",
    "\n",
    "fig.tight_layout(rect=[0, 0, .9, 1])"
   ]
  },
  {
   "cell_type": "code",
   "execution_count": null,
   "id": "bc94b2df-e346-4e6a-8ab7-1c52181375db",
   "metadata": {},
   "outputs": [],
   "source": [
    "R2list = np.random.choice( viirs2.index.to_numpy(), size = 9)\n",
    "print(R2list)"
   ]
  },
  {
   "cell_type": "code",
   "execution_count": null,
   "id": "d8650b09-0362-4b89-bd30-03b340873727",
   "metadata": {},
   "outputs": [],
   "source": [
    "fig, axes = plt.subplots(3, 3, figsize = (10,8) )\n",
    "\n",
    "fig.suptitle('9 ~ Med LL imgs: 60W R2: VIIRS data')\n",
    "fig.supylabel('dT')\n",
    "\n",
    "for i in [0, 1, 2]: \n",
    "    \n",
    "    idx = R2list[ i ] \n",
    "    cutout = viirs_tbl.iloc[ idx ] \n",
    "    \n",
    "    img= llc_io.grab_image(cutout)\n",
    "    \n",
    "    sns.heatmap(ax=axes[i, 0], data=img, xticklabels=[], yticklabels=[], cmap=cm,\n",
    "             cbar=True)\n",
    "    \n",
    "for i in [3, 4, 5]: \n",
    "    \n",
    "    idx = R2list[ i ] \n",
    "    cutout = viirs_tbl.iloc[ idx ] \n",
    "    \n",
    "    img= llc_io.grab_image(cutout)\n",
    "    \n",
    "    sns.heatmap(ax = axes[i-3, 1], data=img, xticklabels=[], yticklabels=[], cmap=cm,\n",
    "             cbar=True)\n",
    "    \n",
    "for i in [6, 7, 8]: \n",
    "    \n",
    "    idx = R2list[ i ] \n",
    "    cutout = viirs_tbl.iloc[ idx ] \n",
    "    \n",
    "    img= llc_io.grab_image(cutout)\n",
    "    \n",
    "    sns.heatmap(ax = axes[i-6, 2], data=img, xticklabels=[], yticklabels=[], cmap=cm,\n",
    "             cbar=True)  \n",
    "plt.show()\n",
    "#plt.savefig( 'medLL9_LLC_60W_R2', dpi = 600)"
   ]
  },
  {
   "cell_type": "code",
   "execution_count": null,
   "id": "d95c4356-9c21-4c63-838e-012b300ad8fb",
   "metadata": {},
   "outputs": [],
   "source": [
    "fig, axes = plt.subplots(3, 3, figsize = (8,8) )\n",
    "\n",
    "fig.suptitle('9 ~ med LL imgs: 60W R2: VIIRS data')\n",
    "fig.supylabel('dT')\n",
    "cbar_ax = fig.add_axes([0.95, 0.15, 0.02, 0.7])\n",
    "    \n",
    "for i, ax in enumerate(axes.flat):\n",
    "    idx = R2list[ i ] \n",
    "    cutout = viirs_tbl.iloc[ idx ] \n",
    "    \n",
    "    img= llc_io.grab_image(cutout)\n",
    "    name1 = cutout.pp_file.replace('s3://viirs/PreProc/VIIRS_', '')\n",
    "    year = name1[0:4]\n",
    "    \n",
    "    sns.heatmap(ax=ax, data=img, xticklabels=[], yticklabels=[], cmap=cm,\n",
    "                cbar=i == 0,\n",
    "                vmin=-3, vmax=2,\n",
    "                cbar_ax=None if i else cbar_ax)\n",
    "    #ax.set_title('i={}, yr={}'.format(cutout.pp_idx, year))\n",
    "    ax.set_title('LL = {}'.format(round(cutout.LL)))\n",
    "\n",
    "fig.tight_layout(rect=[0, 0, .9, 1])"
   ]
  },
  {
   "cell_type": "code",
   "execution_count": null,
   "id": "ae041f50-9f9d-4468-b724-a714d5d97b62",
   "metadata": {},
   "outputs": [],
   "source": []
  }
 ],
 "metadata": {
  "kernelspec": {
   "display_name": "Python 3 (ipykernel)",
   "language": "python",
   "name": "python3"
  },
  "language_info": {
   "codemirror_mode": {
    "name": "ipython",
    "version": 3
   },
   "file_extension": ".py",
   "mimetype": "text/x-python",
   "name": "python",
   "nbconvert_exporter": "python",
   "pygments_lexer": "ipython3",
   "version": "3.9.10"
  }
 },
 "nbformat": 4,
 "nbformat_minor": 5
}
