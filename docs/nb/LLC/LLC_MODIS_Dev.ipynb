{
 "cells": [
  {
   "cell_type": "markdown",
   "metadata": {},
   "source": [
    "# LLC matched to MODIS -- Developing"
   ]
  },
  {
   "cell_type": "code",
   "execution_count": 144,
   "metadata": {},
   "outputs": [],
   "source": [
    "# imports\n",
    "from importlib import reload\n",
    "\n",
    "import os\n",
    "import numpy as np\n",
    "import datetime\n",
    "\n",
    "import pandas\n",
    "import xarray\n",
    "import h5py\n",
    "\n",
    "from matplotlib import pyplot as plt\n",
    "import seaborn as sns\n",
    "\n",
    "from ulmo import io as ulmo_io\n",
    "from ulmo import plotting\n",
    "from ulmo.llc import io as llc_io\n",
    "from ulmo.llc import plotting as llc_plotting\n",
    "\n",
    "from ulmo.utils import image_utils\n",
    "from ulmo.analysis import figures as ulmo_figs\n",
    "from ulmo.models import io as model_io\n",
    "from ulmo.modis import io as modis_io\n",
    "from ulmo.utils import catalog as cat_utils\n",
    "from ulmo.preproc import plotting as pp_plotting\n",
    "\n",
    "from astropy import units\n",
    "from astropy.coordinates import SkyCoord, match_coordinates_sky\n"
   ]
  },
  {
   "cell_type": "markdown",
   "metadata": {},
   "source": [
    "# Init"
   ]
  },
  {
   "cell_type": "code",
   "execution_count": 2,
   "metadata": {},
   "outputs": [],
   "source": [
    "field_size=(64,64)"
   ]
  },
  {
   "cell_type": "code",
   "execution_count": 3,
   "metadata": {},
   "outputs": [],
   "source": [
    "CC_max = 1e-4"
   ]
  },
  {
   "cell_type": "markdown",
   "metadata": {},
   "source": [
    "# Load"
   ]
  },
  {
   "cell_type": "markdown",
   "metadata": {},
   "source": [
    "## LLC"
   ]
  },
  {
   "cell_type": "code",
   "execution_count": 5,
   "metadata": {},
   "outputs": [
    {
     "name": "stdout",
     "output_type": "stream",
     "text": [
      "Loading LLC CC mask from /data/Projects/Oceanography/data/LLC/CC/LLC_CC_mask_64.nc\n"
     ]
    }
   ],
   "source": [
    "reload(llc_io)\n",
    "CC_mask = llc_io.load_CC_mask(field_size=field_size, \n",
    "                                  local=True)"
   ]
  },
  {
   "cell_type": "code",
   "execution_count": 6,
   "metadata": {},
   "outputs": [
    {
     "data": {
      "text/html": [
       "<div><svg style=\"position: absolute; width: 0; height: 0; overflow: hidden\">\n",
       "<defs>\n",
       "<symbol id=\"icon-database\" viewBox=\"0 0 32 32\">\n",
       "<path d=\"M16 0c-8.837 0-16 2.239-16 5v4c0 2.761 7.163 5 16 5s16-2.239 16-5v-4c0-2.761-7.163-5-16-5z\"></path>\n",
       "<path d=\"M16 17c-8.837 0-16-2.239-16-5v6c0 2.761 7.163 5 16 5s16-2.239 16-5v-6c0 2.761-7.163 5-16 5z\"></path>\n",
       "<path d=\"M16 26c-8.837 0-16-2.239-16-5v6c0 2.761 7.163 5 16 5s16-2.239 16-5v-6c0 2.761-7.163 5-16 5z\"></path>\n",
       "</symbol>\n",
       "<symbol id=\"icon-file-text2\" viewBox=\"0 0 32 32\">\n",
       "<path d=\"M28.681 7.159c-0.694-0.947-1.662-2.053-2.724-3.116s-2.169-2.030-3.116-2.724c-1.612-1.182-2.393-1.319-2.841-1.319h-15.5c-1.378 0-2.5 1.121-2.5 2.5v27c0 1.378 1.122 2.5 2.5 2.5h23c1.378 0 2.5-1.122 2.5-2.5v-19.5c0-0.448-0.137-1.23-1.319-2.841zM24.543 5.457c0.959 0.959 1.712 1.825 2.268 2.543h-4.811v-4.811c0.718 0.556 1.584 1.309 2.543 2.268zM28 29.5c0 0.271-0.229 0.5-0.5 0.5h-23c-0.271 0-0.5-0.229-0.5-0.5v-27c0-0.271 0.229-0.5 0.5-0.5 0 0 15.499-0 15.5 0v7c0 0.552 0.448 1 1 1h7v19.5z\"></path>\n",
       "<path d=\"M23 26h-14c-0.552 0-1-0.448-1-1s0.448-1 1-1h14c0.552 0 1 0.448 1 1s-0.448 1-1 1z\"></path>\n",
       "<path d=\"M23 22h-14c-0.552 0-1-0.448-1-1s0.448-1 1-1h14c0.552 0 1 0.448 1 1s-0.448 1-1 1z\"></path>\n",
       "<path d=\"M23 18h-14c-0.552 0-1-0.448-1-1s0.448-1 1-1h14c0.552 0 1 0.448 1 1s-0.448 1-1 1z\"></path>\n",
       "</symbol>\n",
       "</defs>\n",
       "</svg>\n",
       "<style>/* CSS stylesheet for displaying xarray objects in jupyterlab.\n",
       " *\n",
       " */\n",
       "\n",
       ":root {\n",
       "  --xr-font-color0: var(--jp-content-font-color0, rgba(0, 0, 0, 1));\n",
       "  --xr-font-color2: var(--jp-content-font-color2, rgba(0, 0, 0, 0.54));\n",
       "  --xr-font-color3: var(--jp-content-font-color3, rgba(0, 0, 0, 0.38));\n",
       "  --xr-border-color: var(--jp-border-color2, #e0e0e0);\n",
       "  --xr-disabled-color: var(--jp-layout-color3, #bdbdbd);\n",
       "  --xr-background-color: var(--jp-layout-color0, white);\n",
       "  --xr-background-color-row-even: var(--jp-layout-color1, white);\n",
       "  --xr-background-color-row-odd: var(--jp-layout-color2, #eeeeee);\n",
       "}\n",
       "\n",
       "html[theme=dark],\n",
       "body.vscode-dark {\n",
       "  --xr-font-color0: rgba(255, 255, 255, 1);\n",
       "  --xr-font-color2: rgba(255, 255, 255, 0.54);\n",
       "  --xr-font-color3: rgba(255, 255, 255, 0.38);\n",
       "  --xr-border-color: #1F1F1F;\n",
       "  --xr-disabled-color: #515151;\n",
       "  --xr-background-color: #111111;\n",
       "  --xr-background-color-row-even: #111111;\n",
       "  --xr-background-color-row-odd: #313131;\n",
       "}\n",
       "\n",
       ".xr-wrap {\n",
       "  display: block;\n",
       "  min-width: 300px;\n",
       "  max-width: 700px;\n",
       "}\n",
       "\n",
       ".xr-text-repr-fallback {\n",
       "  /* fallback to plain text repr when CSS is not injected (untrusted notebook) */\n",
       "  display: none;\n",
       "}\n",
       "\n",
       ".xr-header {\n",
       "  padding-top: 6px;\n",
       "  padding-bottom: 6px;\n",
       "  margin-bottom: 4px;\n",
       "  border-bottom: solid 1px var(--xr-border-color);\n",
       "}\n",
       "\n",
       ".xr-header > div,\n",
       ".xr-header > ul {\n",
       "  display: inline;\n",
       "  margin-top: 0;\n",
       "  margin-bottom: 0;\n",
       "}\n",
       "\n",
       ".xr-obj-type,\n",
       ".xr-array-name {\n",
       "  margin-left: 2px;\n",
       "  margin-right: 10px;\n",
       "}\n",
       "\n",
       ".xr-obj-type {\n",
       "  color: var(--xr-font-color2);\n",
       "}\n",
       "\n",
       ".xr-sections {\n",
       "  padding-left: 0 !important;\n",
       "  display: grid;\n",
       "  grid-template-columns: 150px auto auto 1fr 20px 20px;\n",
       "}\n",
       "\n",
       ".xr-section-item {\n",
       "  display: contents;\n",
       "}\n",
       "\n",
       ".xr-section-item input {\n",
       "  display: none;\n",
       "}\n",
       "\n",
       ".xr-section-item input + label {\n",
       "  color: var(--xr-disabled-color);\n",
       "}\n",
       "\n",
       ".xr-section-item input:enabled + label {\n",
       "  cursor: pointer;\n",
       "  color: var(--xr-font-color2);\n",
       "}\n",
       "\n",
       ".xr-section-item input:enabled + label:hover {\n",
       "  color: var(--xr-font-color0);\n",
       "}\n",
       "\n",
       ".xr-section-summary {\n",
       "  grid-column: 1;\n",
       "  color: var(--xr-font-color2);\n",
       "  font-weight: 500;\n",
       "}\n",
       "\n",
       ".xr-section-summary > span {\n",
       "  display: inline-block;\n",
       "  padding-left: 0.5em;\n",
       "}\n",
       "\n",
       ".xr-section-summary-in:disabled + label {\n",
       "  color: var(--xr-font-color2);\n",
       "}\n",
       "\n",
       ".xr-section-summary-in + label:before {\n",
       "  display: inline-block;\n",
       "  content: '►';\n",
       "  font-size: 11px;\n",
       "  width: 15px;\n",
       "  text-align: center;\n",
       "}\n",
       "\n",
       ".xr-section-summary-in:disabled + label:before {\n",
       "  color: var(--xr-disabled-color);\n",
       "}\n",
       "\n",
       ".xr-section-summary-in:checked + label:before {\n",
       "  content: '▼';\n",
       "}\n",
       "\n",
       ".xr-section-summary-in:checked + label > span {\n",
       "  display: none;\n",
       "}\n",
       "\n",
       ".xr-section-summary,\n",
       ".xr-section-inline-details {\n",
       "  padding-top: 4px;\n",
       "  padding-bottom: 4px;\n",
       "}\n",
       "\n",
       ".xr-section-inline-details {\n",
       "  grid-column: 2 / -1;\n",
       "}\n",
       "\n",
       ".xr-section-details {\n",
       "  display: none;\n",
       "  grid-column: 1 / -1;\n",
       "  margin-bottom: 5px;\n",
       "}\n",
       "\n",
       ".xr-section-summary-in:checked ~ .xr-section-details {\n",
       "  display: contents;\n",
       "}\n",
       "\n",
       ".xr-array-wrap {\n",
       "  grid-column: 1 / -1;\n",
       "  display: grid;\n",
       "  grid-template-columns: 20px auto;\n",
       "}\n",
       "\n",
       ".xr-array-wrap > label {\n",
       "  grid-column: 1;\n",
       "  vertical-align: top;\n",
       "}\n",
       "\n",
       ".xr-preview {\n",
       "  color: var(--xr-font-color3);\n",
       "}\n",
       "\n",
       ".xr-array-preview,\n",
       ".xr-array-data {\n",
       "  padding: 0 5px !important;\n",
       "  grid-column: 2;\n",
       "}\n",
       "\n",
       ".xr-array-data,\n",
       ".xr-array-in:checked ~ .xr-array-preview {\n",
       "  display: none;\n",
       "}\n",
       "\n",
       ".xr-array-in:checked ~ .xr-array-data,\n",
       ".xr-array-preview {\n",
       "  display: inline-block;\n",
       "}\n",
       "\n",
       ".xr-dim-list {\n",
       "  display: inline-block !important;\n",
       "  list-style: none;\n",
       "  padding: 0 !important;\n",
       "  margin: 0;\n",
       "}\n",
       "\n",
       ".xr-dim-list li {\n",
       "  display: inline-block;\n",
       "  padding: 0;\n",
       "  margin: 0;\n",
       "}\n",
       "\n",
       ".xr-dim-list:before {\n",
       "  content: '(';\n",
       "}\n",
       "\n",
       ".xr-dim-list:after {\n",
       "  content: ')';\n",
       "}\n",
       "\n",
       ".xr-dim-list li:not(:last-child):after {\n",
       "  content: ',';\n",
       "  padding-right: 5px;\n",
       "}\n",
       "\n",
       ".xr-has-index {\n",
       "  font-weight: bold;\n",
       "}\n",
       "\n",
       ".xr-var-list,\n",
       ".xr-var-item {\n",
       "  display: contents;\n",
       "}\n",
       "\n",
       ".xr-var-item > div,\n",
       ".xr-var-item label,\n",
       ".xr-var-item > .xr-var-name span {\n",
       "  background-color: var(--xr-background-color-row-even);\n",
       "  margin-bottom: 0;\n",
       "}\n",
       "\n",
       ".xr-var-item > .xr-var-name:hover span {\n",
       "  padding-right: 5px;\n",
       "}\n",
       "\n",
       ".xr-var-list > li:nth-child(odd) > div,\n",
       ".xr-var-list > li:nth-child(odd) > label,\n",
       ".xr-var-list > li:nth-child(odd) > .xr-var-name span {\n",
       "  background-color: var(--xr-background-color-row-odd);\n",
       "}\n",
       "\n",
       ".xr-var-name {\n",
       "  grid-column: 1;\n",
       "}\n",
       "\n",
       ".xr-var-dims {\n",
       "  grid-column: 2;\n",
       "}\n",
       "\n",
       ".xr-var-dtype {\n",
       "  grid-column: 3;\n",
       "  text-align: right;\n",
       "  color: var(--xr-font-color2);\n",
       "}\n",
       "\n",
       ".xr-var-preview {\n",
       "  grid-column: 4;\n",
       "}\n",
       "\n",
       ".xr-var-name,\n",
       ".xr-var-dims,\n",
       ".xr-var-dtype,\n",
       ".xr-preview,\n",
       ".xr-attrs dt {\n",
       "  white-space: nowrap;\n",
       "  overflow: hidden;\n",
       "  text-overflow: ellipsis;\n",
       "  padding-right: 10px;\n",
       "}\n",
       "\n",
       ".xr-var-name:hover,\n",
       ".xr-var-dims:hover,\n",
       ".xr-var-dtype:hover,\n",
       ".xr-attrs dt:hover {\n",
       "  overflow: visible;\n",
       "  width: auto;\n",
       "  z-index: 1;\n",
       "}\n",
       "\n",
       ".xr-var-attrs,\n",
       ".xr-var-data {\n",
       "  display: none;\n",
       "  background-color: var(--xr-background-color) !important;\n",
       "  padding-bottom: 5px !important;\n",
       "}\n",
       "\n",
       ".xr-var-attrs-in:checked ~ .xr-var-attrs,\n",
       ".xr-var-data-in:checked ~ .xr-var-data {\n",
       "  display: block;\n",
       "}\n",
       "\n",
       ".xr-var-data > table {\n",
       "  float: right;\n",
       "}\n",
       "\n",
       ".xr-var-name span,\n",
       ".xr-var-data,\n",
       ".xr-attrs {\n",
       "  padding-left: 25px !important;\n",
       "}\n",
       "\n",
       ".xr-attrs,\n",
       ".xr-var-attrs,\n",
       ".xr-var-data {\n",
       "  grid-column: 1 / -1;\n",
       "}\n",
       "\n",
       "dl.xr-attrs {\n",
       "  padding: 0;\n",
       "  margin: 0;\n",
       "  display: grid;\n",
       "  grid-template-columns: 125px auto;\n",
       "}\n",
       "\n",
       ".xr-attrs dt, dd {\n",
       "  padding: 0;\n",
       "  margin: 0;\n",
       "  float: left;\n",
       "  padding-right: 10px;\n",
       "  width: auto;\n",
       "}\n",
       "\n",
       ".xr-attrs dt {\n",
       "  font-weight: normal;\n",
       "  grid-column: 1;\n",
       "}\n",
       "\n",
       ".xr-attrs dt:hover span {\n",
       "  display: inline-block;\n",
       "  background: var(--xr-background-color);\n",
       "  padding-right: 10px;\n",
       "}\n",
       "\n",
       ".xr-attrs dd {\n",
       "  grid-column: 2;\n",
       "  white-space: pre-wrap;\n",
       "  word-break: break-all;\n",
       "}\n",
       "\n",
       ".xr-icon-database,\n",
       ".xr-icon-file-text2 {\n",
       "  display: inline-block;\n",
       "  vertical-align: middle;\n",
       "  width: 1em;\n",
       "  height: 1.5em !important;\n",
       "  stroke-width: 0;\n",
       "  stroke: currentColor;\n",
       "  fill: currentColor;\n",
       "}\n",
       "</style><pre class='xr-text-repr-fallback'>&lt;xarray.Dataset&gt;\n",
       "Dimensions:  (x: 12960, y: 17280)\n",
       "Coordinates:\n",
       "    lon      (x, y) float32 ...\n",
       "    lat      (x, y) float32 ...\n",
       "Dimensions without coordinates: x, y\n",
       "Data variables:\n",
       "    CC_mask  (x, y) float64 ...</pre><div class='xr-wrap' hidden><div class='xr-header'><div class='xr-obj-type'>xarray.Dataset</div></div><ul class='xr-sections'><li class='xr-section-item'><input id='section-2ba8bbe1-1d2d-41f2-a617-144ad30c3549' class='xr-section-summary-in' type='checkbox' disabled ><label for='section-2ba8bbe1-1d2d-41f2-a617-144ad30c3549' class='xr-section-summary'  title='Expand/collapse section'>Dimensions:</label><div class='xr-section-inline-details'><ul class='xr-dim-list'><li><span>x</span>: 12960</li><li><span>y</span>: 17280</li></ul></div><div class='xr-section-details'></div></li><li class='xr-section-item'><input id='section-d528c9be-d450-4371-9a1d-65bdb57d27f4' class='xr-section-summary-in' type='checkbox'  checked><label for='section-d528c9be-d450-4371-9a1d-65bdb57d27f4' class='xr-section-summary' >Coordinates: <span>(2)</span></label><div class='xr-section-inline-details'></div><div class='xr-section-details'><ul class='xr-var-list'><li class='xr-var-item'><div class='xr-var-name'><span>lon</span></div><div class='xr-var-dims'>(x, y)</div><div class='xr-var-dtype'>float32</div><div class='xr-var-preview xr-preview'>...</div><input id='attrs-34c04bb2-5c2d-4caf-b418-3f1b21e8aba4' class='xr-var-attrs-in' type='checkbox' disabled><label for='attrs-34c04bb2-5c2d-4caf-b418-3f1b21e8aba4' title='Show/Hide attributes'><svg class='icon xr-icon-file-text2'><use xlink:href='#icon-file-text2'></use></svg></label><input id='data-60ab5618-06ac-440a-aa86-a80e689c0fe4' class='xr-var-data-in' type='checkbox'><label for='data-60ab5618-06ac-440a-aa86-a80e689c0fe4' title='Show/Hide data repr'><svg class='icon xr-icon-database'><use xlink:href='#icon-database'></use></svg></label><div class='xr-var-attrs'><dl class='xr-attrs'></dl></div><div class='xr-var-data'><pre>[223948800 values with dtype=float32]</pre></div></li><li class='xr-var-item'><div class='xr-var-name'><span>lat</span></div><div class='xr-var-dims'>(x, y)</div><div class='xr-var-dtype'>float32</div><div class='xr-var-preview xr-preview'>...</div><input id='attrs-c18a45f6-16e7-4245-b2c5-282ebe5ad879' class='xr-var-attrs-in' type='checkbox' disabled><label for='attrs-c18a45f6-16e7-4245-b2c5-282ebe5ad879' title='Show/Hide attributes'><svg class='icon xr-icon-file-text2'><use xlink:href='#icon-file-text2'></use></svg></label><input id='data-11121f98-8e54-453f-a330-a2cbc72b3d08' class='xr-var-data-in' type='checkbox'><label for='data-11121f98-8e54-453f-a330-a2cbc72b3d08' title='Show/Hide data repr'><svg class='icon xr-icon-database'><use xlink:href='#icon-database'></use></svg></label><div class='xr-var-attrs'><dl class='xr-attrs'></dl></div><div class='xr-var-data'><pre>[223948800 values with dtype=float32]</pre></div></li></ul></div></li><li class='xr-section-item'><input id='section-b405ac6f-deea-48cc-8fdd-21e669c8cefb' class='xr-section-summary-in' type='checkbox'  checked><label for='section-b405ac6f-deea-48cc-8fdd-21e669c8cefb' class='xr-section-summary' >Data variables: <span>(1)</span></label><div class='xr-section-inline-details'></div><div class='xr-section-details'><ul class='xr-var-list'><li class='xr-var-item'><div class='xr-var-name'><span>CC_mask</span></div><div class='xr-var-dims'>(x, y)</div><div class='xr-var-dtype'>float64</div><div class='xr-var-preview xr-preview'>...</div><input id='attrs-9e495bee-8c1d-43bb-a899-4cc6ec6d7c1f' class='xr-var-attrs-in' type='checkbox' disabled><label for='attrs-9e495bee-8c1d-43bb-a899-4cc6ec6d7c1f' title='Show/Hide attributes'><svg class='icon xr-icon-file-text2'><use xlink:href='#icon-file-text2'></use></svg></label><input id='data-889b0658-70d9-41b8-b28f-c51ad799797e' class='xr-var-data-in' type='checkbox'><label for='data-889b0658-70d9-41b8-b28f-c51ad799797e' title='Show/Hide data repr'><svg class='icon xr-icon-database'><use xlink:href='#icon-database'></use></svg></label><div class='xr-var-attrs'><dl class='xr-attrs'></dl></div><div class='xr-var-data'><pre>[223948800 values with dtype=float64]</pre></div></li></ul></div></li><li class='xr-section-item'><input id='section-5c7391db-24de-46d3-b6c2-f7820a5e4a52' class='xr-section-summary-in' type='checkbox' disabled ><label for='section-5c7391db-24de-46d3-b6c2-f7820a5e4a52' class='xr-section-summary'  title='Expand/collapse section'>Attributes: <span>(0)</span></label><div class='xr-section-inline-details'></div><div class='xr-section-details'><dl class='xr-attrs'></dl></div></li></ul></div></div>"
      ],
      "text/plain": [
       "<xarray.Dataset>\n",
       "Dimensions:  (x: 12960, y: 17280)\n",
       "Coordinates:\n",
       "    lon      (x, y) float32 ...\n",
       "    lat      (x, y) float32 ...\n",
       "Dimensions without coordinates: x, y\n",
       "Data variables:\n",
       "    CC_mask  (x, y) float64 ..."
      ]
     },
     "execution_count": 6,
     "metadata": {},
     "output_type": "execute_result"
    }
   ],
   "source": [
    "CC_mask"
   ]
  },
  {
   "cell_type": "markdown",
   "metadata": {},
   "source": [
    "## MODIS"
   ]
  },
  {
   "cell_type": "code",
   "execution_count": 14,
   "metadata": {},
   "outputs": [
    {
     "name": "stdout",
     "output_type": "stream",
     "text": [
      "Read main table: s3://modis-l2/Tables/MODIS_L2_std.feather\n"
     ]
    }
   ],
   "source": [
    "tbl_file = 's3://modis-l2/Tables/MODIS_L2_std.feather' # A bit slow via s3\n",
    "modisl2_table = ulmo_io.load_main_table(tbl_file)"
   ]
  },
  {
   "cell_type": "markdown",
   "metadata": {},
   "source": [
    "# Coords"
   ]
  },
  {
   "cell_type": "code",
   "execution_count": 7,
   "metadata": {},
   "outputs": [
    {
     "name": "stdout",
     "output_type": "stream",
     "text": [
      "Building LLC SkyCoord\n"
     ]
    }
   ],
   "source": [
    "# Cut\n",
    "good_CC = CC_mask.CC_mask.values < CC_max\n",
    "good_CC_idx = np.where(good_CC)\n",
    "\n",
    "# Build coords\n",
    "llc_lon = CC_mask.lon.values[good_CC].flatten()\n",
    "llc_lat = CC_mask.lat.values[good_CC].flatten()\n",
    "print(\"Building LLC SkyCoord\")\n",
    "llc_coord = SkyCoord(llc_lon*units.deg + 180.*units.deg, \n",
    "                     llc_lat*units.deg, \n",
    "                     frame='galactic')"
   ]
  },
  {
   "cell_type": "code",
   "execution_count": 31,
   "metadata": {},
   "outputs": [
    {
     "data": {
      "text/plain": [
       "78.13409"
      ]
     },
     "execution_count": 31,
     "metadata": {},
     "output_type": "execute_result"
    }
   ],
   "source": [
    "np.max(np.abs(llc_lat))"
   ]
  },
  {
   "cell_type": "code",
   "execution_count": 8,
   "metadata": {},
   "outputs": [],
   "source": [
    "del CC_mask"
   ]
  },
  {
   "cell_type": "markdown",
   "metadata": {},
   "source": [
    "# Times available"
   ]
  },
  {
   "cell_type": "markdown",
   "metadata": {},
   "source": [
    "## Grab files"
   ]
  },
  {
   "cell_type": "code",
   "execution_count": 147,
   "metadata": {},
   "outputs": [],
   "source": [
    "reload(ulmo_io)\n",
    "llc_files = np.array(ulmo_io.list_of_bucket_files('llc', prefix='/ThetaUVSalt'))"
   ]
  },
  {
   "cell_type": "markdown",
   "metadata": {},
   "source": [
    "## Times"
   ]
  },
  {
   "cell_type": "code",
   "execution_count": 148,
   "metadata": {},
   "outputs": [
    {
     "data": {
      "text/plain": [
       "['2011-09-13T00:00:00', '2011-09-13T01:00:00', '2011-09-13T02:00:00']"
      ]
     },
     "execution_count": 148,
     "metadata": {},
     "output_type": "execute_result"
    }
   ],
   "source": [
    "times = [os.path.basename(ifile)[8:-3].replace('_',':') for ifile in llc_files]\n",
    "times[0:3]"
   ]
  },
  {
   "cell_type": "code",
   "execution_count": 61,
   "metadata": {},
   "outputs": [],
   "source": [
    "llc_dti = pandas.to_datetime(times)"
   ]
  },
  {
   "cell_type": "code",
   "execution_count": 62,
   "metadata": {},
   "outputs": [
    {
     "data": {
      "text/plain": [
       "875"
      ]
     },
     "execution_count": 62,
     "metadata": {},
     "output_type": "execute_result"
    }
   ],
   "source": [
    "len(llc_dti)"
   ]
  },
  {
   "cell_type": "markdown",
   "metadata": {},
   "source": [
    "# Grid"
   ]
  },
  {
   "cell_type": "code",
   "execution_count": 63,
   "metadata": {},
   "outputs": [],
   "source": [
    "llc_grid = np.zeros((len(llc_coord), len(llc_dti)), dtype=bool)"
   ]
  },
  {
   "cell_type": "code",
   "execution_count": 64,
   "metadata": {},
   "outputs": [
    {
     "data": {
      "text/plain": [
       "100803465000"
      ]
     },
     "execution_count": 64,
     "metadata": {},
     "output_type": "execute_result"
    }
   ],
   "source": [
    "llc_grid.size"
   ]
  },
  {
   "cell_type": "markdown",
   "metadata": {},
   "source": [
    "# 2012 MODIS"
   ]
  },
  {
   "cell_type": "markdown",
   "metadata": {},
   "source": [
    "## Cut"
   ]
  },
  {
   "cell_type": "code",
   "execution_count": 17,
   "metadata": {},
   "outputs": [
    {
     "data": {
      "text/plain": [
       "'s3://modis-l2/PreProc/MODIS_R2019_2003_95clear_128x128_preproc_std.h5'"
      ]
     },
     "execution_count": 17,
     "metadata": {},
     "output_type": "execute_result"
    }
   ],
   "source": [
    "modisl2_table.pp_file[0]"
   ]
  },
  {
   "cell_type": "code",
   "execution_count": 19,
   "metadata": {},
   "outputs": [
    {
     "data": {
      "text/plain": [
       "730634"
      ]
     },
     "execution_count": 19,
     "metadata": {},
     "output_type": "execute_result"
    }
   ],
   "source": [
    "y2012 = modisl2_table.pp_file == 's3://modis-l2/PreProc/MODIS_R2019_2012_95clear_128x128_preproc_std.h5'\n",
    "np.sum(y2012)"
   ]
  },
  {
   "cell_type": "markdown",
   "metadata": {},
   "source": [
    "### LLC is not all of 2012"
   ]
  },
  {
   "cell_type": "code",
   "execution_count": 83,
   "metadata": {},
   "outputs": [],
   "source": [
    "in_llc = modisl2_table.datetime < llc_dti.max()"
   ]
  },
  {
   "cell_type": "code",
   "execution_count": 84,
   "metadata": {},
   "outputs": [],
   "source": [
    "modis_2012 = modisl2_table.loc[y2012&in_llc].copy()"
   ]
  },
  {
   "cell_type": "code",
   "execution_count": 87,
   "metadata": {},
   "outputs": [
    {
     "data": {
      "text/plain": [
       "Timestamp('2012-11-15 11:35:00')"
      ]
     },
     "execution_count": 87,
     "metadata": {},
     "output_type": "execute_result"
    }
   ],
   "source": [
    "modis_2012.datetime.max()"
   ]
  },
  {
   "cell_type": "markdown",
   "metadata": {},
   "source": [
    "## Coords"
   ]
  },
  {
   "cell_type": "code",
   "execution_count": 88,
   "metadata": {},
   "outputs": [],
   "source": [
    "modis_coord = SkyCoord(modis_2012.lon.values*units.deg + 180.*units.deg, \n",
    "                     modis_2012.lat.values*units.deg, \n",
    "                     frame='galactic')"
   ]
  },
  {
   "cell_type": "code",
   "execution_count": 89,
   "metadata": {},
   "outputs": [
    {
     "data": {
      "text/plain": [
       "<SkyCoord (Galactic): (l, b) in deg\n",
       "    [(217.615513, -18.549124), (199.459482,  34.162098),\n",
       "     (207.425474,  32.603806), ..., (208.637428,  34.018723),\n",
       "     (195.779327,  35.945026), (130.253048,  57.483936)]>"
      ]
     },
     "execution_count": 89,
     "metadata": {},
     "output_type": "execute_result"
    }
   ],
   "source": [
    "modis_coord"
   ]
  },
  {
   "cell_type": "markdown",
   "metadata": {},
   "source": [
    "## Match in space"
   ]
  },
  {
   "cell_type": "code",
   "execution_count": 90,
   "metadata": {},
   "outputs": [],
   "source": [
    "idx, sep2d, _ = match_coordinates_sky(modis_coord, llc_coord, nthneighbor=1)"
   ]
  },
  {
   "cell_type": "code",
   "execution_count": 91,
   "metadata": {},
   "outputs": [
    {
     "data": {
      "text/latex": [
       "$14^\\circ55{}^\\prime02.2969{}^{\\prime\\prime}$"
      ],
      "text/plain": [
       "<Angle 14.9173047 deg>"
      ]
     },
     "execution_count": 91,
     "metadata": {},
     "output_type": "execute_result"
    }
   ],
   "source": [
    "np.max(sep2d).to('deg')"
   ]
  },
  {
   "cell_type": "code",
   "execution_count": 92,
   "metadata": {},
   "outputs": [],
   "source": [
    "imx = np.argmax(sep2d)"
   ]
  },
  {
   "cell_type": "code",
   "execution_count": 93,
   "metadata": {},
   "outputs": [
    {
     "data": {
      "text/plain": [
       "lat                                                            79.675\n",
       "lon                                                           111.636\n",
       "col                                                               517\n",
       "datetime                                          2012-09-08 03:10:00\n",
       "LL                                                            117.078\n",
       "row                                                               267\n",
       "clear_fraction                                              0.0494995\n",
       "mean_temperature                                             0.281722\n",
       "Tmin                                                           -0.895\n",
       "Tmax                                                            1.435\n",
       "T90                                                              1.14\n",
       "T10                                                             -0.66\n",
       "filename                         AQUA_MODIS.20120908T031008.L2.SST.nc\n",
       "UID                                               1347169675029163565\n",
       "pp_file             s3://modis-l2/PreProc/MODIS_R2019_2012_95clear...\n",
       "pp_root                                                      standard\n",
       "field_size                                                        128\n",
       "pp_type                                                             0\n",
       "pp_idx                                                         557282\n",
       "Name: 7102932, dtype: object"
      ]
     },
     "execution_count": 93,
     "metadata": {},
     "output_type": "execute_result"
    }
   ],
   "source": [
    "modis_2012.iloc[imx]"
   ]
  },
  {
   "cell_type": "code",
   "execution_count": 94,
   "metadata": {},
   "outputs": [],
   "source": [
    "#sns.jointplot(x=sep2d.to('deg').value, y=modis_coord.galactic.b.deg)"
   ]
  },
  {
   "cell_type": "markdown",
   "metadata": {},
   "source": [
    "## Match in time"
   ]
  },
  {
   "cell_type": "markdown",
   "metadata": {},
   "source": [
    "### Convert to hours from 2012-01-01 00:00:00"
   ]
  },
  {
   "cell_type": "code",
   "execution_count": 95,
   "metadata": {},
   "outputs": [],
   "source": [
    "modis_2012['dt'] = modis_2012.datetime - pandas.Timestamp('2012-01-01')"
   ]
  },
  {
   "cell_type": "code",
   "execution_count": 97,
   "metadata": {},
   "outputs": [],
   "source": [
    "hours = np.round(modis_2012.dt.values / np.timedelta64(1, 'h')).astype(int)\n",
    "#hours[0:10]\n",
    "modis_2012['hours'] = hours"
   ]
  },
  {
   "cell_type": "markdown",
   "metadata": {},
   "source": [
    "### Round to every 12 hours"
   ]
  },
  {
   "cell_type": "code",
   "execution_count": 98,
   "metadata": {},
   "outputs": [
    {
     "data": {
      "text/plain": [
       "1"
      ]
     },
     "execution_count": 98,
     "metadata": {},
     "output_type": "execute_result"
    }
   ],
   "source": [
    "hours.min()"
   ]
  },
  {
   "cell_type": "code",
   "execution_count": 99,
   "metadata": {},
   "outputs": [
    {
     "data": {
      "text/plain": [
       "array([2352, 4128, 5640, ..., 5040, 4344, 1944])"
      ]
     },
     "execution_count": 99,
     "metadata": {},
     "output_type": "execute_result"
    }
   ],
   "source": [
    "hour_12 = 12*np.round(hours / 12).astype(int)\n",
    "hour_12"
   ]
  },
  {
   "cell_type": "code",
   "execution_count": 100,
   "metadata": {},
   "outputs": [
    {
     "data": {
      "text/plain": [
       "(array([2351, 4129, 5640, 2974, 6423]), array([2352, 4128, 5640, 2976, 6420]))"
      ]
     },
     "execution_count": 100,
     "metadata": {},
     "output_type": "execute_result"
    }
   ],
   "source": [
    "hours[:5], hour_12[:5]"
   ]
  },
  {
   "cell_type": "code",
   "execution_count": 101,
   "metadata": {},
   "outputs": [],
   "source": [
    "modis_2012['hour_12'] = hour_12"
   ]
  },
  {
   "cell_type": "markdown",
   "metadata": {},
   "source": [
    "### LLC"
   ]
  },
  {
   "cell_type": "code",
   "execution_count": 102,
   "metadata": {},
   "outputs": [],
   "source": [
    "llc_hours = np.round((llc_dti-pandas.Timestamp('2012-01-01')).values / np.timedelta64(1, 'h')).astype(int)"
   ]
  },
  {
   "cell_type": "code",
   "execution_count": 103,
   "metadata": {},
   "outputs": [
    {
     "data": {
      "text/plain": [
       "array([-2640, -2639, -2638, -2637, -2636, -2635, -2634, -2633, -2632,\n",
       "       -2631])"
      ]
     },
     "execution_count": 103,
     "metadata": {},
     "output_type": "execute_result"
    }
   ],
   "source": [
    "llc_hours[:10]"
   ]
  },
  {
   "cell_type": "code",
   "execution_count": 104,
   "metadata": {},
   "outputs": [
    {
     "data": {
      "text/plain": [
       "TimedeltaIndex(['-110 days +00:00:00', '-110 days +01:00:00',\n",
       "                '-110 days +02:00:00', '-110 days +03:00:00',\n",
       "                '-110 days +04:00:00', '-110 days +05:00:00',\n",
       "                '-110 days +06:00:00', '-110 days +07:00:00',\n",
       "                '-110 days +08:00:00', '-110 days +09:00:00',\n",
       "                ...\n",
       "                  '315 days 00:00:00',   '315 days 12:00:00',\n",
       "                  '316 days 00:00:00',   '316 days 12:00:00',\n",
       "                  '317 days 00:00:00',   '317 days 12:00:00',\n",
       "                  '318 days 00:00:00',   '318 days 12:00:00',\n",
       "                  '319 days 00:00:00',   '319 days 12:00:00'],\n",
       "               dtype='timedelta64[ns]', length=875, freq=None)"
      ]
     },
     "execution_count": 104,
     "metadata": {},
     "output_type": "execute_result"
    }
   ],
   "source": [
    "llc_dti-pandas.Timestamp('2012-01-01')"
   ]
  },
  {
   "cell_type": "markdown",
   "metadata": {},
   "source": [
    "### Match"
   ]
  },
  {
   "cell_type": "code",
   "execution_count": 108,
   "metadata": {},
   "outputs": [],
   "source": [
    "mt_t = cat_utils.match_ids(hour_12, llc_hours)#, require_in_match=False)"
   ]
  },
  {
   "cell_type": "code",
   "execution_count": 119,
   "metadata": {},
   "outputs": [
    {
     "data": {
      "text/plain": [
       "(874, 235)"
      ]
     },
     "execution_count": 119,
     "metadata": {},
     "output_type": "execute_result"
    }
   ],
   "source": [
    "mt_t.max(), mt_t.min()"
   ]
  },
  {
   "cell_type": "code",
   "execution_count": 110,
   "metadata": {},
   "outputs": [
    {
     "data": {
      "text/plain": [
       "922367"
      ]
     },
     "execution_count": 110,
     "metadata": {},
     "output_type": "execute_result"
    }
   ],
   "source": [
    "idx.min()"
   ]
  },
  {
   "cell_type": "markdown",
   "metadata": {},
   "source": [
    "## Assign"
   ]
  },
  {
   "cell_type": "code",
   "execution_count": 112,
   "metadata": {},
   "outputs": [],
   "source": [
    "tot_idx = idx*1000 + mt_t"
   ]
  },
  {
   "cell_type": "code",
   "execution_count": 118,
   "metadata": {},
   "outputs": [],
   "source": [
    "complete = np.zeros(tot_idx.size, dtype=bool)"
   ]
  },
  {
   "cell_type": "code",
   "execution_count": 116,
   "metadata": {},
   "outputs": [],
   "source": [
    "uval, uidx = np.unique(tot_idx, return_index=True)"
   ]
  },
  {
   "cell_type": "code",
   "execution_count": 117,
   "metadata": {},
   "outputs": [
    {
     "data": {
      "text/plain": [
       "(635295, 647738)"
      ]
     },
     "execution_count": 117,
     "metadata": {},
     "output_type": "execute_result"
    }
   ],
   "source": [
    "uidx.size, tot_idx.size"
   ]
  },
  {
   "cell_type": "markdown",
   "metadata": {},
   "source": [
    "## Update grid"
   ]
  },
  {
   "cell_type": "code",
   "execution_count": 120,
   "metadata": {},
   "outputs": [],
   "source": [
    "llc_grid[idx[uidx], mt_t[uidx]] = True"
   ]
  },
  {
   "cell_type": "code",
   "execution_count": 128,
   "metadata": {},
   "outputs": [],
   "source": [
    "# Check\n",
    "for kk in range(0, 5000, 100):\n",
    "    assert llc_grid[uval[kk]//1000, uval[kk] - 1000*(uval[kk]//1000)]"
   ]
  },
  {
   "cell_type": "code",
   "execution_count": 129,
   "metadata": {},
   "outputs": [],
   "source": [
    "complete[uidx] = True"
   ]
  },
  {
   "cell_type": "markdown",
   "metadata": {},
   "source": [
    "## Loop on the rest (slow) -- Punting on this for now"
   ]
  },
  {
   "cell_type": "markdown",
   "metadata": {},
   "source": [
    "# Table me"
   ]
  },
  {
   "cell_type": "markdown",
   "metadata": {},
   "source": [
    "## Grab em"
   ]
  },
  {
   "cell_type": "code",
   "execution_count": 163,
   "metadata": {},
   "outputs": [],
   "source": [
    "modis_llc = modis_2012.iloc[uidx].copy()"
   ]
  },
  {
   "cell_type": "code",
   "execution_count": 164,
   "metadata": {},
   "outputs": [
    {
     "data": {
      "text/plain": [
       "635295"
      ]
     },
     "execution_count": 164,
     "metadata": {},
     "output_type": "execute_result"
    }
   ],
   "source": [
    "len(modis_llc)"
   ]
  },
  {
   "cell_type": "code",
   "execution_count": 165,
   "metadata": {},
   "outputs": [
    {
     "data": {
      "text/html": [
       "<div>\n",
       "<style scoped>\n",
       "    .dataframe tbody tr th:only-of-type {\n",
       "        vertical-align: middle;\n",
       "    }\n",
       "\n",
       "    .dataframe tbody tr th {\n",
       "        vertical-align: top;\n",
       "    }\n",
       "\n",
       "    .dataframe thead th {\n",
       "        text-align: right;\n",
       "    }\n",
       "</style>\n",
       "<table border=\"1\" class=\"dataframe\">\n",
       "  <thead>\n",
       "    <tr style=\"text-align: right;\">\n",
       "      <th></th>\n",
       "      <th>lat</th>\n",
       "      <th>lon</th>\n",
       "      <th>col</th>\n",
       "      <th>datetime</th>\n",
       "      <th>LL</th>\n",
       "      <th>row</th>\n",
       "      <th>clear_fraction</th>\n",
       "      <th>mean_temperature</th>\n",
       "      <th>Tmin</th>\n",
       "      <th>Tmax</th>\n",
       "      <th>...</th>\n",
       "      <th>filename</th>\n",
       "      <th>UID</th>\n",
       "      <th>pp_file</th>\n",
       "      <th>pp_root</th>\n",
       "      <th>field_size</th>\n",
       "      <th>pp_type</th>\n",
       "      <th>pp_idx</th>\n",
       "      <th>dt</th>\n",
       "      <th>hours</th>\n",
       "      <th>hour_12</th>\n",
       "    </tr>\n",
       "  </thead>\n",
       "  <tbody>\n",
       "    <tr>\n",
       "      <th>6828842</th>\n",
       "      <td>-75.63369</td>\n",
       "      <td>176.34877</td>\n",
       "      <td>389</td>\n",
       "      <td>2012-01-10 10:45:00</td>\n",
       "      <td>218.820679</td>\n",
       "      <td>901</td>\n",
       "      <td>0.049133</td>\n",
       "      <td>0.784100</td>\n",
       "      <td>-0.580</td>\n",
       "      <td>1.800</td>\n",
       "      <td>...</td>\n",
       "      <td>AQUA_MODIS.20120110T104508.L2.SST.nc</td>\n",
       "      <td>132614366335634877</td>\n",
       "      <td>s3://modis-l2/PreProc/MODIS_R2019_2012_95clear...</td>\n",
       "      <td>standard</td>\n",
       "      <td>128</td>\n",
       "      <td>0</td>\n",
       "      <td>283192</td>\n",
       "      <td>9 days 10:45:00</td>\n",
       "      <td>227</td>\n",
       "      <td>228</td>\n",
       "    </tr>\n",
       "    <tr>\n",
       "      <th>6792033</th>\n",
       "      <td>-75.50313</td>\n",
       "      <td>176.90097</td>\n",
       "      <td>389</td>\n",
       "      <td>2012-01-10 10:45:00</td>\n",
       "      <td>250.649536</td>\n",
       "      <td>880</td>\n",
       "      <td>0.008484</td>\n",
       "      <td>0.715925</td>\n",
       "      <td>-0.400</td>\n",
       "      <td>1.545</td>\n",
       "      <td>...</td>\n",
       "      <td>AQUA_MODIS.20120110T104508.L2.SST.nc</td>\n",
       "      <td>132614496935690097</td>\n",
       "      <td>s3://modis-l2/PreProc/MODIS_R2019_2012_95clear...</td>\n",
       "      <td>standard</td>\n",
       "      <td>128</td>\n",
       "      <td>0</td>\n",
       "      <td>246383</td>\n",
       "      <td>9 days 10:45:00</td>\n",
       "      <td>227</td>\n",
       "      <td>228</td>\n",
       "    </tr>\n",
       "    <tr>\n",
       "      <th>7074958</th>\n",
       "      <td>-75.48472</td>\n",
       "      <td>176.05368</td>\n",
       "      <td>374</td>\n",
       "      <td>2012-01-10 10:45:00</td>\n",
       "      <td>149.231934</td>\n",
       "      <td>896</td>\n",
       "      <td>0.049561</td>\n",
       "      <td>0.833673</td>\n",
       "      <td>-0.580</td>\n",
       "      <td>1.800</td>\n",
       "      <td>...</td>\n",
       "      <td>AQUA_MODIS.20120110T104508.L2.SST.nc</td>\n",
       "      <td>132614515335605368</td>\n",
       "      <td>s3://modis-l2/PreProc/MODIS_R2019_2012_95clear...</td>\n",
       "      <td>standard</td>\n",
       "      <td>128</td>\n",
       "      <td>0</td>\n",
       "      <td>529308</td>\n",
       "      <td>9 days 10:45:00</td>\n",
       "      <td>227</td>\n",
       "      <td>228</td>\n",
       "    </tr>\n",
       "    <tr>\n",
       "      <th>6853379</th>\n",
       "      <td>-75.30069</td>\n",
       "      <td>177.72563</td>\n",
       "      <td>389</td>\n",
       "      <td>2012-01-10 10:45:00</td>\n",
       "      <td>197.087646</td>\n",
       "      <td>848</td>\n",
       "      <td>0.006836</td>\n",
       "      <td>0.650087</td>\n",
       "      <td>-0.995</td>\n",
       "      <td>1.445</td>\n",
       "      <td>...</td>\n",
       "      <td>AQUA_MODIS.20120110T104508.L2.SST.nc</td>\n",
       "      <td>132614699335772563</td>\n",
       "      <td>s3://modis-l2/PreProc/MODIS_R2019_2012_95clear...</td>\n",
       "      <td>standard</td>\n",
       "      <td>128</td>\n",
       "      <td>0</td>\n",
       "      <td>307729</td>\n",
       "      <td>9 days 10:45:00</td>\n",
       "      <td>227</td>\n",
       "      <td>228</td>\n",
       "    </tr>\n",
       "    <tr>\n",
       "      <th>7239974</th>\n",
       "      <td>-75.25666</td>\n",
       "      <td>175.96370</td>\n",
       "      <td>357</td>\n",
       "      <td>2012-01-10 10:45:00</td>\n",
       "      <td>44.546875</td>\n",
       "      <td>880</td>\n",
       "      <td>0.032532</td>\n",
       "      <td>0.822395</td>\n",
       "      <td>-1.280</td>\n",
       "      <td>1.855</td>\n",
       "      <td>...</td>\n",
       "      <td>AQUA_MODIS.20120110T104508.L2.SST.nc</td>\n",
       "      <td>132614743335596370</td>\n",
       "      <td>s3://modis-l2/PreProc/MODIS_R2019_2012_95clear...</td>\n",
       "      <td>standard</td>\n",
       "      <td>128</td>\n",
       "      <td>0</td>\n",
       "      <td>694324</td>\n",
       "      <td>9 days 10:45:00</td>\n",
       "      <td>227</td>\n",
       "      <td>228</td>\n",
       "    </tr>\n",
       "  </tbody>\n",
       "</table>\n",
       "<p>5 rows × 22 columns</p>\n",
       "</div>"
      ],
      "text/plain": [
       "              lat        lon  col            datetime          LL  row  \\\n",
       "6828842 -75.63369  176.34877  389 2012-01-10 10:45:00  218.820679  901   \n",
       "6792033 -75.50313  176.90097  389 2012-01-10 10:45:00  250.649536  880   \n",
       "7074958 -75.48472  176.05368  374 2012-01-10 10:45:00  149.231934  896   \n",
       "6853379 -75.30069  177.72563  389 2012-01-10 10:45:00  197.087646  848   \n",
       "7239974 -75.25666  175.96370  357 2012-01-10 10:45:00   44.546875  880   \n",
       "\n",
       "         clear_fraction  mean_temperature   Tmin   Tmax  ...  \\\n",
       "6828842        0.049133          0.784100 -0.580  1.800  ...   \n",
       "6792033        0.008484          0.715925 -0.400  1.545  ...   \n",
       "7074958        0.049561          0.833673 -0.580  1.800  ...   \n",
       "6853379        0.006836          0.650087 -0.995  1.445  ...   \n",
       "7239974        0.032532          0.822395 -1.280  1.855  ...   \n",
       "\n",
       "                                     filename                 UID  \\\n",
       "6828842  AQUA_MODIS.20120110T104508.L2.SST.nc  132614366335634877   \n",
       "6792033  AQUA_MODIS.20120110T104508.L2.SST.nc  132614496935690097   \n",
       "7074958  AQUA_MODIS.20120110T104508.L2.SST.nc  132614515335605368   \n",
       "6853379  AQUA_MODIS.20120110T104508.L2.SST.nc  132614699335772563   \n",
       "7239974  AQUA_MODIS.20120110T104508.L2.SST.nc  132614743335596370   \n",
       "\n",
       "                                                   pp_file   pp_root  \\\n",
       "6828842  s3://modis-l2/PreProc/MODIS_R2019_2012_95clear...  standard   \n",
       "6792033  s3://modis-l2/PreProc/MODIS_R2019_2012_95clear...  standard   \n",
       "7074958  s3://modis-l2/PreProc/MODIS_R2019_2012_95clear...  standard   \n",
       "6853379  s3://modis-l2/PreProc/MODIS_R2019_2012_95clear...  standard   \n",
       "7239974  s3://modis-l2/PreProc/MODIS_R2019_2012_95clear...  standard   \n",
       "\n",
       "        field_size pp_type  pp_idx              dt  hours hour_12  \n",
       "6828842        128       0  283192 9 days 10:45:00    227     228  \n",
       "6792033        128       0  246383 9 days 10:45:00    227     228  \n",
       "7074958        128       0  529308 9 days 10:45:00    227     228  \n",
       "6853379        128       0  307729 9 days 10:45:00    227     228  \n",
       "7239974        128       0  694324 9 days 10:45:00    227     228  \n",
       "\n",
       "[5 rows x 22 columns]"
      ]
     },
     "execution_count": 165,
     "metadata": {},
     "output_type": "execute_result"
    }
   ],
   "source": [
    "modis_llc.head()"
   ]
  },
  {
   "cell_type": "markdown",
   "metadata": {},
   "source": [
    "## Rename original lat, lon"
   ]
  },
  {
   "cell_type": "code",
   "execution_count": 166,
   "metadata": {},
   "outputs": [
    {
     "data": {
      "text/html": [
       "<div>\n",
       "<style scoped>\n",
       "    .dataframe tbody tr th:only-of-type {\n",
       "        vertical-align: middle;\n",
       "    }\n",
       "\n",
       "    .dataframe tbody tr th {\n",
       "        vertical-align: top;\n",
       "    }\n",
       "\n",
       "    .dataframe thead th {\n",
       "        text-align: right;\n",
       "    }\n",
       "</style>\n",
       "<table border=\"1\" class=\"dataframe\">\n",
       "  <thead>\n",
       "    <tr style=\"text-align: right;\">\n",
       "      <th></th>\n",
       "      <th>modis_lat</th>\n",
       "      <th>modis_lon</th>\n",
       "      <th>modis_col</th>\n",
       "      <th>datetime</th>\n",
       "      <th>LL</th>\n",
       "      <th>modis_row</th>\n",
       "      <th>clear_fraction</th>\n",
       "      <th>mean_temperature</th>\n",
       "      <th>Tmin</th>\n",
       "      <th>Tmax</th>\n",
       "      <th>...</th>\n",
       "      <th>filename</th>\n",
       "      <th>UID</th>\n",
       "      <th>pp_file</th>\n",
       "      <th>pp_root</th>\n",
       "      <th>field_size</th>\n",
       "      <th>pp_type</th>\n",
       "      <th>pp_idx</th>\n",
       "      <th>dt</th>\n",
       "      <th>hours</th>\n",
       "      <th>hour_12</th>\n",
       "    </tr>\n",
       "  </thead>\n",
       "  <tbody>\n",
       "    <tr>\n",
       "      <th>6828842</th>\n",
       "      <td>-75.63369</td>\n",
       "      <td>176.34877</td>\n",
       "      <td>389</td>\n",
       "      <td>2012-01-10 10:45:00</td>\n",
       "      <td>218.820679</td>\n",
       "      <td>901</td>\n",
       "      <td>0.049133</td>\n",
       "      <td>0.784100</td>\n",
       "      <td>-0.580</td>\n",
       "      <td>1.800</td>\n",
       "      <td>...</td>\n",
       "      <td>AQUA_MODIS.20120110T104508.L2.SST.nc</td>\n",
       "      <td>132614366335634877</td>\n",
       "      <td>s3://modis-l2/PreProc/MODIS_R2019_2012_95clear...</td>\n",
       "      <td>standard</td>\n",
       "      <td>128</td>\n",
       "      <td>0</td>\n",
       "      <td>283192</td>\n",
       "      <td>9 days 10:45:00</td>\n",
       "      <td>227</td>\n",
       "      <td>228</td>\n",
       "    </tr>\n",
       "    <tr>\n",
       "      <th>6792033</th>\n",
       "      <td>-75.50313</td>\n",
       "      <td>176.90097</td>\n",
       "      <td>389</td>\n",
       "      <td>2012-01-10 10:45:00</td>\n",
       "      <td>250.649536</td>\n",
       "      <td>880</td>\n",
       "      <td>0.008484</td>\n",
       "      <td>0.715925</td>\n",
       "      <td>-0.400</td>\n",
       "      <td>1.545</td>\n",
       "      <td>...</td>\n",
       "      <td>AQUA_MODIS.20120110T104508.L2.SST.nc</td>\n",
       "      <td>132614496935690097</td>\n",
       "      <td>s3://modis-l2/PreProc/MODIS_R2019_2012_95clear...</td>\n",
       "      <td>standard</td>\n",
       "      <td>128</td>\n",
       "      <td>0</td>\n",
       "      <td>246383</td>\n",
       "      <td>9 days 10:45:00</td>\n",
       "      <td>227</td>\n",
       "      <td>228</td>\n",
       "    </tr>\n",
       "    <tr>\n",
       "      <th>7074958</th>\n",
       "      <td>-75.48472</td>\n",
       "      <td>176.05368</td>\n",
       "      <td>374</td>\n",
       "      <td>2012-01-10 10:45:00</td>\n",
       "      <td>149.231934</td>\n",
       "      <td>896</td>\n",
       "      <td>0.049561</td>\n",
       "      <td>0.833673</td>\n",
       "      <td>-0.580</td>\n",
       "      <td>1.800</td>\n",
       "      <td>...</td>\n",
       "      <td>AQUA_MODIS.20120110T104508.L2.SST.nc</td>\n",
       "      <td>132614515335605368</td>\n",
       "      <td>s3://modis-l2/PreProc/MODIS_R2019_2012_95clear...</td>\n",
       "      <td>standard</td>\n",
       "      <td>128</td>\n",
       "      <td>0</td>\n",
       "      <td>529308</td>\n",
       "      <td>9 days 10:45:00</td>\n",
       "      <td>227</td>\n",
       "      <td>228</td>\n",
       "    </tr>\n",
       "    <tr>\n",
       "      <th>6853379</th>\n",
       "      <td>-75.30069</td>\n",
       "      <td>177.72563</td>\n",
       "      <td>389</td>\n",
       "      <td>2012-01-10 10:45:00</td>\n",
       "      <td>197.087646</td>\n",
       "      <td>848</td>\n",
       "      <td>0.006836</td>\n",
       "      <td>0.650087</td>\n",
       "      <td>-0.995</td>\n",
       "      <td>1.445</td>\n",
       "      <td>...</td>\n",
       "      <td>AQUA_MODIS.20120110T104508.L2.SST.nc</td>\n",
       "      <td>132614699335772563</td>\n",
       "      <td>s3://modis-l2/PreProc/MODIS_R2019_2012_95clear...</td>\n",
       "      <td>standard</td>\n",
       "      <td>128</td>\n",
       "      <td>0</td>\n",
       "      <td>307729</td>\n",
       "      <td>9 days 10:45:00</td>\n",
       "      <td>227</td>\n",
       "      <td>228</td>\n",
       "    </tr>\n",
       "    <tr>\n",
       "      <th>7239974</th>\n",
       "      <td>-75.25666</td>\n",
       "      <td>175.96370</td>\n",
       "      <td>357</td>\n",
       "      <td>2012-01-10 10:45:00</td>\n",
       "      <td>44.546875</td>\n",
       "      <td>880</td>\n",
       "      <td>0.032532</td>\n",
       "      <td>0.822395</td>\n",
       "      <td>-1.280</td>\n",
       "      <td>1.855</td>\n",
       "      <td>...</td>\n",
       "      <td>AQUA_MODIS.20120110T104508.L2.SST.nc</td>\n",
       "      <td>132614743335596370</td>\n",
       "      <td>s3://modis-l2/PreProc/MODIS_R2019_2012_95clear...</td>\n",
       "      <td>standard</td>\n",
       "      <td>128</td>\n",
       "      <td>0</td>\n",
       "      <td>694324</td>\n",
       "      <td>9 days 10:45:00</td>\n",
       "      <td>227</td>\n",
       "      <td>228</td>\n",
       "    </tr>\n",
       "  </tbody>\n",
       "</table>\n",
       "<p>5 rows × 22 columns</p>\n",
       "</div>"
      ],
      "text/plain": [
       "         modis_lat  modis_lon  modis_col            datetime          LL  \\\n",
       "6828842  -75.63369  176.34877        389 2012-01-10 10:45:00  218.820679   \n",
       "6792033  -75.50313  176.90097        389 2012-01-10 10:45:00  250.649536   \n",
       "7074958  -75.48472  176.05368        374 2012-01-10 10:45:00  149.231934   \n",
       "6853379  -75.30069  177.72563        389 2012-01-10 10:45:00  197.087646   \n",
       "7239974  -75.25666  175.96370        357 2012-01-10 10:45:00   44.546875   \n",
       "\n",
       "         modis_row  clear_fraction  mean_temperature   Tmin   Tmax  ...  \\\n",
       "6828842        901        0.049133          0.784100 -0.580  1.800  ...   \n",
       "6792033        880        0.008484          0.715925 -0.400  1.545  ...   \n",
       "7074958        896        0.049561          0.833673 -0.580  1.800  ...   \n",
       "6853379        848        0.006836          0.650087 -0.995  1.445  ...   \n",
       "7239974        880        0.032532          0.822395 -1.280  1.855  ...   \n",
       "\n",
       "                                     filename                 UID  \\\n",
       "6828842  AQUA_MODIS.20120110T104508.L2.SST.nc  132614366335634877   \n",
       "6792033  AQUA_MODIS.20120110T104508.L2.SST.nc  132614496935690097   \n",
       "7074958  AQUA_MODIS.20120110T104508.L2.SST.nc  132614515335605368   \n",
       "6853379  AQUA_MODIS.20120110T104508.L2.SST.nc  132614699335772563   \n",
       "7239974  AQUA_MODIS.20120110T104508.L2.SST.nc  132614743335596370   \n",
       "\n",
       "                                                   pp_file   pp_root  \\\n",
       "6828842  s3://modis-l2/PreProc/MODIS_R2019_2012_95clear...  standard   \n",
       "6792033  s3://modis-l2/PreProc/MODIS_R2019_2012_95clear...  standard   \n",
       "7074958  s3://modis-l2/PreProc/MODIS_R2019_2012_95clear...  standard   \n",
       "6853379  s3://modis-l2/PreProc/MODIS_R2019_2012_95clear...  standard   \n",
       "7239974  s3://modis-l2/PreProc/MODIS_R2019_2012_95clear...  standard   \n",
       "\n",
       "        field_size pp_type  pp_idx              dt  hours hour_12  \n",
       "6828842        128       0  283192 9 days 10:45:00    227     228  \n",
       "6792033        128       0  246383 9 days 10:45:00    227     228  \n",
       "7074958        128       0  529308 9 days 10:45:00    227     228  \n",
       "6853379        128       0  307729 9 days 10:45:00    227     228  \n",
       "7239974        128       0  694324 9 days 10:45:00    227     228  \n",
       "\n",
       "[5 rows x 22 columns]"
      ]
     },
     "execution_count": 166,
     "metadata": {},
     "output_type": "execute_result"
    }
   ],
   "source": [
    "modis_llc = modis_llc.rename(columns=dict(lat='modis_lat', lon='modis_lon',\n",
    "                                         row='modis_row', col='modis_col'))\n",
    "modis_llc.head()"
   ]
  },
  {
   "cell_type": "markdown",
   "metadata": {},
   "source": [
    "## Add in LLC lat, lon"
   ]
  },
  {
   "cell_type": "code",
   "execution_count": 142,
   "metadata": {},
   "outputs": [],
   "source": [
    "modis_llc['lat'] = llc_lat[idx[uidx]]\n",
    "modis_llc['lon'] = llc_lon[idx[uidx]]"
   ]
  },
  {
   "cell_type": "code",
   "execution_count": 143,
   "metadata": {},
   "outputs": [
    {
     "data": {
      "text/html": [
       "<div>\n",
       "<style scoped>\n",
       "    .dataframe tbody tr th:only-of-type {\n",
       "        vertical-align: middle;\n",
       "    }\n",
       "\n",
       "    .dataframe tbody tr th {\n",
       "        vertical-align: top;\n",
       "    }\n",
       "\n",
       "    .dataframe thead th {\n",
       "        text-align: right;\n",
       "    }\n",
       "</style>\n",
       "<table border=\"1\" class=\"dataframe\">\n",
       "  <thead>\n",
       "    <tr style=\"text-align: right;\">\n",
       "      <th></th>\n",
       "      <th>modis_lat</th>\n",
       "      <th>modis_lon</th>\n",
       "      <th>lat</th>\n",
       "      <th>lon</th>\n",
       "    </tr>\n",
       "  </thead>\n",
       "  <tbody>\n",
       "    <tr>\n",
       "      <th>6828842</th>\n",
       "      <td>-75.63369</td>\n",
       "      <td>176.34877</td>\n",
       "      <td>-75.634514</td>\n",
       "      <td>176.342789</td>\n",
       "    </tr>\n",
       "    <tr>\n",
       "      <th>6792033</th>\n",
       "      <td>-75.50313</td>\n",
       "      <td>176.90097</td>\n",
       "      <td>-75.502342</td>\n",
       "      <td>176.904388</td>\n",
       "    </tr>\n",
       "    <tr>\n",
       "      <th>7074958</th>\n",
       "      <td>-75.48472</td>\n",
       "      <td>176.05368</td>\n",
       "      <td>-75.486450</td>\n",
       "      <td>176.059402</td>\n",
       "    </tr>\n",
       "    <tr>\n",
       "      <th>6853379</th>\n",
       "      <td>-75.30069</td>\n",
       "      <td>177.72563</td>\n",
       "      <td>-75.300201</td>\n",
       "      <td>177.722855</td>\n",
       "    </tr>\n",
       "    <tr>\n",
       "      <th>7239974</th>\n",
       "      <td>-75.25666</td>\n",
       "      <td>175.96370</td>\n",
       "      <td>-75.252640</td>\n",
       "      <td>175.969391</td>\n",
       "    </tr>\n",
       "  </tbody>\n",
       "</table>\n",
       "</div>"
      ],
      "text/plain": [
       "         modis_lat  modis_lon        lat         lon\n",
       "6828842  -75.63369  176.34877 -75.634514  176.342789\n",
       "6792033  -75.50313  176.90097 -75.502342  176.904388\n",
       "7074958  -75.48472  176.05368 -75.486450  176.059402\n",
       "6853379  -75.30069  177.72563 -75.300201  177.722855\n",
       "7239974  -75.25666  175.96370 -75.252640  175.969391"
      ]
     },
     "execution_count": 143,
     "metadata": {},
     "output_type": "execute_result"
    }
   ],
   "source": [
    "modis_llc[['modis_lat', 'modis_lon', 'lat', 'lon']].head()"
   ]
  },
  {
   "cell_type": "markdown",
   "metadata": {},
   "source": [
    "## Check sky coverage"
   ]
  },
  {
   "cell_type": "code",
   "execution_count": 146,
   "metadata": {},
   "outputs": [
    {
     "data": {
      "image/png": "[encoded data removed]",
      "text/plain": [
       "<Figure size 648x432 with 1 Axes>"
      ]
     },
     "metadata": {
      "needs_background": "light"
     },
     "output_type": "display_data"
    }
   ],
   "source": [
    "reload(pp_plotting)\n",
    "pp_plotting.plot_extraction(modis_llc, figsize=(9,6))"
   ]
  },
  {
   "cell_type": "markdown",
   "metadata": {},
   "source": [
    "## Add in LLC pp_file names"
   ]
  },
  {
   "cell_type": "code",
   "execution_count": 154,
   "metadata": {},
   "outputs": [],
   "source": [
    "s3_llc_files = np.array(['s3://llc/'+llc_file for llc_file in llc_files])"
   ]
  },
  {
   "cell_type": "code",
   "execution_count": 155,
   "metadata": {},
   "outputs": [],
   "source": [
    "modis_llc['pp_file'] = s3_llc_files[mt_t[uidx]]"
   ]
  },
  {
   "cell_type": "code",
   "execution_count": 156,
   "metadata": {},
   "outputs": [
    {
     "data": {
      "text/html": [
       "<div>\n",
       "<style scoped>\n",
       "    .dataframe tbody tr th:only-of-type {\n",
       "        vertical-align: middle;\n",
       "    }\n",
       "\n",
       "    .dataframe tbody tr th {\n",
       "        vertical-align: top;\n",
       "    }\n",
       "\n",
       "    .dataframe thead th {\n",
       "        text-align: right;\n",
       "    }\n",
       "</style>\n",
       "<table border=\"1\" class=\"dataframe\">\n",
       "  <thead>\n",
       "    <tr style=\"text-align: right;\">\n",
       "      <th></th>\n",
       "      <th>modis_lat</th>\n",
       "      <th>modis_lon</th>\n",
       "      <th>lat</th>\n",
       "      <th>lon</th>\n",
       "      <th>datetime</th>\n",
       "      <th>pp_file</th>\n",
       "    </tr>\n",
       "  </thead>\n",
       "  <tbody>\n",
       "    <tr>\n",
       "      <th>6828842</th>\n",
       "      <td>-75.63369</td>\n",
       "      <td>176.34877</td>\n",
       "      <td>-75.634514</td>\n",
       "      <td>176.342789</td>\n",
       "      <td>2012-01-10 10:45:00</td>\n",
       "      <td>s3://llc/ThetaUVSalt/LLC4320_2012-01-10T12_00_...</td>\n",
       "    </tr>\n",
       "    <tr>\n",
       "      <th>6792033</th>\n",
       "      <td>-75.50313</td>\n",
       "      <td>176.90097</td>\n",
       "      <td>-75.502342</td>\n",
       "      <td>176.904388</td>\n",
       "      <td>2012-01-10 10:45:00</td>\n",
       "      <td>s3://llc/ThetaUVSalt/LLC4320_2012-01-10T12_00_...</td>\n",
       "    </tr>\n",
       "    <tr>\n",
       "      <th>7074958</th>\n",
       "      <td>-75.48472</td>\n",
       "      <td>176.05368</td>\n",
       "      <td>-75.486450</td>\n",
       "      <td>176.059402</td>\n",
       "      <td>2012-01-10 10:45:00</td>\n",
       "      <td>s3://llc/ThetaUVSalt/LLC4320_2012-01-10T12_00_...</td>\n",
       "    </tr>\n",
       "    <tr>\n",
       "      <th>6853379</th>\n",
       "      <td>-75.30069</td>\n",
       "      <td>177.72563</td>\n",
       "      <td>-75.300201</td>\n",
       "      <td>177.722855</td>\n",
       "      <td>2012-01-10 10:45:00</td>\n",
       "      <td>s3://llc/ThetaUVSalt/LLC4320_2012-01-10T12_00_...</td>\n",
       "    </tr>\n",
       "    <tr>\n",
       "      <th>7239974</th>\n",
       "      <td>-75.25666</td>\n",
       "      <td>175.96370</td>\n",
       "      <td>-75.252640</td>\n",
       "      <td>175.969391</td>\n",
       "      <td>2012-01-10 10:45:00</td>\n",
       "      <td>s3://llc/ThetaUVSalt/LLC4320_2012-01-10T12_00_...</td>\n",
       "    </tr>\n",
       "  </tbody>\n",
       "</table>\n",
       "</div>"
      ],
      "text/plain": [
       "         modis_lat  modis_lon        lat         lon            datetime  \\\n",
       "6828842  -75.63369  176.34877 -75.634514  176.342789 2012-01-10 10:45:00   \n",
       "6792033  -75.50313  176.90097 -75.502342  176.904388 2012-01-10 10:45:00   \n",
       "7074958  -75.48472  176.05368 -75.486450  176.059402 2012-01-10 10:45:00   \n",
       "6853379  -75.30069  177.72563 -75.300201  177.722855 2012-01-10 10:45:00   \n",
       "7239974  -75.25666  175.96370 -75.252640  175.969391 2012-01-10 10:45:00   \n",
       "\n",
       "                                                   pp_file  \n",
       "6828842  s3://llc/ThetaUVSalt/LLC4320_2012-01-10T12_00_...  \n",
       "6792033  s3://llc/ThetaUVSalt/LLC4320_2012-01-10T12_00_...  \n",
       "7074958  s3://llc/ThetaUVSalt/LLC4320_2012-01-10T12_00_...  \n",
       "6853379  s3://llc/ThetaUVSalt/LLC4320_2012-01-10T12_00_...  \n",
       "7239974  s3://llc/ThetaUVSalt/LLC4320_2012-01-10T12_00_...  "
      ]
     },
     "execution_count": 156,
     "metadata": {},
     "output_type": "execute_result"
    }
   ],
   "source": [
    "modis_llc[['modis_lat', 'modis_lon', 'lat', 'lon', 'datetime', 'pp_file']].head()"
   ]
  },
  {
   "cell_type": "markdown",
   "metadata": {},
   "source": [
    "## Add in row/col"
   ]
  },
  {
   "cell_type": "code",
   "execution_count": 167,
   "metadata": {},
   "outputs": [
    {
     "ename": "NameError",
     "evalue": "name 'llc_table' is not defined",
     "output_type": "error",
     "traceback": [
      "\u001b[0;31m---------------------------------------------------------------------------\u001b[0m",
      "\u001b[0;31mNameError\u001b[0m                                 Traceback (most recent call last)",
      "\u001b[0;32m<ipython-input-167-6c3f30b67951>\u001b[0m in \u001b[0;36m<module>\u001b[0;34m\u001b[0m\n\u001b[0;32m----> 1\u001b[0;31m \u001b[0mllc_table\u001b[0m\u001b[0;34m[\u001b[0m\u001b[0;34m'row'\u001b[0m\u001b[0;34m]\u001b[0m \u001b[0;34m=\u001b[0m \u001b[0mgood_CC_idx\u001b[0m\u001b[0;34m[\u001b[0m\u001b[0;36m0\u001b[0m\u001b[0;34m]\u001b[0m\u001b[0;34m[\u001b[0m\u001b[0midx\u001b[0m\u001b[0;34m[\u001b[0m\u001b[0muidx\u001b[0m\u001b[0;34m]\u001b[0m\u001b[0;34m]\u001b[0m \u001b[0;34m-\u001b[0m \u001b[0mfield_size\u001b[0m\u001b[0;34m[\u001b[0m\u001b[0;36m0\u001b[0m\u001b[0;34m]\u001b[0m\u001b[0;34m//\u001b[0m\u001b[0;36m2\u001b[0m \u001b[0;31m# Lower left corner\u001b[0m\u001b[0;34m\u001b[0m\u001b[0;34m\u001b[0m\u001b[0m\n\u001b[0m\u001b[1;32m      2\u001b[0m \u001b[0mllc_table\u001b[0m\u001b[0;34m[\u001b[0m\u001b[0;34m'col'\u001b[0m\u001b[0;34m]\u001b[0m \u001b[0;34m=\u001b[0m \u001b[0mgood_CC_idx\u001b[0m\u001b[0;34m[\u001b[0m\u001b[0;36m1\u001b[0m\u001b[0;34m]\u001b[0m\u001b[0;34m[\u001b[0m\u001b[0midx\u001b[0m\u001b[0;34m[\u001b[0m\u001b[0muidx\u001b[0m\u001b[0;34m]\u001b[0m\u001b[0;34m]\u001b[0m \u001b[0;34m-\u001b[0m \u001b[0mfield_size\u001b[0m\u001b[0;34m[\u001b[0m\u001b[0;36m0\u001b[0m\u001b[0;34m]\u001b[0m\u001b[0;34m//\u001b[0m\u001b[0;36m2\u001b[0m \u001b[0;31m# Lower left corner\u001b[0m\u001b[0;34m\u001b[0m\u001b[0;34m\u001b[0m\u001b[0m\n",
      "\u001b[0;31mNameError\u001b[0m: name 'llc_table' is not defined"
     ]
    }
   ],
   "source": [
    "modis2012_llc['row'] = good_CC_idx[0][idx[uidx]] - field_size[0]//2 # Lower left corner\n",
    "modis2012_llc['col'] = good_CC_idx[1][idx[uidx]] - field_size[0]//2 # Lower left corner"
   ]
  },
  {
   "cell_type": "markdown",
   "metadata": {},
   "source": [
    "## Write"
   ]
  },
  {
   "cell_type": "code",
   "execution_count": 158,
   "metadata": {},
   "outputs": [],
   "source": [
    "modis2012_llc = modis_llc.drop(columns=['dt'])"
   ]
  },
  {
   "cell_type": "code",
   "execution_count": 159,
   "metadata": {},
   "outputs": [
    {
     "name": "stdout",
     "output_type": "stream",
     "text": [
      "Wrote Analysis Table: s3://llc/Tables/modis2012_test.parquet\n"
     ]
    }
   ],
   "source": [
    "ulmo_io.write_main_table(modis2012_llc, 's3://llc/Tables/modis2012_test.parquet')"
   ]
  },
  {
   "cell_type": "code",
   "execution_count": 161,
   "metadata": {},
   "outputs": [
    {
     "name": "stdout",
     "output_type": "stream",
     "text": [
      "Read main table: s3://llc/Tables/modis2012_test.parquet\n"
     ]
    }
   ],
   "source": [
    "reload(ulmo_io)\n",
    "tmp = ulmo_io.load_main_table('s3://llc/Tables/modis2012_test.parquet')"
   ]
  },
  {
   "cell_type": "code",
   "execution_count": 162,
   "metadata": {},
   "outputs": [
    {
     "data": {
      "text/html": [
       "<div>\n",
       "<style scoped>\n",
       "    .dataframe tbody tr th:only-of-type {\n",
       "        vertical-align: middle;\n",
       "    }\n",
       "\n",
       "    .dataframe tbody tr th {\n",
       "        vertical-align: top;\n",
       "    }\n",
       "\n",
       "    .dataframe thead th {\n",
       "        text-align: right;\n",
       "    }\n",
       "</style>\n",
       "<table border=\"1\" class=\"dataframe\">\n",
       "  <thead>\n",
       "    <tr style=\"text-align: right;\">\n",
       "      <th></th>\n",
       "      <th>modis_lat</th>\n",
       "      <th>modis_lon</th>\n",
       "      <th>col</th>\n",
       "      <th>datetime</th>\n",
       "      <th>LL</th>\n",
       "      <th>row</th>\n",
       "      <th>clear_fraction</th>\n",
       "      <th>mean_temperature</th>\n",
       "      <th>Tmin</th>\n",
       "      <th>Tmax</th>\n",
       "      <th>...</th>\n",
       "      <th>UID</th>\n",
       "      <th>pp_file</th>\n",
       "      <th>pp_root</th>\n",
       "      <th>field_size</th>\n",
       "      <th>pp_type</th>\n",
       "      <th>pp_idx</th>\n",
       "      <th>hours</th>\n",
       "      <th>hour_12</th>\n",
       "      <th>lat</th>\n",
       "      <th>lon</th>\n",
       "    </tr>\n",
       "  </thead>\n",
       "  <tbody>\n",
       "    <tr>\n",
       "      <th>6828842</th>\n",
       "      <td>-75.63369</td>\n",
       "      <td>176.34877</td>\n",
       "      <td>389</td>\n",
       "      <td>2012-01-10 10:45:00</td>\n",
       "      <td>218.820679</td>\n",
       "      <td>901</td>\n",
       "      <td>0.049133</td>\n",
       "      <td>0.784100</td>\n",
       "      <td>-0.580</td>\n",
       "      <td>1.800</td>\n",
       "      <td>...</td>\n",
       "      <td>132614366335634877</td>\n",
       "      <td>s3://llc/ThetaUVSalt/LLC4320_2012-01-10T12_00_...</td>\n",
       "      <td>standard</td>\n",
       "      <td>128</td>\n",
       "      <td>0</td>\n",
       "      <td>283192</td>\n",
       "      <td>227</td>\n",
       "      <td>228</td>\n",
       "      <td>-75.634514</td>\n",
       "      <td>176.342789</td>\n",
       "    </tr>\n",
       "    <tr>\n",
       "      <th>6792033</th>\n",
       "      <td>-75.50313</td>\n",
       "      <td>176.90097</td>\n",
       "      <td>389</td>\n",
       "      <td>2012-01-10 10:45:00</td>\n",
       "      <td>250.649536</td>\n",
       "      <td>880</td>\n",
       "      <td>0.008484</td>\n",
       "      <td>0.715925</td>\n",
       "      <td>-0.400</td>\n",
       "      <td>1.545</td>\n",
       "      <td>...</td>\n",
       "      <td>132614496935690097</td>\n",
       "      <td>s3://llc/ThetaUVSalt/LLC4320_2012-01-10T12_00_...</td>\n",
       "      <td>standard</td>\n",
       "      <td>128</td>\n",
       "      <td>0</td>\n",
       "      <td>246383</td>\n",
       "      <td>227</td>\n",
       "      <td>228</td>\n",
       "      <td>-75.502342</td>\n",
       "      <td>176.904388</td>\n",
       "    </tr>\n",
       "    <tr>\n",
       "      <th>7074958</th>\n",
       "      <td>-75.48472</td>\n",
       "      <td>176.05368</td>\n",
       "      <td>374</td>\n",
       "      <td>2012-01-10 10:45:00</td>\n",
       "      <td>149.231934</td>\n",
       "      <td>896</td>\n",
       "      <td>0.049561</td>\n",
       "      <td>0.833673</td>\n",
       "      <td>-0.580</td>\n",
       "      <td>1.800</td>\n",
       "      <td>...</td>\n",
       "      <td>132614515335605368</td>\n",
       "      <td>s3://llc/ThetaUVSalt/LLC4320_2012-01-10T12_00_...</td>\n",
       "      <td>standard</td>\n",
       "      <td>128</td>\n",
       "      <td>0</td>\n",
       "      <td>529308</td>\n",
       "      <td>227</td>\n",
       "      <td>228</td>\n",
       "      <td>-75.486450</td>\n",
       "      <td>176.059402</td>\n",
       "    </tr>\n",
       "    <tr>\n",
       "      <th>6853379</th>\n",
       "      <td>-75.30069</td>\n",
       "      <td>177.72563</td>\n",
       "      <td>389</td>\n",
       "      <td>2012-01-10 10:45:00</td>\n",
       "      <td>197.087646</td>\n",
       "      <td>848</td>\n",
       "      <td>0.006836</td>\n",
       "      <td>0.650087</td>\n",
       "      <td>-0.995</td>\n",
       "      <td>1.445</td>\n",
       "      <td>...</td>\n",
       "      <td>132614699335772563</td>\n",
       "      <td>s3://llc/ThetaUVSalt/LLC4320_2012-01-10T12_00_...</td>\n",
       "      <td>standard</td>\n",
       "      <td>128</td>\n",
       "      <td>0</td>\n",
       "      <td>307729</td>\n",
       "      <td>227</td>\n",
       "      <td>228</td>\n",
       "      <td>-75.300201</td>\n",
       "      <td>177.722855</td>\n",
       "    </tr>\n",
       "    <tr>\n",
       "      <th>7239974</th>\n",
       "      <td>-75.25666</td>\n",
       "      <td>175.96370</td>\n",
       "      <td>357</td>\n",
       "      <td>2012-01-10 10:45:00</td>\n",
       "      <td>44.546875</td>\n",
       "      <td>880</td>\n",
       "      <td>0.032532</td>\n",
       "      <td>0.822395</td>\n",
       "      <td>-1.280</td>\n",
       "      <td>1.855</td>\n",
       "      <td>...</td>\n",
       "      <td>132614743335596370</td>\n",
       "      <td>s3://llc/ThetaUVSalt/LLC4320_2012-01-10T12_00_...</td>\n",
       "      <td>standard</td>\n",
       "      <td>128</td>\n",
       "      <td>0</td>\n",
       "      <td>694324</td>\n",
       "      <td>227</td>\n",
       "      <td>228</td>\n",
       "      <td>-75.252640</td>\n",
       "      <td>175.969391</td>\n",
       "    </tr>\n",
       "  </tbody>\n",
       "</table>\n",
       "<p>5 rows × 23 columns</p>\n",
       "</div>"
      ],
      "text/plain": [
       "         modis_lat  modis_lon  col            datetime          LL  row  \\\n",
       "6828842  -75.63369  176.34877  389 2012-01-10 10:45:00  218.820679  901   \n",
       "6792033  -75.50313  176.90097  389 2012-01-10 10:45:00  250.649536  880   \n",
       "7074958  -75.48472  176.05368  374 2012-01-10 10:45:00  149.231934  896   \n",
       "6853379  -75.30069  177.72563  389 2012-01-10 10:45:00  197.087646  848   \n",
       "7239974  -75.25666  175.96370  357 2012-01-10 10:45:00   44.546875  880   \n",
       "\n",
       "         clear_fraction  mean_temperature   Tmin   Tmax  ...  \\\n",
       "6828842        0.049133          0.784100 -0.580  1.800  ...   \n",
       "6792033        0.008484          0.715925 -0.400  1.545  ...   \n",
       "7074958        0.049561          0.833673 -0.580  1.800  ...   \n",
       "6853379        0.006836          0.650087 -0.995  1.445  ...   \n",
       "7239974        0.032532          0.822395 -1.280  1.855  ...   \n",
       "\n",
       "                        UID  \\\n",
       "6828842  132614366335634877   \n",
       "6792033  132614496935690097   \n",
       "7074958  132614515335605368   \n",
       "6853379  132614699335772563   \n",
       "7239974  132614743335596370   \n",
       "\n",
       "                                                   pp_file   pp_root  \\\n",
       "6828842  s3://llc/ThetaUVSalt/LLC4320_2012-01-10T12_00_...  standard   \n",
       "6792033  s3://llc/ThetaUVSalt/LLC4320_2012-01-10T12_00_...  standard   \n",
       "7074958  s3://llc/ThetaUVSalt/LLC4320_2012-01-10T12_00_...  standard   \n",
       "6853379  s3://llc/ThetaUVSalt/LLC4320_2012-01-10T12_00_...  standard   \n",
       "7239974  s3://llc/ThetaUVSalt/LLC4320_2012-01-10T12_00_...  standard   \n",
       "\n",
       "         field_size pp_type  pp_idx  hours  hour_12        lat         lon  \n",
       "6828842         128       0  283192    227      228 -75.634514  176.342789  \n",
       "6792033         128       0  246383    227      228 -75.502342  176.904388  \n",
       "7074958         128       0  529308    227      228 -75.486450  176.059402  \n",
       "6853379         128       0  307729    227      228 -75.300201  177.722855  \n",
       "7239974         128       0  694324    227      228 -75.252640  175.969391  \n",
       "\n",
       "[5 rows x 23 columns]"
      ]
     },
     "execution_count": 162,
     "metadata": {},
     "output_type": "execute_result"
    }
   ],
   "source": [
    "tmp.head()"
   ]
  },
  {
   "cell_type": "code",
   "execution_count": null,
   "metadata": {},
   "outputs": [],
   "source": []
  }
 ],
 "metadata": {
  "kernelspec": {
   "display_name": "Python 3",
   "language": "python",
   "name": "python3"
  },
  "language_info": {
   "codemirror_mode": {
    "name": "ipython",
    "version": 3
   },
   "file_extension": ".py",
   "mimetype": "text/x-python",
   "name": "python",
   "nbconvert_exporter": "python",
   "pygments_lexer": "ipython3",
   "version": "3.8.5"
  }
 },
 "nbformat": 4,
 "nbformat_minor": 4
}
