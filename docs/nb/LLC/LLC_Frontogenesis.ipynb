{
 "cells": [
  {
   "cell_type": "markdown",
   "id": "e73e517a-1fdb-45c1-9a17-7279c089bfef",
   "metadata": {},
   "source": [
    "# LLC Frontogenesis Forcing Function"
   ]
  },
  {
   "cell_type": "code",
   "execution_count": 1,
   "id": "ae846bfc-0b55-45ce-a74a-3afe4b166fb0",
   "metadata": {},
   "outputs": [
    {
     "name": "stderr",
     "output_type": "stream",
     "text": [
      "/home/xavier/Projects/miniconda3/lib/python3.9/site-packages/tqdm/auto.py:22: TqdmWarning: IProgress not found. Please update jupyter and ipywidgets. See https://ipywidgets.readthedocs.io/en/stable/user_install.html\n",
      "  from .autonotebook import tqdm as notebook_tqdm\n"
     ]
    }
   ],
   "source": [
    "# imports\n",
    "from importlib import reload\n",
    "\n",
    "import os\n",
    "import numpy as np\n",
    "\n",
    "import pandas\n",
    "import xarray\n",
    "import h5py\n",
    "\n",
    "from matplotlib import pyplot as plt\n",
    "import seaborn as sns\n",
    "\n",
    "from gsw import density\n",
    "\n",
    "from ulmo import io as ulmo_io\n",
    "from ulmo.plotting import plotting\n",
    "from ulmo.llc import io as llc_io\n",
    "from ulmo.llc import plotting as llc_plotting\n",
    "from ulmo.utils import image_utils\n",
    "from ulmo.analysis import figures as ulmo_figs"
   ]
  },
  {
   "cell_type": "markdown",
   "id": "5e48e312-71b1-4d4f-a4d4-e4be6d09c7f1",
   "metadata": {},
   "source": [
    "# Load Main Table"
   ]
  },
  {
   "cell_type": "code",
   "execution_count": 2,
   "id": "bc2114c1-6889-4a75-8580-7a3dc264b492",
   "metadata": {},
   "outputs": [
    {
     "name": "stdout",
     "output_type": "stream",
     "text": [
      "Read main table: s3://llc/Tables/test_uniform_r0.5_test.feather\n"
     ]
    }
   ],
   "source": [
    "tbl_file = 's3://llc/Tables/test_uniform_r0.5_test.feather'\n",
    "llc_table = ulmo_io.load_main_table(tbl_file)"
   ]
  },
  {
   "cell_type": "code",
   "execution_count": 3,
   "id": "a3ea2eaf-ab8d-4c20-840b-0d8dd15ebd49",
   "metadata": {},
   "outputs": [],
   "source": [
    "llc_table['DT'] = llc_table.T90 - llc_table.T10"
   ]
  },
  {
   "cell_type": "markdown",
   "id": "9135ae3c-8f41-4091-849e-5c640f4881a4",
   "metadata": {},
   "source": [
    "# Load up a field"
   ]
  },
  {
   "cell_type": "code",
   "execution_count": 4,
   "id": "0c313671-81cc-4241-a27a-6fa9824b5e89",
   "metadata": {},
   "outputs": [
    {
     "data": {
      "text/plain": [
       "lat                                                         35.324909\n",
       "lon                                                         -71.71875\n",
       "row                                                              9856\n",
       "col                                                             15629\n",
       "datetime                                          2011-11-30 00:00:00\n",
       "LLC_file            s3://llc/ThetaUVSalt/LLC4320_2011-11-30T00_00_...\n",
       "pp_file                  s3://llc/PreProc/LLC_uniform_test_preproc.h5\n",
       "pp_root                                                       llc_std\n",
       "field_size                                                         64\n",
       "mean_temperature                                            21.770691\n",
       "Tmin                                                           16.167\n",
       "Tmax                                                        25.351002\n",
       "T90                                                         25.071001\n",
       "T10                                                            16.607\n",
       "pp_idx                                                         380827\n",
       "pp_type                                                             0\n",
       "LL                                                       -4001.422852\n",
       "U_mean                                                       1.096055\n",
       "V_mean                                                       0.284658\n",
       "U_rms                                                        0.480481\n",
       "V_rms                                                        0.266045\n",
       "UV_mean                                                      1.550219\n",
       "UV_rms                                                       0.679129\n",
       "DT                                                           8.464001\n",
       "Name: 145496, dtype: object"
      ]
     },
     "execution_count": 4,
     "metadata": {},
     "output_type": "execute_result"
    }
   ],
   "source": [
    "high_DT = llc_table.DT > 4.\n",
    "i4000 = np.argmin(np.abs(llc_table[high_DT].LL + 4000.))\n",
    "cutout = llc_table[high_DT].iloc[i4000]\n",
    "cutout"
   ]
  },
  {
   "cell_type": "markdown",
   "id": "dd1d0445-5c57-496a-9f20-36349e2efa7a",
   "metadata": {},
   "source": [
    "# Density"
   ]
  },
  {
   "cell_type": "markdown",
   "id": "88f31716-1274-4483-9734-85e8d88f6bea",
   "metadata": {},
   "source": [
    "## Load dataset"
   ]
  },
  {
   "cell_type": "code",
   "execution_count": 5,
   "id": "0f560657-9a60-4777-ac1b-464e70fec4d1",
   "metadata": {},
   "outputs": [
    {
     "data": {
      "text/html": [
       "<div><svg style=\"position: absolute; width: 0; height: 0; overflow: hidden\">\n",
       "<defs>\n",
       "<symbol id=\"icon-database\" viewBox=\"0 0 32 32\">\n",
       "<path d=\"M16 0c-8.837 0-16 2.239-16 5v4c0 2.761 7.163 5 16 5s16-2.239 16-5v-4c0-2.761-7.163-5-16-5z\"></path>\n",
       "<path d=\"M16 17c-8.837 0-16-2.239-16-5v6c0 2.761 7.163 5 16 5s16-2.239 16-5v-6c0 2.761-7.163 5-16 5z\"></path>\n",
       "<path d=\"M16 26c-8.837 0-16-2.239-16-5v6c0 2.761 7.163 5 16 5s16-2.239 16-5v-6c0 2.761-7.163 5-16 5z\"></path>\n",
       "</symbol>\n",
       "<symbol id=\"icon-file-text2\" viewBox=\"0 0 32 32\">\n",
       "<path d=\"M28.681 7.159c-0.694-0.947-1.662-2.053-2.724-3.116s-2.169-2.030-3.116-2.724c-1.612-1.182-2.393-1.319-2.841-1.319h-15.5c-1.378 0-2.5 1.121-2.5 2.5v27c0 1.378 1.122 2.5 2.5 2.5h23c1.378 0 2.5-1.122 2.5-2.5v-19.5c0-0.448-0.137-1.23-1.319-2.841zM24.543 5.457c0.959 0.959 1.712 1.825 2.268 2.543h-4.811v-4.811c0.718 0.556 1.584 1.309 2.543 2.268zM28 29.5c0 0.271-0.229 0.5-0.5 0.5h-23c-0.271 0-0.5-0.229-0.5-0.5v-27c0-0.271 0.229-0.5 0.5-0.5 0 0 15.499-0 15.5 0v7c0 0.552 0.448 1 1 1h7v19.5z\"></path>\n",
       "<path d=\"M23 26h-14c-0.552 0-1-0.448-1-1s0.448-1 1-1h14c0.552 0 1 0.448 1 1s-0.448 1-1 1z\"></path>\n",
       "<path d=\"M23 22h-14c-0.552 0-1-0.448-1-1s0.448-1 1-1h14c0.552 0 1 0.448 1 1s-0.448 1-1 1z\"></path>\n",
       "<path d=\"M23 18h-14c-0.552 0-1-0.448-1-1s0.448-1 1-1h14c0.552 0 1 0.448 1 1s-0.448 1-1 1z\"></path>\n",
       "</symbol>\n",
       "</defs>\n",
       "</svg>\n",
       "<style>/* CSS stylesheet for displaying xarray objects in jupyterlab.\n",
       " *\n",
       " */\n",
       "\n",
       ":root {\n",
       "  --xr-font-color0: var(--jp-content-font-color0, rgba(0, 0, 0, 1));\n",
       "  --xr-font-color2: var(--jp-content-font-color2, rgba(0, 0, 0, 0.54));\n",
       "  --xr-font-color3: var(--jp-content-font-color3, rgba(0, 0, 0, 0.38));\n",
       "  --xr-border-color: var(--jp-border-color2, #e0e0e0);\n",
       "  --xr-disabled-color: var(--jp-layout-color3, #bdbdbd);\n",
       "  --xr-background-color: var(--jp-layout-color0, white);\n",
       "  --xr-background-color-row-even: var(--jp-layout-color1, white);\n",
       "  --xr-background-color-row-odd: var(--jp-layout-color2, #eeeeee);\n",
       "}\n",
       "\n",
       "html[theme=dark],\n",
       "body.vscode-dark {\n",
       "  --xr-font-color0: rgba(255, 255, 255, 1);\n",
       "  --xr-font-color2: rgba(255, 255, 255, 0.54);\n",
       "  --xr-font-color3: rgba(255, 255, 255, 0.38);\n",
       "  --xr-border-color: #1F1F1F;\n",
       "  --xr-disabled-color: #515151;\n",
       "  --xr-background-color: #111111;\n",
       "  --xr-background-color-row-even: #111111;\n",
       "  --xr-background-color-row-odd: #313131;\n",
       "}\n",
       "\n",
       ".xr-wrap {\n",
       "  display: block !important;\n",
       "  min-width: 300px;\n",
       "  max-width: 700px;\n",
       "}\n",
       "\n",
       ".xr-text-repr-fallback {\n",
       "  /* fallback to plain text repr when CSS is not injected (untrusted notebook) */\n",
       "  display: none;\n",
       "}\n",
       "\n",
       ".xr-header {\n",
       "  padding-top: 6px;\n",
       "  padding-bottom: 6px;\n",
       "  margin-bottom: 4px;\n",
       "  border-bottom: solid 1px var(--xr-border-color);\n",
       "}\n",
       "\n",
       ".xr-header > div,\n",
       ".xr-header > ul {\n",
       "  display: inline;\n",
       "  margin-top: 0;\n",
       "  margin-bottom: 0;\n",
       "}\n",
       "\n",
       ".xr-obj-type,\n",
       ".xr-array-name {\n",
       "  margin-left: 2px;\n",
       "  margin-right: 10px;\n",
       "}\n",
       "\n",
       ".xr-obj-type {\n",
       "  color: var(--xr-font-color2);\n",
       "}\n",
       "\n",
       ".xr-sections {\n",
       "  padding-left: 0 !important;\n",
       "  display: grid;\n",
       "  grid-template-columns: 150px auto auto 1fr 20px 20px;\n",
       "}\n",
       "\n",
       ".xr-section-item {\n",
       "  display: contents;\n",
       "}\n",
       "\n",
       ".xr-section-item input {\n",
       "  display: none;\n",
       "}\n",
       "\n",
       ".xr-section-item input + label {\n",
       "  color: var(--xr-disabled-color);\n",
       "}\n",
       "\n",
       ".xr-section-item input:enabled + label {\n",
       "  cursor: pointer;\n",
       "  color: var(--xr-font-color2);\n",
       "}\n",
       "\n",
       ".xr-section-item input:enabled + label:hover {\n",
       "  color: var(--xr-font-color0);\n",
       "}\n",
       "\n",
       ".xr-section-summary {\n",
       "  grid-column: 1;\n",
       "  color: var(--xr-font-color2);\n",
       "  font-weight: 500;\n",
       "}\n",
       "\n",
       ".xr-section-summary > span {\n",
       "  display: inline-block;\n",
       "  padding-left: 0.5em;\n",
       "}\n",
       "\n",
       ".xr-section-summary-in:disabled + label {\n",
       "  color: var(--xr-font-color2);\n",
       "}\n",
       "\n",
       ".xr-section-summary-in + label:before {\n",
       "  display: inline-block;\n",
       "  content: '►';\n",
       "  font-size: 11px;\n",
       "  width: 15px;\n",
       "  text-align: center;\n",
       "}\n",
       "\n",
       ".xr-section-summary-in:disabled + label:before {\n",
       "  color: var(--xr-disabled-color);\n",
       "}\n",
       "\n",
       ".xr-section-summary-in:checked + label:before {\n",
       "  content: '▼';\n",
       "}\n",
       "\n",
       ".xr-section-summary-in:checked + label > span {\n",
       "  display: none;\n",
       "}\n",
       "\n",
       ".xr-section-summary,\n",
       ".xr-section-inline-details {\n",
       "  padding-top: 4px;\n",
       "  padding-bottom: 4px;\n",
       "}\n",
       "\n",
       ".xr-section-inline-details {\n",
       "  grid-column: 2 / -1;\n",
       "}\n",
       "\n",
       ".xr-section-details {\n",
       "  display: none;\n",
       "  grid-column: 1 / -1;\n",
       "  margin-bottom: 5px;\n",
       "}\n",
       "\n",
       ".xr-section-summary-in:checked ~ .xr-section-details {\n",
       "  display: contents;\n",
       "}\n",
       "\n",
       ".xr-array-wrap {\n",
       "  grid-column: 1 / -1;\n",
       "  display: grid;\n",
       "  grid-template-columns: 20px auto;\n",
       "}\n",
       "\n",
       ".xr-array-wrap > label {\n",
       "  grid-column: 1;\n",
       "  vertical-align: top;\n",
       "}\n",
       "\n",
       ".xr-preview {\n",
       "  color: var(--xr-font-color3);\n",
       "}\n",
       "\n",
       ".xr-array-preview,\n",
       ".xr-array-data {\n",
       "  padding: 0 5px !important;\n",
       "  grid-column: 2;\n",
       "}\n",
       "\n",
       ".xr-array-data,\n",
       ".xr-array-in:checked ~ .xr-array-preview {\n",
       "  display: none;\n",
       "}\n",
       "\n",
       ".xr-array-in:checked ~ .xr-array-data,\n",
       ".xr-array-preview {\n",
       "  display: inline-block;\n",
       "}\n",
       "\n",
       ".xr-dim-list {\n",
       "  display: inline-block !important;\n",
       "  list-style: none;\n",
       "  padding: 0 !important;\n",
       "  margin: 0;\n",
       "}\n",
       "\n",
       ".xr-dim-list li {\n",
       "  display: inline-block;\n",
       "  padding: 0;\n",
       "  margin: 0;\n",
       "}\n",
       "\n",
       ".xr-dim-list:before {\n",
       "  content: '(';\n",
       "}\n",
       "\n",
       ".xr-dim-list:after {\n",
       "  content: ')';\n",
       "}\n",
       "\n",
       ".xr-dim-list li:not(:last-child):after {\n",
       "  content: ',';\n",
       "  padding-right: 5px;\n",
       "}\n",
       "\n",
       ".xr-has-index {\n",
       "  font-weight: bold;\n",
       "}\n",
       "\n",
       ".xr-var-list,\n",
       ".xr-var-item {\n",
       "  display: contents;\n",
       "}\n",
       "\n",
       ".xr-var-item > div,\n",
       ".xr-var-item label,\n",
       ".xr-var-item > .xr-var-name span {\n",
       "  background-color: var(--xr-background-color-row-even);\n",
       "  margin-bottom: 0;\n",
       "}\n",
       "\n",
       ".xr-var-item > .xr-var-name:hover span {\n",
       "  padding-right: 5px;\n",
       "}\n",
       "\n",
       ".xr-var-list > li:nth-child(odd) > div,\n",
       ".xr-var-list > li:nth-child(odd) > label,\n",
       ".xr-var-list > li:nth-child(odd) > .xr-var-name span {\n",
       "  background-color: var(--xr-background-color-row-odd);\n",
       "}\n",
       "\n",
       ".xr-var-name {\n",
       "  grid-column: 1;\n",
       "}\n",
       "\n",
       ".xr-var-dims {\n",
       "  grid-column: 2;\n",
       "}\n",
       "\n",
       ".xr-var-dtype {\n",
       "  grid-column: 3;\n",
       "  text-align: right;\n",
       "  color: var(--xr-font-color2);\n",
       "}\n",
       "\n",
       ".xr-var-preview {\n",
       "  grid-column: 4;\n",
       "}\n",
       "\n",
       ".xr-var-name,\n",
       ".xr-var-dims,\n",
       ".xr-var-dtype,\n",
       ".xr-preview,\n",
       ".xr-attrs dt {\n",
       "  white-space: nowrap;\n",
       "  overflow: hidden;\n",
       "  text-overflow: ellipsis;\n",
       "  padding-right: 10px;\n",
       "}\n",
       "\n",
       ".xr-var-name:hover,\n",
       ".xr-var-dims:hover,\n",
       ".xr-var-dtype:hover,\n",
       ".xr-attrs dt:hover {\n",
       "  overflow: visible;\n",
       "  width: auto;\n",
       "  z-index: 1;\n",
       "}\n",
       "\n",
       ".xr-var-attrs,\n",
       ".xr-var-data {\n",
       "  display: none;\n",
       "  background-color: var(--xr-background-color) !important;\n",
       "  padding-bottom: 5px !important;\n",
       "}\n",
       "\n",
       ".xr-var-attrs-in:checked ~ .xr-var-attrs,\n",
       ".xr-var-data-in:checked ~ .xr-var-data {\n",
       "  display: block;\n",
       "}\n",
       "\n",
       ".xr-var-data > table {\n",
       "  float: right;\n",
       "}\n",
       "\n",
       ".xr-var-name span,\n",
       ".xr-var-data,\n",
       ".xr-attrs {\n",
       "  padding-left: 25px !important;\n",
       "}\n",
       "\n",
       ".xr-attrs,\n",
       ".xr-var-attrs,\n",
       ".xr-var-data {\n",
       "  grid-column: 1 / -1;\n",
       "}\n",
       "\n",
       "dl.xr-attrs {\n",
       "  padding: 0;\n",
       "  margin: 0;\n",
       "  display: grid;\n",
       "  grid-template-columns: 125px auto;\n",
       "}\n",
       "\n",
       ".xr-attrs dt,\n",
       ".xr-attrs dd {\n",
       "  padding: 0;\n",
       "  margin: 0;\n",
       "  float: left;\n",
       "  padding-right: 10px;\n",
       "  width: auto;\n",
       "}\n",
       "\n",
       ".xr-attrs dt {\n",
       "  font-weight: normal;\n",
       "  grid-column: 1;\n",
       "}\n",
       "\n",
       ".xr-attrs dt:hover span {\n",
       "  display: inline-block;\n",
       "  background: var(--xr-background-color);\n",
       "  padding-right: 10px;\n",
       "}\n",
       "\n",
       ".xr-attrs dd {\n",
       "  grid-column: 2;\n",
       "  white-space: pre-wrap;\n",
       "  word-break: break-all;\n",
       "}\n",
       "\n",
       ".xr-icon-database,\n",
       ".xr-icon-file-text2 {\n",
       "  display: inline-block;\n",
       "  vertical-align: middle;\n",
       "  width: 1em;\n",
       "  height: 1.5em !important;\n",
       "  stroke-width: 0;\n",
       "  stroke: currentColor;\n",
       "  fill: currentColor;\n",
       "}\n",
       "</style><pre class='xr-text-repr-fallback'>&lt;xarray.Dataset&gt;\n",
       "Dimensions:  (i: 17280, i_g: 17280, j: 12960, j_g: 12960, k_l: 1)\n",
       "Coordinates:\n",
       "  * i        (i) int64 0 1 2 3 4 5 6 ... 17274 17275 17276 17277 17278 17279\n",
       "  * i_g      (i_g) int64 0 1 2 3 4 5 6 ... 17274 17275 17276 17277 17278 17279\n",
       "  * j        (j) int64 0 1 2 3 4 5 6 ... 12954 12955 12956 12957 12958 12959\n",
       "  * j_g      (j_g) int64 0 1 2 3 4 5 6 ... 12954 12955 12956 12957 12958 12959\n",
       "Dimensions without coordinates: k_l\n",
       "Data variables:\n",
       "    Theta    (j, i) float32 ...\n",
       "    U        (j, i_g) float32 ...\n",
       "    V        (j_g, i) float32 ...\n",
       "    W        (k_l, j, i) float32 ...\n",
       "    Salt     (j, i) float32 ...</pre><div class='xr-wrap' style='display:none'><div class='xr-header'><div class='xr-obj-type'>xarray.Dataset</div></div><ul class='xr-sections'><li class='xr-section-item'><input id='section-b9705585-21d5-416e-a887-1cd105952772' class='xr-section-summary-in' type='checkbox' disabled ><label for='section-b9705585-21d5-416e-a887-1cd105952772' class='xr-section-summary'  title='Expand/collapse section'>Dimensions:</label><div class='xr-section-inline-details'><ul class='xr-dim-list'><li><span class='xr-has-index'>i</span>: 17280</li><li><span class='xr-has-index'>i_g</span>: 17280</li><li><span class='xr-has-index'>j</span>: 12960</li><li><span class='xr-has-index'>j_g</span>: 12960</li><li><span>k_l</span>: 1</li></ul></div><div class='xr-section-details'></div></li><li class='xr-section-item'><input id='section-8f8b69ca-e4a8-432f-ae9e-d33481dd2912' class='xr-section-summary-in' type='checkbox'  checked><label for='section-8f8b69ca-e4a8-432f-ae9e-d33481dd2912' class='xr-section-summary' >Coordinates: <span>(4)</span></label><div class='xr-section-inline-details'></div><div class='xr-section-details'><ul class='xr-var-list'><li class='xr-var-item'><div class='xr-var-name'><span class='xr-has-index'>i</span></div><div class='xr-var-dims'>(i)</div><div class='xr-var-dtype'>int64</div><div class='xr-var-preview xr-preview'>0 1 2 3 ... 17276 17277 17278 17279</div><input id='attrs-337633b0-ba1f-435f-bd3b-1aeb1af4f667' class='xr-var-attrs-in' type='checkbox' ><label for='attrs-337633b0-ba1f-435f-bd3b-1aeb1af4f667' title='Show/Hide attributes'><svg class='icon xr-icon-file-text2'><use xlink:href='#icon-file-text2'></use></svg></label><input id='data-9110019f-2562-4a9e-9bce-eb6c4dad18bb' class='xr-var-data-in' type='checkbox'><label for='data-9110019f-2562-4a9e-9bce-eb6c4dad18bb' title='Show/Hide data repr'><svg class='icon xr-icon-database'><use xlink:href='#icon-database'></use></svg></label><div class='xr-var-attrs'><dl class='xr-attrs'><dt><span>standard_name :</span></dt><dd>x_grid_index</dd><dt><span>axis :</span></dt><dd>X</dd><dt><span>long_name :</span></dt><dd>x-dimension of the t grid</dd><dt><span>swap_dim :</span></dt><dd>XC</dd></dl></div><div class='xr-var-data'><pre>array([    0,     1,     2, ..., 17277, 17278, 17279])</pre></div></li><li class='xr-var-item'><div class='xr-var-name'><span class='xr-has-index'>i_g</span></div><div class='xr-var-dims'>(i_g)</div><div class='xr-var-dtype'>int64</div><div class='xr-var-preview xr-preview'>0 1 2 3 ... 17276 17277 17278 17279</div><input id='attrs-091759ef-b97d-42c5-b0f3-677df5ad4485' class='xr-var-attrs-in' type='checkbox' ><label for='attrs-091759ef-b97d-42c5-b0f3-677df5ad4485' title='Show/Hide attributes'><svg class='icon xr-icon-file-text2'><use xlink:href='#icon-file-text2'></use></svg></label><input id='data-7885a97f-09f9-400d-a117-2a17acda462a' class='xr-var-data-in' type='checkbox'><label for='data-7885a97f-09f9-400d-a117-2a17acda462a' title='Show/Hide data repr'><svg class='icon xr-icon-database'><use xlink:href='#icon-database'></use></svg></label><div class='xr-var-attrs'><dl class='xr-attrs'><dt><span>standard_name :</span></dt><dd>x_grid_index_at_u_location</dd><dt><span>axis :</span></dt><dd>X</dd><dt><span>long_name :</span></dt><dd>x-dimension of the u grid</dd><dt><span>c_grid_axis_shift :</span></dt><dd>-0.5</dd><dt><span>swap_dim :</span></dt><dd>XG</dd></dl></div><div class='xr-var-data'><pre>array([    0,     1,     2, ..., 17277, 17278, 17279])</pre></div></li><li class='xr-var-item'><div class='xr-var-name'><span class='xr-has-index'>j</span></div><div class='xr-var-dims'>(j)</div><div class='xr-var-dtype'>int64</div><div class='xr-var-preview xr-preview'>0 1 2 3 ... 12956 12957 12958 12959</div><input id='attrs-fe4a9835-8f91-4602-a2f3-aa947e756612' class='xr-var-attrs-in' type='checkbox' ><label for='attrs-fe4a9835-8f91-4602-a2f3-aa947e756612' title='Show/Hide attributes'><svg class='icon xr-icon-file-text2'><use xlink:href='#icon-file-text2'></use></svg></label><input id='data-89e48ad1-f98e-4dad-acad-879a9f568ad7' class='xr-var-data-in' type='checkbox'><label for='data-89e48ad1-f98e-4dad-acad-879a9f568ad7' title='Show/Hide data repr'><svg class='icon xr-icon-database'><use xlink:href='#icon-database'></use></svg></label><div class='xr-var-attrs'><dl class='xr-attrs'><dt><span>standard_name :</span></dt><dd>y_grid_index</dd><dt><span>axis :</span></dt><dd>Y</dd><dt><span>long_name :</span></dt><dd>y-dimension of the t grid</dd><dt><span>swap_dim :</span></dt><dd>YC</dd></dl></div><div class='xr-var-data'><pre>array([    0,     1,     2, ..., 12957, 12958, 12959])</pre></div></li><li class='xr-var-item'><div class='xr-var-name'><span class='xr-has-index'>j_g</span></div><div class='xr-var-dims'>(j_g)</div><div class='xr-var-dtype'>int64</div><div class='xr-var-preview xr-preview'>0 1 2 3 ... 12956 12957 12958 12959</div><input id='attrs-275b95c9-362e-45b4-a03d-95de1ca9ff21' class='xr-var-attrs-in' type='checkbox' ><label for='attrs-275b95c9-362e-45b4-a03d-95de1ca9ff21' title='Show/Hide attributes'><svg class='icon xr-icon-file-text2'><use xlink:href='#icon-file-text2'></use></svg></label><input id='data-2efe141e-f6ed-46ae-891f-b336187d35d5' class='xr-var-data-in' type='checkbox'><label for='data-2efe141e-f6ed-46ae-891f-b336187d35d5' title='Show/Hide data repr'><svg class='icon xr-icon-database'><use xlink:href='#icon-database'></use></svg></label><div class='xr-var-attrs'><dl class='xr-attrs'><dt><span>standard_name :</span></dt><dd>y_grid_index_at_v_location</dd><dt><span>axis :</span></dt><dd>Y</dd><dt><span>long_name :</span></dt><dd>y-dimension of the v grid</dd><dt><span>c_grid_axis_shift :</span></dt><dd>-0.5</dd><dt><span>swap_dim :</span></dt><dd>YG</dd></dl></div><div class='xr-var-data'><pre>array([    0,     1,     2, ..., 12957, 12958, 12959])</pre></div></li></ul></div></li><li class='xr-section-item'><input id='section-29c639ab-5b8d-4d99-8391-b863d4823682' class='xr-section-summary-in' type='checkbox'  checked><label for='section-29c639ab-5b8d-4d99-8391-b863d4823682' class='xr-section-summary' >Data variables: <span>(5)</span></label><div class='xr-section-inline-details'></div><div class='xr-section-details'><ul class='xr-var-list'><li class='xr-var-item'><div class='xr-var-name'><span>Theta</span></div><div class='xr-var-dims'>(j, i)</div><div class='xr-var-dtype'>float32</div><div class='xr-var-preview xr-preview'>...</div><input id='attrs-86d32957-236e-4440-ab57-c3e4107b5f20' class='xr-var-attrs-in' type='checkbox' ><label for='attrs-86d32957-236e-4440-ab57-c3e4107b5f20' title='Show/Hide attributes'><svg class='icon xr-icon-file-text2'><use xlink:href='#icon-file-text2'></use></svg></label><input id='data-fde820ea-f9d9-49fa-a997-339d28e6c200' class='xr-var-data-in' type='checkbox'><label for='data-fde820ea-f9d9-49fa-a997-339d28e6c200' title='Show/Hide data repr'><svg class='icon xr-icon-database'><use xlink:href='#icon-database'></use></svg></label><div class='xr-var-attrs'><dl class='xr-attrs'><dt><span>standard_name :</span></dt><dd>THETA</dd><dt><span>long_name :</span></dt><dd>Potential Temperature</dd><dt><span>units :</span></dt><dd>degC</dd></dl></div><div class='xr-var-data'><pre>[223948800 values with dtype=float32]</pre></div></li><li class='xr-var-item'><div class='xr-var-name'><span>U</span></div><div class='xr-var-dims'>(j, i_g)</div><div class='xr-var-dtype'>float32</div><div class='xr-var-preview xr-preview'>...</div><input id='attrs-de0514e6-681e-419e-99d3-9a3bed185d33' class='xr-var-attrs-in' type='checkbox' ><label for='attrs-de0514e6-681e-419e-99d3-9a3bed185d33' title='Show/Hide attributes'><svg class='icon xr-icon-file-text2'><use xlink:href='#icon-file-text2'></use></svg></label><input id='data-bf2a2c34-77fa-4901-aafd-d26787f20337' class='xr-var-data-in' type='checkbox'><label for='data-bf2a2c34-77fa-4901-aafd-d26787f20337' title='Show/Hide data repr'><svg class='icon xr-icon-database'><use xlink:href='#icon-database'></use></svg></label><div class='xr-var-attrs'><dl class='xr-attrs'><dt><span>standard_name :</span></dt><dd>sea_water_x_velocity</dd><dt><span>mate :</span></dt><dd>V</dd><dt><span>long_name :</span></dt><dd>Zonal Component of Velocity</dd><dt><span>units :</span></dt><dd>m s-1</dd></dl></div><div class='xr-var-data'><pre>[223948800 values with dtype=float32]</pre></div></li><li class='xr-var-item'><div class='xr-var-name'><span>V</span></div><div class='xr-var-dims'>(j_g, i)</div><div class='xr-var-dtype'>float32</div><div class='xr-var-preview xr-preview'>...</div><input id='attrs-2dd33af8-7b15-44e9-8772-844986834fa9' class='xr-var-attrs-in' type='checkbox' ><label for='attrs-2dd33af8-7b15-44e9-8772-844986834fa9' title='Show/Hide attributes'><svg class='icon xr-icon-file-text2'><use xlink:href='#icon-file-text2'></use></svg></label><input id='data-f8b9fc88-cbb8-4fa9-a004-3c72dd4acc93' class='xr-var-data-in' type='checkbox'><label for='data-f8b9fc88-cbb8-4fa9-a004-3c72dd4acc93' title='Show/Hide data repr'><svg class='icon xr-icon-database'><use xlink:href='#icon-database'></use></svg></label><div class='xr-var-attrs'><dl class='xr-attrs'><dt><span>standard_name :</span></dt><dd>sea_water_y_velocity</dd><dt><span>mate :</span></dt><dd>U</dd><dt><span>long_name :</span></dt><dd>Meridional Component of Velocity</dd><dt><span>units :</span></dt><dd>m s-1</dd></dl></div><div class='xr-var-data'><pre>[223948800 values with dtype=float32]</pre></div></li><li class='xr-var-item'><div class='xr-var-name'><span>W</span></div><div class='xr-var-dims'>(k_l, j, i)</div><div class='xr-var-dtype'>float32</div><div class='xr-var-preview xr-preview'>...</div><input id='attrs-f4ac662e-4956-4426-b898-6fc49c4f7c71' class='xr-var-attrs-in' type='checkbox' ><label for='attrs-f4ac662e-4956-4426-b898-6fc49c4f7c71' title='Show/Hide attributes'><svg class='icon xr-icon-file-text2'><use xlink:href='#icon-file-text2'></use></svg></label><input id='data-bb2cbdd0-bbd3-419b-bbdf-ac317bba4bdd' class='xr-var-data-in' type='checkbox'><label for='data-bb2cbdd0-bbd3-419b-bbdf-ac317bba4bdd' title='Show/Hide data repr'><svg class='icon xr-icon-database'><use xlink:href='#icon-database'></use></svg></label><div class='xr-var-attrs'><dl class='xr-attrs'><dt><span>standard_name :</span></dt><dd>sea_water_z_velocity</dd><dt><span>long_name :</span></dt><dd>Vertical Component of Velocity</dd><dt><span>units :</span></dt><dd>m s-1</dd></dl></div><div class='xr-var-data'><pre>[223948800 values with dtype=float32]</pre></div></li><li class='xr-var-item'><div class='xr-var-name'><span>Salt</span></div><div class='xr-var-dims'>(j, i)</div><div class='xr-var-dtype'>float32</div><div class='xr-var-preview xr-preview'>...</div><input id='attrs-b788c696-286f-4b89-876d-e00d94b13709' class='xr-var-attrs-in' type='checkbox' ><label for='attrs-b788c696-286f-4b89-876d-e00d94b13709' title='Show/Hide attributes'><svg class='icon xr-icon-file-text2'><use xlink:href='#icon-file-text2'></use></svg></label><input id='data-b8c6328c-8017-4246-8775-d7d6a07ca11e' class='xr-var-data-in' type='checkbox'><label for='data-b8c6328c-8017-4246-8775-d7d6a07ca11e' title='Show/Hide data repr'><svg class='icon xr-icon-database'><use xlink:href='#icon-database'></use></svg></label><div class='xr-var-attrs'><dl class='xr-attrs'><dt><span>standard_name :</span></dt><dd>SALT</dd><dt><span>long_name :</span></dt><dd>Salinity</dd><dt><span>units :</span></dt><dd>psu</dd></dl></div><div class='xr-var-data'><pre>[223948800 values with dtype=float32]</pre></div></li></ul></div></li><li class='xr-section-item'><input id='section-61a51ca1-6586-4253-9cf2-2d487b39d1eb' class='xr-section-summary-in' type='checkbox' disabled ><label for='section-61a51ca1-6586-4253-9cf2-2d487b39d1eb' class='xr-section-summary'  title='Expand/collapse section'>Attributes: <span>(0)</span></label><div class='xr-section-inline-details'></div><div class='xr-section-details'><dl class='xr-attrs'></dl></div></li></ul></div></div>"
      ],
      "text/plain": [
       "<xarray.Dataset>\n",
       "Dimensions:  (i: 17280, i_g: 17280, j: 12960, j_g: 12960, k_l: 1)\n",
       "Coordinates:\n",
       "  * i        (i) int64 0 1 2 3 4 5 6 ... 17274 17275 17276 17277 17278 17279\n",
       "  * i_g      (i_g) int64 0 1 2 3 4 5 6 ... 17274 17275 17276 17277 17278 17279\n",
       "  * j        (j) int64 0 1 2 3 4 5 6 ... 12954 12955 12956 12957 12958 12959\n",
       "  * j_g      (j_g) int64 0 1 2 3 4 5 6 ... 12954 12955 12956 12957 12958 12959\n",
       "Dimensions without coordinates: k_l\n",
       "Data variables:\n",
       "    Theta    (j, i) float32 ...\n",
       "    U        (j, i_g) float32 ...\n",
       "    V        (j_g, i) float32 ...\n",
       "    W        (k_l, j, i) float32 ...\n",
       "    Salt     (j, i) float32 ..."
      ]
     },
     "execution_count": 5,
     "metadata": {},
     "output_type": "execute_result"
    }
   ],
   "source": [
    "local_file = os.path.join(os.getenv('LLC_DATA'), \n",
    "                          'ThetaUVSalt', os.path.basename(cutout.LLC_file))\n",
    "ds = xarray.open_dataset(local_file)\n",
    "ds"
   ]
  },
  {
   "cell_type": "code",
   "execution_count": 6,
   "id": "1c87ca9a-bece-4a25-a241-6e42b2c78306",
   "metadata": {},
   "outputs": [
    {
     "data": {
      "text/plain": [
       "34.275"
      ]
     },
     "execution_count": 6,
     "metadata": {},
     "output_type": "execute_result"
    }
   ],
   "source": [
    "salt = ds.Salt.values\n",
    "np.median(salt[np.isfinite(salt)])"
   ]
  },
  {
   "cell_type": "markdown",
   "id": "23f62d7f-bcd8-4f9a-aea1-eab2b1537128",
   "metadata": {},
   "source": [
    "## Calculate "
   ]
  },
  {
   "cell_type": "code",
   "execution_count": 7,
   "id": "fc9d390a-029f-4f31-b8e4-002482d77cf7",
   "metadata": {},
   "outputs": [],
   "source": [
    "global_rho = density.rho(salt, ds.Theta.values, np.zeros_like(salt))"
   ]
  },
  {
   "cell_type": "markdown",
   "id": "3a005672-97cb-4fab-be76-33d61e88bcce",
   "metadata": {},
   "source": [
    "## Show cutout"
   ]
  },
  {
   "cell_type": "markdown",
   "id": "8e779615-08fc-4ca1-b2cc-70cd2097d091",
   "metadata": {},
   "source": [
    "### SST"
   ]
  },
  {
   "cell_type": "code",
   "execution_count": 8,
   "id": "fbec21aa-d7f9-40ec-a623-e56c04af8f44",
   "metadata": {},
   "outputs": [],
   "source": [
    "SST_cutout = ds.Theta[cutout.row:cutout.row+cutout.field_size, \n",
    "                cutout.col:cutout.col+cutout.field_size]"
   ]
  },
  {
   "cell_type": "code",
   "execution_count": 10,
   "id": "8f62d71a-51be-42fa-b9e7-283f797d1526",
   "metadata": {},
   "outputs": [
    {
     "data": {
      "image/png": "[encoded data removed]",
      "text/plain": [
       "<Figure size 432x288 with 2 Axes>"
      ]
     },
     "metadata": {
      "needs_background": "light"
     },
     "output_type": "display_data"
    }
   ],
   "source": [
    "reload(plotting)\n",
    "ax = plotting.show_image(SST_cutout, set_aspect='equal')"
   ]
  },
  {
   "cell_type": "markdown",
   "id": "f7b3d4ab-05f8-4fc4-8756-e3729c4a20ba",
   "metadata": {},
   "source": [
    "### Salinity"
   ]
  },
  {
   "cell_type": "code",
   "execution_count": 11,
   "id": "a2abd853-c3f6-4f73-836a-7a86ecbbc3d5",
   "metadata": {},
   "outputs": [],
   "source": [
    "salt_cutout = ds.Salt[cutout.row:cutout.row+cutout.field_size, \n",
    "                cutout.col:cutout.col+cutout.field_size]"
   ]
  },
  {
   "cell_type": "code",
   "execution_count": 12,
   "id": "91dde2c1-2dc2-432a-8d4f-62268c991244",
   "metadata": {},
   "outputs": [
    {
     "data": {
      "image/png": "[encoded data removed]",
      "text/plain": [
       "<Figure size 432x288 with 2 Axes>"
      ]
     },
     "metadata": {
      "needs_background": "light"
     },
     "output_type": "display_data"
    }
   ],
   "source": [
    "_ = plotting.show_image(salt_cutout, cm='Greens', set_aspect='equal')"
   ]
  },
  {
   "cell_type": "markdown",
   "id": "f1ad95b6-6023-4712-9c65-d10fb088f307",
   "metadata": {},
   "source": [
    "### Density"
   ]
  },
  {
   "cell_type": "code",
   "execution_count": 13,
   "id": "9e9d031c-658b-4188-ad75-1d1d0b67a8fa",
   "metadata": {},
   "outputs": [],
   "source": [
    "rho_cutout = global_rho[cutout.row:cutout.row+cutout.field_size, \n",
    "                cutout.col:cutout.col+cutout.field_size]"
   ]
  },
  {
   "cell_type": "code",
   "execution_count": 14,
   "id": "349a00aa-7d52-459c-9d85-251751b296eb",
   "metadata": {},
   "outputs": [
    {
     "data": {
      "image/png": "[encoded data removed]",
      "text/plain": [
       "<Figure size 432x288 with 2 Axes>"
      ]
     },
     "metadata": {
      "needs_background": "light"
     },
     "output_type": "display_data"
    }
   ],
   "source": [
    "_ = plotting.show_image(rho_cutout, cm='Blues', set_aspect='equal')"
   ]
  },
  {
   "cell_type": "markdown",
   "id": "1720c120-87d7-4447-9ed2-632b3018afc6",
   "metadata": {},
   "source": [
    "# Gradients on Density"
   ]
  },
  {
   "cell_type": "code",
   "execution_count": 15,
   "id": "c9a40fc0-f036-4598-a5bc-77e5ca336d26",
   "metadata": {},
   "outputs": [],
   "source": [
    "ref_rho = 1."
   ]
  },
  {
   "cell_type": "markdown",
   "id": "101d876c-ee1f-45a2-88a2-488f076bd455",
   "metadata": {},
   "source": [
    "## $\\partial_x b$"
   ]
  },
  {
   "cell_type": "code",
   "execution_count": 22,
   "id": "c6c58f30-25c6-4225-afa7-69b14b578256",
   "metadata": {},
   "outputs": [],
   "source": [
    "dbdx = -1*np.gradient(rho_cutout/ref_rho, axis=1)"
   ]
  },
  {
   "cell_type": "markdown",
   "id": "eb248ff2-8e1a-4625-85ff-bf00a0a17c47",
   "metadata": {},
   "source": [
    "## $\\partial_y b$"
   ]
  },
  {
   "cell_type": "code",
   "execution_count": 23,
   "id": "60643f98-c10c-4ec5-9355-c13dbdac92ec",
   "metadata": {},
   "outputs": [],
   "source": [
    "dbdy = -1*np.gradient(rho_cutout/ref_rho, axis=0)"
   ]
  },
  {
   "cell_type": "markdown",
   "id": "53c8f238-4044-4aca-b66b-ccca3a75815f",
   "metadata": {},
   "source": [
    "# Current gradients"
   ]
  },
  {
   "cell_type": "markdown",
   "id": "8ae59e09-30c3-430c-bad6-2dc951b90519",
   "metadata": {},
   "source": [
    "## Cutouts"
   ]
  },
  {
   "cell_type": "code",
   "execution_count": 50,
   "id": "e9c44104-b3a8-46d5-a3e1-27ba3b238081",
   "metadata": {},
   "outputs": [],
   "source": [
    "U_cutout = ds.U[cutout.row:cutout.row+cutout.field_size, \n",
    "                cutout.col:cutout.col+cutout.field_size]\n",
    "V_cutout = ds.V[cutout.row:cutout.row+cutout.field_size, \n",
    "                cutout.col:cutout.col+cutout.field_size]\n",
    "W_cutout = ds.W[0, cutout.row:cutout.row+cutout.field_size, \n",
    "                cutout.col:cutout.col+cutout.field_size]"
   ]
  },
  {
   "cell_type": "code",
   "execution_count": 51,
   "id": "b1b9d8fa-93d1-42be-a023-1f640f343c8b",
   "metadata": {},
   "outputs": [
    {
     "data": {
      "text/plain": [
       "(64, 64)"
      ]
     },
     "execution_count": 51,
     "metadata": {},
     "output_type": "execute_result"
    }
   ],
   "source": [
    "W_cutout.shape"
   ]
  },
  {
   "cell_type": "markdown",
   "id": "cc81ec6e-0ed3-424d-a19b-9cb37b549c2b",
   "metadata": {},
   "source": [
    "## Gradients"
   ]
  },
  {
   "cell_type": "code",
   "execution_count": 25,
   "id": "438c02b2-2295-4495-bf1e-ecef2e51e944",
   "metadata": {},
   "outputs": [],
   "source": [
    "dUdx = np.gradient(U_cutout, axis=1)\n",
    "dVdx = np.gradient(V_cutout, axis=1)\n",
    "#\n",
    "dUdy = np.gradient(U_cutout, axis=0)\n",
    "dVdy = np.gradient(V_cutout, axis=0)"
   ]
  },
  {
   "cell_type": "markdown",
   "id": "62c623d4-bcfe-4d44-95b2-2b7f0314f22d",
   "metadata": {},
   "source": [
    "### Plot a few"
   ]
  },
  {
   "cell_type": "markdown",
   "id": "82ad2141-5bd9-4964-a99c-42946e3b1c68",
   "metadata": {},
   "source": [
    "#### $\\partial_x b$"
   ]
  },
  {
   "cell_type": "code",
   "execution_count": 26,
   "id": "6f250e15-f13e-4854-8c06-908b704967a0",
   "metadata": {},
   "outputs": [
    {
     "data": {
      "image/png": "[encoded data removed]",
      "text/plain": [
       "<Figure size 432x288 with 2 Axes>"
      ]
     },
     "metadata": {
      "needs_background": "light"
     },
     "output_type": "display_data"
    }
   ],
   "source": [
    "_ = plotting.show_image(dbdx, set_aspect='equal')"
   ]
  },
  {
   "cell_type": "markdown",
   "id": "3ddd672a-dc85-4015-b5f3-61f6ccd39b54",
   "metadata": {},
   "source": [
    "#### $\\partial_y b$"
   ]
  },
  {
   "cell_type": "code",
   "execution_count": 27,
   "id": "e136f5f0-a6e3-421e-bb3f-a4b5ac38a5d9",
   "metadata": {},
   "outputs": [
    {
     "data": {
      "image/png": "[encoded data removed]",
      "text/plain": [
       "<Figure size 432x288 with 2 Axes>"
      ]
     },
     "metadata": {
      "needs_background": "light"
     },
     "output_type": "display_data"
    }
   ],
   "source": [
    "_ = plotting.show_image(dbdy, set_aspect='equal')"
   ]
  },
  {
   "cell_type": "markdown",
   "id": "874083f2-6146-4d1b-acc2-fd1d052687f0",
   "metadata": {},
   "source": [
    "### $U$"
   ]
  },
  {
   "cell_type": "code",
   "execution_count": 42,
   "id": "854889eb-2108-40ed-b729-c7d1c5a734be",
   "metadata": {},
   "outputs": [
    {
     "data": {
      "image/png": "[encoded data removed]",
      "text/plain": [
       "<Figure size 432x288 with 2 Axes>"
      ]
     },
     "metadata": {
      "needs_background": "light"
     },
     "output_type": "display_data"
    }
   ],
   "source": [
    "_ = plotting.show_image(U_cutout, set_aspect='equal', cm='seismic', vmnx=(-1.8,1.8))"
   ]
  },
  {
   "cell_type": "markdown",
   "id": "2d7157cd-57fc-48e0-b010-4a566185153e",
   "metadata": {},
   "source": [
    "### $V$"
   ]
  },
  {
   "cell_type": "code",
   "execution_count": 45,
   "id": "f8c9838b-47f7-4597-a004-a33c72096b6e",
   "metadata": {},
   "outputs": [
    {
     "data": {
      "image/png": "[encoded data removed]",
      "text/plain": [
       "<Figure size 432x288 with 2 Axes>"
      ]
     },
     "metadata": {
      "needs_background": "light"
     },
     "output_type": "display_data"
    }
   ],
   "source": [
    "_ = plotting.show_image(V_cutout, set_aspect='equal', cm='seismic', vmnx=(-1,1))"
   ]
  },
  {
   "cell_type": "markdown",
   "id": "39406116-74a4-4c2e-a805-a1ae6cef7c54",
   "metadata": {},
   "source": [
    "### $W$"
   ]
  },
  {
   "cell_type": "code",
   "execution_count": 55,
   "id": "ca06db7f-9855-40a0-9e69-c25c016c4cb5",
   "metadata": {},
   "outputs": [
    {
     "data": {
      "image/png": "[encoded data removed]",
      "text/plain": [
       "<Figure size 432x288 with 2 Axes>"
      ]
     },
     "metadata": {
      "needs_background": "light"
     },
     "output_type": "display_data"
    }
   ],
   "source": [
    "_ = plotting.show_image(W_cutout, set_aspect='equal', cm='seismic')#, vmnx=(-0.0003,0.0003))"
   ]
  },
  {
   "cell_type": "markdown",
   "id": "ca110ba6-0dce-49d2-9cfe-8e6b499cb1bd",
   "metadata": {},
   "source": [
    "### $U_y$"
   ]
  },
  {
   "cell_type": "code",
   "execution_count": 44,
   "id": "8052541e-17c2-46ca-885a-0cfc5b3b6e84",
   "metadata": {},
   "outputs": [
    {
     "data": {
      "image/png": "[encoded data removed]",
      "text/plain": [
       "<Figure size 432x288 with 2 Axes>"
      ]
     },
     "metadata": {
      "needs_background": "light"
     },
     "output_type": "display_data"
    }
   ],
   "source": [
    "_ = plotting.show_image(dUdy, set_aspect='equal', vmnx=(-0.25,0.25), cm='seismic')"
   ]
  },
  {
   "cell_type": "markdown",
   "id": "b4e944c0-ef7b-4cb3-a58a-fe9233e21f3a",
   "metadata": {},
   "source": [
    "#### $Q_x$"
   ]
  },
  {
   "cell_type": "code",
   "execution_count": 31,
   "id": "aa5c941e-6363-48e6-8d63-5cbb82fc1b58",
   "metadata": {},
   "outputs": [
    {
     "data": {
      "image/png": "[encoded data removed]",
      "text/plain": [
       "<Figure size 432x288 with 2 Axes>"
      ]
     },
     "metadata": {
      "needs_background": "light"
     },
     "output_type": "display_data"
    }
   ],
   "source": [
    "Qx = dUdx*dbdx + dVdx*dbdy\n",
    "_ = plotting.show_image(Qx, set_aspect='equal')"
   ]
  },
  {
   "cell_type": "code",
   "execution_count": 33,
   "id": "777655aa-d17e-418d-88ef-1ac443cd423a",
   "metadata": {},
   "outputs": [
    {
     "data": {
      "image/png": "[encoded data removed]",
      "text/plain": [
       "<Figure size 432x288 with 2 Axes>"
      ]
     },
     "metadata": {
      "needs_background": "light"
     },
     "output_type": "display_data"
    }
   ],
   "source": [
    "Qy = dUdy*dbdx + dVdy*dbdy\n",
    "_ = plotting.show_image(Qy, set_aspect='equal')"
   ]
  },
  {
   "cell_type": "markdown",
   "id": "8d2b6ebf-b2ce-405c-afc3-aa38953312ff",
   "metadata": {},
   "source": [
    "# $F_s$: Frontogenesis forcing"
   ]
  },
  {
   "cell_type": "markdown",
   "id": "28e5ebbf-fa19-4431-a95e-3bb7aeb0420e",
   "metadata": {},
   "source": [
    "## Calculate"
   ]
  },
  {
   "cell_type": "code",
   "execution_count": 28,
   "id": "86f1aec0-c872-4c14-a75e-554ab5686b56",
   "metadata": {},
   "outputs": [],
   "source": [
    "F_S_x = -1 * (dUdx*dbdx + dVdx*dbdy) * dbdx \n",
    "F_S_y = -1 * (dUdy*dbdx + dVdy*dbdy) * dbdy "
   ]
  },
  {
   "cell_type": "code",
   "execution_count": 29,
   "id": "9ac23906-8779-4f27-a72a-07c2f124d6db",
   "metadata": {},
   "outputs": [],
   "source": [
    "F_S = F_S_x + F_S_y"
   ]
  },
  {
   "cell_type": "markdown",
   "id": "71063e14-9ab5-439e-b6cc-49840bbf026e",
   "metadata": {},
   "source": [
    "## Show"
   ]
  },
  {
   "cell_type": "code",
   "execution_count": 46,
   "id": "974c0365-0505-4970-a318-024e01af089b",
   "metadata": {},
   "outputs": [
    {
     "data": {
      "image/png": "[encoded data removed]",
      "text/plain": [
       "<Figure size 432x288 with 2 Axes>"
      ]
     },
     "metadata": {
      "needs_background": "light"
     },
     "output_type": "display_data"
    }
   ],
   "source": [
    "_ = plotting.show_image(F_S, cm='seismic', vmnx=(-0.005, 0.005), set_aspect='equal')"
   ]
  },
  {
   "cell_type": "code",
   "execution_count": 56,
   "id": "a2612f7d-5a20-404d-a04b-31483f9b5642",
   "metadata": {},
   "outputs": [
    {
     "data": {
      "image/png": "[encoded data removed]",
      "text/plain": [
       "<Figure size 432x288 with 2 Axes>"
      ]
     },
     "metadata": {
      "needs_background": "light"
     },
     "output_type": "display_data"
    }
   ],
   "source": [
    "_ = plotting.show_image(W_cutout, set_aspect='equal', cm='seismic')#, vmnx=(-0.0003,0.0003))"
   ]
  },
  {
   "cell_type": "markdown",
   "id": "c6db8451-3727-48a2-9df5-3ccec9bc738c",
   "metadata": {},
   "source": [
    "----"
   ]
  },
  {
   "cell_type": "markdown",
   "id": "717010de-3d4b-47f6-9ff2-f9dbd0171553",
   "metadata": {},
   "source": [
    "# Simple test -- I hope"
   ]
  },
  {
   "cell_type": "code",
   "execution_count": 5,
   "id": "fb917ca2-8843-42d9-b9aa-c27853b0efd4",
   "metadata": {},
   "outputs": [
    {
     "data": {
      "text/plain": [
       "1024.6396354289575"
      ]
     },
     "execution_count": 5,
     "metadata": {},
     "output_type": "execute_result"
    }
   ],
   "source": [
    "rho = density.rho(35., 20., 0.)\n",
    "rho"
   ]
  },
  {
   "cell_type": "code",
   "execution_count": null,
   "id": "7793729b-d1e9-4da1-bc03-68c4cbdf662f",
   "metadata": {},
   "outputs": [],
   "source": []
  }
 ],
 "metadata": {
  "kernelspec": {
   "display_name": "Python 3 (ipykernel)",
   "language": "python",
   "name": "python3"
  },
  "language_info": {
   "codemirror_mode": {
    "name": "ipython",
    "version": 3
   },
   "file_extension": ".py",
   "mimetype": "text/x-python",
   "name": "python",
   "nbconvert_exporter": "python",
   "pygments_lexer": "ipython3",
   "version": "3.9.9"
  }
 },
 "nbformat": 4,
 "nbformat_minor": 5
}
