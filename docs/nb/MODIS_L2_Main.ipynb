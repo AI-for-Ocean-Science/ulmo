{
 "cells": [
  {
   "cell_type": "markdown",
   "metadata": {},
   "source": [
    "# MODIS L2 Main table"
   ]
  },
  {
   "cell_type": "code",
   "execution_count": 1,
   "metadata": {},
   "outputs": [],
   "source": [
    "# imports\n",
    "from importlib import reload\n",
    "\n",
    "import os\n",
    "import numpy as np\n",
    "\n",
    "import pandas\n",
    "import xarray\n",
    "import h5py\n",
    "\n",
    "import torch\n",
    "from tqdm.auto import tqdm\n",
    "\n",
    "from matplotlib import pyplot as plt\n",
    "import seaborn as sns\n",
    "\n",
    "from ulmo import io as ulmo_io\n",
    "from ulmo import plotting\n",
    "from ulmo.llc import io as llc_io\n",
    "from ulmo.models import io as model_io\n",
    "from ulmo.modis import io as modis_io\n",
    "from ulmo.modis import analysis as analysis"
   ]
  },
  {
   "cell_type": "code",
   "execution_count": 2,
   "metadata": {},
   "outputs": [
    {
     "data": {
      "text/plain": [
       "'https://s3.nautilus.optiputer.net'"
      ]
     },
     "execution_count": 2,
     "metadata": {},
     "output_type": "execute_result"
    }
   ],
   "source": [
    "os.environ['ENDPOINT_URL']"
   ]
  },
  {
   "cell_type": "markdown",
   "metadata": {},
   "source": [
    "# Load files"
   ]
  },
  {
   "cell_type": "markdown",
   "metadata": {},
   "source": [
    "## Main"
   ]
  },
  {
   "cell_type": "code",
   "execution_count": 3,
   "metadata": {},
   "outputs": [],
   "source": [
    "#tbl_file = 's3://modis-l2/Tables/MODIS_L2_std.feather' # A bit slow via s3\n",
    "tbl_file = os.path.join(os.getenv('SST_OOD'), 'MODIS_L2', 'Tables', 'MODIS_L2_std.feather')"
   ]
  },
  {
   "cell_type": "code",
   "execution_count": 4,
   "metadata": {},
   "outputs": [
    {
     "name": "stdout",
     "output_type": "stream",
     "text": [
      "Read main table: /home/xavier/Projects/Oceanography/AI/OOD/MODIS_L2/Tables/MODIS_L2_std.feather\n"
     ]
    }
   ],
   "source": [
    "modisl2_table = ulmo_io.load_main_table(tbl_file)"
   ]
  },
  {
   "cell_type": "code",
   "execution_count": 5,
   "metadata": {},
   "outputs": [
    {
     "data": {
      "text/html": [
       "<div>\n",
       "<style scoped>\n",
       "    .dataframe tbody tr th:only-of-type {\n",
       "        vertical-align: middle;\n",
       "    }\n",
       "\n",
       "    .dataframe tbody tr th {\n",
       "        vertical-align: top;\n",
       "    }\n",
       "\n",
       "    .dataframe thead th {\n",
       "        text-align: right;\n",
       "    }\n",
       "</style>\n",
       "<table border=\"1\" class=\"dataframe\">\n",
       "  <thead>\n",
       "    <tr style=\"text-align: right;\">\n",
       "      <th></th>\n",
       "      <th>lat</th>\n",
       "      <th>lon</th>\n",
       "      <th>col</th>\n",
       "      <th>datetime</th>\n",
       "      <th>LL</th>\n",
       "      <th>row</th>\n",
       "      <th>clear_fraction</th>\n",
       "      <th>mean_temperature</th>\n",
       "      <th>Tmin</th>\n",
       "      <th>Tmax</th>\n",
       "      <th>T90</th>\n",
       "      <th>T10</th>\n",
       "      <th>filename</th>\n",
       "      <th>UID</th>\n",
       "      <th>pp_file</th>\n",
       "      <th>pp_root</th>\n",
       "      <th>field_size</th>\n",
       "      <th>pp_type</th>\n",
       "      <th>pp_idx</th>\n",
       "    </tr>\n",
       "  </thead>\n",
       "  <tbody>\n",
       "    <tr>\n",
       "      <th>0</th>\n",
       "      <td>13.980967</td>\n",
       "      <td>62.675774</td>\n",
       "      <td>517</td>\n",
       "      <td>2003-03-10 21:25:00</td>\n",
       "      <td>520.17883</td>\n",
       "      <td>304</td>\n",
       "      <td>0.000000</td>\n",
       "      <td>26.199476</td>\n",
       "      <td>25.250000</td>\n",
       "      <td>26.885000</td>\n",
       "      <td>26.474998</td>\n",
       "      <td>25.814999</td>\n",
       "      <td>AQUA_MODIS.20030310T212506.L2.SST.nc</td>\n",
       "      <td>1047103981024267577</td>\n",
       "      <td>s3://modis-l2/PreProc/MODIS_R2019_2003_95clear...</td>\n",
       "      <td>standard</td>\n",
       "      <td>128</td>\n",
       "      <td>0</td>\n",
       "      <td>0</td>\n",
       "    </tr>\n",
       "    <tr>\n",
       "      <th>1</th>\n",
       "      <td>13.043748</td>\n",
       "      <td>-102.751816</td>\n",
       "      <td>706</td>\n",
       "      <td>2003-12-12 08:30:00</td>\n",
       "      <td>432.76752</td>\n",
       "      <td>1696</td>\n",
       "      <td>0.049805</td>\n",
       "      <td>28.924648</td>\n",
       "      <td>27.789999</td>\n",
       "      <td>29.654999</td>\n",
       "      <td>29.154999</td>\n",
       "      <td>28.695000</td>\n",
       "      <td>AQUA_MODIS.20031212T083006.L2.SST.nc</td>\n",
       "      <td>107110304377724818</td>\n",
       "      <td>s3://modis-l2/PreProc/MODIS_R2019_2003_95clear...</td>\n",
       "      <td>standard</td>\n",
       "      <td>128</td>\n",
       "      <td>0</td>\n",
       "      <td>1</td>\n",
       "    </tr>\n",
       "    <tr>\n",
       "      <th>2</th>\n",
       "      <td>-18.086618</td>\n",
       "      <td>40.844833</td>\n",
       "      <td>581</td>\n",
       "      <td>2003-09-24 22:35:00</td>\n",
       "      <td>764.41455</td>\n",
       "      <td>656</td>\n",
       "      <td>0.006104</td>\n",
       "      <td>25.551611</td>\n",
       "      <td>24.775000</td>\n",
       "      <td>26.154999</td>\n",
       "      <td>25.750000</td>\n",
       "      <td>25.344999</td>\n",
       "      <td>AQUA_MODIS.20030924T223506.L2.SST.nc</td>\n",
       "      <td>106471913422084483</td>\n",
       "      <td>s3://modis-l2/PreProc/MODIS_R2019_2003_95clear...</td>\n",
       "      <td>standard</td>\n",
       "      <td>128</td>\n",
       "      <td>0</td>\n",
       "      <td>2</td>\n",
       "    </tr>\n",
       "    <tr>\n",
       "      <th>3</th>\n",
       "      <td>39.071575</td>\n",
       "      <td>18.569141</td>\n",
       "      <td>1028</td>\n",
       "      <td>2003-05-01 01:05:00</td>\n",
       "      <td>371.31050</td>\n",
       "      <td>898</td>\n",
       "      <td>0.049988</td>\n",
       "      <td>16.414951</td>\n",
       "      <td>15.160000</td>\n",
       "      <td>17.205000</td>\n",
       "      <td>16.725000</td>\n",
       "      <td>16.080000</td>\n",
       "      <td>AQUA_MODIS.20030501T010506.L2.SST.nc</td>\n",
       "      <td>1051129071619856914</td>\n",
       "      <td>s3://modis-l2/PreProc/MODIS_R2019_2003_95clear...</td>\n",
       "      <td>standard</td>\n",
       "      <td>128</td>\n",
       "      <td>0</td>\n",
       "      <td>3</td>\n",
       "    </tr>\n",
       "    <tr>\n",
       "      <th>4</th>\n",
       "      <td>17.901926</td>\n",
       "      <td>90.155480</td>\n",
       "      <td>997</td>\n",
       "      <td>2003-12-05 19:55:00</td>\n",
       "      <td>-214.75934</td>\n",
       "      <td>1520</td>\n",
       "      <td>0.035461</td>\n",
       "      <td>26.744499</td>\n",
       "      <td>24.975000</td>\n",
       "      <td>28.724998</td>\n",
       "      <td>27.824999</td>\n",
       "      <td>25.830000</td>\n",
       "      <td>AQUA_MODIS.20031205T195506.L2.SST.nc</td>\n",
       "      <td>1070107901927015548</td>\n",
       "      <td>s3://modis-l2/PreProc/MODIS_R2019_2003_95clear...</td>\n",
       "      <td>standard</td>\n",
       "      <td>128</td>\n",
       "      <td>0</td>\n",
       "      <td>4</td>\n",
       "    </tr>\n",
       "  </tbody>\n",
       "</table>\n",
       "</div>"
      ],
      "text/plain": [
       "         lat         lon   col            datetime         LL   row  \\\n",
       "0  13.980967   62.675774   517 2003-03-10 21:25:00  520.17883   304   \n",
       "1  13.043748 -102.751816   706 2003-12-12 08:30:00  432.76752  1696   \n",
       "2 -18.086618   40.844833   581 2003-09-24 22:35:00  764.41455   656   \n",
       "3  39.071575   18.569141  1028 2003-05-01 01:05:00  371.31050   898   \n",
       "4  17.901926   90.155480   997 2003-12-05 19:55:00 -214.75934  1520   \n",
       "\n",
       "   clear_fraction  mean_temperature       Tmin       Tmax        T90  \\\n",
       "0        0.000000         26.199476  25.250000  26.885000  26.474998   \n",
       "1        0.049805         28.924648  27.789999  29.654999  29.154999   \n",
       "2        0.006104         25.551611  24.775000  26.154999  25.750000   \n",
       "3        0.049988         16.414951  15.160000  17.205000  16.725000   \n",
       "4        0.035461         26.744499  24.975000  28.724998  27.824999   \n",
       "\n",
       "         T10                              filename                  UID  \\\n",
       "0  25.814999  AQUA_MODIS.20030310T212506.L2.SST.nc  1047103981024267577   \n",
       "1  28.695000  AQUA_MODIS.20031212T083006.L2.SST.nc   107110304377724818   \n",
       "2  25.344999  AQUA_MODIS.20030924T223506.L2.SST.nc   106471913422084483   \n",
       "3  16.080000  AQUA_MODIS.20030501T010506.L2.SST.nc  1051129071619856914   \n",
       "4  25.830000  AQUA_MODIS.20031205T195506.L2.SST.nc  1070107901927015548   \n",
       "\n",
       "                                             pp_file   pp_root  field_size  \\\n",
       "0  s3://modis-l2/PreProc/MODIS_R2019_2003_95clear...  standard         128   \n",
       "1  s3://modis-l2/PreProc/MODIS_R2019_2003_95clear...  standard         128   \n",
       "2  s3://modis-l2/PreProc/MODIS_R2019_2003_95clear...  standard         128   \n",
       "3  s3://modis-l2/PreProc/MODIS_R2019_2003_95clear...  standard         128   \n",
       "4  s3://modis-l2/PreProc/MODIS_R2019_2003_95clear...  standard         128   \n",
       "\n",
       "   pp_type  pp_idx  \n",
       "0        0       0  \n",
       "1        0       1  \n",
       "2        0       2  \n",
       "3        0       3  \n",
       "4        0       4  "
      ]
     },
     "execution_count": 5,
     "metadata": {},
     "output_type": "execute_result"
    }
   ],
   "source": [
    "modisl2_table.head()"
   ]
  },
  {
   "cell_type": "markdown",
   "metadata": {},
   "source": [
    "## LL "
   ]
  },
  {
   "cell_type": "code",
   "execution_count": 6,
   "metadata": {},
   "outputs": [],
   "source": [
    "tst_file = 's3://modis-l2/Evaluations/R2010_on_2019_95clear_128x128_preproc_std_log_prob.h5'\n",
    "#tst_file = os.path.join(os.getenv('SST_OOD'))'/data/Projects/Oceanography/AI/OOD/SST/MODIS_L2/Evaluations/R2010_on_2019_95clear_128x128_preproc_std_log_prob.h5'"
   ]
  },
  {
   "cell_type": "code",
   "execution_count": 7,
   "metadata": {},
   "outputs": [],
   "source": [
    "with ulmo_io.open(tst_file, 'rb') as f:\n",
    "    LL_hf = h5py.File(f, 'r')\n",
    "#LL_hf = h5py.File(tst_file, 'r')"
   ]
  },
  {
   "cell_type": "code",
   "execution_count": 8,
   "metadata": {},
   "outputs": [],
   "source": [
    "LL = LL_hf['valid'][:]"
   ]
  },
  {
   "cell_type": "markdown",
   "metadata": {},
   "source": [
    "# Check"
   ]
  },
  {
   "cell_type": "code",
   "execution_count": 14,
   "metadata": {},
   "outputs": [],
   "source": [
    "m2019 = modisl2_table.pp_file == 's3://modis-l2/PreProc/MODIS_R2019_2019_95clear_128x128_preproc_std.h5'"
   ]
  },
  {
   "cell_type": "code",
   "execution_count": 15,
   "metadata": {},
   "outputs": [
    {
     "data": {
      "text/plain": [
       "(751689, 751689)"
      ]
     },
     "execution_count": 15,
     "metadata": {},
     "output_type": "execute_result"
    }
   ],
   "source": [
    "np.sum(m2019), len(LL)"
   ]
  },
  {
   "cell_type": "code",
   "execution_count": 20,
   "metadata": {},
   "outputs": [
    {
     "data": {
      "text/html": [
       "<div>\n",
       "<style scoped>\n",
       "    .dataframe tbody tr th:only-of-type {\n",
       "        vertical-align: middle;\n",
       "    }\n",
       "\n",
       "    .dataframe tbody tr th {\n",
       "        vertical-align: top;\n",
       "    }\n",
       "\n",
       "    .dataframe thead th {\n",
       "        text-align: right;\n",
       "    }\n",
       "</style>\n",
       "<table border=\"1\" class=\"dataframe\">\n",
       "  <thead>\n",
       "    <tr style=\"text-align: right;\">\n",
       "      <th></th>\n",
       "      <th>LL</th>\n",
       "      <th>pp_idx</th>\n",
       "      <th>pp_file</th>\n",
       "    </tr>\n",
       "  </thead>\n",
       "  <tbody>\n",
       "    <tr>\n",
       "      <th>11606360</th>\n",
       "      <td>123.881836</td>\n",
       "      <td>0</td>\n",
       "      <td>s3://modis-l2/PreProc/MODIS_R2019_2019_95clear...</td>\n",
       "    </tr>\n",
       "    <tr>\n",
       "      <th>11606361</th>\n",
       "      <td>419.498960</td>\n",
       "      <td>1</td>\n",
       "      <td>s3://modis-l2/PreProc/MODIS_R2019_2019_95clear...</td>\n",
       "    </tr>\n",
       "    <tr>\n",
       "      <th>11606362</th>\n",
       "      <td>-137.232000</td>\n",
       "      <td>2</td>\n",
       "      <td>s3://modis-l2/PreProc/MODIS_R2019_2019_95clear...</td>\n",
       "    </tr>\n",
       "    <tr>\n",
       "      <th>11606363</th>\n",
       "      <td>90.181210</td>\n",
       "      <td>3</td>\n",
       "      <td>s3://modis-l2/PreProc/MODIS_R2019_2019_95clear...</td>\n",
       "    </tr>\n",
       "    <tr>\n",
       "      <th>11606364</th>\n",
       "      <td>173.312500</td>\n",
       "      <td>4</td>\n",
       "      <td>s3://modis-l2/PreProc/MODIS_R2019_2019_95clear...</td>\n",
       "    </tr>\n",
       "    <tr>\n",
       "      <th>11606365</th>\n",
       "      <td>261.034670</td>\n",
       "      <td>5</td>\n",
       "      <td>s3://modis-l2/PreProc/MODIS_R2019_2019_95clear...</td>\n",
       "    </tr>\n",
       "    <tr>\n",
       "      <th>11606366</th>\n",
       "      <td>178.476320</td>\n",
       "      <td>6</td>\n",
       "      <td>s3://modis-l2/PreProc/MODIS_R2019_2019_95clear...</td>\n",
       "    </tr>\n",
       "    <tr>\n",
       "      <th>11606367</th>\n",
       "      <td>368.726070</td>\n",
       "      <td>7</td>\n",
       "      <td>s3://modis-l2/PreProc/MODIS_R2019_2019_95clear...</td>\n",
       "    </tr>\n",
       "    <tr>\n",
       "      <th>11606368</th>\n",
       "      <td>480.007450</td>\n",
       "      <td>8</td>\n",
       "      <td>s3://modis-l2/PreProc/MODIS_R2019_2019_95clear...</td>\n",
       "    </tr>\n",
       "    <tr>\n",
       "      <th>11606369</th>\n",
       "      <td>482.849800</td>\n",
       "      <td>9</td>\n",
       "      <td>s3://modis-l2/PreProc/MODIS_R2019_2019_95clear...</td>\n",
       "    </tr>\n",
       "  </tbody>\n",
       "</table>\n",
       "</div>"
      ],
      "text/plain": [
       "                  LL  pp_idx  \\\n",
       "11606360  123.881836       0   \n",
       "11606361  419.498960       1   \n",
       "11606362 -137.232000       2   \n",
       "11606363   90.181210       3   \n",
       "11606364  173.312500       4   \n",
       "11606365  261.034670       5   \n",
       "11606366  178.476320       6   \n",
       "11606367  368.726070       7   \n",
       "11606368  480.007450       8   \n",
       "11606369  482.849800       9   \n",
       "\n",
       "                                                    pp_file  \n",
       "11606360  s3://modis-l2/PreProc/MODIS_R2019_2019_95clear...  \n",
       "11606361  s3://modis-l2/PreProc/MODIS_R2019_2019_95clear...  \n",
       "11606362  s3://modis-l2/PreProc/MODIS_R2019_2019_95clear...  \n",
       "11606363  s3://modis-l2/PreProc/MODIS_R2019_2019_95clear...  \n",
       "11606364  s3://modis-l2/PreProc/MODIS_R2019_2019_95clear...  \n",
       "11606365  s3://modis-l2/PreProc/MODIS_R2019_2019_95clear...  \n",
       "11606366  s3://modis-l2/PreProc/MODIS_R2019_2019_95clear...  \n",
       "11606367  s3://modis-l2/PreProc/MODIS_R2019_2019_95clear...  \n",
       "11606368  s3://modis-l2/PreProc/MODIS_R2019_2019_95clear...  \n",
       "11606369  s3://modis-l2/PreProc/MODIS_R2019_2019_95clear...  "
      ]
     },
     "execution_count": 20,
     "metadata": {},
     "output_type": "execute_result"
    }
   ],
   "source": [
    "modisl2_table[m2019][['LL', 'pp_idx', 'pp_file']][0:10]"
   ]
  },
  {
   "cell_type": "code",
   "execution_count": 17,
   "metadata": {},
   "outputs": [
    {
     "data": {
      "text/plain": [
       "array([  11.026184,  297.4635  , -259.50958 ,  -56.750366,   51.403015,\n",
       "        151.22833 ,   68.953   ,  216.88129 ,  338.4807  ,  382.7505  ],\n",
       "      dtype=float32)"
      ]
     },
     "execution_count": 17,
     "metadata": {},
     "output_type": "execute_result"
    }
   ],
   "source": [
    "LL[:10]"
   ]
  },
  {
   "cell_type": "markdown",
   "metadata": {},
   "source": [
    "## PreProc"
   ]
  },
  {
   "cell_type": "code",
   "execution_count": 6,
   "metadata": {},
   "outputs": [],
   "source": [
    "pp_file = 's3://modis-l2/PreProc/MODIS_R2019_2019_95clear_128x128_preproc_std.h5'\n",
    "with ulmo_io.open(pp_file, 'rb') as f:\n",
    "    pp_hf = h5py.File(f, 'r')"
   ]
  },
  {
   "cell_type": "code",
   "execution_count": 7,
   "metadata": {},
   "outputs": [
    {
     "data": {
      "text/plain": [
       "<KeysViewHDF5 ['valid', 'valid_metadata']>"
      ]
     },
     "execution_count": 7,
     "metadata": {},
     "output_type": "execute_result"
    }
   ],
   "source": [
    "pp_hf.keys()"
   ]
  },
  {
   "cell_type": "code",
   "execution_count": 8,
   "metadata": {},
   "outputs": [],
   "source": [
    "meta = pp_hf['valid_metadata']\n",
    "df = pandas.DataFrame(meta[:].astype(np.unicode_), columns=meta.attrs['columns'])"
   ]
  },
  {
   "cell_type": "code",
   "execution_count": 9,
   "metadata": {},
   "outputs": [
    {
     "data": {
      "text/html": [
       "<div>\n",
       "<style scoped>\n",
       "    .dataframe tbody tr th:only-of-type {\n",
       "        vertical-align: middle;\n",
       "    }\n",
       "\n",
       "    .dataframe tbody tr th {\n",
       "        vertical-align: top;\n",
       "    }\n",
       "\n",
       "    .dataframe thead th {\n",
       "        text-align: right;\n",
       "    }\n",
       "</style>\n",
       "<table border=\"1\" class=\"dataframe\">\n",
       "  <thead>\n",
       "    <tr style=\"text-align: right;\">\n",
       "      <th></th>\n",
       "      <th>filename</th>\n",
       "      <th>row</th>\n",
       "      <th>column</th>\n",
       "      <th>latitude</th>\n",
       "      <th>longitude</th>\n",
       "      <th>clear_fraction</th>\n",
       "      <th>mean_temperature</th>\n",
       "      <th>Tmin</th>\n",
       "      <th>Tmax</th>\n",
       "      <th>T90</th>\n",
       "      <th>T10</th>\n",
       "    </tr>\n",
       "  </thead>\n",
       "  <tbody>\n",
       "    <tr>\n",
       "      <th>0</th>\n",
       "      <td>AQUA_MODIS.20190207T021000.L2.SST.nc</td>\n",
       "      <td>1232</td>\n",
       "      <td>837</td>\n",
       "      <td>-29.294142</td>\n",
       "      <td>-11.516745</td>\n",
       "      <td>0.0494384765625</td>\n",
       "      <td>25.6845760345459</td>\n",
       "      <td>22.46500015258789</td>\n",
       "      <td>26.674999237060547</td>\n",
       "      <td>26.084999084472656</td>\n",
       "      <td>25.229999542236328</td>\n",
       "    </tr>\n",
       "    <tr>\n",
       "      <th>1</th>\n",
       "      <td>AQUA_MODIS.20190421T000500.L2.SST.nc</td>\n",
       "      <td>1409</td>\n",
       "      <td>550</td>\n",
       "      <td>42.55745</td>\n",
       "      <td>28.580969</td>\n",
       "      <td>0.04864501953125</td>\n",
       "      <td>9.969158172607422</td>\n",
       "      <td>9.4399995803833</td>\n",
       "      <td>10.744999885559082</td>\n",
       "      <td>10.175000190734863</td>\n",
       "      <td>9.769999504089355</td>\n",
       "    </tr>\n",
       "    <tr>\n",
       "      <th>2</th>\n",
       "      <td>AQUA_MODIS.20190713T234501.L2.SST.nc</td>\n",
       "      <td>208</td>\n",
       "      <td>229</td>\n",
       "      <td>34.97093</td>\n",
       "      <td>28.369764</td>\n",
       "      <td>0.0</td>\n",
       "      <td>24.64632797241211</td>\n",
       "      <td>22.18000030517578</td>\n",
       "      <td>25.98499870300293</td>\n",
       "      <td>25.39499855041504</td>\n",
       "      <td>23.475000381469727</td>\n",
       "    </tr>\n",
       "    <tr>\n",
       "      <th>3</th>\n",
       "      <td>AQUA_MODIS.20190208T205001.L2.SST.nc</td>\n",
       "      <td>208</td>\n",
       "      <td>357</td>\n",
       "      <td>20.297197</td>\n",
       "      <td>71.70419</td>\n",
       "      <td>0.04132080078125</td>\n",
       "      <td>21.573326110839844</td>\n",
       "      <td>18.979999542236328</td>\n",
       "      <td>24.14499855041504</td>\n",
       "      <td>23.28999900817871</td>\n",
       "      <td>20.079999923706055</td>\n",
       "    </tr>\n",
       "    <tr>\n",
       "      <th>4</th>\n",
       "      <td>AQUA_MODIS.20190707T161001.L2.SST.nc</td>\n",
       "      <td>773</td>\n",
       "      <td>747</td>\n",
       "      <td>20.832533</td>\n",
       "      <td>145.3258</td>\n",
       "      <td>0.04986572265625</td>\n",
       "      <td>30.616931915283203</td>\n",
       "      <td>27.974998474121094</td>\n",
       "      <td>32.02000045776367</td>\n",
       "      <td>30.94999885559082</td>\n",
       "      <td>30.264999389648438</td>\n",
       "    </tr>\n",
       "  </tbody>\n",
       "</table>\n",
       "</div>"
      ],
      "text/plain": [
       "                               filename   row column    latitude   longitude  \\\n",
       "0  AQUA_MODIS.20190207T021000.L2.SST.nc  1232    837  -29.294142  -11.516745   \n",
       "1  AQUA_MODIS.20190421T000500.L2.SST.nc  1409    550    42.55745   28.580969   \n",
       "2  AQUA_MODIS.20190713T234501.L2.SST.nc   208    229    34.97093   28.369764   \n",
       "3  AQUA_MODIS.20190208T205001.L2.SST.nc   208    357   20.297197    71.70419   \n",
       "4  AQUA_MODIS.20190707T161001.L2.SST.nc   773    747   20.832533    145.3258   \n",
       "\n",
       "     clear_fraction    mean_temperature                Tmin  \\\n",
       "0   0.0494384765625    25.6845760345459   22.46500015258789   \n",
       "1  0.04864501953125   9.969158172607422     9.4399995803833   \n",
       "2               0.0   24.64632797241211   22.18000030517578   \n",
       "3  0.04132080078125  21.573326110839844  18.979999542236328   \n",
       "4  0.04986572265625  30.616931915283203  27.974998474121094   \n",
       "\n",
       "                 Tmax                 T90                 T10  \n",
       "0  26.674999237060547  26.084999084472656  25.229999542236328  \n",
       "1  10.744999885559082  10.175000190734863   9.769999504089355  \n",
       "2   25.98499870300293   25.39499855041504  23.475000381469727  \n",
       "3   24.14499855041504   23.28999900817871  20.079999923706055  \n",
       "4   32.02000045776367   30.94999885559082  30.264999389648438  "
      ]
     },
     "execution_count": 9,
     "metadata": {},
     "output_type": "execute_result"
    }
   ],
   "source": [
    "df.head()"
   ]
  },
  {
   "cell_type": "code",
   "execution_count": 11,
   "metadata": {},
   "outputs": [
    {
     "data": {
      "text/plain": [
       "0          0.0494384765625\n",
       "1         0.04864501953125\n",
       "2                      0.0\n",
       "3         0.04132080078125\n",
       "4         0.04986572265625\n",
       "                ...       \n",
       "751684      0.041748046875\n",
       "751685       0.04931640625\n",
       "751686    0.04852294921875\n",
       "751687        0.0498046875\n",
       "751688     0.0440673828125\n",
       "Name: clear_fraction, Length: 751689, dtype: object"
      ]
     },
     "execution_count": 11,
     "metadata": {},
     "output_type": "execute_result"
    }
   ],
   "source": [
    "df.clear_fraction"
   ]
  },
  {
   "cell_type": "markdown",
   "metadata": {},
   "source": [
    "# LLC"
   ]
  },
  {
   "cell_type": "code",
   "execution_count": 30,
   "metadata": {},
   "outputs": [
    {
     "name": "stdout",
     "output_type": "stream",
     "text": [
      "Read main table: s3://llc/Tables/test_uniform_r0.5_test.feather\n"
     ]
    }
   ],
   "source": [
    "tbl_file = 's3://llc/Tables/test_uniform_r0.5_test.feather'\n",
    "llc_table = ulmo_io.load_main_table(tbl_file)"
   ]
  },
  {
   "cell_type": "code",
   "execution_count": 32,
   "metadata": {},
   "outputs": [
    {
     "data": {
      "text/html": [
       "<div>\n",
       "<style scoped>\n",
       "    .dataframe tbody tr th:only-of-type {\n",
       "        vertical-align: middle;\n",
       "    }\n",
       "\n",
       "    .dataframe tbody tr th {\n",
       "        vertical-align: top;\n",
       "    }\n",
       "\n",
       "    .dataframe thead th {\n",
       "        text-align: right;\n",
       "    }\n",
       "</style>\n",
       "<table border=\"1\" class=\"dataframe\">\n",
       "  <thead>\n",
       "    <tr style=\"text-align: right;\">\n",
       "      <th></th>\n",
       "      <th>lat</th>\n",
       "      <th>lon</th>\n",
       "      <th>row</th>\n",
       "      <th>col</th>\n",
       "      <th>datetime</th>\n",
       "      <th>LLC_file</th>\n",
       "      <th>pp_file</th>\n",
       "      <th>pp_root</th>\n",
       "      <th>field_size</th>\n",
       "      <th>mean_temperature</th>\n",
       "      <th>Tmin</th>\n",
       "      <th>Tmax</th>\n",
       "      <th>T90</th>\n",
       "      <th>T10</th>\n",
       "      <th>pp_idx</th>\n",
       "      <th>pp_type</th>\n",
       "      <th>LL</th>\n",
       "    </tr>\n",
       "  </thead>\n",
       "  <tbody>\n",
       "    <tr>\n",
       "      <th>0</th>\n",
       "      <td>71.725098</td>\n",
       "      <td>-177.172684</td>\n",
       "      <td>12895</td>\n",
       "      <td>10607</td>\n",
       "      <td>2011-09-30</td>\n",
       "      <td>s3://llc/ThetaUVSalt/LLC4320_2011-09-30T00_00_...</td>\n",
       "      <td>s3://llc/PreProc/LLC_uniform_test_preproc.h5</td>\n",
       "      <td>llc_std</td>\n",
       "      <td>64</td>\n",
       "      <td>-1.467546</td>\n",
       "      <td>-1.579000</td>\n",
       "      <td>-0.619</td>\n",
       "      <td>-1.351001</td>\n",
       "      <td>-1.541000</td>\n",
       "      <td>647491</td>\n",
       "      <td>0</td>\n",
       "      <td>607.481689</td>\n",
       "    </tr>\n",
       "    <tr>\n",
       "      <th>1</th>\n",
       "      <td>71.747978</td>\n",
       "      <td>-175.380554</td>\n",
       "      <td>12895</td>\n",
       "      <td>10676</td>\n",
       "      <td>2011-09-30</td>\n",
       "      <td>s3://llc/ThetaUVSalt/LLC4320_2011-09-30T00_00_...</td>\n",
       "      <td>s3://llc/PreProc/LLC_uniform_test_preproc.h5</td>\n",
       "      <td>llc_std</td>\n",
       "      <td>64</td>\n",
       "      <td>-0.492408</td>\n",
       "      <td>-1.544001</td>\n",
       "      <td>3.539</td>\n",
       "      <td>3.364000</td>\n",
       "      <td>-1.540001</td>\n",
       "      <td>384768</td>\n",
       "      <td>0</td>\n",
       "      <td>241.698669</td>\n",
       "    </tr>\n",
       "    <tr>\n",
       "      <th>2</th>\n",
       "      <td>71.758400</td>\n",
       "      <td>-173.559555</td>\n",
       "      <td>12895</td>\n",
       "      <td>10746</td>\n",
       "      <td>2011-09-30</td>\n",
       "      <td>s3://llc/ThetaUVSalt/LLC4320_2011-09-30T00_00_...</td>\n",
       "      <td>s3://llc/PreProc/LLC_uniform_test_preproc.h5</td>\n",
       "      <td>llc_std</td>\n",
       "      <td>64</td>\n",
       "      <td>3.271719</td>\n",
       "      <td>1.870000</td>\n",
       "      <td>3.774</td>\n",
       "      <td>3.499000</td>\n",
       "      <td>2.540999</td>\n",
       "      <td>283882</td>\n",
       "      <td>0</td>\n",
       "      <td>391.922913</td>\n",
       "    </tr>\n",
       "    <tr>\n",
       "      <th>3</th>\n",
       "      <td>71.755905</td>\n",
       "      <td>-171.737854</td>\n",
       "      <td>12895</td>\n",
       "      <td>10816</td>\n",
       "      <td>2011-09-30</td>\n",
       "      <td>s3://llc/ThetaUVSalt/LLC4320_2011-09-30T00_00_...</td>\n",
       "      <td>s3://llc/PreProc/LLC_uniform_test_preproc.h5</td>\n",
       "      <td>llc_std</td>\n",
       "      <td>64</td>\n",
       "      <td>2.945127</td>\n",
       "      <td>1.368000</td>\n",
       "      <td>3.452</td>\n",
       "      <td>3.375000</td>\n",
       "      <td>2.229000</td>\n",
       "      <td>613023</td>\n",
       "      <td>0</td>\n",
       "      <td>46.060486</td>\n",
       "    </tr>\n",
       "    <tr>\n",
       "      <th>4</th>\n",
       "      <td>71.740822</td>\n",
       "      <td>-169.943695</td>\n",
       "      <td>12895</td>\n",
       "      <td>10885</td>\n",
       "      <td>2011-09-30</td>\n",
       "      <td>s3://llc/ThetaUVSalt/LLC4320_2011-09-30T00_00_...</td>\n",
       "      <td>s3://llc/PreProc/LLC_uniform_test_preproc.h5</td>\n",
       "      <td>llc_std</td>\n",
       "      <td>64</td>\n",
       "      <td>2.364319</td>\n",
       "      <td>1.440000</td>\n",
       "      <td>3.272</td>\n",
       "      <td>2.841000</td>\n",
       "      <td>1.891000</td>\n",
       "      <td>537161</td>\n",
       "      <td>0</td>\n",
       "      <td>243.697754</td>\n",
       "    </tr>\n",
       "  </tbody>\n",
       "</table>\n",
       "</div>"
      ],
      "text/plain": [
       "         lat         lon    row    col   datetime  \\\n",
       "0  71.725098 -177.172684  12895  10607 2011-09-30   \n",
       "1  71.747978 -175.380554  12895  10676 2011-09-30   \n",
       "2  71.758400 -173.559555  12895  10746 2011-09-30   \n",
       "3  71.755905 -171.737854  12895  10816 2011-09-30   \n",
       "4  71.740822 -169.943695  12895  10885 2011-09-30   \n",
       "\n",
       "                                            LLC_file  \\\n",
       "0  s3://llc/ThetaUVSalt/LLC4320_2011-09-30T00_00_...   \n",
       "1  s3://llc/ThetaUVSalt/LLC4320_2011-09-30T00_00_...   \n",
       "2  s3://llc/ThetaUVSalt/LLC4320_2011-09-30T00_00_...   \n",
       "3  s3://llc/ThetaUVSalt/LLC4320_2011-09-30T00_00_...   \n",
       "4  s3://llc/ThetaUVSalt/LLC4320_2011-09-30T00_00_...   \n",
       "\n",
       "                                        pp_file  pp_root  field_size  \\\n",
       "0  s3://llc/PreProc/LLC_uniform_test_preproc.h5  llc_std          64   \n",
       "1  s3://llc/PreProc/LLC_uniform_test_preproc.h5  llc_std          64   \n",
       "2  s3://llc/PreProc/LLC_uniform_test_preproc.h5  llc_std          64   \n",
       "3  s3://llc/PreProc/LLC_uniform_test_preproc.h5  llc_std          64   \n",
       "4  s3://llc/PreProc/LLC_uniform_test_preproc.h5  llc_std          64   \n",
       "\n",
       "   mean_temperature      Tmin   Tmax       T90       T10  pp_idx  pp_type  \\\n",
       "0         -1.467546 -1.579000 -0.619 -1.351001 -1.541000  647491        0   \n",
       "1         -0.492408 -1.544001  3.539  3.364000 -1.540001  384768        0   \n",
       "2          3.271719  1.870000  3.774  3.499000  2.540999  283882        0   \n",
       "3          2.945127  1.368000  3.452  3.375000  2.229000  613023        0   \n",
       "4          2.364319  1.440000  3.272  2.841000  1.891000  537161        0   \n",
       "\n",
       "           LL  \n",
       "0  607.481689  \n",
       "1  241.698669  \n",
       "2  391.922913  \n",
       "3   46.060486  \n",
       "4  243.697754  "
      ]
     },
     "execution_count": 32,
     "metadata": {},
     "output_type": "execute_result"
    }
   ],
   "source": []
  },
  {
   "cell_type": "markdown",
   "metadata": {},
   "source": [
    "# Checking"
   ]
  },
  {
   "cell_type": "code",
   "execution_count": 13,
   "metadata": {},
   "outputs": [],
   "source": [
    "main = pandas.read_feather('/data/Projects/Oceanography/AI/OOD/SST/MODIS_L2/Evaluations/R2010_results_std.feather')"
   ]
  },
  {
   "cell_type": "code",
   "execution_count": 20,
   "metadata": {},
   "outputs": [
    {
     "data": {
      "text/plain": [
       "index                                                  0\n",
       "filename            AQUA_MODIS.20190207T021000.L2.SST.nc\n",
       "row                                                 1232\n",
       "column                                               837\n",
       "latitude                                        -29.2941\n",
       "longitude                                       -11.5167\n",
       "clear_fraction                                 0.0494385\n",
       "mean_temperature                                 25.6846\n",
       "Tmin                                              22.465\n",
       "Tmax                                              26.675\n",
       "T90                                               26.085\n",
       "T10                                                25.23\n",
       "log_likelihood                                   123.882\n",
       "date                                 2019-02-07 02:10:00\n",
       "UID                                   154960705916848326\n",
       "Name: 11606360, dtype: object"
      ]
     },
     "execution_count": 20,
     "metadata": {},
     "output_type": "execute_result"
    }
   ],
   "source": [
    "mt = (main.row == 1232) & (main.column == 837) & (np.abs(main.latitude+29.29414)<0.001)\n",
    "cutout = main.iloc[np.where(mt)[0][0]]\n",
    "cutout"
   ]
  },
  {
   "cell_type": "code",
   "execution_count": 19,
   "metadata": {},
   "outputs": [
    {
     "data": {
      "text/plain": [
       "11.026184"
      ]
     },
     "execution_count": 19,
     "metadata": {},
     "output_type": "execute_result"
    }
   ],
   "source": [
    "LL[0]"
   ]
  },
  {
   "cell_type": "code",
   "execution_count": 21,
   "metadata": {},
   "outputs": [
    {
     "data": {
      "text/plain": [
       "4.20999908447266"
      ]
     },
     "execution_count": 21,
     "metadata": {},
     "output_type": "execute_result"
    }
   ],
   "source": [
    "cutout.Tmax - cutout.Tmin"
   ]
  },
  {
   "cell_type": "code",
   "execution_count": 68,
   "metadata": {},
   "outputs": [
    {
     "data": {
      "text/plain": [
       "index                                             751688\n",
       "filename            AQUA_MODIS.20190406T190500.L2.SST.nc\n",
       "row                                                 1392\n",
       "column                                               229\n",
       "latitude                                          11.183\n",
       "longitude                                        94.4305\n",
       "clear_fraction                                 0.0440674\n",
       "mean_temperature                                 30.4892\n",
       "Tmin                                              29.215\n",
       "Tmax                                               31.27\n",
       "T90                                                30.81\n",
       "T10                                               30.125\n",
       "log_likelihood                                   284.646\n",
       "date                                 2019-04-06 19:05:00\n",
       "UID                                  1554101183027443051\n",
       "DT                                              0.684999\n",
       "Name: 12358048, dtype: object"
      ]
     },
     "execution_count": 68,
     "metadata": {},
     "output_type": "execute_result"
    }
   ],
   "source": [
    "main.iloc[-1]"
   ]
  },
  {
   "cell_type": "markdown",
   "metadata": {},
   "source": [
    "## Scatter me"
   ]
  },
  {
   "cell_type": "code",
   "execution_count": 24,
   "metadata": {},
   "outputs": [],
   "source": [
    "main['T90'] = main.T90.values.astype(float)\n",
    "main['T10'] = main.T10.values.astype(float)\n",
    "main['log_likelihood'] = main.log_likelihood.values.astype(float)"
   ]
  },
  {
   "cell_type": "code",
   "execution_count": 25,
   "metadata": {},
   "outputs": [],
   "source": [
    "main['DT'] = main.T90 - main.T10"
   ]
  },
  {
   "cell_type": "code",
   "execution_count": 26,
   "metadata": {},
   "outputs": [
    {
     "data": {
      "text/plain": [
       "<seaborn.axisgrid.FacetGrid at 0x7f096f118190>"
      ]
     },
     "execution_count": 26,
     "metadata": {},
     "output_type": "execute_result"
    },
    {
     "data": {
      "image/png": "[encoded data removed]",
      "text/plain": [
       "<Figure size 360x360 with 1 Axes>"
      ]
     },
     "metadata": {
      "needs_background": "light"
     },
     "output_type": "display_data"
    }
   ],
   "source": [
    "sns.displot(main, x='log_likelihood', y='DT')"
   ]
  },
  {
   "cell_type": "code",
   "execution_count": 27,
   "metadata": {},
   "outputs": [],
   "source": [
    "df['T90'] = df.T90.values.astype(float)\n",
    "df['T10'] = df.T10.values.astype(float)\n",
    "df['log_likelihood'] = LL\n",
    "df['DT'] = df.T90 - df.T10"
   ]
  },
  {
   "cell_type": "code",
   "execution_count": 29,
   "metadata": {},
   "outputs": [
    {
     "data": {
      "text/plain": [
       "<seaborn.axisgrid.FacetGrid at 0x7f096e22b9a0>"
      ]
     },
     "execution_count": 29,
     "metadata": {},
     "output_type": "execute_result"
    },
    {
     "data": {
      "image/png": "[encoded data removed]",
      "text/plain": [
       "<Figure size 360x360 with 1 Axes>"
      ]
     },
     "metadata": {
      "needs_background": "light"
     },
     "output_type": "display_data"
    }
   ],
   "source": [
    "sns.displot(df[np.isfinite(df.log_likelihood)], x='log_likelihood', y='DT')"
   ]
  },
  {
   "cell_type": "markdown",
   "metadata": {},
   "source": [
    "----"
   ]
  },
  {
   "cell_type": "code",
   "execution_count": 37,
   "metadata": {},
   "outputs": [],
   "source": [
    "pp_file = '/data/Projects/Oceanography/AI/OOD/SST/MODIS_L2/PreProc/MODIS_R2019_2019_95clear_128x128_preproc_std.h5'\n",
    "pp_hf2 = h5py.File(pp_file, 'r')"
   ]
  },
  {
   "cell_type": "code",
   "execution_count": 38,
   "metadata": {},
   "outputs": [],
   "source": [
    "meta = pp_hf2['valid_metadata']\n",
    "df = pandas.DataFrame(meta[:].astype(np.unicode_), columns=meta.attrs['columns'])"
   ]
  },
  {
   "cell_type": "code",
   "execution_count": null,
   "metadata": {},
   "outputs": [],
   "source": []
  }
 ],
 "metadata": {
  "kernelspec": {
   "display_name": "Python 3",
   "language": "python",
   "name": "python3"
  },
  "language_info": {
   "codemirror_mode": {
    "name": "ipython",
    "version": 3
   },
   "file_extension": ".py",
   "mimetype": "text/x-python",
   "name": "python",
   "nbconvert_exporter": "python",
   "pygments_lexer": "ipython3",
   "version": "3.7.8"
  }
 },
 "nbformat": 4,
 "nbformat_minor": 4
}
