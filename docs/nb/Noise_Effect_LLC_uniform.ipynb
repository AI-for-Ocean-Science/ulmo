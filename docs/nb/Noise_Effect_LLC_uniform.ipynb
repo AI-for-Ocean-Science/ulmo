{
 "cells": [
  {
   "cell_type": "code",
   "execution_count": 1,
   "id": "9f7b6185-615e-47b3-8272-7c0320efacd2",
   "metadata": {},
   "outputs": [],
   "source": [
    "# imports\n",
    "from importlib import reload\n",
    "\n",
    "import os # a module to interact with the operating system\n",
    "os.environ[\"ENDPOINT_URL\"]=\"http://rook-ceph-rgw-nautiluss3.rook\"\n",
    "import numpy as np\n",
    "\n",
    "import pandas as pd\n",
    "import xarray\n",
    "import h5py\n",
    "import healpy as hp\n",
    "import time\n",
    "\n",
    "import cartopy.crs as ccrs\n",
    "from cartopy.mpl.gridliner import LONGITUDE_FORMATTER, LATITUDE_FORMATTER\n",
    "\n",
    "from matplotlib import pyplot as plt\n",
    "import seaborn as sns\n",
    "import scipy.stats as stats\n",
    "\n",
    "from ulmo import io as ulmo_io\n",
    "from ulmo import plotting\n",
    "from ulmo.llc import io as llc_io\n",
    "from ulmo.llc import plotting as llc_plotting\n",
    "\n",
    "from ulmo.utils import image_utils\n",
    "from ulmo.analysis import figures as ulmo_figs\n",
    "from ulmo.plotting import plotting as ulmo_plotting\n",
    "from ulmo.analysis import spatial_plots as sp"
   ]
  },
  {
   "cell_type": "markdown",
   "id": "c2d099fa-1910-4f95-a817-cb51b8e58169",
   "metadata": {},
   "source": [
    "# Load Table"
   ]
  },
  {
   "cell_type": "code",
   "execution_count": 2,
   "id": "b7726d97-662a-4fd3-b635-0153130c81d5",
   "metadata": {},
   "outputs": [
    {
     "name": "stdout",
     "output_type": "stream",
     "text": [
      "Read main table: s3://llc/Tables/test_uniform_r0.5_test.feather\n"
     ]
    },
    {
     "data": {
      "text/html": [
       "<div>\n",
       "<style scoped>\n",
       "    .dataframe tbody tr th:only-of-type {\n",
       "        vertical-align: middle;\n",
       "    }\n",
       "\n",
       "    .dataframe tbody tr th {\n",
       "        vertical-align: top;\n",
       "    }\n",
       "\n",
       "    .dataframe thead th {\n",
       "        text-align: right;\n",
       "    }\n",
       "</style>\n",
       "<table border=\"1\" class=\"dataframe\">\n",
       "  <thead>\n",
       "    <tr style=\"text-align: right;\">\n",
       "      <th></th>\n",
       "      <th>lat</th>\n",
       "      <th>lon</th>\n",
       "      <th>row</th>\n",
       "      <th>col</th>\n",
       "      <th>datetime</th>\n",
       "      <th>LLC_file</th>\n",
       "      <th>pp_file</th>\n",
       "      <th>pp_root</th>\n",
       "      <th>field_size</th>\n",
       "      <th>mean_temperature</th>\n",
       "      <th>...</th>\n",
       "      <th>T10</th>\n",
       "      <th>pp_idx</th>\n",
       "      <th>pp_type</th>\n",
       "      <th>LL</th>\n",
       "      <th>U_mean</th>\n",
       "      <th>V_mean</th>\n",
       "      <th>U_rms</th>\n",
       "      <th>V_rms</th>\n",
       "      <th>UV_mean</th>\n",
       "      <th>UV_rms</th>\n",
       "    </tr>\n",
       "  </thead>\n",
       "  <tbody>\n",
       "    <tr>\n",
       "      <th>0</th>\n",
       "      <td>71.725098</td>\n",
       "      <td>-177.172684</td>\n",
       "      <td>12895</td>\n",
       "      <td>10607</td>\n",
       "      <td>2011-09-30</td>\n",
       "      <td>s3://llc/ThetaUVSalt/LLC4320_2011-09-30T00_00_...</td>\n",
       "      <td>s3://llc/PreProc/LLC_uniform_test_preproc.h5</td>\n",
       "      <td>llc_std</td>\n",
       "      <td>64</td>\n",
       "      <td>-1.467546</td>\n",
       "      <td>...</td>\n",
       "      <td>-1.541000</td>\n",
       "      <td>647491</td>\n",
       "      <td>0</td>\n",
       "      <td>648.981934</td>\n",
       "      <td>-0.099179</td>\n",
       "      <td>-0.001986</td>\n",
       "      <td>0.059771</td>\n",
       "      <td>0.063255</td>\n",
       "      <td>0.141285</td>\n",
       "      <td>0.082805</td>\n",
       "    </tr>\n",
       "    <tr>\n",
       "      <th>1</th>\n",
       "      <td>71.747978</td>\n",
       "      <td>-175.380554</td>\n",
       "      <td>12895</td>\n",
       "      <td>10676</td>\n",
       "      <td>2011-09-30</td>\n",
       "      <td>s3://llc/ThetaUVSalt/LLC4320_2011-09-30T00_00_...</td>\n",
       "      <td>s3://llc/PreProc/LLC_uniform_test_preproc.h5</td>\n",
       "      <td>llc_std</td>\n",
       "      <td>64</td>\n",
       "      <td>-0.492408</td>\n",
       "      <td>...</td>\n",
       "      <td>-1.540001</td>\n",
       "      <td>384768</td>\n",
       "      <td>0</td>\n",
       "      <td>-513.771851</td>\n",
       "      <td>-0.008606</td>\n",
       "      <td>-0.042140</td>\n",
       "      <td>0.041484</td>\n",
       "      <td>0.108360</td>\n",
       "      <td>0.046431</td>\n",
       "      <td>0.037870</td>\n",
       "    </tr>\n",
       "    <tr>\n",
       "      <th>2</th>\n",
       "      <td>71.758400</td>\n",
       "      <td>-173.559555</td>\n",
       "      <td>12895</td>\n",
       "      <td>10746</td>\n",
       "      <td>2011-09-30</td>\n",
       "      <td>s3://llc/ThetaUVSalt/LLC4320_2011-09-30T00_00_...</td>\n",
       "      <td>s3://llc/PreProc/LLC_uniform_test_preproc.h5</td>\n",
       "      <td>llc_std</td>\n",
       "      <td>64</td>\n",
       "      <td>3.271719</td>\n",
       "      <td>...</td>\n",
       "      <td>2.540999</td>\n",
       "      <td>283882</td>\n",
       "      <td>0</td>\n",
       "      <td>345.448669</td>\n",
       "      <td>0.070156</td>\n",
       "      <td>-0.045817</td>\n",
       "      <td>0.022577</td>\n",
       "      <td>0.044823</td>\n",
       "      <td>0.099820</td>\n",
       "      <td>0.029986</td>\n",
       "    </tr>\n",
       "    <tr>\n",
       "      <th>3</th>\n",
       "      <td>71.755905</td>\n",
       "      <td>-171.737854</td>\n",
       "      <td>12895</td>\n",
       "      <td>10816</td>\n",
       "      <td>2011-09-30</td>\n",
       "      <td>s3://llc/ThetaUVSalt/LLC4320_2011-09-30T00_00_...</td>\n",
       "      <td>s3://llc/PreProc/LLC_uniform_test_preproc.h5</td>\n",
       "      <td>llc_std</td>\n",
       "      <td>64</td>\n",
       "      <td>2.945127</td>\n",
       "      <td>...</td>\n",
       "      <td>2.229000</td>\n",
       "      <td>613023</td>\n",
       "      <td>0</td>\n",
       "      <td>169.709839</td>\n",
       "      <td>0.081717</td>\n",
       "      <td>-0.010355</td>\n",
       "      <td>0.024675</td>\n",
       "      <td>0.039160</td>\n",
       "      <td>0.115622</td>\n",
       "      <td>0.034708</td>\n",
       "    </tr>\n",
       "    <tr>\n",
       "      <th>4</th>\n",
       "      <td>71.740822</td>\n",
       "      <td>-169.943695</td>\n",
       "      <td>12895</td>\n",
       "      <td>10885</td>\n",
       "      <td>2011-09-30</td>\n",
       "      <td>s3://llc/ThetaUVSalt/LLC4320_2011-09-30T00_00_...</td>\n",
       "      <td>s3://llc/PreProc/LLC_uniform_test_preproc.h5</td>\n",
       "      <td>llc_std</td>\n",
       "      <td>64</td>\n",
       "      <td>2.364319</td>\n",
       "      <td>...</td>\n",
       "      <td>1.891000</td>\n",
       "      <td>537161</td>\n",
       "      <td>0</td>\n",
       "      <td>349.981262</td>\n",
       "      <td>0.039346</td>\n",
       "      <td>0.019852</td>\n",
       "      <td>0.023803</td>\n",
       "      <td>0.031211</td>\n",
       "      <td>0.057416</td>\n",
       "      <td>0.030541</td>\n",
       "    </tr>\n",
       "  </tbody>\n",
       "</table>\n",
       "<p>5 rows × 23 columns</p>\n",
       "</div>"
      ],
      "text/plain": [
       "         lat         lon    row    col   datetime  \\\n",
       "0  71.725098 -177.172684  12895  10607 2011-09-30   \n",
       "1  71.747978 -175.380554  12895  10676 2011-09-30   \n",
       "2  71.758400 -173.559555  12895  10746 2011-09-30   \n",
       "3  71.755905 -171.737854  12895  10816 2011-09-30   \n",
       "4  71.740822 -169.943695  12895  10885 2011-09-30   \n",
       "\n",
       "                                            LLC_file  \\\n",
       "0  s3://llc/ThetaUVSalt/LLC4320_2011-09-30T00_00_...   \n",
       "1  s3://llc/ThetaUVSalt/LLC4320_2011-09-30T00_00_...   \n",
       "2  s3://llc/ThetaUVSalt/LLC4320_2011-09-30T00_00_...   \n",
       "3  s3://llc/ThetaUVSalt/LLC4320_2011-09-30T00_00_...   \n",
       "4  s3://llc/ThetaUVSalt/LLC4320_2011-09-30T00_00_...   \n",
       "\n",
       "                                        pp_file  pp_root  field_size  \\\n",
       "0  s3://llc/PreProc/LLC_uniform_test_preproc.h5  llc_std          64   \n",
       "1  s3://llc/PreProc/LLC_uniform_test_preproc.h5  llc_std          64   \n",
       "2  s3://llc/PreProc/LLC_uniform_test_preproc.h5  llc_std          64   \n",
       "3  s3://llc/PreProc/LLC_uniform_test_preproc.h5  llc_std          64   \n",
       "4  s3://llc/PreProc/LLC_uniform_test_preproc.h5  llc_std          64   \n",
       "\n",
       "   mean_temperature  ...       T10  pp_idx  pp_type          LL    U_mean  \\\n",
       "0         -1.467546  ... -1.541000  647491        0  648.981934 -0.099179   \n",
       "1         -0.492408  ... -1.540001  384768        0 -513.771851 -0.008606   \n",
       "2          3.271719  ...  2.540999  283882        0  345.448669  0.070156   \n",
       "3          2.945127  ...  2.229000  613023        0  169.709839  0.081717   \n",
       "4          2.364319  ...  1.891000  537161        0  349.981262  0.039346   \n",
       "\n",
       "     V_mean     U_rms     V_rms   UV_mean    UV_rms  \n",
       "0 -0.001986  0.059771  0.063255  0.141285  0.082805  \n",
       "1 -0.042140  0.041484  0.108360  0.046431  0.037870  \n",
       "2 -0.045817  0.022577  0.044823  0.099820  0.029986  \n",
       "3 -0.010355  0.024675  0.039160  0.115622  0.034708  \n",
       "4  0.019852  0.023803  0.031211  0.057416  0.030541  \n",
       "\n",
       "[5 rows x 23 columns]"
      ]
     },
     "execution_count": 2,
     "metadata": {},
     "output_type": "execute_result"
    }
   ],
   "source": [
    "llc_uniform= ulmo_io.load_main_table( 's3://llc/Tables/test_uniform_r0.5_test.feather' )\n",
    "llc_uniform.head()"
   ]
  },
  {
   "cell_type": "code",
   "execution_count": 3,
   "id": "709a92b4-76eb-4ed3-8fd6-6fcd3ceb2c02",
   "metadata": {},
   "outputs": [
    {
     "name": "stdout",
     "output_type": "stream",
     "text": [
      "Read main table: s3://llc/Tables/LLC_uniform_viirs_noise.parquet\n"
     ]
    },
    {
     "data": {
      "text/html": [
       "<div>\n",
       "<style scoped>\n",
       "    .dataframe tbody tr th:only-of-type {\n",
       "        vertical-align: middle;\n",
       "    }\n",
       "\n",
       "    .dataframe tbody tr th {\n",
       "        vertical-align: top;\n",
       "    }\n",
       "\n",
       "    .dataframe thead th {\n",
       "        text-align: right;\n",
       "    }\n",
       "</style>\n",
       "<table border=\"1\" class=\"dataframe\">\n",
       "  <thead>\n",
       "    <tr style=\"text-align: right;\">\n",
       "      <th></th>\n",
       "      <th>lat</th>\n",
       "      <th>lon</th>\n",
       "      <th>row</th>\n",
       "      <th>col</th>\n",
       "      <th>datetime</th>\n",
       "      <th>LLC_file</th>\n",
       "      <th>pp_file</th>\n",
       "      <th>pp_root</th>\n",
       "      <th>field_size</th>\n",
       "      <th>mean_temperature</th>\n",
       "      <th>...</th>\n",
       "      <th>T10</th>\n",
       "      <th>pp_idx</th>\n",
       "      <th>pp_type</th>\n",
       "      <th>U_mean</th>\n",
       "      <th>V_mean</th>\n",
       "      <th>U_rms</th>\n",
       "      <th>V_rms</th>\n",
       "      <th>UV_mean</th>\n",
       "      <th>UV_rms</th>\n",
       "      <th>LL</th>\n",
       "    </tr>\n",
       "  </thead>\n",
       "  <tbody>\n",
       "    <tr>\n",
       "      <th>0</th>\n",
       "      <td>71.725098</td>\n",
       "      <td>-177.172684</td>\n",
       "      <td>12895</td>\n",
       "      <td>10607</td>\n",
       "      <td>2011-09-30</td>\n",
       "      <td>s3://llc/ThetaUVSalt/LLC4320_2011-09-30T00_00_...</td>\n",
       "      <td>s3://llc/PreProc/LLC_uniform_viirs_test_prepro...</td>\n",
       "      <td>llc_std</td>\n",
       "      <td>64</td>\n",
       "      <td>-1.467546</td>\n",
       "      <td>...</td>\n",
       "      <td>-1.541000</td>\n",
       "      <td>647491</td>\n",
       "      <td>0</td>\n",
       "      <td>-0.099179</td>\n",
       "      <td>-0.001986</td>\n",
       "      <td>0.059771</td>\n",
       "      <td>0.063255</td>\n",
       "      <td>0.141285</td>\n",
       "      <td>0.082805</td>\n",
       "      <td>642.516968</td>\n",
       "    </tr>\n",
       "    <tr>\n",
       "      <th>1</th>\n",
       "      <td>71.747978</td>\n",
       "      <td>-175.380554</td>\n",
       "      <td>12895</td>\n",
       "      <td>10676</td>\n",
       "      <td>2011-09-30</td>\n",
       "      <td>s3://llc/ThetaUVSalt/LLC4320_2011-09-30T00_00_...</td>\n",
       "      <td>s3://llc/PreProc/LLC_uniform_viirs_test_prepro...</td>\n",
       "      <td>llc_std</td>\n",
       "      <td>64</td>\n",
       "      <td>-0.492408</td>\n",
       "      <td>...</td>\n",
       "      <td>-1.540001</td>\n",
       "      <td>384768</td>\n",
       "      <td>0</td>\n",
       "      <td>-0.008606</td>\n",
       "      <td>-0.042140</td>\n",
       "      <td>0.041484</td>\n",
       "      <td>0.108360</td>\n",
       "      <td>0.046431</td>\n",
       "      <td>0.037870</td>\n",
       "      <td>-508.767731</td>\n",
       "    </tr>\n",
       "    <tr>\n",
       "      <th>2</th>\n",
       "      <td>71.758400</td>\n",
       "      <td>-173.559555</td>\n",
       "      <td>12895</td>\n",
       "      <td>10746</td>\n",
       "      <td>2011-09-30</td>\n",
       "      <td>s3://llc/ThetaUVSalt/LLC4320_2011-09-30T00_00_...</td>\n",
       "      <td>s3://llc/PreProc/LLC_uniform_viirs_test_prepro...</td>\n",
       "      <td>llc_std</td>\n",
       "      <td>64</td>\n",
       "      <td>3.271719</td>\n",
       "      <td>...</td>\n",
       "      <td>2.540999</td>\n",
       "      <td>283882</td>\n",
       "      <td>0</td>\n",
       "      <td>0.070156</td>\n",
       "      <td>-0.045817</td>\n",
       "      <td>0.022577</td>\n",
       "      <td>0.044823</td>\n",
       "      <td>0.099820</td>\n",
       "      <td>0.029986</td>\n",
       "      <td>345.613159</td>\n",
       "    </tr>\n",
       "    <tr>\n",
       "      <th>3</th>\n",
       "      <td>71.755905</td>\n",
       "      <td>-171.737854</td>\n",
       "      <td>12895</td>\n",
       "      <td>10816</td>\n",
       "      <td>2011-09-30</td>\n",
       "      <td>s3://llc/ThetaUVSalt/LLC4320_2011-09-30T00_00_...</td>\n",
       "      <td>s3://llc/PreProc/LLC_uniform_viirs_test_prepro...</td>\n",
       "      <td>llc_std</td>\n",
       "      <td>64</td>\n",
       "      <td>2.945127</td>\n",
       "      <td>...</td>\n",
       "      <td>2.229000</td>\n",
       "      <td>613023</td>\n",
       "      <td>0</td>\n",
       "      <td>0.081717</td>\n",
       "      <td>-0.010355</td>\n",
       "      <td>0.024675</td>\n",
       "      <td>0.039160</td>\n",
       "      <td>0.115622</td>\n",
       "      <td>0.034708</td>\n",
       "      <td>169.615540</td>\n",
       "    </tr>\n",
       "    <tr>\n",
       "      <th>4</th>\n",
       "      <td>71.740822</td>\n",
       "      <td>-169.943695</td>\n",
       "      <td>12895</td>\n",
       "      <td>10885</td>\n",
       "      <td>2011-09-30</td>\n",
       "      <td>s3://llc/ThetaUVSalt/LLC4320_2011-09-30T00_00_...</td>\n",
       "      <td>s3://llc/PreProc/LLC_uniform_viirs_test_prepro...</td>\n",
       "      <td>llc_std</td>\n",
       "      <td>64</td>\n",
       "      <td>2.364319</td>\n",
       "      <td>...</td>\n",
       "      <td>1.891000</td>\n",
       "      <td>537161</td>\n",
       "      <td>0</td>\n",
       "      <td>0.039346</td>\n",
       "      <td>0.019852</td>\n",
       "      <td>0.023803</td>\n",
       "      <td>0.031211</td>\n",
       "      <td>0.057416</td>\n",
       "      <td>0.030541</td>\n",
       "      <td>343.068726</td>\n",
       "    </tr>\n",
       "  </tbody>\n",
       "</table>\n",
       "<p>5 rows × 23 columns</p>\n",
       "</div>"
      ],
      "text/plain": [
       "         lat         lon    row    col   datetime  \\\n",
       "0  71.725098 -177.172684  12895  10607 2011-09-30   \n",
       "1  71.747978 -175.380554  12895  10676 2011-09-30   \n",
       "2  71.758400 -173.559555  12895  10746 2011-09-30   \n",
       "3  71.755905 -171.737854  12895  10816 2011-09-30   \n",
       "4  71.740822 -169.943695  12895  10885 2011-09-30   \n",
       "\n",
       "                                            LLC_file  \\\n",
       "0  s3://llc/ThetaUVSalt/LLC4320_2011-09-30T00_00_...   \n",
       "1  s3://llc/ThetaUVSalt/LLC4320_2011-09-30T00_00_...   \n",
       "2  s3://llc/ThetaUVSalt/LLC4320_2011-09-30T00_00_...   \n",
       "3  s3://llc/ThetaUVSalt/LLC4320_2011-09-30T00_00_...   \n",
       "4  s3://llc/ThetaUVSalt/LLC4320_2011-09-30T00_00_...   \n",
       "\n",
       "                                             pp_file  pp_root  field_size  \\\n",
       "0  s3://llc/PreProc/LLC_uniform_viirs_test_prepro...  llc_std          64   \n",
       "1  s3://llc/PreProc/LLC_uniform_viirs_test_prepro...  llc_std          64   \n",
       "2  s3://llc/PreProc/LLC_uniform_viirs_test_prepro...  llc_std          64   \n",
       "3  s3://llc/PreProc/LLC_uniform_viirs_test_prepro...  llc_std          64   \n",
       "4  s3://llc/PreProc/LLC_uniform_viirs_test_prepro...  llc_std          64   \n",
       "\n",
       "   mean_temperature  ...       T10  pp_idx  pp_type    U_mean    V_mean  \\\n",
       "0         -1.467546  ... -1.541000  647491        0 -0.099179 -0.001986   \n",
       "1         -0.492408  ... -1.540001  384768        0 -0.008606 -0.042140   \n",
       "2          3.271719  ...  2.540999  283882        0  0.070156 -0.045817   \n",
       "3          2.945127  ...  2.229000  613023        0  0.081717 -0.010355   \n",
       "4          2.364319  ...  1.891000  537161        0  0.039346  0.019852   \n",
       "\n",
       "      U_rms     V_rms   UV_mean    UV_rms          LL  \n",
       "0  0.059771  0.063255  0.141285  0.082805  642.516968  \n",
       "1  0.041484  0.108360  0.046431  0.037870 -508.767731  \n",
       "2  0.022577  0.044823  0.099820  0.029986  345.613159  \n",
       "3  0.024675  0.039160  0.115622  0.034708  169.615540  \n",
       "4  0.023803  0.031211  0.057416  0.030541  343.068726  \n",
       "\n",
       "[5 rows x 23 columns]"
      ]
     },
     "execution_count": 3,
     "metadata": {},
     "output_type": "execute_result"
    }
   ],
   "source": [
    "llc_tbl= ulmo_io.load_main_table( 's3://llc/Tables/LLC_uniform_viirs_noise.parquet' )\n",
    "llc_tbl.head()"
   ]
  },
  {
   "cell_type": "markdown",
   "id": "773a23f7-762f-4ee4-806c-7aa8bc033499",
   "metadata": {},
   "source": [
    "# High LL group"
   ]
  },
  {
   "cell_type": "code",
   "execution_count": 5,
   "id": "e608b18c-5618-44c1-ab82-9c39c8fa7f57",
   "metadata": {},
   "outputs": [
    {
     "data": {
      "text/plain": [
       "Int64Index([     0,     19,     21,     22,     31,     59,     60,     61,\n",
       "                62,     63,\n",
       "            ...\n",
       "            781652, 781653, 781654, 781655, 781656, 781657, 781658, 781659,\n",
       "            781660, 781661],\n",
       "           dtype='int64', length=361207)"
      ]
     },
     "execution_count": 5,
     "metadata": {},
     "output_type": "execute_result"
    }
   ],
   "source": [
    "highn = llc_uniform[(llc_uniform.LL > 600)]\n",
    "highn.index"
   ]
  },
  {
   "cell_type": "code",
   "execution_count": 6,
   "id": "72d46e8c-2d02-4040-be71-239e89fe216e",
   "metadata": {},
   "outputs": [],
   "source": [
    "highy = llc_tbl.iloc[highn.index]"
   ]
  },
  {
   "cell_type": "code",
   "execution_count": 9,
   "id": "c1c47ad9-a7b2-4ee9-bf26-788edc68ce51",
   "metadata": {},
   "outputs": [],
   "source": [
    "diff = highy.LL - highn.LL"
   ]
  },
  {
   "cell_type": "code",
   "execution_count": 11,
   "id": "ab71e9bc-a7f7-4842-bb0e-6197d26183f4",
   "metadata": {},
   "outputs": [
    {
     "data": {
      "image/png": "[encoded data removed]",
      "text/plain": [
       "<Figure size 864x576 with 1 Axes>"
      ]
     },
     "metadata": {
      "needs_background": "light"
     },
     "output_type": "display_data"
    }
   ],
   "source": [
    "fig = plt.figure(figsize=(12,8))\n",
    "ax = plt.gca()\n",
    "_ = sns.histplot(diff, ax=ax, stat = 'count', binwidth=20, color = 'c')"
   ]
  },
  {
   "cell_type": "code",
   "execution_count": 37,
   "id": "6884558a-24a4-4b6d-a470-6fc713e49310",
   "metadata": {},
   "outputs": [
    {
     "data": {
      "image/png": "[encoded data removed]",
      "text/plain": [
       "<Figure size 864x576 with 1 Axes>"
      ]
     },
     "metadata": {
      "needs_background": "light"
     },
     "output_type": "display_data"
    }
   ],
   "source": [
    "fig = plt.figure(figsize=(12,8))\n",
    "ax = plt.gca()\n",
    "_ = sns.histplot(highn, x='LL', ax=ax, stat = 'count', label ='no noise', binwidth=20, color = 'c')\n",
    "_ = sns.histplot(highy, x='LL', ax=ax, stat = 'count', label ='with noise', binwidth=20, color = 'darkseagreen')\n",
    "\n",
    "ax.set_xlim(500., 1200.)\n",
    "ax.set_xlabel( 'LL', fontsize = 18)\n",
    "ax.set_ylabel( 'Counts', fontsize = 18)\n",
    "ax.set_title( 'Noise Effect for Cutouts at Higher LL Values', fontsize = 20)\n",
    "ax.legend()\n",
    "\n",
    "plt.savefig( 'Noise_effect_LLC_uniform_high_LL', dpi = 300)"
   ]
  },
  {
   "cell_type": "markdown",
   "id": "543bb83a-bec3-4d65-9642-38d92f52e795",
   "metadata": {},
   "source": [
    "# Low LL Group"
   ]
  },
  {
   "cell_type": "code",
   "execution_count": 12,
   "id": "44360cf3-25cd-4902-9b8b-1931ebeb01e9",
   "metadata": {},
   "outputs": [
    {
     "data": {
      "text/plain": [
       "Int64Index([     2,      3,      4,      5,      6,      7,      8,      9,\n",
       "                10,     11,\n",
       "            ...\n",
       "            778747, 778748, 778752, 778755, 778757, 778758, 778965, 778969,\n",
       "            779163, 779164],\n",
       "           dtype='int64', length=366321)"
      ]
     },
     "execution_count": 12,
     "metadata": {},
     "output_type": "execute_result"
    }
   ],
   "source": [
    "lown = llc_uniform[ (llc_uniform.LL > 0) & (llc_uniform.LL < 600)]\n",
    "lown.index"
   ]
  },
  {
   "cell_type": "code",
   "execution_count": 13,
   "id": "ea6691fb-5d8a-47f2-b4e7-f2c968cbf8fb",
   "metadata": {},
   "outputs": [],
   "source": [
    "lowy = llc_tbl.iloc[lown.index]"
   ]
  },
  {
   "cell_type": "code",
   "execution_count": 15,
   "id": "05ae84d9-07c4-461c-b438-3df07fe830db",
   "metadata": {},
   "outputs": [],
   "source": [
    "diffl = lowy.LL - lown.LL"
   ]
  },
  {
   "cell_type": "code",
   "execution_count": 30,
   "id": "ea7c61e6-f07f-4f98-956b-9ac6acd6b9c4",
   "metadata": {},
   "outputs": [
    {
     "data": {
      "image/png": "[encoded data removed]",
      "text/plain": [
       "<Figure size 864x576 with 1 Axes>"
      ]
     },
     "metadata": {
      "needs_background": "light"
     },
     "output_type": "display_data"
    }
   ],
   "source": [
    "fig = plt.figure(figsize=(12,8))\n",
    "ax = plt.gca()\n",
    "_ = sns.histplot(diff, ax=ax, stat = 'density', binwidth=1, label = 'high LL', color = 'darkseagreen')\n",
    "_ = sns.histplot(diffl, ax=ax, stat = 'density', binwidth=1, label = 'low LL', color = 'c')\n",
    "\n",
    "ax.legend()\n",
    "ax.set_title('LL Difference due to Noise Contribution', fontsize = 20)\n",
    "ax.set_ylabel('Normalized Counts', fontsize = 18)\n",
    "ax.set_xlabel(r'$LL_{after} - LL_{before}$', fontsize = 18)\n",
    "\n",
    "#plt.savefig( 'LL_diff_noise_LLC', dpi = 300)"
   ]
  },
  {
   "cell_type": "code",
   "execution_count": null,
   "id": "1f1a8426-4bd9-4f06-8e39-cf8d2b87a46c",
   "metadata": {},
   "outputs": [],
   "source": []
  },
  {
   "cell_type": "code",
   "execution_count": 36,
   "id": "acfdab00-b906-4f1e-b83f-70b5a5009f0c",
   "metadata": {},
   "outputs": [
    {
     "data": {
      "image/png": "[encoded data removed]",
      "text/plain": [
       "<Figure size 864x576 with 1 Axes>"
      ]
     },
     "metadata": {
      "needs_background": "light"
     },
     "output_type": "display_data"
    }
   ],
   "source": [
    "fig = plt.figure(figsize=(12,8))\n",
    "ax = plt.gca()\n",
    "_ = sns.histplot(lown, x='LL', ax=ax, stat = 'count', label ='no noise', binwidth=20, color = 'c')\n",
    "_ = sns.histplot(lowy, x='LL', ax=ax, stat = 'count', label ='with noise', binwidth=20, color = 'darkseagreen')\n",
    "\n",
    "ax.set_xlim(-100, 700)\n",
    "ax.set_xlabel( 'LL', fontsize = 18)\n",
    "ax.set_ylabel( 'Counts', fontsize = 18)\n",
    "ax.set_title( 'Noise Effect for Cutouts at Lower LL Values', fontsize = 20)\n",
    "ax.legend()\n",
    "\n",
    "#plt.savefig( 'Noise_effect_LLC_uniform_low_LL', dpi = 300)"
   ]
  },
  {
   "cell_type": "code",
   "execution_count": null,
   "id": "103d7c0d-fcd3-4068-acf8-9953d4712f7c",
   "metadata": {},
   "outputs": [],
   "source": [
    "\n",
    "fig, axes = plt.subplots(5, 4, figsize = (20,25) )\n",
    "\n",
    "_, cm = ulmo_plotting.load_palette()\n",
    "\n",
    "with h5py.File('/home/jovyan/ulmo/ulmo/notebooks/LLC_modis2012_test_preproc.h5', 'r') as pp_hf:\n",
    "    \n",
    "    mean_T = pp_hf['valid_metadata'][:,7]\n",
    "    \n",
    "    for i, elem in enumerate(li):\n",
    "\n",
    "        ax = axes[i][0]\n",
    "        img = pp_hf['valid'][elem, 0, ...]\n",
    "        g = sns.heatmap(np.flipud(img), xticklabels = [], yticklabels = [], cmap=cm, ax = ax)\n",
    "        tmp = float( mean_T[elem].decode() )\n",
    "        g.set_title('Mean T: {} C and noise_sigma: {}'.format(round(tmp), round(0.031 + 0.0048*tmp, 2)))\n",
    "        \n",
    "        ax = axes[i][1]\n",
    "        \n",
    "        h = sns.histplot(img.flatten(), stat = 'count', ax =ax, legend = False)\n",
    "        h.set_title('SSTa hist w/o noise')\n",
    "        \n",
    "with h5py.File('/home/jovyan/ulmo/ulmo/notebooks/LLC_modis2012_test_SST_noise_preproc.h5', 'r') as pp_hf:\n",
    "    \n",
    "    for i, elem in enumerate(li):\n",
    "\n",
    "        ax = axes[i][2]\n",
    "        img = pp_hf['valid'][elem, 0, ...]\n",
    "        g = sns.heatmap(np.flipud(img), xticklabels = [], yticklabels = [], cmap=cm, ax = ax)\n",
    "        \n",
    "        ax = axes[i][3]\n",
    "        \n",
    "        h = sns.histplot(img.flatten(), stat = 'count', ax = ax, legend = False)\n",
    "        h.set_title('SSTa hist w/ noise')\n",
    "    \n",
    "\n",
    "plt.show()"
   ]
  },
  {
   "cell_type": "code",
   "execution_count": 13,
   "id": "34efb12c-417c-466f-9053-0692d5497eae",
   "metadata": {},
   "outputs": [],
   "source": [
    "cutouty = llc_tbl.iloc[1035]\n",
    "cutoutn = llc_uniform.iloc[1035]"
   ]
  },
  {
   "cell_type": "code",
   "execution_count": 24,
   "id": "93ba33de-f956-4ee1-8f30-e6c88703d3c9",
   "metadata": {},
   "outputs": [
    {
     "data": {
      "image/png": "[encoded data removed]",
      "text/plain": [
       "<Figure size 432x288 with 2 Axes>"
      ]
     },
     "metadata": {
      "needs_background": "light"
     },
     "output_type": "display_data"
    }
   ],
   "source": [
    "imgy = image_utils.grab_image(cutouty) # , local_file=local_preproc)\n",
    "_, cm = ulmo_plotting.load_palette()\n",
    "    \n",
    "ax = sns.heatmap(np.flipud(imgy), xticklabels=[],\n",
    "                     yticklabels=[], cmap=cm, cbar=True, cbar_kws={'label': r'$\\Delta T$'})\n",
    "ax.figure.axes[-1].yaxis.label.set_size(18)\n",
    "\n",
    "plt.savefig('image', dpi=600)\n"
   ]
  },
  {
   "cell_type": "code",
   "execution_count": 25,
   "id": "744ba8a9-ad18-413b-bb63-daae0160e376",
   "metadata": {},
   "outputs": [
    {
     "data": {
      "text/plain": [
       "'/home/jovyan/ulmo/ulmo/notebooks'"
      ]
     },
     "execution_count": 25,
     "metadata": {},
     "output_type": "execute_result"
    }
   ],
   "source": [
    "pwd"
   ]
  },
  {
   "cell_type": "code",
   "execution_count": 26,
   "id": "e384be08-31d8-4acd-8360-0328854a4be4",
   "metadata": {},
   "outputs": [
    {
     "data": {
      "image/png": "[encoded data removed]",
      "text/plain": [
       "<Figure size 432x288 with 2 Axes>"
      ]
     },
     "metadata": {
      "needs_background": "light"
     },
     "output_type": "display_data"
    }
   ],
   "source": [
    "imgn = image_utils.grab_image(cutoutn) # , local_file=local_preproc)\n",
    "_, cm = ulmo_plotting.load_palette()\n",
    "    \n",
    "ax = sns.heatmap(np.flipud(imgn), xticklabels=[],\n",
    "                     yticklabels=[], cmap=cm, cbar=True, cbar_kws={'label': r'$\\Delta T$'})\n",
    "ax.figure.axes[-1].yaxis.label.set_size(18)\n",
    "\n",
    "plt.savefig('image', dpi=600)"
   ]
  },
  {
   "cell_type": "code",
   "execution_count": null,
   "id": "9be2d8cf-bcbb-498c-b9bc-658180ef9c9d",
   "metadata": {},
   "outputs": [],
   "source": []
  }
 ],
 "metadata": {
  "kernelspec": {
   "display_name": "Python 3 (ipykernel)",
   "language": "python",
   "name": "python3"
  },
  "language_info": {
   "codemirror_mode": {
    "name": "ipython",
    "version": 3
   },
   "file_extension": ".py",
   "mimetype": "text/x-python",
   "name": "python",
   "nbconvert_exporter": "python",
   "pygments_lexer": "ipython3",
   "version": "3.9.7"
  }
 },
 "nbformat": 4,
 "nbformat_minor": 5
}
