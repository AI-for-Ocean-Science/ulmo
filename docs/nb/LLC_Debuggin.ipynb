{
 "cells": [
  {
   "cell_type": "markdown",
   "metadata": {},
   "source": [
    "# LLC Debuggin"
   ]
  },
  {
   "cell_type": "code",
   "execution_count": 1,
   "metadata": {},
   "outputs": [],
   "source": [
    "# imports\n",
    "# imports\n",
    "from importlib import reload\n",
    "\n",
    "import os\n",
    "import numpy as np\n",
    "\n",
    "import pandas\n",
    "import xarray\n",
    "import h5py\n",
    "\n",
    "import torch\n",
    "from tqdm.auto import tqdm\n",
    "\n",
    "from matplotlib import pyplot as plt\n",
    "import seaborn as sns\n",
    "\n",
    "from ulmo import io as ulmo_io\n",
    "from ulmo import plotting\n",
    "from ulmo.llc import io as llc_io\n",
    "from ulmo.models import io as model_io"
   ]
  },
  {
   "cell_type": "code",
   "execution_count": 2,
   "metadata": {},
   "outputs": [],
   "source": [
    "sns.set_theme()\n",
    "sns.set_style('whitegrid')\n",
    "sns.set_context('notebook')"
   ]
  },
  {
   "cell_type": "code",
   "execution_count": 3,
   "metadata": {},
   "outputs": [],
   "source": [
    "def pp_to_LL(pp_field, pae):\n",
    "    # Latent\n",
    "    pp_field.resize(1, 1, 64, 64)\n",
    "    dset = torch.utils.data.TensorDataset(torch.from_numpy(pp_field).float())\n",
    "    loader = torch.utils.data.DataLoader(\n",
    "        dset, batch_size=1, shuffle=False,\n",
    "        drop_last=False, num_workers=16)\n",
    "    with torch.no_grad():\n",
    "        latents = [pae.autoencoder.encode(data[0].to(pae.device)).detach().cpu().numpy()\n",
    "                   for data in loader] #tqdm(loader, total=len(loader), unit='batch', desc='Computing latents')]\n",
    "    print(\"Latents generated!\")\n",
    "\n",
    "\n",
    "    latents = pae.scaler.transform(np.concatenate(latents))\n",
    "    #latents = np.concatenate(latents)\n",
    "\n",
    "    # Debug\n",
    "    #print(\"Debug: {}\".format(np.sum(latents)))\n",
    "\n",
    "    # LL\n",
    "    dset = torch.utils.data.TensorDataset(torch.from_numpy(latents).float())\n",
    "    loader = torch.utils.data.DataLoader(\n",
    "        dset, batch_size=1024, shuffle=False,\n",
    "        drop_last=False, num_workers=16)\n",
    "\n",
    "    with torch.no_grad():\n",
    "        log_prob = [pae.flow.log_prob(data[0].to(pae.device)).detach().cpu().numpy()\n",
    "                        for data in loader] #tqdm(loader, total=len(loader), unit='batch', desc='Computing log probs')]\n",
    "    print(\"Log probabilities generated!\")\n",
    "    \n",
    "    # Return\n",
    "    return log_prob[0]"
   ]
  },
  {
   "cell_type": "markdown",
   "metadata": {},
   "source": [
    "# Load the main table"
   ]
  },
  {
   "cell_type": "code",
   "execution_count": 4,
   "metadata": {},
   "outputs": [
    {
     "name": "stdout",
     "output_type": "stream",
     "text": [
      "Read main table: s3://llc/Tables/test_uniform_r0.5_test.feather\n"
     ]
    }
   ],
   "source": [
    "tbl_file = 's3://llc/Tables/test_uniform_r0.5_test.feather'\n",
    "llc_table = ulmo_io.load_main_table(tbl_file)"
   ]
  },
  {
   "cell_type": "code",
   "execution_count": 5,
   "metadata": {},
   "outputs": [],
   "source": [
    "llc_table['DT'] = llc_table.T90 - llc_table.T10"
   ]
  },
  {
   "cell_type": "markdown",
   "metadata": {},
   "source": [
    "# Load MODIS PAE (Ulmo)"
   ]
  },
  {
   "cell_type": "code",
   "execution_count": 6,
   "metadata": {},
   "outputs": [
    {
     "name": "stdout",
     "output_type": "stream",
     "text": [
      "Using device=cpu\n",
      "Loading autoencoder model from: s3://modis-l2/Models/R2019_2010_128x128_std/autoencoder.pt\n",
      "Loading flow model from: s3://modis-l2/Models/R2019_2010_128x128_std/flow.pt\n",
      "scaler loaded from: s3://modis-l2/Models/R2019_2010_128x128_std/MODIS_R2019_2010_95clear_128x128_preproc_std_scaler.pkl\n"
     ]
    },
    {
     "name": "stderr",
     "output_type": "stream",
     "text": [
      "/home/xavier/Projects/anaconda3/lib/python3.8/site-packages/sklearn/base.py:329: UserWarning: Trying to unpickle estimator StandardScaler from version 0.23.1 when using version 0.23.2. This might lead to breaking code or invalid results. Use at your own risk.\n",
      "  warnings.warn(\n"
     ]
    }
   ],
   "source": [
    "pae = model_io.load_modis_l2(flavor='std', local=False)"
   ]
  },
  {
   "cell_type": "markdown",
   "metadata": {},
   "source": [
    "# Bogus LL?"
   ]
  },
  {
   "cell_type": "markdown",
   "metadata": {},
   "source": [
    "## High DT, LL=1000"
   ]
  },
  {
   "cell_type": "code",
   "execution_count": 7,
   "metadata": {},
   "outputs": [],
   "source": [
    "high_DT = llc_table.DT > 4."
   ]
  },
  {
   "cell_type": "code",
   "execution_count": 8,
   "metadata": {},
   "outputs": [
    {
     "data": {
      "text/plain": [
       "800"
      ]
     },
     "execution_count": 8,
     "metadata": {},
     "output_type": "execute_result"
    }
   ],
   "source": [
    "LL1000 = np.abs(llc_table.LL - 1000.) < 1\n",
    "np.sum(LL1000)"
   ]
  },
  {
   "cell_type": "code",
   "execution_count": 9,
   "metadata": {},
   "outputs": [
    {
     "data": {
      "text/html": [
       "<div>\n",
       "<style scoped>\n",
       "    .dataframe tbody tr th:only-of-type {\n",
       "        vertical-align: middle;\n",
       "    }\n",
       "\n",
       "    .dataframe tbody tr th {\n",
       "        vertical-align: top;\n",
       "    }\n",
       "\n",
       "    .dataframe thead th {\n",
       "        text-align: right;\n",
       "    }\n",
       "</style>\n",
       "<table border=\"1\" class=\"dataframe\">\n",
       "  <thead>\n",
       "    <tr style=\"text-align: right;\">\n",
       "      <th></th>\n",
       "      <th>lat</th>\n",
       "      <th>lon</th>\n",
       "      <th>row</th>\n",
       "      <th>col</th>\n",
       "      <th>datetime</th>\n",
       "      <th>LLC_file</th>\n",
       "      <th>pp_file</th>\n",
       "      <th>pp_root</th>\n",
       "      <th>field_size</th>\n",
       "      <th>mean_temperature</th>\n",
       "      <th>Tmin</th>\n",
       "      <th>Tmax</th>\n",
       "      <th>T90</th>\n",
       "      <th>T10</th>\n",
       "      <th>pp_idx</th>\n",
       "      <th>pp_type</th>\n",
       "      <th>LL</th>\n",
       "      <th>DT</th>\n",
       "    </tr>\n",
       "  </thead>\n",
       "  <tbody>\n",
       "    <tr>\n",
       "      <th>103673</th>\n",
       "      <td>-42.213848</td>\n",
       "      <td>53.510418</td>\n",
       "      <td>5460</td>\n",
       "      <td>4360</td>\n",
       "      <td>2011-09-30</td>\n",
       "      <td>s3://llc/ThetaUVSalt/LLC4320_2011-09-30T00_00_...</td>\n",
       "      <td>s3://llc/PreProc/LLC_uniform_test_preproc.h5</td>\n",
       "      <td>llc_std</td>\n",
       "      <td>64</td>\n",
       "      <td>7.573065</td>\n",
       "      <td>5.070</td>\n",
       "      <td>14.835000</td>\n",
       "      <td>11.124001</td>\n",
       "      <td>5.551000</td>\n",
       "      <td>39559</td>\n",
       "      <td>0</td>\n",
       "      <td>999.113403</td>\n",
       "      <td>5.573001</td>\n",
       "    </tr>\n",
       "    <tr>\n",
       "      <th>136246</th>\n",
       "      <td>50.477859</td>\n",
       "      <td>-43.718750</td>\n",
       "      <td>10931</td>\n",
       "      <td>16973</td>\n",
       "      <td>2011-11-30</td>\n",
       "      <td>s3://llc/ThetaUVSalt/LLC4320_2011-11-30T00_00_...</td>\n",
       "      <td>s3://llc/PreProc/LLC_uniform_test_preproc.h5</td>\n",
       "      <td>llc_std</td>\n",
       "      <td>64</td>\n",
       "      <td>8.483759</td>\n",
       "      <td>5.957</td>\n",
       "      <td>10.844000</td>\n",
       "      <td>10.297000</td>\n",
       "      <td>6.287000</td>\n",
       "      <td>121046</td>\n",
       "      <td>0</td>\n",
       "      <td>999.287964</td>\n",
       "      <td>4.010000</td>\n",
       "    </tr>\n",
       "    <tr>\n",
       "      <th>145084</th>\n",
       "      <td>36.058659</td>\n",
       "      <td>148.364578</td>\n",
       "      <td>9903</td>\n",
       "      <td>8913</td>\n",
       "      <td>2011-11-30</td>\n",
       "      <td>s3://llc/ThetaUVSalt/LLC4320_2011-11-30T00_00_...</td>\n",
       "      <td>s3://llc/PreProc/LLC_uniform_test_preproc.h5</td>\n",
       "      <td>llc_std</td>\n",
       "      <td>64</td>\n",
       "      <td>19.235039</td>\n",
       "      <td>16.417</td>\n",
       "      <td>22.192001</td>\n",
       "      <td>21.603001</td>\n",
       "      <td>16.598000</td>\n",
       "      <td>309044</td>\n",
       "      <td>0</td>\n",
       "      <td>1000.429565</td>\n",
       "      <td>5.005001</td>\n",
       "    </tr>\n",
       "    <tr>\n",
       "      <th>490085</th>\n",
       "      <td>-38.689117</td>\n",
       "      <td>22.843750</td>\n",
       "      <td>5700</td>\n",
       "      <td>2888</td>\n",
       "      <td>2012-03-31</td>\n",
       "      <td>s3://llc/ThetaUVSalt/LLC4320_2012-03-31T00_00_...</td>\n",
       "      <td>s3://llc/PreProc/LLC_uniform_test_preproc.h5</td>\n",
       "      <td>llc_std</td>\n",
       "      <td>64</td>\n",
       "      <td>19.742813</td>\n",
       "      <td>17.528</td>\n",
       "      <td>23.162001</td>\n",
       "      <td>22.833000</td>\n",
       "      <td>18.447001</td>\n",
       "      <td>42448</td>\n",
       "      <td>0</td>\n",
       "      <td>999.895996</td>\n",
       "      <td>4.386000</td>\n",
       "    </tr>\n",
       "    <tr>\n",
       "      <th>494464</th>\n",
       "      <td>-42.213848</td>\n",
       "      <td>25.156250</td>\n",
       "      <td>5460</td>\n",
       "      <td>2999</td>\n",
       "      <td>2012-03-31</td>\n",
       "      <td>s3://llc/ThetaUVSalt/LLC4320_2012-03-31T00_00_...</td>\n",
       "      <td>s3://llc/PreProc/LLC_uniform_test_preproc.h5</td>\n",
       "      <td>llc_std</td>\n",
       "      <td>64</td>\n",
       "      <td>13.304924</td>\n",
       "      <td>10.480</td>\n",
       "      <td>18.054001</td>\n",
       "      <td>15.654000</td>\n",
       "      <td>11.402000</td>\n",
       "      <td>118080</td>\n",
       "      <td>0</td>\n",
       "      <td>999.613159</td>\n",
       "      <td>4.252000</td>\n",
       "    </tr>\n",
       "    <tr>\n",
       "      <th>532255</th>\n",
       "      <td>40.678158</td>\n",
       "      <td>-71.197914</td>\n",
       "      <td>10209</td>\n",
       "      <td>15654</td>\n",
       "      <td>2012-05-31</td>\n",
       "      <td>s3://llc/ThetaUVSalt/LLC4320_2012-05-31T00_00_...</td>\n",
       "      <td>s3://llc/PreProc/LLC_uniform_test_preproc.h5</td>\n",
       "      <td>llc_std</td>\n",
       "      <td>64</td>\n",
       "      <td>13.862737</td>\n",
       "      <td>10.584</td>\n",
       "      <td>17.153999</td>\n",
       "      <td>16.531000</td>\n",
       "      <td>11.399000</td>\n",
       "      <td>323579</td>\n",
       "      <td>0</td>\n",
       "      <td>1000.457397</td>\n",
       "      <td>5.132000</td>\n",
       "    </tr>\n",
       "    <tr>\n",
       "      <th>759293</th>\n",
       "      <td>-45.784721</td>\n",
       "      <td>62.156250</td>\n",
       "      <td>5204</td>\n",
       "      <td>4775</td>\n",
       "      <td>2012-07-31</td>\n",
       "      <td>s3://llc/ThetaUVSalt/LLC4320_2012-07-31T00_00_...</td>\n",
       "      <td>s3://llc/PreProc/LLC_uniform_test_preproc.h5</td>\n",
       "      <td>llc_std</td>\n",
       "      <td>64</td>\n",
       "      <td>9.794881</td>\n",
       "      <td>7.307</td>\n",
       "      <td>13.709000</td>\n",
       "      <td>13.293000</td>\n",
       "      <td>7.630000</td>\n",
       "      <td>194881</td>\n",
       "      <td>0</td>\n",
       "      <td>1000.355652</td>\n",
       "      <td>5.663000</td>\n",
       "    </tr>\n",
       "  </tbody>\n",
       "</table>\n",
       "</div>"
      ],
      "text/plain": [
       "              lat         lon    row    col   datetime  \\\n",
       "103673 -42.213848   53.510418   5460   4360 2011-09-30   \n",
       "136246  50.477859  -43.718750  10931  16973 2011-11-30   \n",
       "145084  36.058659  148.364578   9903   8913 2011-11-30   \n",
       "490085 -38.689117   22.843750   5700   2888 2012-03-31   \n",
       "494464 -42.213848   25.156250   5460   2999 2012-03-31   \n",
       "532255  40.678158  -71.197914  10209  15654 2012-05-31   \n",
       "759293 -45.784721   62.156250   5204   4775 2012-07-31   \n",
       "\n",
       "                                                 LLC_file  \\\n",
       "103673  s3://llc/ThetaUVSalt/LLC4320_2011-09-30T00_00_...   \n",
       "136246  s3://llc/ThetaUVSalt/LLC4320_2011-11-30T00_00_...   \n",
       "145084  s3://llc/ThetaUVSalt/LLC4320_2011-11-30T00_00_...   \n",
       "490085  s3://llc/ThetaUVSalt/LLC4320_2012-03-31T00_00_...   \n",
       "494464  s3://llc/ThetaUVSalt/LLC4320_2012-03-31T00_00_...   \n",
       "532255  s3://llc/ThetaUVSalt/LLC4320_2012-05-31T00_00_...   \n",
       "759293  s3://llc/ThetaUVSalt/LLC4320_2012-07-31T00_00_...   \n",
       "\n",
       "                                             pp_file  pp_root  field_size  \\\n",
       "103673  s3://llc/PreProc/LLC_uniform_test_preproc.h5  llc_std          64   \n",
       "136246  s3://llc/PreProc/LLC_uniform_test_preproc.h5  llc_std          64   \n",
       "145084  s3://llc/PreProc/LLC_uniform_test_preproc.h5  llc_std          64   \n",
       "490085  s3://llc/PreProc/LLC_uniform_test_preproc.h5  llc_std          64   \n",
       "494464  s3://llc/PreProc/LLC_uniform_test_preproc.h5  llc_std          64   \n",
       "532255  s3://llc/PreProc/LLC_uniform_test_preproc.h5  llc_std          64   \n",
       "759293  s3://llc/PreProc/LLC_uniform_test_preproc.h5  llc_std          64   \n",
       "\n",
       "        mean_temperature    Tmin       Tmax        T90        T10  pp_idx  \\\n",
       "103673          7.573065   5.070  14.835000  11.124001   5.551000   39559   \n",
       "136246          8.483759   5.957  10.844000  10.297000   6.287000  121046   \n",
       "145084         19.235039  16.417  22.192001  21.603001  16.598000  309044   \n",
       "490085         19.742813  17.528  23.162001  22.833000  18.447001   42448   \n",
       "494464         13.304924  10.480  18.054001  15.654000  11.402000  118080   \n",
       "532255         13.862737  10.584  17.153999  16.531000  11.399000  323579   \n",
       "759293          9.794881   7.307  13.709000  13.293000   7.630000  194881   \n",
       "\n",
       "        pp_type           LL        DT  \n",
       "103673        0   999.113403  5.573001  \n",
       "136246        0   999.287964  4.010000  \n",
       "145084        0  1000.429565  5.005001  \n",
       "490085        0   999.895996  4.386000  \n",
       "494464        0   999.613159  4.252000  \n",
       "532255        0  1000.457397  5.132000  \n",
       "759293        0  1000.355652  5.663000  "
      ]
     },
     "execution_count": 9,
     "metadata": {},
     "output_type": "execute_result"
    }
   ],
   "source": [
    "llc_table[LL1000 & high_DT]"
   ]
  },
  {
   "cell_type": "markdown",
   "metadata": {},
   "source": [
    "## Load PP img"
   ]
  },
  {
   "cell_type": "code",
   "execution_count": 10,
   "metadata": {},
   "outputs": [],
   "source": [
    "cutout = llc_table.iloc[103673]\n",
    "img, pp_hf = llc_io.grab_image(cutout, close=False)"
   ]
  },
  {
   "cell_type": "code",
   "execution_count": 11,
   "metadata": {},
   "outputs": [
    {
     "data": {
      "text/plain": [
       "lat                                                          -42.2138\n",
       "lon                                                           53.5104\n",
       "row                                                              5460\n",
       "col                                                              4360\n",
       "datetime                                          2011-09-30 00:00:00\n",
       "LLC_file            s3://llc/ThetaUVSalt/LLC4320_2011-09-30T00_00_...\n",
       "pp_file                  s3://llc/PreProc/LLC_uniform_test_preproc.h5\n",
       "pp_root                                                       llc_std\n",
       "field_size                                                         64\n",
       "mean_temperature                                              7.57307\n",
       "Tmin                                                             5.07\n",
       "Tmax                                                           14.835\n",
       "T90                                                            11.124\n",
       "T10                                                             5.551\n",
       "pp_idx                                                          39559\n",
       "pp_type                                                             0\n",
       "LL                                                            999.113\n",
       "DT                                                              5.573\n",
       "Name: 103673, dtype: object"
      ]
     },
     "execution_count": 11,
     "metadata": {},
     "output_type": "execute_result"
    }
   ],
   "source": [
    "cutout"
   ]
  },
  {
   "cell_type": "markdown",
   "metadata": {},
   "source": [
    "## Recalculate LL"
   ]
  },
  {
   "cell_type": "code",
   "execution_count": 12,
   "metadata": {},
   "outputs": [
    {
     "name": "stdout",
     "output_type": "stream",
     "text": [
      "Latents generated!\n",
      "Log probabilities generated!\n"
     ]
    }
   ],
   "source": [
    "LL = pp_to_LL(img, pae)"
   ]
  },
  {
   "cell_type": "code",
   "execution_count": 14,
   "metadata": {},
   "outputs": [],
   "source": [
    "#GPU : -45 or so [the number is not fixed]"
   ]
  },
  {
   "cell_type": "code",
   "execution_count": 13,
   "metadata": {},
   "outputs": [
    {
     "data": {
      "text/plain": [
       "array([-46.58142], dtype=float32)"
      ]
     },
     "execution_count": 13,
     "metadata": {},
     "output_type": "execute_result"
    }
   ],
   "source": [
    "LL"
   ]
  },
  {
   "cell_type": "code",
   "execution_count": null,
   "metadata": {},
   "outputs": [],
   "source": []
  }
 ],
 "metadata": {
  "kernelspec": {
   "display_name": "Python 3",
   "language": "python",
   "name": "python3"
  },
  "language_info": {
   "codemirror_mode": {
    "name": "ipython",
    "version": 3
   },
   "file_extension": ".py",
   "mimetype": "text/x-python",
   "name": "python",
   "nbconvert_exporter": "python",
   "pygments_lexer": "ipython3",
   "version": "3.8.5"
  }
 },
 "nbformat": 4,
 "nbformat_minor": 4
}
