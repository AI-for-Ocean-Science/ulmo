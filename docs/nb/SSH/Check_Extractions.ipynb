{
 "cells": [
  {
   "cell_type": "markdown",
   "id": "1f4e0294-6cad-42d0-88c4-9bc06d49de62",
   "metadata": {},
   "source": [
    "# Check SSH Output"
   ]
  },
  {
   "cell_type": "code",
   "execution_count": 19,
   "id": "7199a913-1c26-480a-999c-820a3a2f449a",
   "metadata": {},
   "outputs": [],
   "source": [
    "# imports\n",
    "from matplotlib import pyplot as plt\n",
    "\n",
    "from ulmo import io as ulmo_io\n",
    "from ulmo.plotting import plotting\n",
    "\n",
    "import h5py"
   ]
  },
  {
   "cell_type": "markdown",
   "id": "f3097abc-59a0-4cd8-8353-ef96512d776e",
   "metadata": {},
   "source": [
    "# Load up the Table"
   ]
  },
  {
   "cell_type": "code",
   "execution_count": 11,
   "id": "481fab63-411a-4882-90c7-285568df50e9",
   "metadata": {},
   "outputs": [
    {
     "name": "stdout",
     "output_type": "stream",
     "text": [
      "Read main table: s3://ssh/Tables/SSH_tst.parquet\n"
     ]
    }
   ],
   "source": [
    "ssh_tbl = ulmo_io.load_main_table('s3://ssh/Tables/SSH_tst.parquet')"
   ]
  },
  {
   "cell_type": "code",
   "execution_count": 12,
   "id": "135e9965-5989-4531-8c1f-f14a0c2bc1b6",
   "metadata": {},
   "outputs": [
    {
     "data": {
      "text/html": [
       "<div>\n",
       "<style scoped>\n",
       "    .dataframe tbody tr th:only-of-type {\n",
       "        vertical-align: middle;\n",
       "    }\n",
       "\n",
       "    .dataframe tbody tr th {\n",
       "        vertical-align: top;\n",
       "    }\n",
       "\n",
       "    .dataframe thead th {\n",
       "        text-align: right;\n",
       "    }\n",
       "</style>\n",
       "<table border=\"1\" class=\"dataframe\">\n",
       "  <thead>\n",
       "    <tr style=\"text-align: right;\">\n",
       "      <th></th>\n",
       "      <th>filename</th>\n",
       "      <th>row</th>\n",
       "      <th>col</th>\n",
       "      <th>lat</th>\n",
       "      <th>lon</th>\n",
       "      <th>clear_fraction</th>\n",
       "      <th>field_size</th>\n",
       "      <th>datetime</th>\n",
       "      <th>ex_filename</th>\n",
       "    </tr>\n",
       "  </thead>\n",
       "  <tbody>\n",
       "    <tr>\n",
       "      <th>0</th>\n",
       "      <td>/home/jovyan/sshdata_mini/ssh_grids_v1812_1992...</td>\n",
       "      <td>8</td>\n",
       "      <td>160</td>\n",
       "      <td>-50.583332</td>\n",
       "      <td>4.083334</td>\n",
       "      <td>0.0</td>\n",
       "      <td>32</td>\n",
       "      <td>1992-11-06 12:00:00</td>\n",
       "      <td>s3://ssh/Extractions/SSH_95clear_32x32_tst.h5</td>\n",
       "    </tr>\n",
       "    <tr>\n",
       "      <th>1</th>\n",
       "      <td>/home/jovyan/sshdata_mini/ssh_grids_v1812_1992...</td>\n",
       "      <td>8</td>\n",
       "      <td>176</td>\n",
       "      <td>-47.916668</td>\n",
       "      <td>4.083334</td>\n",
       "      <td>0.0</td>\n",
       "      <td>32</td>\n",
       "      <td>1992-11-06 12:00:00</td>\n",
       "      <td>s3://ssh/Extractions/SSH_95clear_32x32_tst.h5</td>\n",
       "    </tr>\n",
       "    <tr>\n",
       "      <th>2</th>\n",
       "      <td>/home/jovyan/sshdata_mini/ssh_grids_v1812_1992...</td>\n",
       "      <td>8</td>\n",
       "      <td>192</td>\n",
       "      <td>-45.250000</td>\n",
       "      <td>4.083334</td>\n",
       "      <td>0.0</td>\n",
       "      <td>32</td>\n",
       "      <td>1992-11-06 12:00:00</td>\n",
       "      <td>s3://ssh/Extractions/SSH_95clear_32x32_tst.h5</td>\n",
       "    </tr>\n",
       "    <tr>\n",
       "      <th>3</th>\n",
       "      <td>/home/jovyan/sshdata_mini/ssh_grids_v1812_1992...</td>\n",
       "      <td>8</td>\n",
       "      <td>208</td>\n",
       "      <td>-42.583332</td>\n",
       "      <td>4.083334</td>\n",
       "      <td>0.0</td>\n",
       "      <td>32</td>\n",
       "      <td>1992-11-06 12:00:00</td>\n",
       "      <td>s3://ssh/Extractions/SSH_95clear_32x32_tst.h5</td>\n",
       "    </tr>\n",
       "    <tr>\n",
       "      <th>4</th>\n",
       "      <td>/home/jovyan/sshdata_mini/ssh_grids_v1812_1992...</td>\n",
       "      <td>8</td>\n",
       "      <td>224</td>\n",
       "      <td>-39.916668</td>\n",
       "      <td>4.083334</td>\n",
       "      <td>0.0</td>\n",
       "      <td>32</td>\n",
       "      <td>1992-11-06 12:00:00</td>\n",
       "      <td>s3://ssh/Extractions/SSH_95clear_32x32_tst.h5</td>\n",
       "    </tr>\n",
       "  </tbody>\n",
       "</table>\n",
       "</div>"
      ],
      "text/plain": [
       "                                            filename  row  col        lat  \\\n",
       "0  /home/jovyan/sshdata_mini/ssh_grids_v1812_1992...    8  160 -50.583332   \n",
       "1  /home/jovyan/sshdata_mini/ssh_grids_v1812_1992...    8  176 -47.916668   \n",
       "2  /home/jovyan/sshdata_mini/ssh_grids_v1812_1992...    8  192 -45.250000   \n",
       "3  /home/jovyan/sshdata_mini/ssh_grids_v1812_1992...    8  208 -42.583332   \n",
       "4  /home/jovyan/sshdata_mini/ssh_grids_v1812_1992...    8  224 -39.916668   \n",
       "\n",
       "        lon  clear_fraction  field_size            datetime  \\\n",
       "0  4.083334             0.0          32 1992-11-06 12:00:00   \n",
       "1  4.083334             0.0          32 1992-11-06 12:00:00   \n",
       "2  4.083334             0.0          32 1992-11-06 12:00:00   \n",
       "3  4.083334             0.0          32 1992-11-06 12:00:00   \n",
       "4  4.083334             0.0          32 1992-11-06 12:00:00   \n",
       "\n",
       "                                     ex_filename  \n",
       "0  s3://ssh/Extractions/SSH_95clear_32x32_tst.h5  \n",
       "1  s3://ssh/Extractions/SSH_95clear_32x32_tst.h5  \n",
       "2  s3://ssh/Extractions/SSH_95clear_32x32_tst.h5  \n",
       "3  s3://ssh/Extractions/SSH_95clear_32x32_tst.h5  \n",
       "4  s3://ssh/Extractions/SSH_95clear_32x32_tst.h5  "
      ]
     },
     "execution_count": 12,
     "metadata": {},
     "output_type": "execute_result"
    }
   ],
   "source": [
    "ssh_tbl.head()"
   ]
  },
  {
   "cell_type": "code",
   "execution_count": 13,
   "id": "79eb2f6e-45d9-48b5-a165-0dd0ebd025aa",
   "metadata": {},
   "outputs": [
    {
     "data": {
      "text/plain": [
       "34844"
      ]
     },
     "execution_count": 13,
     "metadata": {},
     "output_type": "execute_result"
    }
   ],
   "source": [
    "len(ssh_tbl)"
   ]
  },
  {
   "cell_type": "markdown",
   "id": "09b4c3d7-b919-4559-8f69-b095d160ca97",
   "metadata": {},
   "source": [
    "# Download the Extraction file"
   ]
  },
  {
   "cell_type": "code",
   "execution_count": 2,
   "id": "001920f6-0c56-4f36-943f-68482e689737",
   "metadata": {},
   "outputs": [
    {
     "name": "stdout",
     "output_type": "stream",
     "text": [
      "Downloading from s3: SSH_95clear_32x32_tst.h5\n",
      "Done!\n"
     ]
    }
   ],
   "source": [
    "ulmo_io.download_file_from_s3('SSH_95clear_32x32_tst.h5', 's3://ssh/Extractions/SSH_95clear_32x32_tst.h5')"
   ]
  },
  {
   "cell_type": "markdown",
   "id": "66f65a11-cb70-4f39-bb80-f136f43fff56",
   "metadata": {},
   "source": [
    "# Read"
   ]
  },
  {
   "cell_type": "code",
   "execution_count": 9,
   "id": "c398816d-8efe-4ba8-bbdc-38d7751434ff",
   "metadata": {},
   "outputs": [],
   "source": [
    "f = h5py.File('SSH_95clear_32x32_tst.h5', mode='r')"
   ]
  },
  {
   "cell_type": "code",
   "execution_count": 16,
   "id": "cb474df0-7418-436a-bd9f-bcffd714eb2b",
   "metadata": {},
   "outputs": [],
   "source": [
    "extractions = f['fields'][:]"
   ]
  },
  {
   "cell_type": "code",
   "execution_count": 17,
   "id": "901247aa-6197-473f-b2bf-9d941859395c",
   "metadata": {},
   "outputs": [
    {
     "data": {
      "text/plain": [
       "(34844, 32, 32)"
      ]
     },
     "execution_count": 17,
     "metadata": {},
     "output_type": "execute_result"
    }
   ],
   "source": [
    "extractions.shape"
   ]
  },
  {
   "cell_type": "markdown",
   "id": "b66aa0e1-3964-4ea8-a12d-0746738f9390",
   "metadata": {},
   "source": [
    "# Check one"
   ]
  },
  {
   "cell_type": "code",
   "execution_count": 21,
   "id": "ea4ee661-3930-4302-9c47-a890dbd74d7c",
   "metadata": {},
   "outputs": [
    {
     "data": {
      "text/plain": [
       "<AxesSubplot:>"
      ]
     },
     "execution_count": 21,
     "metadata": {},
     "output_type": "execute_result"
    },
    {
     "data": {
      "image/png": "[encoded data removed]",
      "text/plain": [
       "<Figure size 432x288 with 2 Axes>"
      ]
     },
     "metadata": {
      "needs_background": "light"
     },
     "output_type": "display_data"
    }
   ],
   "source": [
    "plotting.show_image(extractions[0,...])"
   ]
  },
  {
   "cell_type": "code",
   "execution_count": null,
   "id": "43b10251-bacc-4d90-83ad-8cff4e65daf9",
   "metadata": {},
   "outputs": [],
   "source": []
  }
 ],
 "metadata": {
  "kernelspec": {
   "display_name": "Python 3 (ipykernel)",
   "language": "python",
   "name": "python3"
  },
  "language_info": {
   "codemirror_mode": {
    "name": "ipython",
    "version": 3
   },
   "file_extension": ".py",
   "mimetype": "text/x-python",
   "name": "python",
   "nbconvert_exporter": "python",
   "pygments_lexer": "ipython3",
   "version": "3.9.7"
  }
 },
 "nbformat": 4,
 "nbformat_minor": 5
}
