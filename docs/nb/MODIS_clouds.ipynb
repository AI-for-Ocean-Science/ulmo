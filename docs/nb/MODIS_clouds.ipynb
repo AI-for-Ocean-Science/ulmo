{
 "cells": [
  {
   "cell_type": "markdown",
   "id": "04b78505",
   "metadata": {},
   "source": [
    "# MODIS Clouds?"
   ]
  },
  {
   "cell_type": "code",
   "execution_count": 22,
   "id": "ff242642",
   "metadata": {},
   "outputs": [],
   "source": [
    "# import\n",
    "import numpy as np\n",
    "import seaborn as sns\n",
    "from matplotlib import pyplot as plt\n",
    "\n",
    "import pandas\n",
    "\n",
    "from ulmo import io as ulmo_io"
   ]
  },
  {
   "cell_type": "markdown",
   "id": "dae3e07c",
   "metadata": {},
   "source": [
    "# Load table"
   ]
  },
  {
   "cell_type": "code",
   "execution_count": 2,
   "id": "8a49203c",
   "metadata": {},
   "outputs": [
    {
     "name": "stdout",
     "output_type": "stream",
     "text": [
      "Read main table: s3://modis-l2/Tables/MODIS_L2_std.parquet\n"
     ]
    }
   ],
   "source": [
    "modis_tbl = ulmo_io.load_main_table('s3://modis-l2/Tables/MODIS_L2_std.parquet')"
   ]
  },
  {
   "cell_type": "code",
   "execution_count": 17,
   "id": "184d31e8",
   "metadata": {},
   "outputs": [
    {
     "name": "stdout",
     "output_type": "stream",
     "text": [
      "Read main table: s3://llc/Tables/ulmo2_test.parquet\n"
     ]
    }
   ],
   "source": [
    "llc_tbl = ulmo_io.load_main_table('s3://llc/Tables/ulmo2_test.parquet')"
   ]
  },
  {
   "cell_type": "code",
   "execution_count": 29,
   "id": "9c824073",
   "metadata": {},
   "outputs": [
    {
     "name": "stdout",
     "output_type": "stream",
     "text": [
      "Read main table: s3://viirs/Tables/VIIRS_2013_std.parquet\n"
     ]
    }
   ],
   "source": [
    "viirs_tbl = ulmo_io.load_main_table('s3://viirs/Tables/VIIRS_2013_std.parquet')"
   ]
  },
  {
   "cell_type": "code",
   "execution_count": 3,
   "id": "7b4788ce",
   "metadata": {},
   "outputs": [
    {
     "data": {
      "text/html": [
       "<div>\n",
       "<style scoped>\n",
       "    .dataframe tbody tr th:only-of-type {\n",
       "        vertical-align: middle;\n",
       "    }\n",
       "\n",
       "    .dataframe tbody tr th {\n",
       "        vertical-align: top;\n",
       "    }\n",
       "\n",
       "    .dataframe thead th {\n",
       "        text-align: right;\n",
       "    }\n",
       "</style>\n",
       "<table border=\"1\" class=\"dataframe\">\n",
       "  <thead>\n",
       "    <tr style=\"text-align: right;\">\n",
       "      <th></th>\n",
       "      <th>lat</th>\n",
       "      <th>lon</th>\n",
       "      <th>col</th>\n",
       "      <th>datetime</th>\n",
       "      <th>LL</th>\n",
       "      <th>row</th>\n",
       "      <th>clear_fraction</th>\n",
       "      <th>mean_temperature</th>\n",
       "      <th>Tmin</th>\n",
       "      <th>Tmax</th>\n",
       "      <th>T90</th>\n",
       "      <th>T10</th>\n",
       "      <th>filename</th>\n",
       "      <th>UID</th>\n",
       "      <th>pp_file</th>\n",
       "      <th>pp_root</th>\n",
       "      <th>field_size</th>\n",
       "      <th>pp_type</th>\n",
       "      <th>pp_idx</th>\n",
       "    </tr>\n",
       "  </thead>\n",
       "  <tbody>\n",
       "    <tr>\n",
       "      <th>0</th>\n",
       "      <td>13.980967</td>\n",
       "      <td>62.675774</td>\n",
       "      <td>517</td>\n",
       "      <td>2003-03-10 21:25:00</td>\n",
       "      <td>520.178711</td>\n",
       "      <td>304</td>\n",
       "      <td>0.000000</td>\n",
       "      <td>26.199476</td>\n",
       "      <td>25.250000</td>\n",
       "      <td>26.885000</td>\n",
       "      <td>26.474998</td>\n",
       "      <td>25.814999</td>\n",
       "      <td>AQUA_MODIS.20030310T212506.L2.SST.nc</td>\n",
       "      <td>1047103981024267577</td>\n",
       "      <td>s3://modis-l2/PreProc/MODIS_R2019_2003_95clear...</td>\n",
       "      <td>standard</td>\n",
       "      <td>128</td>\n",
       "      <td>0</td>\n",
       "      <td>0</td>\n",
       "    </tr>\n",
       "    <tr>\n",
       "      <th>1</th>\n",
       "      <td>13.043748</td>\n",
       "      <td>-102.751816</td>\n",
       "      <td>706</td>\n",
       "      <td>2003-12-12 08:30:00</td>\n",
       "      <td>432.766724</td>\n",
       "      <td>1696</td>\n",
       "      <td>0.049805</td>\n",
       "      <td>28.924648</td>\n",
       "      <td>27.789999</td>\n",
       "      <td>29.654999</td>\n",
       "      <td>29.154999</td>\n",
       "      <td>28.695000</td>\n",
       "      <td>AQUA_MODIS.20031212T083006.L2.SST.nc</td>\n",
       "      <td>107110304377724818</td>\n",
       "      <td>s3://modis-l2/PreProc/MODIS_R2019_2003_95clear...</td>\n",
       "      <td>standard</td>\n",
       "      <td>128</td>\n",
       "      <td>0</td>\n",
       "      <td>1</td>\n",
       "    </tr>\n",
       "    <tr>\n",
       "      <th>2</th>\n",
       "      <td>-18.086618</td>\n",
       "      <td>40.844833</td>\n",
       "      <td>581</td>\n",
       "      <td>2003-09-24 22:35:00</td>\n",
       "      <td>764.413086</td>\n",
       "      <td>656</td>\n",
       "      <td>0.006104</td>\n",
       "      <td>25.551611</td>\n",
       "      <td>24.775000</td>\n",
       "      <td>26.154999</td>\n",
       "      <td>25.750000</td>\n",
       "      <td>25.344999</td>\n",
       "      <td>AQUA_MODIS.20030924T223506.L2.SST.nc</td>\n",
       "      <td>106471913422084483</td>\n",
       "      <td>s3://modis-l2/PreProc/MODIS_R2019_2003_95clear...</td>\n",
       "      <td>standard</td>\n",
       "      <td>128</td>\n",
       "      <td>0</td>\n",
       "      <td>2</td>\n",
       "    </tr>\n",
       "    <tr>\n",
       "      <th>3</th>\n",
       "      <td>39.071575</td>\n",
       "      <td>18.569141</td>\n",
       "      <td>1028</td>\n",
       "      <td>2003-05-01 01:05:00</td>\n",
       "      <td>371.310120</td>\n",
       "      <td>898</td>\n",
       "      <td>0.049988</td>\n",
       "      <td>16.414951</td>\n",
       "      <td>15.160000</td>\n",
       "      <td>17.205000</td>\n",
       "      <td>16.725000</td>\n",
       "      <td>16.080000</td>\n",
       "      <td>AQUA_MODIS.20030501T010506.L2.SST.nc</td>\n",
       "      <td>1051129071619856914</td>\n",
       "      <td>s3://modis-l2/PreProc/MODIS_R2019_2003_95clear...</td>\n",
       "      <td>standard</td>\n",
       "      <td>128</td>\n",
       "      <td>0</td>\n",
       "      <td>3</td>\n",
       "    </tr>\n",
       "    <tr>\n",
       "      <th>4</th>\n",
       "      <td>17.901926</td>\n",
       "      <td>90.155480</td>\n",
       "      <td>997</td>\n",
       "      <td>2003-12-05 19:55:00</td>\n",
       "      <td>-214.759277</td>\n",
       "      <td>1520</td>\n",
       "      <td>0.035461</td>\n",
       "      <td>26.744499</td>\n",
       "      <td>24.975000</td>\n",
       "      <td>28.724998</td>\n",
       "      <td>27.824999</td>\n",
       "      <td>25.830000</td>\n",
       "      <td>AQUA_MODIS.20031205T195506.L2.SST.nc</td>\n",
       "      <td>1070107901927015548</td>\n",
       "      <td>s3://modis-l2/PreProc/MODIS_R2019_2003_95clear...</td>\n",
       "      <td>standard</td>\n",
       "      <td>128</td>\n",
       "      <td>0</td>\n",
       "      <td>4</td>\n",
       "    </tr>\n",
       "  </tbody>\n",
       "</table>\n",
       "</div>"
      ],
      "text/plain": [
       "         lat         lon   col            datetime          LL   row  \\\n",
       "0  13.980967   62.675774   517 2003-03-10 21:25:00  520.178711   304   \n",
       "1  13.043748 -102.751816   706 2003-12-12 08:30:00  432.766724  1696   \n",
       "2 -18.086618   40.844833   581 2003-09-24 22:35:00  764.413086   656   \n",
       "3  39.071575   18.569141  1028 2003-05-01 01:05:00  371.310120   898   \n",
       "4  17.901926   90.155480   997 2003-12-05 19:55:00 -214.759277  1520   \n",
       "\n",
       "   clear_fraction  mean_temperature       Tmin       Tmax        T90  \\\n",
       "0        0.000000         26.199476  25.250000  26.885000  26.474998   \n",
       "1        0.049805         28.924648  27.789999  29.654999  29.154999   \n",
       "2        0.006104         25.551611  24.775000  26.154999  25.750000   \n",
       "3        0.049988         16.414951  15.160000  17.205000  16.725000   \n",
       "4        0.035461         26.744499  24.975000  28.724998  27.824999   \n",
       "\n",
       "         T10                              filename                  UID  \\\n",
       "0  25.814999  AQUA_MODIS.20030310T212506.L2.SST.nc  1047103981024267577   \n",
       "1  28.695000  AQUA_MODIS.20031212T083006.L2.SST.nc   107110304377724818   \n",
       "2  25.344999  AQUA_MODIS.20030924T223506.L2.SST.nc   106471913422084483   \n",
       "3  16.080000  AQUA_MODIS.20030501T010506.L2.SST.nc  1051129071619856914   \n",
       "4  25.830000  AQUA_MODIS.20031205T195506.L2.SST.nc  1070107901927015548   \n",
       "\n",
       "                                             pp_file   pp_root  field_size  \\\n",
       "0  s3://modis-l2/PreProc/MODIS_R2019_2003_95clear...  standard         128   \n",
       "1  s3://modis-l2/PreProc/MODIS_R2019_2003_95clear...  standard         128   \n",
       "2  s3://modis-l2/PreProc/MODIS_R2019_2003_95clear...  standard         128   \n",
       "3  s3://modis-l2/PreProc/MODIS_R2019_2003_95clear...  standard         128   \n",
       "4  s3://modis-l2/PreProc/MODIS_R2019_2003_95clear...  standard         128   \n",
       "\n",
       "   pp_type  pp_idx  \n",
       "0        0       0  \n",
       "1        0       1  \n",
       "2        0       2  \n",
       "3        0       3  \n",
       "4        0       4  "
      ]
     },
     "execution_count": 3,
     "metadata": {},
     "output_type": "execute_result"
    }
   ],
   "source": [
    "modis_tbl.head()"
   ]
  },
  {
   "cell_type": "markdown",
   "id": "27ed8979",
   "metadata": {},
   "source": [
    "# Cloud cutting"
   ]
  },
  {
   "cell_type": "code",
   "execution_count": 4,
   "id": "cc4637ca",
   "metadata": {},
   "outputs": [
    {
     "data": {
      "text/plain": [
       "<AxesSubplot:>"
      ]
     },
     "execution_count": 4,
     "metadata": {},
     "output_type": "execute_result"
    },
    {
     "data": {
      "image/png": "[encoded data removed]",
      "text/plain": [
       "<Figure size 432x288 with 1 Axes>"
      ]
     },
     "metadata": {
      "needs_background": "light"
     },
     "output_type": "display_data"
    }
   ],
   "source": [
    "modis_tbl.clear_fraction.hist()"
   ]
  },
  {
   "cell_type": "code",
   "execution_count": 30,
   "id": "a7b44e7e",
   "metadata": {},
   "outputs": [
    {
     "data": {
      "text/plain": [
       "<AxesSubplot:>"
      ]
     },
     "execution_count": 30,
     "metadata": {},
     "output_type": "execute_result"
    },
    {
     "data": {
      "image/png": "[encoded data removed]",
      "text/plain": [
       "<Figure size 432x288 with 1 Axes>"
      ]
     },
     "metadata": {
      "needs_background": "light"
     },
     "output_type": "display_data"
    }
   ],
   "source": [
    "viirs_tbl.clear_fraction.hist()"
   ]
  },
  {
   "cell_type": "markdown",
   "id": "f1fa88e3",
   "metadata": {},
   "source": [
    "## Cut"
   ]
  },
  {
   "cell_type": "code",
   "execution_count": 5,
   "id": "feba395a",
   "metadata": {},
   "outputs": [],
   "source": [
    "clear = modis_tbl.clear_fraction < 0.005\n",
    "cloudy = modis_tbl.clear_fraction > 0.045"
   ]
  },
  {
   "cell_type": "code",
   "execution_count": 6,
   "id": "e5bddaa2",
   "metadata": {},
   "outputs": [],
   "source": [
    "modis_tbl['Clouds'] = 'None'"
   ]
  },
  {
   "cell_type": "code",
   "execution_count": 7,
   "id": "93351762",
   "metadata": {},
   "outputs": [],
   "source": [
    "modis_tbl.loc[clear, 'Clouds'] = 'clear'"
   ]
  },
  {
   "cell_type": "code",
   "execution_count": 8,
   "id": "3cdf6a4d",
   "metadata": {},
   "outputs": [],
   "source": [
    "modis_tbl.loc[cloudy, 'Clouds'] = 'cloudy'"
   ]
  },
  {
   "cell_type": "code",
   "execution_count": 9,
   "id": "b69f05e4",
   "metadata": {},
   "outputs": [
    {
     "data": {
      "text/html": [
       "<div>\n",
       "<style scoped>\n",
       "    .dataframe tbody tr th:only-of-type {\n",
       "        vertical-align: middle;\n",
       "    }\n",
       "\n",
       "    .dataframe tbody tr th {\n",
       "        vertical-align: top;\n",
       "    }\n",
       "\n",
       "    .dataframe thead th {\n",
       "        text-align: right;\n",
       "    }\n",
       "</style>\n",
       "<table border=\"1\" class=\"dataframe\">\n",
       "  <thead>\n",
       "    <tr style=\"text-align: right;\">\n",
       "      <th></th>\n",
       "      <th>lat</th>\n",
       "      <th>lon</th>\n",
       "      <th>col</th>\n",
       "      <th>datetime</th>\n",
       "      <th>LL</th>\n",
       "      <th>row</th>\n",
       "      <th>clear_fraction</th>\n",
       "      <th>mean_temperature</th>\n",
       "      <th>Tmin</th>\n",
       "      <th>Tmax</th>\n",
       "      <th>T90</th>\n",
       "      <th>T10</th>\n",
       "      <th>filename</th>\n",
       "      <th>UID</th>\n",
       "      <th>pp_file</th>\n",
       "      <th>pp_root</th>\n",
       "      <th>field_size</th>\n",
       "      <th>pp_type</th>\n",
       "      <th>pp_idx</th>\n",
       "      <th>Clouds</th>\n",
       "    </tr>\n",
       "  </thead>\n",
       "  <tbody>\n",
       "    <tr>\n",
       "      <th>0</th>\n",
       "      <td>13.980967</td>\n",
       "      <td>62.675774</td>\n",
       "      <td>517</td>\n",
       "      <td>2003-03-10 21:25:00</td>\n",
       "      <td>520.178711</td>\n",
       "      <td>304</td>\n",
       "      <td>0.000000</td>\n",
       "      <td>26.199476</td>\n",
       "      <td>25.250000</td>\n",
       "      <td>26.885000</td>\n",
       "      <td>26.474998</td>\n",
       "      <td>25.814999</td>\n",
       "      <td>AQUA_MODIS.20030310T212506.L2.SST.nc</td>\n",
       "      <td>1047103981024267577</td>\n",
       "      <td>s3://modis-l2/PreProc/MODIS_R2019_2003_95clear...</td>\n",
       "      <td>standard</td>\n",
       "      <td>128</td>\n",
       "      <td>0</td>\n",
       "      <td>0</td>\n",
       "      <td>clear</td>\n",
       "    </tr>\n",
       "    <tr>\n",
       "      <th>1</th>\n",
       "      <td>13.043748</td>\n",
       "      <td>-102.751816</td>\n",
       "      <td>706</td>\n",
       "      <td>2003-12-12 08:30:00</td>\n",
       "      <td>432.766724</td>\n",
       "      <td>1696</td>\n",
       "      <td>0.049805</td>\n",
       "      <td>28.924648</td>\n",
       "      <td>27.789999</td>\n",
       "      <td>29.654999</td>\n",
       "      <td>29.154999</td>\n",
       "      <td>28.695000</td>\n",
       "      <td>AQUA_MODIS.20031212T083006.L2.SST.nc</td>\n",
       "      <td>107110304377724818</td>\n",
       "      <td>s3://modis-l2/PreProc/MODIS_R2019_2003_95clear...</td>\n",
       "      <td>standard</td>\n",
       "      <td>128</td>\n",
       "      <td>0</td>\n",
       "      <td>1</td>\n",
       "      <td>cloudy</td>\n",
       "    </tr>\n",
       "    <tr>\n",
       "      <th>2</th>\n",
       "      <td>-18.086618</td>\n",
       "      <td>40.844833</td>\n",
       "      <td>581</td>\n",
       "      <td>2003-09-24 22:35:00</td>\n",
       "      <td>764.413086</td>\n",
       "      <td>656</td>\n",
       "      <td>0.006104</td>\n",
       "      <td>25.551611</td>\n",
       "      <td>24.775000</td>\n",
       "      <td>26.154999</td>\n",
       "      <td>25.750000</td>\n",
       "      <td>25.344999</td>\n",
       "      <td>AQUA_MODIS.20030924T223506.L2.SST.nc</td>\n",
       "      <td>106471913422084483</td>\n",
       "      <td>s3://modis-l2/PreProc/MODIS_R2019_2003_95clear...</td>\n",
       "      <td>standard</td>\n",
       "      <td>128</td>\n",
       "      <td>0</td>\n",
       "      <td>2</td>\n",
       "      <td>None</td>\n",
       "    </tr>\n",
       "    <tr>\n",
       "      <th>3</th>\n",
       "      <td>39.071575</td>\n",
       "      <td>18.569141</td>\n",
       "      <td>1028</td>\n",
       "      <td>2003-05-01 01:05:00</td>\n",
       "      <td>371.310120</td>\n",
       "      <td>898</td>\n",
       "      <td>0.049988</td>\n",
       "      <td>16.414951</td>\n",
       "      <td>15.160000</td>\n",
       "      <td>17.205000</td>\n",
       "      <td>16.725000</td>\n",
       "      <td>16.080000</td>\n",
       "      <td>AQUA_MODIS.20030501T010506.L2.SST.nc</td>\n",
       "      <td>1051129071619856914</td>\n",
       "      <td>s3://modis-l2/PreProc/MODIS_R2019_2003_95clear...</td>\n",
       "      <td>standard</td>\n",
       "      <td>128</td>\n",
       "      <td>0</td>\n",
       "      <td>3</td>\n",
       "      <td>cloudy</td>\n",
       "    </tr>\n",
       "    <tr>\n",
       "      <th>4</th>\n",
       "      <td>17.901926</td>\n",
       "      <td>90.155480</td>\n",
       "      <td>997</td>\n",
       "      <td>2003-12-05 19:55:00</td>\n",
       "      <td>-214.759277</td>\n",
       "      <td>1520</td>\n",
       "      <td>0.035461</td>\n",
       "      <td>26.744499</td>\n",
       "      <td>24.975000</td>\n",
       "      <td>28.724998</td>\n",
       "      <td>27.824999</td>\n",
       "      <td>25.830000</td>\n",
       "      <td>AQUA_MODIS.20031205T195506.L2.SST.nc</td>\n",
       "      <td>1070107901927015548</td>\n",
       "      <td>s3://modis-l2/PreProc/MODIS_R2019_2003_95clear...</td>\n",
       "      <td>standard</td>\n",
       "      <td>128</td>\n",
       "      <td>0</td>\n",
       "      <td>4</td>\n",
       "      <td>None</td>\n",
       "    </tr>\n",
       "  </tbody>\n",
       "</table>\n",
       "</div>"
      ],
      "text/plain": [
       "         lat         lon   col            datetime          LL   row  \\\n",
       "0  13.980967   62.675774   517 2003-03-10 21:25:00  520.178711   304   \n",
       "1  13.043748 -102.751816   706 2003-12-12 08:30:00  432.766724  1696   \n",
       "2 -18.086618   40.844833   581 2003-09-24 22:35:00  764.413086   656   \n",
       "3  39.071575   18.569141  1028 2003-05-01 01:05:00  371.310120   898   \n",
       "4  17.901926   90.155480   997 2003-12-05 19:55:00 -214.759277  1520   \n",
       "\n",
       "   clear_fraction  mean_temperature       Tmin       Tmax        T90  \\\n",
       "0        0.000000         26.199476  25.250000  26.885000  26.474998   \n",
       "1        0.049805         28.924648  27.789999  29.654999  29.154999   \n",
       "2        0.006104         25.551611  24.775000  26.154999  25.750000   \n",
       "3        0.049988         16.414951  15.160000  17.205000  16.725000   \n",
       "4        0.035461         26.744499  24.975000  28.724998  27.824999   \n",
       "\n",
       "         T10                              filename                  UID  \\\n",
       "0  25.814999  AQUA_MODIS.20030310T212506.L2.SST.nc  1047103981024267577   \n",
       "1  28.695000  AQUA_MODIS.20031212T083006.L2.SST.nc   107110304377724818   \n",
       "2  25.344999  AQUA_MODIS.20030924T223506.L2.SST.nc   106471913422084483   \n",
       "3  16.080000  AQUA_MODIS.20030501T010506.L2.SST.nc  1051129071619856914   \n",
       "4  25.830000  AQUA_MODIS.20031205T195506.L2.SST.nc  1070107901927015548   \n",
       "\n",
       "                                             pp_file   pp_root  field_size  \\\n",
       "0  s3://modis-l2/PreProc/MODIS_R2019_2003_95clear...  standard         128   \n",
       "1  s3://modis-l2/PreProc/MODIS_R2019_2003_95clear...  standard         128   \n",
       "2  s3://modis-l2/PreProc/MODIS_R2019_2003_95clear...  standard         128   \n",
       "3  s3://modis-l2/PreProc/MODIS_R2019_2003_95clear...  standard         128   \n",
       "4  s3://modis-l2/PreProc/MODIS_R2019_2003_95clear...  standard         128   \n",
       "\n",
       "   pp_type  pp_idx  Clouds  \n",
       "0        0       0   clear  \n",
       "1        0       1  cloudy  \n",
       "2        0       2    None  \n",
       "3        0       3  cloudy  \n",
       "4        0       4    None  "
      ]
     },
     "execution_count": 9,
     "metadata": {},
     "output_type": "execute_result"
    }
   ],
   "source": [
    "modis_tbl.head()"
   ]
  },
  {
   "cell_type": "markdown",
   "id": "c1b9be25",
   "metadata": {},
   "source": [
    "## Histogram"
   ]
  },
  {
   "cell_type": "code",
   "execution_count": 14,
   "id": "ce9ba9db",
   "metadata": {},
   "outputs": [
    {
     "data": {
      "text/plain": [
       "(-2000.0, 1000.0)"
      ]
     },
     "execution_count": 14,
     "metadata": {},
     "output_type": "execute_result"
    },
    {
     "data": {
      "image/png": "[encoded data removed]",
      "text/plain": [
       "<Figure size 864x576 with 1 Axes>"
      ]
     },
     "metadata": {
      "needs_background": "light"
     },
     "output_type": "display_data"
    }
   ],
   "source": [
    "fig = plt.figure(figsize=(12,8))\n",
    "ax = plt.gca()\n",
    "_ = sns.histplot(modis_tbl, x='LL', hue='Clouds', ax=ax)\n",
    "ax.set_xlim(-2000., 1000.)"
   ]
  },
  {
   "cell_type": "code",
   "execution_count": 15,
   "id": "ae8949d8",
   "metadata": {},
   "outputs": [
    {
     "data": {
      "text/plain": [
       "339.2533568481721"
      ]
     },
     "execution_count": 15,
     "metadata": {},
     "output_type": "execute_result"
    }
   ],
   "source": [
    "modis_tbl[clear].LL.mean()"
   ]
  },
  {
   "cell_type": "code",
   "execution_count": 18,
   "id": "c4413e13",
   "metadata": {},
   "outputs": [
    {
     "data": {
      "text/plain": [
       "328.9035949707031"
      ]
     },
     "execution_count": 18,
     "metadata": {},
     "output_type": "execute_result"
    }
   ],
   "source": [
    "llc_tbl.LL.mean()"
   ]
  },
  {
   "cell_type": "code",
   "execution_count": 19,
   "id": "0742d0b5",
   "metadata": {},
   "outputs": [
    {
     "data": {
      "text/plain": [
       "(350.11322021484375, 371.28863525390625)"
      ]
     },
     "execution_count": 19,
     "metadata": {},
     "output_type": "execute_result"
    }
   ],
   "source": [
    "modis_tbl[clear].LL.median(), llc_tbl.LL.median()"
   ]
  },
  {
   "cell_type": "markdown",
   "id": "ad95be73",
   "metadata": {},
   "source": [
    "## LLC vs. MODIS"
   ]
  },
  {
   "cell_type": "code",
   "execution_count": 21,
   "id": "e051dec6",
   "metadata": {},
   "outputs": [],
   "source": [
    "df = pandas.DataFrame()"
   ]
  },
  {
   "cell_type": "code",
   "execution_count": 23,
   "id": "46bd366f",
   "metadata": {},
   "outputs": [],
   "source": [
    "df['LL'] = np.concatenate([modis_tbl[clear].LL.values, llc_tbl.LL.values])"
   ]
  },
  {
   "cell_type": "code",
   "execution_count": 24,
   "id": "e48fafa1",
   "metadata": {},
   "outputs": [],
   "source": [
    "df['Sample'] = 'NONE'"
   ]
  },
  {
   "cell_type": "code",
   "execution_count": 26,
   "id": "991a437a",
   "metadata": {},
   "outputs": [],
   "source": [
    "df.loc[np.arange(np.sum(clear)), 'Sample'] = 'MODIS'"
   ]
  },
  {
   "cell_type": "code",
   "execution_count": 27,
   "id": "1faf2f9d",
   "metadata": {},
   "outputs": [],
   "source": [
    "df.loc[np.sum(clear)+np.arange(len(llc_tbl)), 'Sample'] = 'LLC'"
   ]
  },
  {
   "cell_type": "code",
   "execution_count": 28,
   "id": "3700b183",
   "metadata": {},
   "outputs": [
    {
     "data": {
      "text/plain": [
       "(-2000.0, 1000.0)"
      ]
     },
     "execution_count": 28,
     "metadata": {},
     "output_type": "execute_result"
    },
    {
     "data": {
      "image/png": "[encoded data removed]",
      "text/plain": [
       "<Figure size 864x576 with 1 Axes>"
      ]
     },
     "metadata": {
      "needs_background": "light"
     },
     "output_type": "display_data"
    }
   ],
   "source": [
    "fig = plt.figure(figsize=(12,8))\n",
    "ax = plt.gca()\n",
    "_ = sns.histplot(df, x='LL', hue='Sample', ax=ax)\n",
    "ax.set_xlim(-2000., 1000.)"
   ]
  },
  {
   "cell_type": "code",
   "execution_count": null,
   "id": "42beee7b",
   "metadata": {},
   "outputs": [],
   "source": []
  }
 ],
 "metadata": {
  "kernelspec": {
   "display_name": "Python 3 (ipykernel)",
   "language": "python",
   "name": "python3"
  },
  "language_info": {
   "codemirror_mode": {
    "name": "ipython",
    "version": 3
   },
   "file_extension": ".py",
   "mimetype": "text/x-python",
   "name": "python",
   "nbconvert_exporter": "python",
   "pygments_lexer": "ipython3",
   "version": "3.8.5"
  }
 },
 "nbformat": 4,
 "nbformat_minor": 5
}
