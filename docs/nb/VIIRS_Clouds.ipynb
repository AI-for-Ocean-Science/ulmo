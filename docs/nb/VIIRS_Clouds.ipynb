{
 "cells": [
  {
   "cell_type": "code",
   "execution_count": 1,
   "id": "edd3a3ed-a5fe-49a7-bd16-b12a175bf910",
   "metadata": {},
   "outputs": [],
   "source": [
    "# imports\n",
    "from importlib import reload\n",
    "\n",
    "import os # a module to interact with the operating system\n",
    "os.environ[\"ENDPOINT_URL\"]=\"http://rook-ceph-rgw-nautiluss3.rook\"\n",
    "import numpy as np\n",
    "\n",
    "import pandas as pd\n",
    "import xarray\n",
    "import h5py\n",
    "import healpy as hp\n",
    "import time\n",
    "\n",
    "import cartopy.crs as ccrs\n",
    "from cartopy.mpl.gridliner import LONGITUDE_FORMATTER, LATITUDE_FORMATTER\n",
    "\n",
    "from matplotlib import pyplot as plt\n",
    "import seaborn as sns\n",
    "import scipy.stats as stats\n",
    "\n",
    "from ulmo import io as ulmo_io\n",
    "from ulmo import plotting\n",
    "from ulmo.llc import io as llc_io\n",
    "from ulmo.llc import plotting as llc_plotting\n",
    "\n",
    "from ulmo.utils import image_utils\n",
    "from ulmo.analysis import figures as ulmo_figs\n",
    "from ulmo.plotting import plotting as ulmo_plotting\n",
    "from ulmo.analysis import spatial_plots as sp"
   ]
  },
  {
   "cell_type": "markdown",
   "id": "a68a34d4-75ef-42da-a43d-3466bbdb0842",
   "metadata": {},
   "source": [
    "# Load Info"
   ]
  },
  {
   "cell_type": "code",
   "execution_count": 35,
   "id": "b467dd4f-30e7-4ef6-b2a3-25484a696800",
   "metadata": {},
   "outputs": [
    {
     "name": "stdout",
     "output_type": "stream",
     "text": [
      "Read main table: s3://viirs/Tables/VIIRS_2012_std.parquet\n"
     ]
    }
   ],
   "source": [
    "tbl = ulmo_io.load_main_table( 's3://viirs/Tables/VIIRS_2012_std.parquet')\n",
    "cloudy_2012 = tbl[ (tbl.clear_fraction > 0.045) ]\n",
    "clear_2012 = tbl[ (tbl.clear_fraction < 0.005) ]"
   ]
  },
  {
   "cell_type": "code",
   "execution_count": 36,
   "id": "596ff316-36cb-42aa-8c10-a6d935e24de3",
   "metadata": {},
   "outputs": [
    {
     "name": "stdout",
     "output_type": "stream",
     "text": [
      "Read main table: s3://viirs/Tables/VIIRS_2013_std.parquet\n"
     ]
    }
   ],
   "source": [
    "tbl = ulmo_io.load_main_table( 's3://viirs/Tables/VIIRS_2013_std.parquet')\n",
    "cloudy_2013 = tbl[ (tbl.clear_fraction > 0.045) ]\n",
    "clear_2013 = tbl[ (tbl.clear_fraction < 0.005) ]"
   ]
  },
  {
   "cell_type": "code",
   "execution_count": 37,
   "id": "77aec0d3-fac8-430e-8caf-bf231aeaa13d",
   "metadata": {},
   "outputs": [
    {
     "name": "stdout",
     "output_type": "stream",
     "text": [
      "Read main table: s3://viirs/Tables/VIIRS_2014_std.parquet\n"
     ]
    }
   ],
   "source": [
    "tbl = ulmo_io.load_main_table( 's3://viirs/Tables/VIIRS_2014_std.parquet')\n",
    "cloudy_2014 = tbl[ (tbl.clear_fraction > 0.045) ]\n",
    "clear_2014 = tbl[ (tbl.clear_fraction < 0.005) ]"
   ]
  },
  {
   "cell_type": "code",
   "execution_count": 38,
   "id": "9ae01501-f875-448b-9996-5e1bf4e3e39b",
   "metadata": {},
   "outputs": [
    {
     "name": "stdout",
     "output_type": "stream",
     "text": [
      "Read main table: s3://viirs/Tables/VIIRS_2015_std.parquet\n"
     ]
    }
   ],
   "source": [
    "tbl = ulmo_io.load_main_table( 's3://viirs/Tables/VIIRS_2015_std.parquet')\n",
    "cloudy_2015 = tbl[ (tbl.clear_fraction > 0.045) ]\n",
    "clear_2015 = tbl[ (tbl.clear_fraction < 0.005) ]"
   ]
  },
  {
   "cell_type": "code",
   "execution_count": 39,
   "id": "5af1db25-932d-48d4-9624-150586a9c1b0",
   "metadata": {},
   "outputs": [
    {
     "name": "stdout",
     "output_type": "stream",
     "text": [
      "Read main table: s3://viirs/Tables/VIIRS_2016_std.parquet\n"
     ]
    }
   ],
   "source": [
    "tbl = ulmo_io.load_main_table( 's3://viirs/Tables/VIIRS_2016_std.parquet')\n",
    "cloudy_2016 = tbl[ (tbl.clear_fraction > 0.045) ]\n",
    "clear_2016 = tbl[ (tbl.clear_fraction < 0.005) ]"
   ]
  },
  {
   "cell_type": "code",
   "execution_count": 40,
   "id": "ae664f87-74bf-40dc-ae8d-e73461eb87dd",
   "metadata": {},
   "outputs": [
    {
     "name": "stdout",
     "output_type": "stream",
     "text": [
      "Read main table: s3://viirs/Tables/VIIRS_2017_std.parquet\n"
     ]
    }
   ],
   "source": [
    "tbl = ulmo_io.load_main_table( 's3://viirs/Tables/VIIRS_2017_std.parquet')\n",
    "cloudy_2017 = tbl[ (tbl.clear_fraction > 0.045) ]\n",
    "clear_2017 = tbl[ (tbl.clear_fraction < 0.005) ]"
   ]
  },
  {
   "cell_type": "code",
   "execution_count": 41,
   "id": "7ae3cfe9-b4d9-491e-b124-d4cd21e34dbc",
   "metadata": {},
   "outputs": [
    {
     "name": "stdout",
     "output_type": "stream",
     "text": [
      "Read main table: s3://viirs/Tables/VIIRS_2018_std.parquet\n"
     ]
    }
   ],
   "source": [
    "tbl = ulmo_io.load_main_table( 's3://viirs/Tables/VIIRS_2018_std.parquet')\n",
    "cloudy_2018 = tbl[ (tbl.clear_fraction > 0.045) ]\n",
    "clear_2018 = tbl[ (tbl.clear_fraction < 0.005) ]"
   ]
  },
  {
   "cell_type": "code",
   "execution_count": 42,
   "id": "f5da23fe-b0e0-4e9a-bf9b-3947e2927c18",
   "metadata": {},
   "outputs": [
    {
     "name": "stdout",
     "output_type": "stream",
     "text": [
      "Read main table: s3://viirs/Tables/VIIRS_2019_std.parquet\n"
     ]
    }
   ],
   "source": [
    "tbl = ulmo_io.load_main_table( 's3://viirs/Tables/VIIRS_2019_std.parquet')\n",
    "cloudy_2019 = tbl[ (tbl.clear_fraction > 0.045) ]\n",
    "clear_2019 = tbl[ (tbl.clear_fraction < 0.005) ]"
   ]
  },
  {
   "cell_type": "code",
   "execution_count": 43,
   "id": "c8cec745-62f1-473e-a50e-ad384471e2b2",
   "metadata": {},
   "outputs": [
    {
     "name": "stdout",
     "output_type": "stream",
     "text": [
      "Read main table: s3://viirs/Tables/VIIRS_2020_std.parquet\n"
     ]
    }
   ],
   "source": [
    "tbl = ulmo_io.load_main_table( 's3://viirs/Tables/VIIRS_2020_std.parquet')\n",
    "cloudy_2020 = tbl[ (tbl.clear_fraction > 0.045) ]\n",
    "clear_2020 = tbl[ (tbl.clear_fraction < 0.005) ]"
   ]
  },
  {
   "cell_type": "markdown",
   "id": "5ffff301-0f37-46db-b41b-8fc5fda2cf7d",
   "metadata": {},
   "source": [
    "# Make Tables"
   ]
  },
  {
   "cell_type": "code",
   "execution_count": 44,
   "id": "62d6fa4d-53b8-428d-8738-396466edab8c",
   "metadata": {},
   "outputs": [],
   "source": [
    "clear_tbl = pd.concat( [clear_2012, clear_2013, clear_2014, clear_2015, clear_2016, clear_2017, clear_2018, clear_2019, clear_2020] )"
   ]
  },
  {
   "cell_type": "code",
   "execution_count": 45,
   "id": "3a590beb-2316-43f0-8ed6-5fe91c7e13d4",
   "metadata": {},
   "outputs": [],
   "source": [
    "cloudy_tbl = pd.concat( [cloudy_2012, cloudy_2013, cloudy_2014, cloudy_2015, cloudy_2016, cloudy_2017, cloudy_2018, cloudy_2019, cloudy_2020] )"
   ]
  },
  {
   "cell_type": "markdown",
   "id": "16beaf84-0de3-40ff-806e-05c4a90c2df7",
   "metadata": {},
   "source": [
    "# Plot Hist"
   ]
  },
  {
   "cell_type": "code",
   "execution_count": 52,
   "id": "09591e54-9acb-4f2a-ae22-a5de7ecddc0f",
   "metadata": {},
   "outputs": [
    {
     "data": {
      "image/png": "[encoded data removed]",
      "text/plain": [
       "<Figure size 864x576 with 1 Axes>"
      ]
     },
     "metadata": {
      "needs_background": "light"
     },
     "output_type": "display_data"
    }
   ],
   "source": [
    "fig = plt.figure(figsize=(12,8))\n",
    "ax = plt.gca()\n",
    "_ = sns.histplot(clear_tbl, x='LL', label='> 99.5% clear', ax=ax, stat = 'density' , color='c', binwidth = 10 )\n",
    "_ = sns.histplot(cloudy_tbl, x='LL', label='< 95.5% clear', ax=ax, stat = 'density' , color='darkseagreen', binwidth = 10 )\n",
    "\n",
    "ax.legend()\n",
    "ax.set_xlim(-2000., 1000.)\n",
    "ax.set_title('Clear versus Cloudy LL Histogram', fontsize = 20)\n",
    "ax.set_ylabel('Normalized Counts', fontsize = 18)\n",
    "ax.set_xlabel('LL', fontsize = 18)\n",
    "\n",
    "#plt.savefig( 'LL_hist_VIIRS_clouds', dpi = 300)"
   ]
  },
  {
   "cell_type": "code",
   "execution_count": 53,
   "id": "c7564bf7-6787-4eb5-a320-8802ab2d71b3",
   "metadata": {},
   "outputs": [
    {
     "data": {
      "text/plain": [
       "'/home/jovyan/ulmo/ulmo/analysis'"
      ]
     },
     "execution_count": 53,
     "metadata": {},
     "output_type": "execute_result"
    }
   ],
   "source": [
    "pwd"
   ]
  },
  {
   "cell_type": "code",
   "execution_count": null,
   "id": "05122595-b1e1-4989-b741-eb75396e12ff",
   "metadata": {},
   "outputs": [],
   "source": []
  }
 ],
 "metadata": {
  "kernelspec": {
   "display_name": "Python 3 (ipykernel)",
   "language": "python",
   "name": "python3"
  },
  "language_info": {
   "codemirror_mode": {
    "name": "ipython",
    "version": 3
   },
   "file_extension": ".py",
   "mimetype": "text/x-python",
   "name": "python",
   "nbconvert_exporter": "python",
   "pygments_lexer": "ipython3",
   "version": "3.9.5"
  }
 },
 "nbformat": 4,
 "nbformat_minor": 5
}
