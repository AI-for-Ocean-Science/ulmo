{
 "cells": [
  {
   "cell_type": "markdown",
   "metadata": {},
   "source": [
    "# Flow latents"
   ]
  },
  {
   "cell_type": "code",
   "execution_count": 1,
   "metadata": {},
   "outputs": [
    {
     "name": "stdout",
     "output_type": "stream",
     "text": [
      "Cartopy not installed.  Some plots will not work!\n"
     ]
    }
   ],
   "source": [
    "# imports\n",
    "from importlib import reload\n",
    "import os\n",
    "os.environ['ENDPOINT_URL'] = 'https://s3.nautilus.optiputer.net'\n",
    "\n",
    "import numpy as np\n",
    "\n",
    "import h5py \n",
    "import torch\n",
    "from tqdm.auto import tqdm\n",
    "\n",
    "from ulmo import io as ulmo_io\n",
    "from ulmo.models import io as models_io\n",
    "from ulmo.utils import HDF5Dataset"
   ]
  },
  {
   "cell_type": "markdown",
   "metadata": {},
   "source": [
    "# Load model"
   ]
  },
  {
   "cell_type": "code",
   "execution_count": 2,
   "metadata": {
    "scrolled": true
   },
   "outputs": [
    {
     "name": "stdout",
     "output_type": "stream",
     "text": [
      "Using device=cuda\n",
      "Loading autoencoder model from: s3://modis-l2/Models/R2019_2010_128x128_std/autoencoder.pt\n",
      "Loading flow model from: s3://modis-l2/Models/R2019_2010_128x128_std/flow.pt\n",
      "scaler loaded from: s3://modis-l2/Models/R2019_2010_128x128_std/MODIS_R2019_2010_95clear_128x128_preproc_std_scaler.pkl\n"
     ]
    },
    {
     "name": "stderr",
     "output_type": "stream",
     "text": [
      "/opt/conda/lib/python3.8/site-packages/sklearn/base.py:310: UserWarning: Trying to unpickle estimator StandardScaler from version 0.23.1 when using version 0.24.1. This might lead to breaking code or invalid results. Use at your own risk.\n",
      "  warnings.warn(\n"
     ]
    }
   ],
   "source": [
    "pae = models_io.load_modis_l2()"
   ]
  },
  {
   "cell_type": "markdown",
   "metadata": {},
   "source": [
    "# Load latents"
   ]
  },
  {
   "cell_type": "code",
   "execution_count": 3,
   "metadata": {},
   "outputs": [],
   "source": [
    "latent_file = '/home/jovyan/Oceanography/SST-OOD/Test/Evaluations/MODIS_R2019_2012_95clear_128x128_latents_std.h5'\n",
    "#latent_h5.keys()\n",
    "latent_h5 = h5py.File(latent_file, 'r')\n",
    "latents = latent_h5['latents'][:]"
   ]
  },
  {
   "cell_type": "code",
   "execution_count": 4,
   "metadata": {},
   "outputs": [
    {
     "data": {
      "text/plain": [
       "(730634, 512)"
      ]
     },
     "execution_count": 4,
     "metadata": {},
     "output_type": "execute_result"
    }
   ],
   "source": [
    "latents.shape"
   ]
  },
  {
   "cell_type": "markdown",
   "metadata": {},
   "source": [
    "## Load LL"
   ]
  },
  {
   "cell_type": "code",
   "execution_count": 5,
   "metadata": {},
   "outputs": [],
   "source": [
    "LL_file = '/home/jovyan/Oceanography/SST-OOD/Test/Evaluations/MODIS_R2019_2012_95clear_128x128_log_prob_std.h5'\n",
    "LL_h5 = h5py.File(LL_file, 'r')\n",
    "#LL_h5.keys()\n",
    "LL = LL_h5['valid'][:]"
   ]
  },
  {
   "cell_type": "code",
   "execution_count": 6,
   "metadata": {},
   "outputs": [
    {
     "data": {
      "text/plain": [
       "44.542786"
      ]
     },
     "execution_count": 6,
     "metadata": {},
     "output_type": "execute_result"
    }
   ],
   "source": [
    "LL[0]"
   ]
  },
  {
   "cell_type": "markdown",
   "metadata": {},
   "source": [
    "# Apply ulmo"
   ]
  },
  {
   "cell_type": "markdown",
   "metadata": {},
   "source": [
    "## Data Loader"
   ]
  },
  {
   "cell_type": "code",
   "execution_count": 7,
   "metadata": {},
   "outputs": [],
   "source": [
    "dset_l = torch.utils.data.TensorDataset(torch.from_numpy(latents[0:1]).float())\n",
    "loader = torch.utils.data.DataLoader(\n",
    "    dset_l, batch_size=1024, shuffle=False, \n",
    "    drop_last=False, num_workers=16)"
   ]
  },
  {
   "cell_type": "markdown",
   "metadata": {},
   "source": [
    "## Log prob"
   ]
  },
  {
   "cell_type": "code",
   "execution_count": 8,
   "metadata": {},
   "outputs": [
    {
     "data": {
      "application/vnd.jupyter.widget-view+json": {
       "model_id": "b7e6696469c24a3eb0444be362d4ab38",
       "version_major": 2,
       "version_minor": 0
      },
      "text/plain": [
       "Computing log probs:   0%|          | 0/1 [00:02<?, ?batch/s]"
      ]
     },
     "metadata": {},
     "output_type": "display_data"
    }
   ],
   "source": [
    "#with h5py.File(output_file, 'w') as f:\n",
    "with torch.no_grad():\n",
    "    log_prob = [pae.flow.log_prob(data[0].to(pae.device)).detach().cpu().numpy()\n",
    "            for data in tqdm(loader, total=len(loader), unit='batch', desc='Computing log probs')]"
   ]
  },
  {
   "cell_type": "code",
   "execution_count": 9,
   "metadata": {},
   "outputs": [
    {
     "data": {
      "text/plain": [
       "array([43.5448], dtype=float32)"
      ]
     },
     "execution_count": 9,
     "metadata": {},
     "output_type": "execute_result"
    }
   ],
   "source": [
    "log_prob[0]"
   ]
  },
  {
   "cell_type": "code",
   "execution_count": 10,
   "metadata": {},
   "outputs": [],
   "source": [
    "data = [data for data in loader]"
   ]
  },
  {
   "cell_type": "code",
   "execution_count": 11,
   "metadata": {},
   "outputs": [
    {
     "data": {
      "text/plain": [
       "torch.Size([1, 512])"
      ]
     },
     "execution_count": 11,
     "metadata": {},
     "output_type": "execute_result"
    }
   ],
   "source": [
    "data[0][0].shape"
   ]
  },
  {
   "cell_type": "code",
   "execution_count": 12,
   "metadata": {},
   "outputs": [],
   "source": [
    "embedded_contet = pae.flow.flow._embedding_net(None)"
   ]
  },
  {
   "cell_type": "code",
   "execution_count": 13,
   "metadata": {},
   "outputs": [],
   "source": [
    "noise, logabsdet = pae.flow.flow._transform(data[0][0].to(pae.device))"
   ]
  },
  {
   "cell_type": "code",
   "execution_count": 14,
   "metadata": {},
   "outputs": [
    {
     "data": {
      "text/plain": [
       "torch.Size([1, 512])"
      ]
     },
     "execution_count": 14,
     "metadata": {},
     "output_type": "execute_result"
    }
   ],
   "source": [
    "noise.shape"
   ]
  },
  {
   "cell_type": "code",
   "execution_count": 15,
   "metadata": {},
   "outputs": [
    {
     "data": {
      "text/plain": [
       "tensor([744.8929], device='cuda:0', grad_fn=<AddBackward0>)"
      ]
     },
     "execution_count": 15,
     "metadata": {},
     "output_type": "execute_result"
    }
   ],
   "source": [
    "logabsdet"
   ]
  },
  {
   "cell_type": "code",
   "execution_count": 16,
   "metadata": {},
   "outputs": [],
   "source": [
    "embedded_contet"
   ]
  },
  {
   "cell_type": "code",
   "execution_count": 17,
   "metadata": {},
   "outputs": [
    {
     "data": {
      "text/plain": [
       "tensor([-699.0179], device='cuda:0', grad_fn=<SubBackward0>)"
      ]
     },
     "execution_count": 17,
     "metadata": {},
     "output_type": "execute_result"
    }
   ],
   "source": [
    "pae.flow.flow._distribution.log_prob(noise)"
   ]
  },
  {
   "cell_type": "code",
   "execution_count": 18,
   "metadata": {},
   "outputs": [
    {
     "data": {
      "text/plain": [
       "tensor([[ 4.3123e-01, -9.1272e-01,  1.0792e+00,  8.3181e-01,  5.0570e-01,\n",
       "         -8.2892e-02, -1.3332e+00, -7.5554e-01, -3.0799e-01,  5.8437e-01,\n",
       "          5.9252e-01, -6.2341e-01, -1.1553e+00,  9.5788e-01, -1.0780e+00,\n",
       "          1.1618e+00,  2.4692e-01,  2.9450e-02,  1.4103e-01,  1.0777e-01,\n",
       "          4.8485e-01,  1.1857e+00, -9.2329e-01,  7.4356e-01, -2.7442e-01,\n",
       "          1.5289e-01, -1.3573e+00,  7.0265e-02, -2.0161e-01,  5.7026e-01,\n",
       "         -1.1215e+00,  1.6690e+00,  3.2713e-01,  1.0896e+00, -3.5509e-02,\n",
       "          1.9196e-01,  7.8239e-01,  7.4307e-01,  3.3368e-01, -1.5176e+00,\n",
       "         -2.7391e-01,  1.9960e-02, -1.2298e+00,  5.4875e-01, -7.8387e-01,\n",
       "         -2.4160e-01,  5.4403e-01, -1.6633e+00, -1.1140e+00,  6.9872e-01,\n",
       "          1.0181e+00, -2.7798e-01, -4.8325e-01,  3.0729e-02,  3.4740e-01,\n",
       "          6.5682e-01,  7.1380e-01, -8.1244e-01,  1.4045e+00,  6.9460e-01,\n",
       "         -1.5997e-01,  1.0378e+00,  1.4292e-01, -5.3882e-01, -2.0117e+00,\n",
       "         -7.0843e-01, -5.2587e-01,  5.4903e-01,  3.9740e-01,  5.7323e-02,\n",
       "          1.1981e+00, -1.1547e+00, -1.8956e+00,  1.0414e+00, -1.0334e-01,\n",
       "          1.2711e+00,  1.7849e+00,  1.5426e-02, -1.0547e+00, -3.2635e-01,\n",
       "          3.3565e-01, -4.1881e-01, -1.3415e+00, -7.8442e-02, -5.6342e-01,\n",
       "         -1.4548e+00,  1.8281e+00, -1.6519e+00, -1.2784e-03,  1.6432e+00,\n",
       "         -1.5743e+00, -1.6364e+00,  9.8530e-01,  1.4209e+00,  1.3288e+00,\n",
       "         -1.6162e+00, -9.2836e-01,  8.4192e-01, -2.6875e-01,  2.1448e+00,\n",
       "         -1.4141e+00,  1.5495e+00, -5.4155e-01, -3.8024e-01, -2.4156e-01,\n",
       "          3.3343e-01, -7.8706e-01, -1.0744e+00, -1.5882e+00, -5.9875e-01,\n",
       "          6.7719e-01,  9.9163e-01,  2.5622e+00,  1.0244e+00, -5.6138e-01,\n",
       "         -1.5369e-01, -7.8121e-01, -5.0505e-01,  7.4003e-02,  4.8019e-01,\n",
       "          1.3575e+00, -9.5965e-01,  7.0951e-02, -1.0385e-01,  2.1754e+00,\n",
       "         -7.7460e-02, -7.3870e-01, -2.7804e-01, -3.5487e-01,  1.8777e-01,\n",
       "          1.6424e-01, -1.2435e+00, -2.8529e-01,  1.0685e+00,  1.2941e+00,\n",
       "         -4.4041e-02,  8.3128e-01, -9.0171e-01, -4.2433e-01,  5.4964e-01,\n",
       "          1.0591e+00, -3.5907e-01,  4.7184e-01, -4.2047e-01, -1.4756e-01,\n",
       "          6.3177e-01,  6.8378e-01,  1.3688e-01, -1.5129e+00,  7.3658e-01,\n",
       "         -1.9456e-01, -1.5452e+00, -1.3731e+00,  2.2292e-01, -1.3320e+00,\n",
       "          1.7797e-01, -2.0577e-01, -7.5825e-01,  6.1317e-01, -2.1047e+00,\n",
       "          2.1950e-01, -1.9160e+00, -7.0415e-01, -1.2518e+00, -2.5714e-01,\n",
       "         -2.2701e-02, -4.7809e-01,  4.3761e-01, -1.0377e-01,  1.1040e+00,\n",
       "         -3.3129e-01, -4.7671e-01, -7.0055e-02, -8.5777e-01, -8.4444e-01,\n",
       "         -1.2615e+00, -2.9823e-01, -2.1190e-01, -6.8810e-01, -2.4262e+00,\n",
       "          3.2233e-01, -1.2140e+00, -1.8117e+00, -6.3158e-01,  5.3385e-01,\n",
       "         -1.4635e-01, -2.7105e-01, -1.5299e-01,  6.1756e-01, -1.1216e-01,\n",
       "         -1.8200e-01, -7.4979e-01, -1.0965e+00,  1.4515e+00,  1.1827e+00,\n",
       "          1.8271e+00, -1.3418e+00,  1.8501e-01,  6.5161e-01, -1.2793e-02,\n",
       "          1.1935e-02,  4.4832e-01,  5.8833e-01, -4.0389e-01, -2.1771e-01,\n",
       "          1.1518e+00,  3.4175e-01, -1.0593e+00, -1.2171e+00,  1.2864e+00,\n",
       "         -1.0962e-01,  6.8889e-01,  6.2922e-02, -7.3437e-01, -4.9346e-01,\n",
       "         -6.8194e-01, -8.6873e-01, -8.8227e-01,  3.1317e-01,  1.0563e+00,\n",
       "          1.1475e+00, -9.2880e-01, -7.1094e-02,  2.1357e-01, -5.1946e-01,\n",
       "          1.4068e+00,  2.3725e-01,  6.9775e-01,  2.3699e+00,  2.6981e-01,\n",
       "         -7.7811e-01, -3.6040e-01, -2.1816e-01, -8.3022e-01,  2.4304e-01,\n",
       "          1.4215e+00,  8.9324e-01, -5.9195e-02,  1.5171e+00, -4.8175e-01,\n",
       "         -1.8204e-01,  6.1132e-01,  1.9667e+00,  7.3484e-01, -2.3486e-01,\n",
       "         -3.9776e-01, -1.6656e+00,  8.0904e-01, -1.3399e-01, -7.4296e-01,\n",
       "          1.3753e+00,  5.6341e-01, -2.0392e-01,  1.4026e+00,  1.8166e+00,\n",
       "          1.9599e-01, -7.5039e-01,  1.7536e+00, -1.0666e-02, -9.6758e-01,\n",
       "         -4.5598e-01,  2.4052e-01,  4.4177e-01,  4.9741e-01, -1.6379e-01,\n",
       "          2.0027e+00,  1.6905e-01,  7.5892e-01,  8.0053e-01, -1.1400e-01,\n",
       "          1.8625e-01,  2.6579e-01, -3.4775e-01, -2.8466e-02, -3.4674e-01,\n",
       "         -1.2021e+00, -8.7285e-01, -1.0256e+00,  2.4789e-01,  1.1548e+00,\n",
       "          6.1847e-01,  4.2108e-01, -3.0044e-01,  1.0791e+00,  4.1869e-01,\n",
       "         -1.3754e+00,  6.6108e-01,  1.2731e+00, -3.3653e-01,  7.8205e-01,\n",
       "          1.3584e+00,  1.0226e+00, -4.3818e-01, -6.8966e-01, -1.7469e-01,\n",
       "         -5.3891e-01,  2.0191e+00,  1.5524e+00, -1.7015e-01, -1.4975e-01,\n",
       "         -2.1269e+00, -1.9774e+00,  2.4256e-01,  1.2659e+00, -3.3579e-01,\n",
       "          1.1417e+00,  1.0465e+00, -4.1626e-01,  6.1363e-01,  2.0724e-01,\n",
       "         -5.6727e-01, -2.5009e-01, -2.1287e-01,  4.6694e-01,  2.0498e+00,\n",
       "          9.4513e-02, -1.6200e+00,  1.5741e+00,  1.0017e-01, -8.0523e-01,\n",
       "         -8.2656e-01,  1.6201e+00,  1.7373e+00, -4.4445e-01,  1.6845e+00,\n",
       "         -6.7288e-01, -1.7427e-01,  2.1222e+00, -7.0119e-01,  6.7207e-01,\n",
       "         -1.0290e+00, -1.4915e-02,  9.1117e-01,  1.3998e+00,  1.0636e+00,\n",
       "         -1.3680e+00,  4.5296e-01,  3.3781e-01,  3.5251e-01, -8.8004e-01,\n",
       "         -1.6582e-01,  3.1576e-01, -7.3533e-01,  8.8663e-01,  2.1262e+00,\n",
       "         -8.1198e-01, -1.2743e+00, -3.3847e-01,  2.9557e-01, -1.3981e+00,\n",
       "          1.9374e-01, -3.1132e-01,  8.5601e-02, -6.4597e-01,  4.9601e-01,\n",
       "          1.1196e+00, -5.2726e-01, -8.6773e-01,  8.4691e-01,  4.5512e-01,\n",
       "          6.2555e-01,  6.6567e-01, -2.9142e-01, -9.6629e-01, -7.6396e-01,\n",
       "         -2.8651e-01,  1.4378e-01, -4.6057e-01, -2.1637e-01, -1.8845e+00,\n",
       "          1.0040e+00,  5.0985e-01,  4.3245e-01,  3.3855e-01, -8.7939e-01,\n",
       "          6.1629e-01, -2.4380e-01,  1.9105e-01,  2.3781e+00, -1.6682e+00,\n",
       "          5.4021e-01, -9.1727e-02,  1.0630e+00,  1.6698e+00, -1.9939e+00,\n",
       "         -2.9935e-01,  2.6810e-01, -1.8992e-01, -4.8419e-01, -1.5512e+00,\n",
       "          1.4642e+00,  1.6639e+00,  1.3066e-01, -1.2551e+00,  3.4406e-01,\n",
       "          1.8831e+00,  1.5591e-01,  4.8603e-01, -3.5906e-01,  2.4628e-01,\n",
       "          2.1434e+00, -8.9799e-01,  1.6550e+00, -4.1872e-01, -3.4403e-01,\n",
       "         -6.9356e-01,  3.9063e-01,  6.1294e-01, -9.5189e-01,  9.9350e-01,\n",
       "          6.4907e-01, -5.8869e-01, -5.2982e-01,  5.2129e-01, -1.7898e+00,\n",
       "          1.6019e-01,  7.8994e-01, -1.9923e+00,  3.6084e-01, -2.0212e-01,\n",
       "         -6.8913e-01, -1.1901e+00,  1.4204e-01,  2.0892e+00,  2.9064e-01,\n",
       "         -5.0947e-01,  5.5308e-01,  7.2646e-01,  1.8471e+00, -5.0446e-01,\n",
       "         -1.4269e+00,  6.4847e-01, -6.0553e-01,  1.1077e+00,  1.4805e+00,\n",
       "          9.1633e-01, -9.9945e-01,  2.9911e-01, -1.6803e+00,  4.5007e-01,\n",
       "          5.2278e-01,  1.6060e+00, -1.2500e+00,  4.8615e-02,  1.7055e-01,\n",
       "         -2.8029e-01,  1.1496e+00,  1.3000e+00,  6.6395e-01,  2.1358e+00,\n",
       "          8.5798e-01, -2.0843e-01, -7.3251e-01,  3.5304e-01,  6.4807e-01,\n",
       "         -3.4307e-01, -4.3260e-01,  4.9758e-01,  1.2803e-01, -1.7084e+00,\n",
       "         -9.4215e-01, -1.7649e+00,  1.5658e+00,  1.9368e+00,  3.8287e-01,\n",
       "         -1.3935e+00,  1.3726e+00, -1.5466e+00,  2.1446e+00,  1.0039e+00,\n",
       "          9.0619e-03, -9.1550e-01,  3.2673e-01,  8.8565e-02,  4.6017e-01,\n",
       "          3.3132e-01, -1.1021e+00, -6.0962e-01,  7.3110e-01,  9.7712e-01,\n",
       "          3.8883e-01, -2.8700e-01,  1.4965e-01,  1.2556e+00,  3.3986e-01,\n",
       "         -1.2397e+00, -2.5079e-01, -9.1068e-01,  6.7149e-01,  2.5836e-01,\n",
       "          7.6735e-01,  6.7491e-01,  1.1070e+00,  4.9819e-01,  2.4228e-01,\n",
       "          3.5461e-01, -2.9206e-01, -6.0177e-01, -7.6051e-01, -3.3874e-01,\n",
       "         -8.2762e-02,  6.2919e-01,  1.2061e+00, -3.8267e-01, -4.4158e-01,\n",
       "          9.3263e-01,  2.9933e-01,  4.0361e-01, -1.1852e-01,  7.3322e-01,\n",
       "         -1.7662e-01,  1.0870e+00]], device='cuda:0',\n",
       "       grad_fn=<IndexPutBackward>)"
      ]
     },
     "execution_count": 18,
     "metadata": {},
     "output_type": "execute_result"
    }
   ],
   "source": [
    "noise"
   ]
  },
  {
   "cell_type": "markdown",
   "metadata": {},
   "source": [
    "----"
   ]
  },
  {
   "cell_type": "markdown",
   "metadata": {},
   "source": [
    "# Testing"
   ]
  },
  {
   "cell_type": "code",
   "execution_count": 7,
   "metadata": {},
   "outputs": [],
   "source": [
    "pp_file = '/home/jovyan/Oceanography/SST-OOD/Test/PreProc/MODIS_R2019_2012_95clear_128x128_preproc_std.h5'"
   ]
  },
  {
   "cell_type": "code",
   "execution_count": 11,
   "metadata": {},
   "outputs": [
    {
     "name": "stdout",
     "output_type": "stream",
     "text": [
      "Calculating latents..\n",
      "Scaling..\n",
      "Probabilities now\n"
     ]
    },
    {
     "data": {
      "application/vnd.jupyter.widget-view+json": {
       "model_id": "52d8afb060cd4aa091e6c7d15c4a538b",
       "version_major": 2,
       "version_minor": 0
      },
      "text/plain": [
       "Computing log probs:   0%|          | 0/714 [00:02<?, ?batch/s]"
      ]
     },
     "metadata": {},
     "output_type": "display_data"
    },
    {
     "name": "stdout",
     "output_type": "stream",
     "text": [
      "Wrote latents to /home/jovyan/Oceanography/SST-OOD/Test/Evaluations/tmp_latents.h5\n",
      "Log probabilities saved to /home/jovyan/Oceanography/SST-OOD/Test/Evaluations/tmp_log_prob.h5.\n"
     ]
    },
    {
     "data": {
      "text/plain": [
       "array([ 44.542786, 340.43127 , 390.7146  , ..., 108.63623 , 295.42798 ,\n",
       "       334.82202 ], dtype=float32)"
      ]
     },
     "execution_count": 11,
     "metadata": {},
     "output_type": "execute_result"
    }
   ],
   "source": [
    "pae.eval_data_file(pp_file, 'valid', '/home/jovyan/Oceanography/SST-OOD/Test/Evaluations/tmp_log_prob.h5', csv=False)"
   ]
  },
  {
   "cell_type": "code",
   "execution_count": 12,
   "metadata": {},
   "outputs": [],
   "source": [
    "latent_file2 = '/home/jovyan/Oceanography/SST-OOD/Test/Evaluations/tmp_latents.h5'\n",
    "#latent_h5.keys()\n",
    "latent_h5_2 = h5py.File(latent_file2, 'r')\n",
    "latents2 = latent_h5_2['latents'][:]"
   ]
  },
  {
   "cell_type": "code",
   "execution_count": 18,
   "metadata": {},
   "outputs": [
    {
     "data": {
      "text/plain": [
       "True"
      ]
     },
     "execution_count": 18,
     "metadata": {},
     "output_type": "execute_result"
    }
   ],
   "source": [
    "np.all(np.isclose(latents2[0], latents[0]))"
   ]
  },
  {
   "cell_type": "code",
   "execution_count": null,
   "metadata": {},
   "outputs": [],
   "source": []
  }
 ],
 "metadata": {
  "kernelspec": {
   "display_name": "Python 3",
   "language": "python",
   "name": "python3"
  },
  "language_info": {
   "codemirror_mode": {
    "name": "ipython",
    "version": 3
   },
   "file_extension": ".py",
   "mimetype": "text/x-python",
   "name": "python",
   "nbconvert_exporter": "python",
   "pygments_lexer": "ipython3",
   "version": "3.8.8"
  }
 },
 "nbformat": 4,
 "nbformat_minor": 4
}
