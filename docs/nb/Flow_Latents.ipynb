{
 "cells": [
  {
   "cell_type": "markdown",
   "metadata": {},
   "source": [
    "# Flow latents"
   ]
  },
  {
   "cell_type": "code",
   "execution_count": 1,
   "metadata": {},
   "outputs": [
    {
     "name": "stdout",
     "output_type": "stream",
     "text": [
      "Cartopy not installed.  Some plots will not work!\n"
     ]
    }
   ],
   "source": [
    "# imports\n",
    "from importlib import reload\n",
    "import os\n",
    "os.environ['ENDPOINT_URL'] = 'https://s3.nautilus.optiputer.net'\n",
    "\n",
    "import numpy as np\n",
    "\n",
    "import h5py \n",
    "import torch\n",
    "from tqdm.auto import tqdm\n",
    "\n",
    "from ulmo import io as ulmo_io\n",
    "from ulmo.models import io as models_io\n",
    "from ulmo.utils import HDF5Dataset"
   ]
  },
  {
   "cell_type": "markdown",
   "metadata": {},
   "source": [
    "# Load model"
   ]
  },
  {
   "cell_type": "code",
   "execution_count": 2,
   "metadata": {
    "scrolled": true
   },
   "outputs": [
    {
     "name": "stdout",
     "output_type": "stream",
     "text": [
      "Using device=cuda\n",
      "Loading autoencoder model from: s3://modis-l2/Models/R2019_2010_128x128_std/autoencoder.pt\n",
      "Loading flow model from: s3://modis-l2/Models/R2019_2010_128x128_std/flow.pt\n",
      "scaler loaded from: s3://modis-l2/Models/R2019_2010_128x128_std/MODIS_R2019_2010_95clear_128x128_preproc_std_scaler.pkl\n"
     ]
    },
    {
     "name": "stderr",
     "output_type": "stream",
     "text": [
      "/opt/conda/lib/python3.8/site-packages/sklearn/base.py:310: UserWarning: Trying to unpickle estimator StandardScaler from version 0.23.1 when using version 0.24.1. This might lead to breaking code or invalid results. Use at your own risk.\n",
      "  warnings.warn(\n"
     ]
    }
   ],
   "source": [
    "pae = models_io.load_modis_l2()"
   ]
  },
  {
   "cell_type": "markdown",
   "metadata": {},
   "source": [
    "# Load latents"
   ]
  },
  {
   "cell_type": "code",
   "execution_count": 3,
   "metadata": {},
   "outputs": [],
   "source": [
    "latent_file = '/home/jovyan/Oceanography/SST-OOD/Test/Evaluations/MODIS_R2019_2012_95clear_128x128_latents_std.h5'\n",
    "#latent_h5.keys()\n",
    "latent_h5 = h5py.File(latent_file, 'r')\n",
    "latents = latent_h5['latents'][:]"
   ]
  },
  {
   "cell_type": "code",
   "execution_count": 4,
   "metadata": {},
   "outputs": [
    {
     "data": {
      "text/plain": [
       "(730634, 512)"
      ]
     },
     "execution_count": 4,
     "metadata": {},
     "output_type": "execute_result"
    }
   ],
   "source": [
    "latents.shape"
   ]
  },
  {
   "cell_type": "markdown",
   "metadata": {},
   "source": [
    "## Load LL"
   ]
  },
  {
   "cell_type": "code",
   "execution_count": 5,
   "metadata": {},
   "outputs": [],
   "source": [
    "LL_file = '/home/jovyan/Oceanography/SST-OOD/Test/Evaluations/MODIS_R2019_2012_95clear_128x128_log_prob_std.h5'\n",
    "LL_h5 = h5py.File(LL_file, 'r')\n",
    "#LL_h5.keys()\n",
    "LL = LL_h5['valid'][:]"
   ]
  },
  {
   "cell_type": "code",
   "execution_count": 6,
   "metadata": {},
   "outputs": [
    {
     "data": {
      "text/plain": [
       "44.542786"
      ]
     },
     "execution_count": 6,
     "metadata": {},
     "output_type": "execute_result"
    }
   ],
   "source": [
    "LL[0]"
   ]
  },
  {
   "cell_type": "markdown",
   "metadata": {},
   "source": [
    "# Apply ulmo"
   ]
  },
  {
   "cell_type": "markdown",
   "metadata": {},
   "source": [
    "## Data Loader"
   ]
  },
  {
   "cell_type": "code",
   "execution_count": 7,
   "metadata": {},
   "outputs": [],
   "source": [
    "dset_l = torch.utils.data.TensorDataset(torch.from_numpy(latents[0:1]).float())\n",
    "loader = torch.utils.data.DataLoader(\n",
    "    dset_l, batch_size=1024, shuffle=False, \n",
    "    drop_last=False, num_workers=16)"
   ]
  },
  {
   "cell_type": "markdown",
   "metadata": {},
   "source": [
    "## Log prob"
   ]
  },
  {
   "cell_type": "code",
   "execution_count": 8,
   "metadata": {},
   "outputs": [
    {
     "data": {
      "application/vnd.jupyter.widget-view+json": {
       "model_id": "b7e6696469c24a3eb0444be362d4ab38",
       "version_major": 2,
       "version_minor": 0
      },
      "text/plain": [
       "Computing log probs:   0%|          | 0/1 [00:02<?, ?batch/s]"
      ]
     },
     "metadata": {},
     "output_type": "display_data"
    }
   ],
   "source": [
    "#with h5py.File(output_file, 'w') as f:\n",
    "with torch.no_grad():\n",
    "    log_prob = [pae.flow.log_prob(data[0].to(pae.device)).detach().cpu().numpy()\n",
    "            for data in tqdm(loader, total=len(loader), unit='batch', desc='Computing log probs')]"
   ]
  },
  {
   "cell_type": "code",
   "execution_count": 9,
   "metadata": {},
   "outputs": [
    {
     "data": {
      "text/plain": [
       "array([43.5448], dtype=float32)"
      ]
     },
     "execution_count": 9,
     "metadata": {},
     "output_type": "execute_result"
    }
   ],
   "source": [
    "log_prob[0]"
   ]
  },
  {
   "cell_type": "code",
   "execution_count": 10,
   "metadata": {},
   "outputs": [],
   "source": [
    "data = [data for data in loader]"
   ]
  },
  {
   "cell_type": "code",
   "execution_count": 11,
   "metadata": {},
   "outputs": [
    {
     "data": {
      "text/plain": [
       "torch.Size([1, 512])"
      ]
     },
     "execution_count": 11,
     "metadata": {},
     "output_type": "execute_result"
    }
   ],
   "source": [
    "data[0][0].shape"
   ]
  },
  {
   "cell_type": "code",
   "execution_count": 12,
   "metadata": {},
   "outputs": [],
   "source": [
    "embedded_contet = pae.flow.flow._embedding_net(None)"
   ]
  },
  {
   "cell_type": "code",
   "execution_count": 13,
   "metadata": {},
   "outputs": [],
   "source": [
    "noise, logabsdet = pae.flow.flow._transform(data[0][0].to(pae.device))"
   ]
  },
  {
   "cell_type": "code",
   "execution_count": 14,
   "metadata": {},
   "outputs": [
    {
     "data": {
      "text/plain": [
       "torch.Size([1, 512])"
      ]
     },
     "execution_count": 14,
     "metadata": {},
     "output_type": "execute_result"
    }
   ],
   "source": [
    "noise.shape"
   ]
  },
  {
   "cell_type": "code",
   "execution_count": 15,
   "metadata": {},
   "outputs": [
    {
     "data": {
      "text/plain": [
       "tensor([744.8929], device='cuda:0', grad_fn=<AddBackward0>)"
      ]
     },
     "execution_count": 15,
     "metadata": {},
     "output_type": "execute_result"
    }
   ],
   "source": [
    "logabsdet"
   ]
  },
  {
   "cell_type": "code",
   "execution_count": 16,
   "metadata": {},
   "outputs": [],
   "source": [
    "embedded_contet"
   ]
  },
  {
   "cell_type": "code",
   "execution_count": 17,
   "metadata": {},
   "outputs": [
    {
     "data": {
      "text/plain": [
       "tensor([-699.0179], device='cuda:0', grad_fn=<SubBackward0>)"
      ]
     },
     "execution_count": 17,
     "metadata": {},
     "output_type": "execute_result"
    }
   ],
   "source": [
    "pae.flow.flow._distribution.log_prob(noise)"
   ]
  },
  {
   "cell_type": "code",
   "execution_count": 23,
   "metadata": {},
   "outputs": [
    {
     "data": {
      "text/plain": [
       "tensor([ 0.4312, -0.9127,  1.0792,  0.8318,  0.5057], device='cuda:0',\n",
       "       grad_fn=<SliceBackward>)"
      ]
     },
     "execution_count": 23,
     "metadata": {},
     "output_type": "execute_result"
    }
   ],
   "source": [
    "noise[0][0:5]"
   ]
  },
  {
   "cell_type": "markdown",
   "metadata": {},
   "source": [
    "## Batch"
   ]
  },
  {
   "cell_type": "code",
   "execution_count": 25,
   "metadata": {},
   "outputs": [],
   "source": [
    "dset_l = torch.utils.data.TensorDataset(torch.from_numpy(latents).float())\n",
    "loader = torch.utils.data.DataLoader(\n",
    "    dset_l, batch_size=1024, shuffle=False, \n",
    "    drop_last=False, num_workers=16)"
   ]
  },
  {
   "cell_type": "code",
   "execution_count": 26,
   "metadata": {},
   "outputs": [
    {
     "data": {
      "application/vnd.jupyter.widget-view+json": {
       "model_id": "19f769d359a142f69eb7bfbbe54459ac",
       "version_major": 2,
       "version_minor": 0
      },
      "text/plain": [
       "Computing noise:   0%|          | 0/714 [00:01<?, ?batch/s]"
      ]
     },
     "metadata": {},
     "output_type": "display_data"
    }
   ],
   "source": [
    "with torch.no_grad():\n",
    "    items = [pae.flow.flow._transform(data[0].to(pae.device))\n",
    "            for data in tqdm(loader, total=len(loader), unit='batch', desc='Computing noise')]"
   ]
  },
  {
   "cell_type": "code",
   "execution_count": 27,
   "metadata": {},
   "outputs": [
    {
     "data": {
      "text/plain": [
       "tensor([[ 0.3828, -0.8272,  1.0355,  ...,  0.6660, -0.0166,  1.1914],\n",
       "        [ 0.4339, -0.6442,  0.2424,  ...,  1.2570, -1.2401,  0.6977],\n",
       "        [-0.5705, -1.2546, -0.8328,  ...,  0.0827, -0.3387,  0.4422],\n",
       "        ...,\n",
       "        [ 0.6506, -1.6423,  3.5291,  ..., -1.9398, -0.1663, -0.7613],\n",
       "        [-0.5718, -0.1999,  0.6853,  ...,  0.4397, -0.5380,  1.9431],\n",
       "        [-1.2321, -0.1346,  0.6722,  ...,  0.6570, -1.4293,  0.7946]],\n",
       "       device='cuda:0')"
      ]
     },
     "execution_count": 27,
     "metadata": {},
     "output_type": "execute_result"
    }
   ],
   "source": [
    "items[0][0]"
   ]
  },
  {
   "cell_type": "markdown",
   "metadata": {},
   "source": [
    "----"
   ]
  },
  {
   "cell_type": "code",
   "execution_count": 28,
   "metadata": {},
   "outputs": [
    {
     "data": {
      "text/plain": [
       "tensor([ 746.6124, 1063.5111, 1119.2800,  ...,  295.2014,  603.0554,\n",
       "         756.0487], device='cuda:0')"
      ]
     },
     "execution_count": 28,
     "metadata": {},
     "output_type": "execute_result"
    }
   ],
   "source": [
    "items[0][1]"
   ]
  },
  {
   "cell_type": "markdown",
   "metadata": {},
   "source": [
    "# Testing"
   ]
  },
  {
   "cell_type": "code",
   "execution_count": 7,
   "metadata": {},
   "outputs": [],
   "source": [
    "pp_file = '/home/jovyan/Oceanography/SST-OOD/Test/PreProc/MODIS_R2019_2012_95clear_128x128_preproc_std.h5'"
   ]
  },
  {
   "cell_type": "code",
   "execution_count": 11,
   "metadata": {},
   "outputs": [
    {
     "name": "stdout",
     "output_type": "stream",
     "text": [
      "Calculating latents..\n",
      "Scaling..\n",
      "Probabilities now\n"
     ]
    },
    {
     "data": {
      "application/vnd.jupyter.widget-view+json": {
       "model_id": "52d8afb060cd4aa091e6c7d15c4a538b",
       "version_major": 2,
       "version_minor": 0
      },
      "text/plain": [
       "Computing log probs:   0%|          | 0/714 [00:02<?, ?batch/s]"
      ]
     },
     "metadata": {},
     "output_type": "display_data"
    },
    {
     "name": "stdout",
     "output_type": "stream",
     "text": [
      "Wrote latents to /home/jovyan/Oceanography/SST-OOD/Test/Evaluations/tmp_latents.h5\n",
      "Log probabilities saved to /home/jovyan/Oceanography/SST-OOD/Test/Evaluations/tmp_log_prob.h5.\n"
     ]
    },
    {
     "data": {
      "text/plain": [
       "array([ 44.542786, 340.43127 , 390.7146  , ..., 108.63623 , 295.42798 ,\n",
       "       334.82202 ], dtype=float32)"
      ]
     },
     "execution_count": 11,
     "metadata": {},
     "output_type": "execute_result"
    }
   ],
   "source": [
    "pae.eval_data_file(pp_file, 'valid', '/home/jovyan/Oceanography/SST-OOD/Test/Evaluations/tmp_log_prob.h5', csv=False)"
   ]
  },
  {
   "cell_type": "code",
   "execution_count": 12,
   "metadata": {},
   "outputs": [],
   "source": [
    "latent_file2 = '/home/jovyan/Oceanography/SST-OOD/Test/Evaluations/tmp_latents.h5'\n",
    "#latent_h5.keys()\n",
    "latent_h5_2 = h5py.File(latent_file2, 'r')\n",
    "latents2 = latent_h5_2['latents'][:]"
   ]
  },
  {
   "cell_type": "code",
   "execution_count": 18,
   "metadata": {},
   "outputs": [
    {
     "data": {
      "text/plain": [
       "True"
      ]
     },
     "execution_count": 18,
     "metadata": {},
     "output_type": "execute_result"
    }
   ],
   "source": [
    "np.all(np.isclose(latents2[0], latents[0]))"
   ]
  },
  {
   "cell_type": "code",
   "execution_count": null,
   "metadata": {},
   "outputs": [],
   "source": []
  }
 ],
 "metadata": {
  "kernelspec": {
   "display_name": "Python 3",
   "language": "python",
   "name": "python3"
  },
  "language_info": {
   "codemirror_mode": {
    "name": "ipython",
    "version": 3
   },
   "file_extension": ".py",
   "mimetype": "text/x-python",
   "name": "python",
   "nbconvert_exporter": "python",
   "pygments_lexer": "ipython3",
   "version": "3.8.8"
  }
 },
 "nbformat": 4,
 "nbformat_minor": 4
}
