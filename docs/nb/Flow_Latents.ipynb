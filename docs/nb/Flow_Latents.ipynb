{
 "cells": [
  {
   "cell_type": "markdown",
   "metadata": {},
   "source": [
    "# Testing s3"
   ]
  },
  {
   "cell_type": "code",
   "execution_count": 1,
   "metadata": {},
   "outputs": [
    {
     "name": "stdout",
     "output_type": "stream",
     "text": [
      "Cartopy not installed.  Some plots will not work!\n"
     ]
    }
   ],
   "source": [
    "# imports\n",
    "from importlib import reload\n",
    "import os\n",
    "os.environ['ENDPOINT_URL'] = 'https://s3.nautilus.optiputer.net'\n",
    "\n",
    "import h5py \n",
    "import torch\n",
    "from tqdm.auto import tqdm\n",
    "\n",
    "from ulmo import io as ulmo_io\n",
    "from ulmo.models import io as models_io\n",
    "from ulmo.utils import HDF5Dataset"
   ]
  },
  {
   "cell_type": "markdown",
   "metadata": {},
   "source": [
    "# Load model"
   ]
  },
  {
   "cell_type": "code",
   "execution_count": null,
   "metadata": {
    "scrolled": true
   },
   "outputs": [],
   "source": [
    "pae = models_io.load_modis_l2()"
   ]
  },
  {
   "cell_type": "markdown",
   "metadata": {},
   "source": [
    "# Load latents"
   ]
  },
  {
   "cell_type": "code",
   "execution_count": null,
   "metadata": {},
   "outputs": [],
   "source": [
    "latent_file = '/home/jovyan/Oceanography/SST-OOD/Test/Evaluations/MODIS_R2019_2012_95clear_128x128_latents_std.h5'\n",
    "#latent_h5.keys()\n",
    "latent_h5 = h5py.File(latent_file, 'r')\n",
    "latents = latent_h5['latents'][:]"
   ]
  },
  {
   "cell_type": "code",
   "execution_count": null,
   "metadata": {},
   "outputs": [],
   "source": [
    "latents.shape"
   ]
  },
  {
   "cell_type": "markdown",
   "metadata": {},
   "source": [
    "## Load LL"
   ]
  },
  {
   "cell_type": "code",
   "execution_count": 67,
   "metadata": {},
   "outputs": [],
   "source": [
    "LL_file = '/home/jovyan/Oceanography/SST-OOD/Test/Evaluations/MODIS_R2019_2012_95clear_128x128_log_prob_std.h5'\n",
    "LL_h5 = h5py.File(LL_file, 'r')\n",
    "#LL_h5.keys()\n",
    "LL = LL_h5['valid'][:]"
   ]
  },
  {
   "cell_type": "code",
   "execution_count": 68,
   "metadata": {},
   "outputs": [
    {
     "data": {
      "text/plain": [
       "44.542786"
      ]
     },
     "execution_count": 68,
     "metadata": {},
     "output_type": "execute_result"
    }
   ],
   "source": [
    "LL[0]"
   ]
  },
  {
   "cell_type": "markdown",
   "metadata": {},
   "source": [
    "# Apply ulmo"
   ]
  },
  {
   "cell_type": "markdown",
   "metadata": {},
   "source": [
    "## Data Loader"
   ]
  },
  {
   "cell_type": "code",
   "execution_count": 70,
   "metadata": {},
   "outputs": [],
   "source": [
    "dset_l = torch.utils.data.TensorDataset(torch.from_numpy(latents).float())\n",
    "loader = torch.utils.data.DataLoader(\n",
    "    dset_l, batch_size=1024, shuffle=False, \n",
    "    drop_last=False, num_workers=16)"
   ]
  },
  {
   "cell_type": "markdown",
   "metadata": {},
   "source": [
    "## Log prob"
   ]
  },
  {
   "cell_type": "code",
   "execution_count": 71,
   "metadata": {},
   "outputs": [
    {
     "data": {
      "application/vnd.jupyter.widget-view+json": {
       "model_id": "934d5dbc4cfd482595bfc258b1e96b4f",
       "version_major": 2,
       "version_minor": 0
      },
      "text/plain": [
       "Computing log probs:   0%|          | 0/714 [00:00<?, ?batch/s]"
      ]
     },
     "metadata": {},
     "output_type": "display_data"
    }
   ],
   "source": [
    "#with h5py.File(output_file, 'w') as f:\n",
    "with torch.no_grad():\n",
    "    log_prob = [pae.flow.log_prob(data[0].to(pae.device)).detach().cpu().numpy()\n",
    "            for data in tqdm(loader, total=len(loader), unit='batch', desc='Computing log probs')]"
   ]
  },
  {
   "cell_type": "code",
   "execution_count": 72,
   "metadata": {},
   "outputs": [
    {
     "data": {
      "text/plain": [
       "array([-2170.355 , -1502.8975, -1434.7456, ..., -3031.3735, -1349.7324,\n",
       "       -1992.5619], dtype=float32)"
      ]
     },
     "execution_count": 72,
     "metadata": {},
     "output_type": "execute_result"
    }
   ],
   "source": [
    "log_prob[0]"
   ]
  },
  {
   "cell_type": "code",
   "execution_count": 20,
   "metadata": {},
   "outputs": [],
   "source": [
    "data = [data for data in loader]"
   ]
  },
  {
   "cell_type": "code",
   "execution_count": 23,
   "metadata": {},
   "outputs": [
    {
     "data": {
      "text/plain": [
       "torch.Size([1, 512])"
      ]
     },
     "execution_count": 23,
     "metadata": {},
     "output_type": "execute_result"
    }
   ],
   "source": [
    "data[0][0].shape"
   ]
  },
  {
   "cell_type": "code",
   "execution_count": 10,
   "metadata": {},
   "outputs": [],
   "source": [
    "embedded_contet = pae.flow.flow._embedding_net(None)"
   ]
  },
  {
   "cell_type": "code",
   "execution_count": 27,
   "metadata": {},
   "outputs": [],
   "source": [
    "noise, logabsdet = pae.flow.flow._transform(data[0][0].to(pae.device))"
   ]
  },
  {
   "cell_type": "code",
   "execution_count": 29,
   "metadata": {},
   "outputs": [
    {
     "data": {
      "text/plain": [
       "torch.Size([1, 512])"
      ]
     },
     "execution_count": 29,
     "metadata": {},
     "output_type": "execute_result"
    }
   ],
   "source": [
    "noise.shape"
   ]
  },
  {
   "cell_type": "code",
   "execution_count": 35,
   "metadata": {},
   "outputs": [
    {
     "data": {
      "text/plain": [
       "tensor([-560.3973], device='cuda:0', grad_fn=<AddBackward0>)"
      ]
     },
     "execution_count": 35,
     "metadata": {},
     "output_type": "execute_result"
    }
   ],
   "source": [
    "logabsdet"
   ]
  },
  {
   "cell_type": "code",
   "execution_count": 31,
   "metadata": {},
   "outputs": [],
   "source": [
    "embedded_contet"
   ]
  },
  {
   "cell_type": "code",
   "execution_count": 34,
   "metadata": {},
   "outputs": [
    {
     "data": {
      "text/plain": [
       "tensor([-1701.7292], device='cuda:0', grad_fn=<SubBackward0>)"
      ]
     },
     "execution_count": 34,
     "metadata": {},
     "output_type": "execute_result"
    }
   ],
   "source": [
    "pae.flow.flow._distribution.log_prob(noise)"
   ]
  },
  {
   "cell_type": "code",
   "execution_count": 33,
   "metadata": {},
   "outputs": [
    {
     "data": {
      "text/plain": [
       "tensor([[ 4.2856, -2.9644,  4.9077, -5.2754,  2.3232, -1.0631,  3.2675, -1.4780,\n",
       "          2.1608,  0.7712, -7.3900, -2.2922, -2.4882, -0.5822,  0.2374,  3.8715,\n",
       "          0.0624,  1.0902, -0.4192, -0.6375, -0.1435,  0.1635, -0.0995,  1.3944,\n",
       "         -1.2614, -0.5138,  0.6984, -1.4532, -0.8175, -1.0216,  0.5286, -0.8830,\n",
       "          0.7977, -0.6997, -0.2825,  0.3575, -3.4833,  1.3123,  0.8045, -1.3445,\n",
       "         -3.1661,  2.3120,  0.6416,  0.3080, -0.4698, -0.1220,  1.7378, -2.3613,\n",
       "          3.6702,  0.9197,  1.5923, -1.3069, -3.1598,  1.6582,  4.3597, -4.4577,\n",
       "          0.1569, -1.0372,  3.1883,  0.9863,  1.4218,  1.0572,  3.1231,  0.2645,\n",
       "          1.6775,  0.5029, -5.8601, -1.0793,  2.5416, -5.8976, -0.3600, -0.8460,\n",
       "          3.0256,  2.6811, -1.3420, -2.6690, -1.5031, -5.9358,  2.0237,  2.7620,\n",
       "         -0.5121,  0.0279,  2.9817, -3.8670, -0.2974, -1.5294,  3.3040, -1.3577,\n",
       "         -2.7910,  1.9800, -0.2363, -0.1808,  1.4362,  2.1273, -0.2986,  0.3392,\n",
       "         -2.8925,  2.0380, -0.1684,  0.6035, -2.2426, -1.9057,  2.3192,  2.4187,\n",
       "          0.5912, -2.2660, -2.0110, -1.2319, -0.4290,  2.5236, -0.7879,  0.3969,\n",
       "         -3.1238, -3.1646,  0.0522,  0.9350,  2.4756,  0.0880, -1.0754, -0.6526,\n",
       "         -3.4215, -1.8103,  1.8563,  0.2941,  2.9845, -0.7371,  0.1152, -0.1762,\n",
       "         -1.4047,  2.4451, -1.9394,  2.9230,  4.4776, -0.0135, -3.0970,  0.0979,\n",
       "          1.4517,  1.8506,  1.4620, -0.2598, -1.3825,  0.7037,  1.8919, -2.4405,\n",
       "          0.1674, -4.9952,  0.4148, -3.4030,  3.1215,  0.5349,  1.3751,  0.1317,\n",
       "         -0.8944, -2.7645, -0.3637, -0.0907,  0.5804, -1.3326, -2.7356, -6.1335,\n",
       "         -0.3500, -1.3511,  1.1522, -0.0851, -4.0457,  0.3418,  0.4534,  2.9537,\n",
       "         -0.2514,  1.7806, -2.8473, -0.1723, -1.3533, -3.0855, -2.2044,  0.4201,\n",
       "          2.0832, -2.4958,  1.5420,  4.8394,  1.3837, -3.8444,  0.5242, -0.0278,\n",
       "         -4.3041,  0.3599, -0.2733,  0.1543,  1.4887, -1.9641,  0.6928,  0.5500,\n",
       "          2.2401, -2.7368, -1.0513,  1.3919,  0.9176, -2.7459,  0.8829,  1.4138,\n",
       "          4.1168, -0.0560,  1.5786, -3.9231,  0.9073,  0.5467, -0.9585,  1.4260,\n",
       "         -2.3698,  0.6563,  0.1872, -0.8387,  3.2979, -1.0865,  2.8323,  2.2196,\n",
       "         -1.2291,  1.2591,  0.7836, -1.0992, -4.0933, -1.1018, -0.4335,  2.8387,\n",
       "         -5.2693, -0.0739, -1.9436, -1.6693,  0.1306,  0.7201, -4.3158, -0.3328,\n",
       "          2.1790,  7.9731, -2.1776, -1.9201,  0.5285,  4.2041, -0.2190, -2.3333,\n",
       "         -2.3436, -1.4743, -0.5790,  0.6490,  0.2367,  2.5496, -0.7259, -1.0243,\n",
       "         -1.5090, -3.3674, -0.9089, -2.2356, -0.4500, -2.0512,  0.0677, -0.9258,\n",
       "          0.0728,  1.0588, -3.7731, -4.9966, -0.5396, -0.3311, -0.6649,  4.6307,\n",
       "          0.0702,  1.2794,  0.3925, -2.6582,  2.1916, -3.0935,  0.1837, -1.2283,\n",
       "          1.3105, -1.4344,  2.0392,  0.3566,  0.9106, -0.3871, -2.9378,  0.5919,\n",
       "         -3.6358,  1.3233, -0.5279, -0.2263, -4.1230, -4.0729,  2.7573, -0.6910,\n",
       "          3.4376, -2.3882,  1.1087, -1.2402,  3.9394,  2.0299, -5.1985, -0.4201,\n",
       "         -1.6183, -3.8820, -2.8442,  0.3340, -0.6849, -1.1773, -2.0088,  3.6351,\n",
       "          0.2649, -0.6577,  0.8762,  0.2291,  1.0319, -3.6731,  0.5262,  1.7778,\n",
       "         -1.4594,  4.7964,  2.9644, -1.4517, -1.9551, -0.8111, -1.9575, -1.2622,\n",
       "         -2.6029,  1.6948,  3.6831,  1.0531,  0.1728, -2.1462, -0.0302, -3.8082,\n",
       "         -3.4752, -0.1426,  2.3956,  0.4803,  1.1971,  1.5592, -0.2729,  0.4362,\n",
       "         -0.9175,  0.2765, -0.8001,  1.1055, -1.2058, -0.7309, -0.7096,  1.9447,\n",
       "          2.4995,  1.8675, -1.0557, -0.4531,  0.3303, -0.0194,  0.4749,  1.3670,\n",
       "         -0.8268,  0.8248, -0.5993,  3.5273,  1.2965,  1.0859, -0.4875, -2.7362,\n",
       "          2.4426, -3.8746,  2.2058,  1.4825,  5.7834,  0.6900,  1.0258, -4.0472,\n",
       "          0.0662,  0.1063, -0.3675, -3.8848,  1.6792,  2.6107,  1.2000,  0.9477,\n",
       "          0.6442,  4.7688, -2.3108,  0.1993,  1.3200, -0.9583, -3.6604,  1.6927,\n",
       "          4.7348,  1.1494, -1.5945,  2.2805, -1.6569, -1.3397, -3.4481,  6.7076,\n",
       "          0.0201,  1.6632, -0.2618,  0.6175, -1.3154,  1.3320, -0.9246,  0.5042,\n",
       "         -0.6406, -1.9915,  0.3637, -2.2206, -0.0431,  0.4936, -1.3658,  0.0530,\n",
       "         -3.2249,  0.8922,  3.5828, -0.6454,  0.0418,  0.3306,  5.0281, -0.9284,\n",
       "          2.7540,  0.9236,  0.6735,  1.5255,  0.4634,  4.3099,  0.0505,  0.3289,\n",
       "          0.8401,  0.0237, -1.1064, -0.2127,  0.2282,  0.5175,  2.1250, -4.4721,\n",
       "          0.4559, -0.3730, -2.1911,  0.9986,  2.4694,  0.6858, -2.0389, -1.7584,\n",
       "          4.2190,  0.9236, -5.3532, -2.3280,  1.2861,  2.3454,  4.5496,  3.2575,\n",
       "         -0.4465, -0.6129,  1.4548,  1.2345, -0.0516,  1.6169, -0.9652,  5.4137,\n",
       "         -3.7616,  2.1720, -1.2349, -0.9372, -0.4495, -0.1590,  2.4833,  0.1363,\n",
       "         -0.0136,  0.6532, -1.6624,  1.0930, -1.9336, -0.9549,  2.8731,  2.7505,\n",
       "         -1.4907,  3.0400, -1.6283, -2.0228,  0.8869, -0.9952,  0.2436, -2.1269,\n",
       "          1.9056,  3.2066, -0.9648, -1.6965, -3.3583,  0.2940,  1.6137, -3.2233,\n",
       "         -1.0460,  0.8798, -1.3070, -3.0040, -1.9397,  0.9042,  2.1407,  2.1908,\n",
       "          2.9553, -3.1101, -0.7777,  2.4959, -2.2531, -1.8877, -1.0015, -1.1313,\n",
       "         -1.9103,  1.9233, -2.4798, -1.2022, -1.4522, -0.5824,  0.8003,  0.5251]],\n",
       "       device='cuda:0', grad_fn=<IndexPutBackward>)"
      ]
     },
     "execution_count": 33,
     "metadata": {},
     "output_type": "execute_result"
    }
   ],
   "source": [
    "noise"
   ]
  },
  {
   "cell_type": "markdown",
   "metadata": {},
   "source": [
    "----"
   ]
  },
  {
   "cell_type": "markdown",
   "metadata": {},
   "source": [
    "# Testing"
   ]
  },
  {
   "cell_type": "code",
   "execution_count": 3,
   "metadata": {},
   "outputs": [],
   "source": [
    "pp_file = '/home/jovyan/Oceanography/SST-OOD/Test/PreProc/MODIS_R2019_2012_95clear_128x128_preproc_std.h5'"
   ]
  },
  {
   "cell_type": "code",
   "execution_count": 4,
   "metadata": {},
   "outputs": [],
   "source": [
    "dset = HDF5Dataset(pp_file, partition='valid')"
   ]
  },
  {
   "cell_type": "code",
   "execution_count": 5,
   "metadata": {},
   "outputs": [
    {
     "name": "stdout",
     "output_type": "stream",
     "text": [
      "Calculating latents..\n"
     ]
    },
    {
     "ename": "KeyError",
     "evalue": "Caught KeyError in DataLoader worker process 8.\nOriginal Traceback (most recent call last):\n  File \"/opt/conda/lib/python3.8/site-packages/torch/utils/data/_utils/worker.py\", line 198, in _worker_loop\n    data = fetcher.fetch(index)\n  File \"/opt/conda/lib/python3.8/site-packages/torch/utils/data/_utils/fetch.py\", line 44, in fetch\n    data = [self.dataset[idx] for idx in possibly_batched_index]\n  File \"/opt/conda/lib/python3.8/site-packages/torch/utils/data/_utils/fetch.py\", line 44, in <listcomp>\n    data = [self.dataset[idx] for idx in possibly_batched_index]\n  File \"/home/jovyan/Oceanography/python/ulmo/ulmo/utils/utils.py\", line 29, in __getitem__\n    data = self.h5f[self.partition][index]\n  File \"h5py/_objects.pyx\", line 54, in h5py._objects.with_phil.wrapper\n  File \"h5py/_objects.pyx\", line 55, in h5py._objects.with_phil.wrapper\n  File \"/opt/conda/lib/python3.8/site-packages/h5py/_hl/group.py\", line 264, in __getitem__\n    oid = h5o.open(self.id, self._e(name), lapl=self._lapl)\n  File \"h5py/_objects.pyx\", line 54, in h5py._objects.with_phil.wrapper\n  File \"h5py/_objects.pyx\", line 55, in h5py._objects.with_phil.wrapper\n  File \"h5py/h5o.pyx\", line 190, in h5py.h5o.open\nKeyError: 'Unable to open object (bad local heap signature)'\n",
     "output_type": "error",
     "traceback": [
      "\u001b[0;31m---------------------------------------------------------------------------\u001b[0m",
      "\u001b[0;31mKeyError\u001b[0m                                  Traceback (most recent call last)",
      "\u001b[0;32m<ipython-input-5-1a6147146d7b>\u001b[0m in \u001b[0;36m<module>\u001b[0;34m\u001b[0m\n\u001b[0;32m----> 1\u001b[0;31m \u001b[0mlatents\u001b[0m\u001b[0;34m,\u001b[0m \u001b[0mLL\u001b[0m \u001b[0;34m=\u001b[0m \u001b[0mpae\u001b[0m\u001b[0;34m.\u001b[0m\u001b[0mcompute_log_probs\u001b[0m\u001b[0;34m(\u001b[0m\u001b[0mdset\u001b[0m\u001b[0;34m)\u001b[0m\u001b[0;34m\u001b[0m\u001b[0;34m\u001b[0m\u001b[0m\n\u001b[0m",
      "\u001b[0;32m~/Oceanography/python/ulmo/ulmo/ood/ood.py\u001b[0m in \u001b[0;36mcompute_log_probs\u001b[0;34m(self, dset, num_workers, batch_size, collate_fn)\u001b[0m\n\u001b[1;32m    611\u001b[0m         \u001b[0mprint\u001b[0m\u001b[0;34m(\u001b[0m\u001b[0;34m\"Calculating latents..\"\u001b[0m\u001b[0;34m)\u001b[0m\u001b[0;34m\u001b[0m\u001b[0;34m\u001b[0m\u001b[0m\n\u001b[1;32m    612\u001b[0m         \u001b[0;32mwith\u001b[0m \u001b[0mtorch\u001b[0m\u001b[0;34m.\u001b[0m\u001b[0mno_grad\u001b[0m\u001b[0;34m(\u001b[0m\u001b[0;34m)\u001b[0m\u001b[0;34m:\u001b[0m\u001b[0;34m\u001b[0m\u001b[0;34m\u001b[0m\u001b[0m\n\u001b[0;32m--> 613\u001b[0;31m             pre_latents = [self.autoencoder.encode(data[0].to(self.device)).detach().cpu().numpy()\n\u001b[0m\u001b[1;32m    614\u001b[0m                      for data in loader]\n\u001b[1;32m    615\u001b[0m \u001b[0;34m\u001b[0m\u001b[0m\n",
      "\u001b[0;32m~/Oceanography/python/ulmo/ulmo/ood/ood.py\u001b[0m in \u001b[0;36m<listcomp>\u001b[0;34m(.0)\u001b[0m\n\u001b[1;32m    611\u001b[0m         \u001b[0mprint\u001b[0m\u001b[0;34m(\u001b[0m\u001b[0;34m\"Calculating latents..\"\u001b[0m\u001b[0;34m)\u001b[0m\u001b[0;34m\u001b[0m\u001b[0;34m\u001b[0m\u001b[0m\n\u001b[1;32m    612\u001b[0m         \u001b[0;32mwith\u001b[0m \u001b[0mtorch\u001b[0m\u001b[0;34m.\u001b[0m\u001b[0mno_grad\u001b[0m\u001b[0;34m(\u001b[0m\u001b[0;34m)\u001b[0m\u001b[0;34m:\u001b[0m\u001b[0;34m\u001b[0m\u001b[0;34m\u001b[0m\u001b[0m\n\u001b[0;32m--> 613\u001b[0;31m             pre_latents = [self.autoencoder.encode(data[0].to(self.device)).detach().cpu().numpy()\n\u001b[0m\u001b[1;32m    614\u001b[0m                      for data in loader]\n\u001b[1;32m    615\u001b[0m \u001b[0;34m\u001b[0m\u001b[0m\n",
      "\u001b[0;32m/opt/conda/lib/python3.8/site-packages/torch/utils/data/dataloader.py\u001b[0m in \u001b[0;36m__next__\u001b[0;34m(self)\u001b[0m\n\u001b[1;32m    433\u001b[0m         \u001b[0;32mif\u001b[0m \u001b[0mself\u001b[0m\u001b[0;34m.\u001b[0m\u001b[0m_sampler_iter\u001b[0m \u001b[0;32mis\u001b[0m \u001b[0;32mNone\u001b[0m\u001b[0;34m:\u001b[0m\u001b[0;34m\u001b[0m\u001b[0;34m\u001b[0m\u001b[0m\n\u001b[1;32m    434\u001b[0m             \u001b[0mself\u001b[0m\u001b[0;34m.\u001b[0m\u001b[0m_reset\u001b[0m\u001b[0;34m(\u001b[0m\u001b[0;34m)\u001b[0m\u001b[0;34m\u001b[0m\u001b[0;34m\u001b[0m\u001b[0m\n\u001b[0;32m--> 435\u001b[0;31m         \u001b[0mdata\u001b[0m \u001b[0;34m=\u001b[0m \u001b[0mself\u001b[0m\u001b[0;34m.\u001b[0m\u001b[0m_next_data\u001b[0m\u001b[0;34m(\u001b[0m\u001b[0;34m)\u001b[0m\u001b[0;34m\u001b[0m\u001b[0;34m\u001b[0m\u001b[0m\n\u001b[0m\u001b[1;32m    436\u001b[0m         \u001b[0mself\u001b[0m\u001b[0;34m.\u001b[0m\u001b[0m_num_yielded\u001b[0m \u001b[0;34m+=\u001b[0m \u001b[0;36m1\u001b[0m\u001b[0;34m\u001b[0m\u001b[0;34m\u001b[0m\u001b[0m\n\u001b[1;32m    437\u001b[0m         \u001b[0;32mif\u001b[0m \u001b[0mself\u001b[0m\u001b[0;34m.\u001b[0m\u001b[0m_dataset_kind\u001b[0m \u001b[0;34m==\u001b[0m \u001b[0m_DatasetKind\u001b[0m\u001b[0;34m.\u001b[0m\u001b[0mIterable\u001b[0m \u001b[0;32mand\u001b[0m\u001b[0;31m \u001b[0m\u001b[0;31m\\\u001b[0m\u001b[0;34m\u001b[0m\u001b[0;34m\u001b[0m\u001b[0m\n",
      "\u001b[0;32m/opt/conda/lib/python3.8/site-packages/torch/utils/data/dataloader.py\u001b[0m in \u001b[0;36m_next_data\u001b[0;34m(self)\u001b[0m\n\u001b[1;32m   1063\u001b[0m             \u001b[0;32mif\u001b[0m \u001b[0mlen\u001b[0m\u001b[0;34m(\u001b[0m\u001b[0mself\u001b[0m\u001b[0;34m.\u001b[0m\u001b[0m_task_info\u001b[0m\u001b[0;34m[\u001b[0m\u001b[0mself\u001b[0m\u001b[0;34m.\u001b[0m\u001b[0m_rcvd_idx\u001b[0m\u001b[0;34m]\u001b[0m\u001b[0;34m)\u001b[0m \u001b[0;34m==\u001b[0m \u001b[0;36m2\u001b[0m\u001b[0;34m:\u001b[0m\u001b[0;34m\u001b[0m\u001b[0;34m\u001b[0m\u001b[0m\n\u001b[1;32m   1064\u001b[0m                 \u001b[0mdata\u001b[0m \u001b[0;34m=\u001b[0m \u001b[0mself\u001b[0m\u001b[0;34m.\u001b[0m\u001b[0m_task_info\u001b[0m\u001b[0;34m.\u001b[0m\u001b[0mpop\u001b[0m\u001b[0;34m(\u001b[0m\u001b[0mself\u001b[0m\u001b[0;34m.\u001b[0m\u001b[0m_rcvd_idx\u001b[0m\u001b[0;34m)\u001b[0m\u001b[0;34m[\u001b[0m\u001b[0;36m1\u001b[0m\u001b[0;34m]\u001b[0m\u001b[0;34m\u001b[0m\u001b[0;34m\u001b[0m\u001b[0m\n\u001b[0;32m-> 1065\u001b[0;31m                 \u001b[0;32mreturn\u001b[0m \u001b[0mself\u001b[0m\u001b[0;34m.\u001b[0m\u001b[0m_process_data\u001b[0m\u001b[0;34m(\u001b[0m\u001b[0mdata\u001b[0m\u001b[0;34m)\u001b[0m\u001b[0;34m\u001b[0m\u001b[0;34m\u001b[0m\u001b[0m\n\u001b[0m\u001b[1;32m   1066\u001b[0m \u001b[0;34m\u001b[0m\u001b[0m\n\u001b[1;32m   1067\u001b[0m             \u001b[0;32massert\u001b[0m \u001b[0;32mnot\u001b[0m \u001b[0mself\u001b[0m\u001b[0;34m.\u001b[0m\u001b[0m_shutdown\u001b[0m \u001b[0;32mand\u001b[0m \u001b[0mself\u001b[0m\u001b[0;34m.\u001b[0m\u001b[0m_tasks_outstanding\u001b[0m \u001b[0;34m>\u001b[0m \u001b[0;36m0\u001b[0m\u001b[0;34m\u001b[0m\u001b[0;34m\u001b[0m\u001b[0m\n",
      "\u001b[0;32m/opt/conda/lib/python3.8/site-packages/torch/utils/data/dataloader.py\u001b[0m in \u001b[0;36m_process_data\u001b[0;34m(self, data)\u001b[0m\n\u001b[1;32m   1109\u001b[0m         \u001b[0mself\u001b[0m\u001b[0;34m.\u001b[0m\u001b[0m_try_put_index\u001b[0m\u001b[0;34m(\u001b[0m\u001b[0;34m)\u001b[0m\u001b[0;34m\u001b[0m\u001b[0;34m\u001b[0m\u001b[0m\n\u001b[1;32m   1110\u001b[0m         \u001b[0;32mif\u001b[0m \u001b[0misinstance\u001b[0m\u001b[0;34m(\u001b[0m\u001b[0mdata\u001b[0m\u001b[0;34m,\u001b[0m \u001b[0mExceptionWrapper\u001b[0m\u001b[0;34m)\u001b[0m\u001b[0;34m:\u001b[0m\u001b[0;34m\u001b[0m\u001b[0;34m\u001b[0m\u001b[0m\n\u001b[0;32m-> 1111\u001b[0;31m             \u001b[0mdata\u001b[0m\u001b[0;34m.\u001b[0m\u001b[0mreraise\u001b[0m\u001b[0;34m(\u001b[0m\u001b[0;34m)\u001b[0m\u001b[0;34m\u001b[0m\u001b[0;34m\u001b[0m\u001b[0m\n\u001b[0m\u001b[1;32m   1112\u001b[0m         \u001b[0;32mreturn\u001b[0m \u001b[0mdata\u001b[0m\u001b[0;34m\u001b[0m\u001b[0;34m\u001b[0m\u001b[0m\n\u001b[1;32m   1113\u001b[0m \u001b[0;34m\u001b[0m\u001b[0m\n",
      "\u001b[0;32m/opt/conda/lib/python3.8/site-packages/torch/_utils.py\u001b[0m in \u001b[0;36mreraise\u001b[0;34m(self)\u001b[0m\n\u001b[1;32m    426\u001b[0m             \u001b[0;31m# have message field\u001b[0m\u001b[0;34m\u001b[0m\u001b[0;34m\u001b[0m\u001b[0;34m\u001b[0m\u001b[0m\n\u001b[1;32m    427\u001b[0m             \u001b[0;32mraise\u001b[0m \u001b[0mself\u001b[0m\u001b[0;34m.\u001b[0m\u001b[0mexc_type\u001b[0m\u001b[0;34m(\u001b[0m\u001b[0mmessage\u001b[0m\u001b[0;34m=\u001b[0m\u001b[0mmsg\u001b[0m\u001b[0;34m)\u001b[0m\u001b[0;34m\u001b[0m\u001b[0;34m\u001b[0m\u001b[0m\n\u001b[0;32m--> 428\u001b[0;31m         \u001b[0;32mraise\u001b[0m \u001b[0mself\u001b[0m\u001b[0;34m.\u001b[0m\u001b[0mexc_type\u001b[0m\u001b[0;34m(\u001b[0m\u001b[0mmsg\u001b[0m\u001b[0;34m)\u001b[0m\u001b[0;34m\u001b[0m\u001b[0;34m\u001b[0m\u001b[0m\n\u001b[0m\u001b[1;32m    429\u001b[0m \u001b[0;34m\u001b[0m\u001b[0m\n\u001b[1;32m    430\u001b[0m \u001b[0;34m\u001b[0m\u001b[0m\n",
      "\u001b[0;31mKeyError\u001b[0m: Caught KeyError in DataLoader worker process 8.\nOriginal Traceback (most recent call last):\n  File \"/opt/conda/lib/python3.8/site-packages/torch/utils/data/_utils/worker.py\", line 198, in _worker_loop\n    data = fetcher.fetch(index)\n  File \"/opt/conda/lib/python3.8/site-packages/torch/utils/data/_utils/fetch.py\", line 44, in fetch\n    data = [self.dataset[idx] for idx in possibly_batched_index]\n  File \"/opt/conda/lib/python3.8/site-packages/torch/utils/data/_utils/fetch.py\", line 44, in <listcomp>\n    data = [self.dataset[idx] for idx in possibly_batched_index]\n  File \"/home/jovyan/Oceanography/python/ulmo/ulmo/utils/utils.py\", line 29, in __getitem__\n    data = self.h5f[self.partition][index]\n  File \"h5py/_objects.pyx\", line 54, in h5py._objects.with_phil.wrapper\n  File \"h5py/_objects.pyx\", line 55, in h5py._objects.with_phil.wrapper\n  File \"/opt/conda/lib/python3.8/site-packages/h5py/_hl/group.py\", line 264, in __getitem__\n    oid = h5o.open(self.id, self._e(name), lapl=self._lapl)\n  File \"h5py/_objects.pyx\", line 54, in h5py._objects.with_phil.wrapper\n  File \"h5py/_objects.pyx\", line 55, in h5py._objects.with_phil.wrapper\n  File \"h5py/h5o.pyx\", line 190, in h5py.h5o.open\nKeyError: 'Unable to open object (bad local heap signature)'\n"
     ]
    }
   ],
   "source": [
    "latents, LL = pae.compute_log_probs(dset)"
   ]
  },
  {
   "cell_type": "code",
   "execution_count": null,
   "metadata": {},
   "outputs": [],
   "source": []
  }
 ],
 "metadata": {
  "kernelspec": {
   "display_name": "Python 3",
   "language": "python",
   "name": "python3"
  },
  "language_info": {
   "codemirror_mode": {
    "name": "ipython",
    "version": 3
   },
   "file_extension": ".py",
   "mimetype": "text/x-python",
   "name": "python",
   "nbconvert_exporter": "python",
   "pygments_lexer": "ipython3",
   "version": "3.8.8"
  }
 },
 "nbformat": 4,
 "nbformat_minor": 4
}
