{
 "cells": [
  {
   "cell_type": "markdown",
   "metadata": {},
   "source": [
    "# Latents explore (MODIS L2)"
   ]
  },
  {
   "cell_type": "code",
   "execution_count": 48,
   "metadata": {},
   "outputs": [],
   "source": [
    "# imports\n",
    "from importlib import reload\n",
    "import os\n",
    "import numpy as np\n",
    "\n",
    "import pandas\n",
    "\n",
    "import h5py\n",
    "import seaborn as sns\n",
    "\n",
    "from ulmo.analysis import io as analy_io\n",
    "from ulmo.utils import image_utils\n",
    "from ulmo import plotting\n",
    "from ulmo import io as ulmo_io"
   ]
  },
  {
   "cell_type": "code",
   "execution_count": 30,
   "metadata": {},
   "outputs": [
    {
     "data": {
      "text/plain": [
       "<module 'ulmo.utils.image_utils' from '/tank/xavier/Oceanography/Python/ulmo/ulmo/utils/image_utils.py'>"
      ]
     },
     "execution_count": 30,
     "metadata": {},
     "output_type": "execute_result"
    }
   ],
   "source": [
    "reload(image_utils)"
   ]
  },
  {
   "cell_type": "markdown",
   "metadata": {},
   "source": [
    "# Play with a low LL and $\\Delta T \\sim 2$K"
   ]
  },
  {
   "cell_type": "code",
   "execution_count": 12,
   "metadata": {},
   "outputs": [
    {
     "name": "stdout",
     "output_type": "stream",
     "text": [
      "Loading: /data/Projects/Oceanography/AI/OOD/SST/MODIS_L2/Evaluations/R2010_results_std.feather\n"
     ]
    }
   ],
   "source": [
    "# Load evaluations\n",
    "evals_tbl = analy_io.load_modis_l2_ll('std', feather=True)"
   ]
  },
  {
   "cell_type": "code",
   "execution_count": 16,
   "metadata": {},
   "outputs": [],
   "source": [
    "# Add in DT\n",
    "if 'DT' not in evals_tbl.keys():\n",
    "    evals_tbl['DT'] = evals_tbl.T90 - evals_tbl.T10"
   ]
  },
  {
   "cell_type": "code",
   "execution_count": 17,
   "metadata": {},
   "outputs": [],
   "source": [
    "in_brazil = ((np.abs(evals_tbl.longitude.values + 57.5) < 10.)  & \n",
    "    (np.abs(evals_tbl.latitude.values + 43.0) < 10))\n",
    "in_DT = np.abs(evals_tbl.DT - 2.05) < 0.05\n",
    "evals_bz = evals_tbl[in_brazil & in_DT].copy()"
   ]
  },
  {
   "cell_type": "code",
   "execution_count": 18,
   "metadata": {},
   "outputs": [],
   "source": [
    "logL = evals_bz.log_likelihood.values\n",
    "\n",
    "lowLL_val = np.percentile(logL, 10.)\n",
    "hiLL_val = np.percentile(logL, 90.)"
   ]
  },
  {
   "cell_type": "code",
   "execution_count": 26,
   "metadata": {},
   "outputs": [
    {
     "data": {
      "text/plain": [
       "index                                             747500\n",
       "filename            AQUA_MODIS.20190105T045000.L2.SST.nc\n",
       "row                                                   16\n",
       "column                                               645\n",
       "latitude                                        -38.4587\n",
       "longitude                                       -54.8156\n",
       "clear_fraction                                0.00604248\n",
       "mean_temperature                                 18.2167\n",
       "Tmin                                               16.37\n",
       "Tmax                                              21.285\n",
       "T90                                               19.235\n",
       "T10                                               17.205\n",
       "log_likelihood                                  -254.305\n",
       "date                                 2019-01-05 04:50:00\n",
       "UID                                   154651541312518435\n",
       "DT                                                  2.03\n",
       "Name: 12353860, dtype: object"
      ]
     },
     "execution_count": 26,
     "metadata": {},
     "output_type": "execute_result"
    }
   ],
   "source": [
    "low = evals_bz.log_likelihood < lowLL_val\n",
    "high = evals_bz.log_likelihood > hiLL_val\n",
    "\n",
    "example = evals_bz[low].iloc[-1]\n",
    "example"
   ]
  },
  {
   "cell_type": "markdown",
   "metadata": {},
   "source": [
    "## Show"
   ]
  },
  {
   "cell_type": "code",
   "execution_count": 31,
   "metadata": {},
   "outputs": [],
   "source": [
    "field, mask = image_utils.grab_modis_l2_img(example, 'PreProc', ptype='std')"
   ]
  },
  {
   "cell_type": "code",
   "execution_count": 35,
   "metadata": {},
   "outputs": [
    {
     "data": {
      "text/plain": [
       "<AxesSubplot:>"
      ]
     },
     "execution_count": 35,
     "metadata": {},
     "output_type": "execute_result"
    },
    {
     "data": {
      "image/png": "[encoded data removed]",
      "text/plain": [
       "<Figure size 432x288 with 1 Axes>"
      ]
     },
     "metadata": {},
     "output_type": "display_data"
    }
   ],
   "source": [
    "pal, cm = plotting.load_palette()\n",
    "sns.heatmap(field[0], xticklabels=[], yticklabels=[], cmap=cm,\n",
    "             cbar=False)"
   ]
  },
  {
   "cell_type": "markdown",
   "metadata": {},
   "source": [
    "# Load up 2019"
   ]
  },
  {
   "cell_type": "code",
   "execution_count": 45,
   "metadata": {},
   "outputs": [],
   "source": [
    "pp_file = os.path.join(os.getenv('SST_OOD'), 'MODIS_L2', \n",
    "                     'PreProc', \n",
    "                     'MODIS_R2019_2019_95clear_128x128_preproc_std.h5')\n",
    "lat_file = os.path.join(os.getenv('SST_OOD'), 'MODIS_L2', \n",
    "                     'Evaluations', \n",
    "                     'R2010_on_2019_95clear_128x128_preproc_std_latents.h5')\n",
    "LL_file = os.path.join(os.getenv('SST_OOD'), 'MODIS_L2', \n",
    "                     'Evaluations', \n",
    "                     'R2010_on_2019_95clear_128x128_preproc_std_log_prob.h5')"
   ]
  },
  {
   "cell_type": "code",
   "execution_count": 39,
   "metadata": {},
   "outputs": [
    {
     "data": {
      "text/plain": [
       "(751689, 512)"
      ]
     },
     "execution_count": 39,
     "metadata": {},
     "output_type": "execute_result"
    }
   ],
   "source": [
    "l_h5 = h5py.File(lat_file, 'r')\n",
    "latents = l_h5['latents']\n",
    "latents.shape"
   ]
  },
  {
   "cell_type": "code",
   "execution_count": 40,
   "metadata": {},
   "outputs": [
    {
     "data": {
      "text/plain": [
       "<KeysViewHDF5 ['valid']>"
      ]
     },
     "execution_count": 40,
     "metadata": {},
     "output_type": "execute_result"
    }
   ],
   "source": [
    "LL_h5 = h5py.File(LL_file, 'r')\n",
    "LL_h5.keys()"
   ]
  },
  {
   "cell_type": "code",
   "execution_count": 52,
   "metadata": {},
   "outputs": [],
   "source": [
    "key = 'valid_metadata'\n",
    "f1 = open(pp_file, 'rb')\n",
    "with h5py.File(f1, 'r') as f:\n",
    "    if key in f.keys():\n",
    "        meta = f[key]\n",
    "        df = pandas.DataFrame(meta[:].astype(np.unicode_), columns=meta.attrs['columns'])\n",
    "    else:\n",
    "        df = pandas.DataFrame()"
   ]
  },
  {
   "cell_type": "code",
   "execution_count": 53,
   "metadata": {},
   "outputs": [
    {
     "data": {
      "text/html": [
       "<div>\n",
       "<style scoped>\n",
       "    .dataframe tbody tr th:only-of-type {\n",
       "        vertical-align: middle;\n",
       "    }\n",
       "\n",
       "    .dataframe tbody tr th {\n",
       "        vertical-align: top;\n",
       "    }\n",
       "\n",
       "    .dataframe thead th {\n",
       "        text-align: right;\n",
       "    }\n",
       "</style>\n",
       "<table border=\"1\" class=\"dataframe\">\n",
       "  <thead>\n",
       "    <tr style=\"text-align: right;\">\n",
       "      <th></th>\n",
       "      <th>filename</th>\n",
       "      <th>row</th>\n",
       "      <th>column</th>\n",
       "      <th>latitude</th>\n",
       "      <th>longitude</th>\n",
       "      <th>clear_fraction</th>\n",
       "      <th>mean_temperature</th>\n",
       "      <th>Tmin</th>\n",
       "      <th>Tmax</th>\n",
       "      <th>T90</th>\n",
       "      <th>T10</th>\n",
       "    </tr>\n",
       "  </thead>\n",
       "  <tbody>\n",
       "    <tr>\n",
       "      <th>0</th>\n",
       "      <td>AQUA_MODIS.20190207T021000.L2.SST.nc</td>\n",
       "      <td>1232</td>\n",
       "      <td>837</td>\n",
       "      <td>-29.294142</td>\n",
       "      <td>-11.516745</td>\n",
       "      <td>0.0494384765625</td>\n",
       "      <td>25.6845760345459</td>\n",
       "      <td>22.46500015258789</td>\n",
       "      <td>26.674999237060547</td>\n",
       "      <td>26.084999084472656</td>\n",
       "      <td>25.229999542236328</td>\n",
       "    </tr>\n",
       "    <tr>\n",
       "      <th>1</th>\n",
       "      <td>AQUA_MODIS.20190421T000500.L2.SST.nc</td>\n",
       "      <td>1409</td>\n",
       "      <td>550</td>\n",
       "      <td>42.55745</td>\n",
       "      <td>28.580969</td>\n",
       "      <td>0.04864501953125</td>\n",
       "      <td>9.969158172607422</td>\n",
       "      <td>9.4399995803833</td>\n",
       "      <td>10.744999885559082</td>\n",
       "      <td>10.175000190734863</td>\n",
       "      <td>9.769999504089355</td>\n",
       "    </tr>\n",
       "    <tr>\n",
       "      <th>2</th>\n",
       "      <td>AQUA_MODIS.20190713T234501.L2.SST.nc</td>\n",
       "      <td>208</td>\n",
       "      <td>229</td>\n",
       "      <td>34.97093</td>\n",
       "      <td>28.369764</td>\n",
       "      <td>0.0</td>\n",
       "      <td>24.64632797241211</td>\n",
       "      <td>22.18000030517578</td>\n",
       "      <td>25.98499870300293</td>\n",
       "      <td>25.39499855041504</td>\n",
       "      <td>23.475000381469727</td>\n",
       "    </tr>\n",
       "    <tr>\n",
       "      <th>3</th>\n",
       "      <td>AQUA_MODIS.20190208T205001.L2.SST.nc</td>\n",
       "      <td>208</td>\n",
       "      <td>357</td>\n",
       "      <td>20.297197</td>\n",
       "      <td>71.70419</td>\n",
       "      <td>0.04132080078125</td>\n",
       "      <td>21.573326110839844</td>\n",
       "      <td>18.979999542236328</td>\n",
       "      <td>24.14499855041504</td>\n",
       "      <td>23.28999900817871</td>\n",
       "      <td>20.079999923706055</td>\n",
       "    </tr>\n",
       "    <tr>\n",
       "      <th>4</th>\n",
       "      <td>AQUA_MODIS.20190707T161001.L2.SST.nc</td>\n",
       "      <td>773</td>\n",
       "      <td>747</td>\n",
       "      <td>20.832533</td>\n",
       "      <td>145.3258</td>\n",
       "      <td>0.04986572265625</td>\n",
       "      <td>30.616931915283203</td>\n",
       "      <td>27.974998474121094</td>\n",
       "      <td>32.02000045776367</td>\n",
       "      <td>30.94999885559082</td>\n",
       "      <td>30.264999389648438</td>\n",
       "    </tr>\n",
       "  </tbody>\n",
       "</table>\n",
       "</div>"
      ],
      "text/plain": [
       "                               filename   row column    latitude   longitude  \\\n",
       "0  AQUA_MODIS.20190207T021000.L2.SST.nc  1232    837  -29.294142  -11.516745   \n",
       "1  AQUA_MODIS.20190421T000500.L2.SST.nc  1409    550    42.55745   28.580969   \n",
       "2  AQUA_MODIS.20190713T234501.L2.SST.nc   208    229    34.97093   28.369764   \n",
       "3  AQUA_MODIS.20190208T205001.L2.SST.nc   208    357   20.297197    71.70419   \n",
       "4  AQUA_MODIS.20190707T161001.L2.SST.nc   773    747   20.832533    145.3258   \n",
       "\n",
       "     clear_fraction    mean_temperature                Tmin  \\\n",
       "0   0.0494384765625    25.6845760345459   22.46500015258789   \n",
       "1  0.04864501953125   9.969158172607422     9.4399995803833   \n",
       "2               0.0   24.64632797241211   22.18000030517578   \n",
       "3  0.04132080078125  21.573326110839844  18.979999542236328   \n",
       "4  0.04986572265625  30.616931915283203  27.974998474121094   \n",
       "\n",
       "                 Tmax                 T90                 T10  \n",
       "0  26.674999237060547  26.084999084472656  25.229999542236328  \n",
       "1  10.744999885559082  10.175000190734863   9.769999504089355  \n",
       "2   25.98499870300293   25.39499855041504  23.475000381469727  \n",
       "3   24.14499855041504   23.28999900817871  20.079999923706055  \n",
       "4   32.02000045776367   30.94999885559082  30.264999389648438  "
      ]
     },
     "execution_count": 53,
     "metadata": {},
     "output_type": "execute_result"
    }
   ],
   "source": [
    "df.head()"
   ]
  },
  {
   "cell_type": "code",
   "execution_count": 56,
   "metadata": {},
   "outputs": [],
   "source": [
    "df['row'] = df.row.astype(int)\n",
    "df['column'] = df.column.astype(int)"
   ]
  },
  {
   "cell_type": "markdown",
   "metadata": {},
   "source": [
    "# Find the example"
   ]
  },
  {
   "cell_type": "code",
   "execution_count": 60,
   "metadata": {},
   "outputs": [
    {
     "data": {
      "text/plain": [
       "747500"
      ]
     },
     "execution_count": 60,
     "metadata": {},
     "output_type": "execute_result"
    }
   ],
   "source": [
    "idx_exmple = np.where((df.filename == example.filename) & \n",
    "                      (df.row == example.row) & (df.column == example.column))[0][0]\n",
    "idx_exmple"
   ]
  },
  {
   "cell_type": "code",
   "execution_count": 61,
   "metadata": {},
   "outputs": [
    {
     "data": {
      "text/plain": [
       "filename            AQUA_MODIS.20190105T045000.L2.SST.nc\n",
       "row                                                   16\n",
       "column                                               645\n",
       "latitude                                      -38.458702\n",
       "longitude                                     -54.815647\n",
       "clear_fraction                          0.00604248046875\n",
       "mean_temperature                      18.216663360595703\n",
       "Tmin                                  16.369998931884766\n",
       "Tmax                                   21.28499984741211\n",
       "T90                                    19.23499870300293\n",
       "T10                                   17.204999923706055\n",
       "Name: 747500, dtype: object"
      ]
     },
     "execution_count": 61,
     "metadata": {},
     "output_type": "execute_result"
    }
   ],
   "source": [
    "df.iloc[idx_exmple]"
   ]
  },
  {
   "cell_type": "markdown",
   "metadata": {},
   "source": [
    "# Pull the latent"
   ]
  },
  {
   "cell_type": "code",
   "execution_count": 62,
   "metadata": {},
   "outputs": [],
   "source": [
    "ilatent = latents[idx_exmple, :]"
   ]
  },
  {
   "cell_type": "code",
   "execution_count": 64,
   "metadata": {},
   "outputs": [
    {
     "data": {
      "text/plain": [
       "(512,)"
      ]
     },
     "execution_count": 64,
     "metadata": {},
     "output_type": "execute_result"
    }
   ],
   "source": [
    "ilatent.shape"
   ]
  },
  {
   "cell_type": "markdown",
   "metadata": {},
   "source": [
    "# Normalize the latents"
   ]
  },
  {
   "cell_type": "code",
   "execution_count": 78,
   "metadata": {},
   "outputs": [
    {
     "data": {
      "text/plain": [
       "(751689,)"
      ]
     },
     "execution_count": 78,
     "metadata": {},
     "output_type": "execute_result"
    }
   ],
   "source": [
    "norm_latent = np.linalg.norm(latents[:].astype(float), axis=1)\n",
    "norm_latent.shape"
   ]
  },
  {
   "cell_type": "code",
   "execution_count": 82,
   "metadata": {},
   "outputs": [
    {
     "data": {
      "text/plain": [
       "(751689, 512)"
      ]
     },
     "execution_count": 82,
     "metadata": {},
     "output_type": "execute_result"
    }
   ],
   "source": [
    "norm_latents = latents / np.outer(norm_latent, np.ones(512))\n",
    "norm_latents.shape"
   ]
  },
  {
   "cell_type": "markdown",
   "metadata": {},
   "source": [
    "# Dot with the full set"
   ]
  },
  {
   "cell_type": "code",
   "execution_count": 89,
   "metadata": {},
   "outputs": [
    {
     "data": {
      "text/plain": [
       "(751689,)"
      ]
     },
     "execution_count": 89,
     "metadata": {},
     "output_type": "execute_result"
    }
   ],
   "source": [
    "dots = np.dot(norm_latents, norm_latents[idx_exmple, :])\n",
    "dots.shape"
   ]
  },
  {
   "cell_type": "code",
   "execution_count": 91,
   "metadata": {},
   "outputs": [
    {
     "data": {
      "text/plain": [
       "<AxesSubplot:ylabel='Count'>"
      ]
     },
     "execution_count": 91,
     "metadata": {},
     "output_type": "execute_result"
    },
    {
     "data": {
      "image/png": "[encoded data removed]",
      "text/plain": [
       "<Figure size 432x288 with 1 Axes>"
      ]
     },
     "metadata": {
      "needs_background": "light"
     },
     "output_type": "display_data"
    }
   ],
   "source": [
    "sns.histplot(dots)"
   ]
  },
  {
   "cell_type": "code",
   "execution_count": 93,
   "metadata": {},
   "outputs": [],
   "source": [
    "isrt = np.argsort(dots)"
   ]
  },
  {
   "cell_type": "code",
   "execution_count": 94,
   "metadata": {},
   "outputs": [
    {
     "data": {
      "text/plain": [
       "array([0.42133935, 0.42133935, 0.42189291, 0.42447618, 0.42447618,\n",
       "       0.43294409, 0.43394279, 0.43436913, 0.44680693, 1.        ])"
      ]
     },
     "execution_count": 94,
     "metadata": {},
     "output_type": "execute_result"
    }
   ],
   "source": [
    "dots[isrt][-10:]"
   ]
  },
  {
   "cell_type": "code",
   "execution_count": 95,
   "metadata": {},
   "outputs": [
    {
     "data": {
      "text/plain": [
       "717277"
      ]
     },
     "execution_count": 95,
     "metadata": {},
     "output_type": "execute_result"
    }
   ],
   "source": [
    "isrt[-10]"
   ]
  },
  {
   "cell_type": "code",
   "execution_count": 99,
   "metadata": {},
   "outputs": [
    {
     "data": {
      "text/plain": [
       "filename            AQUA_MODIS.20190203T203000.L2.SST.nc\n",
       "row                                                 1840\n",
       "column                                               293\n",
       "latitude                                       11.060091\n",
       "longitude                                       73.65058\n",
       "clear_fraction                                  0.015625\n",
       "mean_temperature                      28.535503387451172\n",
       "Tmin                                   27.19999885559082\n",
       "Tmax                                  29.349998474121094\n",
       "T90                                   28.889999389648438\n",
       "T10                                    28.14499855041504\n",
       "Name: 717277, dtype: object"
      ]
     },
     "execution_count": 99,
     "metadata": {},
     "output_type": "execute_result"
    }
   ],
   "source": [
    "df2 = df.iloc[isrt[-10]]\n",
    "df2"
   ]
  },
  {
   "cell_type": "code",
   "execution_count": 97,
   "metadata": {},
   "outputs": [
    {
     "data": {
      "text/plain": [
       "751689"
      ]
     },
     "execution_count": 97,
     "metadata": {},
     "output_type": "execute_result"
    }
   ],
   "source": [
    "len(df)"
   ]
  },
  {
   "cell_type": "code",
   "execution_count": 100,
   "metadata": {},
   "outputs": [
    {
     "data": {
      "text/plain": [
       "12323637"
      ]
     },
     "execution_count": 100,
     "metadata": {},
     "output_type": "execute_result"
    }
   ],
   "source": [
    "i_ex2 = np.where((evals_tbl.filename == df2.filename) & \n",
    "            (evals_tbl.row == df2.row) & \n",
    "                 (evals_tbl.column == df2.column))[0][0]\n",
    "i_ex2"
   ]
  },
  {
   "cell_type": "code",
   "execution_count": 101,
   "metadata": {},
   "outputs": [
    {
     "data": {
      "text/plain": [
       "index                                             717277\n",
       "filename            AQUA_MODIS.20190203T203000.L2.SST.nc\n",
       "row                                                 1840\n",
       "column                                               293\n",
       "latitude                                         11.0601\n",
       "longitude                                        73.6506\n",
       "clear_fraction                                  0.015625\n",
       "mean_temperature                                 28.5355\n",
       "Tmin                                                27.2\n",
       "Tmax                                               29.35\n",
       "T90                                                28.89\n",
       "T10                                               28.145\n",
       "log_likelihood                                   414.626\n",
       "date                                 2019-02-03 20:30:00\n",
       "UID                                  1549101060125365058\n",
       "DT                                              0.745001\n",
       "Name: 12323637, dtype: object"
      ]
     },
     "execution_count": 101,
     "metadata": {},
     "output_type": "execute_result"
    }
   ],
   "source": [
    "example2 = evals_tbl.iloc[i_ex2]\n",
    "example2"
   ]
  },
  {
   "cell_type": "code",
   "execution_count": 102,
   "metadata": {},
   "outputs": [],
   "source": [
    "field2,_ = image_utils.grab_modis_l2_img(example2, 'PreProc', ptype='std')"
   ]
  },
  {
   "cell_type": "code",
   "execution_count": 104,
   "metadata": {},
   "outputs": [
    {
     "data": {
      "image/png": "[encoded data removed]",
      "text/plain": [
       "<Figure size 432x288 with 1 Axes>"
      ]
     },
     "metadata": {},
     "output_type": "display_data"
    }
   ],
   "source": [
    "#pal, cm = plotting.load_palette()\n",
    "_ = sns.heatmap(field2[0], xticklabels=[], yticklabels=[], cmap=cm,\n",
    "             cbar=False)"
   ]
  },
  {
   "cell_type": "markdown",
   "metadata": {},
   "source": [
    "# How about another low LL near Brazil?"
   ]
  },
  {
   "cell_type": "code",
   "execution_count": 111,
   "metadata": {},
   "outputs": [
    {
     "data": {
      "image/png": "[encoded data removed]",
      "text/plain": [
       "<Figure size 432x288 with 1 Axes>"
      ]
     },
     "metadata": {},
     "output_type": "display_data"
    }
   ],
   "source": [
    "_ = sns.heatmap(field[0], xticklabels=[], yticklabels=[], cmap=cm,\n",
    "             cbar=False)"
   ]
  },
  {
   "cell_type": "code",
   "execution_count": 118,
   "metadata": {},
   "outputs": [
    {
     "data": {
      "text/plain": [
       "index                                             687400\n",
       "filename            AQUA_MODIS.20190801T045001.L2.SST.nc\n",
       "row                                                  496\n",
       "column                                               645\n",
       "latitude                                        -43.1935\n",
       "longitude                                       -56.2932\n",
       "clear_fraction                                 0.0394897\n",
       "mean_temperature                                 7.42656\n",
       "Tmin                                               5.325\n",
       "Tmax                                               10.78\n",
       "T90                                                7.895\n",
       "T10                                                5.895\n",
       "log_likelihood                                  -880.574\n",
       "date                                 2019-08-01 04:50:00\n",
       "UID                                   156446806512370676\n",
       "DT                                                     2\n",
       "Name: 12293760, dtype: object"
      ]
     },
     "execution_count": 118,
     "metadata": {},
     "output_type": "execute_result"
    }
   ],
   "source": [
    "example3 = evals_bz[low].iloc[-10]\n",
    "example3"
   ]
  },
  {
   "cell_type": "code",
   "execution_count": 119,
   "metadata": {},
   "outputs": [],
   "source": [
    "field3, _ = image_utils.grab_modis_l2_img(example3, 'PreProc', ptype='std')"
   ]
  },
  {
   "cell_type": "code",
   "execution_count": 120,
   "metadata": {},
   "outputs": [
    {
     "data": {
      "image/png": "[encoded data removed]",
      "text/plain": [
       "<Figure size 432x288 with 1 Axes>"
      ]
     },
     "metadata": {},
     "output_type": "display_data"
    }
   ],
   "source": [
    "#pal, cm = plotting.load_palette()\n",
    "_ = sns.heatmap(field3[0], xticklabels=[], yticklabels=[], cmap=cm,\n",
    "             cbar=False)"
   ]
  },
  {
   "cell_type": "markdown",
   "metadata": {},
   "source": [
    "## Grab the latent"
   ]
  },
  {
   "cell_type": "code",
   "execution_count": 121,
   "metadata": {},
   "outputs": [
    {
     "data": {
      "text/plain": [
       "687400"
      ]
     },
     "execution_count": 121,
     "metadata": {},
     "output_type": "execute_result"
    }
   ],
   "source": [
    "idx_exmple3 = np.where((df.filename == example3.filename) & \n",
    "                      (df.row == example3.row) & (df.column == example3.column))[0][0]\n",
    "idx_exmple3"
   ]
  },
  {
   "cell_type": "code",
   "execution_count": 122,
   "metadata": {},
   "outputs": [
    {
     "data": {
      "text/plain": [
       "(1.0, -0.08123478283088179)"
      ]
     },
     "execution_count": 122,
     "metadata": {},
     "output_type": "execute_result"
    }
   ],
   "source": [
    "dots[idx_exmple], dots[idx_exmple3]"
   ]
  },
  {
   "cell_type": "code",
   "execution_count": null,
   "metadata": {},
   "outputs": [],
   "source": []
  }
 ],
 "metadata": {
  "kernelspec": {
   "display_name": "Python 3",
   "language": "python",
   "name": "python3"
  },
  "language_info": {
   "codemirror_mode": {
    "name": "ipython",
    "version": 3
   },
   "file_extension": ".py",
   "mimetype": "text/x-python",
   "name": "python",
   "nbconvert_exporter": "python",
   "pygments_lexer": "ipython3",
   "version": "3.7.8"
  }
 },
 "nbformat": 4,
 "nbformat_minor": 4
}
