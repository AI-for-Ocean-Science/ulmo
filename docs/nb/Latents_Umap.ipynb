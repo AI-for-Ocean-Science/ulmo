{
 "cells": [
  {
   "cell_type": "markdown",
   "metadata": {
    "pycharm": {
     "name": "#%% md\n"
    }
   },
   "source": [
    "# The Exploration of Latents of MODIS L2 by Umap"
   ]
  },
  {
   "cell_type": "code",
   "execution_count": 1,
   "metadata": {},
   "outputs": [],
   "source": [
    "### used to set the interpreter searching path\n",
    "import sys\n",
    "target_path = '/home/jovyan/ulmo/'\n",
    "sys.path.append(target_path)"
   ]
  },
  {
   "cell_type": "code",
   "execution_count": 27,
   "metadata": {
    "collapsed": false,
    "jupyter": {
     "outputs_hidden": false
    },
    "pycharm": {
     "name": "#%%\n"
    }
   },
   "outputs": [],
   "source": [
    "%matplotlib inline\n",
    "\n",
    "from importlib import reload\n",
    "import os\n",
    "import numpy as np\n",
    "\n",
    "import pandas\n",
    "\n",
    "import h5py\n",
    "import seaborn as sns\n",
    "import pandas as pd\n",
    "import umap\n",
    "\n",
    "from ulmo.analysis import io as analy_io\n",
    "from ulmo.utils import image_utils\n",
    "from ulmo import plotting\n",
    "from ulmo import io as ulmo_io\n",
    "from sklearn.manifold import TSNE\n",
    "from sklearn.preprocessing import StandardScaler\n",
    "from sklearn.decomposition import PCA\n",
    "from sklearn.cluster import KMeans\n",
    "\n",
    "from matplotlib import pyplot as plt\n",
    "from tqdm import trange"
   ]
  },
  {
   "cell_type": "code",
   "execution_count": 3,
   "metadata": {
    "collapsed": false,
    "jupyter": {
     "outputs_hidden": false
    },
    "pycharm": {
     "name": "#%%\n"
    }
   },
   "outputs": [
    {
     "data": {
      "text/plain": [
       "<module 'ulmo.utils.image_utils' from '/home/jovyan/ulmo/ulmo/utils/image_utils.py'>"
      ]
     },
     "execution_count": 3,
     "metadata": {},
     "output_type": "execute_result"
    }
   ],
   "source": [
    "reload(image_utils)"
   ]
  },
  {
   "cell_type": "code",
   "execution_count": 4,
   "metadata": {
    "collapsed": false,
    "jupyter": {
     "outputs_hidden": false
    },
    "pycharm": {
     "name": "#%%\n"
    }
   },
   "outputs": [
    {
     "name": "stdout",
     "output_type": "stream",
     "text": [
      "Read main table: /home/jovyan/modis_dataset/MODIS_L2_std.feather\n"
     ]
    }
   ],
   "source": [
    "### Load the table\n",
    "evals_path = '/home/jovyan/modis_dataset/MODIS_L2_std.feather'\n",
    "evals_tbl = ulmo_io.load_main_table(evals_path)"
   ]
  },
  {
   "cell_type": "code",
   "execution_count": 5,
   "metadata": {
    "collapsed": false,
    "jupyter": {
     "outputs_hidden": false
    },
    "pycharm": {
     "name": "#%%\n"
    }
   },
   "outputs": [
    {
     "name": "stdout",
     "output_type": "stream",
     "text": [
      "lat                      0\n",
      "lon                      0\n",
      "col                      0\n",
      "datetime                 0\n",
      "LL                  135712\n",
      "row                      0\n",
      "clear_fraction           0\n",
      "mean_temperature         0\n",
      "Tmin                     0\n",
      "Tmax                     0\n",
      "T90                      0\n",
      "T10                      0\n",
      "filename                 0\n",
      "UID                      0\n",
      "pp_file                  0\n",
      "pp_root                  0\n",
      "field_size               0\n",
      "pp_type                  0\n",
      "pp_idx                   0\n",
      "dtype: int64\n"
     ]
    }
   ],
   "source": [
    "### Check if there exist any 'NaN' values\n",
    "print(evals_tbl.isna().sum())"
   ]
  },
  {
   "cell_type": "code",
   "execution_count": 6,
   "metadata": {
    "collapsed": false,
    "jupyter": {
     "outputs_hidden": false
    },
    "pycharm": {
     "name": "#%%\n"
    }
   },
   "outputs": [
    {
     "name": "stdout",
     "output_type": "stream",
     "text": [
      "lat                 0\n",
      "lon                 0\n",
      "col                 0\n",
      "datetime            0\n",
      "LL                  0\n",
      "row                 0\n",
      "clear_fraction      0\n",
      "mean_temperature    0\n",
      "Tmin                0\n",
      "Tmax                0\n",
      "T90                 0\n",
      "T10                 0\n",
      "filename            0\n",
      "UID                 0\n",
      "pp_file             0\n",
      "pp_root             0\n",
      "field_size          0\n",
      "pp_type             0\n",
      "pp_idx              0\n",
      "dtype: int64\n"
     ]
    }
   ],
   "source": [
    "### Quick try: drop the 'NaN' points\n",
    "evals_tbl_drop = evals_tbl.dropna()\n",
    "print(evals_tbl_drop.isna().sum())"
   ]
  },
  {
   "cell_type": "code",
   "execution_count": 7,
   "metadata": {
    "collapsed": false,
    "jupyter": {
     "outputs_hidden": false
    },
    "pycharm": {
     "name": "#%%\n"
    }
   },
   "outputs": [],
   "source": [
    "### Show the example\n",
    "# field, mask = image_utils.grab_modis_l2_img(example, 'PreProc', ptype='std')"
   ]
  },
  {
   "cell_type": "code",
   "execution_count": 8,
   "metadata": {
    "collapsed": false,
    "jupyter": {
     "outputs_hidden": false
    },
    "pycharm": {
     "name": "#%%\n"
    }
   },
   "outputs": [
    {
     "data": {
      "text/plain": [
       "(751689, 512)"
      ]
     },
     "execution_count": 8,
     "metadata": {},
     "output_type": "execute_result"
    }
   ],
   "source": [
    "### Load the latents file\n",
    "lat_file = '/home/jovyan/modis_dataset/' \\\n",
    "           'MODIS_R2019_2019_95clear_128x128_latents_std.h5'\n",
    "\n",
    "l_h5 = h5py.File(lat_file, 'r')\n",
    "latents = l_h5['latents']\n",
    "latents.shape"
   ]
  },
  {
   "cell_type": "code",
   "execution_count": 9,
   "metadata": {
    "collapsed": false,
    "jupyter": {
     "outputs_hidden": false
    },
    "pycharm": {
     "name": "#%%\n"
    }
   },
   "outputs": [
    {
     "name": "stdout",
     "output_type": "stream",
     "text": [
      "<class 'pandas.core.frame.DataFrame'>\n",
      "RangeIndex: 751689 entries, 0 to 751688\n",
      "Columns: 400 entries, 0 to 399\n",
      "dtypes: float32(400)\n",
      "memory usage: 1.1 GB\n"
     ]
    }
   ],
   "source": [
    "### Show the statistics of several features of the latents\n",
    "latents_part_df = pd.DataFrame(latents[:, :400])\n",
    "latents_part_df.info()"
   ]
  },
  {
   "cell_type": "code",
   "execution_count": 10,
   "metadata": {
    "collapsed": false,
    "jupyter": {
     "outputs_hidden": false
    },
    "pycharm": {
     "name": "#%%\n"
    }
   },
   "outputs": [
    {
     "data": {
      "text/html": [
       "<div>\n",
       "<style scoped>\n",
       "    .dataframe tbody tr th:only-of-type {\n",
       "        vertical-align: middle;\n",
       "    }\n",
       "\n",
       "    .dataframe tbody tr th {\n",
       "        vertical-align: top;\n",
       "    }\n",
       "\n",
       "    .dataframe thead th {\n",
       "        text-align: right;\n",
       "    }\n",
       "</style>\n",
       "<table border=\"1\" class=\"dataframe\">\n",
       "  <thead>\n",
       "    <tr style=\"text-align: right;\">\n",
       "      <th></th>\n",
       "      <th>0</th>\n",
       "      <th>1</th>\n",
       "      <th>2</th>\n",
       "      <th>3</th>\n",
       "      <th>4</th>\n",
       "      <th>5</th>\n",
       "      <th>6</th>\n",
       "      <th>7</th>\n",
       "      <th>8</th>\n",
       "      <th>9</th>\n",
       "      <th>...</th>\n",
       "      <th>390</th>\n",
       "      <th>391</th>\n",
       "      <th>392</th>\n",
       "      <th>393</th>\n",
       "      <th>394</th>\n",
       "      <th>395</th>\n",
       "      <th>396</th>\n",
       "      <th>397</th>\n",
       "      <th>398</th>\n",
       "      <th>399</th>\n",
       "    </tr>\n",
       "  </thead>\n",
       "  <tbody>\n",
       "    <tr>\n",
       "      <th>count</th>\n",
       "      <td>751689.000000</td>\n",
       "      <td>751689.000000</td>\n",
       "      <td>751689.000000</td>\n",
       "      <td>751689.000000</td>\n",
       "      <td>751689.000000</td>\n",
       "      <td>751689.000000</td>\n",
       "      <td>751689.000000</td>\n",
       "      <td>751689.000000</td>\n",
       "      <td>751689.000000</td>\n",
       "      <td>751689.000000</td>\n",
       "      <td>...</td>\n",
       "      <td>751689.000000</td>\n",
       "      <td>751689.000000</td>\n",
       "      <td>751689.000000</td>\n",
       "      <td>751689.000000</td>\n",
       "      <td>751689.000000</td>\n",
       "      <td>751689.000000</td>\n",
       "      <td>751689.000000</td>\n",
       "      <td>751689.000000</td>\n",
       "      <td>751689.000000</td>\n",
       "      <td>751689.000000</td>\n",
       "    </tr>\n",
       "    <tr>\n",
       "      <th>mean</th>\n",
       "      <td>0.004975</td>\n",
       "      <td>0.001060</td>\n",
       "      <td>-0.001625</td>\n",
       "      <td>0.007018</td>\n",
       "      <td>0.010252</td>\n",
       "      <td>-0.004330</td>\n",
       "      <td>-0.001359</td>\n",
       "      <td>-0.000082</td>\n",
       "      <td>-0.005402</td>\n",
       "      <td>0.000272</td>\n",
       "      <td>...</td>\n",
       "      <td>0.004499</td>\n",
       "      <td>-0.007422</td>\n",
       "      <td>-0.002398</td>\n",
       "      <td>0.004064</td>\n",
       "      <td>0.010843</td>\n",
       "      <td>0.002954</td>\n",
       "      <td>0.004194</td>\n",
       "      <td>0.000145</td>\n",
       "      <td>-0.011412</td>\n",
       "      <td>-0.006052</td>\n",
       "    </tr>\n",
       "    <tr>\n",
       "      <th>std</th>\n",
       "      <td>0.973913</td>\n",
       "      <td>0.983361</td>\n",
       "      <td>0.973651</td>\n",
       "      <td>0.983246</td>\n",
       "      <td>0.985160</td>\n",
       "      <td>0.987386</td>\n",
       "      <td>0.978668</td>\n",
       "      <td>0.982144</td>\n",
       "      <td>0.981116</td>\n",
       "      <td>0.978854</td>\n",
       "      <td>...</td>\n",
       "      <td>0.976631</td>\n",
       "      <td>0.984997</td>\n",
       "      <td>0.980497</td>\n",
       "      <td>0.981389</td>\n",
       "      <td>0.973373</td>\n",
       "      <td>0.979601</td>\n",
       "      <td>0.992584</td>\n",
       "      <td>0.982193</td>\n",
       "      <td>0.985989</td>\n",
       "      <td>0.984063</td>\n",
       "    </tr>\n",
       "    <tr>\n",
       "      <th>min</th>\n",
       "      <td>-12.895608</td>\n",
       "      <td>-11.473268</td>\n",
       "      <td>-8.643445</td>\n",
       "      <td>-12.344545</td>\n",
       "      <td>-11.076551</td>\n",
       "      <td>-11.799313</td>\n",
       "      <td>-12.563170</td>\n",
       "      <td>-14.518270</td>\n",
       "      <td>-11.212376</td>\n",
       "      <td>-10.744902</td>\n",
       "      <td>...</td>\n",
       "      <td>-9.777671</td>\n",
       "      <td>-9.955516</td>\n",
       "      <td>-12.292439</td>\n",
       "      <td>-12.638578</td>\n",
       "      <td>-15.550569</td>\n",
       "      <td>-12.391028</td>\n",
       "      <td>-13.237496</td>\n",
       "      <td>-13.111054</td>\n",
       "      <td>-13.853485</td>\n",
       "      <td>-12.878211</td>\n",
       "    </tr>\n",
       "    <tr>\n",
       "      <th>25%</th>\n",
       "      <td>-0.488145</td>\n",
       "      <td>-0.524477</td>\n",
       "      <td>-0.541840</td>\n",
       "      <td>-0.476032</td>\n",
       "      <td>-0.495000</td>\n",
       "      <td>-0.493991</td>\n",
       "      <td>-0.497078</td>\n",
       "      <td>-0.496550</td>\n",
       "      <td>-0.538741</td>\n",
       "      <td>-0.501030</td>\n",
       "      <td>...</td>\n",
       "      <td>-0.521854</td>\n",
       "      <td>-0.498464</td>\n",
       "      <td>-0.507808</td>\n",
       "      <td>-0.481324</td>\n",
       "      <td>-0.453612</td>\n",
       "      <td>-0.520528</td>\n",
       "      <td>-0.493105</td>\n",
       "      <td>-0.500887</td>\n",
       "      <td>-0.429397</td>\n",
       "      <td>-0.507753</td>\n",
       "    </tr>\n",
       "    <tr>\n",
       "      <th>50%</th>\n",
       "      <td>0.033400</td>\n",
       "      <td>0.002166</td>\n",
       "      <td>-0.038763</td>\n",
       "      <td>0.018280</td>\n",
       "      <td>0.000002</td>\n",
       "      <td>0.008190</td>\n",
       "      <td>0.000602</td>\n",
       "      <td>0.008204</td>\n",
       "      <td>-0.013831</td>\n",
       "      <td>0.020663</td>\n",
       "      <td>...</td>\n",
       "      <td>-0.008118</td>\n",
       "      <td>-0.026581</td>\n",
       "      <td>0.026821</td>\n",
       "      <td>0.004810</td>\n",
       "      <td>0.077684</td>\n",
       "      <td>0.022664</td>\n",
       "      <td>0.007105</td>\n",
       "      <td>0.007249</td>\n",
       "      <td>0.047447</td>\n",
       "      <td>-0.005162</td>\n",
       "    </tr>\n",
       "    <tr>\n",
       "      <th>75%</th>\n",
       "      <td>0.539309</td>\n",
       "      <td>0.532241</td>\n",
       "      <td>0.486545</td>\n",
       "      <td>0.512602</td>\n",
       "      <td>0.503973</td>\n",
       "      <td>0.494812</td>\n",
       "      <td>0.495949</td>\n",
       "      <td>0.507855</td>\n",
       "      <td>0.518780</td>\n",
       "      <td>0.522501</td>\n",
       "      <td>...</td>\n",
       "      <td>0.518684</td>\n",
       "      <td>0.478979</td>\n",
       "      <td>0.540610</td>\n",
       "      <td>0.485096</td>\n",
       "      <td>0.558634</td>\n",
       "      <td>0.548474</td>\n",
       "      <td>0.506308</td>\n",
       "      <td>0.503110</td>\n",
       "      <td>0.472975</td>\n",
       "      <td>0.498321</td>\n",
       "    </tr>\n",
       "    <tr>\n",
       "      <th>max</th>\n",
       "      <td>9.434946</td>\n",
       "      <td>9.087834</td>\n",
       "      <td>13.096346</td>\n",
       "      <td>9.850948</td>\n",
       "      <td>10.632300</td>\n",
       "      <td>10.975488</td>\n",
       "      <td>11.278859</td>\n",
       "      <td>10.691287</td>\n",
       "      <td>10.463519</td>\n",
       "      <td>12.954918</td>\n",
       "      <td>...</td>\n",
       "      <td>12.420573</td>\n",
       "      <td>10.999012</td>\n",
       "      <td>11.334339</td>\n",
       "      <td>10.844025</td>\n",
       "      <td>7.939140</td>\n",
       "      <td>9.157885</td>\n",
       "      <td>11.574175</td>\n",
       "      <td>10.978301</td>\n",
       "      <td>11.022414</td>\n",
       "      <td>11.049067</td>\n",
       "    </tr>\n",
       "  </tbody>\n",
       "</table>\n",
       "<p>8 rows × 400 columns</p>\n",
       "</div>"
      ],
      "text/plain": [
       "                 0              1              2              3    \\\n",
       "count  751689.000000  751689.000000  751689.000000  751689.000000   \n",
       "mean        0.004975       0.001060      -0.001625       0.007018   \n",
       "std         0.973913       0.983361       0.973651       0.983246   \n",
       "min       -12.895608     -11.473268      -8.643445     -12.344545   \n",
       "25%        -0.488145      -0.524477      -0.541840      -0.476032   \n",
       "50%         0.033400       0.002166      -0.038763       0.018280   \n",
       "75%         0.539309       0.532241       0.486545       0.512602   \n",
       "max         9.434946       9.087834      13.096346       9.850948   \n",
       "\n",
       "                 4              5              6              7    \\\n",
       "count  751689.000000  751689.000000  751689.000000  751689.000000   \n",
       "mean        0.010252      -0.004330      -0.001359      -0.000082   \n",
       "std         0.985160       0.987386       0.978668       0.982144   \n",
       "min       -11.076551     -11.799313     -12.563170     -14.518270   \n",
       "25%        -0.495000      -0.493991      -0.497078      -0.496550   \n",
       "50%         0.000002       0.008190       0.000602       0.008204   \n",
       "75%         0.503973       0.494812       0.495949       0.507855   \n",
       "max        10.632300      10.975488      11.278859      10.691287   \n",
       "\n",
       "                 8              9    ...            390            391  \\\n",
       "count  751689.000000  751689.000000  ...  751689.000000  751689.000000   \n",
       "mean       -0.005402       0.000272  ...       0.004499      -0.007422   \n",
       "std         0.981116       0.978854  ...       0.976631       0.984997   \n",
       "min       -11.212376     -10.744902  ...      -9.777671      -9.955516   \n",
       "25%        -0.538741      -0.501030  ...      -0.521854      -0.498464   \n",
       "50%        -0.013831       0.020663  ...      -0.008118      -0.026581   \n",
       "75%         0.518780       0.522501  ...       0.518684       0.478979   \n",
       "max        10.463519      12.954918  ...      12.420573      10.999012   \n",
       "\n",
       "                 392            393            394            395  \\\n",
       "count  751689.000000  751689.000000  751689.000000  751689.000000   \n",
       "mean       -0.002398       0.004064       0.010843       0.002954   \n",
       "std         0.980497       0.981389       0.973373       0.979601   \n",
       "min       -12.292439     -12.638578     -15.550569     -12.391028   \n",
       "25%        -0.507808      -0.481324      -0.453612      -0.520528   \n",
       "50%         0.026821       0.004810       0.077684       0.022664   \n",
       "75%         0.540610       0.485096       0.558634       0.548474   \n",
       "max        11.334339      10.844025       7.939140       9.157885   \n",
       "\n",
       "                 396            397            398            399  \n",
       "count  751689.000000  751689.000000  751689.000000  751689.000000  \n",
       "mean        0.004194       0.000145      -0.011412      -0.006052  \n",
       "std         0.992584       0.982193       0.985989       0.984063  \n",
       "min       -13.237496     -13.111054     -13.853485     -12.878211  \n",
       "25%        -0.493105      -0.500887      -0.429397      -0.507753  \n",
       "50%         0.007105       0.007249       0.047447      -0.005162  \n",
       "75%         0.506308       0.503110       0.472975       0.498321  \n",
       "max        11.574175      10.978301      11.022414      11.049067  \n",
       "\n",
       "[8 rows x 400 columns]"
      ]
     },
     "execution_count": 10,
     "metadata": {},
     "output_type": "execute_result"
    }
   ],
   "source": [
    "latents_part_df.describe()"
   ]
  },
  {
   "cell_type": "code",
   "execution_count": 13,
   "metadata": {},
   "outputs": [
    {
     "data": {
      "text/plain": [
       "<AxesSubplot:ylabel='Count'>"
      ]
     },
     "execution_count": 13,
     "metadata": {},
     "output_type": "execute_result"
    },
    {
     "data": {
      "image/png": "[encoded data removed]",
      "text/plain": [
       "<Figure size 432x288 with 1 Axes>"
      ]
     },
     "metadata": {
      "needs_background": "light"
     },
     "output_type": "display_data"
    }
   ],
   "source": [
    "### We will plot the histogram of a randomly selected feature of the latents\n",
    "seed = 0\n",
    "np.random.seed(seed)\n",
    "index_rand = np.random.randint(512)\n",
    "sns.histplot(latents[:, index_rand])"
   ]
  },
  {
   "cell_type": "markdown",
   "metadata": {
    "pycharm": {
     "is_executing": true,
     "name": "#%% md\n"
    }
   },
   "source": [
    "### From above histograms, we know that all the features of the latents almost belong to the standard normal distribution."
   ]
  },
  {
   "cell_type": "markdown",
   "metadata": {
    "pycharm": {
     "name": "#%% md\n"
    }
   },
   "source": [
    "## Let's do linear transformation to standarize the latent vector at first.\n",
    "### For each component, we do $x_{std} = (x - \\mu) / \\sigma(x)$."
   ]
  },
  {
   "cell_type": "code",
   "execution_count": 14,
   "metadata": {
    "collapsed": false,
    "jupyter": {
     "outputs_hidden": false
    },
    "pycharm": {
     "name": "#%%\n"
    }
   },
   "outputs": [],
   "source": [
    "### Initialize the linear transformer at first\n",
    "scaler = StandardScaler()\n",
    "### Estimate the parameters\n",
    "scaler.fit(latents)\n",
    "### Transform the latents\n",
    "latents_std = scaler.transform(latents)"
   ]
  },
  {
   "cell_type": "code",
   "execution_count": 15,
   "metadata": {
    "collapsed": false,
    "jupyter": {
     "outputs_hidden": false
    },
    "pycharm": {
     "name": "#%%\n"
    }
   },
   "outputs": [],
   "source": [
    "### Let's use PCA at first to estimate the dimension of the main components. But before that, we want to standarize the latent vector\n",
    "pca = PCA(n_components='mle', random_state=0)\n",
    "pca.fit(latents_std)\n",
    "singular_vals = pca.singular_values_"
   ]
  },
  {
   "cell_type": "code",
   "execution_count": 16,
   "metadata": {
    "collapsed": false,
    "jupyter": {
     "outputs_hidden": false
    },
    "pycharm": {
     "name": "#%%\n"
    }
   },
   "outputs": [
    {
     "data": {
      "image/png": "[encoded data removed]",
      "text/plain": [
       "<Figure size 432x288 with 1 Axes>"
      ]
     },
     "metadata": {
      "needs_background": "light"
     },
     "output_type": "display_data"
    }
   ],
   "source": [
    "### plot the singular values to estimate the dimensions\n",
    "plt.figure()\n",
    "plt.title('Singular values plot')\n",
    "plt.plot(singular_vals.squeeze(), linewidth=2)\n",
    "plt.xlabel('dims')\n",
    "plt.ylabel('singular_vals')\n",
    "plt.show()"
   ]
  },
  {
   "cell_type": "markdown",
   "metadata": {
    "pycharm": {
     "name": "#%% md\n"
    }
   },
   "source": [
    "### From above plot, actually we can try to use the $dims = 300$ for the latent space.\n",
    "### Here we use $dims = 256$."
   ]
  },
  {
   "cell_type": "code",
   "execution_count": 17,
   "metadata": {
    "collapsed": false,
    "jupyter": {
     "outputs_hidden": false
    },
    "pycharm": {
     "name": "#%%\n"
    }
   },
   "outputs": [
    {
     "name": "stdout",
     "output_type": "stream",
     "text": [
      "(751689, 256)\n"
     ]
    }
   ],
   "source": [
    "pca = PCA(n_components=256, random_state=0)\n",
    "pca.fit(latents_std)\n",
    "latents_reduced = pca.transform(latents_std)\n",
    "print(latents_reduced.shape)"
   ]
  },
  {
   "cell_type": "markdown",
   "metadata": {},
   "source": [
    "## In the block, we will take the LL of each Latent vector. (We thank Prof. X's nice codes for matching.)"
   ]
  },
  {
   "cell_type": "code",
   "execution_count": 41,
   "metadata": {},
   "outputs": [
    {
     "name": "stdout",
     "output_type": "stream",
     "text": [
      "The total number of latents is: 751689.\n"
     ]
    }
   ],
   "source": [
    "### At first let's get the index list of the latent vectors. Here we thank Prof. X for his nice 'matching' codes.\n",
    "y2019 = evals_tbl.pp_file == 's3://modis-l2/PreProc/MODIS_R2019_2019_95clear_128x128_preproc_std.h5'\n",
    "### Check the total number of the number of latents\n",
    "assert np.sum(y2019) == latents.shape[0], 'The index list is not consistent with the latents vector!'\n",
    "print(f'The total number of latents is: {np.sum(y2019)}.')\n",
    "### Get the index list of the latent vector\n",
    "idx = evals_tbl[y2019].pp_idx.values"
   ]
  },
  {
   "cell_type": "markdown",
   "metadata": {},
   "source": [
    "### Naively, we just split the latents vectors into two groups according to the LL."
   ]
  },
  {
   "cell_type": "code",
   "execution_count": 43,
   "metadata": {},
   "outputs": [
    {
     "data": {
      "text/plain": [
       "count    751689.000000\n",
       "mean        228.834571\n",
       "std         234.529433\n",
       "min       -5957.205078\n",
       "25%          95.118042\n",
       "50%         243.577942\n",
       "75%         382.215637\n",
       "max        1007.517334\n",
       "Name: LL, dtype: float64"
      ]
     },
     "execution_count": 43,
     "metadata": {},
     "output_type": "execute_result"
    }
   ],
   "source": [
    "### At first, let's check the statistics of the LL\n",
    "evals_tbl[y2019].LL.describe()"
   ]
  },
  {
   "cell_type": "code",
   "execution_count": 44,
   "metadata": {},
   "outputs": [
    {
     "data": {
      "text/plain": [
       "<AxesSubplot:xlabel='LL', ylabel='Count'>"
      ]
     },
     "execution_count": 44,
     "metadata": {},
     "output_type": "execute_result"
    },
    {
     "data": {
      "image/png": "[encoded data removed]",
      "text/plain": [
       "<Figure size 432x288 with 1 Axes>"
      ]
     },
     "metadata": {
      "needs_background": "light"
     },
     "output_type": "display_data"
    }
   ],
   "source": [
    "sns.histplot(evals_tbl[y2019].LL)"
   ]
  },
  {
   "cell_type": "markdown",
   "metadata": {},
   "source": [
    "### Obviously, we can find that the latent vector has heavy left hand tail which means outliers exist. So we will naively choose \n",
    "* ll_threshold= -2000\n"
   ]
  },
  {
   "cell_type": "code",
   "execution_count": 84,
   "metadata": {},
   "outputs": [],
   "source": [
    "### Get the value (np.array) of the LL series\n",
    "LL_latents_np = evals_tbl[y2019].LL.values.copy()"
   ]
  },
  {
   "cell_type": "code",
   "execution_count": 85,
   "metadata": {},
   "outputs": [
    {
     "name": "stdout",
     "output_type": "stream",
     "text": [
      "The number of samples in the first cluster is: 200.\n",
      "The number of samples in the second cluster is: 751489.\n"
     ]
    }
   ],
   "source": [
    "### Split the index of the latents into two groups according to the threshold\n",
    "ll_threshold = -2000\n",
    "latents_cluster_1 = np.argwhere(LL_latents_np <= ll_threshold).squeeze()\n",
    "latents_cluster_2 = np.argwhere(LL_latents_np > ll_threshold).squeeze()\n",
    "print(f'The number of samples in the first cluster is: {len(latents_cluster_1)}.')\n",
    "print(f'The number of samples in the second cluster is: {len(latents_cluster_2)}.')"
   ]
  },
  {
   "cell_type": "markdown",
   "metadata": {},
   "source": [
    "## We will use the UMap to explore the latents. "
   ]
  },
  {
   "cell_type": "markdown",
   "metadata": {},
   "source": [
    "#### Initialize the umap reducer."
   ]
  },
  {
   "cell_type": "code",
   "execution_count": 28,
   "metadata": {
    "collapsed": false,
    "jupyter": {
     "outputs_hidden": false
    },
    "pycharm": {
     "name": "#%%\n"
    }
   },
   "outputs": [
    {
     "name": "stdout",
     "output_type": "stream",
     "text": [
      "The shape of the reduced matrix is:  (751689, 2)\n",
      "The dimension of the embedding manifold is:  2\n",
      "CPU times: user 10h 45min 32s, sys: 1h 36min 38s, total: 12h 22min 10s\n",
      "Wall time: 14min 34s\n"
     ]
    }
   ],
   "source": [
    "%%time\n",
    "reducer_umap = umap.UMAP()\n",
    "latents_embedding = reducer_umap.fit_transform(latents_reduced)\n",
    "print('The shape of the reduced matrix is: ', latents_embedding.shape)\n",
    "print('The dimension of the embedding manifold is: ', latents_embedding.shape[1])"
   ]
  },
  {
   "cell_type": "code",
   "execution_count": 86,
   "metadata": {},
   "outputs": [
    {
     "data": {
      "text/plain": [
       "Text(0.5, 1.0, 'Scatter plot of embedding manifold by UMAP')"
      ]
     },
     "execution_count": 86,
     "metadata": {},
     "output_type": "execute_result"
    },
    {
     "data": {
      "image/png": "[encoded data removed]",
      "text/plain": [
       "<Figure size 864x576 with 1 Axes>"
      ]
     },
     "metadata": {
      "needs_background": "light"
     },
     "output_type": "display_data"
    }
   ],
   "source": [
    "plt.figure(figsize=(12, 8))\n",
    "plt.scatter(latents_embedding[:, 0][latents_cluster_1], latents_embedding[:, 1][latents_cluster_1],\n",
    "            s=18, label='outliers')\n",
    "plt.scatter(latents_embedding[:, 0][latents_cluster_2], latents_embedding[:, 1][latents_cluster_2],\n",
    "            s=18, label='normal')\n",
    "plt.xlabel('1st dimension', fontsize=25)\n",
    "plt.ylabel('2ed dimension', fontsize=25)\n",
    "plt.legend(fontsize=20, loc=1)\n",
    "plt.title('Scatter plot of embedding manifold by UMAP', fontsize=25)"
   ]
  },
  {
   "cell_type": "markdown",
   "metadata": {},
   "source": [
    "## Try Another Threshold value\n",
    "* ll_threshold = -1000"
   ]
  },
  {
   "cell_type": "code",
   "execution_count": 87,
   "metadata": {
    "collapsed": false,
    "jupyter": {
     "outputs_hidden": false
    },
    "pycharm": {
     "name": "#%%\n"
    }
   },
   "outputs": [
    {
     "name": "stdout",
     "output_type": "stream",
     "text": [
      "The number of samples in the first cluster is: 1137.\n",
      "The number of samples in the second cluster is: 750552.\n"
     ]
    }
   ],
   "source": [
    "### Split the index of the latents into two groups according to the threshold\n",
    "ll_threshold = -1000\n",
    "latents_cluster_1 = np.argwhere(LL_latents_np <= ll_threshold).squeeze()\n",
    "latents_cluster_2 = np.argwhere(LL_latents_np > ll_threshold).squeeze()\n",
    "print(f'The number of samples in the first cluster is: {len(latents_cluster_1)}.')\n",
    "print(f'The number of samples in the second cluster is: {len(latents_cluster_2)}.')"
   ]
  },
  {
   "cell_type": "code",
   "execution_count": 88,
   "metadata": {},
   "outputs": [
    {
     "data": {
      "text/plain": [
       "Text(0.5, 1.0, 'Scatter plot of embedding manifold by UMAP')"
      ]
     },
     "execution_count": 88,
     "metadata": {},
     "output_type": "execute_result"
    },
    {
     "data": {
      "image/png": "[encoded data removed]",
      "text/plain": [
       "<Figure size 864x576 with 1 Axes>"
      ]
     },
     "metadata": {
      "needs_background": "light"
     },
     "output_type": "display_data"
    }
   ],
   "source": [
    "plt.figure(figsize=(12, 8))\n",
    "plt.scatter(latents_embedding[:, 0][latents_cluster_1], latents_embedding[:, 1][latents_cluster_1],\n",
    "            s=18, label='outliers')\n",
    "plt.scatter(latents_embedding[:, 0][latents_cluster_2], latents_embedding[:, 1][latents_cluster_2],\n",
    "            s=18, label='normal')\n",
    "plt.xlabel('1st dimension', fontsize=25)\n",
    "plt.ylabel('2ed dimension', fontsize=25)\n",
    "plt.legend(fontsize=20, loc=1)\n",
    "plt.title('Scatter plot of embedding manifold by UMAP', fontsize=25)"
   ]
  },
  {
   "cell_type": "markdown",
   "metadata": {},
   "source": [
    "## Try Another Threshold value\n",
    "* ll_threshold = -500"
   ]
  },
  {
   "cell_type": "code",
   "execution_count": 89,
   "metadata": {},
   "outputs": [
    {
     "name": "stdout",
     "output_type": "stream",
     "text": [
      "The number of samples in the first cluster is: 4788.\n",
      "The number of samples in the second cluster is: 746901.\n"
     ]
    }
   ],
   "source": [
    "### Split the index of the latents into two groups according to the threshold\n",
    "ll_threshold = -500\n",
    "latents_cluster_1 = np.argwhere(LL_latents_np <= ll_threshold).squeeze()\n",
    "latents_cluster_2 = np.argwhere(LL_latents_np > ll_threshold).squeeze()\n",
    "print(f'The number of samples in the first cluster is: {len(latents_cluster_1)}.')\n",
    "print(f'The number of samples in the second cluster is: {len(latents_cluster_2)}.')"
   ]
  },
  {
   "cell_type": "code",
   "execution_count": 90,
   "metadata": {},
   "outputs": [
    {
     "data": {
      "text/plain": [
       "Text(0.5, 1.0, 'Scatter plot of embedding manifold by UMAP')"
      ]
     },
     "execution_count": 90,
     "metadata": {},
     "output_type": "execute_result"
    },
    {
     "data": {
      "image/png": "[encoded data removed]",
      "text/plain": [
       "<Figure size 864x576 with 1 Axes>"
      ]
     },
     "metadata": {
      "needs_background": "light"
     },
     "output_type": "display_data"
    }
   ],
   "source": [
    "plt.figure(figsize=(12, 8))\n",
    "plt.scatter(latents_embedding[:, 0][latents_cluster_1], latents_embedding[:, 1][latents_cluster_1],\n",
    "            s=18, label='outliers')\n",
    "plt.scatter(latents_embedding[:, 0][latents_cluster_2], latents_embedding[:, 1][latents_cluster_2],\n",
    "            s=18, label='normal')\n",
    "plt.xlabel('1st dimension', fontsize=25)\n",
    "plt.ylabel('2ed dimension', fontsize=25)\n",
    "plt.legend(fontsize=20, loc=1)\n",
    "plt.title('Scatter plot of embedding manifold by UMAP', fontsize=25)"
   ]
  },
  {
   "cell_type": "code",
   "execution_count": null,
   "metadata": {},
   "outputs": [],
   "source": []
  }
 ],
 "metadata": {
  "kernelspec": {
   "display_name": "Python 3",
   "language": "python",
   "name": "python3"
  },
  "language_info": {
   "codemirror_mode": {
    "name": "ipython",
    "version": 3
   },
   "file_extension": ".py",
   "mimetype": "text/x-python",
   "name": "python",
   "nbconvert_exporter": "python",
   "pygments_lexer": "ipython3",
   "version": "3.8.8"
  }
 },
 "nbformat": 4,
 "nbformat_minor": 4
}
