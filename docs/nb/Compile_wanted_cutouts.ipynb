{
 "cells": [
  {
   "cell_type": "code",
   "execution_count": 1,
   "id": "55e502a8-3793-460e-9666-41bb685b9773",
   "metadata": {},
   "outputs": [],
   "source": [
    "# imports\n",
    "from importlib import reload\n",
    "\n",
    "import os # a module to interact with the operating system\n",
    "os.environ[\"ENDPOINT_URL\"]=\"http://rook-ceph-rgw-nautiluss3.rook\"\n",
    "import numpy as np\n",
    "\n",
    "import pandas as pd\n",
    "import xarray\n",
    "import h5py\n",
    "import healpy as hp\n",
    "import time\n",
    "\n",
    "import cartopy.crs as ccrs\n",
    "from cartopy.mpl.gridliner import LONGITUDE_FORMATTER, LATITUDE_FORMATTER\n",
    "\n",
    "from matplotlib import pyplot as plt\n",
    "import seaborn as sns\n",
    "import scipy.stats as stats\n",
    "\n",
    "from ulmo import io as ulmo_io\n",
    "from ulmo import plotting\n",
    "from ulmo.llc import io as llc_io\n",
    "from ulmo.llc import plotting as llc_plotting\n",
    "\n",
    "from ulmo.utils import image_utils\n",
    "from ulmo.analysis import figures as ulmo_figs\n",
    "from ulmo.plotting import plotting as ulmo_plotting\n",
    "from ulmo.analysis import spatial_plots as sp"
   ]
  },
  {
   "cell_type": "markdown",
   "id": "be9dc338-f56c-4e0c-9410-36f9d90d6b64",
   "metadata": {},
   "source": [
    "# Load table"
   ]
  },
  {
   "cell_type": "code",
   "execution_count": 2,
   "id": "109e7e34-ad54-4191-b6ae-44c77417e238",
   "metadata": {},
   "outputs": [
    {
     "name": "stdout",
     "output_type": "stream",
     "text": [
      "Read main table: s3://viirs/Tables/VIIRS_all_99clear_std.parquet\n"
     ]
    },
    {
     "data": {
      "text/html": [
       "<div>\n",
       "<style scoped>\n",
       "    .dataframe tbody tr th:only-of-type {\n",
       "        vertical-align: middle;\n",
       "    }\n",
       "\n",
       "    .dataframe tbody tr th {\n",
       "        vertical-align: top;\n",
       "    }\n",
       "\n",
       "    .dataframe thead th {\n",
       "        text-align: right;\n",
       "    }\n",
       "</style>\n",
       "<table border=\"1\" class=\"dataframe\">\n",
       "  <thead>\n",
       "    <tr style=\"text-align: right;\">\n",
       "      <th></th>\n",
       "      <th>filename</th>\n",
       "      <th>row</th>\n",
       "      <th>col</th>\n",
       "      <th>lat</th>\n",
       "      <th>lon</th>\n",
       "      <th>clear_fraction</th>\n",
       "      <th>field_size</th>\n",
       "      <th>datetime</th>\n",
       "      <th>ex_filename</th>\n",
       "      <th>pp_file</th>\n",
       "      <th>pp_root</th>\n",
       "      <th>pp_idx</th>\n",
       "      <th>pp_type</th>\n",
       "      <th>mean_temperature</th>\n",
       "      <th>Tmin</th>\n",
       "      <th>Tmax</th>\n",
       "      <th>T90</th>\n",
       "      <th>T10</th>\n",
       "      <th>LL</th>\n",
       "    </tr>\n",
       "  </thead>\n",
       "  <tbody>\n",
       "    <tr>\n",
       "      <th>0</th>\n",
       "      <td>s3://viirs/data/2012/032/20120201001000-OSPO-L...</td>\n",
       "      <td>3216</td>\n",
       "      <td>2496</td>\n",
       "      <td>21.009575</td>\n",
       "      <td>-175.17024</td>\n",
       "      <td>0.004693</td>\n",
       "      <td>192</td>\n",
       "      <td>2012-02-01 00:10:00</td>\n",
       "      <td>s3://viirs/Extractions/VIIRS_2012_95clear_192x...</td>\n",
       "      <td>s3://viirs/PreProc/VIIRS_2012_95clear_192x192_...</td>\n",
       "      <td>viirs_std</td>\n",
       "      <td>459126</td>\n",
       "      <td>0</td>\n",
       "      <td>26.149899</td>\n",
       "      <td>25.119995</td>\n",
       "      <td>26.790009</td>\n",
       "      <td>26.359985</td>\n",
       "      <td>25.950012</td>\n",
       "      <td>482.765015</td>\n",
       "    </tr>\n",
       "    <tr>\n",
       "      <th>1</th>\n",
       "      <td>s3://viirs/data/2012/032/20120201001000-OSPO-L...</td>\n",
       "      <td>3216</td>\n",
       "      <td>2592</td>\n",
       "      <td>20.876402</td>\n",
       "      <td>-175.80142</td>\n",
       "      <td>0.002740</td>\n",
       "      <td>192</td>\n",
       "      <td>2012-02-01 00:10:00</td>\n",
       "      <td>s3://viirs/Extractions/VIIRS_2012_95clear_192x...</td>\n",
       "      <td>s3://viirs/PreProc/VIIRS_2012_95clear_192x192_...</td>\n",
       "      <td>viirs_std</td>\n",
       "      <td>379958</td>\n",
       "      <td>0</td>\n",
       "      <td>26.039507</td>\n",
       "      <td>24.489990</td>\n",
       "      <td>26.889984</td>\n",
       "      <td>26.309998</td>\n",
       "      <td>25.829987</td>\n",
       "      <td>493.697144</td>\n",
       "    </tr>\n",
       "    <tr>\n",
       "      <th>2</th>\n",
       "      <td>s3://viirs/data/2012/032/20120201001000-OSPO-L...</td>\n",
       "      <td>3216</td>\n",
       "      <td>2688</td>\n",
       "      <td>20.725744</td>\n",
       "      <td>-176.50098</td>\n",
       "      <td>0.006565</td>\n",
       "      <td>192</td>\n",
       "      <td>2012-02-01 00:10:00</td>\n",
       "      <td>s3://viirs/Extractions/VIIRS_2012_95clear_192x...</td>\n",
       "      <td>s3://viirs/PreProc/VIIRS_2012_95clear_192x192_...</td>\n",
       "      <td>viirs_std</td>\n",
       "      <td>217941</td>\n",
       "      <td>0</td>\n",
       "      <td>25.925251</td>\n",
       "      <td>23.980011</td>\n",
       "      <td>27.029999</td>\n",
       "      <td>26.359985</td>\n",
       "      <td>25.609985</td>\n",
       "      <td>328.781921</td>\n",
       "    </tr>\n",
       "    <tr>\n",
       "      <th>3</th>\n",
       "      <td>s3://viirs/data/2012/032/20120201001000-OSPO-L...</td>\n",
       "      <td>3312</td>\n",
       "      <td>2496</td>\n",
       "      <td>21.622444</td>\n",
       "      <td>-175.36200</td>\n",
       "      <td>0.003906</td>\n",
       "      <td>192</td>\n",
       "      <td>2012-02-01 00:10:00</td>\n",
       "      <td>s3://viirs/Extractions/VIIRS_2012_95clear_192x...</td>\n",
       "      <td>s3://viirs/PreProc/VIIRS_2012_95clear_192x192_...</td>\n",
       "      <td>viirs_std</td>\n",
       "      <td>455088</td>\n",
       "      <td>0</td>\n",
       "      <td>26.135242</td>\n",
       "      <td>25.160004</td>\n",
       "      <td>27.149994</td>\n",
       "      <td>26.399994</td>\n",
       "      <td>25.920013</td>\n",
       "      <td>447.812378</td>\n",
       "    </tr>\n",
       "    <tr>\n",
       "      <th>4</th>\n",
       "      <td>s3://viirs/data/2012/032/20120201001000-OSPO-L...</td>\n",
       "      <td>3408</td>\n",
       "      <td>1920</td>\n",
       "      <td>23.276363</td>\n",
       "      <td>-170.16823</td>\n",
       "      <td>0.003988</td>\n",
       "      <td>192</td>\n",
       "      <td>2012-02-01 00:10:00</td>\n",
       "      <td>s3://viirs/Extractions/VIIRS_2012_95clear_192x...</td>\n",
       "      <td>s3://viirs/PreProc/VIIRS_2012_95clear_192x192_...</td>\n",
       "      <td>viirs_std</td>\n",
       "      <td>200120</td>\n",
       "      <td>0</td>\n",
       "      <td>26.035648</td>\n",
       "      <td>24.579987</td>\n",
       "      <td>27.320007</td>\n",
       "      <td>26.600006</td>\n",
       "      <td>25.359985</td>\n",
       "      <td>308.331177</td>\n",
       "    </tr>\n",
       "  </tbody>\n",
       "</table>\n",
       "</div>"
      ],
      "text/plain": [
       "                                            filename   row   col        lat  \\\n",
       "0  s3://viirs/data/2012/032/20120201001000-OSPO-L...  3216  2496  21.009575   \n",
       "1  s3://viirs/data/2012/032/20120201001000-OSPO-L...  3216  2592  20.876402   \n",
       "2  s3://viirs/data/2012/032/20120201001000-OSPO-L...  3216  2688  20.725744   \n",
       "3  s3://viirs/data/2012/032/20120201001000-OSPO-L...  3312  2496  21.622444   \n",
       "4  s3://viirs/data/2012/032/20120201001000-OSPO-L...  3408  1920  23.276363   \n",
       "\n",
       "         lon  clear_fraction  field_size            datetime  \\\n",
       "0 -175.17024        0.004693         192 2012-02-01 00:10:00   \n",
       "1 -175.80142        0.002740         192 2012-02-01 00:10:00   \n",
       "2 -176.50098        0.006565         192 2012-02-01 00:10:00   \n",
       "3 -175.36200        0.003906         192 2012-02-01 00:10:00   \n",
       "4 -170.16823        0.003988         192 2012-02-01 00:10:00   \n",
       "\n",
       "                                         ex_filename  \\\n",
       "0  s3://viirs/Extractions/VIIRS_2012_95clear_192x...   \n",
       "1  s3://viirs/Extractions/VIIRS_2012_95clear_192x...   \n",
       "2  s3://viirs/Extractions/VIIRS_2012_95clear_192x...   \n",
       "3  s3://viirs/Extractions/VIIRS_2012_95clear_192x...   \n",
       "4  s3://viirs/Extractions/VIIRS_2012_95clear_192x...   \n",
       "\n",
       "                                             pp_file    pp_root  pp_idx  \\\n",
       "0  s3://viirs/PreProc/VIIRS_2012_95clear_192x192_...  viirs_std  459126   \n",
       "1  s3://viirs/PreProc/VIIRS_2012_95clear_192x192_...  viirs_std  379958   \n",
       "2  s3://viirs/PreProc/VIIRS_2012_95clear_192x192_...  viirs_std  217941   \n",
       "3  s3://viirs/PreProc/VIIRS_2012_95clear_192x192_...  viirs_std  455088   \n",
       "4  s3://viirs/PreProc/VIIRS_2012_95clear_192x192_...  viirs_std  200120   \n",
       "\n",
       "   pp_type  mean_temperature       Tmin       Tmax        T90        T10  \\\n",
       "0        0         26.149899  25.119995  26.790009  26.359985  25.950012   \n",
       "1        0         26.039507  24.489990  26.889984  26.309998  25.829987   \n",
       "2        0         25.925251  23.980011  27.029999  26.359985  25.609985   \n",
       "3        0         26.135242  25.160004  27.149994  26.399994  25.920013   \n",
       "4        0         26.035648  24.579987  27.320007  26.600006  25.359985   \n",
       "\n",
       "           LL  \n",
       "0  482.765015  \n",
       "1  493.697144  \n",
       "2  328.781921  \n",
       "3  447.812378  \n",
       "4  308.331177  "
      ]
     },
     "execution_count": 2,
     "metadata": {},
     "output_type": "execute_result"
    }
   ],
   "source": [
    "viirs_tbl = ulmo_io.load_main_table( 's3://viirs/Tables/VIIRS_all_99clear_std.parquet' )\n",
    "viirs_tbl.head()"
   ]
  },
  {
   "cell_type": "markdown",
   "id": "9f1c74c6-58d6-4c50-a690-391370d15871",
   "metadata": {},
   "source": [
    "# Create h5 File"
   ]
  },
  {
   "cell_type": "code",
   "execution_count": 3,
   "id": "04e0c8e0-a581-4a72-8d59-74899e018436",
   "metadata": {},
   "outputs": [],
   "source": [
    "file_list = pd.unique( viirs_tbl.pp_file)"
   ]
  },
  {
   "cell_type": "code",
   "execution_count": 4,
   "id": "ffb9eb16-9897-45fd-b8cf-bf63eeeb1a6b",
   "metadata": {},
   "outputs": [
    {
     "data": {
      "text/plain": [
       "'s3://viirs/PreProc/VIIRS_2020_95clear_192x192_preproc_viirs_std.h5'"
      ]
     },
     "execution_count": 4,
     "metadata": {},
     "output_type": "execute_result"
    }
   ],
   "source": [
    "file = file_list[8]\n",
    "file"
   ]
  },
  {
   "cell_type": "code",
   "execution_count": 5,
   "id": "bdbed41c-09c7-409b-ade9-5aff7d5d8172",
   "metadata": {},
   "outputs": [
    {
     "data": {
      "text/plain": [
       "265988"
      ]
     },
     "execution_count": 5,
     "metadata": {},
     "output_type": "execute_result"
    }
   ],
   "source": [
    "sub_tbl = viirs_tbl[ file == viirs_tbl.pp_file ]\n",
    "sub_tbl.shape[0]"
   ]
  },
  {
   "cell_type": "code",
   "execution_count": 6,
   "id": "adc39770-ed3c-4d57-bb20-31aa0d3b0a89",
   "metadata": {},
   "outputs": [
    {
     "data": {
      "text/plain": [
       "2123523          5\n",
       "2230199         21\n",
       "2148127         22\n",
       "2257757         27\n",
       "2212166         29\n",
       "            ...   \n",
       "2250983    1149945\n",
       "2290569    1149946\n",
       "2104385    1149951\n",
       "2273690    1149963\n",
       "2094189    1149964\n",
       "Name: pp_idx, Length: 265988, dtype: int64"
      ]
     },
     "execution_count": 6,
     "metadata": {},
     "output_type": "execute_result"
    }
   ],
   "source": [
    "index_list = sub_tbl.pp_idx.sort_values()\n",
    "index_list"
   ]
  },
  {
   "cell_type": "code",
   "execution_count": 7,
   "id": "b749656b-812c-455c-b3d3-57befcf5c244",
   "metadata": {},
   "outputs": [
    {
     "data": {
      "text/plain": [
       "27"
      ]
     },
     "execution_count": 7,
     "metadata": {},
     "output_type": "execute_result"
    }
   ],
   "source": [
    "chunk_list = np.arange(0, sub_tbl.shape[0], 10000 )\n",
    "chunk_list.shape[0]"
   ]
  },
  {
   "cell_type": "code",
   "execution_count": 8,
   "id": "2dc152cd-2e37-4839-ba7a-4af03dac4877",
   "metadata": {},
   "outputs": [],
   "source": [
    "# initialize image matrix\n",
    "cutouts = np.ndarray( (viirs_tbl.shape[0], 1, 64, 64) )"
   ]
  },
  {
   "cell_type": "code",
   "execution_count": 9,
   "id": "b25f0d37-8d96-48b3-bfe8-6b773c083848",
   "metadata": {},
   "outputs": [
    {
     "data": {
      "text/plain": [
       "2025603"
      ]
     },
     "execution_count": 9,
     "metadata": {},
     "output_type": "execute_result"
    }
   ],
   "source": [
    "count = 231905 + 258998 + 247455 + 236728 + 251215 + 263844 + 255667 + 279791\n",
    "count"
   ]
  },
  {
   "cell_type": "code",
   "execution_count": 10,
   "id": "2324398a-dbeb-4173-98aa-0c8247b2bebe",
   "metadata": {},
   "outputs": [],
   "source": [
    "for chunk in chunk_list: \n",
    "    \n",
    "    if sub_tbl.shape[0] - chunk >= 10000: \n",
    "        \n",
    "        # grab indices\n",
    "        idxs = index_list[chunk: chunk + 10000].to_numpy()\n",
    "        \n",
    "        # grab cutouts\n",
    "        with h5py.File('/home/jovyan/VIIRS_2020_95clear_192x192_preproc_viirs_std.h5') as f: \n",
    "            \n",
    "            imgs = f['valid'][idxs, 0, ...]\n",
    "            \n",
    "        # save cutouts in an array\n",
    "        marker = count + chunk  \n",
    "        cutouts[marker: marker + 10000, 0, ...] = imgs\n",
    "        \n",
    "    else: \n",
    "        \n",
    "        # grab indices\n",
    "        idxs = index_list[chunk: sub_tbl.shape[0]].to_numpy()\n",
    "        \n",
    "        # grab cutouts\n",
    "        with h5py.File('/home/jovyan/VIIRS_2020_95clear_192x192_preproc_viirs_std.h5') as f: \n",
    "            \n",
    "            imgs = f['valid'][idxs, 0, ...]\n",
    "            \n",
    "        # save cutouts in an array\n",
    "        marker = count + chunk \n",
    "        diff = sub_tbl.shape[0] - chunk\n",
    "        cutouts[marker: marker + diff, 0, ...] = imgs\n",
    "        \n",
    "        count += sub_tbl.shape[0]"
   ]
  },
  {
   "cell_type": "code",
   "execution_count": 14,
   "id": "aa698472-2f63-4802-811f-c42a72e26ca8",
   "metadata": {},
   "outputs": [
    {
     "ename": "IndexError",
     "evalue": "index 2291591 is out of bounds for axis 0 with size 2291591",
     "output_type": "error",
     "traceback": [
      "\u001b[0;31m---------------------------------------------------------------------------\u001b[0m",
      "\u001b[0;31mIndexError\u001b[0m                                Traceback (most recent call last)",
      "\u001b[0;32m/tmp/ipykernel_7557/2373136539.py\u001b[0m in \u001b[0;36m<module>\u001b[0;34m\u001b[0m\n\u001b[0;32m----> 1\u001b[0;31m \u001b[0mcutouts\u001b[0m\u001b[0;34m[\u001b[0m\u001b[0mcount\u001b[0m\u001b[0;34m,\u001b[0m \u001b[0;36m0\u001b[0m\u001b[0;34m,\u001b[0m \u001b[0;34m...\u001b[0m\u001b[0;34m]\u001b[0m\u001b[0;34m\u001b[0m\u001b[0;34m\u001b[0m\u001b[0m\n\u001b[0m",
      "\u001b[0;31mIndexError\u001b[0m: index 2291591 is out of bounds for axis 0 with size 2291591"
     ]
    }
   ],
   "source": [
    "cutouts[count, 0, ...]"
   ]
  },
  {
   "cell_type": "code",
   "execution_count": 15,
   "id": "4a286852-a376-46be-b1b5-46d579a72149",
   "metadata": {},
   "outputs": [
    {
     "data": {
      "text/plain": [
       "2291591"
      ]
     },
     "execution_count": 15,
     "metadata": {},
     "output_type": "execute_result"
    }
   ],
   "source": [
    "count"
   ]
  },
  {
   "cell_type": "code",
   "execution_count": 17,
   "id": "3fe10beb-c63c-47f7-ae5f-6a0bfe1c1f69",
   "metadata": {},
   "outputs": [],
   "source": [
    "with h5py.File( '/home/jovyan/VIIRS_all_99clear_192x192_preproc.h5', 'r+') as g:\n",
    "    \n",
    "    g.create_dataset( name='2020', data = cutouts[2025603:2291591, 0, ...])"
   ]
  },
  {
   "cell_type": "code",
   "execution_count": null,
   "id": "3b600ca5-7b59-4fa7-800a-9050073f5706",
   "metadata": {},
   "outputs": [],
   "source": []
  }
 ],
 "metadata": {
  "kernelspec": {
   "display_name": "Python 3 (ipykernel)",
   "language": "python",
   "name": "python3"
  },
  "language_info": {
   "codemirror_mode": {
    "name": "ipython",
    "version": 3
   },
   "file_extension": ".py",
   "mimetype": "text/x-python",
   "name": "python",
   "nbconvert_exporter": "python",
   "pygments_lexer": "ipython3",
   "version": "3.9.5"
  }
 },
 "nbformat": 4,
 "nbformat_minor": 5
}
