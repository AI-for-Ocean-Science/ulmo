{
 "cells": [
  {
   "cell_type": "code",
   "execution_count": 4,
   "id": "35667183-a91f-4242-8c23-2313cc2760bc",
   "metadata": {},
   "outputs": [],
   "source": [
    "import numpy as np\n",
    "import cvxpy as cvxpy\n",
    "\n",
    "# Determine feasibility of Ax <= b\n",
    "# cloud1 and cloud2 should be numpy.ndarrays\n",
    "def clouds_overlap(cloud1, cloud2):\n",
    "    # build the A matrix\n",
    "    cloud12 = np.vstack((-cloud1, cloud2))\n",
    "    vec_ones = np.r_[np.ones((len(cloud1),1)), -np.ones((len(cloud2),1))]\n",
    "    A = np.r_['1', cloud12, vec_ones]\n",
    "\n",
    "    # make b vector\n",
    "    ntot = len(cloud1) + len(cloud2)\n",
    "    b = -np.ones(ntot)\n",
    "\n",
    "    # define the x variable and the equation to be solved\n",
    "    x = cvxpy.Variable(A.shape[1])\n",
    "    constraints = [A@x <= b]\n",
    "\n",
    "    # since we're only determining feasibility there is no minimization\n",
    "    # so just set the objective function to a constant\n",
    "    obj = cvxpy.Minimize(0)\n",
    "\n",
    "    # SCS was the most accurate/robust of the non-commercial solvers\n",
    "    # for my application\n",
    "    problem = cvxpy.Problem(obj, constraints)\n",
    "    problem.solve(solver=cvxpy.SCS)\n",
    "\n",
    "    # Any 'inaccurate' status indicates ambiguity, so you can\n",
    "    # return True or False as you please\n",
    "    if problem.status == 'infeasible' or problem.status.endswith('inaccurate'):\n",
    "        return True\n",
    "    else:\n",
    "        return False"
   ]
  },
  {
   "cell_type": "code",
   "execution_count": 6,
   "id": "dae06b68-8c2f-4e74-a56b-eef6492b7e22",
   "metadata": {},
   "outputs": [
    {
     "name": "stdout",
     "output_type": "stream",
     "text": [
      "Clouds overlap? True\n",
      "Clouds overlap? False\n",
      "Clouds overlap? True\n"
     ]
    }
   ],
   "source": [
    "# Test run: cube and two points (outside and inside)\n",
    "cube = np.array([[1,1,1],[1,1,-1],[1,-1,1],[1,-1,-1],[-1,1,1],[-1,1,-1],[-1,-1,1],[-1,-1,-1]])\n",
    "inside = np.array([[0.49,0.0,0.0]])\n",
    "outside = np.array([[1.01,0,0]])\n",
    "in_and_out = np.array([[0.49,0,0], [1.01,0,0]])\n",
    "\n",
    "print(\"Clouds overlap?\", clouds_overlap(cube, inside))\n",
    "print(\"Clouds overlap?\", clouds_overlap(cube, outside))\n",
    "print(\"Clouds overlap?\", clouds_overlap(cube, in_and_out))\n",
    "\n",
    "# Clouds overlap? True\n",
    "# Clouds overlap? False"
   ]
  },
  {
   "cell_type": "code",
   "execution_count": null,
   "id": "08a509a2-afbf-4a4d-8686-01b9c383a8e0",
   "metadata": {},
   "outputs": [],
   "source": []
  }
 ],
 "metadata": {
  "kernelspec": {
   "display_name": "Python 3",
   "language": "python",
   "name": "python3"
  },
  "language_info": {
   "codemirror_mode": {
    "name": "ipython",
    "version": 3
   },
   "file_extension": ".py",
   "mimetype": "text/x-python",
   "name": "python",
   "nbconvert_exporter": "python",
   "pygments_lexer": "ipython3",
   "version": "3.8.8"
  }
 },
 "nbformat": 4,
 "nbformat_minor": 5
}
