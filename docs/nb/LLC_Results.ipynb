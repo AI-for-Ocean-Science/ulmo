{
 "cells": [
  {
   "cell_type": "markdown",
   "metadata": {},
   "source": [
    "# LLC_Results"
   ]
  },
  {
   "cell_type": "code",
   "execution_count": 28,
   "metadata": {},
   "outputs": [],
   "source": [
    "# imports\n",
    "\n",
    "import os\n",
    "import numpy as np\n",
    "\n",
    "import pandas\n",
    "\n",
    "import h5py\n",
    "\n",
    "from matplotlib import pyplot as plt\n",
    "import seaborn as sns\n",
    "\n",
    "from ulmo import io as ulmo_io\n",
    "from ulmo import plotting\n"
   ]
  },
  {
   "cell_type": "code",
   "execution_count": 2,
   "metadata": {},
   "outputs": [
    {
     "data": {
      "text/plain": [
       "'https://s3.nautilus.optiputer.net'"
      ]
     },
     "execution_count": 2,
     "metadata": {},
     "output_type": "execute_result"
    }
   ],
   "source": [
    "os.getenv('ENDPOINT_URL')"
   ]
  },
  {
   "cell_type": "code",
   "execution_count": 3,
   "metadata": {},
   "outputs": [],
   "source": [
    "sns.set_theme()\n",
    "sns.set_style('whitegrid')\n",
    "sns.set_context('notebook')"
   ]
  },
  {
   "cell_type": "markdown",
   "metadata": {},
   "source": [
    "# Load table"
   ]
  },
  {
   "cell_type": "code",
   "execution_count": 30,
   "metadata": {},
   "outputs": [],
   "source": [
    "tbl_file = 's3://llc/Tables/test_uniform_r0.5_test.feather'\n",
    "llc_table = ulmo_io.load_main_table(tbl_file)"
   ]
  },
  {
   "cell_type": "code",
   "execution_count": 31,
   "metadata": {},
   "outputs": [
    {
     "data": {
      "text/html": [
       "<div>\n",
       "<style scoped>\n",
       "    .dataframe tbody tr th:only-of-type {\n",
       "        vertical-align: middle;\n",
       "    }\n",
       "\n",
       "    .dataframe tbody tr th {\n",
       "        vertical-align: top;\n",
       "    }\n",
       "\n",
       "    .dataframe thead th {\n",
       "        text-align: right;\n",
       "    }\n",
       "</style>\n",
       "<table border=\"1\" class=\"dataframe\">\n",
       "  <thead>\n",
       "    <tr style=\"text-align: right;\">\n",
       "      <th></th>\n",
       "      <th>lat</th>\n",
       "      <th>lon</th>\n",
       "      <th>row</th>\n",
       "      <th>col</th>\n",
       "      <th>datetime</th>\n",
       "      <th>LLC_file</th>\n",
       "      <th>pp_file</th>\n",
       "      <th>pp_root</th>\n",
       "      <th>field_size</th>\n",
       "      <th>mean_temperature</th>\n",
       "      <th>Tmin</th>\n",
       "      <th>Tmax</th>\n",
       "      <th>T90</th>\n",
       "      <th>T10</th>\n",
       "    </tr>\n",
       "  </thead>\n",
       "  <tbody>\n",
       "    <tr>\n",
       "      <th>0</th>\n",
       "      <td>71.725098</td>\n",
       "      <td>-177.172684</td>\n",
       "      <td>12895</td>\n",
       "      <td>10607</td>\n",
       "      <td>2011-09-30</td>\n",
       "      <td>s3://llc/ThetaUVSalt/LLC4320_2011-09-30T00_00_...</td>\n",
       "      <td>LLC_uniform_preproc_test.h5</td>\n",
       "      <td>llc_std</td>\n",
       "      <td>64</td>\n",
       "      <td>-1.467546</td>\n",
       "      <td>-1.579000</td>\n",
       "      <td>-0.619</td>\n",
       "      <td>-1.351001</td>\n",
       "      <td>-1.541000</td>\n",
       "    </tr>\n",
       "    <tr>\n",
       "      <th>1</th>\n",
       "      <td>71.747978</td>\n",
       "      <td>-175.380554</td>\n",
       "      <td>12895</td>\n",
       "      <td>10676</td>\n",
       "      <td>2011-09-30</td>\n",
       "      <td>s3://llc/ThetaUVSalt/LLC4320_2011-09-30T00_00_...</td>\n",
       "      <td>LLC_uniform_preproc_test.h5</td>\n",
       "      <td>llc_std</td>\n",
       "      <td>64</td>\n",
       "      <td>-0.492408</td>\n",
       "      <td>-1.544001</td>\n",
       "      <td>3.539</td>\n",
       "      <td>3.364000</td>\n",
       "      <td>-1.540001</td>\n",
       "    </tr>\n",
       "    <tr>\n",
       "      <th>2</th>\n",
       "      <td>71.758400</td>\n",
       "      <td>-173.559555</td>\n",
       "      <td>12895</td>\n",
       "      <td>10746</td>\n",
       "      <td>2011-09-30</td>\n",
       "      <td>s3://llc/ThetaUVSalt/LLC4320_2011-09-30T00_00_...</td>\n",
       "      <td>LLC_uniform_preproc_test.h5</td>\n",
       "      <td>llc_std</td>\n",
       "      <td>64</td>\n",
       "      <td>3.271719</td>\n",
       "      <td>1.870000</td>\n",
       "      <td>3.774</td>\n",
       "      <td>3.499000</td>\n",
       "      <td>2.540999</td>\n",
       "    </tr>\n",
       "    <tr>\n",
       "      <th>3</th>\n",
       "      <td>71.755905</td>\n",
       "      <td>-171.737854</td>\n",
       "      <td>12895</td>\n",
       "      <td>10816</td>\n",
       "      <td>2011-09-30</td>\n",
       "      <td>s3://llc/ThetaUVSalt/LLC4320_2011-09-30T00_00_...</td>\n",
       "      <td>LLC_uniform_preproc_test.h5</td>\n",
       "      <td>llc_std</td>\n",
       "      <td>64</td>\n",
       "      <td>2.945127</td>\n",
       "      <td>1.368000</td>\n",
       "      <td>3.452</td>\n",
       "      <td>3.375000</td>\n",
       "      <td>2.229000</td>\n",
       "    </tr>\n",
       "    <tr>\n",
       "      <th>4</th>\n",
       "      <td>71.740822</td>\n",
       "      <td>-169.943695</td>\n",
       "      <td>12895</td>\n",
       "      <td>10885</td>\n",
       "      <td>2011-09-30</td>\n",
       "      <td>s3://llc/ThetaUVSalt/LLC4320_2011-09-30T00_00_...</td>\n",
       "      <td>LLC_uniform_preproc_test.h5</td>\n",
       "      <td>llc_std</td>\n",
       "      <td>64</td>\n",
       "      <td>2.364319</td>\n",
       "      <td>1.440000</td>\n",
       "      <td>3.272</td>\n",
       "      <td>2.841000</td>\n",
       "      <td>1.891000</td>\n",
       "    </tr>\n",
       "  </tbody>\n",
       "</table>\n",
       "</div>"
      ],
      "text/plain": [
       "         lat         lon    row    col   datetime  \\\n",
       "0  71.725098 -177.172684  12895  10607 2011-09-30   \n",
       "1  71.747978 -175.380554  12895  10676 2011-09-30   \n",
       "2  71.758400 -173.559555  12895  10746 2011-09-30   \n",
       "3  71.755905 -171.737854  12895  10816 2011-09-30   \n",
       "4  71.740822 -169.943695  12895  10885 2011-09-30   \n",
       "\n",
       "                                            LLC_file  \\\n",
       "0  s3://llc/ThetaUVSalt/LLC4320_2011-09-30T00_00_...   \n",
       "1  s3://llc/ThetaUVSalt/LLC4320_2011-09-30T00_00_...   \n",
       "2  s3://llc/ThetaUVSalt/LLC4320_2011-09-30T00_00_...   \n",
       "3  s3://llc/ThetaUVSalt/LLC4320_2011-09-30T00_00_...   \n",
       "4  s3://llc/ThetaUVSalt/LLC4320_2011-09-30T00_00_...   \n",
       "\n",
       "                       pp_file  pp_root  field_size  mean_temperature  \\\n",
       "0  LLC_uniform_preproc_test.h5  llc_std          64         -1.467546   \n",
       "1  LLC_uniform_preproc_test.h5  llc_std          64         -0.492408   \n",
       "2  LLC_uniform_preproc_test.h5  llc_std          64          3.271719   \n",
       "3  LLC_uniform_preproc_test.h5  llc_std          64          2.945127   \n",
       "4  LLC_uniform_preproc_test.h5  llc_std          64          2.364319   \n",
       "\n",
       "       Tmin   Tmax       T90       T10  \n",
       "0 -1.579000 -0.619 -1.351001 -1.541000  \n",
       "1 -1.544001  3.539  3.364000 -1.540001  \n",
       "2  1.870000  3.774  3.499000  2.540999  \n",
       "3  1.368000  3.452  3.375000  2.229000  \n",
       "4  1.440000  3.272  2.841000  1.891000  "
      ]
     },
     "execution_count": 31,
     "metadata": {},
     "output_type": "execute_result"
    }
   ],
   "source": [
    "llc_table.head()"
   ]
  },
  {
   "cell_type": "markdown",
   "metadata": {},
   "source": [
    "# Load LL"
   ]
  },
  {
   "cell_type": "code",
   "execution_count": 4,
   "metadata": {},
   "outputs": [],
   "source": [
    "LL_file = 's3://llc/Evaluations/LLC_uniform_test_std_log_prob.h5'"
   ]
  },
  {
   "cell_type": "code",
   "execution_count": 5,
   "metadata": {},
   "outputs": [],
   "source": [
    "with ulmo_io.open(LL_file, 'rb') as f:\n",
    "    LL_hf = h5py.File(f, 'r')"
   ]
  },
  {
   "cell_type": "code",
   "execution_count": 8,
   "metadata": {},
   "outputs": [
    {
     "data": {
      "text/plain": [
       "<KeysViewHDF5 ['valid']>"
      ]
     },
     "execution_count": 8,
     "metadata": {},
     "output_type": "execute_result"
    }
   ],
   "source": [
    "LL_hf.keys()"
   ]
  },
  {
   "cell_type": "code",
   "execution_count": 9,
   "metadata": {},
   "outputs": [],
   "source": [
    "LL = LL_hf['valid'][:]"
   ]
  },
  {
   "cell_type": "code",
   "execution_count": 18,
   "metadata": {},
   "outputs": [],
   "source": [
    "LL_hf.close()"
   ]
  },
  {
   "cell_type": "markdown",
   "metadata": {},
   "source": [
    "# Plot"
   ]
  },
  {
   "cell_type": "code",
   "execution_count": 11,
   "metadata": {},
   "outputs": [
    {
     "data": {
      "text/plain": [
       "(0.0, 10000.0)"
      ]
     },
     "execution_count": 11,
     "metadata": {},
     "output_type": "execute_result"
    },
    {
     "data": {
      "image/png": "[encoded data removed]",
      "text/plain": [
       "<Figure size 432x288 with 1 Axes>"
      ]
     },
     "metadata": {},
     "output_type": "display_data"
    }
   ],
   "source": [
    "ax = sns.histplot(LL)\n",
    "ax.set_xlim(-5000., 2000.)\n",
    "ax.set_ylim(0., 10000.)"
   ]
  },
  {
   "cell_type": "code",
   "execution_count": 13,
   "metadata": {},
   "outputs": [
    {
     "data": {
      "text/plain": [
       "(0.0, 200.0)"
      ]
     },
     "execution_count": 13,
     "metadata": {},
     "output_type": "execute_result"
    },
    {
     "data": {
      "image/png": "[encoded data removed]",
      "text/plain": [
       "<Figure size 432x288 with 1 Axes>"
      ]
     },
     "metadata": {},
     "output_type": "display_data"
    }
   ],
   "source": [
    "ax = sns.histplot(LL)\n",
    "ax.set_xlim(-5000., -1000.)\n",
    "ax.set_ylim(0., 200.)"
   ]
  },
  {
   "cell_type": "markdown",
   "metadata": {},
   "source": [
    "# Show one"
   ]
  },
  {
   "cell_type": "markdown",
   "metadata": {},
   "source": [
    "## Aim for -4000"
   ]
  },
  {
   "cell_type": "code",
   "execution_count": 16,
   "metadata": {},
   "outputs": [
    {
     "data": {
      "text/plain": [
       "219001"
      ]
     },
     "execution_count": 16,
     "metadata": {},
     "output_type": "execute_result"
    }
   ],
   "source": [
    "i4000 = np.argmin(np.abs(LL+4000))\n",
    "i4000"
   ]
  },
  {
   "cell_type": "code",
   "execution_count": 17,
   "metadata": {},
   "outputs": [
    {
     "data": {
      "text/plain": [
       "lat                    -29.9971\n",
       "lon                     74.8854\n",
       "row                        6249\n",
       "col                        5386\n",
       "datetime    2011-11-30 00:00:00\n",
       "Name: 219001, dtype: object"
      ]
     },
     "execution_count": 17,
     "metadata": {},
     "output_type": "execute_result"
    }
   ],
   "source": [
    "llc_table.iloc[i4000]"
   ]
  },
  {
   "cell_type": "markdown",
   "metadata": {},
   "source": [
    "## PreProc"
   ]
  },
  {
   "cell_type": "code",
   "execution_count": 19,
   "metadata": {},
   "outputs": [],
   "source": [
    "pp_file = 's3://llc/PreProc/LLC_uniform_preproc_test.h5'"
   ]
  },
  {
   "cell_type": "code",
   "execution_count": 20,
   "metadata": {},
   "outputs": [],
   "source": [
    "with ulmo_io.open(pp_file, 'rb') as f:\n",
    "    pp_hf = h5py.File(f, 'r')"
   ]
  },
  {
   "cell_type": "code",
   "execution_count": 22,
   "metadata": {},
   "outputs": [
    {
     "data": {
      "text/plain": [
       "(781662, 1, 64, 64)"
      ]
     },
     "execution_count": 22,
     "metadata": {},
     "output_type": "execute_result"
    }
   ],
   "source": [
    "pp_hf['valid'].shape"
   ]
  },
  {
   "cell_type": "code",
   "execution_count": 23,
   "metadata": {},
   "outputs": [],
   "source": [
    "img = pp_hf['valid'][i4000, 0, ...]"
   ]
  },
  {
   "cell_type": "markdown",
   "metadata": {},
   "source": [
    "## Show"
   ]
  },
  {
   "cell_type": "code",
   "execution_count": 29,
   "metadata": {},
   "outputs": [
    {
     "data": {
      "text/plain": [
       "<AxesSubplot:>"
      ]
     },
     "execution_count": 29,
     "metadata": {},
     "output_type": "execute_result"
    },
    {
     "data": {
      "image/png": "[encoded data removed]",
      "text/plain": [
       "<Figure size 432x288 with 1 Axes>"
      ]
     },
     "metadata": {},
     "output_type": "display_data"
    }
   ],
   "source": [
    "pal, cm = plotting.load_palette()\n",
    "sns.heatmap(img, xticklabels=[], yticklabels=[], cmap=cm,\n",
    "             cbar=False)"
   ]
  },
  {
   "cell_type": "code",
   "execution_count": null,
   "metadata": {},
   "outputs": [],
   "source": []
  }
 ],
 "metadata": {
  "kernelspec": {
   "display_name": "Python 3",
   "language": "python",
   "name": "python3"
  },
  "language_info": {
   "codemirror_mode": {
    "name": "ipython",
    "version": 3
   },
   "file_extension": ".py",
   "mimetype": "text/x-python",
   "name": "python",
   "nbconvert_exporter": "python",
   "pygments_lexer": "ipython3",
   "version": "3.7.8"
  }
 },
 "nbformat": 4,
 "nbformat_minor": 4
}
