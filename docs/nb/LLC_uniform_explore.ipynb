{
 "cells": [
  {
   "cell_type": "code",
   "execution_count": 1,
   "id": "57246b5f-325a-4489-802e-8b81441249c4",
   "metadata": {},
   "outputs": [],
   "source": [
    "# imports\n",
    "from importlib import reload\n",
    "\n",
    "import os # a module to interact with the operating system\n",
    "os.environ[\"ENDPOINT_URL\"]=\"http://rook-ceph-rgw-nautiluss3.rook\"\n",
    "import numpy as np\n",
    "\n",
    "import pandas as pd\n",
    "import xarray\n",
    "import h5py\n",
    "#import healpy as hp\n",
    "import time\n",
    "\n",
    "import cartopy.crs as ccrs\n",
    "from cartopy.mpl.gridliner import LONGITUDE_FORMATTER, LATITUDE_FORMATTER\n",
    "\n",
    "from matplotlib import pyplot as plt\n",
    "import seaborn as sns\n",
    "import scipy.stats as stats\n",
    "\n",
    "from ulmo import io as ulmo_io\n",
    "from ulmo import plotting\n",
    "from ulmo.llc import io as llc_io\n",
    "from ulmo.llc import plotting as llc_plotting\n",
    "\n",
    "from ulmo.utils import image_utils\n",
    "from ulmo.analysis import figures as ulmo_figs\n",
    "from ulmo.plotting import plotting as ulmo_plotting\n",
    "from ulmo.analysis import spatial_plots as sp"
   ]
  },
  {
   "cell_type": "markdown",
   "id": "02514d93-690a-4c75-a0a4-d38f438634aa",
   "metadata": {},
   "source": [
    "# Load table"
   ]
  },
  {
   "cell_type": "code",
   "execution_count": 2,
   "id": "37bf755b-bd25-420a-a35c-6bf87c850eb1",
   "metadata": {},
   "outputs": [
    {
     "name": "stdout",
     "output_type": "stream",
     "text": [
      "Read main table: s3://llc/Tables/test_uniform_r0.5_test.feather\n"
     ]
    },
    {
     "data": {
      "text/html": [
       "<div>\n",
       "<style scoped>\n",
       "    .dataframe tbody tr th:only-of-type {\n",
       "        vertical-align: middle;\n",
       "    }\n",
       "\n",
       "    .dataframe tbody tr th {\n",
       "        vertical-align: top;\n",
       "    }\n",
       "\n",
       "    .dataframe thead th {\n",
       "        text-align: right;\n",
       "    }\n",
       "</style>\n",
       "<table border=\"1\" class=\"dataframe\">\n",
       "  <thead>\n",
       "    <tr style=\"text-align: right;\">\n",
       "      <th></th>\n",
       "      <th>lat</th>\n",
       "      <th>lon</th>\n",
       "      <th>row</th>\n",
       "      <th>col</th>\n",
       "      <th>datetime</th>\n",
       "      <th>LLC_file</th>\n",
       "      <th>pp_file</th>\n",
       "      <th>pp_root</th>\n",
       "      <th>field_size</th>\n",
       "      <th>mean_temperature</th>\n",
       "      <th>...</th>\n",
       "      <th>T10</th>\n",
       "      <th>pp_idx</th>\n",
       "      <th>pp_type</th>\n",
       "      <th>LL</th>\n",
       "      <th>U_mean</th>\n",
       "      <th>V_mean</th>\n",
       "      <th>U_rms</th>\n",
       "      <th>V_rms</th>\n",
       "      <th>UV_mean</th>\n",
       "      <th>UV_rms</th>\n",
       "    </tr>\n",
       "  </thead>\n",
       "  <tbody>\n",
       "    <tr>\n",
       "      <th>0</th>\n",
       "      <td>71.725098</td>\n",
       "      <td>-177.172684</td>\n",
       "      <td>12895</td>\n",
       "      <td>10607</td>\n",
       "      <td>2011-09-30</td>\n",
       "      <td>s3://llc/ThetaUVSalt/LLC4320_2011-09-30T00_00_...</td>\n",
       "      <td>s3://llc/PreProc/LLC_uniform_test_preproc.h5</td>\n",
       "      <td>llc_std</td>\n",
       "      <td>64</td>\n",
       "      <td>-1.467546</td>\n",
       "      <td>...</td>\n",
       "      <td>-1.541000</td>\n",
       "      <td>647491</td>\n",
       "      <td>0</td>\n",
       "      <td>648.981934</td>\n",
       "      <td>-0.099179</td>\n",
       "      <td>-0.001986</td>\n",
       "      <td>0.059771</td>\n",
       "      <td>0.063255</td>\n",
       "      <td>0.141285</td>\n",
       "      <td>0.082805</td>\n",
       "    </tr>\n",
       "    <tr>\n",
       "      <th>1</th>\n",
       "      <td>71.747978</td>\n",
       "      <td>-175.380554</td>\n",
       "      <td>12895</td>\n",
       "      <td>10676</td>\n",
       "      <td>2011-09-30</td>\n",
       "      <td>s3://llc/ThetaUVSalt/LLC4320_2011-09-30T00_00_...</td>\n",
       "      <td>s3://llc/PreProc/LLC_uniform_test_preproc.h5</td>\n",
       "      <td>llc_std</td>\n",
       "      <td>64</td>\n",
       "      <td>-0.492408</td>\n",
       "      <td>...</td>\n",
       "      <td>-1.540001</td>\n",
       "      <td>384768</td>\n",
       "      <td>0</td>\n",
       "      <td>-513.771851</td>\n",
       "      <td>-0.008606</td>\n",
       "      <td>-0.042140</td>\n",
       "      <td>0.041484</td>\n",
       "      <td>0.108360</td>\n",
       "      <td>0.046431</td>\n",
       "      <td>0.037870</td>\n",
       "    </tr>\n",
       "    <tr>\n",
       "      <th>2</th>\n",
       "      <td>71.758400</td>\n",
       "      <td>-173.559555</td>\n",
       "      <td>12895</td>\n",
       "      <td>10746</td>\n",
       "      <td>2011-09-30</td>\n",
       "      <td>s3://llc/ThetaUVSalt/LLC4320_2011-09-30T00_00_...</td>\n",
       "      <td>s3://llc/PreProc/LLC_uniform_test_preproc.h5</td>\n",
       "      <td>llc_std</td>\n",
       "      <td>64</td>\n",
       "      <td>3.271719</td>\n",
       "      <td>...</td>\n",
       "      <td>2.540999</td>\n",
       "      <td>283882</td>\n",
       "      <td>0</td>\n",
       "      <td>345.448669</td>\n",
       "      <td>0.070156</td>\n",
       "      <td>-0.045817</td>\n",
       "      <td>0.022577</td>\n",
       "      <td>0.044823</td>\n",
       "      <td>0.099820</td>\n",
       "      <td>0.029986</td>\n",
       "    </tr>\n",
       "    <tr>\n",
       "      <th>3</th>\n",
       "      <td>71.755905</td>\n",
       "      <td>-171.737854</td>\n",
       "      <td>12895</td>\n",
       "      <td>10816</td>\n",
       "      <td>2011-09-30</td>\n",
       "      <td>s3://llc/ThetaUVSalt/LLC4320_2011-09-30T00_00_...</td>\n",
       "      <td>s3://llc/PreProc/LLC_uniform_test_preproc.h5</td>\n",
       "      <td>llc_std</td>\n",
       "      <td>64</td>\n",
       "      <td>2.945127</td>\n",
       "      <td>...</td>\n",
       "      <td>2.229000</td>\n",
       "      <td>613023</td>\n",
       "      <td>0</td>\n",
       "      <td>169.709839</td>\n",
       "      <td>0.081717</td>\n",
       "      <td>-0.010355</td>\n",
       "      <td>0.024675</td>\n",
       "      <td>0.039160</td>\n",
       "      <td>0.115622</td>\n",
       "      <td>0.034708</td>\n",
       "    </tr>\n",
       "    <tr>\n",
       "      <th>4</th>\n",
       "      <td>71.740822</td>\n",
       "      <td>-169.943695</td>\n",
       "      <td>12895</td>\n",
       "      <td>10885</td>\n",
       "      <td>2011-09-30</td>\n",
       "      <td>s3://llc/ThetaUVSalt/LLC4320_2011-09-30T00_00_...</td>\n",
       "      <td>s3://llc/PreProc/LLC_uniform_test_preproc.h5</td>\n",
       "      <td>llc_std</td>\n",
       "      <td>64</td>\n",
       "      <td>2.364319</td>\n",
       "      <td>...</td>\n",
       "      <td>1.891000</td>\n",
       "      <td>537161</td>\n",
       "      <td>0</td>\n",
       "      <td>349.981262</td>\n",
       "      <td>0.039346</td>\n",
       "      <td>0.019852</td>\n",
       "      <td>0.023803</td>\n",
       "      <td>0.031211</td>\n",
       "      <td>0.057416</td>\n",
       "      <td>0.030541</td>\n",
       "    </tr>\n",
       "  </tbody>\n",
       "</table>\n",
       "<p>5 rows × 23 columns</p>\n",
       "</div>"
      ],
      "text/plain": [
       "         lat         lon    row    col   datetime  \\\n",
       "0  71.725098 -177.172684  12895  10607 2011-09-30   \n",
       "1  71.747978 -175.380554  12895  10676 2011-09-30   \n",
       "2  71.758400 -173.559555  12895  10746 2011-09-30   \n",
       "3  71.755905 -171.737854  12895  10816 2011-09-30   \n",
       "4  71.740822 -169.943695  12895  10885 2011-09-30   \n",
       "\n",
       "                                            LLC_file  \\\n",
       "0  s3://llc/ThetaUVSalt/LLC4320_2011-09-30T00_00_...   \n",
       "1  s3://llc/ThetaUVSalt/LLC4320_2011-09-30T00_00_...   \n",
       "2  s3://llc/ThetaUVSalt/LLC4320_2011-09-30T00_00_...   \n",
       "3  s3://llc/ThetaUVSalt/LLC4320_2011-09-30T00_00_...   \n",
       "4  s3://llc/ThetaUVSalt/LLC4320_2011-09-30T00_00_...   \n",
       "\n",
       "                                        pp_file  pp_root  field_size  \\\n",
       "0  s3://llc/PreProc/LLC_uniform_test_preproc.h5  llc_std          64   \n",
       "1  s3://llc/PreProc/LLC_uniform_test_preproc.h5  llc_std          64   \n",
       "2  s3://llc/PreProc/LLC_uniform_test_preproc.h5  llc_std          64   \n",
       "3  s3://llc/PreProc/LLC_uniform_test_preproc.h5  llc_std          64   \n",
       "4  s3://llc/PreProc/LLC_uniform_test_preproc.h5  llc_std          64   \n",
       "\n",
       "   mean_temperature  ...       T10  pp_idx  pp_type          LL    U_mean  \\\n",
       "0         -1.467546  ... -1.541000  647491        0  648.981934 -0.099179   \n",
       "1         -0.492408  ... -1.540001  384768        0 -513.771851 -0.008606   \n",
       "2          3.271719  ...  2.540999  283882        0  345.448669  0.070156   \n",
       "3          2.945127  ...  2.229000  613023        0  169.709839  0.081717   \n",
       "4          2.364319  ...  1.891000  537161        0  349.981262  0.039346   \n",
       "\n",
       "     V_mean     U_rms     V_rms   UV_mean    UV_rms  \n",
       "0 -0.001986  0.059771  0.063255  0.141285  0.082805  \n",
       "1 -0.042140  0.041484  0.108360  0.046431  0.037870  \n",
       "2 -0.045817  0.022577  0.044823  0.099820  0.029986  \n",
       "3 -0.010355  0.024675  0.039160  0.115622  0.034708  \n",
       "4  0.019852  0.023803  0.031211  0.057416  0.030541  \n",
       "\n",
       "[5 rows x 23 columns]"
      ]
     },
     "execution_count": 2,
     "metadata": {},
     "output_type": "execute_result"
    }
   ],
   "source": [
    "llc_uniform= ulmo_io.load_main_table( 's3://llc/Tables/test_uniform_r0.5_test.feather' )\n",
    "llc_uniform.head()"
   ]
  },
  {
   "cell_type": "code",
   "execution_count": 3,
   "id": "76d5a046-36d2-4c21-8ff7-2f8d6604ece3",
   "metadata": {},
   "outputs": [
    {
     "data": {
      "text/plain": [
       "lat                                                         71.725098\n",
       "lon                                                       -177.172684\n",
       "row                                                             12895\n",
       "col                                                             10607\n",
       "datetime                                          2011-09-30 00:00:00\n",
       "LLC_file            s3://llc/ThetaUVSalt/LLC4320_2011-09-30T00_00_...\n",
       "pp_file                  s3://llc/PreProc/LLC_uniform_test_preproc.h5\n",
       "pp_root                                                       llc_std\n",
       "field_size                                                         64\n",
       "mean_temperature                                            -1.467546\n",
       "Tmin                                                           -1.579\n",
       "Tmax                                                           -0.619\n",
       "T90                                                         -1.351001\n",
       "T10                                                            -1.541\n",
       "pp_idx                                                         647491\n",
       "pp_type                                                             0\n",
       "LL                                                         648.981934\n",
       "U_mean                                                      -0.099179\n",
       "V_mean                                                      -0.001986\n",
       "U_rms                                                        0.059771\n",
       "V_rms                                                        0.063255\n",
       "UV_mean                                                      0.141285\n",
       "UV_rms                                                       0.082805\n",
       "Name: 0, dtype: object"
      ]
     },
     "execution_count": 3,
     "metadata": {},
     "output_type": "execute_result"
    }
   ],
   "source": [
    "llc_uniform.iloc[0]"
   ]
  },
  {
   "cell_type": "markdown",
   "id": "c1d00842-490d-41b9-902c-2bfa8ece463d",
   "metadata": {},
   "source": [
    "# Upload a table to be run thru ulmo"
   ]
  },
  {
   "cell_type": "code",
   "execution_count": 4,
   "id": "7b18eb3b-c374-49f6-8f7d-6538ba8b73cb",
   "metadata": {},
   "outputs": [],
   "source": [
    "llc_noise = llc_uniform.drop( columns = 'LL')"
   ]
  },
  {
   "cell_type": "code",
   "execution_count": 5,
   "id": "5c1e06ad-65bc-4e73-b5c1-f663c4852aec",
   "metadata": {},
   "outputs": [],
   "source": [
    "llc_noise.pp_file = 's3://llc/PreProc/LLC_uniform_viirs_test_preproc.h5'"
   ]
  },
  {
   "cell_type": "code",
   "execution_count": 6,
   "id": "49fd477a-d045-4aa0-873f-7f51e4f5583a",
   "metadata": {},
   "outputs": [
    {
     "name": "stdout",
     "output_type": "stream",
     "text": [
      "Wrote Analysis Table: s3://llc/Tables/LLC_uniform_viirs_noise.parquet\n"
     ]
    }
   ],
   "source": [
    "ulmo_io.write_main_table(llc_noise, 's3://llc/Tables/LLC_uniform_viirs_noise.parquet')"
   ]
  },
  {
   "cell_type": "code",
   "execution_count": 7,
   "id": "e11dabe6-a978-4eb8-acc0-c8c8ab1c9cb1",
   "metadata": {},
   "outputs": [],
   "source": [
    "llc_noise.pp_file = 's3://llc/PreProc/LLC_uniform_modis_test_preproc.h5'"
   ]
  },
  {
   "cell_type": "code",
   "execution_count": 8,
   "id": "e15563e3-3b38-4092-a564-dbb2f7677157",
   "metadata": {},
   "outputs": [
    {
     "name": "stdout",
     "output_type": "stream",
     "text": [
      "Wrote Analysis Table: s3://llc/Tables/LLC_uniform_modis_noise.parquet\n"
     ]
    }
   ],
   "source": [
    "ulmo_io.write_main_table(llc_noise, 's3://llc/Tables/LLC_uniform_modis_noise.parquet')"
   ]
  },
  {
   "cell_type": "markdown",
   "id": "bf9f1a08-1336-4a7e-91fa-820259ed6f2d",
   "metadata": {},
   "source": [
    "# Load the table that was run & add the LL values"
   ]
  },
  {
   "cell_type": "code",
   "execution_count": 11,
   "id": "65681587-c64b-4c65-aa7f-995af6c6c967",
   "metadata": {},
   "outputs": [
    {
     "name": "stdout",
     "output_type": "stream",
     "text": [
      "Read main table: s3://llc/Tables/LLC_uniform_viirs_noise.parquet\n"
     ]
    }
   ],
   "source": [
    "llc_viirs= ulmo_io.load_main_table('s3://llc/Tables/LLC_uniform_viirs_noise.parquet')"
   ]
  },
  {
   "cell_type": "code",
   "execution_count": 12,
   "id": "ab576610-ef9f-43bd-8060-a885b7b3da44",
   "metadata": {},
   "outputs": [],
   "source": [
    "with ulmo_io.open( 's3://llc/Evaluations/LLC_uniform_viirs_test_log_prob.h5', 'rb') as f: \n",
    "    pp_hf = h5py.File(f, 'r')\n",
    "    data = pp_hf['valid'][()]\n",
    "    pp_hf.close()"
   ]
  },
  {
   "cell_type": "code",
   "execution_count": 14,
   "id": "14a52c1b-8704-4602-8aa1-60a10c37434b",
   "metadata": {},
   "outputs": [
    {
     "data": {
      "text/plain": [
       "Int64Index([ 52943, 488840, 150082, 113911, 735234, 201829, 448577, 520838,\n",
       "            105698, 379685,\n",
       "            ...\n",
       "            334797, 121100, 294876, 130650, 322832, 124765, 637911, 611397,\n",
       "            747596, 318725],\n",
       "           dtype='int64', length=781662)"
      ]
     },
     "execution_count": 14,
     "metadata": {},
     "output_type": "execute_result"
    }
   ],
   "source": [
    "order = llc_viirs.sort_values('pp_idx').index\n",
    "order"
   ]
  },
  {
   "cell_type": "code",
   "execution_count": 15,
   "id": "5d5cc7c1-1643-4f38-85e0-5283af47aaf7",
   "metadata": {},
   "outputs": [
    {
     "data": {
      "text/plain": [
       "52943      567.220703\n",
       "488840    -305.529907\n",
       "150082     545.560913\n",
       "113911     292.379089\n",
       "735234     445.446533\n",
       "             ...     \n",
       "124765    1053.924316\n",
       "637911     228.411438\n",
       "611397     152.105103\n",
       "747596     156.784668\n",
       "318725    1011.207153\n",
       "Length: 781662, dtype: float32"
      ]
     },
     "execution_count": 15,
     "metadata": {},
     "output_type": "execute_result"
    }
   ],
   "source": [
    "LL_values = pd.Series( data=data, index=order)\n",
    "LL_values"
   ]
  },
  {
   "cell_type": "code",
   "execution_count": 16,
   "id": "89500e0d-59f4-4809-aac7-607c3cbe6bb2",
   "metadata": {},
   "outputs": [
    {
     "data": {
      "text/html": [
       "<div>\n",
       "<style scoped>\n",
       "    .dataframe tbody tr th:only-of-type {\n",
       "        vertical-align: middle;\n",
       "    }\n",
       "\n",
       "    .dataframe tbody tr th {\n",
       "        vertical-align: top;\n",
       "    }\n",
       "\n",
       "    .dataframe thead th {\n",
       "        text-align: right;\n",
       "    }\n",
       "</style>\n",
       "<table border=\"1\" class=\"dataframe\">\n",
       "  <thead>\n",
       "    <tr style=\"text-align: right;\">\n",
       "      <th></th>\n",
       "      <th>lat</th>\n",
       "      <th>lon</th>\n",
       "      <th>row</th>\n",
       "      <th>col</th>\n",
       "      <th>datetime</th>\n",
       "      <th>LLC_file</th>\n",
       "      <th>pp_file</th>\n",
       "      <th>pp_root</th>\n",
       "      <th>field_size</th>\n",
       "      <th>mean_temperature</th>\n",
       "      <th>...</th>\n",
       "      <th>T10</th>\n",
       "      <th>pp_idx</th>\n",
       "      <th>pp_type</th>\n",
       "      <th>U_mean</th>\n",
       "      <th>V_mean</th>\n",
       "      <th>U_rms</th>\n",
       "      <th>V_rms</th>\n",
       "      <th>UV_mean</th>\n",
       "      <th>UV_rms</th>\n",
       "      <th>LL</th>\n",
       "    </tr>\n",
       "  </thead>\n",
       "  <tbody>\n",
       "    <tr>\n",
       "      <th>0</th>\n",
       "      <td>71.725098</td>\n",
       "      <td>-177.172684</td>\n",
       "      <td>12895</td>\n",
       "      <td>10607</td>\n",
       "      <td>2011-09-30</td>\n",
       "      <td>s3://llc/ThetaUVSalt/LLC4320_2011-09-30T00_00_...</td>\n",
       "      <td>s3://llc/PreProc/LLC_uniform_viirs_test_prepro...</td>\n",
       "      <td>llc_std</td>\n",
       "      <td>64</td>\n",
       "      <td>-1.467546</td>\n",
       "      <td>...</td>\n",
       "      <td>-1.541000</td>\n",
       "      <td>647491</td>\n",
       "      <td>0</td>\n",
       "      <td>-0.099179</td>\n",
       "      <td>-0.001986</td>\n",
       "      <td>0.059771</td>\n",
       "      <td>0.063255</td>\n",
       "      <td>0.141285</td>\n",
       "      <td>0.082805</td>\n",
       "      <td>642.516968</td>\n",
       "    </tr>\n",
       "    <tr>\n",
       "      <th>1</th>\n",
       "      <td>71.747978</td>\n",
       "      <td>-175.380554</td>\n",
       "      <td>12895</td>\n",
       "      <td>10676</td>\n",
       "      <td>2011-09-30</td>\n",
       "      <td>s3://llc/ThetaUVSalt/LLC4320_2011-09-30T00_00_...</td>\n",
       "      <td>s3://llc/PreProc/LLC_uniform_viirs_test_prepro...</td>\n",
       "      <td>llc_std</td>\n",
       "      <td>64</td>\n",
       "      <td>-0.492408</td>\n",
       "      <td>...</td>\n",
       "      <td>-1.540001</td>\n",
       "      <td>384768</td>\n",
       "      <td>0</td>\n",
       "      <td>-0.008606</td>\n",
       "      <td>-0.042140</td>\n",
       "      <td>0.041484</td>\n",
       "      <td>0.108360</td>\n",
       "      <td>0.046431</td>\n",
       "      <td>0.037870</td>\n",
       "      <td>-508.767731</td>\n",
       "    </tr>\n",
       "    <tr>\n",
       "      <th>2</th>\n",
       "      <td>71.758400</td>\n",
       "      <td>-173.559555</td>\n",
       "      <td>12895</td>\n",
       "      <td>10746</td>\n",
       "      <td>2011-09-30</td>\n",
       "      <td>s3://llc/ThetaUVSalt/LLC4320_2011-09-30T00_00_...</td>\n",
       "      <td>s3://llc/PreProc/LLC_uniform_viirs_test_prepro...</td>\n",
       "      <td>llc_std</td>\n",
       "      <td>64</td>\n",
       "      <td>3.271719</td>\n",
       "      <td>...</td>\n",
       "      <td>2.540999</td>\n",
       "      <td>283882</td>\n",
       "      <td>0</td>\n",
       "      <td>0.070156</td>\n",
       "      <td>-0.045817</td>\n",
       "      <td>0.022577</td>\n",
       "      <td>0.044823</td>\n",
       "      <td>0.099820</td>\n",
       "      <td>0.029986</td>\n",
       "      <td>345.613159</td>\n",
       "    </tr>\n",
       "    <tr>\n",
       "      <th>3</th>\n",
       "      <td>71.755905</td>\n",
       "      <td>-171.737854</td>\n",
       "      <td>12895</td>\n",
       "      <td>10816</td>\n",
       "      <td>2011-09-30</td>\n",
       "      <td>s3://llc/ThetaUVSalt/LLC4320_2011-09-30T00_00_...</td>\n",
       "      <td>s3://llc/PreProc/LLC_uniform_viirs_test_prepro...</td>\n",
       "      <td>llc_std</td>\n",
       "      <td>64</td>\n",
       "      <td>2.945127</td>\n",
       "      <td>...</td>\n",
       "      <td>2.229000</td>\n",
       "      <td>613023</td>\n",
       "      <td>0</td>\n",
       "      <td>0.081717</td>\n",
       "      <td>-0.010355</td>\n",
       "      <td>0.024675</td>\n",
       "      <td>0.039160</td>\n",
       "      <td>0.115622</td>\n",
       "      <td>0.034708</td>\n",
       "      <td>169.615540</td>\n",
       "    </tr>\n",
       "    <tr>\n",
       "      <th>4</th>\n",
       "      <td>71.740822</td>\n",
       "      <td>-169.943695</td>\n",
       "      <td>12895</td>\n",
       "      <td>10885</td>\n",
       "      <td>2011-09-30</td>\n",
       "      <td>s3://llc/ThetaUVSalt/LLC4320_2011-09-30T00_00_...</td>\n",
       "      <td>s3://llc/PreProc/LLC_uniform_viirs_test_prepro...</td>\n",
       "      <td>llc_std</td>\n",
       "      <td>64</td>\n",
       "      <td>2.364319</td>\n",
       "      <td>...</td>\n",
       "      <td>1.891000</td>\n",
       "      <td>537161</td>\n",
       "      <td>0</td>\n",
       "      <td>0.039346</td>\n",
       "      <td>0.019852</td>\n",
       "      <td>0.023803</td>\n",
       "      <td>0.031211</td>\n",
       "      <td>0.057416</td>\n",
       "      <td>0.030541</td>\n",
       "      <td>343.068726</td>\n",
       "    </tr>\n",
       "  </tbody>\n",
       "</table>\n",
       "<p>5 rows × 23 columns</p>\n",
       "</div>"
      ],
      "text/plain": [
       "         lat         lon    row    col   datetime  \\\n",
       "0  71.725098 -177.172684  12895  10607 2011-09-30   \n",
       "1  71.747978 -175.380554  12895  10676 2011-09-30   \n",
       "2  71.758400 -173.559555  12895  10746 2011-09-30   \n",
       "3  71.755905 -171.737854  12895  10816 2011-09-30   \n",
       "4  71.740822 -169.943695  12895  10885 2011-09-30   \n",
       "\n",
       "                                            LLC_file  \\\n",
       "0  s3://llc/ThetaUVSalt/LLC4320_2011-09-30T00_00_...   \n",
       "1  s3://llc/ThetaUVSalt/LLC4320_2011-09-30T00_00_...   \n",
       "2  s3://llc/ThetaUVSalt/LLC4320_2011-09-30T00_00_...   \n",
       "3  s3://llc/ThetaUVSalt/LLC4320_2011-09-30T00_00_...   \n",
       "4  s3://llc/ThetaUVSalt/LLC4320_2011-09-30T00_00_...   \n",
       "\n",
       "                                             pp_file  pp_root  field_size  \\\n",
       "0  s3://llc/PreProc/LLC_uniform_viirs_test_prepro...  llc_std          64   \n",
       "1  s3://llc/PreProc/LLC_uniform_viirs_test_prepro...  llc_std          64   \n",
       "2  s3://llc/PreProc/LLC_uniform_viirs_test_prepro...  llc_std          64   \n",
       "3  s3://llc/PreProc/LLC_uniform_viirs_test_prepro...  llc_std          64   \n",
       "4  s3://llc/PreProc/LLC_uniform_viirs_test_prepro...  llc_std          64   \n",
       "\n",
       "   mean_temperature  ...       T10  pp_idx  pp_type    U_mean    V_mean  \\\n",
       "0         -1.467546  ... -1.541000  647491        0 -0.099179 -0.001986   \n",
       "1         -0.492408  ... -1.540001  384768        0 -0.008606 -0.042140   \n",
       "2          3.271719  ...  2.540999  283882        0  0.070156 -0.045817   \n",
       "3          2.945127  ...  2.229000  613023        0  0.081717 -0.010355   \n",
       "4          2.364319  ...  1.891000  537161        0  0.039346  0.019852   \n",
       "\n",
       "      U_rms     V_rms   UV_mean    UV_rms          LL  \n",
       "0  0.059771  0.063255  0.141285  0.082805  642.516968  \n",
       "1  0.041484  0.108360  0.046431  0.037870 -508.767731  \n",
       "2  0.022577  0.044823  0.099820  0.029986  345.613159  \n",
       "3  0.024675  0.039160  0.115622  0.034708  169.615540  \n",
       "4  0.023803  0.031211  0.057416  0.030541  343.068726  \n",
       "\n",
       "[5 rows x 23 columns]"
      ]
     },
     "execution_count": 16,
     "metadata": {},
     "output_type": "execute_result"
    }
   ],
   "source": [
    "llc_viirs['LL'] = LL_values\n",
    "llc_viirs.head()"
   ]
  },
  {
   "cell_type": "markdown",
   "id": "6ea7c07d-fdf7-4c69-b2c7-475c1376e198",
   "metadata": {},
   "source": [
    "# Upload the finished version"
   ]
  },
  {
   "cell_type": "code",
   "execution_count": 17,
   "id": "23f89fd5-66fb-4ff4-91d2-51cea396f886",
   "metadata": {},
   "outputs": [
    {
     "name": "stdout",
     "output_type": "stream",
     "text": [
      "Wrote Analysis Table: s3://llc/Tables/LLC_uniform_viirs_noise.parquet\n"
     ]
    }
   ],
   "source": [
    "ulmo_io.write_main_table(llc_viirs, 's3://llc/Tables/LLC_uniform_viirs_noise.parquet')"
   ]
  }
 ],
 "metadata": {
  "kernelspec": {
   "display_name": "Python 3 (ipykernel)",
   "language": "python",
   "name": "python3"
  },
  "language_info": {
   "codemirror_mode": {
    "name": "ipython",
    "version": 3
   },
   "file_extension": ".py",
   "mimetype": "text/x-python",
   "name": "python",
   "nbconvert_exporter": "python",
   "pygments_lexer": "ipython3",
   "version": "3.9.10"
  }
 },
 "nbformat": 4,
 "nbformat_minor": 5
}
