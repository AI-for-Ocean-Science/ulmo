{
 "cells": [
  {
   "cell_type": "markdown",
   "id": "3c8d4bc8-d4fe-4794-bbe8-4a4e44867b29",
   "metadata": {},
   "source": [
    "# Time series of High F_S Cutouts"
   ]
  },
  {
   "cell_type": "code",
   "execution_count": 1,
   "id": "e47dd10d-a0de-4092-8465-c18b5566ae3c",
   "metadata": {
    "tags": []
   },
   "outputs": [],
   "source": [
    "# imoprts\n",
    "import os\n",
    "import numpy as np\n",
    "from importlib import reload\n",
    "\n",
    "import xmitgcm\n",
    "import xmitgcm.llcreader as llcreader\n",
    "\n",
    "import pandas\n",
    "import xarray\n",
    "\n",
    "from matplotlib import pyplot as plt\n",
    "import seaborn as sns\n",
    "\n",
    "from gsw import density\n",
    "\n",
    "from ulmo import io as ulmo_io \n",
    "from ulmo.llc import plotting as llc_plotting\n",
    "from ulmo.llc import io as llc_io\n",
    "from ulmo.plotting import plotting\n",
    "from ulmo.llc.slurp import write_xr\n",
    "from ulmo.utils import image_utils"
   ]
  },
  {
   "cell_type": "code",
   "execution_count": 2,
   "id": "be8f7a6b-e94c-4b53-8d94-e290b4c020a1",
   "metadata": {
    "tags": []
   },
   "outputs": [],
   "source": [
    "ref_rho=1025. \n",
    "g=0.0098\n",
    "dx=2."
   ]
  },
  {
   "cell_type": "markdown",
   "id": "5f64972b-e536-4441-b795-9c9fce1d94dd",
   "metadata": {},
   "source": [
    "# Load up $\\Delta T = 1-1.5$ K"
   ]
  },
  {
   "cell_type": "code",
   "execution_count": 3,
   "id": "6d890f02-9af2-4d61-8fe1-f4a616b19554",
   "metadata": {
    "tags": []
   },
   "outputs": [],
   "source": [
    "llc_file = os.path.join(os.getenv('OS_OGCM'), 'LLC', 'Nenya', 'Tables',\n",
    "                        'LLC_A_Nenya_v1_DT15.parquet')"
   ]
  },
  {
   "cell_type": "code",
   "execution_count": 4,
   "id": "8ac9e19d-d0b7-4a35-8f5d-edfd6383a3e0",
   "metadata": {
    "tags": []
   },
   "outputs": [
    {
     "name": "stdout",
     "output_type": "stream",
     "text": [
      "Read main table: /home/xavier/Projects/Oceanography/OGCM/LLC/Nenya/Tables/LLC_A_Nenya_v1_DT15.parquet\n"
     ]
    }
   ],
   "source": [
    "llc_tbl = ulmo_io.load_main_table(llc_file)"
   ]
  },
  {
   "cell_type": "code",
   "execution_count": 5,
   "id": "e77d12fd-4860-48f8-be12-c5e0540c6139",
   "metadata": {
    "tags": []
   },
   "outputs": [],
   "source": [
    "local_pp_file = os.path.join(os.getenv('OS_OGCM'), 'LLC', 'F_S', 'PreProc',\n",
    "                        'LLC_FS_preproc.h5')\n",
    "local_Fs_file = os.path.join(os.getenv('OS_OGCM'), 'LLC', 'F_S', 'PreProc',\n",
    "                        'LLC_FS_preproc_Fs.h5')"
   ]
  },
  {
   "cell_type": "markdown",
   "id": "8a69e4d7-6b41-46d9-9067-4c4fe26857e8",
   "metadata": {},
   "source": [
    "# Stick to near 4.2, 8.8"
   ]
  },
  {
   "cell_type": "code",
   "execution_count": 6,
   "id": "1402fbb6-aa86-4fd6-b184-4feff5048d46",
   "metadata": {
    "tags": []
   },
   "outputs": [],
   "source": [
    "Ucen = [4.2, 8.8]"
   ]
  },
  {
   "cell_type": "code",
   "execution_count": 7,
   "id": "5e5b45ac-9fa9-4d3e-8ea3-179cb36449b3",
   "metadata": {
    "tags": []
   },
   "outputs": [],
   "source": [
    "cutU = (np.abs(llc_tbl.US0-Ucen[0]) < 0.2) & (\n",
    "    np.abs(llc_tbl.US1-Ucen[1]) < 0.2) & np.isfinite(llc_tbl.FS_Npos)"
   ]
  },
  {
   "cell_type": "code",
   "execution_count": 8,
   "id": "bdad9342-c5e2-4a26-8ef7-4d994b2e7714",
   "metadata": {
    "tags": []
   },
   "outputs": [],
   "source": [
    "sub_tbl = llc_tbl[cutU]"
   ]
  },
  {
   "cell_type": "markdown",
   "id": "83e92946-07cb-4637-8cd0-9af4f1a69b45",
   "metadata": {},
   "source": [
    "# Highest F_S"
   ]
  },
  {
   "cell_type": "code",
   "execution_count": 9,
   "id": "4e99617e-9911-4e41-9b11-3b5cadb9b757",
   "metadata": {
    "tags": []
   },
   "outputs": [],
   "source": [
    "sub_tbl = sub_tbl.sort_values(by=['FS_Npos'], ascending=False)"
   ]
  },
  {
   "cell_type": "code",
   "execution_count": 10,
   "id": "d8a88f71-e039-413a-bd3a-6706fc33399b",
   "metadata": {
    "tags": []
   },
   "outputs": [
    {
     "data": {
      "text/html": [
       "<div>\n",
       "<style scoped>\n",
       "    .dataframe tbody tr th:only-of-type {\n",
       "        vertical-align: middle;\n",
       "    }\n",
       "\n",
       "    .dataframe tbody tr th {\n",
       "        vertical-align: top;\n",
       "    }\n",
       "\n",
       "    .dataframe thead th {\n",
       "        text-align: right;\n",
       "    }\n",
       "</style>\n",
       "<table border=\"1\" class=\"dataframe\">\n",
       "  <thead>\n",
       "    <tr style=\"text-align: right;\">\n",
       "      <th></th>\n",
       "      <th>lat</th>\n",
       "      <th>lon</th>\n",
       "      <th>row</th>\n",
       "      <th>col</th>\n",
       "      <th>datetime</th>\n",
       "      <th>filename</th>\n",
       "      <th>pp_file</th>\n",
       "      <th>pp_root</th>\n",
       "      <th>field_size</th>\n",
       "      <th>pp_idx</th>\n",
       "      <th>...</th>\n",
       "      <th>T90</th>\n",
       "      <th>T10</th>\n",
       "      <th>FS_Npos</th>\n",
       "      <th>FS_pos_sum</th>\n",
       "      <th>gradb_Npos</th>\n",
       "      <th>FS_Nneg</th>\n",
       "      <th>FS_neg_sum</th>\n",
       "      <th>US0</th>\n",
       "      <th>US1</th>\n",
       "      <th>DT</th>\n",
       "    </tr>\n",
       "  </thead>\n",
       "  <tbody>\n",
       "    <tr>\n",
       "      <th>1034354</th>\n",
       "      <td>18.842533</td>\n",
       "      <td>86.135414</td>\n",
       "      <td>8885</td>\n",
       "      <td>5926</td>\n",
       "      <td>2012-05-31</td>\n",
       "      <td>/data/Projects/Oceanography/data/LLC/ThetaUVSa...</td>\n",
       "      <td>s3://llc/PreProc/LLC_FS_preproc.h5</td>\n",
       "      <td>llc_FS</td>\n",
       "      <td>64</td>\n",
       "      <td>981248</td>\n",
       "      <td>...</td>\n",
       "      <td>30.721001</td>\n",
       "      <td>29.713001</td>\n",
       "      <td>141</td>\n",
       "      <td>2.001887e-10</td>\n",
       "      <td>1304</td>\n",
       "      <td>39.0</td>\n",
       "      <td>-1.032745e-11</td>\n",
       "      <td>4.158422</td>\n",
       "      <td>8.804583</td>\n",
       "      <td>1.007999</td>\n",
       "    </tr>\n",
       "    <tr>\n",
       "      <th>657055</th>\n",
       "      <td>18.206642</td>\n",
       "      <td>124.802086</td>\n",
       "      <td>8850</td>\n",
       "      <td>7782</td>\n",
       "      <td>2012-02-29</td>\n",
       "      <td>/data/Projects/Oceanography/data/LLC/ThetaUVSa...</td>\n",
       "      <td>s3://llc/PreProc/LLC_FS_preproc.h5</td>\n",
       "      <td>llc_FS</td>\n",
       "      <td>64</td>\n",
       "      <td>1342919</td>\n",
       "      <td>...</td>\n",
       "      <td>26.830000</td>\n",
       "      <td>25.739000</td>\n",
       "      <td>76</td>\n",
       "      <td>1.279698e-11</td>\n",
       "      <td>606</td>\n",
       "      <td>0.0</td>\n",
       "      <td>-2.251286e-12</td>\n",
       "      <td>4.045157</td>\n",
       "      <td>8.736286</td>\n",
       "      <td>1.091000</td>\n",
       "    </tr>\n",
       "    <tr>\n",
       "      <th>1462188</th>\n",
       "      <td>-22.338331</td>\n",
       "      <td>70.322914</td>\n",
       "      <td>6695</td>\n",
       "      <td>5167</td>\n",
       "      <td>2012-08-31</td>\n",
       "      <td>/data/Projects/Oceanography/data/LLC/ThetaUVSa...</td>\n",
       "      <td>s3://llc/PreProc/LLC_FS_preproc.h5</td>\n",
       "      <td>llc_FS</td>\n",
       "      <td>64</td>\n",
       "      <td>624078</td>\n",
       "      <td>...</td>\n",
       "      <td>21.769001</td>\n",
       "      <td>20.451000</td>\n",
       "      <td>64</td>\n",
       "      <td>1.085521e-11</td>\n",
       "      <td>450</td>\n",
       "      <td>1.0</td>\n",
       "      <td>-1.504702e-12</td>\n",
       "      <td>4.098127</td>\n",
       "      <td>8.727692</td>\n",
       "      <td>1.318001</td>\n",
       "    </tr>\n",
       "    <tr>\n",
       "      <th>446477</th>\n",
       "      <td>-15.713265</td>\n",
       "      <td>149.406250</td>\n",
       "      <td>7061</td>\n",
       "      <td>8963</td>\n",
       "      <td>2011-12-31</td>\n",
       "      <td>/data/Projects/Oceanography/data/LLC/ThetaUVSa...</td>\n",
       "      <td>s3://llc/PreProc/LLC_FS_preproc.h5</td>\n",
       "      <td>llc_FS</td>\n",
       "      <td>64</td>\n",
       "      <td>1291966</td>\n",
       "      <td>...</td>\n",
       "      <td>29.099001</td>\n",
       "      <td>27.831001</td>\n",
       "      <td>57</td>\n",
       "      <td>1.523174e-11</td>\n",
       "      <td>659</td>\n",
       "      <td>0.0</td>\n",
       "      <td>-4.845859e-12</td>\n",
       "      <td>4.246605</td>\n",
       "      <td>8.750668</td>\n",
       "      <td>1.268000</td>\n",
       "    </tr>\n",
       "    <tr>\n",
       "      <th>1207627</th>\n",
       "      <td>-20.106806</td>\n",
       "      <td>91.760414</td>\n",
       "      <td>6820</td>\n",
       "      <td>6196</td>\n",
       "      <td>2012-06-30</td>\n",
       "      <td>/data/Projects/Oceanography/data/LLC/ThetaUVSa...</td>\n",
       "      <td>s3://llc/PreProc/LLC_FS_preproc.h5</td>\n",
       "      <td>llc_FS</td>\n",
       "      <td>64</td>\n",
       "      <td>1223270</td>\n",
       "      <td>...</td>\n",
       "      <td>23.455002</td>\n",
       "      <td>22.177002</td>\n",
       "      <td>53</td>\n",
       "      <td>1.141819e-11</td>\n",
       "      <td>365</td>\n",
       "      <td>0.0</td>\n",
       "      <td>-6.931213e-13</td>\n",
       "      <td>4.314395</td>\n",
       "      <td>8.783664</td>\n",
       "      <td>1.278000</td>\n",
       "    </tr>\n",
       "  </tbody>\n",
       "</table>\n",
       "<p>5 rows × 24 columns</p>\n",
       "</div>"
      ],
      "text/plain": [
       "               lat         lon   row   col   datetime  \\\n",
       "1034354  18.842533   86.135414  8885  5926 2012-05-31   \n",
       "657055   18.206642  124.802086  8850  7782 2012-02-29   \n",
       "1462188 -22.338331   70.322914  6695  5167 2012-08-31   \n",
       "446477  -15.713265  149.406250  7061  8963 2011-12-31   \n",
       "1207627 -20.106806   91.760414  6820  6196 2012-06-30   \n",
       "\n",
       "                                                  filename  \\\n",
       "1034354  /data/Projects/Oceanography/data/LLC/ThetaUVSa...   \n",
       "657055   /data/Projects/Oceanography/data/LLC/ThetaUVSa...   \n",
       "1462188  /data/Projects/Oceanography/data/LLC/ThetaUVSa...   \n",
       "446477   /data/Projects/Oceanography/data/LLC/ThetaUVSa...   \n",
       "1207627  /data/Projects/Oceanography/data/LLC/ThetaUVSa...   \n",
       "\n",
       "                                    pp_file pp_root  field_size   pp_idx  ...  \\\n",
       "1034354  s3://llc/PreProc/LLC_FS_preproc.h5  llc_FS          64   981248  ...   \n",
       "657055   s3://llc/PreProc/LLC_FS_preproc.h5  llc_FS          64  1342919  ...   \n",
       "1462188  s3://llc/PreProc/LLC_FS_preproc.h5  llc_FS          64   624078  ...   \n",
       "446477   s3://llc/PreProc/LLC_FS_preproc.h5  llc_FS          64  1291966  ...   \n",
       "1207627  s3://llc/PreProc/LLC_FS_preproc.h5  llc_FS          64  1223270  ...   \n",
       "\n",
       "               T90        T10  FS_Npos    FS_pos_sum  gradb_Npos  FS_Nneg  \\\n",
       "1034354  30.721001  29.713001      141  2.001887e-10        1304     39.0   \n",
       "657055   26.830000  25.739000       76  1.279698e-11         606      0.0   \n",
       "1462188  21.769001  20.451000       64  1.085521e-11         450      1.0   \n",
       "446477   29.099001  27.831001       57  1.523174e-11         659      0.0   \n",
       "1207627  23.455002  22.177002       53  1.141819e-11         365      0.0   \n",
       "\n",
       "           FS_neg_sum       US0       US1        DT  \n",
       "1034354 -1.032745e-11  4.158422  8.804583  1.007999  \n",
       "657055  -2.251286e-12  4.045157  8.736286  1.091000  \n",
       "1462188 -1.504702e-12  4.098127  8.727692  1.318001  \n",
       "446477  -4.845859e-12  4.246605  8.750668  1.268000  \n",
       "1207627 -6.931213e-13  4.314395  8.783664  1.278000  \n",
       "\n",
       "[5 rows x 24 columns]"
      ]
     },
     "execution_count": 10,
     "metadata": {},
     "output_type": "execute_result"
    }
   ],
   "source": [
    "sub_tbl.head()"
   ]
  },
  {
   "cell_type": "markdown",
   "id": "a9d1b07f-337b-42b0-834a-51a666c52a56",
   "metadata": {},
   "source": [
    "# Look at a few"
   ]
  },
  {
   "cell_type": "code",
   "execution_count": 12,
   "id": "cef09d3c-05b4-4c65-aa0f-095381646eaf",
   "metadata": {
    "tags": []
   },
   "outputs": [],
   "source": [
    "def plot_pair(idx):\n",
    "    _, axs = plt.subplots(1,2, figsize=(10,4))\n",
    "    llc_plotting.show_cutout(sub_tbl.iloc[idx],\n",
    "                            local_file=local_pp_file, ax=axs[0])\n",
    "    llc_plotting.show_cutout(sub_tbl.iloc[idx],\n",
    "                            local_file=local_Fs_file, ax=axs[1])\n",
    "    # Print\n",
    "    print(f'U0={sub_tbl.iloc[idx].US0}, U1={sub_tbl.iloc[idx].US1}')\n",
    "    print(f'FS_Npos={sub_tbl.iloc[idx].FS_Npos}, T={sub_tbl.iloc[idx].mean_temperature}')"
   ]
  },
  {
   "cell_type": "code",
   "execution_count": 13,
   "id": "fdb4e321-4041-45af-88fb-6f75aee5f6b3",
   "metadata": {
    "tags": []
   },
   "outputs": [
    {
     "name": "stdout",
     "output_type": "stream",
     "text": [
      "U0=4.158422470092773, U1=8.804582595825195\n",
      "FS_Npos=141, T=30.32937240600586\n"
     ]
    },
    {
     "data": {
      "image/png": "[encoded data removed]",
      "text/plain": [
       "<Figure size 1000x400 with 4 Axes>"
      ]
     },
     "metadata": {},
     "output_type": "display_data"
    }
   ],
   "source": [
    "plot_pair(0)"
   ]
  },
  {
   "cell_type": "code",
   "execution_count": 15,
   "id": "d697bb74-4f92-4436-90fd-c74503906cdc",
   "metadata": {
    "tags": []
   },
   "outputs": [
    {
     "name": "stdout",
     "output_type": "stream",
     "text": [
      "U0=4.045156955718994, U1=8.736286163330078\n",
      "FS_Npos=76, T=26.296188354492188\n"
     ]
    },
    {
     "data": {
      "image/png": "[encoded data removed]",
      "text/plain": [
       "<Figure size 1000x400 with 4 Axes>"
      ]
     },
     "metadata": {},
     "output_type": "display_data"
    }
   ],
   "source": [
    "plot_pair(1)"
   ]
  },
  {
   "cell_type": "markdown",
   "id": "1ed8273a-50eb-4e6d-8b81-50a23a7088a2",
   "metadata": {},
   "source": [
    "# Grab the LLC data"
   ]
  },
  {
   "cell_type": "code",
   "execution_count": 13,
   "id": "20164e59-88e8-40a8-89c7-e3df06d3b1d2",
   "metadata": {
    "tags": []
   },
   "outputs": [
    {
     "data": {
      "text/plain": [
       "lat                                                         18.206642\n",
       "lon                                                        124.802086\n",
       "row                                                              8850\n",
       "col                                                              7782\n",
       "datetime                                          2012-02-29 00:00:00\n",
       "filename            /data/Projects/Oceanography/data/LLC/ThetaUVSa...\n",
       "pp_file                            s3://llc/PreProc/LLC_FS_preproc.h5\n",
       "pp_root                                                        llc_FS\n",
       "field_size                                                         64\n",
       "pp_idx                                                        1342919\n",
       "pp_type                                                             0\n",
       "mean_temperature                                            26.296188\n",
       "Tmin                                                           25.475\n",
       "Tmax                                                        27.035002\n",
       "T90                                                             26.83\n",
       "T10                                                            25.739\n",
       "FS_Npos                                                            76\n",
       "FS_pos_sum                                                        0.0\n",
       "gradb_Npos                                                        606\n",
       "FS_Nneg                                                           0.0\n",
       "FS_neg_sum                                                       -0.0\n",
       "US0                                                          4.045157\n",
       "US1                                                          8.736286\n",
       "DT                                                              1.091\n",
       "Name: 657055, dtype: object"
      ]
     },
     "execution_count": 13,
     "metadata": {},
     "output_type": "execute_result"
    }
   ],
   "source": [
    "cutout = sub_tbl.iloc[1]\n",
    "cutout"
   ]
  },
  {
   "cell_type": "markdown",
   "id": "ead95b97-42de-4e96-92a9-8b6dc6ec186c",
   "metadata": {},
   "source": [
    "## Prep"
   ]
  },
  {
   "cell_type": "code",
   "execution_count": 23,
   "id": "c6f1893a-97dd-498d-905a-cfd7cfe99004",
   "metadata": {
    "tags": []
   },
   "outputs": [],
   "source": [
    "model = llcreader.ECCOPortalLLC4320Model()\n",
    "tstep_hr = 144 "
   ]
  },
  {
   "cell_type": "code",
   "execution_count": 26,
   "id": "a9bd5afc-f65a-4c8b-a55b-09a9359d07c6",
   "metadata": {
    "tags": []
   },
   "outputs": [],
   "source": [
    "all_var = 'Theta,U,V,W,Salt'"
   ]
  },
  {
   "cell_type": "code",
   "execution_count": 30,
   "id": "804cdbb4-72a5-4b5e-9813-03f10cfda6d6",
   "metadata": {
    "tags": []
   },
   "outputs": [],
   "source": [
    "iter_step = tstep_hr*1\n",
    "ds = model.get_dataset(varnames=all_var.split(','),\n",
    "                           k_levels=[0], type='latlon',\n",
    "                           iter_step=iter_step)\n",
    "tsize = ds.time.size"
   ]
  },
  {
   "cell_type": "code",
   "execution_count": 31,
   "id": "23161780-d95b-4c90-b5b4-a91378f20da5",
   "metadata": {
    "tags": []
   },
   "outputs": [
    {
     "data": {
      "text/html": [
       "<div><svg style=\"position: absolute; width: 0; height: 0; overflow: hidden\">\n",
       "<defs>\n",
       "<symbol id=\"icon-database\" viewBox=\"0 0 32 32\">\n",
       "<path d=\"M16 0c-8.837 0-16 2.239-16 5v4c0 2.761 7.163 5 16 5s16-2.239 16-5v-4c0-2.761-7.163-5-16-5z\"></path>\n",
       "<path d=\"M16 17c-8.837 0-16-2.239-16-5v6c0 2.761 7.163 5 16 5s16-2.239 16-5v-6c0 2.761-7.163 5-16 5z\"></path>\n",
       "<path d=\"M16 26c-8.837 0-16-2.239-16-5v6c0 2.761 7.163 5 16 5s16-2.239 16-5v-6c0 2.761-7.163 5-16 5z\"></path>\n",
       "</symbol>\n",
       "<symbol id=\"icon-file-text2\" viewBox=\"0 0 32 32\">\n",
       "<path d=\"M28.681 7.159c-0.694-0.947-1.662-2.053-2.724-3.116s-2.169-2.030-3.116-2.724c-1.612-1.182-2.393-1.319-2.841-1.319h-15.5c-1.378 0-2.5 1.121-2.5 2.5v27c0 1.378 1.122 2.5 2.5 2.5h23c1.378 0 2.5-1.122 2.5-2.5v-19.5c0-0.448-0.137-1.23-1.319-2.841zM24.543 5.457c0.959 0.959 1.712 1.825 2.268 2.543h-4.811v-4.811c0.718 0.556 1.584 1.309 2.543 2.268zM28 29.5c0 0.271-0.229 0.5-0.5 0.5h-23c-0.271 0-0.5-0.229-0.5-0.5v-27c0-0.271 0.229-0.5 0.5-0.5 0 0 15.499-0 15.5 0v7c0 0.552 0.448 1 1 1h7v19.5z\"></path>\n",
       "<path d=\"M23 26h-14c-0.552 0-1-0.448-1-1s0.448-1 1-1h14c0.552 0 1 0.448 1 1s-0.448 1-1 1z\"></path>\n",
       "<path d=\"M23 22h-14c-0.552 0-1-0.448-1-1s0.448-1 1-1h14c0.552 0 1 0.448 1 1s-0.448 1-1 1z\"></path>\n",
       "<path d=\"M23 18h-14c-0.552 0-1-0.448-1-1s0.448-1 1-1h14c0.552 0 1 0.448 1 1s-0.448 1-1 1z\"></path>\n",
       "</symbol>\n",
       "</defs>\n",
       "</svg>\n",
       "<style>/* CSS stylesheet for displaying xarray objects in jupyterlab.\n",
       " *\n",
       " */\n",
       "\n",
       ":root {\n",
       "  --xr-font-color0: var(--jp-content-font-color0, rgba(0, 0, 0, 1));\n",
       "  --xr-font-color2: var(--jp-content-font-color2, rgba(0, 0, 0, 0.54));\n",
       "  --xr-font-color3: var(--jp-content-font-color3, rgba(0, 0, 0, 0.38));\n",
       "  --xr-border-color: var(--jp-border-color2, #e0e0e0);\n",
       "  --xr-disabled-color: var(--jp-layout-color3, #bdbdbd);\n",
       "  --xr-background-color: var(--jp-layout-color0, white);\n",
       "  --xr-background-color-row-even: var(--jp-layout-color1, white);\n",
       "  --xr-background-color-row-odd: var(--jp-layout-color2, #eeeeee);\n",
       "}\n",
       "\n",
       "html[theme=dark],\n",
       "body[data-theme=dark],\n",
       "body.vscode-dark {\n",
       "  --xr-font-color0: rgba(255, 255, 255, 1);\n",
       "  --xr-font-color2: rgba(255, 255, 255, 0.54);\n",
       "  --xr-font-color3: rgba(255, 255, 255, 0.38);\n",
       "  --xr-border-color: #1F1F1F;\n",
       "  --xr-disabled-color: #515151;\n",
       "  --xr-background-color: #111111;\n",
       "  --xr-background-color-row-even: #111111;\n",
       "  --xr-background-color-row-odd: #313131;\n",
       "}\n",
       "\n",
       ".xr-wrap {\n",
       "  display: block !important;\n",
       "  min-width: 300px;\n",
       "  max-width: 700px;\n",
       "}\n",
       "\n",
       ".xr-text-repr-fallback {\n",
       "  /* fallback to plain text repr when CSS is not injected (untrusted notebook) */\n",
       "  display: none;\n",
       "}\n",
       "\n",
       ".xr-header {\n",
       "  padding-top: 6px;\n",
       "  padding-bottom: 6px;\n",
       "  margin-bottom: 4px;\n",
       "  border-bottom: solid 1px var(--xr-border-color);\n",
       "}\n",
       "\n",
       ".xr-header > div,\n",
       ".xr-header > ul {\n",
       "  display: inline;\n",
       "  margin-top: 0;\n",
       "  margin-bottom: 0;\n",
       "}\n",
       "\n",
       ".xr-obj-type,\n",
       ".xr-array-name {\n",
       "  margin-left: 2px;\n",
       "  margin-right: 10px;\n",
       "}\n",
       "\n",
       ".xr-obj-type {\n",
       "  color: var(--xr-font-color2);\n",
       "}\n",
       "\n",
       ".xr-sections {\n",
       "  padding-left: 0 !important;\n",
       "  display: grid;\n",
       "  grid-template-columns: 150px auto auto 1fr 20px 20px;\n",
       "}\n",
       "\n",
       ".xr-section-item {\n",
       "  display: contents;\n",
       "}\n",
       "\n",
       ".xr-section-item input {\n",
       "  display: none;\n",
       "}\n",
       "\n",
       ".xr-section-item input + label {\n",
       "  color: var(--xr-disabled-color);\n",
       "}\n",
       "\n",
       ".xr-section-item input:enabled + label {\n",
       "  cursor: pointer;\n",
       "  color: var(--xr-font-color2);\n",
       "}\n",
       "\n",
       ".xr-section-item input:enabled + label:hover {\n",
       "  color: var(--xr-font-color0);\n",
       "}\n",
       "\n",
       ".xr-section-summary {\n",
       "  grid-column: 1;\n",
       "  color: var(--xr-font-color2);\n",
       "  font-weight: 500;\n",
       "}\n",
       "\n",
       ".xr-section-summary > span {\n",
       "  display: inline-block;\n",
       "  padding-left: 0.5em;\n",
       "}\n",
       "\n",
       ".xr-section-summary-in:disabled + label {\n",
       "  color: var(--xr-font-color2);\n",
       "}\n",
       "\n",
       ".xr-section-summary-in + label:before {\n",
       "  display: inline-block;\n",
       "  content: '►';\n",
       "  font-size: 11px;\n",
       "  width: 15px;\n",
       "  text-align: center;\n",
       "}\n",
       "\n",
       ".xr-section-summary-in:disabled + label:before {\n",
       "  color: var(--xr-disabled-color);\n",
       "}\n",
       "\n",
       ".xr-section-summary-in:checked + label:before {\n",
       "  content: '▼';\n",
       "}\n",
       "\n",
       ".xr-section-summary-in:checked + label > span {\n",
       "  display: none;\n",
       "}\n",
       "\n",
       ".xr-section-summary,\n",
       ".xr-section-inline-details {\n",
       "  padding-top: 4px;\n",
       "  padding-bottom: 4px;\n",
       "}\n",
       "\n",
       ".xr-section-inline-details {\n",
       "  grid-column: 2 / -1;\n",
       "}\n",
       "\n",
       ".xr-section-details {\n",
       "  display: none;\n",
       "  grid-column: 1 / -1;\n",
       "  margin-bottom: 5px;\n",
       "}\n",
       "\n",
       ".xr-section-summary-in:checked ~ .xr-section-details {\n",
       "  display: contents;\n",
       "}\n",
       "\n",
       ".xr-array-wrap {\n",
       "  grid-column: 1 / -1;\n",
       "  display: grid;\n",
       "  grid-template-columns: 20px auto;\n",
       "}\n",
       "\n",
       ".xr-array-wrap > label {\n",
       "  grid-column: 1;\n",
       "  vertical-align: top;\n",
       "}\n",
       "\n",
       ".xr-preview {\n",
       "  color: var(--xr-font-color3);\n",
       "}\n",
       "\n",
       ".xr-array-preview,\n",
       ".xr-array-data {\n",
       "  padding: 0 5px !important;\n",
       "  grid-column: 2;\n",
       "}\n",
       "\n",
       ".xr-array-data,\n",
       ".xr-array-in:checked ~ .xr-array-preview {\n",
       "  display: none;\n",
       "}\n",
       "\n",
       ".xr-array-in:checked ~ .xr-array-data,\n",
       ".xr-array-preview {\n",
       "  display: inline-block;\n",
       "}\n",
       "\n",
       ".xr-dim-list {\n",
       "  display: inline-block !important;\n",
       "  list-style: none;\n",
       "  padding: 0 !important;\n",
       "  margin: 0;\n",
       "}\n",
       "\n",
       ".xr-dim-list li {\n",
       "  display: inline-block;\n",
       "  padding: 0;\n",
       "  margin: 0;\n",
       "}\n",
       "\n",
       ".xr-dim-list:before {\n",
       "  content: '(';\n",
       "}\n",
       "\n",
       ".xr-dim-list:after {\n",
       "  content: ')';\n",
       "}\n",
       "\n",
       ".xr-dim-list li:not(:last-child):after {\n",
       "  content: ',';\n",
       "  padding-right: 5px;\n",
       "}\n",
       "\n",
       ".xr-has-index {\n",
       "  font-weight: bold;\n",
       "}\n",
       "\n",
       ".xr-var-list,\n",
       ".xr-var-item {\n",
       "  display: contents;\n",
       "}\n",
       "\n",
       ".xr-var-item > div,\n",
       ".xr-var-item label,\n",
       ".xr-var-item > .xr-var-name span {\n",
       "  background-color: var(--xr-background-color-row-even);\n",
       "  margin-bottom: 0;\n",
       "}\n",
       "\n",
       ".xr-var-item > .xr-var-name:hover span {\n",
       "  padding-right: 5px;\n",
       "}\n",
       "\n",
       ".xr-var-list > li:nth-child(odd) > div,\n",
       ".xr-var-list > li:nth-child(odd) > label,\n",
       ".xr-var-list > li:nth-child(odd) > .xr-var-name span {\n",
       "  background-color: var(--xr-background-color-row-odd);\n",
       "}\n",
       "\n",
       ".xr-var-name {\n",
       "  grid-column: 1;\n",
       "}\n",
       "\n",
       ".xr-var-dims {\n",
       "  grid-column: 2;\n",
       "}\n",
       "\n",
       ".xr-var-dtype {\n",
       "  grid-column: 3;\n",
       "  text-align: right;\n",
       "  color: var(--xr-font-color2);\n",
       "}\n",
       "\n",
       ".xr-var-preview {\n",
       "  grid-column: 4;\n",
       "}\n",
       "\n",
       ".xr-index-preview {\n",
       "  grid-column: 2 / 5;\n",
       "  color: var(--xr-font-color2);\n",
       "}\n",
       "\n",
       ".xr-var-name,\n",
       ".xr-var-dims,\n",
       ".xr-var-dtype,\n",
       ".xr-preview,\n",
       ".xr-attrs dt {\n",
       "  white-space: nowrap;\n",
       "  overflow: hidden;\n",
       "  text-overflow: ellipsis;\n",
       "  padding-right: 10px;\n",
       "}\n",
       "\n",
       ".xr-var-name:hover,\n",
       ".xr-var-dims:hover,\n",
       ".xr-var-dtype:hover,\n",
       ".xr-attrs dt:hover {\n",
       "  overflow: visible;\n",
       "  width: auto;\n",
       "  z-index: 1;\n",
       "}\n",
       "\n",
       ".xr-var-attrs,\n",
       ".xr-var-data,\n",
       ".xr-index-data {\n",
       "  display: none;\n",
       "  background-color: var(--xr-background-color) !important;\n",
       "  padding-bottom: 5px !important;\n",
       "}\n",
       "\n",
       ".xr-var-attrs-in:checked ~ .xr-var-attrs,\n",
       ".xr-var-data-in:checked ~ .xr-var-data,\n",
       ".xr-index-data-in:checked ~ .xr-index-data {\n",
       "  display: block;\n",
       "}\n",
       "\n",
       ".xr-var-data > table {\n",
       "  float: right;\n",
       "}\n",
       "\n",
       ".xr-var-name span,\n",
       ".xr-var-data,\n",
       ".xr-index-name div,\n",
       ".xr-index-data,\n",
       ".xr-attrs {\n",
       "  padding-left: 25px !important;\n",
       "}\n",
       "\n",
       ".xr-attrs,\n",
       ".xr-var-attrs,\n",
       ".xr-var-data,\n",
       ".xr-index-data {\n",
       "  grid-column: 1 / -1;\n",
       "}\n",
       "\n",
       "dl.xr-attrs {\n",
       "  padding: 0;\n",
       "  margin: 0;\n",
       "  display: grid;\n",
       "  grid-template-columns: 125px auto;\n",
       "}\n",
       "\n",
       ".xr-attrs dt,\n",
       ".xr-attrs dd {\n",
       "  padding: 0;\n",
       "  margin: 0;\n",
       "  float: left;\n",
       "  padding-right: 10px;\n",
       "  width: auto;\n",
       "}\n",
       "\n",
       ".xr-attrs dt {\n",
       "  font-weight: normal;\n",
       "  grid-column: 1;\n",
       "}\n",
       "\n",
       ".xr-attrs dt:hover span {\n",
       "  display: inline-block;\n",
       "  background: var(--xr-background-color);\n",
       "  padding-right: 10px;\n",
       "}\n",
       "\n",
       ".xr-attrs dd {\n",
       "  grid-column: 2;\n",
       "  white-space: pre-wrap;\n",
       "  word-break: break-all;\n",
       "}\n",
       "\n",
       ".xr-icon-database,\n",
       ".xr-icon-file-text2,\n",
       ".xr-no-icon {\n",
       "  display: inline-block;\n",
       "  vertical-align: middle;\n",
       "  width: 1em;\n",
       "  height: 1.5em !important;\n",
       "  stroke-width: 0;\n",
       "  stroke: currentColor;\n",
       "  fill: currentColor;\n",
       "}\n",
       "</style><pre class='xr-text-repr-fallback'>&lt;xarray.DataArray &#x27;time&#x27; (time: 10312)&gt;\n",
       "array([&#x27;2011-09-13T00:00:00.000000000&#x27;, &#x27;2011-09-13T01:00:00.000000000&#x27;,\n",
       "       &#x27;2011-09-13T02:00:00.000000000&#x27;, ..., &#x27;2012-11-15T13:00:00.000000000&#x27;,\n",
       "       &#x27;2012-11-15T14:00:00.000000000&#x27;, &#x27;2012-11-15T15:00:00.000000000&#x27;],\n",
       "      dtype=&#x27;datetime64[ns]&#x27;)\n",
       "Coordinates:\n",
       "  * time     (time) datetime64[ns] 2011-09-13 ... 2012-11-15T15:00:00</pre><div class='xr-wrap' style='display:none'><div class='xr-header'><div class='xr-obj-type'>xarray.DataArray</div><div class='xr-array-name'>'time'</div><ul class='xr-dim-list'><li><span class='xr-has-index'>time</span>: 10312</li></ul></div><ul class='xr-sections'><li class='xr-section-item'><div class='xr-array-wrap'><input id='section-0610e213-cef9-4fab-8c58-ba910e522073' class='xr-array-in' type='checkbox' checked><label for='section-0610e213-cef9-4fab-8c58-ba910e522073' title='Show/hide data repr'><svg class='icon xr-icon-database'><use xlink:href='#icon-database'></use></svg></label><div class='xr-array-preview xr-preview'><span>2011-09-13 2011-09-13T01:00:00 ... 2012-11-15T15:00:00</span></div><div class='xr-array-data'><pre>array([&#x27;2011-09-13T00:00:00.000000000&#x27;, &#x27;2011-09-13T01:00:00.000000000&#x27;,\n",
       "       &#x27;2011-09-13T02:00:00.000000000&#x27;, ..., &#x27;2012-11-15T13:00:00.000000000&#x27;,\n",
       "       &#x27;2012-11-15T14:00:00.000000000&#x27;, &#x27;2012-11-15T15:00:00.000000000&#x27;],\n",
       "      dtype=&#x27;datetime64[ns]&#x27;)</pre></div></div></li><li class='xr-section-item'><input id='section-51f594c5-ca5a-470d-8ca3-12ae5b867e19' class='xr-section-summary-in' type='checkbox'  checked><label for='section-51f594c5-ca5a-470d-8ca3-12ae5b867e19' class='xr-section-summary' >Coordinates: <span>(1)</span></label><div class='xr-section-inline-details'></div><div class='xr-section-details'><ul class='xr-var-list'><li class='xr-var-item'><div class='xr-var-name'><span class='xr-has-index'>time</span></div><div class='xr-var-dims'>(time)</div><div class='xr-var-dtype'>datetime64[ns]</div><div class='xr-var-preview xr-preview'>2011-09-13 ... 2012-11-15T15:00:00</div><input id='attrs-efe7c690-b89f-4af9-bf12-5ced06bf9f0c' class='xr-var-attrs-in' type='checkbox' disabled><label for='attrs-efe7c690-b89f-4af9-bf12-5ced06bf9f0c' title='Show/Hide attributes'><svg class='icon xr-icon-file-text2'><use xlink:href='#icon-file-text2'></use></svg></label><input id='data-1832a7d1-0004-42a4-9e9c-4162e884c95d' class='xr-var-data-in' type='checkbox'><label for='data-1832a7d1-0004-42a4-9e9c-4162e884c95d' title='Show/Hide data repr'><svg class='icon xr-icon-database'><use xlink:href='#icon-database'></use></svg></label><div class='xr-var-attrs'><dl class='xr-attrs'></dl></div><div class='xr-var-data'><pre>array([&#x27;2011-09-13T00:00:00.000000000&#x27;, &#x27;2011-09-13T01:00:00.000000000&#x27;,\n",
       "       &#x27;2011-09-13T02:00:00.000000000&#x27;, ..., &#x27;2012-11-15T13:00:00.000000000&#x27;,\n",
       "       &#x27;2012-11-15T14:00:00.000000000&#x27;, &#x27;2012-11-15T15:00:00.000000000&#x27;],\n",
       "      dtype=&#x27;datetime64[ns]&#x27;)</pre></div></li></ul></div></li><li class='xr-section-item'><input id='section-de47b1e4-60d9-4b8f-8541-005cbac76c84' class='xr-section-summary-in' type='checkbox'  ><label for='section-de47b1e4-60d9-4b8f-8541-005cbac76c84' class='xr-section-summary' >Indexes: <span>(1)</span></label><div class='xr-section-inline-details'></div><div class='xr-section-details'><ul class='xr-var-list'><li class='xr-var-item'><div class='xr-index-name'><div>time</div></div><div class='xr-index-preview'>PandasIndex</div><div></div><input id='index-d14ba323-333f-46bc-b077-43fe6d265af8' class='xr-index-data-in' type='checkbox'/><label for='index-d14ba323-333f-46bc-b077-43fe6d265af8' title='Show/Hide index repr'><svg class='icon xr-icon-database'><use xlink:href='#icon-database'></use></svg></label><div class='xr-index-data'><pre>PandasIndex(DatetimeIndex([&#x27;2011-09-13 00:00:00&#x27;, &#x27;2011-09-13 01:00:00&#x27;,\n",
       "               &#x27;2011-09-13 02:00:00&#x27;, &#x27;2011-09-13 03:00:00&#x27;,\n",
       "               &#x27;2011-09-13 04:00:00&#x27;, &#x27;2011-09-13 05:00:00&#x27;,\n",
       "               &#x27;2011-09-13 06:00:00&#x27;, &#x27;2011-09-13 07:00:00&#x27;,\n",
       "               &#x27;2011-09-13 08:00:00&#x27;, &#x27;2011-09-13 09:00:00&#x27;,\n",
       "               ...\n",
       "               &#x27;2012-11-15 06:00:00&#x27;, &#x27;2012-11-15 07:00:00&#x27;,\n",
       "               &#x27;2012-11-15 08:00:00&#x27;, &#x27;2012-11-15 09:00:00&#x27;,\n",
       "               &#x27;2012-11-15 10:00:00&#x27;, &#x27;2012-11-15 11:00:00&#x27;,\n",
       "               &#x27;2012-11-15 12:00:00&#x27;, &#x27;2012-11-15 13:00:00&#x27;,\n",
       "               &#x27;2012-11-15 14:00:00&#x27;, &#x27;2012-11-15 15:00:00&#x27;],\n",
       "              dtype=&#x27;datetime64[ns]&#x27;, name=&#x27;time&#x27;, length=10312, freq=None))</pre></div></li></ul></div></li><li class='xr-section-item'><input id='section-80566cb6-75a5-4f04-9b83-33449f262303' class='xr-section-summary-in' type='checkbox' disabled ><label for='section-80566cb6-75a5-4f04-9b83-33449f262303' class='xr-section-summary'  title='Expand/collapse section'>Attributes: <span>(0)</span></label><div class='xr-section-inline-details'></div><div class='xr-section-details'><dl class='xr-attrs'></dl></div></li></ul></div></div>"
      ],
      "text/plain": [
       "<xarray.DataArray 'time' (time: 10312)>\n",
       "array(['2011-09-13T00:00:00.000000000', '2011-09-13T01:00:00.000000000',\n",
       "       '2011-09-13T02:00:00.000000000', ..., '2012-11-15T13:00:00.000000000',\n",
       "       '2012-11-15T14:00:00.000000000', '2012-11-15T15:00:00.000000000'],\n",
       "      dtype='datetime64[ns]')\n",
       "Coordinates:\n",
       "  * time     (time) datetime64[ns] 2011-09-13 ... 2012-11-15T15:00:00"
      ]
     },
     "execution_count": 31,
     "metadata": {},
     "output_type": "execute_result"
    }
   ],
   "source": [
    "ds.time"
   ]
  },
  {
   "cell_type": "code",
   "execution_count": 36,
   "id": "03deb3c8-2014-48a4-87a9-6f7a8e563108",
   "metadata": {
    "tags": []
   },
   "outputs": [
    {
     "data": {
      "text/plain": [
       "4056"
      ]
     },
     "execution_count": 36,
     "metadata": {},
     "output_type": "execute_result"
    }
   ],
   "source": [
    "i_cutout = np.argmin(np.abs(pandas.to_datetime(ds.time.data) - cutout.datetime))\n",
    "i_cutout"
   ]
  },
  {
   "cell_type": "code",
   "execution_count": 37,
   "id": "063e1060-7417-457e-8419-a812e01f72d7",
   "metadata": {
    "tags": []
   },
   "outputs": [
    {
     "data": {
      "text/html": [
       "<div><svg style=\"position: absolute; width: 0; height: 0; overflow: hidden\">\n",
       "<defs>\n",
       "<symbol id=\"icon-database\" viewBox=\"0 0 32 32\">\n",
       "<path d=\"M16 0c-8.837 0-16 2.239-16 5v4c0 2.761 7.163 5 16 5s16-2.239 16-5v-4c0-2.761-7.163-5-16-5z\"></path>\n",
       "<path d=\"M16 17c-8.837 0-16-2.239-16-5v6c0 2.761 7.163 5 16 5s16-2.239 16-5v-6c0 2.761-7.163 5-16 5z\"></path>\n",
       "<path d=\"M16 26c-8.837 0-16-2.239-16-5v6c0 2.761 7.163 5 16 5s16-2.239 16-5v-6c0 2.761-7.163 5-16 5z\"></path>\n",
       "</symbol>\n",
       "<symbol id=\"icon-file-text2\" viewBox=\"0 0 32 32\">\n",
       "<path d=\"M28.681 7.159c-0.694-0.947-1.662-2.053-2.724-3.116s-2.169-2.030-3.116-2.724c-1.612-1.182-2.393-1.319-2.841-1.319h-15.5c-1.378 0-2.5 1.121-2.5 2.5v27c0 1.378 1.122 2.5 2.5 2.5h23c1.378 0 2.5-1.122 2.5-2.5v-19.5c0-0.448-0.137-1.23-1.319-2.841zM24.543 5.457c0.959 0.959 1.712 1.825 2.268 2.543h-4.811v-4.811c0.718 0.556 1.584 1.309 2.543 2.268zM28 29.5c0 0.271-0.229 0.5-0.5 0.5h-23c-0.271 0-0.5-0.229-0.5-0.5v-27c0-0.271 0.229-0.5 0.5-0.5 0 0 15.499-0 15.5 0v7c0 0.552 0.448 1 1 1h7v19.5z\"></path>\n",
       "<path d=\"M23 26h-14c-0.552 0-1-0.448-1-1s0.448-1 1-1h14c0.552 0 1 0.448 1 1s-0.448 1-1 1z\"></path>\n",
       "<path d=\"M23 22h-14c-0.552 0-1-0.448-1-1s0.448-1 1-1h14c0.552 0 1 0.448 1 1s-0.448 1-1 1z\"></path>\n",
       "<path d=\"M23 18h-14c-0.552 0-1-0.448-1-1s0.448-1 1-1h14c0.552 0 1 0.448 1 1s-0.448 1-1 1z\"></path>\n",
       "</symbol>\n",
       "</defs>\n",
       "</svg>\n",
       "<style>/* CSS stylesheet for displaying xarray objects in jupyterlab.\n",
       " *\n",
       " */\n",
       "\n",
       ":root {\n",
       "  --xr-font-color0: var(--jp-content-font-color0, rgba(0, 0, 0, 1));\n",
       "  --xr-font-color2: var(--jp-content-font-color2, rgba(0, 0, 0, 0.54));\n",
       "  --xr-font-color3: var(--jp-content-font-color3, rgba(0, 0, 0, 0.38));\n",
       "  --xr-border-color: var(--jp-border-color2, #e0e0e0);\n",
       "  --xr-disabled-color: var(--jp-layout-color3, #bdbdbd);\n",
       "  --xr-background-color: var(--jp-layout-color0, white);\n",
       "  --xr-background-color-row-even: var(--jp-layout-color1, white);\n",
       "  --xr-background-color-row-odd: var(--jp-layout-color2, #eeeeee);\n",
       "}\n",
       "\n",
       "html[theme=dark],\n",
       "body[data-theme=dark],\n",
       "body.vscode-dark {\n",
       "  --xr-font-color0: rgba(255, 255, 255, 1);\n",
       "  --xr-font-color2: rgba(255, 255, 255, 0.54);\n",
       "  --xr-font-color3: rgba(255, 255, 255, 0.38);\n",
       "  --xr-border-color: #1F1F1F;\n",
       "  --xr-disabled-color: #515151;\n",
       "  --xr-background-color: #111111;\n",
       "  --xr-background-color-row-even: #111111;\n",
       "  --xr-background-color-row-odd: #313131;\n",
       "}\n",
       "\n",
       ".xr-wrap {\n",
       "  display: block !important;\n",
       "  min-width: 300px;\n",
       "  max-width: 700px;\n",
       "}\n",
       "\n",
       ".xr-text-repr-fallback {\n",
       "  /* fallback to plain text repr when CSS is not injected (untrusted notebook) */\n",
       "  display: none;\n",
       "}\n",
       "\n",
       ".xr-header {\n",
       "  padding-top: 6px;\n",
       "  padding-bottom: 6px;\n",
       "  margin-bottom: 4px;\n",
       "  border-bottom: solid 1px var(--xr-border-color);\n",
       "}\n",
       "\n",
       ".xr-header > div,\n",
       ".xr-header > ul {\n",
       "  display: inline;\n",
       "  margin-top: 0;\n",
       "  margin-bottom: 0;\n",
       "}\n",
       "\n",
       ".xr-obj-type,\n",
       ".xr-array-name {\n",
       "  margin-left: 2px;\n",
       "  margin-right: 10px;\n",
       "}\n",
       "\n",
       ".xr-obj-type {\n",
       "  color: var(--xr-font-color2);\n",
       "}\n",
       "\n",
       ".xr-sections {\n",
       "  padding-left: 0 !important;\n",
       "  display: grid;\n",
       "  grid-template-columns: 150px auto auto 1fr 20px 20px;\n",
       "}\n",
       "\n",
       ".xr-section-item {\n",
       "  display: contents;\n",
       "}\n",
       "\n",
       ".xr-section-item input {\n",
       "  display: none;\n",
       "}\n",
       "\n",
       ".xr-section-item input + label {\n",
       "  color: var(--xr-disabled-color);\n",
       "}\n",
       "\n",
       ".xr-section-item input:enabled + label {\n",
       "  cursor: pointer;\n",
       "  color: var(--xr-font-color2);\n",
       "}\n",
       "\n",
       ".xr-section-item input:enabled + label:hover {\n",
       "  color: var(--xr-font-color0);\n",
       "}\n",
       "\n",
       ".xr-section-summary {\n",
       "  grid-column: 1;\n",
       "  color: var(--xr-font-color2);\n",
       "  font-weight: 500;\n",
       "}\n",
       "\n",
       ".xr-section-summary > span {\n",
       "  display: inline-block;\n",
       "  padding-left: 0.5em;\n",
       "}\n",
       "\n",
       ".xr-section-summary-in:disabled + label {\n",
       "  color: var(--xr-font-color2);\n",
       "}\n",
       "\n",
       ".xr-section-summary-in + label:before {\n",
       "  display: inline-block;\n",
       "  content: '►';\n",
       "  font-size: 11px;\n",
       "  width: 15px;\n",
       "  text-align: center;\n",
       "}\n",
       "\n",
       ".xr-section-summary-in:disabled + label:before {\n",
       "  color: var(--xr-disabled-color);\n",
       "}\n",
       "\n",
       ".xr-section-summary-in:checked + label:before {\n",
       "  content: '▼';\n",
       "}\n",
       "\n",
       ".xr-section-summary-in:checked + label > span {\n",
       "  display: none;\n",
       "}\n",
       "\n",
       ".xr-section-summary,\n",
       ".xr-section-inline-details {\n",
       "  padding-top: 4px;\n",
       "  padding-bottom: 4px;\n",
       "}\n",
       "\n",
       ".xr-section-inline-details {\n",
       "  grid-column: 2 / -1;\n",
       "}\n",
       "\n",
       ".xr-section-details {\n",
       "  display: none;\n",
       "  grid-column: 1 / -1;\n",
       "  margin-bottom: 5px;\n",
       "}\n",
       "\n",
       ".xr-section-summary-in:checked ~ .xr-section-details {\n",
       "  display: contents;\n",
       "}\n",
       "\n",
       ".xr-array-wrap {\n",
       "  grid-column: 1 / -1;\n",
       "  display: grid;\n",
       "  grid-template-columns: 20px auto;\n",
       "}\n",
       "\n",
       ".xr-array-wrap > label {\n",
       "  grid-column: 1;\n",
       "  vertical-align: top;\n",
       "}\n",
       "\n",
       ".xr-preview {\n",
       "  color: var(--xr-font-color3);\n",
       "}\n",
       "\n",
       ".xr-array-preview,\n",
       ".xr-array-data {\n",
       "  padding: 0 5px !important;\n",
       "  grid-column: 2;\n",
       "}\n",
       "\n",
       ".xr-array-data,\n",
       ".xr-array-in:checked ~ .xr-array-preview {\n",
       "  display: none;\n",
       "}\n",
       "\n",
       ".xr-array-in:checked ~ .xr-array-data,\n",
       ".xr-array-preview {\n",
       "  display: inline-block;\n",
       "}\n",
       "\n",
       ".xr-dim-list {\n",
       "  display: inline-block !important;\n",
       "  list-style: none;\n",
       "  padding: 0 !important;\n",
       "  margin: 0;\n",
       "}\n",
       "\n",
       ".xr-dim-list li {\n",
       "  display: inline-block;\n",
       "  padding: 0;\n",
       "  margin: 0;\n",
       "}\n",
       "\n",
       ".xr-dim-list:before {\n",
       "  content: '(';\n",
       "}\n",
       "\n",
       ".xr-dim-list:after {\n",
       "  content: ')';\n",
       "}\n",
       "\n",
       ".xr-dim-list li:not(:last-child):after {\n",
       "  content: ',';\n",
       "  padding-right: 5px;\n",
       "}\n",
       "\n",
       ".xr-has-index {\n",
       "  font-weight: bold;\n",
       "}\n",
       "\n",
       ".xr-var-list,\n",
       ".xr-var-item {\n",
       "  display: contents;\n",
       "}\n",
       "\n",
       ".xr-var-item > div,\n",
       ".xr-var-item label,\n",
       ".xr-var-item > .xr-var-name span {\n",
       "  background-color: var(--xr-background-color-row-even);\n",
       "  margin-bottom: 0;\n",
       "}\n",
       "\n",
       ".xr-var-item > .xr-var-name:hover span {\n",
       "  padding-right: 5px;\n",
       "}\n",
       "\n",
       ".xr-var-list > li:nth-child(odd) > div,\n",
       ".xr-var-list > li:nth-child(odd) > label,\n",
       ".xr-var-list > li:nth-child(odd) > .xr-var-name span {\n",
       "  background-color: var(--xr-background-color-row-odd);\n",
       "}\n",
       "\n",
       ".xr-var-name {\n",
       "  grid-column: 1;\n",
       "}\n",
       "\n",
       ".xr-var-dims {\n",
       "  grid-column: 2;\n",
       "}\n",
       "\n",
       ".xr-var-dtype {\n",
       "  grid-column: 3;\n",
       "  text-align: right;\n",
       "  color: var(--xr-font-color2);\n",
       "}\n",
       "\n",
       ".xr-var-preview {\n",
       "  grid-column: 4;\n",
       "}\n",
       "\n",
       ".xr-index-preview {\n",
       "  grid-column: 2 / 5;\n",
       "  color: var(--xr-font-color2);\n",
       "}\n",
       "\n",
       ".xr-var-name,\n",
       ".xr-var-dims,\n",
       ".xr-var-dtype,\n",
       ".xr-preview,\n",
       ".xr-attrs dt {\n",
       "  white-space: nowrap;\n",
       "  overflow: hidden;\n",
       "  text-overflow: ellipsis;\n",
       "  padding-right: 10px;\n",
       "}\n",
       "\n",
       ".xr-var-name:hover,\n",
       ".xr-var-dims:hover,\n",
       ".xr-var-dtype:hover,\n",
       ".xr-attrs dt:hover {\n",
       "  overflow: visible;\n",
       "  width: auto;\n",
       "  z-index: 1;\n",
       "}\n",
       "\n",
       ".xr-var-attrs,\n",
       ".xr-var-data,\n",
       ".xr-index-data {\n",
       "  display: none;\n",
       "  background-color: var(--xr-background-color) !important;\n",
       "  padding-bottom: 5px !important;\n",
       "}\n",
       "\n",
       ".xr-var-attrs-in:checked ~ .xr-var-attrs,\n",
       ".xr-var-data-in:checked ~ .xr-var-data,\n",
       ".xr-index-data-in:checked ~ .xr-index-data {\n",
       "  display: block;\n",
       "}\n",
       "\n",
       ".xr-var-data > table {\n",
       "  float: right;\n",
       "}\n",
       "\n",
       ".xr-var-name span,\n",
       ".xr-var-data,\n",
       ".xr-index-name div,\n",
       ".xr-index-data,\n",
       ".xr-attrs {\n",
       "  padding-left: 25px !important;\n",
       "}\n",
       "\n",
       ".xr-attrs,\n",
       ".xr-var-attrs,\n",
       ".xr-var-data,\n",
       ".xr-index-data {\n",
       "  grid-column: 1 / -1;\n",
       "}\n",
       "\n",
       "dl.xr-attrs {\n",
       "  padding: 0;\n",
       "  margin: 0;\n",
       "  display: grid;\n",
       "  grid-template-columns: 125px auto;\n",
       "}\n",
       "\n",
       ".xr-attrs dt,\n",
       ".xr-attrs dd {\n",
       "  padding: 0;\n",
       "  margin: 0;\n",
       "  float: left;\n",
       "  padding-right: 10px;\n",
       "  width: auto;\n",
       "}\n",
       "\n",
       ".xr-attrs dt {\n",
       "  font-weight: normal;\n",
       "  grid-column: 1;\n",
       "}\n",
       "\n",
       ".xr-attrs dt:hover span {\n",
       "  display: inline-block;\n",
       "  background: var(--xr-background-color);\n",
       "  padding-right: 10px;\n",
       "}\n",
       "\n",
       ".xr-attrs dd {\n",
       "  grid-column: 2;\n",
       "  white-space: pre-wrap;\n",
       "  word-break: break-all;\n",
       "}\n",
       "\n",
       ".xr-icon-database,\n",
       ".xr-icon-file-text2,\n",
       ".xr-no-icon {\n",
       "  display: inline-block;\n",
       "  vertical-align: middle;\n",
       "  width: 1em;\n",
       "  height: 1.5em !important;\n",
       "  stroke-width: 0;\n",
       "  stroke: currentColor;\n",
       "  fill: currentColor;\n",
       "}\n",
       "</style><pre class='xr-text-repr-fallback'>&lt;xarray.DataArray &#x27;time&#x27; ()&gt;\n",
       "array(&#x27;2012-02-29T00:00:00.000000000&#x27;, dtype=&#x27;datetime64[ns]&#x27;)\n",
       "Coordinates:\n",
       "    time     datetime64[ns] 2012-02-29</pre><div class='xr-wrap' style='display:none'><div class='xr-header'><div class='xr-obj-type'>xarray.DataArray</div><div class='xr-array-name'>'time'</div></div><ul class='xr-sections'><li class='xr-section-item'><div class='xr-array-wrap'><input id='section-2d12dc40-04ae-493e-9c3b-c4ad9826cd8d' class='xr-array-in' type='checkbox' checked><label for='section-2d12dc40-04ae-493e-9c3b-c4ad9826cd8d' title='Show/hide data repr'><svg class='icon xr-icon-database'><use xlink:href='#icon-database'></use></svg></label><div class='xr-array-preview xr-preview'><span>2012-02-29</span></div><div class='xr-array-data'><pre>array(&#x27;2012-02-29T00:00:00.000000000&#x27;, dtype=&#x27;datetime64[ns]&#x27;)</pre></div></div></li><li class='xr-section-item'><input id='section-f1b89b36-4b4c-4591-a364-93505ecece49' class='xr-section-summary-in' type='checkbox'  checked><label for='section-f1b89b36-4b4c-4591-a364-93505ecece49' class='xr-section-summary' >Coordinates: <span>(1)</span></label><div class='xr-section-inline-details'></div><div class='xr-section-details'><ul class='xr-var-list'><li class='xr-var-item'><div class='xr-var-name'><span>time</span></div><div class='xr-var-dims'>()</div><div class='xr-var-dtype'>datetime64[ns]</div><div class='xr-var-preview xr-preview'>2012-02-29</div><input id='attrs-8fc0c978-f338-4c57-b357-0efbc27c737c' class='xr-var-attrs-in' type='checkbox' disabled><label for='attrs-8fc0c978-f338-4c57-b357-0efbc27c737c' title='Show/Hide attributes'><svg class='icon xr-icon-file-text2'><use xlink:href='#icon-file-text2'></use></svg></label><input id='data-b28183a7-7a93-4f82-a9f3-87d0ce6d0f48' class='xr-var-data-in' type='checkbox'><label for='data-b28183a7-7a93-4f82-a9f3-87d0ce6d0f48' title='Show/Hide data repr'><svg class='icon xr-icon-database'><use xlink:href='#icon-database'></use></svg></label><div class='xr-var-attrs'><dl class='xr-attrs'></dl></div><div class='xr-var-data'><pre>array(&#x27;2012-02-29T00:00:00.000000000&#x27;, dtype=&#x27;datetime64[ns]&#x27;)</pre></div></li></ul></div></li><li class='xr-section-item'><input id='section-02c49323-3907-4526-a525-454aa363f212' class='xr-section-summary-in' type='checkbox' disabled ><label for='section-02c49323-3907-4526-a525-454aa363f212' class='xr-section-summary'  title='Expand/collapse section'>Indexes: <span>(0)</span></label><div class='xr-section-inline-details'></div><div class='xr-section-details'><ul class='xr-var-list'></ul></div></li><li class='xr-section-item'><input id='section-95e05d12-2c11-45c5-adfe-07f6220867fb' class='xr-section-summary-in' type='checkbox' disabled ><label for='section-95e05d12-2c11-45c5-adfe-07f6220867fb' class='xr-section-summary'  title='Expand/collapse section'>Attributes: <span>(0)</span></label><div class='xr-section-inline-details'></div><div class='xr-section-details'><dl class='xr-attrs'></dl></div></li></ul></div></div>"
      ],
      "text/plain": [
       "<xarray.DataArray 'time' ()>\n",
       "array('2012-02-29T00:00:00.000000000', dtype='datetime64[ns]')\n",
       "Coordinates:\n",
       "    time     datetime64[ns] 2012-02-29"
      ]
     },
     "execution_count": 37,
     "metadata": {},
     "output_type": "execute_result"
    }
   ],
   "source": [
    "ds.time[i_cutout]"
   ]
  },
  {
   "cell_type": "markdown",
   "id": "a4c57949-1cf5-4993-9a94-da29669318c6",
   "metadata": {},
   "source": [
    "## Grab -12, -1, +1, +12"
   ]
  },
  {
   "cell_type": "code",
   "execution_count": 57,
   "id": "63c561ab-ec2d-4f87-9f07-eea6a9589020",
   "metadata": {
    "tags": []
   },
   "outputs": [
    {
     "name": "stdout",
     "output_type": "stream",
     "text": [
      "Skipping: /home/xavier/Projects/Oceanography/OGCM/LLC/data/ThetaUVWSalt/LLC4320_2012-02-28T12_00_00.nc\n",
      "Skipping: /home/xavier/Projects/Oceanography/OGCM/LLC/data/ThetaUVWSalt/LLC4320_2012-02-28T23_00_00.nc\n",
      "Wrote: /home/xavier/Projects/Oceanography/OGCM/LLC/data/ThetaUVWSalt/LLC4320_2012-02-29T00_00_00.nc\n",
      "Skipping: /home/xavier/Projects/Oceanography/OGCM/LLC/data/ThetaUVWSalt/LLC4320_2012-02-29T01_00_00.nc\n",
      "Skipping: /home/xavier/Projects/Oceanography/OGCM/LLC/data/ThetaUVWSalt/LLC4320_2012-02-29T12_00_00.nc\n"
     ]
    }
   ],
   "source": [
    "for toff in [-12, -1, 0, 1, 12]:\n",
    "    ds_0 = ds.isel(time=i_cutout+toff, k=0)\n",
    "    # Outfile\n",
    "    outroot = '{:s}_{:s}.nc'.format('LLC4320',\n",
    "            str(ds_0.time.values)[:19].replace(':','_'))\n",
    "    \n",
    "    outfile = os.path.join('/home/xavier/Projects/Oceanography/OGCM/LLC/data/ThetaUVWSalt',\n",
    "                           outroot)\n",
    "    if os.path.isfile(outfile):\n",
    "        print(f\"Skipping: {outfile}\")\n",
    "        continue\n",
    "    # \n",
    "    write_xr(ds_0, outfile)\n",
    "    print(\"Wrote: {}\".format(outfile))"
   ]
  },
  {
   "cell_type": "markdown",
   "id": "93992d94-68eb-4360-9002-3f20d0e642ce",
   "metadata": {},
   "source": [
    "## Open em"
   ]
  },
  {
   "cell_type": "code",
   "execution_count": 14,
   "id": "a358066c-4d23-44b1-9f50-c8a5e3f00a8b",
   "metadata": {
    "tags": []
   },
   "outputs": [],
   "source": [
    "ds_m1 = xarray.open_dataset('/home/xavier/Projects/Oceanography/OGCM/LLC/data/ThetaUVWSalt/LLC4320_2012-02-28T23_00_00.nc')\n",
    "ds_m12 = xarray.open_dataset('/home/xavier/Projects/Oceanography/OGCM/LLC/data/ThetaUVWSalt/LLC4320_2012-02-28T12_00_00.nc')\n",
    "ds_0 = xarray.open_dataset('/home/xavier/Projects/Oceanography/OGCM/LLC/data/ThetaUVWSalt/LLC4320_2012-02-29T00_00_00.nc')\n",
    "ds_p1 = xarray.open_dataset('/home/xavier/Projects/Oceanography/OGCM/LLC/data/ThetaUVWSalt/LLC4320_2012-02-29T01_00_00.nc')\n",
    "ds_p12 = xarray.open_dataset('/home/xavier/Projects/Oceanography/OGCM/LLC/data/ThetaUVWSalt/LLC4320_2012-02-29T12_00_00.nc')"
   ]
  },
  {
   "cell_type": "code",
   "execution_count": 15,
   "id": "a12883d3-5562-4c51-96eb-344e0fc09ecc",
   "metadata": {
    "tags": []
   },
   "outputs": [],
   "source": [
    "theta_0 = ds_0.Theta.data[cutout.row:cutout.row+64, cutout.col:cutout.col+64]\n",
    "theta_m1 = ds_m1.Theta.data[cutout.row:cutout.row+64, cutout.col:cutout.col+64]\n",
    "theta_m12 = ds_m12.Theta.data[cutout.row:cutout.row+64, cutout.col:cutout.col+64]\n",
    "theta_p1 = ds_p1.Theta.data[cutout.row:cutout.row+64, cutout.col:cutout.col+64]\n",
    "theta_p12 = ds_p12.Theta.data[cutout.row:cutout.row+64, cutout.col:cutout.col+64]"
   ]
  },
  {
   "cell_type": "markdown",
   "id": "0d4ca678-e165-49db-9635-81365c2620ba",
   "metadata": {},
   "source": [
    "# Plot em"
   ]
  },
  {
   "cell_type": "code",
   "execution_count": 62,
   "id": "5bb11457-3912-4279-8850-a521d9ba5af4",
   "metadata": {
    "tags": []
   },
   "outputs": [],
   "source": [
    "def plot_two(i0, i1):\n",
    "    _, axs = plt.subplots(1,2, figsize=(10,4))\n",
    "    plotting.show_image(i0, ax=axs[0])\n",
    "    #\n",
    "    plotting.show_image(i1, ax=axs[1])\n",
    "    #\n",
    "    plt.show()"
   ]
  },
  {
   "cell_type": "markdown",
   "id": "d1f640c9-f1ea-4891-8218-32ee1b9b1b41",
   "metadata": {},
   "source": [
    "## -12 hours"
   ]
  },
  {
   "cell_type": "code",
   "execution_count": 63,
   "id": "a82415e0-48ae-46a3-82eb-0f570d64d03d",
   "metadata": {
    "tags": []
   },
   "outputs": [
    {
     "data": {
      "image/png": "[encoded data removed]",
      "text/plain": [
       "<Figure size 1000x400 with 4 Axes>"
      ]
     },
     "metadata": {},
     "output_type": "display_data"
    }
   ],
   "source": [
    "plot_two(theta_0, theta_m12)"
   ]
  },
  {
   "cell_type": "code",
   "execution_count": 64,
   "id": "395aa76f-7061-48e2-84a0-8988de50011d",
   "metadata": {
    "tags": []
   },
   "outputs": [
    {
     "data": {
      "image/png": "[encoded data removed]",
      "text/plain": [
       "<Figure size 1000x400 with 4 Axes>"
      ]
     },
     "metadata": {},
     "output_type": "display_data"
    }
   ],
   "source": [
    "plot_two(theta_0, theta_m12-theta_0)"
   ]
  },
  {
   "cell_type": "markdown",
   "id": "4bf0cd7c-551a-48f8-bfd0-f20d8060a53e",
   "metadata": {},
   "source": [
    "----"
   ]
  },
  {
   "cell_type": "markdown",
   "id": "1f9383fd-618c-4d4c-a167-cd2e946675d4",
   "metadata": {},
   "source": [
    "# Images for Peter"
   ]
  },
  {
   "cell_type": "code",
   "execution_count": 17,
   "id": "00e0e138-305b-4458-bca1-f1d70f0dc006",
   "metadata": {
    "tags": []
   },
   "outputs": [],
   "source": [
    "F_S = image_utils.grab_image(cutout, close=True,  local_file=local_Fs_file)"
   ]
  },
  {
   "cell_type": "code",
   "execution_count": 19,
   "id": "b02aefda-31bf-41a2-9a8a-5f2794cd1d2a",
   "metadata": {
    "tags": []
   },
   "outputs": [],
   "source": [
    "images = dict(m12=theta_m12,\n",
    "              m1=theta_m1,\n",
    "              zero=theta_0,\n",
    "              p1=theta_p1,\n",
    "              p12=theta_p12,\n",
    "              F_S=F_S)\n",
    "            "
   ]
  },
  {
   "cell_type": "code",
   "execution_count": 25,
   "id": "91a06790-0d64-4365-8002-d55630d9a7a9",
   "metadata": {
    "tags": []
   },
   "outputs": [],
   "source": [
    "np.savez('images_for_peter', m12=theta_m12,\n",
    "              m1=theta_m1,\n",
    "              zero=theta_0,\n",
    "              p1=theta_p1,\n",
    "              p12=theta_p12,\n",
    "              F_S=F_S)"
   ]
  },
  {
   "cell_type": "code",
   "execution_count": null,
   "id": "b3e1906d-abb1-44da-91e8-07b92633f05a",
   "metadata": {},
   "outputs": [],
   "source": []
  }
 ],
 "metadata": {
  "kernelspec": {
   "display_name": "Python 3 (ipykernel)",
   "language": "python",
   "name": "python3"
  },
  "language_info": {
   "codemirror_mode": {
    "name": "ipython",
    "version": 3
   },
   "file_extension": ".py",
   "mimetype": "text/x-python",
   "name": "python",
   "nbconvert_exporter": "python",
   "pygments_lexer": "ipython3",
   "version": "3.10.9"
  }
 },
 "nbformat": 4,
 "nbformat_minor": 5
}
