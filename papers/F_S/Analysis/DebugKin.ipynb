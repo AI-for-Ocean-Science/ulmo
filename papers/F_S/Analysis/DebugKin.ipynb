{
 "cells": [
  {
   "cell_type": "markdown",
   "id": "41f20fc4-70c9-4fba-889a-9332c1190ae6",
   "metadata": {},
   "source": [
    "# Debug Kinematics"
   ]
  },
  {
   "cell_type": "code",
   "execution_count": 28,
   "id": "e9147cd3-58e3-411e-9785-d5a3c640eab8",
   "metadata": {},
   "outputs": [],
   "source": [
    "# inputs\n",
    "from importlib import reload\n",
    "import os\n",
    "\n",
    "import numpy as np\n",
    "import xarray\n",
    "\n",
    "from gsw import density\n",
    "\n",
    "from ulmo.llc import kinematics\n",
    "from ulmo.plotting import plotting"
   ]
  },
  {
   "cell_type": "markdown",
   "id": "63b8c7be-d9db-4cc0-886a-baac736b611e",
   "metadata": {},
   "source": [
    "# Load up "
   ]
  },
  {
   "cell_type": "code",
   "execution_count": 4,
   "id": "786519fc-02e0-48d8-8907-51d6d9883d51",
   "metadata": {},
   "outputs": [],
   "source": [
    "ex_file = os.path.join(os.getenv('OS_OGCM'), 'LLC', \n",
    "                       'data', 'ThetaUVSalt', 'LLC4320_2011-09-30T00_00_00.nc')\n",
    "ds = xarray.open_dataset(ex_file)"
   ]
  },
  {
   "cell_type": "markdown",
   "id": "3bb002e3-7283-4e6f-98b0-41e611408c25",
   "metadata": {},
   "source": [
    "# Grab full images (~5Gb RAM)"
   ]
  },
  {
   "cell_type": "code",
   "execution_count": 5,
   "id": "29a154cf-4e76-46d1-a33d-049c47accd6b",
   "metadata": {},
   "outputs": [],
   "source": [
    "sst = ds.Theta.values\n",
    "U = ds.U.values\n",
    "V = ds.V.values\n",
    "Salt = ds.Salt.values"
   ]
  },
  {
   "cell_type": "markdown",
   "id": "59d57456-9ba0-447e-9054-ad90231ef865",
   "metadata": {},
   "source": [
    "# Kinematics"
   ]
  },
  {
   "cell_type": "code",
   "execution_count": 10,
   "id": "65cc192a-c089-4453-b78d-08d883809eb7",
   "metadata": {},
   "outputs": [],
   "source": [
    "FS_stat_dict = {}\n",
    "FS_stat_dict['calc_FS'] = True\n",
    "# Frontogenesis\n",
    "FS_stat_dict['Fronto_thresh'] = 2e-4 \n",
    "FS_stat_dict['Fronto_sum'] = True\n",
    "# Fronts\n",
    "FS_stat_dict['Front_thresh'] = 3e-3 "
   ]
  },
  {
   "cell_type": "markdown",
   "id": "71bd48f0-fdee-459c-9503-8758c749b295",
   "metadata": {},
   "source": [
    "# Cutout"
   ]
  },
  {
   "cell_type": "code",
   "execution_count": 7,
   "id": "337ea7ec-dd3e-49a6-b27e-43f706a131c5",
   "metadata": {},
   "outputs": [],
   "source": [
    "row=5488\n",
    "col=4357\n",
    "#\n",
    "r = row\n",
    "c = col\n",
    "dc = 64\n",
    "dr = 64"
   ]
  },
  {
   "cell_type": "code",
   "execution_count": 9,
   "id": "2d9f6bf9-7905-4507-99ef-9826b20d3bc1",
   "metadata": {},
   "outputs": [],
   "source": [
    "items = [U[r:r+dr, c:c+dc],\n",
    "         V[r:r+dr, c:c+dc],\n",
    "         sst[r:r+dr, c:c+dc],\n",
    "         Salt[r:r+dr, c:c+dc], 0]"
   ]
  },
  {
   "cell_type": "code",
   "execution_count": 11,
   "id": "8bccf0c9-cdbb-4d69-8144-a5bdb7ac2aa3",
   "metadata": {},
   "outputs": [],
   "source": [
    "idx, kin_metrics, F_s, gradb = kinematics.cutout_kin(items, FS_stat_dict, extract_kin=True)"
   ]
  },
  {
   "cell_type": "code",
   "execution_count": 13,
   "id": "cb766799-4602-4b1e-9cc9-c8bcc4fd81c0",
   "metadata": {},
   "outputs": [
    {
     "data": {
      "text/plain": [
       "{'FS_Npos': 0, 'FS_pos_sum': 1.9024609436152127e-12, 'gradb_Npos': 0}"
      ]
     },
     "execution_count": 13,
     "metadata": {},
     "output_type": "execute_result"
    }
   ],
   "source": [
    "kin_metrics"
   ]
  },
  {
   "cell_type": "code",
   "execution_count": 15,
   "id": "ea0fb1f8-59d8-410f-b77b-961ba11bd73b",
   "metadata": {},
   "outputs": [
    {
     "data": {
      "text/plain": [
       "4.766163677620193e-14"
      ]
     },
     "execution_count": 15,
     "metadata": {},
     "output_type": "execute_result"
    }
   ],
   "source": [
    "F_s.max()"
   ]
  },
  {
   "cell_type": "markdown",
   "id": "b6bb6243-c42a-4040-acc4-3069a0056834",
   "metadata": {},
   "source": [
    "# $F_S$"
   ]
  },
  {
   "cell_type": "code",
   "execution_count": 23,
   "id": "c652f3a3-4d0a-4fcf-a9ca-a8f169bdd99b",
   "metadata": {},
   "outputs": [
    {
     "name": "stdout",
     "output_type": "stream",
     "text": [
      "Python 3.10.10 | packaged by conda-forge | (main, Mar 24 2023, 20:08:06) [GCC 11.3.0]\n",
      "Type 'copyright', 'credits' or 'license' for more information\n",
      "IPython 8.13.2 -- An enhanced Interactive Python. Type '?' for help.\n",
      "\n",
      "\n",
      "196 of kinematics.py\n",
      "\n"
     ]
    },
    {
     "name": "stdin",
     "output_type": "stream",
     "text": [
      "In [1]:  dbdx.max()\n"
     ]
    },
    {
     "name": "stdout",
     "output_type": "stream",
     "text": [
      "Out[1]: 2.8627510956225066e-07\n",
      "\n"
     ]
    },
    {
     "name": "stdin",
     "output_type": "stream",
     "text": [
      "In [2]:  exit\n"
     ]
    },
    {
     "name": "stdout",
     "output_type": "stream",
     "text": [
      "\n"
     ]
    },
    {
     "data": {
      "text/plain": [
       "array([[ 1.37266911e-16,  1.91276868e-16,  5.06907256e-16, ...,\n",
       "        -2.42465499e-19, -3.63191823e-20, -2.85359548e-19],\n",
       "       [ 5.10114082e-17,  1.68315860e-16,  4.76278832e-16, ...,\n",
       "         2.07185097e-20, -3.55416810e-19, -2.07578932e-19],\n",
       "       [-2.71736505e-17, -1.23318018e-17,  6.44264851e-17, ...,\n",
       "         1.45183162e-17,  2.05139706e-18, -1.89964891e-19],\n",
       "       ...,\n",
       "       [ 2.10088275e-17,  1.48310249e-16,  1.90278288e-16, ...,\n",
       "        -2.26556874e-17, -7.61094183e-16, -6.96099412e-16],\n",
       "       [-2.23097389e-16,  2.04939338e-17,  1.65176336e-16, ...,\n",
       "        -8.76361942e-17, -5.14610025e-16, -7.43295322e-16],\n",
       "       [-6.13596202e-16, -1.66941969e-16,  8.03232006e-17, ...,\n",
       "        -1.10356771e-16, -2.61893197e-16, -3.34671993e-16]])"
      ]
     },
     "execution_count": 23,
     "metadata": {},
     "output_type": "execute_result"
    }
   ],
   "source": [
    "reload(kinematics)\n",
    "kinematics.calc_F_s(items[0], items[1], items[2], items[3])"
   ]
  },
  {
   "cell_type": "code",
   "execution_count": 30,
   "id": "79918101-7441-4378-acc3-1a1d39b45645",
   "metadata": {},
   "outputs": [],
   "source": [
    "U, V, Theta, Salt, _ = items"
   ]
  },
  {
   "cell_type": "markdown",
   "id": "40e2ed81-c7ff-422b-a1ce-d511dfc9b207",
   "metadata": {},
   "source": [
    "## Calculation"
   ]
  },
  {
   "cell_type": "code",
   "execution_count": 32,
   "id": "d1400415-2635-4fe4-b980-48acec5d3686",
   "metadata": {},
   "outputs": [],
   "source": [
    "ref_rho=1025.\n",
    "g=0.0098\n",
    "dx=2.\n",
    "\n",
    "dUdx = np.gradient(U, axis=1)\n",
    "dVdx = np.gradient(V, axis=1)\n",
    "#\n",
    "dUdy = np.gradient(U, axis=0)\n",
    "dVdy = np.gradient(V, axis=0)\n",
    "\n",
    "# Buoyancy\n",
    "rho = density.rho(Salt, Theta, np.zeros_like(Salt))\n",
    "dbdx = -1*np.gradient(g*rho/ref_rho, axis=1) / dx\n",
    "dbdy = -1*np.gradient(g*rho/ref_rho, axis=0) / dx\n",
    "\n",
    "# Terms\n",
    "F_s_x = -1 * (dUdx*dbdx + dVdx*dbdy) * dbdx \n",
    "F_s_y = -1 * (dUdy*dbdx + dVdy*dbdy) * dbdy \n",
    "\n",
    "# Finish\n",
    "F_s = F_s_x + F_s_y\n",
    "#embed(header='196 of kinematics.py')\n"
   ]
  },
  {
   "cell_type": "code",
   "execution_count": 36,
   "id": "5bfa9eb5-8f49-4101-81a6-00da156d654f",
   "metadata": {},
   "outputs": [
    {
     "data": {
      "text/plain": [
       "<Axes: >"
      ]
     },
     "execution_count": 36,
     "metadata": {},
     "output_type": "execute_result"
    },
    {
     "data": {
      "image/png": "[encoded data removed]",
      "text/plain": [
       "<Figure size 640x480 with 2 Axes>"
      ]
     },
     "metadata": {},
     "output_type": "display_data"
    }
   ],
   "source": [
    "plotting.show_image(Salt)"
   ]
  },
  {
   "cell_type": "code",
   "execution_count": 35,
   "id": "54f49320-4b2b-4312-9bdf-9e72e447086f",
   "metadata": {},
   "outputs": [
    {
     "data": {
      "text/plain": [
       "<Axes: >"
      ]
     },
     "execution_count": 35,
     "metadata": {},
     "output_type": "execute_result"
    },
    {
     "data": {
      "image/png": "[encoded data removed]",
      "text/plain": [
       "<Figure size 640x480 with 2 Axes>"
      ]
     },
     "metadata": {},
     "output_type": "display_data"
    }
   ],
   "source": [
    "plotting.show_image(rho/ref_rho)"
   ]
  },
  {
   "cell_type": "code",
   "execution_count": 37,
   "id": "4d96439e-949c-4807-a03f-1d38feeaad80",
   "metadata": {},
   "outputs": [
    {
     "data": {
      "text/plain": [
       "<Axes: >"
      ]
     },
     "execution_count": 37,
     "metadata": {},
     "output_type": "execute_result"
    },
    {
     "data": {
      "image/png": "[encoded data removed]",
      "text/plain": [
       "<Figure size 640x480 with 2 Axes>"
      ]
     },
     "metadata": {},
     "output_type": "display_data"
    }
   ],
   "source": [
    "plotting.show_image(F_s)"
   ]
  },
  {
   "cell_type": "markdown",
   "id": "93b318e2-186a-49ca-ab05-3cf5a9c11b26",
   "metadata": {},
   "source": [
    "----"
   ]
  },
  {
   "cell_type": "code",
   "execution_count": 18,
   "id": "d551cc13-81bf-45f6-b248-0f50fe314a02",
   "metadata": {},
   "outputs": [
    {
     "data": {
      "text/plain": [
       "<Axes: >"
      ]
     },
     "execution_count": 18,
     "metadata": {},
     "output_type": "execute_result"
    },
    {
     "data": {
      "image/png": "[encoded data removed]",
      "text/plain": [
       "<Figure size 640x480 with 2 Axes>"
      ]
     },
     "metadata": {},
     "output_type": "display_data"
    }
   ],
   "source": [
    "plotting.show_image(items[2])"
   ]
  },
  {
   "cell_type": "code",
   "execution_count": null,
   "id": "0a39eb10-50c8-4726-85d8-018cc94241e3",
   "metadata": {},
   "outputs": [],
   "source": []
  }
 ],
 "metadata": {
  "kernelspec": {
   "display_name": "Python 3 (ipykernel)",
   "language": "python",
   "name": "python3"
  },
  "language_info": {
   "codemirror_mode": {
    "name": "ipython",
    "version": 3
   },
   "file_extension": ".py",
   "mimetype": "text/x-python",
   "name": "python",
   "nbconvert_exporter": "python",
   "pygments_lexer": "ipython3",
   "version": "3.10.10"
  }
 },
 "nbformat": 4,
 "nbformat_minor": 5
}
