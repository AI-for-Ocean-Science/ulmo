{
 "cells": [
  {
   "cell_type": "markdown",
   "metadata": {},
   "source": [
    "# Random Gallery"
   ]
  },
  {
   "cell_type": "code",
   "execution_count": 1,
   "metadata": {},
   "outputs": [],
   "source": [
    "# imports\n",
    "import numpy as np\n",
    "\n",
    "import datetime\n",
    "\n",
    "from astropy.coordinates import SkyCoord\n",
    "from astropy import units\n",
    "\n",
    "# Local\n",
    "import results"
   ]
  },
  {
   "cell_type": "markdown",
   "metadata": {},
   "source": [
    "# Load"
   ]
  },
  {
   "cell_type": "code",
   "execution_count": 2,
   "metadata": {},
   "outputs": [
    {
     "name": "stdout",
     "output_type": "stream",
     "text": [
      "Loading: /home/xavier/Projects/Oceanography/AI/OOD/Evaluations/R2010_on_2011_95clear_128x128_preproc_std_log_prob.csv\n",
      "Loading: /home/xavier/Projects/Oceanography/AI/OOD/Evaluations/R2010_on_2008_95clear_128x128_preproc_std_log_prob.csv\n",
      "Loading: /home/xavier/Projects/Oceanography/AI/OOD/Evaluations/R2010_on_2009_95clear_128x128_preproc_std_log_prob.csv\n",
      "Loading: /home/xavier/Projects/Oceanography/AI/OOD/Evaluations/R2010_on_2012_95clear_128x128_preproc_std_log_prob.csv\n",
      "NEED TO ADD IN 2010!!!\n"
     ]
    }
   ],
   "source": [
    "evals_tbl = results.load_log_prob('std')"
   ]
  },
  {
   "cell_type": "markdown",
   "metadata": {},
   "source": [
    "# Cut to Top 1000"
   ]
  },
  {
   "cell_type": "code",
   "execution_count": 3,
   "metadata": {},
   "outputs": [],
   "source": [
    "isrt = np.argsort(evals_tbl.log_likelihood)"
   ]
  },
  {
   "cell_type": "code",
   "execution_count": 4,
   "metadata": {},
   "outputs": [
    {
     "data": {
      "text/html": [
       "<div>\n",
       "<style scoped>\n",
       "    .dataframe tbody tr th:only-of-type {\n",
       "        vertical-align: middle;\n",
       "    }\n",
       "\n",
       "    .dataframe tbody tr th {\n",
       "        vertical-align: top;\n",
       "    }\n",
       "\n",
       "    .dataframe thead th {\n",
       "        text-align: right;\n",
       "    }\n",
       "</style>\n",
       "<table border=\"1\" class=\"dataframe\">\n",
       "  <thead>\n",
       "    <tr style=\"text-align: right;\">\n",
       "      <th></th>\n",
       "      <th>filename</th>\n",
       "      <th>row</th>\n",
       "      <th>column</th>\n",
       "      <th>latitude</th>\n",
       "      <th>longitude</th>\n",
       "      <th>clear_fraction</th>\n",
       "      <th>mean_temperature</th>\n",
       "      <th>Tmin</th>\n",
       "      <th>Tmax</th>\n",
       "      <th>T90</th>\n",
       "      <th>T10</th>\n",
       "      <th>log_likelihood</th>\n",
       "      <th>date</th>\n",
       "    </tr>\n",
       "  </thead>\n",
       "  <tbody>\n",
       "    <tr>\n",
       "      <th>517380</th>\n",
       "      <td>AQUA_MODIS.20120807T233508.L2.SST.nc</td>\n",
       "      <td>189</td>\n",
       "      <td>298</td>\n",
       "      <td>-40.403057</td>\n",
       "      <td>18.733803</td>\n",
       "      <td>0.049866</td>\n",
       "      <td>12.348337</td>\n",
       "      <td>9.900000</td>\n",
       "      <td>19.154999</td>\n",
       "      <td>13.770225</td>\n",
       "      <td>11.410000</td>\n",
       "      <td>-5374.4717</td>\n",
       "      <td>2012-08-07 23:35:00</td>\n",
       "    </tr>\n",
       "    <tr>\n",
       "      <th>193211</th>\n",
       "      <td>AQUA_MODIS.20120807T233508.L2.SST.nc</td>\n",
       "      <td>199</td>\n",
       "      <td>295</td>\n",
       "      <td>-40.480717</td>\n",
       "      <td>18.654596</td>\n",
       "      <td>0.049988</td>\n",
       "      <td>12.404154</td>\n",
       "      <td>9.900000</td>\n",
       "      <td>19.205000</td>\n",
       "      <td>14.535967</td>\n",
       "      <td>11.384999</td>\n",
       "      <td>-5048.6953</td>\n",
       "      <td>2012-08-07 23:35:00</td>\n",
       "    </tr>\n",
       "    <tr>\n",
       "      <th>676391</th>\n",
       "      <td>AQUA_MODIS.20080303T065506.L2.SST.nc</td>\n",
       "      <td>1118</td>\n",
       "      <td>664</td>\n",
       "      <td>34.994330</td>\n",
       "      <td>-74.410810</td>\n",
       "      <td>0.049866</td>\n",
       "      <td>22.194897</td>\n",
       "      <td>9.915000</td>\n",
       "      <td>25.109999</td>\n",
       "      <td>24.545000</td>\n",
       "      <td>20.170000</td>\n",
       "      <td>-4193.4340</td>\n",
       "      <td>2008-03-03 06:55:00</td>\n",
       "    </tr>\n",
       "    <tr>\n",
       "      <th>187070</th>\n",
       "      <td>AQUA_MODIS.20090502T234508.L2.SST.nc</td>\n",
       "      <td>891</td>\n",
       "      <td>229</td>\n",
       "      <td>-42.156464</td>\n",
       "      <td>15.301422</td>\n",
       "      <td>0.049927</td>\n",
       "      <td>17.429016</td>\n",
       "      <td>NaN</td>\n",
       "      <td>NaN</td>\n",
       "      <td>NaN</td>\n",
       "      <td>NaN</td>\n",
       "      <td>-4056.6597</td>\n",
       "      <td>2009-05-02 23:45:00</td>\n",
       "    </tr>\n",
       "    <tr>\n",
       "      <th>721916</th>\n",
       "      <td>AQUA_MODIS.20080303T065506.L2.SST.nc</td>\n",
       "      <td>1151</td>\n",
       "      <td>645</td>\n",
       "      <td>34.733830</td>\n",
       "      <td>-74.699670</td>\n",
       "      <td>0.048950</td>\n",
       "      <td>22.161898</td>\n",
       "      <td>9.309999</td>\n",
       "      <td>25.150000</td>\n",
       "      <td>24.584999</td>\n",
       "      <td>20.150000</td>\n",
       "      <td>-4009.9785</td>\n",
       "      <td>2008-03-03 06:55:00</td>\n",
       "    </tr>\n",
       "  </tbody>\n",
       "</table>\n",
       "</div>"
      ],
      "text/plain": [
       "                                    filename   row  column   latitude  \\\n",
       "517380  AQUA_MODIS.20120807T233508.L2.SST.nc   189     298 -40.403057   \n",
       "193211  AQUA_MODIS.20120807T233508.L2.SST.nc   199     295 -40.480717   \n",
       "676391  AQUA_MODIS.20080303T065506.L2.SST.nc  1118     664  34.994330   \n",
       "187070  AQUA_MODIS.20090502T234508.L2.SST.nc   891     229 -42.156464   \n",
       "721916  AQUA_MODIS.20080303T065506.L2.SST.nc  1151     645  34.733830   \n",
       "\n",
       "        longitude  clear_fraction  mean_temperature      Tmin       Tmax  \\\n",
       "517380  18.733803        0.049866         12.348337  9.900000  19.154999   \n",
       "193211  18.654596        0.049988         12.404154  9.900000  19.205000   \n",
       "676391 -74.410810        0.049866         22.194897  9.915000  25.109999   \n",
       "187070  15.301422        0.049927         17.429016       NaN        NaN   \n",
       "721916 -74.699670        0.048950         22.161898  9.309999  25.150000   \n",
       "\n",
       "              T90        T10  log_likelihood                date  \n",
       "517380  13.770225  11.410000      -5374.4717 2012-08-07 23:35:00  \n",
       "193211  14.535967  11.384999      -5048.6953 2012-08-07 23:35:00  \n",
       "676391  24.545000  20.170000      -4193.4340 2008-03-03 06:55:00  \n",
       "187070        NaN        NaN      -4056.6597 2009-05-02 23:45:00  \n",
       "721916  24.584999  20.150000      -4009.9785 2008-03-03 06:55:00  "
      ]
     },
     "execution_count": 4,
     "metadata": {},
     "output_type": "execute_result"
    }
   ],
   "source": [
    "top1000 = evals_tbl.iloc[isrt[0:1000]]\n",
    "top1000.head()"
   ]
  },
  {
   "cell_type": "markdown",
   "metadata": {},
   "source": [
    "## Coords"
   ]
  },
  {
   "cell_type": "code",
   "execution_count": 5,
   "metadata": {},
   "outputs": [],
   "source": [
    "coords = SkyCoord(b=top1000.latitude*units.deg, l=top1000.longitude*units.deg, frame='galactic')"
   ]
  },
  {
   "cell_type": "markdown",
   "metadata": {},
   "source": [
    "# Loop on year"
   ]
  },
  {
   "cell_type": "code",
   "execution_count": 7,
   "metadata": {},
   "outputs": [
    {
     "name": "stdout",
     "output_type": "stream",
     "text": [
      "Year 2008:, n_options=214\n",
      "Year 2009:, n_options=261\n",
      "171.72235886543098\n",
      "Year 2011:, n_options=302\n",
      "90.39403335366364\n",
      "Year 2012:, n_options=223\n",
      "74.20975121981954\n"
     ]
    }
   ],
   "source": [
    "dyear = 1\n",
    "used_coords = None\n",
    "for_gallery = []\n",
    "for year in [2008, 2009, 2011, 2012]:\n",
    "    # Cut on date\n",
    "    t0 = datetime.datetime(year,1,1)\n",
    "    t1 = datetime.datetime(year+dyear,1,1)\n",
    "    in_time = np.where((top1000.date >= t0) & (top1000.date < t1))[0]\n",
    "    print('Year {}:, n_options={}'.format(year, len(in_time)))\n",
    "    # Grab one\n",
    "    if used_coords is not None:\n",
    "        # Ugly loop\n",
    "        max_sep = 0*units.deg\n",
    "        all_seps = np.zeros((len(used_coords), len(in_time)))\n",
    "        for kk, ucoord in enumerate(used_coords):\n",
    "            seps = ucoord.separation(coords[in_time])\n",
    "            all_seps[kk, :] = seps.to('deg').value\n",
    "        # Minimum for each\n",
    "        min_seps = np.min(all_seps, axis=0)\n",
    "        best = np.argmax(min_seps)\n",
    "        print(np.max(min_seps))\n",
    "        for_gallery.append(in_time[best])\n",
    "        used_coords = coords[np.array(for_gallery)]\n",
    "    else:\n",
    "        # Take a random one\n",
    "        rani = np.random.randint(low=0,high=len(in_time),size=1)[0]\n",
    "        for_gallery.append(in_time[rani])\n",
    "        used_coords = coords[np.array(for_gallery)]"
   ]
  },
  {
   "cell_type": "code",
   "execution_count": 8,
   "metadata": {},
   "outputs": [
    {
     "data": {
      "text/plain": [
       "[692, 367, 428, 430]"
      ]
     },
     "execution_count": 8,
     "metadata": {},
     "output_type": "execute_result"
    }
   ],
   "source": [
    "for_gallery"
   ]
  },
  {
   "cell_type": "code",
   "execution_count": 9,
   "metadata": {},
   "outputs": [
    {
     "data": {
      "text/html": [
       "<div>\n",
       "<style scoped>\n",
       "    .dataframe tbody tr th:only-of-type {\n",
       "        vertical-align: middle;\n",
       "    }\n",
       "\n",
       "    .dataframe tbody tr th {\n",
       "        vertical-align: top;\n",
       "    }\n",
       "\n",
       "    .dataframe thead th {\n",
       "        text-align: right;\n",
       "    }\n",
       "</style>\n",
       "<table border=\"1\" class=\"dataframe\">\n",
       "  <thead>\n",
       "    <tr style=\"text-align: right;\">\n",
       "      <th></th>\n",
       "      <th>filename</th>\n",
       "      <th>row</th>\n",
       "      <th>column</th>\n",
       "      <th>latitude</th>\n",
       "      <th>longitude</th>\n",
       "      <th>clear_fraction</th>\n",
       "      <th>mean_temperature</th>\n",
       "      <th>Tmin</th>\n",
       "      <th>Tmax</th>\n",
       "      <th>T90</th>\n",
       "      <th>T10</th>\n",
       "      <th>log_likelihood</th>\n",
       "      <th>date</th>\n",
       "    </tr>\n",
       "  </thead>\n",
       "  <tbody>\n",
       "    <tr>\n",
       "      <th>513131</th>\n",
       "      <td>AQUA_MODIS.20080219T043007.L2.SST.nc</td>\n",
       "      <td>1504</td>\n",
       "      <td>780</td>\n",
       "      <td>-48.011192</td>\n",
       "      <td>-51.545025</td>\n",
       "      <td>0.049927</td>\n",
       "      <td>13.312721</td>\n",
       "      <td>8.425000</td>\n",
       "      <td>16.029999</td>\n",
       "      <td>15.580000</td>\n",
       "      <td>9.587150</td>\n",
       "      <td>-1536.7554</td>\n",
       "      <td>2008-02-19 04:30:00</td>\n",
       "    </tr>\n",
       "    <tr>\n",
       "      <th>362774</th>\n",
       "      <td>AQUA_MODIS.20090205T172508.L2.SST.nc</td>\n",
       "      <td>73</td>\n",
       "      <td>709</td>\n",
       "      <td>40.058464</td>\n",
       "      <td>131.659240</td>\n",
       "      <td>0.049927</td>\n",
       "      <td>6.172578</td>\n",
       "      <td>NaN</td>\n",
       "      <td>NaN</td>\n",
       "      <td>NaN</td>\n",
       "      <td>NaN</td>\n",
       "      <td>-1778.5741</td>\n",
       "      <td>2009-02-05 17:25:00</td>\n",
       "    </tr>\n",
       "    <tr>\n",
       "      <th>287171</th>\n",
       "      <td>AQUA_MODIS.20111107T065507.L2.SST.nc</td>\n",
       "      <td>272</td>\n",
       "      <td>997</td>\n",
       "      <td>41.254044</td>\n",
       "      <td>-67.634810</td>\n",
       "      <td>0.032776</td>\n",
       "      <td>13.444683</td>\n",
       "      <td>10.325000</td>\n",
       "      <td>23.320000</td>\n",
       "      <td>14.565000</td>\n",
       "      <td>11.905000</td>\n",
       "      <td>-1736.0500</td>\n",
       "      <td>2011-11-07 06:55:00</td>\n",
       "    </tr>\n",
       "    <tr>\n",
       "      <th>377267</th>\n",
       "      <td>AQUA_MODIS.20120727T220009.L2.SST.nc</td>\n",
       "      <td>216</td>\n",
       "      <td>231</td>\n",
       "      <td>12.943376</td>\n",
       "      <td>51.537080</td>\n",
       "      <td>0.049622</td>\n",
       "      <td>27.868130</td>\n",
       "      <td>22.734999</td>\n",
       "      <td>31.599998</td>\n",
       "      <td>30.914999</td>\n",
       "      <td>23.154999</td>\n",
       "      <td>-1734.2334</td>\n",
       "      <td>2012-07-27 22:00:00</td>\n",
       "    </tr>\n",
       "  </tbody>\n",
       "</table>\n",
       "</div>"
      ],
      "text/plain": [
       "                                    filename   row  column   latitude  \\\n",
       "513131  AQUA_MODIS.20080219T043007.L2.SST.nc  1504     780 -48.011192   \n",
       "362774  AQUA_MODIS.20090205T172508.L2.SST.nc    73     709  40.058464   \n",
       "287171  AQUA_MODIS.20111107T065507.L2.SST.nc   272     997  41.254044   \n",
       "377267  AQUA_MODIS.20120727T220009.L2.SST.nc   216     231  12.943376   \n",
       "\n",
       "         longitude  clear_fraction  mean_temperature       Tmin       Tmax  \\\n",
       "513131  -51.545025        0.049927         13.312721   8.425000  16.029999   \n",
       "362774  131.659240        0.049927          6.172578        NaN        NaN   \n",
       "287171  -67.634810        0.032776         13.444683  10.325000  23.320000   \n",
       "377267   51.537080        0.049622         27.868130  22.734999  31.599998   \n",
       "\n",
       "              T90        T10  log_likelihood                date  \n",
       "513131  15.580000   9.587150      -1536.7554 2008-02-19 04:30:00  \n",
       "362774        NaN        NaN      -1778.5741 2009-02-05 17:25:00  \n",
       "287171  14.565000  11.905000      -1736.0500 2011-11-07 06:55:00  \n",
       "377267  30.914999  23.154999      -1734.2334 2012-07-27 22:00:00  "
      ]
     },
     "execution_count": 9,
     "metadata": {},
     "output_type": "execute_result"
    }
   ],
   "source": [
    "top1000.iloc[for_gallery]"
   ]
  },
  {
   "cell_type": "code",
   "execution_count": null,
   "metadata": {},
   "outputs": [],
   "source": []
  }
 ],
 "metadata": {
  "kernelspec": {
   "display_name": "Python 3",
   "language": "python",
   "name": "python3"
  },
  "language_info": {
   "codemirror_mode": {
    "name": "ipython",
    "version": 3
   },
   "file_extension": ".py",
   "mimetype": "text/x-python",
   "name": "python",
   "nbconvert_exporter": "python",
   "pygments_lexer": "ipython3",
   "version": "3.7.6"
  }
 },
 "nbformat": 4,
 "nbformat_minor": 4
}
