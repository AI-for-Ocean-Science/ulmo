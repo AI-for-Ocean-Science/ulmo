{
 "cells": [
  {
   "cell_type": "markdown",
   "metadata": {},
   "source": [
    "# SSTa vs. $\\nabla$SST"
   ]
  },
  {
   "cell_type": "code",
   "execution_count": 1,
   "metadata": {},
   "outputs": [],
   "source": [
    "# imports\n",
    "import numpy as np\n",
    "import pandas\n",
    "\n",
    "from matplotlib import pyplot as plt\n",
    "import seaborn as sns\n",
    "\n",
    "import results"
   ]
  },
  {
   "cell_type": "markdown",
   "metadata": {},
   "source": [
    "# Load em up"
   ]
  },
  {
   "cell_type": "code",
   "execution_count": 2,
   "metadata": {},
   "outputs": [
    {
     "name": "stdout",
     "output_type": "stream",
     "text": [
      "Loading: /home/xavier/Projects/Oceanography/AI/OOD/Evaluations/R2010_on_2003_95clear_128x128_preproc_std_log_prob.csv\n",
      "Loading: /home/xavier/Projects/Oceanography/AI/OOD/Evaluations/R2010_on_2004_95clear_128x128_preproc_std_log_prob.csv\n",
      "Loading: /home/xavier/Projects/Oceanography/AI/OOD/Evaluations/R2010_on_2005_95clear_128x128_preproc_std_log_prob.csv\n",
      "Loading: /home/xavier/Projects/Oceanography/AI/OOD/Evaluations/R2010_on_2006_95clear_128x128_preproc_std_log_prob.csv\n",
      "Loading: /home/xavier/Projects/Oceanography/AI/OOD/Evaluations/R2010_on_2007_95clear_128x128_preproc_std_log_prob.csv\n",
      "Loading: /home/xavier/Projects/Oceanography/AI/OOD/Evaluations/R2010_on_2008_95clear_128x128_preproc_std_log_prob.csv\n",
      "Loading: /home/xavier/Projects/Oceanography/AI/OOD/Evaluations/R2010_on_2009_95clear_128x128_preproc_std_log_prob.csv\n",
      "Loading: /home/xavier/Projects/Oceanography/AI/OOD/Evaluations/R2010_on_2010_95clear_128x128_preproc_std_log_prob.csv\n",
      "Loading: /home/xavier/Projects/Oceanography/AI/OOD/Evaluations/R2010_on_2011_95clear_128x128_preproc_std_log_prob.csv\n",
      "Loading: /home/xavier/Projects/Oceanography/AI/OOD/Evaluations/R2010_on_2012_95clear_128x128_preproc_std_log_prob.csv\n",
      "Loading: /home/xavier/Projects/Oceanography/AI/OOD/Evaluations/R2010_on_2013_95clear_128x128_preproc_std_log_prob.csv\n",
      "Loading: /home/xavier/Projects/Oceanography/AI/OOD/Evaluations/R2010_on_2014_95clear_128x128_preproc_std_log_prob.csv\n",
      "Loading: /home/xavier/Projects/Oceanography/AI/OOD/Evaluations/R2010_on_2015_95clear_128x128_preproc_std_log_prob.csv\n",
      "Loading: /home/xavier/Projects/Oceanography/AI/OOD/Evaluations/R2010_on_2016_95clear_128x128_preproc_std_log_prob.csv\n",
      "Loading: /home/xavier/Projects/Oceanography/AI/OOD/Evaluations/R2010_on_2017_95clear_128x128_preproc_std_log_prob.csv\n",
      "Loading: /home/xavier/Projects/Oceanography/AI/OOD/Evaluations/R2010_on_2018_95clear_128x128_preproc_std_log_prob.csv\n",
      "Loading: /home/xavier/Projects/Oceanography/AI/OOD/Evaluations/R2010_on_2019_95clear_128x128_preproc_std_log_prob.csv\n",
      "Loading: /home/xavier/Projects/Oceanography/AI/OOD/Evaluations/R2010_on_2003_95clear_128x128_preproc_loggrad_log_prob.csv\n",
      "Loading: /home/xavier/Projects/Oceanography/AI/OOD/Evaluations/R2010_on_2004_95clear_128x128_preproc_loggrad_log_prob.csv\n",
      "Loading: /home/xavier/Projects/Oceanography/AI/OOD/Evaluations/R2010_on_2005_95clear_128x128_preproc_loggrad_log_prob.csv\n",
      "Loading: /home/xavier/Projects/Oceanography/AI/OOD/Evaluations/R2010_on_2006_95clear_128x128_preproc_loggrad_log_prob.csv\n",
      "Loading: /home/xavier/Projects/Oceanography/AI/OOD/Evaluations/R2010_on_2007_95clear_128x128_preproc_loggrad_log_prob.csv\n",
      "Loading: /home/xavier/Projects/Oceanography/AI/OOD/Evaluations/R2010_on_2008_95clear_128x128_preproc_loggrad_log_prob.csv\n",
      "Loading: /home/xavier/Projects/Oceanography/AI/OOD/Evaluations/R2010_on_2009_95clear_128x128_preproc_loggrad_log_prob.csv\n",
      "Loading: /home/xavier/Projects/Oceanography/AI/OOD/Evaluations/R2010_on_2010_95clear_128x128_preproc_loggrad_log_prob.csv\n",
      "Loading: /home/xavier/Projects/Oceanography/AI/OOD/Evaluations/R2010_on_2011_95clear_128x128_preproc_loggrad_log_prob.csv\n",
      "Loading: /home/xavier/Projects/Oceanography/AI/OOD/Evaluations/R2010_on_2012_95clear_128x128_preproc_loggrad_log_prob.csv\n",
      "Loading: /home/xavier/Projects/Oceanography/AI/OOD/Evaluations/R2010_on_2013_95clear_128x128_preproc_loggrad_log_prob.csv\n",
      "Loading: /home/xavier/Projects/Oceanography/AI/OOD/Evaluations/R2010_on_2014_95clear_128x128_preproc_loggrad_log_prob.csv\n",
      "Loading: /home/xavier/Projects/Oceanography/AI/OOD/Evaluations/R2010_on_2015_95clear_128x128_preproc_loggrad_log_prob.csv\n",
      "Loading: /home/xavier/Projects/Oceanography/AI/OOD/Evaluations/R2010_on_2016_95clear_128x128_preproc_loggrad_log_prob.csv\n",
      "Loading: /home/xavier/Projects/Oceanography/AI/OOD/Evaluations/R2010_on_2017_95clear_128x128_preproc_loggrad_log_prob.csv\n",
      "Loading: /home/xavier/Projects/Oceanography/AI/OOD/Evaluations/R2010_on_2018_95clear_128x128_preproc_loggrad_log_prob.csv\n",
      "Loading: /home/xavier/Projects/Oceanography/AI/OOD/Evaluations/R2010_on_2019_95clear_128x128_preproc_loggrad_log_prob.csv\n"
     ]
    }
   ],
   "source": [
    "evals_tbl_std = results.load_log_prob('std')\n",
    "evals_tbl_grad = results.load_log_prob('loggrad')"
   ]
  },
  {
   "cell_type": "markdown",
   "metadata": {},
   "source": [
    "# Match"
   ]
  },
  {
   "cell_type": "code",
   "execution_count": 6,
   "metadata": {},
   "outputs": [
    {
     "data": {
      "text/plain": [
       "filename            AQUA_MODIS.20030310T212506.L2.SST.nc\n",
       "row                                                  304\n",
       "column                                               517\n",
       "latitude                                          13.981\n",
       "longitude                                        62.6758\n",
       "clear_fraction                                         0\n",
       "mean_temperature                                 26.1995\n",
       "Tmin                                               25.25\n",
       "Tmax                                              26.885\n",
       "T90                                               26.475\n",
       "T10                                               25.815\n",
       "log_likelihood                                   520.179\n",
       "date                                 2003-03-10 21:25:00\n",
       "Name: 0, dtype: object"
      ]
     },
     "execution_count": 6,
     "metadata": {},
     "output_type": "execute_result"
    }
   ],
   "source": [
    "std0 = evals_tbl_std.iloc[0]\n",
    "std0"
   ]
  },
  {
   "cell_type": "code",
   "execution_count": 14,
   "metadata": {},
   "outputs": [],
   "source": [
    "gdate = evals_tbl_grad.date == std0.date"
   ]
  },
  {
   "cell_type": "code",
   "execution_count": 9,
   "metadata": {},
   "outputs": [],
   "source": [
    "gfiles =  evals_tbl_grad.filename == std0.filename"
   ]
  },
  {
   "cell_type": "code",
   "execution_count": 10,
   "metadata": {},
   "outputs": [],
   "source": [
    "grow = evals_tbl_grad.row == std0.row"
   ]
  },
  {
   "cell_type": "code",
   "execution_count": 11,
   "metadata": {},
   "outputs": [],
   "source": [
    "gcol = evals_tbl_grad.column == std0.column"
   ]
  },
  {
   "cell_type": "code",
   "execution_count": 18,
   "metadata": {},
   "outputs": [
    {
     "data": {
      "text/plain": [
       "-63379364.0"
      ]
     },
     "execution_count": 18,
     "metadata": {},
     "output_type": "execute_result"
    }
   ],
   "source": [
    "evals_tbl_grad[gfiles & grow & gcol].log_likelihood.values[0]"
   ]
  },
  {
   "cell_type": "code",
   "execution_count": 15,
   "metadata": {},
   "outputs": [
    {
     "data": {
      "text/plain": [
       "array([256092])"
      ]
     },
     "execution_count": 15,
     "metadata": {},
     "output_type": "execute_result"
    }
   ],
   "source": [
    "np.where(gdate & grow & gcol)[0]"
   ]
  },
  {
   "cell_type": "code",
   "execution_count": 19,
   "metadata": {},
   "outputs": [
    {
     "data": {
      "text/plain": [
       "0         -54971470.0\n",
       "1         -83444744.0\n",
       "2         -58586950.0\n",
       "3        -119934380.0\n",
       "4         -52031876.0\n",
       "             ...     \n",
       "751684    -79181540.0\n",
       "751685    -58553410.0\n",
       "751686    -53030536.0\n",
       "751687    -56782120.0\n",
       "751688    -91598424.0\n",
       "Name: log_likelihood, Length: 12358049, dtype: float64"
      ]
     },
     "execution_count": 19,
     "metadata": {},
     "output_type": "execute_result"
    }
   ],
   "source": [
    "evals_tbl_grad.log_likelihood"
   ]
  },
  {
   "cell_type": "code",
   "execution_count": 20,
   "metadata": {},
   "outputs": [
    {
     "data": {
      "text/plain": [
       "0         520.178830\n",
       "1         432.767520\n",
       "2         764.414550\n",
       "3         371.310500\n",
       "4        -214.759340\n",
       "             ...    \n",
       "751684    166.846010\n",
       "751685     44.459473\n",
       "751686    246.976990\n",
       "751687    118.560670\n",
       "751688    284.646120\n",
       "Name: log_likelihood, Length: 12358049, dtype: float64"
      ]
     },
     "execution_count": 20,
     "metadata": {},
     "output_type": "execute_result"
    }
   ],
   "source": [
    "evals_tbl_std.log_likelihood"
   ]
  },
  {
   "cell_type": "code",
   "execution_count": null,
   "metadata": {},
   "outputs": [],
   "source": []
  }
 ],
 "metadata": {
  "kernelspec": {
   "display_name": "Python 3",
   "language": "python",
   "name": "python3"
  },
  "language_info": {
   "codemirror_mode": {
    "name": "ipython",
    "version": 3
   },
   "file_extension": ".py",
   "mimetype": "text/x-python",
   "name": "python",
   "nbconvert_exporter": "python",
   "pygments_lexer": "ipython3",
   "version": "3.7.6"
  }
 },
 "nbformat": 4,
 "nbformat_minor": 4
}
