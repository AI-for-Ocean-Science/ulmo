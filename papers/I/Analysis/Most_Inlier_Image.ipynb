{
 "cells": [
  {
   "cell_type": "markdown",
   "metadata": {},
   "source": [
    "# Most Inlier Image"
   ]
  },
  {
   "cell_type": "code",
   "execution_count": 20,
   "metadata": {},
   "outputs": [],
   "source": [
    "# imports\n",
    "import numpy as np\n",
    "\n",
    "from matplotlib import pyplot as plt\n",
    "\n",
    "import seaborn as sns\n",
    "\n",
    "from ulmo import plotting\n",
    "\n",
    "from ulmo.utils import models as model_utils"
   ]
  },
  {
   "cell_type": "markdown",
   "metadata": {},
   "source": [
    "# Load model"
   ]
  },
  {
   "cell_type": "code",
   "execution_count": 2,
   "metadata": {},
   "outputs": [
    {
     "name": "stdout",
     "output_type": "stream",
     "text": [
      "Loading autoencoder model from: /data/Projects/Oceanography/AI/OOD/Models/R2019_2010_128x128_std/autoencoder.pt\n",
      "Loading flow model from: /data/Projects/Oceanography/AI/OOD/Models/R2019_2010_128x128_std/flow.pt\n"
     ]
    }
   ],
   "source": [
    "pae = model_utils.load('standard')"
   ]
  },
  {
   "cell_type": "markdown",
   "metadata": {},
   "source": [
    "# Fake samples"
   ]
  },
  {
   "cell_type": "code",
   "execution_count": 4,
   "metadata": {},
   "outputs": [
    {
     "data": {
      "text/plain": [
       "torch.Size([512])"
      ]
     },
     "execution_count": 4,
     "metadata": {},
     "output_type": "execute_result"
    }
   ],
   "source": [
    "pae.flow.flow._distribution._shape"
   ]
  },
  {
   "cell_type": "code",
   "execution_count": 26,
   "metadata": {},
   "outputs": [],
   "source": [
    "noise = pae.flow.flow._distribution._sample(1,None)"
   ]
  },
  {
   "cell_type": "code",
   "execution_count": 9,
   "metadata": {},
   "outputs": [
    {
     "data": {
      "text/plain": [
       "(torch.Tensor, torch.Size([1, 512]))"
      ]
     },
     "execution_count": 9,
     "metadata": {},
     "output_type": "execute_result"
    }
   ],
   "source": [
    "type(tmp), tmp.shape"
   ]
  },
  {
   "cell_type": "markdown",
   "metadata": {},
   "source": [
    "## Set all values to the mean"
   ]
  },
  {
   "cell_type": "code",
   "execution_count": 27,
   "metadata": {},
   "outputs": [],
   "source": [
    "noise[0,:] = 0."
   ]
  },
  {
   "cell_type": "code",
   "execution_count": 28,
   "metadata": {},
   "outputs": [
    {
     "data": {
      "text/plain": [
       "tensor([[0., 0., 0., 0., 0., 0., 0., 0., 0., 0., 0., 0., 0., 0., 0., 0., 0., 0., 0., 0., 0., 0., 0., 0.,\n",
       "         0., 0., 0., 0., 0., 0., 0., 0., 0., 0., 0., 0., 0., 0., 0., 0., 0., 0., 0., 0., 0., 0., 0., 0.,\n",
       "         0., 0., 0., 0., 0., 0., 0., 0., 0., 0., 0., 0., 0., 0., 0., 0., 0., 0., 0., 0., 0., 0., 0., 0.,\n",
       "         0., 0., 0., 0., 0., 0., 0., 0., 0., 0., 0., 0., 0., 0., 0., 0., 0., 0., 0., 0., 0., 0., 0., 0.,\n",
       "         0., 0., 0., 0., 0., 0., 0., 0., 0., 0., 0., 0., 0., 0., 0., 0., 0., 0., 0., 0., 0., 0., 0., 0.,\n",
       "         0., 0., 0., 0., 0., 0., 0., 0., 0., 0., 0., 0., 0., 0., 0., 0., 0., 0., 0., 0., 0., 0., 0., 0.,\n",
       "         0., 0., 0., 0., 0., 0., 0., 0., 0., 0., 0., 0., 0., 0., 0., 0., 0., 0., 0., 0., 0., 0., 0., 0.,\n",
       "         0., 0., 0., 0., 0., 0., 0., 0., 0., 0., 0., 0., 0., 0., 0., 0., 0., 0., 0., 0., 0., 0., 0., 0.,\n",
       "         0., 0., 0., 0., 0., 0., 0., 0., 0., 0., 0., 0., 0., 0., 0., 0., 0., 0., 0., 0., 0., 0., 0., 0.,\n",
       "         0., 0., 0., 0., 0., 0., 0., 0., 0., 0., 0., 0., 0., 0., 0., 0., 0., 0., 0., 0., 0., 0., 0., 0.,\n",
       "         0., 0., 0., 0., 0., 0., 0., 0., 0., 0., 0., 0., 0., 0., 0., 0., 0., 0., 0., 0., 0., 0., 0., 0.,\n",
       "         0., 0., 0., 0., 0., 0., 0., 0., 0., 0., 0., 0., 0., 0., 0., 0., 0., 0., 0., 0., 0., 0., 0., 0.,\n",
       "         0., 0., 0., 0., 0., 0., 0., 0., 0., 0., 0., 0., 0., 0., 0., 0., 0., 0., 0., 0., 0., 0., 0., 0.,\n",
       "         0., 0., 0., 0., 0., 0., 0., 0., 0., 0., 0., 0., 0., 0., 0., 0., 0., 0., 0., 0., 0., 0., 0., 0.,\n",
       "         0., 0., 0., 0., 0., 0., 0., 0., 0., 0., 0., 0., 0., 0., 0., 0., 0., 0., 0., 0., 0., 0., 0., 0.,\n",
       "         0., 0., 0., 0., 0., 0., 0., 0., 0., 0., 0., 0., 0., 0., 0., 0., 0., 0., 0., 0., 0., 0., 0., 0.,\n",
       "         0., 0., 0., 0., 0., 0., 0., 0., 0., 0., 0., 0., 0., 0., 0., 0., 0., 0., 0., 0., 0., 0., 0., 0.,\n",
       "         0., 0., 0., 0., 0., 0., 0., 0., 0., 0., 0., 0., 0., 0., 0., 0., 0., 0., 0., 0., 0., 0., 0., 0.,\n",
       "         0., 0., 0., 0., 0., 0., 0., 0., 0., 0., 0., 0., 0., 0., 0., 0., 0., 0., 0., 0., 0., 0., 0., 0.,\n",
       "         0., 0., 0., 0., 0., 0., 0., 0., 0., 0., 0., 0., 0., 0., 0., 0., 0., 0., 0., 0., 0., 0., 0., 0.,\n",
       "         0., 0., 0., 0., 0., 0., 0., 0., 0., 0., 0., 0., 0., 0., 0., 0., 0., 0., 0., 0., 0., 0., 0., 0.,\n",
       "         0., 0., 0., 0., 0., 0., 0., 0.]])"
      ]
     },
     "execution_count": 28,
     "metadata": {},
     "output_type": "execute_result"
    }
   ],
   "source": [
    "noise"
   ]
  },
  {
   "cell_type": "markdown",
   "metadata": {},
   "source": [
    "# To Latent"
   ]
  },
  {
   "cell_type": "code",
   "execution_count": 31,
   "metadata": {},
   "outputs": [],
   "source": [
    "latents, log_prob = pae.flow.flow._transform.inverse(noise, None)"
   ]
  },
  {
   "cell_type": "code",
   "execution_count": 13,
   "metadata": {},
   "outputs": [
    {
     "data": {
      "text/plain": [
       "tensor([[-0.4762,  0.2620,  1.2128, -0.5796, -0.9240,  0.3020,  0.5700,  1.4902,\n",
       "          0.0414, -0.3075,  0.4341, -0.8210,  0.3700, -1.0104, -0.3294, -0.9168,\n",
       "         -0.2007, -0.0657, -0.4433, -0.4117,  0.3498, -0.2705, -1.1263,  0.4311,\n",
       "          0.3005, -0.2024, -1.0429, -0.3377, -0.4474,  0.3755, -0.4190, -0.1715,\n",
       "         -0.3091,  0.1765, -0.3146,  0.2740, -0.1674, -0.6185, -0.1207,  0.7466,\n",
       "         -0.1038, -0.2744, -0.0359, -0.0247,  0.5219,  0.2340,  0.1079, -0.5058,\n",
       "         -0.1741, -0.5089,  0.0779,  0.2068,  0.4128,  0.3581,  0.3994, -0.3510,\n",
       "         -0.0232,  0.6556,  0.4450,  0.5016,  0.0565, -0.6686,  0.3758,  0.1936,\n",
       "          1.3479, -0.3457,  0.4948,  0.2625, -0.0089, -1.3106, -0.2249,  0.0306,\n",
       "          0.3804, -0.2378, -0.5632,  0.3135, -0.5748, -0.0341, -0.0715, -0.5538,\n",
       "          0.3072,  0.4314,  0.6246, -0.4152,  0.6538, -0.2307, -0.3013, -0.6999,\n",
       "          0.1651,  0.4307,  0.1880,  0.5412, -0.0627,  0.7120,  0.4488, -0.3883,\n",
       "          0.3554, -0.0186,  0.0191, -0.0243, -0.2238, -0.3829,  0.1751,  0.0573,\n",
       "          0.1266, -0.2275, -0.0511,  0.4885,  0.4885,  0.5414,  0.4163, -0.1610,\n",
       "          0.2475, -0.5276,  0.0384, -0.4341, -0.2897, -0.0749,  0.7826, -0.1001,\n",
       "          0.2890,  0.1522, -0.7668, -0.5644, -0.0231, -0.0031, -0.0605,  0.2533,\n",
       "         -0.5083,  0.3221, -0.1285,  0.0346,  0.8419, -0.6589, -0.8737,  0.6114,\n",
       "         -1.1381,  0.3628, -0.1037,  0.5998,  0.2890, -0.6721, -0.3608, -0.1544,\n",
       "         -0.7406, -0.3264, -0.1109,  0.1956,  0.1614,  0.8065, -0.2266,  0.0147,\n",
       "          0.9441,  0.4027, -0.3554,  0.2485,  1.0158, -0.9134,  0.5910,  0.7241,\n",
       "          0.0116, -0.0518, -0.3355, -0.4481,  0.0548,  0.2899, -0.0954, -0.2576,\n",
       "         -0.0296,  0.5426, -0.4469,  0.1183, -0.5776, -0.2795, -0.3465,  0.4374,\n",
       "         -0.4635,  0.0081, -0.1036,  0.3387,  0.0532,  0.3507, -0.5320,  0.1361,\n",
       "          0.1988,  0.1550, -0.2487,  0.2858, -0.0585,  0.1977, -0.2788,  0.5107,\n",
       "          0.0721, -0.7287, -0.1443,  1.0130, -0.3754,  0.3353,  0.4815,  0.2344,\n",
       "          0.0336,  0.6501,  0.8791,  0.4455, -0.5389,  0.4862, -1.3833,  0.3801,\n",
       "         -0.7087,  0.5772,  0.0806, -0.6752, -0.2046, -0.1267,  0.0859, -0.5127,\n",
       "         -0.8006, -0.3252,  0.1093,  0.1668,  0.3453,  1.0123, -0.3541,  0.3885,\n",
       "         -0.3508, -1.0143,  0.2407, -0.7220,  0.3591, -0.0900, -1.6206, -0.4202,\n",
       "         -1.3114, -0.4376,  0.2569,  1.2796,  0.8330, -0.7461,  0.4304,  0.6373,\n",
       "          0.1499,  0.1824,  0.4147, -0.1878,  0.2060, -0.2656,  0.5328, -0.1091,\n",
       "         -0.2572,  0.5668, -0.1229,  0.4875, -0.1717,  0.3564,  1.0468,  0.2903,\n",
       "         -0.2242,  0.7863, -0.2330,  0.2005, -0.0789,  0.3424, -0.1875,  0.5643,\n",
       "         -0.5901, -0.1656, -0.0376, -0.8766,  0.1883,  0.0233, -0.0448,  0.0017,\n",
       "         -0.1606, -0.1239, -0.3883, -0.4345, -0.1194,  0.3545, -0.4549,  0.1729,\n",
       "          0.0543, -0.1092, -0.3169,  0.2226, -0.4563,  0.1747, -0.0798, -0.4914,\n",
       "         -0.0211,  0.1577, -0.0526, -0.4302,  0.4348,  0.1545,  0.4748,  1.0248,\n",
       "          1.0219, -0.2515, -0.0317, -0.1209, -0.5733,  0.1124, -0.9744,  0.4970,\n",
       "          0.7801, -0.3961,  0.1403, -0.2298, -0.0227, -0.1759, -0.2014,  0.0954,\n",
       "          0.1871,  0.9411, -0.2905,  0.1229, -0.3279, -0.0196, -0.0710, -0.0600,\n",
       "         -0.9574,  0.3710,  0.2827,  0.0429, -0.0238,  0.1546, -0.0383,  0.0201,\n",
       "          1.0930,  0.3016,  0.2101,  0.0956,  0.0606, -0.9411,  0.0679,  0.2708,\n",
       "         -0.1985, -0.0862,  0.2810,  0.7150,  0.4556,  0.0397, -0.5937,  0.0266,\n",
       "         -0.2410,  0.1194,  0.6927,  0.2168, -0.6199,  0.2627,  0.4597,  0.0139,\n",
       "          0.1896, -0.6398, -0.1437,  0.0762, -0.6137,  0.5026, -0.5975, -0.2966,\n",
       "          0.5222,  0.9638,  0.2079, -0.4103, -0.2908, -0.6833,  0.0224, -0.0399,\n",
       "          0.1797,  0.1361, -0.3567, -0.0845, -0.8660,  0.4532, -0.0321, -0.0601,\n",
       "         -0.1231,  0.0942,  0.4704, -0.4420,  0.1507,  0.1232,  1.0311,  0.0089,\n",
       "          0.1036, -0.0461, -0.4841, -0.7992, -0.8412, -0.0943, -0.4993, -0.1509,\n",
       "         -0.1570,  0.9251,  0.3587, -0.1660,  0.1997, -0.3464,  0.5907, -0.5666,\n",
       "          0.1401,  0.3558,  0.4165,  0.7450,  0.0671, -0.1374, -0.0910,  0.2291,\n",
       "          0.3057, -0.1268, -0.0827,  0.4326, -0.1935, -0.2869, -0.9697, -0.4395,\n",
       "          0.2971, -0.5799, -0.7415, -0.1061, -0.2057, -0.1386,  0.1836,  0.4009,\n",
       "         -1.1919,  0.4382,  0.5848,  0.2164, -0.3846, -0.3658, -0.1435, -0.3080,\n",
       "          0.6492, -0.9307,  1.0210, -0.4151, -0.1310, -0.5116,  0.1461,  0.1725,\n",
       "         -0.2103,  0.2531, -0.8443,  0.2687,  0.0671,  0.1573,  0.1963,  0.0656,\n",
       "          0.4980,  0.2429,  0.1199,  0.2049,  0.0534,  0.9278, -0.2551,  0.3145,\n",
       "         -0.5152,  0.2191,  0.2854,  0.5439, -0.2087, -0.4376, -0.2747, -0.2021,\n",
       "         -0.2327,  0.2093, -0.3390,  1.4469, -0.1770,  0.0282, -0.1698, -0.2015,\n",
       "         -0.3925,  0.2138,  0.0978, -0.4256, -0.3709, -0.0612, -0.9946, -0.0776,\n",
       "          0.8939,  0.4878,  1.3912,  0.3676,  0.1891, -0.0786, -0.4659,  0.2834,\n",
       "          0.4454,  0.2734, -0.5040, -0.0512, -0.7791, -0.8061,  0.5622, -0.6944,\n",
       "          0.6886, -0.1193,  0.2536, -0.3856,  0.0514,  0.5306,  0.7044, -0.2852,\n",
       "         -0.0829, -0.1577, -0.1597,  0.0690,  0.1164,  0.8963, -0.2275,  0.4773]],\n",
       "       grad_fn=<IndexPutBackward>)"
      ]
     },
     "execution_count": 13,
     "metadata": {},
     "output_type": "execute_result"
    }
   ],
   "source": [
    "latents"
   ]
  },
  {
   "cell_type": "markdown",
   "metadata": {},
   "source": [
    "# To image"
   ]
  },
  {
   "cell_type": "code",
   "execution_count": 14,
   "metadata": {},
   "outputs": [],
   "source": [
    "rx = pae.autoencoder.decode(latents)"
   ]
  },
  {
   "cell_type": "code",
   "execution_count": 15,
   "metadata": {},
   "outputs": [
    {
     "data": {
      "text/plain": [
       "torch.Size([1, 1, 64, 64])"
      ]
     },
     "execution_count": 15,
     "metadata": {},
     "output_type": "execute_result"
    }
   ],
   "source": [
    "rx.shape"
   ]
  },
  {
   "cell_type": "code",
   "execution_count": 18,
   "metadata": {},
   "outputs": [],
   "source": [
    "img = pae.to_type(rx, type(np.zeros((1,1,64,64))))"
   ]
  },
  {
   "cell_type": "code",
   "execution_count": 19,
   "metadata": {},
   "outputs": [
    {
     "data": {
      "text/plain": [
       "(1, 1, 64, 64)"
      ]
     },
     "execution_count": 19,
     "metadata": {},
     "output_type": "execute_result"
    }
   ],
   "source": [
    "img.shape"
   ]
  },
  {
   "cell_type": "markdown",
   "metadata": {},
   "source": [
    "# View"
   ]
  },
  {
   "cell_type": "code",
   "execution_count": 25,
   "metadata": {},
   "outputs": [
    {
     "data": {
      "image/png": "[encoded data removed]",
      "text/plain": [
       "<Figure size 432x288 with 2 Axes>"
      ]
     },
     "metadata": {
      "needs_background": "light"
     },
     "output_type": "display_data"
    }
   ],
   "source": [
    "vmnx = (None,None)\n",
    "# Plot\n",
    "#fig = plt.figure(figsize=(10, 4))\n",
    "pal, cm = plotting.load_palette()\n",
    "plt.clf()\n",
    "\n",
    "# Original\n",
    "ax = plt.gca()\n",
    "sns.heatmap(img[0,0,...], ax=ax, xticklabels=[], yticklabels=[], cmap=cm,\n",
    "            vmin=vmnx[0], vmax=vmnx[1])\n",
    "plt.show()"
   ]
  },
  {
   "cell_type": "code",
   "execution_count": null,
   "metadata": {},
   "outputs": [],
   "source": []
  }
 ],
 "metadata": {
  "kernelspec": {
   "display_name": "Python 3",
   "language": "python",
   "name": "python3"
  },
  "language_info": {
   "codemirror_mode": {
    "name": "ipython",
    "version": 3
   },
   "file_extension": ".py",
   "mimetype": "text/x-python",
   "name": "python",
   "nbconvert_exporter": "python",
   "pygments_lexer": "ipython3",
   "version": "3.8.5"
  }
 },
 "nbformat": 4,
 "nbformat_minor": 4
}
