{
 "cells": [
  {
   "cell_type": "markdown",
   "id": "cc5e69b1",
   "metadata": {},
   "source": [
    "# UMAP 2D histogram"
   ]
  },
  {
   "cell_type": "code",
   "execution_count": 12,
   "id": "ca2148fa",
   "metadata": {},
   "outputs": [],
   "source": [
    "# imports\n",
    "import numpy as np\n",
    "\n",
    "from matplotlib import pyplot as plt\n",
    "\n",
    "from ulmo import io as ulmo_io\n",
    "from ulmo.plotting import plotting"
   ]
  },
  {
   "cell_type": "markdown",
   "id": "d18ac264",
   "metadata": {},
   "source": [
    "# Load table"
   ]
  },
  {
   "cell_type": "code",
   "execution_count": 4,
   "id": "5304e5fe",
   "metadata": {},
   "outputs": [],
   "source": [
    "tbl_file = 's3://modis-l2/Tables/MODIS_L2_std.parquet'"
   ]
  },
  {
   "cell_type": "code",
   "execution_count": 5,
   "id": "cedc0b6a",
   "metadata": {},
   "outputs": [
    {
     "name": "stdout",
     "output_type": "stream",
     "text": [
      "Read main table: s3://modis-l2/Tables/MODIS_L2_std.parquet\n"
     ]
    }
   ],
   "source": [
    "modis_tbl = ulmo_io.load_main_table(tbl_file)"
   ]
  },
  {
   "cell_type": "markdown",
   "id": "1f86175a",
   "metadata": {},
   "source": [
    "## Remove NAN"
   ]
  },
  {
   "cell_type": "code",
   "execution_count": 7,
   "id": "2325c879",
   "metadata": {},
   "outputs": [],
   "source": [
    "good = np.isfinite(modis_tbl.LL)\n",
    "modis_tbl = modis_tbl[good].copy()"
   ]
  },
  {
   "cell_type": "markdown",
   "id": "39cdf33c",
   "metadata": {},
   "source": [
    "# Histogram"
   ]
  },
  {
   "cell_type": "code",
   "execution_count": 30,
   "id": "b43074fe",
   "metadata": {},
   "outputs": [],
   "source": [
    "xmin, xmax = -4.5, 7\n",
    "ymin, ymax = 4.5, 10.5\n",
    "# Histogram\n",
    "scl = 1\n",
    "bins_U0 = np.linspace(xmin, xmax, 23*scl)\n",
    "bins_U1 = np.linspace(ymin,ymax, 24*scl)\n",
    "counts, xedges, yedges = np.histogram2d(modis_tbl.U0, modis_tbl.U1,\n",
    "                                        bins=(bins_U0, bins_U1))"
   ]
  },
  {
   "cell_type": "code",
   "execution_count": 31,
   "id": "444ff7c9",
   "metadata": {},
   "outputs": [
    {
     "data": {
      "text/plain": [
       "(0.5227272727272725, 0.2608695652173916)"
      ]
     },
     "execution_count": 31,
     "metadata": {},
     "output_type": "execute_result"
    }
   ],
   "source": [
    "dx = bins_U0[1]-bins_U0[0]\n",
    "dy = bins_U1[1]-bins_U1[0]\n",
    "dx, dy"
   ]
  },
  {
   "cell_type": "markdown",
   "id": "d8ffaf15",
   "metadata": {},
   "source": [
    "# Plot"
   ]
  },
  {
   "cell_type": "code",
   "execution_count": 27,
   "id": "188e5109",
   "metadata": {},
   "outputs": [
    {
     "data": {
      "image/png": "[encoded data removed]",
      "text/plain": [
       "<Figure size 864x864 with 2 Axes>"
      ]
     },
     "metadata": {
      "needs_background": "light"
     },
     "output_type": "display_data"
    }
   ],
   "source": [
    "fig = plt.figure(figsize=(12, 12))\n",
    "plt.clf()\n",
    "ax = plt.gca()\n",
    "\n",
    "cm = plt.get_cmap('Blues')\n",
    "values = counts.transpose()\n",
    "lbl = 'Counts'\n",
    "mplt = ax.pcolormesh(xedges, yedges, values, cmap=cm, vmax=20000/(scl/2)**2)\n",
    "\n",
    "# Color bar\n",
    "cbaxes = fig.add_axes([0.03, 0.1, 0.05, 0.7])\n",
    "cb = plt.colorbar(mplt, cax=cbaxes, aspect=20)\n",
    "#cb.set_label(lbl, fontsize=20.)\n",
    "cbaxes.yaxis.set_ticks_position('left')\n",
    "cbaxes.set_xlabel(lbl, fontsize=15.)\n",
    "\n",
    "ax.set_xlabel(r'$U_0$')\n",
    "ax.set_ylabel(r'$U_1$')\n",
    "\n",
    "plotting.set_fontsize(ax, 19.)\n",
    "plt.savefig('umap_2dhist.png', dpi=300)\n",
    "plt.show()"
   ]
  },
  {
   "cell_type": "code",
   "execution_count": null,
   "id": "6464a286",
   "metadata": {},
   "outputs": [],
   "source": []
  },
  {
   "cell_type": "code",
   "execution_count": null,
   "id": "c1c66bb5",
   "metadata": {},
   "outputs": [],
   "source": []
  }
 ],
 "metadata": {
  "kernelspec": {
   "display_name": "Python 3 (ipykernel)",
   "language": "python",
   "name": "python3"
  },
  "language_info": {
   "codemirror_mode": {
    "name": "ipython",
    "version": 3
   },
   "file_extension": ".py",
   "mimetype": "text/x-python",
   "name": "python",
   "nbconvert_exporter": "python",
   "pygments_lexer": "ipython3",
   "version": "3.8.5"
  }
 },
 "nbformat": 4,
 "nbformat_minor": 5
}
