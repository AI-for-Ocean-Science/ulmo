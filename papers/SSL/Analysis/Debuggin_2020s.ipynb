{
 "cells": [
  {
   "cell_type": "markdown",
   "id": "5648c22d-3d59-464b-86fe-54c1b86d34c5",
   "metadata": {},
   "source": [
    "# Debugging Ulmo on 2020s"
   ]
  },
  {
   "cell_type": "code",
   "execution_count": 22,
   "id": "c5a6e9fa-ab2b-488f-a0bb-85ad8d8142c3",
   "metadata": {},
   "outputs": [],
   "source": [
    "# imports\n",
    "import os\n",
    "import numpy as np \n",
    "\n",
    "from ulmo import io as ulmo_io\n",
    "from ulmo.plotting import plotting\n",
    "from ulmo.utils import image_utils"
   ]
  },
  {
   "cell_type": "markdown",
   "id": "f847ed20-c13a-4f6b-bf2e-7158348e5319",
   "metadata": {},
   "source": [
    "# Load Table"
   ]
  },
  {
   "cell_type": "code",
   "execution_count": 23,
   "id": "77fadf36-3eca-481d-8adb-70012d5a4cae",
   "metadata": {},
   "outputs": [
    {
     "name": "stdout",
     "output_type": "stream",
     "text": [
      "Read main table: s3://modis-l2/Tables/MODIS_L2_20202021.parquet\n"
     ]
    }
   ],
   "source": [
    "modis_2020s = ulmo_io.load_main_table('s3://modis-l2/Tables/MODIS_L2_20202021.parquet')"
   ]
  },
  {
   "cell_type": "markdown",
   "id": "8fa9e914-5aa0-4e76-bbfc-df5a2b89844f",
   "metadata": {},
   "source": [
    "# Grab a high DT"
   ]
  },
  {
   "cell_type": "code",
   "execution_count": 24,
   "id": "871e0c0d-620b-4f4f-9479-838752481665",
   "metadata": {},
   "outputs": [],
   "source": [
    "modis_2020s['DT'] = modis_2020s.T90 - modis_2020s.T10"
   ]
  },
  {
   "cell_type": "code",
   "execution_count": 25,
   "id": "7ae34a13-1e7b-4798-ad44-6bd1e57ea799",
   "metadata": {},
   "outputs": [],
   "source": [
    "highDT_idx = np.where(modis_2020s.DT > 5.)[0]"
   ]
  },
  {
   "cell_type": "code",
   "execution_count": 26,
   "id": "d8bfe37c-4573-4392-9dd1-4625f7c7736f",
   "metadata": {},
   "outputs": [
    {
     "data": {
      "text/plain": [
       "filename            /tank/xavier/Oceanography/data/MODIS/SST/night...\n",
       "row                                                               127\n",
       "col                                                               554\n",
       "lat                                                        -34.933342\n",
       "lon                                                         22.407885\n",
       "clear_fraction                                               0.049805\n",
       "field_size                                                        128\n",
       "datetime                                          2020-04-30 23:40:00\n",
       "ex_filename         s3://modis-l2/Extractions/MODIS_R2019_2020_95c...\n",
       "pp_file             s3://modis-l2/PreProc/MODIS_R2019_2020_95clear...\n",
       "pp_root                                                      standard\n",
       "pp_idx                                                           2288\n",
       "pp_type                                                             0\n",
       "mean_temperature                                            19.330912\n",
       "Tmin                                                        16.309999\n",
       "Tmax                                                        24.559999\n",
       "T90                                                         23.094999\n",
       "T10                                                         17.869999\n",
       "LL                                                         129.581543\n",
       "DT                                                              5.225\n",
       "Name: 2288, dtype: object"
      ]
     },
     "execution_count": 26,
     "metadata": {},
     "output_type": "execute_result"
    }
   ],
   "source": [
    "modis_2020s.iloc[highDT_idx[0]]"
   ]
  },
  {
   "cell_type": "markdown",
   "id": "3786851c-1136-4847-ab6e-7542e9fed55d",
   "metadata": {},
   "source": [
    "# Show it"
   ]
  },
  {
   "cell_type": "markdown",
   "id": "c7aec54c-55bd-485d-8551-10c4247dc121",
   "metadata": {},
   "source": [
    "## Load"
   ]
  },
  {
   "cell_type": "code",
   "execution_count": 27,
   "id": "aee42e9b-1ca8-4fe2-9c44-617ba178a1e8",
   "metadata": {},
   "outputs": [],
   "source": [
    "cutout = modis_2020s.iloc[highDT_idx[0]]\n",
    "#local_file = os.path.join(os.getenv('SST_OOD'), 'MODIS_L2', 'PreProc', cutout.pp_file)\n",
    "local_file = '/tank/xavier/Oceanography/Python/ulmo/ulmo/runs/SSL/MODIS/v4/PreProc/MODIS_R2019_2020_95clear_128x128_preproc_standard.h5'\n",
    "img0 =  image_utils.grab_image(cutout, local_file=local_file)"
   ]
  },
  {
   "cell_type": "markdown",
   "id": "27b655e8-6dac-40b6-be55-f15296c33faf",
   "metadata": {},
   "source": [
    "## Show"
   ]
  },
  {
   "cell_type": "code",
   "execution_count": 28,
   "id": "c7866272-217b-4cc1-9fed-546b15ea0252",
   "metadata": {},
   "outputs": [
    {
     "data": {
      "text/plain": [
       "<AxesSubplot:>"
      ]
     },
     "execution_count": 28,
     "metadata": {},
     "output_type": "execute_result"
    },
    {
     "data": {
      "image/png": "[encoded data removed]",
      "text/plain": [
       "<Figure size 432x288 with 2 Axes>"
      ]
     },
     "metadata": {
      "needs_background": "light"
     },
     "output_type": "display_data"
    }
   ],
   "source": [
    "plotting.show_image(img0)"
   ]
  },
  {
   "cell_type": "code",
   "execution_count": 29,
   "id": "8b23ce81-bde9-4e8b-85b6-40d38766e0b5",
   "metadata": {},
   "outputs": [
    {
     "data": {
      "text/plain": [
       "1.8008881"
      ]
     },
     "execution_count": 29,
     "metadata": {},
     "output_type": "execute_result"
    }
   ],
   "source": [
    "img0.max() - img0.min()"
   ]
  },
  {
   "cell_type": "code",
   "execution_count": null,
   "id": "555eb9b1-cfe9-4b93-85d0-f0cbcc99e7d1",
   "metadata": {},
   "outputs": [],
   "source": []
  }
 ],
 "metadata": {
  "kernelspec": {
   "display_name": "Python 3 (ipykernel)",
   "language": "python",
   "name": "python3"
  },
  "language_info": {
   "codemirror_mode": {
    "name": "ipython",
    "version": 3
   },
   "file_extension": ".py",
   "mimetype": "text/x-python",
   "name": "python",
   "nbconvert_exporter": "python",
   "pygments_lexer": "ipython3",
   "version": "3.9.9"
  }
 },
 "nbformat": 4,
 "nbformat_minor": 5
}
