{
 "cells": [
  {
   "cell_type": "markdown",
   "id": "239a7f26-bdb2-4c3d-bfbb-0a5c01a361f1",
   "metadata": {},
   "source": [
    "# Ulmo Normalization\n",
    "\n",
    "## Following -- https://arxiv.org/pdf/2006.09273.pdf"
   ]
  },
  {
   "cell_type": "code",
   "execution_count": 1,
   "id": "173b7e89-dbc4-4894-8d71-6ad2fe849154",
   "metadata": {},
   "outputs": [],
   "source": [
    "# imports\n",
    "import numpy as np"
   ]
  },
  {
   "cell_type": "markdown",
   "id": "08d292bc-aa2d-4306-bba8-2564f9f53151",
   "metadata": {},
   "source": [
    "# Init"
   ]
  },
  {
   "cell_type": "code",
   "execution_count": 2,
   "id": "9222a544-33e5-4b79-bdf5-bc295aac10a3",
   "metadata": {},
   "outputs": [],
   "source": [
    "ndim = 512"
   ]
  },
  {
   "cell_type": "markdown",
   "id": "522fb086-9ba3-4af8-b3b6-ac2065d37c89",
   "metadata": {},
   "source": [
    "# Random draw"
   ]
  },
  {
   "cell_type": "code",
   "execution_count": 4,
   "id": "9f79d12b-a743-492d-bf49-f8dcf207a680",
   "metadata": {},
   "outputs": [],
   "source": [
    "randx = np.random.normal(size=(ndim, 10000))"
   ]
  },
  {
   "cell_type": "code",
   "execution_count": 5,
   "id": "d6c849b6-5627-4bf5-85da-4829e515019a",
   "metadata": {},
   "outputs": [
    {
     "data": {
      "text/plain": [
       "(512, 10000)"
      ]
     },
     "execution_count": 5,
     "metadata": {},
     "output_type": "execute_result"
    }
   ],
   "source": [
    "randx.shape"
   ]
  },
  {
   "cell_type": "markdown",
   "id": "0842ab72-7dc0-4d88-8203-f95b104e9c79",
   "metadata": {},
   "source": [
    "# Generate stats"
   ]
  },
  {
   "cell_type": "code",
   "execution_count": null,
   "id": "459bebb5-01c2-4271-be63-628d387d7d37",
   "metadata": {},
   "outputs": [],
   "source": []
  }
 ],
 "metadata": {
  "kernelspec": {
   "display_name": "Python 3 (ipykernel)",
   "language": "python",
   "name": "python3"
  },
  "language_info": {
   "codemirror_mode": {
    "name": "ipython",
    "version": 3
   },
   "file_extension": ".py",
   "mimetype": "text/x-python",
   "name": "python",
   "nbconvert_exporter": "python",
   "pygments_lexer": "ipython3",
   "version": "3.9.6"
  }
 },
 "nbformat": 4,
 "nbformat_minor": 5
}
