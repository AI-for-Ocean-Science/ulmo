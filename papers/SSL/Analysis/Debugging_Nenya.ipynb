{
 "cells": [
  {
   "cell_type": "markdown",
   "id": "a2802a0b-44fb-4efa-b738-62315d4c6c22",
   "metadata": {},
   "source": [
    "# Nenya debuggin?"
   ]
  },
  {
   "cell_type": "code",
   "execution_count": 4,
   "id": "ee3ca5c8-590d-493d-9dd0-c914750214b2",
   "metadata": {
    "tags": []
   },
   "outputs": [],
   "source": [
    "# imports\n",
    "import os\n",
    "\n",
    "import numpy as np\n",
    "\n",
    "import h5py"
   ]
  },
  {
   "cell_type": "markdown",
   "id": "4f811b4d-b32d-4e9f-9b53-6a5e79208025",
   "metadata": {},
   "source": [
    "# Load up LLC A latents"
   ]
  },
  {
   "cell_type": "code",
   "execution_count": 10,
   "id": "4a876643-8da3-4466-a7e0-91c1af180117",
   "metadata": {
    "tags": []
   },
   "outputs": [
    {
     "data": {
      "text/plain": [
       "(True,\n",
       " '/home/xavier/Projects/Oceanography/AI/Nenya/LLC/Nenya/latents/MODIS_R2019_v4/SimCLR_resnet50_lr_0.05_decay_0.0001_bsz_256_temp_0.07_trial_5_cosine_warm/LLC_FS_latents.h5')"
      ]
     },
     "execution_count": 10,
     "metadata": {},
     "output_type": "execute_result"
    }
   ],
   "source": [
    "LLC_path = os.path.join(os.getenv('OS_AI'), 'Nenya', 'LLC')\n",
    "latent_file = os.path.join(LLC_path, 'Nenya', 'latents', 'MODIS_R2019_v4',\n",
    "                           'SimCLR_resnet50_lr_0.05_decay_0.0001_bsz_256_temp_0.07_trial_5_cosine_warm',\n",
    "                           'LLC_FS_latents.h5')\n",
    "os.path.isfile(latent_file), latent_file"
   ]
  },
  {
   "cell_type": "code",
   "execution_count": 11,
   "id": "7a7d78a7-f5a3-4e05-a398-5c73c11d8a95",
   "metadata": {
    "tags": []
   },
   "outputs": [],
   "source": [
    "latents = h5py.File(latent_file, 'r')"
   ]
  },
  {
   "cell_type": "markdown",
   "id": "903af12f-8784-41df-907b-83bd17ec6a62",
   "metadata": {},
   "source": [
    "# Grab those with the dominant U values"
   ]
  },
  {
   "cell_type": "code",
   "execution_count": null,
   "id": "2b704a46-348f-4d5c-8616-2334ee93e9cd",
   "metadata": {},
   "outputs": [],
   "source": []
  }
 ],
 "metadata": {
  "kernelspec": {
   "display_name": "Python 3 (ipykernel)",
   "language": "python",
   "name": "python3"
  },
  "language_info": {
   "codemirror_mode": {
    "name": "ipython",
    "version": 3
   },
   "file_extension": ".py",
   "mimetype": "text/x-python",
   "name": "python",
   "nbconvert_exporter": "python",
   "pygments_lexer": "ipython3",
   "version": "3.10.9"
  }
 },
 "nbformat": 4,
 "nbformat_minor": 5
}
