{
 "cells": [
  {
   "cell_type": "markdown",
   "id": "2c46f167-1858-4b21-bf49-aa812e4416cf",
   "metadata": {},
   "source": [
    "# Cloud cover"
   ]
  },
  {
   "cell_type": "code",
   "execution_count": 1,
   "id": "6a05068c-8be5-427e-b7ee-2542fc121347",
   "metadata": {},
   "outputs": [],
   "source": [
    "# imports\n",
    "import os\n",
    "import numpy as np\n",
    "\n",
    "from matplotlib import pyplot as plt\n",
    "\n",
    "import pandas"
   ]
  },
  {
   "cell_type": "markdown",
   "id": "82307dff-6a3f-4f47-8ea7-9d778a36db83",
   "metadata": {},
   "source": [
    "# Load up the MODIS-L2 Table"
   ]
  },
  {
   "cell_type": "code",
   "execution_count": 2,
   "id": "8da9d7df-cab2-4fc8-b321-75098a645a47",
   "metadata": {},
   "outputs": [],
   "source": [
    "modis_tbl_file = os.path.join(os.getenv('SST_OOD'), 'MODIS_L2', 'Tables', 'MODIS_L2_std.parquet')"
   ]
  },
  {
   "cell_type": "code",
   "execution_count": 3,
   "id": "cc201e0c-dbf7-4dbd-a7c4-97f220a27f1e",
   "metadata": {},
   "outputs": [],
   "source": [
    "modis_tbl = pandas.read_parquet(modis_tbl_file)"
   ]
  },
  {
   "cell_type": "code",
   "execution_count": 4,
   "id": "5d6de130-0e78-4de1-8027-1c94d3d98d19",
   "metadata": {},
   "outputs": [
    {
     "data": {
      "text/html": [
       "<div>\n",
       "<style scoped>\n",
       "    .dataframe tbody tr th:only-of-type {\n",
       "        vertical-align: middle;\n",
       "    }\n",
       "\n",
       "    .dataframe tbody tr th {\n",
       "        vertical-align: top;\n",
       "    }\n",
       "\n",
       "    .dataframe thead th {\n",
       "        text-align: right;\n",
       "    }\n",
       "</style>\n",
       "<table border=\"1\" class=\"dataframe\">\n",
       "  <thead>\n",
       "    <tr style=\"text-align: right;\">\n",
       "      <th></th>\n",
       "      <th>lat</th>\n",
       "      <th>lon</th>\n",
       "      <th>col</th>\n",
       "      <th>datetime</th>\n",
       "      <th>LL</th>\n",
       "      <th>row</th>\n",
       "      <th>clear_fraction</th>\n",
       "      <th>mean_temperature</th>\n",
       "      <th>Tmin</th>\n",
       "      <th>Tmax</th>\n",
       "      <th>...</th>\n",
       "      <th>pp_root</th>\n",
       "      <th>field_size</th>\n",
       "      <th>pp_type</th>\n",
       "      <th>pp_idx</th>\n",
       "      <th>U0</th>\n",
       "      <th>U1</th>\n",
       "      <th>zonal_slope</th>\n",
       "      <th>merid_slope</th>\n",
       "      <th>zonal_slope_err</th>\n",
       "      <th>merid_slope_err</th>\n",
       "    </tr>\n",
       "  </thead>\n",
       "  <tbody>\n",
       "    <tr>\n",
       "      <th>0</th>\n",
       "      <td>13.980967</td>\n",
       "      <td>62.675774</td>\n",
       "      <td>517</td>\n",
       "      <td>2003-03-10 21:25:00</td>\n",
       "      <td>520.178711</td>\n",
       "      <td>304</td>\n",
       "      <td>0.000000</td>\n",
       "      <td>26.199476</td>\n",
       "      <td>25.250000</td>\n",
       "      <td>26.885000</td>\n",
       "      <td>...</td>\n",
       "      <td>standard</td>\n",
       "      <td>128</td>\n",
       "      <td>0</td>\n",
       "      <td>0</td>\n",
       "      <td>-1.551078</td>\n",
       "      <td>-0.694188</td>\n",
       "      <td>-1.186275</td>\n",
       "      <td>-2.126147</td>\n",
       "      <td>0.137467</td>\n",
       "      <td>0.224244</td>\n",
       "    </tr>\n",
       "    <tr>\n",
       "      <th>1</th>\n",
       "      <td>13.043748</td>\n",
       "      <td>-102.751816</td>\n",
       "      <td>706</td>\n",
       "      <td>2003-12-12 08:30:00</td>\n",
       "      <td>432.766724</td>\n",
       "      <td>1696</td>\n",
       "      <td>0.049805</td>\n",
       "      <td>28.924648</td>\n",
       "      <td>27.789999</td>\n",
       "      <td>29.654999</td>\n",
       "      <td>...</td>\n",
       "      <td>standard</td>\n",
       "      <td>128</td>\n",
       "      <td>0</td>\n",
       "      <td>1</td>\n",
       "      <td>4.891690</td>\n",
       "      <td>5.098271</td>\n",
       "      <td>-0.678604</td>\n",
       "      <td>-0.904867</td>\n",
       "      <td>0.115963</td>\n",
       "      <td>0.128991</td>\n",
       "    </tr>\n",
       "    <tr>\n",
       "      <th>2</th>\n",
       "      <td>-18.086618</td>\n",
       "      <td>40.844833</td>\n",
       "      <td>581</td>\n",
       "      <td>2003-09-24 22:35:00</td>\n",
       "      <td>764.413086</td>\n",
       "      <td>656</td>\n",
       "      <td>0.006104</td>\n",
       "      <td>25.551611</td>\n",
       "      <td>24.775000</td>\n",
       "      <td>26.154999</td>\n",
       "      <td>...</td>\n",
       "      <td>standard</td>\n",
       "      <td>128</td>\n",
       "      <td>0</td>\n",
       "      <td>2</td>\n",
       "      <td>5.163661</td>\n",
       "      <td>5.632052</td>\n",
       "      <td>-0.723022</td>\n",
       "      <td>-0.590398</td>\n",
       "      <td>0.076410</td>\n",
       "      <td>0.052984</td>\n",
       "    </tr>\n",
       "    <tr>\n",
       "      <th>3</th>\n",
       "      <td>39.071575</td>\n",
       "      <td>18.569141</td>\n",
       "      <td>1028</td>\n",
       "      <td>2003-05-01 01:05:00</td>\n",
       "      <td>371.310120</td>\n",
       "      <td>898</td>\n",
       "      <td>0.049988</td>\n",
       "      <td>16.414951</td>\n",
       "      <td>15.160000</td>\n",
       "      <td>17.205000</td>\n",
       "      <td>...</td>\n",
       "      <td>standard</td>\n",
       "      <td>128</td>\n",
       "      <td>0</td>\n",
       "      <td>3</td>\n",
       "      <td>1.839757</td>\n",
       "      <td>3.827878</td>\n",
       "      <td>-1.370202</td>\n",
       "      <td>-1.285166</td>\n",
       "      <td>0.187732</td>\n",
       "      <td>0.101415</td>\n",
       "    </tr>\n",
       "    <tr>\n",
       "      <th>4</th>\n",
       "      <td>17.901926</td>\n",
       "      <td>90.155480</td>\n",
       "      <td>997</td>\n",
       "      <td>2003-12-05 19:55:00</td>\n",
       "      <td>-214.759277</td>\n",
       "      <td>1520</td>\n",
       "      <td>0.035461</td>\n",
       "      <td>26.744499</td>\n",
       "      <td>24.975000</td>\n",
       "      <td>28.724998</td>\n",
       "      <td>...</td>\n",
       "      <td>standard</td>\n",
       "      <td>128</td>\n",
       "      <td>0</td>\n",
       "      <td>4</td>\n",
       "      <td>-1.020937</td>\n",
       "      <td>-1.186668</td>\n",
       "      <td>-1.902952</td>\n",
       "      <td>-2.023731</td>\n",
       "      <td>0.232980</td>\n",
       "      <td>0.235537</td>\n",
       "    </tr>\n",
       "  </tbody>\n",
       "</table>\n",
       "<p>5 rows × 25 columns</p>\n",
       "</div>"
      ],
      "text/plain": [
       "         lat         lon   col            datetime          LL   row  \\\n",
       "0  13.980967   62.675774   517 2003-03-10 21:25:00  520.178711   304   \n",
       "1  13.043748 -102.751816   706 2003-12-12 08:30:00  432.766724  1696   \n",
       "2 -18.086618   40.844833   581 2003-09-24 22:35:00  764.413086   656   \n",
       "3  39.071575   18.569141  1028 2003-05-01 01:05:00  371.310120   898   \n",
       "4  17.901926   90.155480   997 2003-12-05 19:55:00 -214.759277  1520   \n",
       "\n",
       "   clear_fraction  mean_temperature       Tmin       Tmax  ...   pp_root  \\\n",
       "0        0.000000         26.199476  25.250000  26.885000  ...  standard   \n",
       "1        0.049805         28.924648  27.789999  29.654999  ...  standard   \n",
       "2        0.006104         25.551611  24.775000  26.154999  ...  standard   \n",
       "3        0.049988         16.414951  15.160000  17.205000  ...  standard   \n",
       "4        0.035461         26.744499  24.975000  28.724998  ...  standard   \n",
       "\n",
       "   field_size pp_type  pp_idx        U0        U1  zonal_slope  merid_slope  \\\n",
       "0         128       0       0 -1.551078 -0.694188    -1.186275    -2.126147   \n",
       "1         128       0       1  4.891690  5.098271    -0.678604    -0.904867   \n",
       "2         128       0       2  5.163661  5.632052    -0.723022    -0.590398   \n",
       "3         128       0       3  1.839757  3.827878    -1.370202    -1.285166   \n",
       "4         128       0       4 -1.020937 -1.186668    -1.902952    -2.023731   \n",
       "\n",
       "   zonal_slope_err  merid_slope_err  \n",
       "0         0.137467         0.224244  \n",
       "1         0.115963         0.128991  \n",
       "2         0.076410         0.052984  \n",
       "3         0.187732         0.101415  \n",
       "4         0.232980         0.235537  \n",
       "\n",
       "[5 rows x 25 columns]"
      ]
     },
     "execution_count": 4,
     "metadata": {},
     "output_type": "execute_result"
    }
   ],
   "source": [
    "modis_tbl.head()"
   ]
  },
  {
   "cell_type": "code",
   "execution_count": 5,
   "id": "05cbc58c-ea3a-42d4-8031-e74ffa0586db",
   "metadata": {},
   "outputs": [
    {
     "data": {
      "text/plain": [
       "Index(['lat', 'lon', 'col', 'datetime', 'LL', 'row', 'clear_fraction',\n",
       "       'mean_temperature', 'Tmin', 'Tmax', 'T90', 'T10', 'filename', 'UID',\n",
       "       'pp_file', 'pp_root', 'field_size', 'pp_type', 'pp_idx', 'U0', 'U1',\n",
       "       'zonal_slope', 'merid_slope', 'zonal_slope_err', 'merid_slope_err'],\n",
       "      dtype='object')"
      ]
     },
     "execution_count": 5,
     "metadata": {},
     "output_type": "execute_result"
    }
   ],
   "source": [
    "modis_tbl.keys()"
   ]
  },
  {
   "cell_type": "markdown",
   "id": "d242e90d-be06-4201-9bac-4eb23aba46e3",
   "metadata": {},
   "source": [
    "# Explore Cloud Cover"
   ]
  },
  {
   "cell_type": "code",
   "execution_count": 6,
   "id": "bc4434d4-0d9b-44cf-b8a7-edba541e49aa",
   "metadata": {},
   "outputs": [
    {
     "data": {
      "text/plain": [
       "0           0.000000\n",
       "1           0.049805\n",
       "2           0.006104\n",
       "3           0.049988\n",
       "4           0.035461\n",
       "              ...   \n",
       "12493756    0.046143\n",
       "12493757    0.049744\n",
       "12493758    0.042664\n",
       "12493759    0.049622\n",
       "12493760    0.047791\n",
       "Name: clear_fraction, Length: 12493761, dtype: float64"
      ]
     },
     "execution_count": 6,
     "metadata": {},
     "output_type": "execute_result"
    }
   ],
   "source": [
    "modis_tbl.clear_fraction"
   ]
  },
  {
   "cell_type": "code",
   "execution_count": 7,
   "id": "e9adcf9d-9a7e-44f1-8aba-016d683c9aa6",
   "metadata": {},
   "outputs": [],
   "source": [
    "modis_tbl['DT'] = modis_tbl.T90 - modis_tbl.T10"
   ]
  },
  {
   "cell_type": "markdown",
   "id": "2d9acbe6-c0c3-453d-8229-06e2b768af92",
   "metadata": {},
   "source": [
    "## T, LL cuts"
   ]
  },
  {
   "cell_type": "code",
   "execution_count": 8,
   "id": "885949a7-5c3a-45bf-95f4-7b2fa5d1db78",
   "metadata": {},
   "outputs": [],
   "source": [
    "T_cut = modis_tbl.DT > 3.\n",
    "LL_cut = modis_tbl.LL < -1000."
   ]
  },
  {
   "cell_type": "code",
   "execution_count": null,
   "id": "d63bf981-b0fa-4b64-91ae-29127c71d138",
   "metadata": {},
   "outputs": [],
   "source": []
  },
  {
   "cell_type": "code",
   "execution_count": 12,
   "id": "76005ff4-76a3-4ad3-b22e-7c80c3611bb2",
   "metadata": {},
   "outputs": [],
   "source": [
    "#cf_vals = [0.05, 0.04, 0.03, 0.02, 0.01, 0.]\n",
    "cf_vals = np.linspace(0., 0.05, 50) "
   ]
  },
  {
   "cell_type": "code",
   "execution_count": 21,
   "id": "cef484e5-acca-4861-99fc-b7059fc77007",
   "metadata": {},
   "outputs": [],
   "source": [
    "sv_fracs = []\n",
    "sv_diff=[]\n",
    "nTots = []\n",
    "for ss, cf_val in enumerate(cf_vals):\n",
    "    cf_cut = modis_tbl.clear_fraction <= cf_val\n",
    "    # Stats time\n",
    "    nTot = np.sum(cf_cut)\n",
    "    nCut = np.sum(cf_cut & T_cut & LL_cut)\n",
    "    # Print\n",
    "    #print(f'cf_val: {cf_val}, nOut={nCut}, nTot={nTot}, frac={nCut/nTot}')\n",
    "    #\n",
    "    sv_fracs.append(nCut/nTot)\n",
    "    # Differential\n",
    "    if cf_val < cf_vals[-1]:\n",
    "        cf_cut = (modis_tbl.clear_fraction >= cf_val) & (modis_tbl.clear_fraction < cf_vals[ss+1])\n",
    "        # Stats time\n",
    "        nTot = np.sum(cf_cut)\n",
    "        nCut = np.sum(cf_cut & T_cut & LL_cut)\n",
    "        #\n",
    "        sv_diff.append(nCut/nTot)\n",
    "        nTots.append(nTot)"
   ]
  },
  {
   "cell_type": "markdown",
   "id": "25181306-b6e4-4a38-bb81-9230dce3b9d8",
   "metadata": {},
   "source": [
    "## Plot Cumulative"
   ]
  },
  {
   "cell_type": "code",
   "execution_count": 19,
   "id": "bd58855d-bc4f-466d-a0f1-7916701f8d35",
   "metadata": {},
   "outputs": [
    {
     "data": {
      "image/png": "[encoded data removed]",
      "text/plain": [
       "<Figure size 432x288 with 1 Axes>"
      ]
     },
     "metadata": {
      "needs_background": "light"
     },
     "output_type": "display_data"
    }
   ],
   "source": [
    "plt.clf()\n",
    "ax = plt.gca()\n",
    "ax.plot(cf_vals, sv_fracs)\n",
    "#\n",
    "ax.set_xlabel('Cloudy Fraction')\n",
    "ax.set_ylabel('Outlier Fraction')\n",
    "#\n",
    "plt.savefig('outlier_fraction.png', dpi=200)\n",
    "plt.show()"
   ]
  },
  {
   "cell_type": "markdown",
   "id": "964cc1f9-8a4c-4dab-b7b2-d031f55e09be",
   "metadata": {},
   "source": [
    "## Plot Differential"
   ]
  },
  {
   "cell_type": "code",
   "execution_count": 18,
   "id": "0e28ed41-4032-489f-b8a5-870d91eef6b4",
   "metadata": {},
   "outputs": [
    {
     "data": {
      "image/png": "[encoded data removed]",
      "text/plain": [
       "<Figure size 432x288 with 1 Axes>"
      ]
     },
     "metadata": {
      "needs_background": "light"
     },
     "output_type": "display_data"
    }
   ],
   "source": [
    "plt.clf()\n",
    "ax = plt.gca()\n",
    "ax.plot(cf_vals[:-1], sv_diff, 'ok')\n",
    "#\n",
    "ax.set_xlabel('Cloudy Fraction')\n",
    "ax.set_ylabel('Outlier Fraction')\n",
    "#\n",
    "plt.savefig('outlier_fraction_diff.png', dpi=200)\n",
    "plt.show()"
   ]
  },
  {
   "cell_type": "markdown",
   "id": "007478e8-c574-40aa-a807-35415f80128a",
   "metadata": {},
   "source": [
    "## Plot N"
   ]
  },
  {
   "cell_type": "code",
   "execution_count": 22,
   "id": "0c964770-960b-4013-a544-dc15f1892e6f",
   "metadata": {},
   "outputs": [
    {
     "data": {
      "image/png": "[encoded data removed]",
      "text/plain": [
       "<Figure size 432x288 with 1 Axes>"
      ]
     },
     "metadata": {
      "needs_background": "light"
     },
     "output_type": "display_data"
    }
   ],
   "source": [
    "plt.clf()\n",
    "ax = plt.gca()\n",
    "ax.plot(cf_vals[:-1], nTots, 'og')\n",
    "#\n",
    "ax.set_xlabel('Cloudy Fraction')\n",
    "ax.set_ylabel('Outlier Fraction')\n",
    "#\n",
    "plt.savefig('outlier_fraction_N.png', dpi=200)\n",
    "plt.show()"
   ]
  },
  {
   "cell_type": "code",
   "execution_count": 22,
   "id": "33e16c06-4a90-4fff-9b28-c90f279da740",
   "metadata": {},
   "outputs": [
    {
     "data": {
      "text/plain": [
       "74.51923076923077"
      ]
     },
     "execution_count": 22,
     "metadata": {},
     "output_type": "execute_result"
    }
   ],
   "source": [
    "15500./208"
   ]
  },
  {
   "cell_type": "code",
   "execution_count": 26,
   "id": "71bc4149-e65f-44ec-b913-462e61372236",
   "metadata": {},
   "outputs": [
    {
     "data": {
      "text/plain": [
       "0.04998779296875"
      ]
     },
     "execution_count": 26,
     "metadata": {},
     "output_type": "execute_result"
    }
   ],
   "source": [
    "modis_tbl.clear_fraction.max()"
   ]
  },
  {
   "cell_type": "code",
   "execution_count": null,
   "id": "42af5c34-5f9e-446f-ba53-706e1276d2ac",
   "metadata": {},
   "outputs": [],
   "source": []
  }
 ],
 "metadata": {
  "kernelspec": {
   "display_name": "Python 3 (ipykernel)",
   "language": "python",
   "name": "python3"
  },
  "language_info": {
   "codemirror_mode": {
    "name": "ipython",
    "version": 3
   },
   "file_extension": ".py",
   "mimetype": "text/x-python",
   "name": "python",
   "nbconvert_exporter": "python",
   "pygments_lexer": "ipython3",
   "version": "3.9.9"
  }
 },
 "nbformat": 4,
 "nbformat_minor": 5
}
