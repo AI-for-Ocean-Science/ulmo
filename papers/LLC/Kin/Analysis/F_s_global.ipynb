{
 "cells": [
  {
   "cell_type": "markdown",
   "id": "79ae341f-a236-4080-9c60-4d74fec78153",
   "metadata": {},
   "source": [
    "# Examining F_s across the globe"
   ]
  },
  {
   "cell_type": "code",
   "execution_count": 45,
   "id": "47acfdc6-c285-4eb9-bea4-e38ae9f2dbe3",
   "metadata": {},
   "outputs": [],
   "source": [
    "# imports\n",
    "from importlib import reload\n",
    "import numpy as np\n",
    "import xarray\n",
    "\n",
    "from matplotlib import pyplot as plt\n",
    "\n",
    "from ulmo import io as ulmo_io\n",
    "from ulmo.llc import io as llc_io \n",
    "from ulmo.llc import kinematics\n",
    "from ulmo.plotting import plotting"
   ]
  },
  {
   "cell_type": "markdown",
   "id": "9de8100e-b7e8-4aec-97e0-dcf1b72ca553",
   "metadata": {},
   "source": [
    "# Init"
   ]
  },
  {
   "cell_type": "code",
   "execution_count": 30,
   "id": "34e64cb8-c0e0-4acc-88bf-ab54bfab2e06",
   "metadata": {},
   "outputs": [],
   "source": [
    "field_size = 64"
   ]
  },
  {
   "cell_type": "markdown",
   "id": "1da8b08b-3581-47cd-9160-52faa2d0a6b6",
   "metadata": {},
   "source": [
    "# Load up the table"
   ]
  },
  {
   "cell_type": "code",
   "execution_count": 3,
   "id": "41f5f68f-e5e9-4a90-b3b1-18259247a083",
   "metadata": {},
   "outputs": [
    {
     "name": "stdout",
     "output_type": "stream",
     "text": [
      "Read main table: s3://llc/Tables/LLC_FS_r1.0.parquet\n"
     ]
    }
   ],
   "source": [
    "LLC_FS_file = 's3://llc/Tables/LLC_FS_r1.0.parquet'\n",
    "llc_table = ulmo_io.load_main_table(LLC_FS_file)"
   ]
  },
  {
   "cell_type": "code",
   "execution_count": 4,
   "id": "52704f5d-d2cb-4df4-8dc6-8285e7d5be61",
   "metadata": {},
   "outputs": [
    {
     "data": {
      "text/plain": [
       "0        -170.447922\n",
       "1        -155.677078\n",
       "2        -155.635422\n",
       "3        -152.864578\n",
       "4        -152.114578\n",
       "             ...    \n",
       "115960    175.489578\n",
       "115961    176.489578\n",
       "115962    177.510422\n",
       "115963    178.510422\n",
       "115964    179.510422\n",
       "Name: lon, Length: 115965, dtype: float32"
      ]
     },
     "execution_count": 4,
     "metadata": {},
     "output_type": "execute_result"
    }
   ],
   "source": [
    "llc_table.lon"
   ]
  },
  {
   "cell_type": "markdown",
   "id": "c5298ef1-27a8-4197-ab32-d2e45417ff0f",
   "metadata": {},
   "source": [
    "# Load up the LLC data"
   ]
  },
  {
   "cell_type": "code",
   "execution_count": 12,
   "id": "5cffd52b-b176-4c9b-a30e-1c6e16001037",
   "metadata": {},
   "outputs": [
    {
     "data": {
      "text/html": [
       "<div><svg style=\"position: absolute; width: 0; height: 0; overflow: hidden\">\n",
       "<defs>\n",
       "<symbol id=\"icon-database\" viewBox=\"0 0 32 32\">\n",
       "<path d=\"M16 0c-8.837 0-16 2.239-16 5v4c0 2.761 7.163 5 16 5s16-2.239 16-5v-4c0-2.761-7.163-5-16-5z\"></path>\n",
       "<path d=\"M16 17c-8.837 0-16-2.239-16-5v6c0 2.761 7.163 5 16 5s16-2.239 16-5v-6c0 2.761-7.163 5-16 5z\"></path>\n",
       "<path d=\"M16 26c-8.837 0-16-2.239-16-5v6c0 2.761 7.163 5 16 5s16-2.239 16-5v-6c0 2.761-7.163 5-16 5z\"></path>\n",
       "</symbol>\n",
       "<symbol id=\"icon-file-text2\" viewBox=\"0 0 32 32\">\n",
       "<path d=\"M28.681 7.159c-0.694-0.947-1.662-2.053-2.724-3.116s-2.169-2.030-3.116-2.724c-1.612-1.182-2.393-1.319-2.841-1.319h-15.5c-1.378 0-2.5 1.121-2.5 2.5v27c0 1.378 1.122 2.5 2.5 2.5h23c1.378 0 2.5-1.122 2.5-2.5v-19.5c0-0.448-0.137-1.23-1.319-2.841zM24.543 5.457c0.959 0.959 1.712 1.825 2.268 2.543h-4.811v-4.811c0.718 0.556 1.584 1.309 2.543 2.268zM28 29.5c0 0.271-0.229 0.5-0.5 0.5h-23c-0.271 0-0.5-0.229-0.5-0.5v-27c0-0.271 0.229-0.5 0.5-0.5 0 0 15.499-0 15.5 0v7c0 0.552 0.448 1 1 1h7v19.5z\"></path>\n",
       "<path d=\"M23 26h-14c-0.552 0-1-0.448-1-1s0.448-1 1-1h14c0.552 0 1 0.448 1 1s-0.448 1-1 1z\"></path>\n",
       "<path d=\"M23 22h-14c-0.552 0-1-0.448-1-1s0.448-1 1-1h14c0.552 0 1 0.448 1 1s-0.448 1-1 1z\"></path>\n",
       "<path d=\"M23 18h-14c-0.552 0-1-0.448-1-1s0.448-1 1-1h14c0.552 0 1 0.448 1 1s-0.448 1-1 1z\"></path>\n",
       "</symbol>\n",
       "</defs>\n",
       "</svg>\n",
       "<style>/* CSS stylesheet for displaying xarray objects in jupyterlab.\n",
       " *\n",
       " */\n",
       "\n",
       ":root {\n",
       "  --xr-font-color0: var(--jp-content-font-color0, rgba(0, 0, 0, 1));\n",
       "  --xr-font-color2: var(--jp-content-font-color2, rgba(0, 0, 0, 0.54));\n",
       "  --xr-font-color3: var(--jp-content-font-color3, rgba(0, 0, 0, 0.38));\n",
       "  --xr-border-color: var(--jp-border-color2, #e0e0e0);\n",
       "  --xr-disabled-color: var(--jp-layout-color3, #bdbdbd);\n",
       "  --xr-background-color: var(--jp-layout-color0, white);\n",
       "  --xr-background-color-row-even: var(--jp-layout-color1, white);\n",
       "  --xr-background-color-row-odd: var(--jp-layout-color2, #eeeeee);\n",
       "}\n",
       "\n",
       "html[theme=dark],\n",
       "body.vscode-dark {\n",
       "  --xr-font-color0: rgba(255, 255, 255, 1);\n",
       "  --xr-font-color2: rgba(255, 255, 255, 0.54);\n",
       "  --xr-font-color3: rgba(255, 255, 255, 0.38);\n",
       "  --xr-border-color: #1F1F1F;\n",
       "  --xr-disabled-color: #515151;\n",
       "  --xr-background-color: #111111;\n",
       "  --xr-background-color-row-even: #111111;\n",
       "  --xr-background-color-row-odd: #313131;\n",
       "}\n",
       "\n",
       ".xr-wrap {\n",
       "  display: block !important;\n",
       "  min-width: 300px;\n",
       "  max-width: 700px;\n",
       "}\n",
       "\n",
       ".xr-text-repr-fallback {\n",
       "  /* fallback to plain text repr when CSS is not injected (untrusted notebook) */\n",
       "  display: none;\n",
       "}\n",
       "\n",
       ".xr-header {\n",
       "  padding-top: 6px;\n",
       "  padding-bottom: 6px;\n",
       "  margin-bottom: 4px;\n",
       "  border-bottom: solid 1px var(--xr-border-color);\n",
       "}\n",
       "\n",
       ".xr-header > div,\n",
       ".xr-header > ul {\n",
       "  display: inline;\n",
       "  margin-top: 0;\n",
       "  margin-bottom: 0;\n",
       "}\n",
       "\n",
       ".xr-obj-type,\n",
       ".xr-array-name {\n",
       "  margin-left: 2px;\n",
       "  margin-right: 10px;\n",
       "}\n",
       "\n",
       ".xr-obj-type {\n",
       "  color: var(--xr-font-color2);\n",
       "}\n",
       "\n",
       ".xr-sections {\n",
       "  padding-left: 0 !important;\n",
       "  display: grid;\n",
       "  grid-template-columns: 150px auto auto 1fr 20px 20px;\n",
       "}\n",
       "\n",
       ".xr-section-item {\n",
       "  display: contents;\n",
       "}\n",
       "\n",
       ".xr-section-item input {\n",
       "  display: none;\n",
       "}\n",
       "\n",
       ".xr-section-item input + label {\n",
       "  color: var(--xr-disabled-color);\n",
       "}\n",
       "\n",
       ".xr-section-item input:enabled + label {\n",
       "  cursor: pointer;\n",
       "  color: var(--xr-font-color2);\n",
       "}\n",
       "\n",
       ".xr-section-item input:enabled + label:hover {\n",
       "  color: var(--xr-font-color0);\n",
       "}\n",
       "\n",
       ".xr-section-summary {\n",
       "  grid-column: 1;\n",
       "  color: var(--xr-font-color2);\n",
       "  font-weight: 500;\n",
       "}\n",
       "\n",
       ".xr-section-summary > span {\n",
       "  display: inline-block;\n",
       "  padding-left: 0.5em;\n",
       "}\n",
       "\n",
       ".xr-section-summary-in:disabled + label {\n",
       "  color: var(--xr-font-color2);\n",
       "}\n",
       "\n",
       ".xr-section-summary-in + label:before {\n",
       "  display: inline-block;\n",
       "  content: '►';\n",
       "  font-size: 11px;\n",
       "  width: 15px;\n",
       "  text-align: center;\n",
       "}\n",
       "\n",
       ".xr-section-summary-in:disabled + label:before {\n",
       "  color: var(--xr-disabled-color);\n",
       "}\n",
       "\n",
       ".xr-section-summary-in:checked + label:before {\n",
       "  content: '▼';\n",
       "}\n",
       "\n",
       ".xr-section-summary-in:checked + label > span {\n",
       "  display: none;\n",
       "}\n",
       "\n",
       ".xr-section-summary,\n",
       ".xr-section-inline-details {\n",
       "  padding-top: 4px;\n",
       "  padding-bottom: 4px;\n",
       "}\n",
       "\n",
       ".xr-section-inline-details {\n",
       "  grid-column: 2 / -1;\n",
       "}\n",
       "\n",
       ".xr-section-details {\n",
       "  display: none;\n",
       "  grid-column: 1 / -1;\n",
       "  margin-bottom: 5px;\n",
       "}\n",
       "\n",
       ".xr-section-summary-in:checked ~ .xr-section-details {\n",
       "  display: contents;\n",
       "}\n",
       "\n",
       ".xr-array-wrap {\n",
       "  grid-column: 1 / -1;\n",
       "  display: grid;\n",
       "  grid-template-columns: 20px auto;\n",
       "}\n",
       "\n",
       ".xr-array-wrap > label {\n",
       "  grid-column: 1;\n",
       "  vertical-align: top;\n",
       "}\n",
       "\n",
       ".xr-preview {\n",
       "  color: var(--xr-font-color3);\n",
       "}\n",
       "\n",
       ".xr-array-preview,\n",
       ".xr-array-data {\n",
       "  padding: 0 5px !important;\n",
       "  grid-column: 2;\n",
       "}\n",
       "\n",
       ".xr-array-data,\n",
       ".xr-array-in:checked ~ .xr-array-preview {\n",
       "  display: none;\n",
       "}\n",
       "\n",
       ".xr-array-in:checked ~ .xr-array-data,\n",
       ".xr-array-preview {\n",
       "  display: inline-block;\n",
       "}\n",
       "\n",
       ".xr-dim-list {\n",
       "  display: inline-block !important;\n",
       "  list-style: none;\n",
       "  padding: 0 !important;\n",
       "  margin: 0;\n",
       "}\n",
       "\n",
       ".xr-dim-list li {\n",
       "  display: inline-block;\n",
       "  padding: 0;\n",
       "  margin: 0;\n",
       "}\n",
       "\n",
       ".xr-dim-list:before {\n",
       "  content: '(';\n",
       "}\n",
       "\n",
       ".xr-dim-list:after {\n",
       "  content: ')';\n",
       "}\n",
       "\n",
       ".xr-dim-list li:not(:last-child):after {\n",
       "  content: ',';\n",
       "  padding-right: 5px;\n",
       "}\n",
       "\n",
       ".xr-has-index {\n",
       "  font-weight: bold;\n",
       "}\n",
       "\n",
       ".xr-var-list,\n",
       ".xr-var-item {\n",
       "  display: contents;\n",
       "}\n",
       "\n",
       ".xr-var-item > div,\n",
       ".xr-var-item label,\n",
       ".xr-var-item > .xr-var-name span {\n",
       "  background-color: var(--xr-background-color-row-even);\n",
       "  margin-bottom: 0;\n",
       "}\n",
       "\n",
       ".xr-var-item > .xr-var-name:hover span {\n",
       "  padding-right: 5px;\n",
       "}\n",
       "\n",
       ".xr-var-list > li:nth-child(odd) > div,\n",
       ".xr-var-list > li:nth-child(odd) > label,\n",
       ".xr-var-list > li:nth-child(odd) > .xr-var-name span {\n",
       "  background-color: var(--xr-background-color-row-odd);\n",
       "}\n",
       "\n",
       ".xr-var-name {\n",
       "  grid-column: 1;\n",
       "}\n",
       "\n",
       ".xr-var-dims {\n",
       "  grid-column: 2;\n",
       "}\n",
       "\n",
       ".xr-var-dtype {\n",
       "  grid-column: 3;\n",
       "  text-align: right;\n",
       "  color: var(--xr-font-color2);\n",
       "}\n",
       "\n",
       ".xr-var-preview {\n",
       "  grid-column: 4;\n",
       "}\n",
       "\n",
       ".xr-var-name,\n",
       ".xr-var-dims,\n",
       ".xr-var-dtype,\n",
       ".xr-preview,\n",
       ".xr-attrs dt {\n",
       "  white-space: nowrap;\n",
       "  overflow: hidden;\n",
       "  text-overflow: ellipsis;\n",
       "  padding-right: 10px;\n",
       "}\n",
       "\n",
       ".xr-var-name:hover,\n",
       ".xr-var-dims:hover,\n",
       ".xr-var-dtype:hover,\n",
       ".xr-attrs dt:hover {\n",
       "  overflow: visible;\n",
       "  width: auto;\n",
       "  z-index: 1;\n",
       "}\n",
       "\n",
       ".xr-var-attrs,\n",
       ".xr-var-data {\n",
       "  display: none;\n",
       "  background-color: var(--xr-background-color) !important;\n",
       "  padding-bottom: 5px !important;\n",
       "}\n",
       "\n",
       ".xr-var-attrs-in:checked ~ .xr-var-attrs,\n",
       ".xr-var-data-in:checked ~ .xr-var-data {\n",
       "  display: block;\n",
       "}\n",
       "\n",
       ".xr-var-data > table {\n",
       "  float: right;\n",
       "}\n",
       "\n",
       ".xr-var-name span,\n",
       ".xr-var-data,\n",
       ".xr-attrs {\n",
       "  padding-left: 25px !important;\n",
       "}\n",
       "\n",
       ".xr-attrs,\n",
       ".xr-var-attrs,\n",
       ".xr-var-data {\n",
       "  grid-column: 1 / -1;\n",
       "}\n",
       "\n",
       "dl.xr-attrs {\n",
       "  padding: 0;\n",
       "  margin: 0;\n",
       "  display: grid;\n",
       "  grid-template-columns: 125px auto;\n",
       "}\n",
       "\n",
       ".xr-attrs dt,\n",
       ".xr-attrs dd {\n",
       "  padding: 0;\n",
       "  margin: 0;\n",
       "  float: left;\n",
       "  padding-right: 10px;\n",
       "  width: auto;\n",
       "}\n",
       "\n",
       ".xr-attrs dt {\n",
       "  font-weight: normal;\n",
       "  grid-column: 1;\n",
       "}\n",
       "\n",
       ".xr-attrs dt:hover span {\n",
       "  display: inline-block;\n",
       "  background: var(--xr-background-color);\n",
       "  padding-right: 10px;\n",
       "}\n",
       "\n",
       ".xr-attrs dd {\n",
       "  grid-column: 2;\n",
       "  white-space: pre-wrap;\n",
       "  word-break: break-all;\n",
       "}\n",
       "\n",
       ".xr-icon-database,\n",
       ".xr-icon-file-text2 {\n",
       "  display: inline-block;\n",
       "  vertical-align: middle;\n",
       "  width: 1em;\n",
       "  height: 1.5em !important;\n",
       "  stroke-width: 0;\n",
       "  stroke: currentColor;\n",
       "  fill: currentColor;\n",
       "}\n",
       "</style><pre class='xr-text-repr-fallback'>&lt;xarray.Dataset&gt;\n",
       "Dimensions:  (i: 17280, i_g: 17280, j: 12960, j_g: 12960, k_l: 1)\n",
       "Coordinates:\n",
       "  * i        (i) int64 0 1 2 3 4 5 6 ... 17274 17275 17276 17277 17278 17279\n",
       "  * i_g      (i_g) int64 0 1 2 3 4 5 6 ... 17274 17275 17276 17277 17278 17279\n",
       "  * j        (j) int64 0 1 2 3 4 5 6 ... 12954 12955 12956 12957 12958 12959\n",
       "  * j_g      (j_g) int64 0 1 2 3 4 5 6 ... 12954 12955 12956 12957 12958 12959\n",
       "Dimensions without coordinates: k_l\n",
       "Data variables:\n",
       "    Theta    (j, i) float32 ...\n",
       "    U        (j, i_g) float32 ...\n",
       "    V        (j_g, i) float32 ...\n",
       "    W        (k_l, j, i) float32 ...\n",
       "    Salt     (j, i) float32 ...</pre><div class='xr-wrap' style='display:none'><div class='xr-header'><div class='xr-obj-type'>xarray.Dataset</div></div><ul class='xr-sections'><li class='xr-section-item'><input id='section-8fab32ff-ad68-49b0-be44-c7f69ad459b7' class='xr-section-summary-in' type='checkbox' disabled ><label for='section-8fab32ff-ad68-49b0-be44-c7f69ad459b7' class='xr-section-summary'  title='Expand/collapse section'>Dimensions:</label><div class='xr-section-inline-details'><ul class='xr-dim-list'><li><span class='xr-has-index'>i</span>: 17280</li><li><span class='xr-has-index'>i_g</span>: 17280</li><li><span class='xr-has-index'>j</span>: 12960</li><li><span class='xr-has-index'>j_g</span>: 12960</li><li><span>k_l</span>: 1</li></ul></div><div class='xr-section-details'></div></li><li class='xr-section-item'><input id='section-353eb525-119c-475c-934d-cb73b7e9fe58' class='xr-section-summary-in' type='checkbox'  checked><label for='section-353eb525-119c-475c-934d-cb73b7e9fe58' class='xr-section-summary' >Coordinates: <span>(4)</span></label><div class='xr-section-inline-details'></div><div class='xr-section-details'><ul class='xr-var-list'><li class='xr-var-item'><div class='xr-var-name'><span class='xr-has-index'>i</span></div><div class='xr-var-dims'>(i)</div><div class='xr-var-dtype'>int64</div><div class='xr-var-preview xr-preview'>0 1 2 3 ... 17276 17277 17278 17279</div><input id='attrs-44ef76d4-6a1a-463c-a4e5-e952e55b9021' class='xr-var-attrs-in' type='checkbox' ><label for='attrs-44ef76d4-6a1a-463c-a4e5-e952e55b9021' title='Show/Hide attributes'><svg class='icon xr-icon-file-text2'><use xlink:href='#icon-file-text2'></use></svg></label><input id='data-4854034c-fe7f-4969-a1a4-a036aa8262b5' class='xr-var-data-in' type='checkbox'><label for='data-4854034c-fe7f-4969-a1a4-a036aa8262b5' title='Show/Hide data repr'><svg class='icon xr-icon-database'><use xlink:href='#icon-database'></use></svg></label><div class='xr-var-attrs'><dl class='xr-attrs'><dt><span>standard_name :</span></dt><dd>x_grid_index</dd><dt><span>axis :</span></dt><dd>X</dd><dt><span>long_name :</span></dt><dd>x-dimension of the t grid</dd><dt><span>swap_dim :</span></dt><dd>XC</dd></dl></div><div class='xr-var-data'><pre>array([    0,     1,     2, ..., 17277, 17278, 17279])</pre></div></li><li class='xr-var-item'><div class='xr-var-name'><span class='xr-has-index'>i_g</span></div><div class='xr-var-dims'>(i_g)</div><div class='xr-var-dtype'>int64</div><div class='xr-var-preview xr-preview'>0 1 2 3 ... 17276 17277 17278 17279</div><input id='attrs-01745599-15f1-40af-a1d0-eff5800625ac' class='xr-var-attrs-in' type='checkbox' ><label for='attrs-01745599-15f1-40af-a1d0-eff5800625ac' title='Show/Hide attributes'><svg class='icon xr-icon-file-text2'><use xlink:href='#icon-file-text2'></use></svg></label><input id='data-5514d620-8bc8-427a-b1da-dbadf0853e81' class='xr-var-data-in' type='checkbox'><label for='data-5514d620-8bc8-427a-b1da-dbadf0853e81' title='Show/Hide data repr'><svg class='icon xr-icon-database'><use xlink:href='#icon-database'></use></svg></label><div class='xr-var-attrs'><dl class='xr-attrs'><dt><span>standard_name :</span></dt><dd>x_grid_index_at_u_location</dd><dt><span>axis :</span></dt><dd>X</dd><dt><span>long_name :</span></dt><dd>x-dimension of the u grid</dd><dt><span>c_grid_axis_shift :</span></dt><dd>-0.5</dd><dt><span>swap_dim :</span></dt><dd>XG</dd></dl></div><div class='xr-var-data'><pre>array([    0,     1,     2, ..., 17277, 17278, 17279])</pre></div></li><li class='xr-var-item'><div class='xr-var-name'><span class='xr-has-index'>j</span></div><div class='xr-var-dims'>(j)</div><div class='xr-var-dtype'>int64</div><div class='xr-var-preview xr-preview'>0 1 2 3 ... 12956 12957 12958 12959</div><input id='attrs-1209f4df-74ae-497f-b2ea-369d9bfa872c' class='xr-var-attrs-in' type='checkbox' ><label for='attrs-1209f4df-74ae-497f-b2ea-369d9bfa872c' title='Show/Hide attributes'><svg class='icon xr-icon-file-text2'><use xlink:href='#icon-file-text2'></use></svg></label><input id='data-19d24b18-3759-4f14-8dbc-f4dbde3562ad' class='xr-var-data-in' type='checkbox'><label for='data-19d24b18-3759-4f14-8dbc-f4dbde3562ad' title='Show/Hide data repr'><svg class='icon xr-icon-database'><use xlink:href='#icon-database'></use></svg></label><div class='xr-var-attrs'><dl class='xr-attrs'><dt><span>standard_name :</span></dt><dd>y_grid_index</dd><dt><span>axis :</span></dt><dd>Y</dd><dt><span>long_name :</span></dt><dd>y-dimension of the t grid</dd><dt><span>swap_dim :</span></dt><dd>YC</dd></dl></div><div class='xr-var-data'><pre>array([    0,     1,     2, ..., 12957, 12958, 12959])</pre></div></li><li class='xr-var-item'><div class='xr-var-name'><span class='xr-has-index'>j_g</span></div><div class='xr-var-dims'>(j_g)</div><div class='xr-var-dtype'>int64</div><div class='xr-var-preview xr-preview'>0 1 2 3 ... 12956 12957 12958 12959</div><input id='attrs-915d5844-939e-43bd-abc0-70c8f376db60' class='xr-var-attrs-in' type='checkbox' ><label for='attrs-915d5844-939e-43bd-abc0-70c8f376db60' title='Show/Hide attributes'><svg class='icon xr-icon-file-text2'><use xlink:href='#icon-file-text2'></use></svg></label><input id='data-339f4525-afcc-48c5-92ee-4a702943cc6d' class='xr-var-data-in' type='checkbox'><label for='data-339f4525-afcc-48c5-92ee-4a702943cc6d' title='Show/Hide data repr'><svg class='icon xr-icon-database'><use xlink:href='#icon-database'></use></svg></label><div class='xr-var-attrs'><dl class='xr-attrs'><dt><span>standard_name :</span></dt><dd>y_grid_index_at_v_location</dd><dt><span>axis :</span></dt><dd>Y</dd><dt><span>long_name :</span></dt><dd>y-dimension of the v grid</dd><dt><span>c_grid_axis_shift :</span></dt><dd>-0.5</dd><dt><span>swap_dim :</span></dt><dd>YG</dd></dl></div><div class='xr-var-data'><pre>array([    0,     1,     2, ..., 12957, 12958, 12959])</pre></div></li></ul></div></li><li class='xr-section-item'><input id='section-85d3af64-9a27-4f69-86e4-4b3ad273e072' class='xr-section-summary-in' type='checkbox'  checked><label for='section-85d3af64-9a27-4f69-86e4-4b3ad273e072' class='xr-section-summary' >Data variables: <span>(5)</span></label><div class='xr-section-inline-details'></div><div class='xr-section-details'><ul class='xr-var-list'><li class='xr-var-item'><div class='xr-var-name'><span>Theta</span></div><div class='xr-var-dims'>(j, i)</div><div class='xr-var-dtype'>float32</div><div class='xr-var-preview xr-preview'>...</div><input id='attrs-acb911ff-e04c-4c88-9f0b-05b00afcdc57' class='xr-var-attrs-in' type='checkbox' ><label for='attrs-acb911ff-e04c-4c88-9f0b-05b00afcdc57' title='Show/Hide attributes'><svg class='icon xr-icon-file-text2'><use xlink:href='#icon-file-text2'></use></svg></label><input id='data-6e13bc60-a629-489c-9190-b8ef65d97efc' class='xr-var-data-in' type='checkbox'><label for='data-6e13bc60-a629-489c-9190-b8ef65d97efc' title='Show/Hide data repr'><svg class='icon xr-icon-database'><use xlink:href='#icon-database'></use></svg></label><div class='xr-var-attrs'><dl class='xr-attrs'><dt><span>standard_name :</span></dt><dd>THETA</dd><dt><span>long_name :</span></dt><dd>Potential Temperature</dd><dt><span>units :</span></dt><dd>degC</dd></dl></div><div class='xr-var-data'><pre>[223948800 values with dtype=float32]</pre></div></li><li class='xr-var-item'><div class='xr-var-name'><span>U</span></div><div class='xr-var-dims'>(j, i_g)</div><div class='xr-var-dtype'>float32</div><div class='xr-var-preview xr-preview'>...</div><input id='attrs-1013e223-b0c4-4984-938a-aa577e2b7e8c' class='xr-var-attrs-in' type='checkbox' ><label for='attrs-1013e223-b0c4-4984-938a-aa577e2b7e8c' title='Show/Hide attributes'><svg class='icon xr-icon-file-text2'><use xlink:href='#icon-file-text2'></use></svg></label><input id='data-9c85411b-8256-4b88-b8b9-a7bcafb0d14d' class='xr-var-data-in' type='checkbox'><label for='data-9c85411b-8256-4b88-b8b9-a7bcafb0d14d' title='Show/Hide data repr'><svg class='icon xr-icon-database'><use xlink:href='#icon-database'></use></svg></label><div class='xr-var-attrs'><dl class='xr-attrs'><dt><span>standard_name :</span></dt><dd>sea_water_x_velocity</dd><dt><span>mate :</span></dt><dd>V</dd><dt><span>long_name :</span></dt><dd>Zonal Component of Velocity</dd><dt><span>units :</span></dt><dd>m s-1</dd></dl></div><div class='xr-var-data'><pre>[223948800 values with dtype=float32]</pre></div></li><li class='xr-var-item'><div class='xr-var-name'><span>V</span></div><div class='xr-var-dims'>(j_g, i)</div><div class='xr-var-dtype'>float32</div><div class='xr-var-preview xr-preview'>...</div><input id='attrs-56f24b04-3eb5-4f1c-8c7b-7144944c69f4' class='xr-var-attrs-in' type='checkbox' ><label for='attrs-56f24b04-3eb5-4f1c-8c7b-7144944c69f4' title='Show/Hide attributes'><svg class='icon xr-icon-file-text2'><use xlink:href='#icon-file-text2'></use></svg></label><input id='data-5786fc83-7cd7-4ad6-8f85-8d489fcbcc25' class='xr-var-data-in' type='checkbox'><label for='data-5786fc83-7cd7-4ad6-8f85-8d489fcbcc25' title='Show/Hide data repr'><svg class='icon xr-icon-database'><use xlink:href='#icon-database'></use></svg></label><div class='xr-var-attrs'><dl class='xr-attrs'><dt><span>standard_name :</span></dt><dd>sea_water_y_velocity</dd><dt><span>mate :</span></dt><dd>U</dd><dt><span>long_name :</span></dt><dd>Meridional Component of Velocity</dd><dt><span>units :</span></dt><dd>m s-1</dd></dl></div><div class='xr-var-data'><pre>[223948800 values with dtype=float32]</pre></div></li><li class='xr-var-item'><div class='xr-var-name'><span>W</span></div><div class='xr-var-dims'>(k_l, j, i)</div><div class='xr-var-dtype'>float32</div><div class='xr-var-preview xr-preview'>...</div><input id='attrs-c8e0b8a7-ed8f-4943-9470-0d7b54eaba9f' class='xr-var-attrs-in' type='checkbox' ><label for='attrs-c8e0b8a7-ed8f-4943-9470-0d7b54eaba9f' title='Show/Hide attributes'><svg class='icon xr-icon-file-text2'><use xlink:href='#icon-file-text2'></use></svg></label><input id='data-088effa9-bcb8-4365-83b3-74e6889582aa' class='xr-var-data-in' type='checkbox'><label for='data-088effa9-bcb8-4365-83b3-74e6889582aa' title='Show/Hide data repr'><svg class='icon xr-icon-database'><use xlink:href='#icon-database'></use></svg></label><div class='xr-var-attrs'><dl class='xr-attrs'><dt><span>standard_name :</span></dt><dd>sea_water_z_velocity</dd><dt><span>long_name :</span></dt><dd>Vertical Component of Velocity</dd><dt><span>units :</span></dt><dd>m s-1</dd></dl></div><div class='xr-var-data'><pre>[223948800 values with dtype=float32]</pre></div></li><li class='xr-var-item'><div class='xr-var-name'><span>Salt</span></div><div class='xr-var-dims'>(j, i)</div><div class='xr-var-dtype'>float32</div><div class='xr-var-preview xr-preview'>...</div><input id='attrs-547fa72f-913e-4de0-91da-0dfebad5b11d' class='xr-var-attrs-in' type='checkbox' ><label for='attrs-547fa72f-913e-4de0-91da-0dfebad5b11d' title='Show/Hide attributes'><svg class='icon xr-icon-file-text2'><use xlink:href='#icon-file-text2'></use></svg></label><input id='data-d004a6a3-f68f-4eeb-aa42-873125ab5416' class='xr-var-data-in' type='checkbox'><label for='data-d004a6a3-f68f-4eeb-aa42-873125ab5416' title='Show/Hide data repr'><svg class='icon xr-icon-database'><use xlink:href='#icon-database'></use></svg></label><div class='xr-var-attrs'><dl class='xr-attrs'><dt><span>standard_name :</span></dt><dd>SALT</dd><dt><span>long_name :</span></dt><dd>Salinity</dd><dt><span>units :</span></dt><dd>psu</dd></dl></div><div class='xr-var-data'><pre>[223948800 values with dtype=float32]</pre></div></li></ul></div></li><li class='xr-section-item'><input id='section-16638b93-59ab-419f-893e-25b1f4c4fea5' class='xr-section-summary-in' type='checkbox' disabled ><label for='section-16638b93-59ab-419f-893e-25b1f4c4fea5' class='xr-section-summary'  title='Expand/collapse section'>Attributes: <span>(0)</span></label><div class='xr-section-inline-details'></div><div class='xr-section-details'><dl class='xr-attrs'></dl></div></li></ul></div></div>"
      ],
      "text/plain": [
       "<xarray.Dataset>\n",
       "Dimensions:  (i: 17280, i_g: 17280, j: 12960, j_g: 12960, k_l: 1)\n",
       "Coordinates:\n",
       "  * i        (i) int64 0 1 2 3 4 5 6 ... 17274 17275 17276 17277 17278 17279\n",
       "  * i_g      (i_g) int64 0 1 2 3 4 5 6 ... 17274 17275 17276 17277 17278 17279\n",
       "  * j        (j) int64 0 1 2 3 4 5 6 ... 12954 12955 12956 12957 12958 12959\n",
       "  * j_g      (j_g) int64 0 1 2 3 4 5 6 ... 12954 12955 12956 12957 12958 12959\n",
       "Dimensions without coordinates: k_l\n",
       "Data variables:\n",
       "    Theta    (j, i) float32 ...\n",
       "    U        (j, i_g) float32 ...\n",
       "    V        (j_g, i) float32 ...\n",
       "    W        (k_l, j, i) float32 ...\n",
       "    Salt     (j, i) float32 ..."
      ]
     },
     "execution_count": 12,
     "metadata": {},
     "output_type": "execute_result"
    }
   ],
   "source": [
    "ds = xarray.open_dataset(llc_table.iloc[0].filename)\n",
    "ds"
   ]
  },
  {
   "cell_type": "markdown",
   "id": "89e8c5c0-4455-4696-b12d-ae8ee3268a59",
   "metadata": {},
   "source": [
    "## No Lazy"
   ]
  },
  {
   "cell_type": "code",
   "execution_count": 14,
   "id": "6fa89f9c-9c36-4f1a-8ba9-de17ea47535f",
   "metadata": {},
   "outputs": [],
   "source": [
    "U = ds.U.values\n",
    "V = ds.V.values\n",
    "Salt = ds.Salt.values\n",
    "sst = ds.Theta.values"
   ]
  },
  {
   "cell_type": "markdown",
   "id": "80908acc-d200-464c-9c14-f9de9cb66bef",
   "metadata": {},
   "source": [
    "# Load Coords"
   ]
  },
  {
   "cell_type": "code",
   "execution_count": 16,
   "id": "9f107f42-d776-4f52-b14a-99b2bbb7b130",
   "metadata": {},
   "outputs": [
    {
     "name": "stdout",
     "output_type": "stream",
     "text": [
      "Loading LLC coords from /data/Projects/Oceanography/data/LLC/LLC_coords.nc\n"
     ]
    }
   ],
   "source": [
    "coords_ds = llc_io.load_coords()"
   ]
  },
  {
   "cell_type": "markdown",
   "id": "2aa3e789-0d58-480c-b12b-9733322e6e78",
   "metadata": {},
   "source": [
    "# Defs"
   ]
  },
  {
   "cell_type": "markdown",
   "id": "62c2d476-f343-4085-8ee5-c2baf9422978",
   "metadata": {},
   "source": [
    "## Plot"
   ]
  },
  {
   "cell_type": "code",
   "execution_count": 57,
   "id": "b2934caa-8bfa-416b-8151-18fc6dd9cf72",
   "metadata": {},
   "outputs": [],
   "source": [
    "def sst_Fs_from_cutout(cutout):\n",
    "    sst_cutout = llc_io.grab_cutout(sst, cutout.row, cutout.col, fixed_km=144., coords_ds=coords_ds)\n",
    "    U_cutout = llc_io.grab_cutout(U, cutout.row, cutout.col, fixed_km=144., coords_ds=coords_ds)\n",
    "    V_cutout = llc_io.grab_cutout(V, cutout.row, cutout.col, fixed_km=144., coords_ds=coords_ds)\n",
    "    Salt_cutout = llc_io.grab_cutout(Salt, cutout.row, cutout.col, fixed_km=144., coords_ds=coords_ds)\n",
    "    # F_s\n",
    "    F_s = kinematics.calc_F_s(U_cutout, V_cutout, sst_cutout, Salt_cutout)\n",
    "    # Resize\n",
    "    F_s_cutout = kinematics.resize_local_mean(F_s, (field_size, field_size))\n",
    "    \n",
    "    # Return\n",
    "    return sst_cutout, F_s_cutout"
   ]
  },
  {
   "cell_type": "markdown",
   "id": "73fdc80f-c990-4b64-b4ae-0cc01c34031b",
   "metadata": {},
   "source": [
    "## Grab interesting F_s"
   ]
  },
  {
   "cell_type": "code",
   "execution_count": 58,
   "id": "65ed92d2-f8cb-4062-8a59-9bf4a6345137",
   "metadata": {},
   "outputs": [],
   "source": [
    "def grab_fs_cutouts(minlon, maxlon, minlat, maxlat, minNpos=100):\n",
    "    ex = (llc_table.lon < maxlon) & (llc_table.lon > minlon) & (\n",
    "        llc_table.lat < maxlat) & (llc_table.lat > minlat) & (\n",
    "        llc_table.FS_Npos > minNpos)\n",
    "    return ex"
   ]
  },
  {
   "cell_type": "markdown",
   "id": "14ed373d-4cf8-4a18-9db0-4e8a2fb7fd20",
   "metadata": {},
   "source": [
    "----"
   ]
  },
  {
   "cell_type": "markdown",
   "id": "23bf05e1-b5cd-4bc5-8e42-67d57ee07bea",
   "metadata": {},
   "source": [
    "# Brazil first"
   ]
  },
  {
   "cell_type": "markdown",
   "id": "9e8e8c94-bc8b-4e0f-9249-a6b005f897e6",
   "metadata": {},
   "source": [
    "## Grab one"
   ]
  },
  {
   "cell_type": "code",
   "execution_count": 62,
   "id": "797b9dd8-6204-4da9-a174-b5bdd53cbaee",
   "metadata": {},
   "outputs": [
    {
     "data": {
      "text/plain": [
       "lat                                                        -36.058659\n",
       "lon                                                        -47.114582\n",
       "row                                                              5872\n",
       "col                                                             16810\n",
       "datetime                                          2011-09-30 00:00:00\n",
       "filename            /data/Projects/Oceanography/data/LLC/ThetaUVSa...\n",
       "pp_file                            s3://llc/PreProc/LLC_FS_preproc.h5\n",
       "pp_root                                                        llc_FS\n",
       "field_size                                                         64\n",
       "pp_idx                                                          99035\n",
       "pp_type                                                             0\n",
       "mean_temperature                                            15.862472\n",
       "Tmin                                                           11.578\n",
       "Tmax                                                           17.809\n",
       "T90                                                            17.639\n",
       "T10                                                            14.583\n",
       "FS_Npos                                                         149.0\n",
       "FS_pos_sum                                                   0.153306\n",
       "Name: 92431, dtype: object"
      ]
     },
     "execution_count": 62,
     "metadata": {},
     "output_type": "execute_result"
    }
   ],
   "source": [
    "item = 50\n",
    "ex_brazil = grab_fs_cutouts(minlon=-60., maxlon=-30., minlat=-60, maxlat=-30.)\n",
    "# Grab it\n",
    "i_brazil = np.where(ex_brazil)[0][item]\n",
    "brazil_cutout = llc_table.iloc[i_brazil]\n",
    "brazil_cutout"
   ]
  },
  {
   "cell_type": "markdown",
   "id": "3815b456-93c3-4a0b-99e3-ed93bfabe95b",
   "metadata": {},
   "source": [
    "## Grab data cutouts"
   ]
  },
  {
   "cell_type": "code",
   "execution_count": 60,
   "id": "3fddd80f-2177-402c-9915-4f630a76a602",
   "metadata": {},
   "outputs": [],
   "source": [
    "sst_cutout, F_s_cutout = sst_Fs_from_cutout(brazil_cutout)"
   ]
  },
  {
   "cell_type": "markdown",
   "id": "3882ae00-0462-4117-8428-cff98d9c275e",
   "metadata": {},
   "source": [
    "## Plot"
   ]
  },
  {
   "cell_type": "code",
   "execution_count": 61,
   "id": "3809be00-0bb2-48f8-8f52-f37792d1ad79",
   "metadata": {},
   "outputs": [
    {
     "data": {
      "image/png": "[encoded data removed]",
      "text/plain": [
       "<Figure size 864x288 with 4 Axes>"
      ]
     },
     "metadata": {
      "needs_background": "light"
     },
     "output_type": "display_data"
    }
   ],
   "source": [
    "fig, (ax1, ax2) = plt.subplots(1, 2, figsize=(12,4))\n",
    "plotting.show_image(sst_cutout, set_aspect='equal', ax=ax1)\n",
    "plotting.show_image(F_s_cutout, set_aspect='equal', vmnx=(-3e-3,3e-3), cm='seismic', ax=ax2)\n",
    "plt.show()"
   ]
  },
  {
   "cell_type": "markdown",
   "id": "bee287ed-da9c-48d8-89d3-98c12e0161fb",
   "metadata": {},
   "source": [
    "----"
   ]
  },
  {
   "cell_type": "markdown",
   "id": "45e704f7-6207-4101-8f5b-5acccfda42e6",
   "metadata": {},
   "source": [
    "# Off the West of Australia"
   ]
  },
  {
   "cell_type": "code",
   "execution_count": 63,
   "id": "1be80101-5b9b-4abe-b53f-78dad331e32a",
   "metadata": {},
   "outputs": [
    {
     "data": {
      "text/plain": [
       "lat                                                         -18.51581\n",
       "lon                                                         99.135414\n",
       "row                                                              6908\n",
       "col                                                              6550\n",
       "datetime                                          2011-09-30 00:00:00\n",
       "filename            /data/Projects/Oceanography/data/LLC/ThetaUVSa...\n",
       "pp_file                            s3://llc/PreProc/LLC_FS_preproc.h5\n",
       "pp_root                                                        llc_FS\n",
       "field_size                                                         64\n",
       "pp_idx                                                          74560\n",
       "pp_type                                                             0\n",
       "mean_temperature                                            24.412111\n",
       "Tmin                                                        23.415001\n",
       "Tmax                                                        25.120001\n",
       "T90                                                         24.755001\n",
       "T10                                                         24.160999\n",
       "FS_Npos                                                         124.0\n",
       "FS_pos_sum                                                   0.128931\n",
       "Name: 71796, dtype: object"
      ]
     },
     "execution_count": 63,
     "metadata": {},
     "output_type": "execute_result"
    }
   ],
   "source": [
    "item = 50\n",
    "ex_Waussie = grab_fs_cutouts(minlon=90., maxlon=100., minlat=-30, maxlat=-15.)\n",
    "# Grab it\n",
    "i_Waussie = np.where(ex_Waussie)[0][item]\n",
    "Waussie_cutout = llc_table.iloc[i_Waussie]\n",
    "Waussie_cutout"
   ]
  },
  {
   "cell_type": "markdown",
   "id": "ebeba8d3-da10-42d1-bccb-54496cfddd0f",
   "metadata": {},
   "source": [
    "## Grab and plot"
   ]
  },
  {
   "cell_type": "code",
   "execution_count": 64,
   "id": "a58c62a8-4f30-40a5-8fa9-c8d5704982bc",
   "metadata": {},
   "outputs": [],
   "source": [
    "sst_cutout, F_s_cutout = sst_Fs_from_cutout(Waussie_cutout)"
   ]
  },
  {
   "cell_type": "code",
   "execution_count": 65,
   "id": "03dd8a13-e6eb-47e3-b994-fcdd42c4eae6",
   "metadata": {},
   "outputs": [
    {
     "data": {
      "image/png": "[encoded data removed]",
      "text/plain": [
       "<Figure size 864x288 with 4 Axes>"
      ]
     },
     "metadata": {
      "needs_background": "light"
     },
     "output_type": "display_data"
    }
   ],
   "source": [
    "fig, (ax1, ax2) = plt.subplots(1, 2, figsize=(12,4))\n",
    "plotting.show_image(sst_cutout, set_aspect='equal', ax=ax1)\n",
    "plotting.show_image(F_s_cutout, set_aspect='equal', vmnx=(-3e-3,3e-3), cm='seismic', ax=ax2)\n",
    "plt.show()"
   ]
  },
  {
   "cell_type": "markdown",
   "id": "29af86dd-dcc6-4afd-9c7c-4ec425050ba7",
   "metadata": {},
   "source": [
    "----"
   ]
  },
  {
   "cell_type": "markdown",
   "id": "a0adff51-8ab8-46b8-9438-25a6a70c2ae4",
   "metadata": {},
   "source": [
    "# South Pacific"
   ]
  },
  {
   "cell_type": "code",
   "execution_count": 66,
   "id": "deff5aa9-b4b1-4913-a42a-e7654480fae7",
   "metadata": {},
   "outputs": [
    {
     "data": {
      "text/plain": [
       "lat                                                        -21.699188\n",
       "lon                                                       -179.989578\n",
       "row                                                              6731\n",
       "col                                                             10432\n",
       "datetime                                          2011-09-30 00:00:00\n",
       "filename            /data/Projects/Oceanography/data/LLC/ThetaUVSa...\n",
       "pp_file                            s3://llc/PreProc/LLC_FS_preproc.h5\n",
       "pp_root                                                        llc_FS\n",
       "field_size                                                         64\n",
       "pp_idx                                                         105338\n",
       "pp_type                                                             0\n",
       "mean_temperature                                            23.355892\n",
       "Tmin                                                        22.067001\n",
       "Tmax                                                           24.361\n",
       "T90                                                         23.832001\n",
       "T10                                                         22.803001\n",
       "FS_Npos                                                         141.0\n",
       "FS_pos_sum                                                   0.117812\n",
       "Name: 75261, dtype: object"
      ]
     },
     "execution_count": 66,
     "metadata": {},
     "output_type": "execute_result"
    }
   ],
   "source": [
    "item = 50\n",
    "ex_SPacific = grab_fs_cutouts(minlon=-180., maxlon=-150., minlat=-30, maxlat=-15.)\n",
    "# Grab it\n",
    "i_SPacific = np.where(ex_SPacific)[0][item]\n",
    "SPacific_cutout = llc_table.iloc[i_SPacific]\n",
    "SPacific_cutout"
   ]
  },
  {
   "cell_type": "markdown",
   "id": "55ce937a-1433-4628-8852-73659ac8c474",
   "metadata": {},
   "source": [
    "## Grab and plot"
   ]
  },
  {
   "cell_type": "code",
   "execution_count": 67,
   "id": "8ed3c5e8-6e6e-4937-9428-59dac5611c12",
   "metadata": {},
   "outputs": [
    {
     "data": {
      "image/png": "[encoded data removed]",
      "text/plain": [
       "<Figure size 864x288 with 4 Axes>"
      ]
     },
     "metadata": {
      "needs_background": "light"
     },
     "output_type": "display_data"
    }
   ],
   "source": [
    "sst_cutout, F_s_cutout = sst_Fs_from_cutout(SPacific_cutout)\n",
    "#\n",
    "fig, (ax1, ax2) = plt.subplots(1, 2, figsize=(12,4))\n",
    "plotting.show_image(sst_cutout, set_aspect='equal', ax=ax1)\n",
    "plotting.show_image(F_s_cutout, set_aspect='equal', vmnx=(-3e-3,3e-3), cm='seismic', ax=ax2)\n",
    "plt.show()"
   ]
  },
  {
   "cell_type": "code",
   "execution_count": null,
   "id": "e7992b0d-f522-4440-8e51-020464dcd3d5",
   "metadata": {},
   "outputs": [],
   "source": []
  }
 ],
 "metadata": {
  "kernelspec": {
   "display_name": "Python 3 (ipykernel)",
   "language": "python",
   "name": "python3"
  },
  "language_info": {
   "codemirror_mode": {
    "name": "ipython",
    "version": 3
   },
   "file_extension": ".py",
   "mimetype": "text/x-python",
   "name": "python",
   "nbconvert_exporter": "python",
   "pygments_lexer": "ipython3",
   "version": "3.9.9"
  }
 },
 "nbformat": 4,
 "nbformat_minor": 5
}
