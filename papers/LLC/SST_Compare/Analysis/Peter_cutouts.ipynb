{
 "cells": [
  {
   "cell_type": "markdown",
   "id": "2d36babe-acb7-463c-aa88-192b5765d62f",
   "metadata": {},
   "source": [
    "# Cutouts for Peter"
   ]
  },
  {
   "cell_type": "code",
   "execution_count": 7,
   "id": "b268096f-b4dd-4685-84a2-4ddc6c677066",
   "metadata": {},
   "outputs": [],
   "source": [
    "# imports\n",
    "import numpy as np\n",
    "import healpy as hp\n",
    "\n",
    "from ulmo import io as ulmo_io"
   ]
  },
  {
   "cell_type": "markdown",
   "id": "ce64fc9f-a48f-4a8d-8479-fe52ed9225e3",
   "metadata": {},
   "source": [
    "# Load table"
   ]
  },
  {
   "cell_type": "code",
   "execution_count": 2,
   "id": "9549110c-b814-4b33-be15-04e1536b36d0",
   "metadata": {},
   "outputs": [
    {
     "name": "stdout",
     "output_type": "stream",
     "text": [
      "Read main table: s3://viirs/Tables/VIIRS_all_98clear_std.parquet\n"
     ]
    }
   ],
   "source": [
    "viirs_file = 's3://viirs/Tables/VIIRS_all_98clear_std.parquet'\n",
    "viirs = ulmo_io.load_main_table(viirs_file)"
   ]
  },
  {
   "cell_type": "markdown",
   "id": "1d9768d5-867e-4d96-843f-72f505fbd581",
   "metadata": {},
   "source": [
    "# Healpix info"
   ]
  },
  {
   "cell_type": "code",
   "execution_count": 9,
   "id": "5935b5d8-4557-4864-badb-93c616cabd10",
   "metadata": {},
   "outputs": [],
   "source": [
    "nside = 64"
   ]
  },
  {
   "cell_type": "code",
   "execution_count": 10,
   "id": "bf03c77a-4ad5-410c-82b1-6951a43885aa",
   "metadata": {},
   "outputs": [],
   "source": [
    "i1 = 44318"
   ]
  },
  {
   "cell_type": "code",
   "execution_count": 12,
   "id": "adda45a0-4493-49b4-ac75-321b334ef990",
   "metadata": {},
   "outputs": [
    {
     "name": "stdout",
     "output_type": "stream",
     "text": [
      "Healpix: 44317 at lon=120.31, lat=-53.57\n"
     ]
    }
   ],
   "source": [
    "lon = 120.31\n",
    "lat = -53.57\n",
    "eval_tbl = viirs\n",
    "\n",
    "# Healpix coord\n",
    "theta = (90 - lat) * np.pi / 180.  # convert into radians\n",
    "phi = lon * np.pi / 180.\n",
    "idx = hp.pixelfunc.ang2pix(nside, theta, phi) \n",
    "print(f\"Healpix: {idx} at lon={lon}, lat={lat}\")\n",
    "\n",
    "# Now grab them all\n",
    "lats = eval_tbl.lat.values\n",
    "lons = eval_tbl.lon.values\n",
    "\n",
    "# Healpix coords\n",
    "theta = (90 - lats) * np.pi / 180.  # convert into radians\n",
    "phi = lons * np.pi / 180.\n",
    "idx_all = hp.pixelfunc.ang2pix(nside, theta, phi) # returns the healpix pixel numbers that correspond to theta and phi values\n",
    "\n",
    "# Match\n",
    "gd = idx_all == idx"
   ]
  },
  {
   "cell_type": "code",
   "execution_count": 13,
   "id": "94b2290e-2f85-4706-a83e-31c28f70585f",
   "metadata": {},
   "outputs": [
    {
     "data": {
      "text/plain": [
       "10"
      ]
     },
     "execution_count": 13,
     "metadata": {},
     "output_type": "execute_result"
    }
   ],
   "source": [
    "np.sum(gd)"
   ]
  },
  {
   "cell_type": "code",
   "execution_count": null,
   "id": "7b3145f8-2869-459a-abc7-2697e3cd60d9",
   "metadata": {},
   "outputs": [],
   "source": []
  }
 ],
 "metadata": {
  "kernelspec": {
   "display_name": "Python 3 (ipykernel)",
   "language": "python",
   "name": "python3"
  },
  "language_info": {
   "codemirror_mode": {
    "name": "ipython",
    "version": 3
   },
   "file_extension": ".py",
   "mimetype": "text/x-python",
   "name": "python",
   "nbconvert_exporter": "python",
   "pygments_lexer": "ipython3",
   "version": "3.9.9"
  }
 },
 "nbformat": 4,
 "nbformat_minor": 5
}
