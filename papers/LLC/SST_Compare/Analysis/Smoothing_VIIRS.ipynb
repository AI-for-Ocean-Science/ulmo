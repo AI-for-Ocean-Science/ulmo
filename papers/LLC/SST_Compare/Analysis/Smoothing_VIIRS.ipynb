{
 "cells": [
  {
   "cell_type": "markdown",
   "id": "363c3ae0-1c66-418c-809d-ef96b92aa39b",
   "metadata": {},
   "source": [
    "# Smoothing VIIRS"
   ]
  },
  {
   "cell_type": "code",
   "execution_count": 1,
   "id": "4ad4c4cc-6ce8-4c6d-9513-e426a6f50171",
   "metadata": {},
   "outputs": [],
   "source": [
    "\n",
    "# imports\n",
    "import seaborn as sns\n",
    "from matplotlib import pyplot as plt\n",
    "import xarray\n",
    "import h5py \n",
    "\n",
    "from ulmo import io as ulmo_io\n",
    "from ulmo.plotting import plotting\n",
    "\n",
    "# imports\n",
    "from importlib import reload\n",
    "\n",
    "from ulmo import io as ulmo_io\n",
    "import numpy as np\n",
    "from ulmo import io as ulmo_io\n",
    "from ulmo.viirs import io as viirs_io\n",
    "from ulmo.viirs import extract as viirs_extract\n",
    "from ulmo.plotting import plotting\n",
    "from ulmo import io as ulmo_io\n",
    "from ulmo import plotting\n",
    "from ulmo.llc import io as llc_io\n",
    "from ulmo.llc import plotting as llc_plotting\n",
    "\n",
    "from ulmo.utils import image_utils\n",
    "from ulmo.analysis import figures as ulmo_figs\n",
    "from ulmo.plotting import plotting as ulmo_plotting\n",
    "\n",
    "sns.set_style('whitegrid')\n",
    "sns.set_context('notebook')\n",
    "pal, cm = plotting.load_palette()"
   ]
  },
  {
   "cell_type": "markdown",
   "id": "bae92173-4932-4d4a-a857-02312ce80d50",
   "metadata": {},
   "source": [
    "# Load VIIRS table"
   ]
  },
  {
   "cell_type": "code",
   "execution_count": 2,
   "id": "fb85304b-dd0d-4edd-a62d-63db892cd035",
   "metadata": {},
   "outputs": [
    {
     "name": "stdout",
     "output_type": "stream",
     "text": [
      "Read main table: s3://viirs/Tables/VIIRS_2013_std.parquet\n"
     ]
    }
   ],
   "source": [
    "viirs_tbl = ulmo_io.load_main_table('s3://viirs/Tables/VIIRS_2013_std.parquet')"
   ]
  },
  {
   "cell_type": "markdown",
   "id": "0b0860f5-c7cb-4a44-aeb2-2b5a3f9e8d60",
   "metadata": {},
   "source": [
    "# Load up a VIIRS cutout"
   ]
  },
  {
   "cell_type": "code",
   "execution_count": 5,
   "id": "1e2ac3ee-36b5-433d-a720-1c6d0e6a60aa",
   "metadata": {},
   "outputs": [
    {
     "data": {
      "text/plain": [
       "filename            s3://viirs/data/2013/317/20131113023000-OSPO-L...\n",
       "row                                                              1104\n",
       "col                                                               960\n",
       "lat                                                         19.923225\n",
       "lon                                                        -17.835772\n",
       "clear_fraction                                               0.011068\n",
       "field_size                                                        192\n",
       "datetime                                          2013-11-13 02:30:00\n",
       "ex_filename         s3://viirs/Extractions/VIIRS_2013_95clear_192x...\n",
       "pp_file             s3://viirs/PreProc/VIIRS_2013_95clear_192x192_...\n",
       "pp_root                                                     viirs_std\n",
       "pp_idx                                                         485088\n",
       "pp_type                                                             0\n",
       "mean_temperature                                            23.386496\n",
       "Tmin                                                        19.079987\n",
       "Tmax                                                        25.889984\n",
       "T90                                                         25.369995\n",
       "T10                                                         20.359985\n",
       "LL                                                        -400.006012\n",
       "Name: 990736, dtype: object"
      ]
     },
     "execution_count": 5,
     "metadata": {},
     "output_type": "execute_result"
    }
   ],
   "source": [
    "idx = np.argmin(np.abs(viirs_tbl.LL + 400.))\n",
    "cutout = viirs_tbl.iloc[idx]\n",
    "cutout"
   ]
  },
  {
   "cell_type": "markdown",
   "id": "89b75d55-1e3d-48ee-9416-8c6310c155e4",
   "metadata": {},
   "source": [
    "## Grab it"
   ]
  },
  {
   "cell_type": "code",
   "execution_count": 6,
   "id": "74c8641d-e919-4678-a965-a0027ec38bfb",
   "metadata": {},
   "outputs": [],
   "source": [
    "img = image_utils.grab_image(cutout)"
   ]
  },
  {
   "cell_type": "markdown",
   "id": "4836f399-16a0-48e7-bfc6-cfcbf0f4ffcd",
   "metadata": {},
   "source": [
    "## Show"
   ]
  },
  {
   "cell_type": "code",
   "execution_count": 7,
   "id": "6a9e9bc1-f209-490a-bae6-b7b2cb261dae",
   "metadata": {},
   "outputs": [
    {
     "data": {
      "text/plain": [
       "<AxesSubplot:>"
      ]
     },
     "execution_count": 7,
     "metadata": {},
     "output_type": "execute_result"
    },
    {
     "data": {
      "image/png": "[encoded data removed]",
      "text/plain": [
       "<Figure size 432x288 with 2 Axes>"
      ]
     },
     "metadata": {},
     "output_type": "display_data"
    }
   ],
   "source": [
    "plotting.show_image(img, asp)"
   ]
  },
  {
   "cell_type": "markdown",
   "id": "2ec85cdd-c843-4400-968d-462297e86fe1",
   "metadata": {},
   "source": [
    "# Smooth me"
   ]
  },
  {
   "cell_type": "code",
   "execution_count": null,
   "id": "904517eb-9151-4f9c-940e-3b501f18c75d",
   "metadata": {},
   "outputs": [],
   "source": []
  },
  {
   "cell_type": "markdown",
   "id": "e8e0da59-841b-40cd-93ca-a2003eb9c196",
   "metadata": {},
   "source": [
    "----"
   ]
  },
  {
   "cell_type": "code",
   "execution_count": null,
   "id": "7faba77f-ef92-42a8-a0ce-bd387eeabbba",
   "metadata": {},
   "outputs": [],
   "source": []
  }
 ],
 "metadata": {
  "kernelspec": {
   "display_name": "Python 3 (ipykernel)",
   "language": "python",
   "name": "python3"
  },
  "language_info": {
   "codemirror_mode": {
    "name": "ipython",
    "version": 3
   },
   "file_extension": ".py",
   "mimetype": "text/x-python",
   "name": "python",
   "nbconvert_exporter": "python",
   "pygments_lexer": "ipython3",
   "version": "3.9.7"
  }
 },
 "nbformat": 4,
 "nbformat_minor": 5
}
