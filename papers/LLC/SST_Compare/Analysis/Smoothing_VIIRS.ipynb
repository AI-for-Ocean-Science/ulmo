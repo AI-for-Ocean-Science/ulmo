{
 "cells": [
  {
   "cell_type": "markdown",
   "id": "363c3ae0-1c66-418c-809d-ef96b92aa39b",
   "metadata": {},
   "source": [
    "# Smoothing VIIRS"
   ]
  },
  {
   "cell_type": "code",
   "execution_count": null,
   "id": "47e9c3ba-60e0-4c1d-9392-927abe232ff4",
   "metadata": {},
   "outputs": [],
   "source": []
  },
  {
   "cell_type": "code",
   "execution_count": 1,
   "id": "4ad4c4cc-6ce8-4c6d-9513-e426a6f50171",
   "metadata": {},
   "outputs": [
    {
     "name": "stderr",
     "output_type": "stream",
     "text": [
      "/home/xavier/Projects/miniconda3/lib/python3.9/site-packages/tqdm/auto.py:22: TqdmWarning: IProgress not found. Please update jupyter and ipywidgets. See https://ipywidgets.readthedocs.io/en/stable/user_install.html\n",
      "  from .autonotebook import tqdm as notebook_tqdm\n"
     ]
    }
   ],
   "source": [
    "\n",
    "# imports\n",
    "import seaborn as sns\n",
    "from matplotlib import pyplot as plt\n",
    "import xarray\n",
    "import h5py \n",
    "import skimage\n",
    "\n",
    "from ulmo import io as ulmo_io\n",
    "from ulmo.plotting import plotting\n",
    "\n",
    "# imports\n",
    "from importlib import reload\n",
    "\n",
    "from ulmo import io as ulmo_io\n",
    "import numpy as np\n",
    "from ulmo import io as ulmo_io\n",
    "from ulmo.viirs import io as viirs_io\n",
    "from ulmo.viirs import extract as viirs_extract\n",
    "from ulmo.plotting import plotting\n",
    "from ulmo import io as ulmo_io\n",
    "from ulmo import plotting\n",
    "from ulmo.llc import io as llc_io\n",
    "from ulmo.llc import plotting as llc_plotting\n",
    "\n",
    "from ulmo.utils import image_utils\n",
    "from ulmo.analysis import figures as ulmo_figs\n",
    "from ulmo.plotting import plotting as ulmo_plotting\n",
    "\n",
    "sns.set_style('whitegrid')\n",
    "sns.set_context('notebook')\n",
    "pal, cm = plotting.load_palette()"
   ]
  },
  {
   "cell_type": "markdown",
   "id": "bae92173-4932-4d4a-a857-02312ce80d50",
   "metadata": {},
   "source": [
    "# Load VIIRS table"
   ]
  },
  {
   "cell_type": "code",
   "execution_count": 2,
   "id": "fb85304b-dd0d-4edd-a62d-63db892cd035",
   "metadata": {},
   "outputs": [
    {
     "name": "stdout",
     "output_type": "stream",
     "text": [
      "Read main table: s3://viirs/Tables/VIIRS_2013_std.parquet\n"
     ]
    }
   ],
   "source": [
    "viirs_tbl = ulmo_io.load_main_table('s3://viirs/Tables/VIIRS_2013_std.parquet')"
   ]
  },
  {
   "cell_type": "markdown",
   "id": "0b0860f5-c7cb-4a44-aeb2-2b5a3f9e8d60",
   "metadata": {},
   "source": [
    "# Load up a VIIRS cutout"
   ]
  },
  {
   "cell_type": "markdown",
   "id": "d58d37ba-947c-4bdc-ae40-a4ca0359e3dc",
   "metadata": {},
   "source": [
    "## $LL \\approx -400$"
   ]
  },
  {
   "cell_type": "code",
   "execution_count": 3,
   "id": "1e2ac3ee-36b5-433d-a720-1c6d0e6a60aa",
   "metadata": {},
   "outputs": [
    {
     "data": {
      "text/plain": [
       "filename            s3://viirs/data/2013/317/20131113023000-OSPO-L...\n",
       "row                                                              1104\n",
       "col                                                               960\n",
       "lat                                                         19.923225\n",
       "lon                                                        -17.835772\n",
       "clear_fraction                                               0.011068\n",
       "field_size                                                        192\n",
       "datetime                                          2013-11-13 02:30:00\n",
       "ex_filename         s3://viirs/Extractions/VIIRS_2013_95clear_192x...\n",
       "pp_file             s3://viirs/PreProc/VIIRS_2013_95clear_192x192_...\n",
       "pp_root                                                     viirs_std\n",
       "pp_idx                                                         485088\n",
       "pp_type                                                             0\n",
       "mean_temperature                                            23.386496\n",
       "Tmin                                                        19.079987\n",
       "Tmax                                                        25.889984\n",
       "T90                                                         25.369995\n",
       "T10                                                         20.359985\n",
       "LL                                                        -400.006012\n",
       "Name: 990736, dtype: object"
      ]
     },
     "execution_count": 3,
     "metadata": {},
     "output_type": "execute_result"
    }
   ],
   "source": [
    "idx = np.argmin(np.abs(viirs_tbl.LL + 400.))\n",
    "cutout = viirs_tbl.iloc[idx]\n",
    "cutout"
   ]
  },
  {
   "cell_type": "markdown",
   "id": "89b75d55-1e3d-48ee-9416-8c6310c155e4",
   "metadata": {},
   "source": [
    "## Grab it"
   ]
  },
  {
   "cell_type": "code",
   "execution_count": 4,
   "id": "74c8641d-e919-4678-a965-a0027ec38bfb",
   "metadata": {},
   "outputs": [],
   "source": [
    "img = image_utils.grab_image(cutout)"
   ]
  },
  {
   "cell_type": "markdown",
   "id": "4836f399-16a0-48e7-bfc6-cfcbf0f4ffcd",
   "metadata": {},
   "source": [
    "## Show"
   ]
  },
  {
   "cell_type": "code",
   "execution_count": 6,
   "id": "6a9e9bc1-f209-490a-bae6-b7b2cb261dae",
   "metadata": {},
   "outputs": [
    {
     "data": {
      "text/plain": [
       "<AxesSubplot:>"
      ]
     },
     "execution_count": 6,
     "metadata": {},
     "output_type": "execute_result"
    },
    {
     "data": {
      "image/png": "[encoded data removed]",
      "text/plain": [
       "<Figure size 432x288 with 2 Axes>"
      ]
     },
     "metadata": {
      "needs_background": "light"
     },
     "output_type": "display_data"
    }
   ],
   "source": [
    "plotting.show_image(img, set_aspect='equal')"
   ]
  },
  {
   "cell_type": "markdown",
   "id": "2ec85cdd-c843-4400-968d-462297e86fe1",
   "metadata": {},
   "source": [
    "## Smooth me"
   ]
  },
  {
   "cell_type": "code",
   "execution_count": 7,
   "id": "904517eb-9151-4f9c-940e-3b501f18c75d",
   "metadata": {},
   "outputs": [],
   "source": [
    "smoothed = skimage.filters.gaussian(img, 3.)"
   ]
  },
  {
   "cell_type": "code",
   "execution_count": 8,
   "id": "17c706cc-73cd-49c5-b91b-dd19b73f9924",
   "metadata": {},
   "outputs": [
    {
     "data": {
      "text/plain": [
       "<AxesSubplot:>"
      ]
     },
     "execution_count": 8,
     "metadata": {},
     "output_type": "execute_result"
    },
    {
     "data": {
      "image/png": "[encoded data removed]",
      "text/plain": [
       "<Figure size 432x288 with 2 Axes>"
      ]
     },
     "metadata": {
      "needs_background": "light"
     },
     "output_type": "display_data"
    }
   ],
   "source": [
    "plotting.show_image(smoothed, set_aspect='equal')"
   ]
  },
  {
   "cell_type": "markdown",
   "id": "f180731f-be1b-4a6c-a2ce-1c548e06907d",
   "metadata": {},
   "source": [
    "# $LL \\approx 0$"
   ]
  },
  {
   "cell_type": "code",
   "execution_count": 13,
   "id": "38d3e41b-a8ca-4188-90d3-44145b218b2e",
   "metadata": {},
   "outputs": [
    {
     "data": {
      "text/plain": [
       "filename            s3://viirs/data/2013/022/20130122231000-OSPO-L...\n",
       "row                                                               912\n",
       "col                                                               576\n",
       "lat                                                          43.76727\n",
       "lon                                                         30.554178\n",
       "clear_fraction                                               0.002387\n",
       "field_size                                                        192\n",
       "datetime                                          2013-01-22 23:10:00\n",
       "ex_filename         s3://viirs/Extractions/VIIRS_2013_95clear_192x...\n",
       "pp_file             s3://viirs/PreProc/VIIRS_2013_95clear_192x192_...\n",
       "pp_root                                                     viirs_std\n",
       "pp_idx                                                         641318\n",
       "pp_type                                                             0\n",
       "mean_temperature                                             8.695506\n",
       "Tmin                                                         6.390015\n",
       "Tmax                                                         9.519989\n",
       "T90                                                          9.029999\n",
       "T10                                                          8.420013\n",
       "LL                                                         200.000244\n",
       "Name: 72371, dtype: object"
      ]
     },
     "execution_count": 13,
     "metadata": {},
     "output_type": "execute_result"
    }
   ],
   "source": [
    "idx0 = np.argmin(np.abs(viirs_tbl.LL-200))\n",
    "cutout0 = viirs_tbl.iloc[idx0]\n",
    "cutout0\n"
   ]
  },
  {
   "cell_type": "code",
   "execution_count": 14,
   "id": "f67b1c8b-8415-4a3b-8749-cb8f8dd09a64",
   "metadata": {},
   "outputs": [],
   "source": [
    "img0 = image_utils.grab_image(cutout0)"
   ]
  },
  {
   "cell_type": "code",
   "execution_count": 15,
   "id": "517a0101-f3b4-4c3d-b635-7562b6c754ba",
   "metadata": {},
   "outputs": [],
   "source": [
    "smoothed0 = skimage.filters.gaussian(img0, 3.)"
   ]
  },
  {
   "cell_type": "markdown",
   "id": "d35c3904-ebdc-4dc8-b811-73935c3b7711",
   "metadata": {},
   "source": [
    "## Plot"
   ]
  },
  {
   "cell_type": "code",
   "execution_count": 16,
   "id": "cede2b9f-0f32-495e-892a-1ebb53863c53",
   "metadata": {},
   "outputs": [
    {
     "data": {
      "text/plain": [
       "<AxesSubplot:>"
      ]
     },
     "execution_count": 16,
     "metadata": {},
     "output_type": "execute_result"
    },
    {
     "data": {
      "image/png": "[encoded data removed]",
      "text/plain": [
       "<Figure size 432x288 with 2 Axes>"
      ]
     },
     "metadata": {
      "needs_background": "light"
     },
     "output_type": "display_data"
    }
   ],
   "source": [
    "plotting.show_image(img0, set_aspect='equal')"
   ]
  },
  {
   "cell_type": "code",
   "execution_count": 17,
   "id": "174c6cec-2e1a-4a45-bd27-000c2a365f6d",
   "metadata": {},
   "outputs": [
    {
     "data": {
      "text/plain": [
       "<AxesSubplot:>"
      ]
     },
     "execution_count": 17,
     "metadata": {},
     "output_type": "execute_result"
    },
    {
     "data": {
      "image/png": "[encoded data removed]",
      "text/plain": [
       "<Figure size 432x288 with 2 Axes>"
      ]
     },
     "metadata": {
      "needs_background": "light"
     },
     "output_type": "display_data"
    }
   ],
   "source": [
    "plotting.show_image(smoothed0, set_aspect='equal')"
   ]
  },
  {
   "cell_type": "markdown",
   "id": "e8e0da59-841b-40cd-93ca-a2003eb9c196",
   "metadata": {},
   "source": [
    "----"
   ]
  },
  {
   "cell_type": "code",
   "execution_count": null,
   "id": "7faba77f-ef92-42a8-a0ce-bd387eeabbba",
   "metadata": {},
   "outputs": [],
   "source": []
  }
 ],
 "metadata": {
  "kernelspec": {
   "display_name": "Python 3 (ipykernel)",
   "language": "python",
   "name": "python3"
  },
  "language_info": {
   "codemirror_mode": {
    "name": "ipython",
    "version": 3
   },
   "file_extension": ".py",
   "mimetype": "text/x-python",
   "name": "python",
   "nbconvert_exporter": "python",
   "pygments_lexer": "ipython3",
   "version": "3.9.9"
  }
 },
 "nbformat": 4,
 "nbformat_minor": 5
}
