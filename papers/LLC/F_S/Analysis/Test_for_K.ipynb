{
 "cells": [
  {
   "cell_type": "markdown",
   "metadata": {},
   "source": [
    "# Sample Notebook for Katharina"
   ]
  },
  {
   "cell_type": "code",
   "execution_count": 3,
   "metadata": {},
   "outputs": [
    {
     "ename": "ModuleNotFoundError",
     "evalue": "No module named 'ulmo'",
     "output_type": "error",
     "traceback": [
      "\u001b[0;31m---------------------------------------------------------------------------\u001b[0m",
      "\u001b[0;31mModuleNotFoundError\u001b[0m                       Traceback (most recent call last)",
      "\u001b[0;32m<ipython-input-3-d141977e1ac9>\u001b[0m in \u001b[0;36m<module>\u001b[0;34m\u001b[0m\n\u001b[1;32m     12\u001b[0m \u001b[0;32mimport\u001b[0m \u001b[0mseaborn\u001b[0m \u001b[0;32mas\u001b[0m \u001b[0msns\u001b[0m\u001b[0;34m\u001b[0m\u001b[0;34m\u001b[0m\u001b[0m\n\u001b[1;32m     13\u001b[0m \u001b[0;34m\u001b[0m\u001b[0m\n\u001b[0;32m---> 14\u001b[0;31m \u001b[0;32mfrom\u001b[0m \u001b[0mulmo\u001b[0m \u001b[0;32mimport\u001b[0m \u001b[0mio\u001b[0m \u001b[0;32mas\u001b[0m \u001b[0mulmo_io\u001b[0m\u001b[0;34m\u001b[0m\u001b[0;34m\u001b[0m\u001b[0m\n\u001b[0m\u001b[1;32m     15\u001b[0m \u001b[0;32mfrom\u001b[0m \u001b[0mulmo\u001b[0m \u001b[0;32mimport\u001b[0m \u001b[0mplotting\u001b[0m\u001b[0;34m\u001b[0m\u001b[0;34m\u001b[0m\u001b[0m\n\u001b[1;32m     16\u001b[0m \u001b[0;32mfrom\u001b[0m \u001b[0mulmo\u001b[0m\u001b[0;34m.\u001b[0m\u001b[0mllc\u001b[0m \u001b[0;32mimport\u001b[0m \u001b[0mio\u001b[0m \u001b[0;32mas\u001b[0m \u001b[0mllc_io\u001b[0m\u001b[0;34m\u001b[0m\u001b[0;34m\u001b[0m\u001b[0m\n",
      "\u001b[0;31mModuleNotFoundError\u001b[0m: No module named 'ulmo'"
     ]
    }
   ],
   "source": [
    "# imports\n",
    "from importlib import reload\n",
    "\n",
    "import os\n",
    "import numpy as np\n",
    "\n",
    "import pandas\n",
    "#import xarray\n",
    "import h5py\n",
    "\n",
    "from matplotlib import pyplot as plt\n",
    "import seaborn as sns\n",
    "\n",
    "from ulmo import io as ulmo_io\n",
    "from ulmo import plotting\n",
    "from ulmo.llc import io as llc_io\n",
    "from ulmo.llc import plotting as llc_plotting\n",
    "\n",
    "from ulmo.utils import image_utils\n",
    "from ulmo.analysis import figures as ulmo_figs\n",
    "from ulmo.plotting import plotting as ulmo_plotting"
   ]
  },
  {
   "cell_type": "markdown",
   "metadata": {},
   "source": [
    "# LLC Table\n",
    "\n",
    "## We will use pandas to load and hold the table of LLC analysis results"
   ]
  },
  {
   "cell_type": "code",
   "execution_count": 2,
   "metadata": {},
   "outputs": [
    {
     "data": {
      "text/plain": [
       "'https://s3.nautilus.optiputer.net'"
      ]
     },
     "execution_count": 2,
     "metadata": {},
     "output_type": "execute_result"
    }
   ],
   "source": [
    "os.getenv('ENDPOINT_URL')"
   ]
  },
  {
   "cell_type": "code",
   "execution_count": 4,
   "metadata": {},
   "outputs": [
    {
     "name": "stdout",
     "output_type": "stream",
     "text": [
      "Read main table: /tank/xavier/Oceanography/AI/OOD/LLC/Tables/test_noise_modis2012.parquet\n"
     ]
    }
   ],
   "source": [
    "#tbl_file = 's3://llc/Tables/test_noise_modis2012.parquet'\n",
    "#  If s3 isn't working, you will need to use a copy of the file on your own computer\n",
    "# e.g.\n",
    "tbl_file = '/tank/xavier/Oceanography/AI/OOD/LLC/Tables/test_noise_modis2012.parquet'\n",
    "llc_table = ulmo_io.load_main_table(tbl_file)"
   ]
  },
  {
   "cell_type": "markdown",
   "metadata": {},
   "source": [
    "## View\n",
    "\n",
    "### Most of the columns are described here: https://github.com/AI-for-Ocean-Science/ulmo/blob/main/ulmo/defs.py"
   ]
  },
  {
   "cell_type": "code",
   "execution_count": 5,
   "metadata": {},
   "outputs": [
    {
     "data": {
      "text/html": [
       "<div>\n",
       "<style scoped>\n",
       "    .dataframe tbody tr th:only-of-type {\n",
       "        vertical-align: middle;\n",
       "    }\n",
       "\n",
       "    .dataframe tbody tr th {\n",
       "        vertical-align: top;\n",
       "    }\n",
       "\n",
       "    .dataframe thead th {\n",
       "        text-align: right;\n",
       "    }\n",
       "</style>\n",
       "<table border=\"1\" class=\"dataframe\">\n",
       "  <thead>\n",
       "    <tr style=\"text-align: right;\">\n",
       "      <th></th>\n",
       "      <th>modis_lat</th>\n",
       "      <th>modis_lon</th>\n",
       "      <th>modis_col</th>\n",
       "      <th>modis_datetime</th>\n",
       "      <th>modis_LL</th>\n",
       "      <th>modis_row</th>\n",
       "      <th>clear_fraction</th>\n",
       "      <th>mean_temperature</th>\n",
       "      <th>Tmin</th>\n",
       "      <th>Tmax</th>\n",
       "      <th>...</th>\n",
       "      <th>field_size</th>\n",
       "      <th>pp_type</th>\n",
       "      <th>pp_idx</th>\n",
       "      <th>lat</th>\n",
       "      <th>lon</th>\n",
       "      <th>row</th>\n",
       "      <th>col</th>\n",
       "      <th>datetime</th>\n",
       "      <th>filename</th>\n",
       "      <th>LL</th>\n",
       "    </tr>\n",
       "  </thead>\n",
       "  <tbody>\n",
       "    <tr>\n",
       "      <th>0</th>\n",
       "      <td>-52.410507</td>\n",
       "      <td>-42.126858</td>\n",
       "      <td>1028</td>\n",
       "      <td>2012-01-01 04:10:00</td>\n",
       "      <td>-147.370605</td>\n",
       "      <td>64</td>\n",
       "      <td>0.049805</td>\n",
       "      <td>4.124990</td>\n",
       "      <td>3.401999</td>\n",
       "      <td>6.411</td>\n",
       "      <td>...</td>\n",
       "      <td>64</td>\n",
       "      <td>0</td>\n",
       "      <td>487936</td>\n",
       "      <td>-52.406319</td>\n",
       "      <td>-42.135418</td>\n",
       "      <td>4687</td>\n",
       "      <td>17049</td>\n",
       "      <td>2012-01-01</td>\n",
       "      <td>s3://llc/ThetaUVSalt/LLC4320_2012-01-01T00_00_...</td>\n",
       "      <td>124.020691</td>\n",
       "    </tr>\n",
       "    <tr>\n",
       "      <th>1</th>\n",
       "      <td>-52.194720</td>\n",
       "      <td>-42.787216</td>\n",
       "      <td>997</td>\n",
       "      <td>2012-01-01 04:10:00</td>\n",
       "      <td>-248.946106</td>\n",
       "      <td>48</td>\n",
       "      <td>0.043213</td>\n",
       "      <td>5.315350</td>\n",
       "      <td>3.464000</td>\n",
       "      <td>6.544</td>\n",
       "      <td>...</td>\n",
       "      <td>64</td>\n",
       "      <td>0</td>\n",
       "      <td>517068</td>\n",
       "      <td>-52.188812</td>\n",
       "      <td>-42.781250</td>\n",
       "      <td>4705</td>\n",
       "      <td>17018</td>\n",
       "      <td>2012-01-01</td>\n",
       "      <td>s3://llc/ThetaUVSalt/LLC4320_2012-01-01T00_00_...</td>\n",
       "      <td>45.473206</td>\n",
       "    </tr>\n",
       "    <tr>\n",
       "      <th>2</th>\n",
       "      <td>-52.031720</td>\n",
       "      <td>-43.191420</td>\n",
       "      <td>976</td>\n",
       "      <td>2012-01-01 04:10:00</td>\n",
       "      <td>-264.156342</td>\n",
       "      <td>33</td>\n",
       "      <td>0.049500</td>\n",
       "      <td>5.912542</td>\n",
       "      <td>3.557000</td>\n",
       "      <td>6.852</td>\n",
       "      <td>...</td>\n",
       "      <td>64</td>\n",
       "      <td>0</td>\n",
       "      <td>58066</td>\n",
       "      <td>-52.031147</td>\n",
       "      <td>-43.197918</td>\n",
       "      <td>4718</td>\n",
       "      <td>16998</td>\n",
       "      <td>2012-01-01</td>\n",
       "      <td>s3://llc/ThetaUVSalt/LLC4320_2012-01-01T00_00_...</td>\n",
       "      <td>159.249695</td>\n",
       "    </tr>\n",
       "    <tr>\n",
       "      <th>3</th>\n",
       "      <td>-51.908875</td>\n",
       "      <td>-42.702328</td>\n",
       "      <td>997</td>\n",
       "      <td>2012-01-01 04:10:00</td>\n",
       "      <td>-228.816925</td>\n",
       "      <td>16</td>\n",
       "      <td>0.018188</td>\n",
       "      <td>5.859069</td>\n",
       "      <td>3.442000</td>\n",
       "      <td>6.709</td>\n",
       "      <td>...</td>\n",
       "      <td>64</td>\n",
       "      <td>0</td>\n",
       "      <td>76355</td>\n",
       "      <td>-51.909538</td>\n",
       "      <td>-42.697918</td>\n",
       "      <td>4728</td>\n",
       "      <td>17022</td>\n",
       "      <td>2012-01-01</td>\n",
       "      <td>s3://llc/ThetaUVSalt/LLC4320_2012-01-01T00_00_...</td>\n",
       "      <td>153.434143</td>\n",
       "    </tr>\n",
       "    <tr>\n",
       "      <th>4</th>\n",
       "      <td>-51.865665</td>\n",
       "      <td>-43.186947</td>\n",
       "      <td>974</td>\n",
       "      <td>2012-01-01 04:10:00</td>\n",
       "      <td>-260.829315</td>\n",
       "      <td>16</td>\n",
       "      <td>0.048279</td>\n",
       "      <td>6.131550</td>\n",
       "      <td>5.386000</td>\n",
       "      <td>6.852</td>\n",
       "      <td>...</td>\n",
       "      <td>64</td>\n",
       "      <td>0</td>\n",
       "      <td>523013</td>\n",
       "      <td>-51.860813</td>\n",
       "      <td>-43.177082</td>\n",
       "      <td>4732</td>\n",
       "      <td>16999</td>\n",
       "      <td>2012-01-01</td>\n",
       "      <td>s3://llc/ThetaUVSalt/LLC4320_2012-01-01T00_00_...</td>\n",
       "      <td>148.887573</td>\n",
       "    </tr>\n",
       "  </tbody>\n",
       "</table>\n",
       "<p>5 rows × 26 columns</p>\n",
       "</div>"
      ],
      "text/plain": [
       "   modis_lat  modis_lon  modis_col      modis_datetime    modis_LL  modis_row  \\\n",
       "0 -52.410507 -42.126858       1028 2012-01-01 04:10:00 -147.370605         64   \n",
       "1 -52.194720 -42.787216        997 2012-01-01 04:10:00 -248.946106         48   \n",
       "2 -52.031720 -43.191420        976 2012-01-01 04:10:00 -264.156342         33   \n",
       "3 -51.908875 -42.702328        997 2012-01-01 04:10:00 -228.816925         16   \n",
       "4 -51.865665 -43.186947        974 2012-01-01 04:10:00 -260.829315         16   \n",
       "\n",
       "   clear_fraction  mean_temperature      Tmin   Tmax  ...  field_size  \\\n",
       "0        0.049805          4.124990  3.401999  6.411  ...          64   \n",
       "1        0.043213          5.315350  3.464000  6.544  ...          64   \n",
       "2        0.049500          5.912542  3.557000  6.852  ...          64   \n",
       "3        0.018188          5.859069  3.442000  6.709  ...          64   \n",
       "4        0.048279          6.131550  5.386000  6.852  ...          64   \n",
       "\n",
       "   pp_type  pp_idx        lat        lon   row    col   datetime  \\\n",
       "0        0  487936 -52.406319 -42.135418  4687  17049 2012-01-01   \n",
       "1        0  517068 -52.188812 -42.781250  4705  17018 2012-01-01   \n",
       "2        0   58066 -52.031147 -43.197918  4718  16998 2012-01-01   \n",
       "3        0   76355 -51.909538 -42.697918  4728  17022 2012-01-01   \n",
       "4        0  523013 -51.860813 -43.177082  4732  16999 2012-01-01   \n",
       "\n",
       "                                            filename          LL  \n",
       "0  s3://llc/ThetaUVSalt/LLC4320_2012-01-01T00_00_...  124.020691  \n",
       "1  s3://llc/ThetaUVSalt/LLC4320_2012-01-01T00_00_...   45.473206  \n",
       "2  s3://llc/ThetaUVSalt/LLC4320_2012-01-01T00_00_...  159.249695  \n",
       "3  s3://llc/ThetaUVSalt/LLC4320_2012-01-01T00_00_...  153.434143  \n",
       "4  s3://llc/ThetaUVSalt/LLC4320_2012-01-01T00_00_...  148.887573  \n",
       "\n",
       "[5 rows x 26 columns]"
      ]
     },
     "execution_count": 5,
     "metadata": {},
     "output_type": "execute_result"
    }
   ],
   "source": [
    "llc_table.head()"
   ]
  },
  {
   "cell_type": "markdown",
   "metadata": {},
   "source": [
    "# Equatorial Pacific\n",
    "\n",
    "## Let us isolate the cutouts in the Pacific near the equator with high LL"
   ]
  },
  {
   "cell_type": "markdown",
   "metadata": {},
   "source": [
    "### Pacific"
   ]
  },
  {
   "cell_type": "code",
   "execution_count": 6,
   "metadata": {},
   "outputs": [],
   "source": [
    "# This is a small piece\n",
    "in_pacific = (llc_table.lon > -180.) & (llc_table.lon < -150.)"
   ]
  },
  {
   "cell_type": "markdown",
   "metadata": {},
   "source": [
    "### Near Equator"
   ]
  },
  {
   "cell_type": "code",
   "execution_count": 7,
   "metadata": {},
   "outputs": [],
   "source": [
    "near_equator = np.abs(llc_table.lat) < 10."
   ]
  },
  {
   "cell_type": "markdown",
   "metadata": {},
   "source": [
    "### high LL"
   ]
  },
  {
   "cell_type": "code",
   "execution_count": 8,
   "metadata": {},
   "outputs": [],
   "source": [
    "highLL = llc_table.LL > 700."
   ]
  },
  {
   "cell_type": "code",
   "execution_count": 9,
   "metadata": {},
   "outputs": [],
   "source": [
    "sub_tbl = llc_table[in_pacific & near_equator & highLL]"
   ]
  },
  {
   "cell_type": "code",
   "execution_count": 10,
   "metadata": {},
   "outputs": [
    {
     "data": {
      "text/html": [
       "<div>\n",
       "<style scoped>\n",
       "    .dataframe tbody tr th:only-of-type {\n",
       "        vertical-align: middle;\n",
       "    }\n",
       "\n",
       "    .dataframe tbody tr th {\n",
       "        vertical-align: top;\n",
       "    }\n",
       "\n",
       "    .dataframe thead th {\n",
       "        text-align: right;\n",
       "    }\n",
       "</style>\n",
       "<table border=\"1\" class=\"dataframe\">\n",
       "  <thead>\n",
       "    <tr style=\"text-align: right;\">\n",
       "      <th></th>\n",
       "      <th>modis_lat</th>\n",
       "      <th>modis_lon</th>\n",
       "      <th>modis_col</th>\n",
       "      <th>modis_datetime</th>\n",
       "      <th>modis_LL</th>\n",
       "      <th>modis_row</th>\n",
       "      <th>clear_fraction</th>\n",
       "      <th>mean_temperature</th>\n",
       "      <th>Tmin</th>\n",
       "      <th>Tmax</th>\n",
       "      <th>...</th>\n",
       "      <th>field_size</th>\n",
       "      <th>pp_type</th>\n",
       "      <th>pp_idx</th>\n",
       "      <th>lat</th>\n",
       "      <th>lon</th>\n",
       "      <th>row</th>\n",
       "      <th>col</th>\n",
       "      <th>datetime</th>\n",
       "      <th>filename</th>\n",
       "      <th>LL</th>\n",
       "    </tr>\n",
       "  </thead>\n",
       "  <tbody>\n",
       "    <tr>\n",
       "      <th>242</th>\n",
       "      <td>-3.130523</td>\n",
       "      <td>-161.63765</td>\n",
       "      <td>389</td>\n",
       "      <td>2012-01-01 12:10:00</td>\n",
       "      <td>495.246216</td>\n",
       "      <td>481</td>\n",
       "      <td>0.047668</td>\n",
       "      <td>26.224907</td>\n",
       "      <td>26.028000</td>\n",
       "      <td>26.751001</td>\n",
       "      <td>...</td>\n",
       "      <td>64</td>\n",
       "      <td>0</td>\n",
       "      <td>530983</td>\n",
       "      <td>-3.121485</td>\n",
       "      <td>-161.635422</td>\n",
       "      <td>7726</td>\n",
       "      <td>11313</td>\n",
       "      <td>2012-01-01 12:00:00</td>\n",
       "      <td>s3://llc/ThetaUVSalt/LLC4320_2012-01-01T12_00_...</td>\n",
       "      <td>748.095520</td>\n",
       "    </tr>\n",
       "    <tr>\n",
       "      <th>245</th>\n",
       "      <td>-3.027235</td>\n",
       "      <td>-161.28703</td>\n",
       "      <td>421</td>\n",
       "      <td>2012-01-01 12:10:00</td>\n",
       "      <td>628.006470</td>\n",
       "      <td>464</td>\n",
       "      <td>0.006775</td>\n",
       "      <td>26.202333</td>\n",
       "      <td>25.963001</td>\n",
       "      <td>26.467001</td>\n",
       "      <td>...</td>\n",
       "      <td>64</td>\n",
       "      <td>0</td>\n",
       "      <td>593727</td>\n",
       "      <td>-3.025058</td>\n",
       "      <td>-161.281250</td>\n",
       "      <td>7731</td>\n",
       "      <td>11330</td>\n",
       "      <td>2012-01-01 12:00:00</td>\n",
       "      <td>s3://llc/ThetaUVSalt/LLC4320_2012-01-01T12_00_...</td>\n",
       "      <td>741.925537</td>\n",
       "    </tr>\n",
       "    <tr>\n",
       "      <th>246</th>\n",
       "      <td>-2.980542</td>\n",
       "      <td>-161.60338</td>\n",
       "      <td>389</td>\n",
       "      <td>2012-01-01 12:10:00</td>\n",
       "      <td>593.781677</td>\n",
       "      <td>464</td>\n",
       "      <td>0.017761</td>\n",
       "      <td>26.206188</td>\n",
       "      <td>26.014000</td>\n",
       "      <td>26.705000</td>\n",
       "      <td>...</td>\n",
       "      <td>64</td>\n",
       "      <td>0</td>\n",
       "      <td>178174</td>\n",
       "      <td>-2.986482</td>\n",
       "      <td>-161.593750</td>\n",
       "      <td>7733</td>\n",
       "      <td>11315</td>\n",
       "      <td>2012-01-01 12:00:00</td>\n",
       "      <td>s3://llc/ThetaUVSalt/LLC4320_2012-01-01T12_00_...</td>\n",
       "      <td>734.269653</td>\n",
       "    </tr>\n",
       "    <tr>\n",
       "      <th>247</th>\n",
       "      <td>-2.958587</td>\n",
       "      <td>-159.75120</td>\n",
       "      <td>581</td>\n",
       "      <td>2012-01-01 12:10:00</td>\n",
       "      <td>265.493408</td>\n",
       "      <td>432</td>\n",
       "      <td>0.025452</td>\n",
       "      <td>26.091520</td>\n",
       "      <td>25.874001</td>\n",
       "      <td>26.390001</td>\n",
       "      <td>...</td>\n",
       "      <td>64</td>\n",
       "      <td>0</td>\n",
       "      <td>480660</td>\n",
       "      <td>-2.967194</td>\n",
       "      <td>-159.760422</td>\n",
       "      <td>7734</td>\n",
       "      <td>11403</td>\n",
       "      <td>2012-01-01 12:00:00</td>\n",
       "      <td>s3://llc/ThetaUVSalt/LLC4320_2012-01-01T12_00_...</td>\n",
       "      <td>730.128357</td>\n",
       "    </tr>\n",
       "    <tr>\n",
       "      <th>251</th>\n",
       "      <td>-2.820349</td>\n",
       "      <td>-161.72964</td>\n",
       "      <td>374</td>\n",
       "      <td>2012-01-01 12:10:00</td>\n",
       "      <td>463.220337</td>\n",
       "      <td>449</td>\n",
       "      <td>0.049866</td>\n",
       "      <td>26.193914</td>\n",
       "      <td>25.961000</td>\n",
       "      <td>26.466002</td>\n",
       "      <td>...</td>\n",
       "      <td>64</td>\n",
       "      <td>0</td>\n",
       "      <td>163933</td>\n",
       "      <td>-2.812861</td>\n",
       "      <td>-161.739578</td>\n",
       "      <td>7742</td>\n",
       "      <td>11308</td>\n",
       "      <td>2012-01-01 12:00:00</td>\n",
       "      <td>s3://llc/ThetaUVSalt/LLC4320_2012-01-01T12_00_...</td>\n",
       "      <td>743.652771</td>\n",
       "    </tr>\n",
       "  </tbody>\n",
       "</table>\n",
       "<p>5 rows × 26 columns</p>\n",
       "</div>"
      ],
      "text/plain": [
       "     modis_lat  modis_lon  modis_col      modis_datetime    modis_LL  \\\n",
       "242  -3.130523 -161.63765        389 2012-01-01 12:10:00  495.246216   \n",
       "245  -3.027235 -161.28703        421 2012-01-01 12:10:00  628.006470   \n",
       "246  -2.980542 -161.60338        389 2012-01-01 12:10:00  593.781677   \n",
       "247  -2.958587 -159.75120        581 2012-01-01 12:10:00  265.493408   \n",
       "251  -2.820349 -161.72964        374 2012-01-01 12:10:00  463.220337   \n",
       "\n",
       "     modis_row  clear_fraction  mean_temperature       Tmin       Tmax  ...  \\\n",
       "242        481        0.047668         26.224907  26.028000  26.751001  ...   \n",
       "245        464        0.006775         26.202333  25.963001  26.467001  ...   \n",
       "246        464        0.017761         26.206188  26.014000  26.705000  ...   \n",
       "247        432        0.025452         26.091520  25.874001  26.390001  ...   \n",
       "251        449        0.049866         26.193914  25.961000  26.466002  ...   \n",
       "\n",
       "     field_size  pp_type  pp_idx       lat         lon   row    col  \\\n",
       "242          64        0  530983 -3.121485 -161.635422  7726  11313   \n",
       "245          64        0  593727 -3.025058 -161.281250  7731  11330   \n",
       "246          64        0  178174 -2.986482 -161.593750  7733  11315   \n",
       "247          64        0  480660 -2.967194 -159.760422  7734  11403   \n",
       "251          64        0  163933 -2.812861 -161.739578  7742  11308   \n",
       "\n",
       "               datetime                                           filename  \\\n",
       "242 2012-01-01 12:00:00  s3://llc/ThetaUVSalt/LLC4320_2012-01-01T12_00_...   \n",
       "245 2012-01-01 12:00:00  s3://llc/ThetaUVSalt/LLC4320_2012-01-01T12_00_...   \n",
       "246 2012-01-01 12:00:00  s3://llc/ThetaUVSalt/LLC4320_2012-01-01T12_00_...   \n",
       "247 2012-01-01 12:00:00  s3://llc/ThetaUVSalt/LLC4320_2012-01-01T12_00_...   \n",
       "251 2012-01-01 12:00:00  s3://llc/ThetaUVSalt/LLC4320_2012-01-01T12_00_...   \n",
       "\n",
       "             LL  \n",
       "242  748.095520  \n",
       "245  741.925537  \n",
       "246  734.269653  \n",
       "247  730.128357  \n",
       "251  743.652771  \n",
       "\n",
       "[5 rows x 26 columns]"
      ]
     },
     "execution_count": 10,
     "metadata": {},
     "output_type": "execute_result"
    }
   ],
   "source": [
    "sub_tbl.head()"
   ]
  },
  {
   "cell_type": "code",
   "execution_count": 11,
   "metadata": {},
   "outputs": [
    {
     "data": {
      "text/plain": [
       "2987"
      ]
     },
     "execution_count": 11,
     "metadata": {},
     "output_type": "execute_result"
    }
   ],
   "source": [
    "len(sub_tbl)"
   ]
  },
  {
   "cell_type": "markdown",
   "metadata": {},
   "source": [
    "# Plot a few cutouts"
   ]
  },
  {
   "cell_type": "markdown",
   "metadata": {},
   "source": [
    "## Grab the first one"
   ]
  },
  {
   "cell_type": "code",
   "execution_count": 12,
   "metadata": {},
   "outputs": [
    {
     "data": {
      "text/plain": [
       "modis_lat                                                    -3.13052\n",
       "modis_lon                                                    -161.638\n",
       "modis_col                                                         389\n",
       "modis_datetime                                    2012-01-01 12:10:00\n",
       "modis_LL                                                      495.246\n",
       "modis_row                                                         481\n",
       "clear_fraction                                              0.0476685\n",
       "mean_temperature                                              26.2249\n",
       "Tmin                                                           26.028\n",
       "Tmax                                                           26.751\n",
       "T90                                                            26.373\n",
       "T10                                                            26.114\n",
       "modis_filename                   AQUA_MODIS.20120101T121008.L2.SST.nc\n",
       "modis_UID                                           13258686951836235\n",
       "pp_file             s3://llc/PreProc/LLC_modis2012_test_noise_prep...\n",
       "pp_root                                                     llc_noise\n",
       "field_size                                                         64\n",
       "pp_type                                                             0\n",
       "pp_idx                                                         530983\n",
       "lat                                                          -3.12149\n",
       "lon                                                          -161.635\n",
       "row                                                              7726\n",
       "col                                                             11313\n",
       "datetime                                          2012-01-01 12:00:00\n",
       "filename            s3://llc/ThetaUVSalt/LLC4320_2012-01-01T12_00_...\n",
       "LL                                                            748.096\n",
       "Name: 242, dtype: object"
      ]
     },
     "execution_count": 12,
     "metadata": {},
     "output_type": "execute_result"
    }
   ],
   "source": [
    "cutout0 = sub_tbl.iloc[0]\n",
    "cutout0"
   ]
  },
  {
   "cell_type": "markdown",
   "metadata": {},
   "source": [
    "### Image"
   ]
  },
  {
   "cell_type": "code",
   "execution_count": 14,
   "metadata": {},
   "outputs": [],
   "source": [
    "# This uses s3\n",
    "#img0 = llc_io.grab_image(cutout0)\n",
    "# For a local file, use\n",
    "local_preproc = '/tank/xavier/Oceanography/AI/OOD/LLC/PreProc/LLC_modis2012_test_noise_preproc.h5'\n",
    "img0 = llc_io.grab_image(cutout0, local_file=local_preproc)"
   ]
  },
  {
   "cell_type": "code",
   "execution_count": 15,
   "metadata": {},
   "outputs": [
    {
     "data": {
      "text/plain": [
       "<AxesSubplot:>"
      ]
     },
     "execution_count": 15,
     "metadata": {},
     "output_type": "execute_result"
    },
    {
     "data": {
      "image/png": "[encoded data removed]",
      "text/plain": [
       "<Figure size 432x288 with 2 Axes>"
      ]
     },
     "metadata": {
      "needs_background": "light"
     },
     "output_type": "display_data"
    }
   ],
   "source": [
    "ulmo_plotting.show_image(img0)"
   ]
  },
  {
   "cell_type": "markdown",
   "metadata": {},
   "source": [
    "## One more"
   ]
  },
  {
   "cell_type": "code",
   "execution_count": 16,
   "metadata": {},
   "outputs": [
    {
     "data": {
      "text/plain": [
       "<AxesSubplot:>"
      ]
     },
     "execution_count": 16,
     "metadata": {},
     "output_type": "execute_result"
    },
    {
     "data": {
      "image/png": "[encoded data removed]",
      "text/plain": [
       "<Figure size 432x288 with 2 Axes>"
      ]
     },
     "metadata": {
      "needs_background": "light"
     },
     "output_type": "display_data"
    }
   ],
   "source": [
    "cutout100 = sub_tbl.iloc[100]\n",
    "img100 = llc_io.grab_image(cutout100) # , local_file=local_preproc)\n",
    "ulmo_plotting.show_image(img100)"
   ]
  },
  {
   "cell_type": "code",
   "execution_count": null,
   "metadata": {},
   "outputs": [],
   "source": []
  }
 ],
 "metadata": {
  "kernelspec": {
   "display_name": "Python 3",
   "language": "python",
   "name": "python3"
  },
  "language_info": {
   "codemirror_mode": {
    "name": "ipython",
    "version": 3
   },
   "file_extension": ".py",
   "mimetype": "text/x-python",
   "name": "python",
   "nbconvert_exporter": "python",
   "pygments_lexer": "ipython3",
   "version": "3.8.8"
  }
 },
 "nbformat": 4,
 "nbformat_minor": 4
}
