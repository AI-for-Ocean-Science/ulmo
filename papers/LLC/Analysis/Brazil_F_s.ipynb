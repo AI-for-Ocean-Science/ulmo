{
 "cells": [
  {
   "cell_type": "markdown",
   "id": "6976ab9c-e369-4b49-8039-f32436c6206a",
   "metadata": {},
   "source": [
    "# Explore F_S near Brazil"
   ]
  },
  {
   "cell_type": "code",
   "execution_count": 28,
   "id": "6fe72f3d-7172-484e-8b11-4c0e18b31177",
   "metadata": {},
   "outputs": [],
   "source": [
    "import numpy as np\n",
    "from matplotlib import pyplot as plt\n",
    "import seaborn as sns\n",
    "\n",
    "import pandas"
   ]
  },
  {
   "cell_type": "markdown",
   "id": "130726c0-96d1-4071-815a-90700ff900dc",
   "metadata": {},
   "source": [
    "# Load up"
   ]
  },
  {
   "cell_type": "code",
   "execution_count": 2,
   "id": "bcbaece1-c9ac-494c-9df3-74074d6206cc",
   "metadata": {},
   "outputs": [],
   "source": [
    "fs_dict = np.load('F_S_pdfs.npz')"
   ]
  },
  {
   "cell_type": "code",
   "execution_count": 3,
   "id": "6452c522-ecbe-4a41-9861-ea44db13454a",
   "metadata": {},
   "outputs": [
    {
     "data": {
      "text/plain": [
       "['R1_F_s', 'R2_F_s']"
      ]
     },
     "execution_count": 3,
     "metadata": {},
     "output_type": "execute_result"
    }
   ],
   "source": [
    "list(fs_dict.keys())"
   ]
  },
  {
   "cell_type": "code",
   "execution_count": 4,
   "id": "a2732b40-4ab4-4048-b814-6bf9deb146ad",
   "metadata": {},
   "outputs": [],
   "source": [
    "R1_F_s = fs_dict['R1_F_s']\n",
    "R2_F_s = fs_dict['R2_F_s']"
   ]
  },
  {
   "cell_type": "code",
   "execution_count": 30,
   "id": "453294c7-cdb1-46eb-b516-383c2d76ae36",
   "metadata": {},
   "outputs": [
    {
     "data": {
      "text/plain": [
       "(181, 59)"
      ]
     },
     "execution_count": 30,
     "metadata": {},
     "output_type": "execute_result"
    }
   ],
   "source": [
    "nR1 = R1_F_s.shape[0]\n",
    "nR2 = R2_F_s.shape[0]\n",
    "nR1, nR2"
   ]
  },
  {
   "cell_type": "markdown",
   "id": "81ffa619-2839-4ba4-9da5-e2eb29c1bd94",
   "metadata": {},
   "source": [
    "# Explore"
   ]
  },
  {
   "cell_type": "markdown",
   "id": "712dfa8d-d75d-4be2-b69f-cf37a1c6edee",
   "metadata": {},
   "source": [
    "## Max, min"
   ]
  },
  {
   "cell_type": "code",
   "execution_count": 5,
   "id": "13b39324-f324-41e8-aa5e-5924baa5c1e5",
   "metadata": {},
   "outputs": [
    {
     "data": {
      "text/plain": [
       "(-0.005270866706190598, 0.01998569300716011)"
      ]
     },
     "execution_count": 5,
     "metadata": {},
     "output_type": "execute_result"
    }
   ],
   "source": [
    "R1_F_s.min(), R1_F_s.max()"
   ]
  },
  {
   "cell_type": "code",
   "execution_count": 11,
   "id": "ca84467b-99f9-46d2-becc-5f3aaa4addc0",
   "metadata": {},
   "outputs": [],
   "source": [
    "bins = np.linspace(R1_F_s.min(), R1_F_s.max(), 100)"
   ]
  },
  {
   "cell_type": "code",
   "execution_count": 7,
   "id": "e81b143d-eb56-4ef8-a5cc-1e704288c43f",
   "metadata": {},
   "outputs": [
    {
     "data": {
      "text/plain": [
       "(-0.0008923193394548408, 0.0040310095013785414)"
      ]
     },
     "execution_count": 7,
     "metadata": {},
     "output_type": "execute_result"
    }
   ],
   "source": [
    "R2_F_s.min(), R2_F_s.max()"
   ]
  },
  {
   "cell_type": "markdown",
   "id": "5576c230-763c-4ff3-b2bd-a03c2240b1cf",
   "metadata": {},
   "source": [
    "$\\sigma$"
   ]
  },
  {
   "cell_type": "code",
   "execution_count": 19,
   "id": "e5099331-6afb-43ee-8fed-ee9fae02cf00",
   "metadata": {},
   "outputs": [
    {
     "data": {
      "text/plain": [
       "2.4177158757338034e-05"
      ]
     },
     "execution_count": 19,
     "metadata": {},
     "output_type": "execute_result"
    }
   ],
   "source": [
    "rms_R2 = np.std(R2_F_s.flatten())\n",
    "rms_R2"
   ]
  },
  {
   "cell_type": "markdown",
   "id": "da43166f-8462-4569-bab6-febfaf1d881a",
   "metadata": {},
   "source": [
    "## Histogram"
   ]
  },
  {
   "cell_type": "code",
   "execution_count": 21,
   "id": "1f705a51-d97e-4da2-b84b-86a316e97079",
   "metadata": {},
   "outputs": [
    {
     "data": {
      "image/png": "[encoded data removed]",
      "text/plain": [
       "<Figure size 432x288 with 1 Axes>"
      ]
     },
     "metadata": {
      "needs_background": "light"
     },
     "output_type": "display_data"
    }
   ],
   "source": [
    "ax = sns.histplot(x=R1_F_s.flatten(), bins=bins, log_scale=(False,True))\n",
    "ax.set_xlabel(r'$F_s$ for $R_1$')\n",
    "plt.savefig('F_s_R1_hist.png', dpi=200)"
   ]
  },
  {
   "cell_type": "code",
   "execution_count": 22,
   "id": "a7e29936-8b1f-4aa2-9fcc-db33a155bc91",
   "metadata": {},
   "outputs": [
    {
     "data": {
      "image/png": "[encoded data removed]",
      "text/plain": [
       "<Figure size 432x288 with 1 Axes>"
      ]
     },
     "metadata": {
      "needs_background": "light"
     },
     "output_type": "display_data"
    }
   ],
   "source": [
    "ax = sns.histplot(x=R2_F_s.flatten(), bins=bins, log_scale=(False,True), color='orange')\n",
    "ax.set_xlabel(r'$F_s$ for $R_2$')\n",
    "ax.axvline(10*rms_R2, color='k', ls='--')\n",
    "plt.savefig('F_s_R2_hist.png', dpi=200)"
   ]
  },
  {
   "cell_type": "markdown",
   "id": "024f732a-a6ed-487f-9f45-d760bc6a1ce9",
   "metadata": {},
   "source": [
    "# Thresholds"
   ]
  },
  {
   "cell_type": "code",
   "execution_count": 50,
   "id": "f8a69354-0100-4967-992f-e93e30c7957d",
   "metadata": {},
   "outputs": [
    {
     "data": {
      "text/plain": [
       "0.00024177158757338036"
      ]
     },
     "execution_count": 50,
     "metadata": {},
     "output_type": "execute_result"
    }
   ],
   "source": [
    "F_s_pos = 10*rms_R2\n",
    "F_s_neg = -10*rms_R2\n",
    "F_s_pos"
   ]
  },
  {
   "cell_type": "markdown",
   "id": "c5896f10-5e51-479b-909c-bc1f7b79cd6e",
   "metadata": {},
   "source": [
    "## R1"
   ]
  },
  {
   "cell_type": "code",
   "execution_count": 59,
   "id": "27f2d2ca-b554-4b90-91ee-c16992132240",
   "metadata": {},
   "outputs": [],
   "source": [
    "R1_pos_vals = []\n",
    "R1_neg_vals = []\n",
    "R1_either_vals = []\n",
    "for ii in range(nR1):\n",
    "    npos = np.sum(R1_F_s[ii,...] > F_s_pos)\n",
    "    nneg = np.sum(R1_F_s[ii,...] < F_s_neg)\n",
    "    #print(np.max(R1_F_s[ii,...]))\n",
    "    # Save\n",
    "    R1_pos_vals.append(npos)\n",
    "    R1_neg_vals.append(nneg)\n",
    "    R1_either_vals.append(max(nneg, npos))"
   ]
  },
  {
   "cell_type": "code",
   "execution_count": 60,
   "id": "cc89c9a6-8ca8-4aca-a61f-710959c77894",
   "metadata": {},
   "outputs": [
    {
     "data": {
      "text/plain": [
       "(0, 320)"
      ]
     },
     "execution_count": 60,
     "metadata": {},
     "output_type": "execute_result"
    }
   ],
   "source": [
    "np.min(R1_either_vals), np.max(R1_either_vals)"
   ]
  },
  {
   "cell_type": "markdown",
   "id": "95b69d34-a756-43c7-8a49-c90177593539",
   "metadata": {},
   "source": [
    "## R2"
   ]
  },
  {
   "cell_type": "code",
   "execution_count": 61,
   "id": "df8d85e2-a873-4501-9f86-66e69aee516e",
   "metadata": {},
   "outputs": [],
   "source": [
    "R2_pos_vals = []\n",
    "R2_neg_vals = []\n",
    "R2_either_vals = []\n",
    "for ii in range(nR2):\n",
    "    npos = np.sum(R2_F_s[ii,...] > F_s_pos)\n",
    "    nneg = np.sum(R2_F_s[ii,...] < F_s_neg)\n",
    "    # Save\n",
    "    R2_pos_vals.append(npos)\n",
    "    R2_neg_vals.append(nneg)\n",
    "    R2_either_vals.append(max(npos,nneg))"
   ]
  },
  {
   "cell_type": "markdown",
   "id": "95d9e70d-f5fb-4bd3-9910-dfe41b63cb8e",
   "metadata": {},
   "source": [
    "## Collate"
   ]
  },
  {
   "cell_type": "code",
   "execution_count": 62,
   "id": "60cd3ae1-cdfa-46f3-991e-8964f0696987",
   "metadata": {},
   "outputs": [],
   "source": [
    "df = pandas.DataFrame()\n",
    "df['pos'] = R1_pos_vals + R2_pos_vals\n",
    "df['neg'] = R1_neg_vals + R2_neg_vals\n",
    "df['either'] = R1_either_vals + R2_either_vals\n",
    "df['R'] = ['1']*nR1 + ['2']*nR2"
   ]
  },
  {
   "cell_type": "markdown",
   "id": "1a662101-c796-47b9-9182-3e1e91bbd227",
   "metadata": {},
   "source": [
    "## Plot em"
   ]
  },
  {
   "cell_type": "code",
   "execution_count": 55,
   "id": "bfa743c3-d15d-4f50-a2af-e738472dad3d",
   "metadata": {},
   "outputs": [],
   "source": []
  },
  {
   "cell_type": "markdown",
   "id": "5b99e6c6-660d-4e51-88ff-30a8d4d889be",
   "metadata": {},
   "source": [
    "### Positive"
   ]
  },
  {
   "cell_type": "code",
   "execution_count": 57,
   "id": "98b3d885-ad19-42e4-b056-76db2414db72",
   "metadata": {},
   "outputs": [
    {
     "data": {
      "image/png": "[encoded data removed]",
      "text/plain": [
       "<Figure size 432x288 with 1 Axes>"
      ]
     },
     "metadata": {
      "needs_background": "light"
     },
     "output_type": "display_data"
    }
   ],
   "source": [
    "sns.histplot(df, x='pos', hue='R')#, bins=np.arange(45))\n",
    "plt.savefig('pos_hist.png', dpi=200)"
   ]
  },
  {
   "cell_type": "markdown",
   "id": "bd9b051b-e66c-42bf-a3ef-dfc5c8b55397",
   "metadata": {},
   "source": [
    "### Negative"
   ]
  },
  {
   "cell_type": "code",
   "execution_count": 58,
   "id": "391ae205-69b0-4275-a69e-7a05e3b2fd5b",
   "metadata": {},
   "outputs": [
    {
     "data": {
      "image/png": "[encoded data removed]",
      "text/plain": [
       "<Figure size 432x288 with 1 Axes>"
      ]
     },
     "metadata": {
      "needs_background": "light"
     },
     "output_type": "display_data"
    }
   ],
   "source": [
    "sns.histplot(df, x='neg', hue='R')#, bins=np.arange(45))\n",
    "plt.savefig('neg_hist.png', dpi=200)"
   ]
  },
  {
   "cell_type": "markdown",
   "id": "c31ec2b7-0b34-4c9c-86e3-36319a36cd9a",
   "metadata": {},
   "source": [
    "### Either"
   ]
  },
  {
   "cell_type": "code",
   "execution_count": 63,
   "id": "b1e3d0a0-0f74-44df-9906-03e897b7c9fb",
   "metadata": {},
   "outputs": [
    {
     "data": {
      "image/png": "[encoded data removed]",
      "text/plain": [
       "<Figure size 432x288 with 1 Axes>"
      ]
     },
     "metadata": {
      "needs_background": "light"
     },
     "output_type": "display_data"
    }
   ],
   "source": [
    "sns.histplot(df, x='either', hue='R')#, bins=np.arange(45))\n",
    "plt.savefig('either_hist.png', dpi=200)"
   ]
  },
  {
   "cell_type": "code",
   "execution_count": null,
   "id": "51cdb942-f114-4558-9976-52aec97223b4",
   "metadata": {},
   "outputs": [],
   "source": []
  }
 ],
 "metadata": {
  "kernelspec": {
   "display_name": "Python 3 (ipykernel)",
   "language": "python",
   "name": "python3"
  },
  "language_info": {
   "codemirror_mode": {
    "name": "ipython",
    "version": 3
   },
   "file_extension": ".py",
   "mimetype": "text/x-python",
   "name": "python",
   "nbconvert_exporter": "python",
   "pygments_lexer": "ipython3",
   "version": "3.9.9"
  }
 },
 "nbformat": 4,
 "nbformat_minor": 5
}
