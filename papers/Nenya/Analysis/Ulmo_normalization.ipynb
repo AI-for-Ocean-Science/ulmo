{
 "cells": [
  {
   "cell_type": "markdown",
   "id": "0e8fabe9",
   "metadata": {},
   "source": [
    "# Ulmo Normalization\n",
    "\n",
    "## Following -- https://arxiv.org/pdf/2006.09273.pdf"
   ]
  },
  {
   "cell_type": "code",
   "execution_count": 9,
   "id": "f5b9396a",
   "metadata": {},
   "outputs": [],
   "source": [
    "# imports\n",
    "import numpy as np\n",
    "import pandas\n",
    "\n",
    "import seaborn as sns"
   ]
  },
  {
   "cell_type": "markdown",
   "id": "2f25d28d",
   "metadata": {},
   "source": [
    "# Init"
   ]
  },
  {
   "cell_type": "code",
   "execution_count": 2,
   "id": "a58bd841",
   "metadata": {},
   "outputs": [],
   "source": [
    "ndim = 512"
   ]
  },
  {
   "cell_type": "markdown",
   "id": "e999ee09",
   "metadata": {},
   "source": [
    "# Random draw"
   ]
  },
  {
   "cell_type": "code",
   "execution_count": 3,
   "id": "eb635543",
   "metadata": {},
   "outputs": [],
   "source": [
    "randx = np.random.normal(size=(ndim, 10000))"
   ]
  },
  {
   "cell_type": "code",
   "execution_count": 4,
   "id": "92d449a6",
   "metadata": {},
   "outputs": [
    {
     "data": {
      "text/plain": [
       "(512, 10000)"
      ]
     },
     "execution_count": 4,
     "metadata": {},
     "output_type": "execute_result"
    }
   ],
   "source": [
    "randx.shape"
   ]
  },
  {
   "cell_type": "markdown",
   "id": "22f46442",
   "metadata": {},
   "source": [
    "# Generate stats"
   ]
  },
  {
   "cell_type": "markdown",
   "id": "3e8b18c2",
   "metadata": {},
   "source": [
    "## $||x||_2$"
   ]
  },
  {
   "cell_type": "code",
   "execution_count": 7,
   "id": "96145616",
   "metadata": {},
   "outputs": [
    {
     "data": {
      "text/plain": [
       "(10000,)"
      ]
     },
     "execution_count": 7,
     "metadata": {},
     "output_type": "execute_result"
    }
   ],
   "source": [
    "magx = np.linalg.norm(randx, axis=0)\n",
    "magx.shape"
   ]
  },
  {
   "cell_type": "code",
   "execution_count": 10,
   "id": "7cfaa8d2",
   "metadata": {},
   "outputs": [],
   "source": [
    "df = pandas.DataFrame(dict(magx=magx))"
   ]
  },
  {
   "cell_type": "code",
   "execution_count": 15,
   "id": "26b4530a",
   "metadata": {},
   "outputs": [
    {
     "data": {
      "text/plain": [
       "<AxesSubplot:xlabel='magx', ylabel='Count'>"
      ]
     },
     "execution_count": 15,
     "metadata": {},
     "output_type": "execute_result"
    },
    {
     "data": {
      "image/png": "[encoded data removed]",
      "text/plain": [
       "<Figure size 432x288 with 1 Axes>"
      ]
     },
     "metadata": {
      "needs_background": "light"
     },
     "output_type": "display_data"
    }
   ],
   "source": [
    "sns.histplot(df, x='magx') "
   ]
  },
  {
   "cell_type": "markdown",
   "id": "4c5982a5",
   "metadata": {},
   "source": [
    "## $-\\log p(x)$"
   ]
  },
  {
   "cell_type": "code",
   "execution_count": 21,
   "id": "bdb55387",
   "metadata": {},
   "outputs": [],
   "source": [
    "ln_pi = np.log(np.sqrt(1./2/np.pi)) - randx**2/2"
   ]
  },
  {
   "cell_type": "code",
   "execution_count": 22,
   "id": "d0449fdd",
   "metadata": {},
   "outputs": [
    {
     "data": {
      "text/plain": [
       "(10000,)"
      ]
     },
     "execution_count": 22,
     "metadata": {},
     "output_type": "execute_result"
    }
   ],
   "source": [
    "ln_P = np.sum(ln_pi, axis=0)\n",
    "ln_P.shape"
   ]
  },
  {
   "cell_type": "code",
   "execution_count": 23,
   "id": "b5137f1c",
   "metadata": {},
   "outputs": [],
   "source": [
    "df['nln_P'] = -1*ln_P"
   ]
  },
  {
   "cell_type": "code",
   "execution_count": 24,
   "id": "97e10fab",
   "metadata": {},
   "outputs": [
    {
     "data": {
      "text/plain": [
       "<AxesSubplot:xlabel='nln_P', ylabel='Count'>"
      ]
     },
     "execution_count": 24,
     "metadata": {},
     "output_type": "execute_result"
    },
    {
     "data": {
      "image/png": "[encoded data removed]",
      "text/plain": [
       "<Figure size 432x288 with 1 Axes>"
      ]
     },
     "metadata": {
      "needs_background": "light"
     },
     "output_type": "display_data"
    }
   ],
   "source": [
    "sns.histplot(df, x='nln_P')"
   ]
  },
  {
   "cell_type": "code",
   "execution_count": 25,
   "id": "c252c65f",
   "metadata": {},
   "outputs": [
    {
     "data": {
      "text/plain": [
       "716.8000000000001"
      ]
     },
     "execution_count": 25,
     "metadata": {},
     "output_type": "execute_result"
    }
   ],
   "source": [
    "5.12*140."
   ]
  },
  {
   "cell_type": "code",
   "execution_count": null,
   "id": "8cb5f539",
   "metadata": {},
   "outputs": [],
   "source": []
  }
 ],
 "metadata": {
  "kernelspec": {
   "display_name": "Python 3 (ipykernel)",
   "language": "python",
   "name": "python3"
  },
  "language_info": {
   "codemirror_mode": {
    "name": "ipython",
    "version": 3
   },
   "file_extension": ".py",
   "mimetype": "text/x-python",
   "name": "python",
   "nbconvert_exporter": "python",
   "pygments_lexer": "ipython3",
   "version": "3.8.5"
  }
 },
 "nbformat": 4,
 "nbformat_minor": 5
}
