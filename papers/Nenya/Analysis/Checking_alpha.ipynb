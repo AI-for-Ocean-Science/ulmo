{
 "cells": [
  {
   "cell_type": "markdown",
   "id": "5cff7cd0",
   "metadata": {},
   "source": [
    "# Checking $\\alpha$"
   ]
  },
  {
   "cell_type": "code",
   "execution_count": 18,
   "id": "7000282f",
   "metadata": {},
   "outputs": [],
   "source": [
    "# imports\n",
    "from importlib import reload\n",
    "\n",
    "import numpy as np\n",
    "\n",
    "from ulmo import io as ulmo_io\n",
    "from ulmo.plotting import plotting\n",
    "from ulmo.utils import image_utils\n",
    "from ulmo.analysis import fft"
   ]
  },
  {
   "cell_type": "markdown",
   "id": "b552cb4f",
   "metadata": {},
   "source": [
    "# Load the Table"
   ]
  },
  {
   "cell_type": "code",
   "execution_count": 2,
   "id": "fe034b93",
   "metadata": {},
   "outputs": [],
   "source": [
    "tbl_file = '/data/Projects/Oceanography/AI/OOD/SST/MODIS_L2/Tables/MODIS_SSL_96clear_v4_DT1.parquet'"
   ]
  },
  {
   "cell_type": "code",
   "execution_count": 3,
   "id": "cf34521f",
   "metadata": {},
   "outputs": [
    {
     "name": "stdout",
     "output_type": "stream",
     "text": [
      "Read main table: /data/Projects/Oceanography/AI/OOD/SST/MODIS_L2/Tables/MODIS_SSL_96clear_v4_DT1.parquet\n"
     ]
    }
   ],
   "source": [
    "modis_tbl = ulmo_io.load_main_table(tbl_file)"
   ]
  },
  {
   "cell_type": "code",
   "execution_count": 5,
   "id": "c59c931b",
   "metadata": {},
   "outputs": [
    {
     "data": {
      "text/html": [
       "<div>\n",
       "<style scoped>\n",
       "    .dataframe tbody tr th:only-of-type {\n",
       "        vertical-align: middle;\n",
       "    }\n",
       "\n",
       "    .dataframe tbody tr th {\n",
       "        vertical-align: top;\n",
       "    }\n",
       "\n",
       "    .dataframe thead th {\n",
       "        text-align: right;\n",
       "    }\n",
       "</style>\n",
       "<table border=\"1\" class=\"dataframe\">\n",
       "  <thead>\n",
       "    <tr style=\"text-align: right;\">\n",
       "      <th></th>\n",
       "      <th>lat</th>\n",
       "      <th>lon</th>\n",
       "      <th>col</th>\n",
       "      <th>datetime</th>\n",
       "      <th>LL</th>\n",
       "      <th>row</th>\n",
       "      <th>clear_fraction</th>\n",
       "      <th>mean_temperature</th>\n",
       "      <th>Tmin</th>\n",
       "      <th>Tmax</th>\n",
       "      <th>...</th>\n",
       "      <th>zonal_slope</th>\n",
       "      <th>merid_slope</th>\n",
       "      <th>zonal_slope_err</th>\n",
       "      <th>merid_slope_err</th>\n",
       "      <th>ulmo_pp_type</th>\n",
       "      <th>DT40</th>\n",
       "      <th>ulmo_pp_idx</th>\n",
       "      <th>ulmo_pp_file</th>\n",
       "      <th>US0</th>\n",
       "      <th>US1</th>\n",
       "    </tr>\n",
       "  </thead>\n",
       "  <tbody>\n",
       "    <tr>\n",
       "      <th>0</th>\n",
       "      <td>13.980967</td>\n",
       "      <td>62.675774</td>\n",
       "      <td>517</td>\n",
       "      <td>2003-03-10 21:25:00</td>\n",
       "      <td>520.178711</td>\n",
       "      <td>304</td>\n",
       "      <td>0.000000</td>\n",
       "      <td>26.199476</td>\n",
       "      <td>25.250000</td>\n",
       "      <td>26.885000</td>\n",
       "      <td>...</td>\n",
       "      <td>-1.186275</td>\n",
       "      <td>-2.126147</td>\n",
       "      <td>0.137467</td>\n",
       "      <td>0.224244</td>\n",
       "      <td>0</td>\n",
       "      <td>0.577624</td>\n",
       "      <td>0</td>\n",
       "      <td>s3://modis-l2/PreProc/MODIS_R2019_2003_95clear...</td>\n",
       "      <td>0.664701</td>\n",
       "      <td>-0.373816</td>\n",
       "    </tr>\n",
       "    <tr>\n",
       "      <th>3</th>\n",
       "      <td>-11.910899</td>\n",
       "      <td>129.427200</td>\n",
       "      <td>485</td>\n",
       "      <td>2003-10-11 16:40:00</td>\n",
       "      <td>282.105896</td>\n",
       "      <td>1040</td>\n",
       "      <td>0.011414</td>\n",
       "      <td>28.777988</td>\n",
       "      <td>27.719999</td>\n",
       "      <td>30.639999</td>\n",
       "      <td>...</td>\n",
       "      <td>-1.793924</td>\n",
       "      <td>-1.593005</td>\n",
       "      <td>0.141151</td>\n",
       "      <td>0.189891</td>\n",
       "      <td>0</td>\n",
       "      <td>0.583875</td>\n",
       "      <td>5</td>\n",
       "      <td>s3://modis-l2/PreProc/MODIS_R2019_2003_95clear...</td>\n",
       "      <td>6.799085</td>\n",
       "      <td>-0.713735</td>\n",
       "    </tr>\n",
       "    <tr>\n",
       "      <th>4</th>\n",
       "      <td>-20.774708</td>\n",
       "      <td>-37.858100</td>\n",
       "      <td>805</td>\n",
       "      <td>2003-09-21 03:55:00</td>\n",
       "      <td>283.446045</td>\n",
       "      <td>1488</td>\n",
       "      <td>0.025513</td>\n",
       "      <td>23.811947</td>\n",
       "      <td>22.709999</td>\n",
       "      <td>25.090000</td>\n",
       "      <td>...</td>\n",
       "      <td>-1.517568</td>\n",
       "      <td>-0.909913</td>\n",
       "      <td>0.099380</td>\n",
       "      <td>0.306343</td>\n",
       "      <td>0</td>\n",
       "      <td>0.537749</td>\n",
       "      <td>6</td>\n",
       "      <td>s3://modis-l2/PreProc/MODIS_R2019_2003_95clear...</td>\n",
       "      <td>7.960623</td>\n",
       "      <td>1.304506</td>\n",
       "    </tr>\n",
       "    <tr>\n",
       "      <th>5</th>\n",
       "      <td>-29.013840</td>\n",
       "      <td>-123.112976</td>\n",
       "      <td>517</td>\n",
       "      <td>2003-01-04 09:20:00</td>\n",
       "      <td>192.348022</td>\n",
       "      <td>976</td>\n",
       "      <td>0.020508</td>\n",
       "      <td>23.734558</td>\n",
       "      <td>21.215000</td>\n",
       "      <td>24.734999</td>\n",
       "      <td>...</td>\n",
       "      <td>-1.409720</td>\n",
       "      <td>-2.198193</td>\n",
       "      <td>0.081723</td>\n",
       "      <td>0.143971</td>\n",
       "      <td>0</td>\n",
       "      <td>0.776376</td>\n",
       "      <td>7</td>\n",
       "      <td>s3://modis-l2/PreProc/MODIS_R2019_2003_95clear...</td>\n",
       "      <td>4.341159</td>\n",
       "      <td>1.622166</td>\n",
       "    </tr>\n",
       "    <tr>\n",
       "      <th>6</th>\n",
       "      <td>11.424337</td>\n",
       "      <td>-19.698378</td>\n",
       "      <td>677</td>\n",
       "      <td>2003-03-21 02:55:00</td>\n",
       "      <td>345.454712</td>\n",
       "      <td>1901</td>\n",
       "      <td>0.022400</td>\n",
       "      <td>23.052279</td>\n",
       "      <td>21.209999</td>\n",
       "      <td>24.504999</td>\n",
       "      <td>...</td>\n",
       "      <td>-2.580862</td>\n",
       "      <td>-1.744191</td>\n",
       "      <td>0.143034</td>\n",
       "      <td>0.202087</td>\n",
       "      <td>0</td>\n",
       "      <td>0.738875</td>\n",
       "      <td>9</td>\n",
       "      <td>s3://modis-l2/PreProc/MODIS_R2019_2003_95clear...</td>\n",
       "      <td>-0.416886</td>\n",
       "      <td>2.344963</td>\n",
       "    </tr>\n",
       "  </tbody>\n",
       "</table>\n",
       "<p>5 rows × 31 columns</p>\n",
       "</div>"
      ],
      "text/plain": [
       "         lat         lon  col            datetime          LL   row  \\\n",
       "0  13.980967   62.675774  517 2003-03-10 21:25:00  520.178711   304   \n",
       "3 -11.910899  129.427200  485 2003-10-11 16:40:00  282.105896  1040   \n",
       "4 -20.774708  -37.858100  805 2003-09-21 03:55:00  283.446045  1488   \n",
       "5 -29.013840 -123.112976  517 2003-01-04 09:20:00  192.348022   976   \n",
       "6  11.424337  -19.698378  677 2003-03-21 02:55:00  345.454712  1901   \n",
       "\n",
       "   clear_fraction  mean_temperature       Tmin       Tmax  ...  zonal_slope  \\\n",
       "0        0.000000         26.199476  25.250000  26.885000  ...    -1.186275   \n",
       "3        0.011414         28.777988  27.719999  30.639999  ...    -1.793924   \n",
       "4        0.025513         23.811947  22.709999  25.090000  ...    -1.517568   \n",
       "5        0.020508         23.734558  21.215000  24.734999  ...    -1.409720   \n",
       "6        0.022400         23.052279  21.209999  24.504999  ...    -2.580862   \n",
       "\n",
       "   merid_slope zonal_slope_err  merid_slope_err ulmo_pp_type      DT40  \\\n",
       "0    -2.126147        0.137467         0.224244            0  0.577624   \n",
       "3    -1.593005        0.141151         0.189891            0  0.583875   \n",
       "4    -0.909913        0.099380         0.306343            0  0.537749   \n",
       "5    -2.198193        0.081723         0.143971            0  0.776376   \n",
       "6    -1.744191        0.143034         0.202087            0  0.738875   \n",
       "\n",
       "   ulmo_pp_idx                                       ulmo_pp_file       US0  \\\n",
       "0            0  s3://modis-l2/PreProc/MODIS_R2019_2003_95clear...  0.664701   \n",
       "3            5  s3://modis-l2/PreProc/MODIS_R2019_2003_95clear...  6.799085   \n",
       "4            6  s3://modis-l2/PreProc/MODIS_R2019_2003_95clear...  7.960623   \n",
       "5            7  s3://modis-l2/PreProc/MODIS_R2019_2003_95clear...  4.341159   \n",
       "6            9  s3://modis-l2/PreProc/MODIS_R2019_2003_95clear... -0.416886   \n",
       "\n",
       "        US1  \n",
       "0 -0.373816  \n",
       "3 -0.713735  \n",
       "4  1.304506  \n",
       "5  1.622166  \n",
       "6  2.344963  \n",
       "\n",
       "[5 rows x 31 columns]"
      ]
     },
     "execution_count": 5,
     "metadata": {},
     "output_type": "execute_result"
    }
   ],
   "source": [
    "modis_tbl.head()"
   ]
  },
  {
   "cell_type": "markdown",
   "id": "f572fee0",
   "metadata": {},
   "source": [
    "# Grab a cutout with large-scale features"
   ]
  },
  {
   "cell_type": "code",
   "execution_count": 32,
   "id": "8e15ef00",
   "metadata": {},
   "outputs": [],
   "source": [
    "U0, U1 = 1, -1.8\n",
    "\n",
    "i_large = np.argmin(np.abs((modis_tbl.US0-U0)**2 + (modis_tbl.US1-U1)**2))"
   ]
  },
  {
   "cell_type": "code",
   "execution_count": 33,
   "id": "c98d6dce",
   "metadata": {},
   "outputs": [
    {
     "data": {
      "text/plain": [
       "lat                                                          2.557818\n",
       "lon                                                        -156.83882\n",
       "col                                                               773\n",
       "datetime                                          2006-07-27 12:05:00\n",
       "LL                                                         475.993042\n",
       "row                                                              1648\n",
       "clear_fraction                                               0.026733\n",
       "mean_temperature                                            27.910484\n",
       "Tmin                                                        25.724998\n",
       "Tmax                                                           28.855\n",
       "T90                                                         28.299999\n",
       "T10                                                         27.555124\n",
       "filename                         AQUA_MODIS.20060727T120508.L2.SST.nc\n",
       "UID                                                 11549255782316118\n",
       "pp_file             s3://modis-l2/PreProc/MODIS_R2019_2006_95clear...\n",
       "pp_root                                                      standard\n",
       "field_size                                                        128\n",
       "pp_type                                                             0\n",
       "pp_idx                                                           2495\n",
       "U0                                                          -0.942505\n",
       "U1                                                           4.873412\n",
       "zonal_slope                                                 -1.149911\n",
       "merid_slope                                                 -1.047525\n",
       "zonal_slope_err                                              0.101599\n",
       "merid_slope_err                                              0.114313\n",
       "ulmo_pp_type                                                        0\n",
       "DT40                                                         0.513875\n",
       "ulmo_pp_idx                                                      2495\n",
       "ulmo_pp_file        s3://modis-l2/PreProc/MODIS_R2019_2006_95clear...\n",
       "US0                                                          0.999072\n",
       "US1                                                         -1.803119\n",
       "Name: 1333261, dtype: object"
      ]
     },
     "execution_count": 33,
     "metadata": {},
     "output_type": "execute_result"
    }
   ],
   "source": [
    "large_cutout = modis_tbl.iloc[i_large]\n",
    "large_cutout"
   ]
  },
  {
   "cell_type": "markdown",
   "id": "f126ca81",
   "metadata": {},
   "source": [
    "## Show it"
   ]
  },
  {
   "cell_type": "code",
   "execution_count": 34,
   "id": "58e7eb2d",
   "metadata": {},
   "outputs": [],
   "source": [
    "large_img = image_utils.grab_image(large_cutout)"
   ]
  },
  {
   "cell_type": "code",
   "execution_count": 35,
   "id": "1336f457",
   "metadata": {},
   "outputs": [
    {
     "data": {
      "text/plain": [
       "<AxesSubplot: >"
      ]
     },
     "execution_count": 35,
     "metadata": {},
     "output_type": "execute_result"
    },
    {
     "data": {
      "image/png": "[encoded data removed]",
      "text/plain": [
       "<Figure size 640x480 with 2 Axes>"
      ]
     },
     "metadata": {},
     "output_type": "display_data"
    }
   ],
   "source": [
    "reload(plotting)\n",
    "plotting.show_image(large_img)"
   ]
  },
  {
   "cell_type": "markdown",
   "id": "72a5bd1e",
   "metadata": {},
   "source": [
    "## Calculate alpha"
   ]
  },
  {
   "cell_type": "code",
   "execution_count": 36,
   "id": "25fff36e",
   "metadata": {},
   "outputs": [],
   "source": [
    "large_zonal_results, large_merid_results = fft.analyze_cutout(large_img)"
   ]
  },
  {
   "cell_type": "code",
   "execution_count": 37,
   "id": "ad2393bd",
   "metadata": {},
   "outputs": [
    {
     "data": {
      "text/plain": [
       "(-1.1499106946181936, -1.047525050068233)"
      ]
     },
     "execution_count": 37,
     "metadata": {},
     "output_type": "execute_result"
    }
   ],
   "source": [
    "large_zonal_results['slope_large'], large_merid_results['slope_large']"
   ]
  },
  {
   "cell_type": "markdown",
   "id": "e5762d3d",
   "metadata": {},
   "source": [
    "----"
   ]
  },
  {
   "cell_type": "markdown",
   "id": "88c1e0e4",
   "metadata": {},
   "source": [
    "# Now in the center of the UMAP"
   ]
  },
  {
   "cell_type": "code",
   "execution_count": 25,
   "id": "934ce743",
   "metadata": {},
   "outputs": [],
   "source": [
    "U0, U1 = 3, 2.\n",
    "\n",
    "i_center = np.argmin(np.abs((modis_tbl.US0-U0)**2 + (modis_tbl.US1-U1)**2))"
   ]
  },
  {
   "cell_type": "markdown",
   "id": "12e60abc",
   "metadata": {},
   "source": [
    "## Cutout and image"
   ]
  },
  {
   "cell_type": "code",
   "execution_count": 26,
   "id": "82ab0c2a",
   "metadata": {},
   "outputs": [],
   "source": [
    "center_cutout = modis_tbl.iloc[i_center]\n",
    "center_img = image_utils.grab_image(center_cutout)"
   ]
  },
  {
   "cell_type": "code",
   "execution_count": 31,
   "id": "69ae5f56",
   "metadata": {},
   "outputs": [
    {
     "data": {
      "text/plain": [
       "-2.1281297134870374"
      ]
     },
     "execution_count": 31,
     "metadata": {},
     "output_type": "execute_result"
    }
   ],
   "source": [
    "center_cutout.zonal_slope"
   ]
  },
  {
   "cell_type": "code",
   "execution_count": 27,
   "id": "461d832d",
   "metadata": {},
   "outputs": [
    {
     "data": {
      "text/plain": [
       "<AxesSubplot: >"
      ]
     },
     "execution_count": 27,
     "metadata": {},
     "output_type": "execute_result"
    },
    {
     "data": {
      "image/png": "[encoded data removed]",
      "text/plain": [
       "<Figure size 640x480 with 2 Axes>"
      ]
     },
     "metadata": {},
     "output_type": "display_data"
    }
   ],
   "source": [
    "plotting.show_image(center_img)"
   ]
  },
  {
   "cell_type": "markdown",
   "id": "965b26df",
   "metadata": {},
   "source": [
    "## Alpha"
   ]
  },
  {
   "cell_type": "code",
   "execution_count": 28,
   "id": "c29b8fa8",
   "metadata": {},
   "outputs": [],
   "source": [
    "center_zonal_results, center_merid_results = fft.analyze_cutout(center_img)"
   ]
  },
  {
   "cell_type": "code",
   "execution_count": 29,
   "id": "5d40cbc1",
   "metadata": {},
   "outputs": [
    {
     "data": {
      "text/plain": [
       "(-2.1281298143297187, -1.6556604469543565)"
      ]
     },
     "execution_count": 29,
     "metadata": {},
     "output_type": "execute_result"
    }
   ],
   "source": [
    "center_zonal_results['slope_large'], center_merid_results['slope_large']"
   ]
  },
  {
   "cell_type": "code",
   "execution_count": null,
   "id": "5963fad0",
   "metadata": {},
   "outputs": [],
   "source": []
  }
 ],
 "metadata": {
  "kernelspec": {
   "display_name": "Python 3 (ipykernel)",
   "language": "python",
   "name": "python3"
  },
  "language_info": {
   "codemirror_mode": {
    "name": "ipython",
    "version": 3
   },
   "file_extension": ".py",
   "mimetype": "text/x-python",
   "name": "python",
   "nbconvert_exporter": "python",
   "pygments_lexer": "ipython3",
   "version": "3.9.15"
  }
 },
 "nbformat": 4,
 "nbformat_minor": 5
}
