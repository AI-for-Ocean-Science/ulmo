{
 "cells": [
  {
   "cell_type": "code",
   "execution_count": null,
   "id": "4192bdd9-5292-46f1-92cb-0e9ba79c2696",
   "metadata": {},
   "outputs": [],
   "source": [
    "import sys\n",
    "import xarray as xr\n",
    "import numpy as np\n",
    "import h5py"
   ]
  },
  {
   "cell_type": "markdown",
   "id": "b7760fc2-8689-4480-9dbf-19600a2497cc",
   "metadata": {},
   "source": [
    "## dineof rmse"
   ]
  },
  {
   "cell_type": "code",
   "execution_count": null,
   "id": "0a009551-6dbc-470c-ab65-4ed7eb8f446f",
   "metadata": {},
   "outputs": [],
   "source": [
    "# rmse\n",
    "def rmse_DINEOF(p):\n",
    "    # open files\n",
    "    ds_orig = xr.open_dataset('Enki_LLC_orig.nc')\n",
    "    ds_recon = xr.open_dataset('Enki_LLC_DINEOF_p{}.nc'.format(p))\n",
    "    mask_file = 'mae_mask_t75_p10.h5'\n",
    "    f_ma = h5py.File(mask_file, 'r')\n",
    "    \n",
    "    # extract data\n",
    "    orig_imgs = np.asarray(ds_orig.variables['SST'])\n",
    "    recon_imgs = np.asarray(ds_recon.variables['sst_filled'])\n",
    "    mask_imgs = []\n",
    "    for i in range(180):\n",
    "        mask_imgs.append(f_ma['valid'][i,0,...])\n",
    "        \n",
    "    print('calculate')\n",
    "    calc = (recon_imgs - orig_imgs)*mask_imgs\n",
    "    calc = calc**2\n",
    "    nmask = np.sum(mask_imgs, axis=(1,2))\n",
    "    calc = np.sum(calc, axis=(1,2)) / nmask\n",
    "    rmse = np.sqrt(calc)\n",
    "    \n",
    "    return rmse\n"
   ]
  },
  {
   "cell_type": "code",
   "execution_count": null,
   "id": "86b2db12-c840-48b2-b05a-98fe68059034",
   "metadata": {},
   "outputs": [],
   "source": [
    "# do \n",
    "mask_p = [10,20,30,40,50]\n",
    "for p in mask_p:\n",
    "    rmse = rmse_DINEOF(p)"
   ]
  },
  {
   "cell_type": "markdown",
   "id": "359fc6ce-ad62-45b1-95ec-7184d66798bf",
   "metadata": {},
   "source": [
    "## creating the cloudy dineof files"
   ]
  },
  {
   "cell_type": "code",
   "execution_count": null,
   "id": "8fe84b0c-ba3f-42e3-8ebf-aeab35a935d9",
   "metadata": {},
   "outputs": [],
   "source": [
    "ds_orig = xr.open_dataset(\"Enki_LLC_orig.nc\")\n",
    "for p in mask_p:\n",
    "    # filenames\n",
    "    mask_file = 'mae_mask_t75_p{}.h5'.format(p)\n",
    "    output_file = 'Enki_LLC_p{}.nc'.format(p)\n",
    "    \n",
    "    # create copy xarray\n",
    "    ds = ds_orig.copy(deep=True)\n",
    "    \n",
    "    # grab mask\n",
    "    mask_img = []\n",
    "    f_ma = h5py.File(mask_file, 'r')\n",
    "    for i in range(180):\n",
    "        mask_img.append(f_ma['valid'][i,0,...])\n",
    "        \n",
    "    # replace clouds with missing value = -9999\n",
    "    mask_img = np.asarray(mask_img)\n",
    "    rmask_img = (1 - mask_img)\n",
    "    fillm = mask_img*(-9999)\n",
    "    ds.SST.values = ds_orig.SST.values*rmask_img + fillm\n",
    "    \n",
    "    # create new .nc file\n",
    "    ds.to_netcdf(path=output_file, encoding={'SST': {'_FillValue': -9999}})"
   ]
  }
 ],
 "metadata": {
  "kernelspec": {
   "display_name": "Python 3 (ipykernel)",
   "language": "python",
   "name": "python3"
  },
  "language_info": {
   "codemirror_mode": {
    "name": "ipython",
    "version": 3
   },
   "file_extension": ".py",
   "mimetype": "text/x-python",
   "name": "python",
   "nbconvert_exporter": "python",
   "pygments_lexer": "ipython3",
   "version": "3.10.10"
  }
 },
 "nbformat": 4,
 "nbformat_minor": 5
}
