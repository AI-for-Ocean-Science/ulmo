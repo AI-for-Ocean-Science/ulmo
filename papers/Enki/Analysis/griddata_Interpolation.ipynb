{
 "cells": [
  {
   "cell_type": "markdown",
   "id": "0e993a87-8406-49f1-a458-1070bec4b7b2",
   "metadata": {},
   "source": [
    "# Inpainting with Interpolation"
   ]
  },
  {
   "cell_type": "code",
   "execution_count": 45,
   "id": "4d1e5aca-6590-4d61-a702-23c939d4a01b",
   "metadata": {
    "tags": []
   },
   "outputs": [],
   "source": [
    "# imports\n",
    "import os\n",
    "import numpy as np \n",
    "\n",
    "from scipy.interpolate import RegularGridInterpolator\n",
    "from scipy.interpolate import griddata\n",
    "import h5py\n",
    "\n",
    "from ulmo import io as ulmo_io\n",
    "from ulmo.mae import enki_utils\n",
    "from ulmo.plotting import plotting\n",
    "from ulmo.mae import patch_analysis\n",
    "from ulmo.mae import cutout_analysis"
   ]
  },
  {
   "cell_type": "code",
   "execution_count": 16,
   "id": "3074c120-3c72-4e6a-a67a-0922a91f924d",
   "metadata": {
    "tags": []
   },
   "outputs": [],
   "source": [
    "sst_path = os.getenv('OS_SST')\n",
    "ogcm_path = os.getenv('OS_OGCM')\n",
    "enki_path = os.path.join(os.getenv('OS_OGCM'), 'LLC', 'Enki')"
   ]
  },
  {
   "cell_type": "markdown",
   "id": "328af298-1d55-47e3-9f02-5764260367e5",
   "metadata": {},
   "source": [
    "# Load a cutout"
   ]
  },
  {
   "cell_type": "code",
   "execution_count": 19,
   "id": "b5f70cfb-061c-499f-9133-45e767965432",
   "metadata": {
    "tags": []
   },
   "outputs": [],
   "source": [
    "valid_tbl_file = os.path.join(enki_path, 'Tables',\n",
    "                              'Enki_LLC_valid_nonoise.parquet')\n",
    "valid_img_file = os.path.join(enki_path, 'PreProc',\n",
    "                              'Enki_LLC_valid_nonoise_preproc.h5')"
   ]
  },
  {
   "cell_type": "code",
   "execution_count": 20,
   "id": "bc02f169-39d8-4a4f-99fa-bb91d0ff587c",
   "metadata": {
    "tags": []
   },
   "outputs": [
    {
     "name": "stdout",
     "output_type": "stream",
     "text": [
      "Read main table: /home/xavier/Projects/Oceanography/OGCM/LLC/Enki/Tables/Enki_LLC_valid_nonoise.parquet\n"
     ]
    }
   ],
   "source": [
    "# Load\n",
    "t,p = 10,10\n",
    "tbl = ulmo_io.load_main_table(valid_tbl_file)\n",
    "#bias = enki_utils.load_bias((t,p))\n",
    "bias = 0.\n",
    "\n",
    "# Pick one\n",
    "LL = 0.\n",
    "imin = np.argmin(np.abs(tbl.LL - LL))\n",
    "cutout = tbl.iloc[imin]\n",
    "\n",
    "# Load the images\n",
    "recon_file = enki_utils.img_filename(t,p, local=True)\n",
    "mask_file = enki_utils.mask_filename(t,p, local=True)\n",
    "\n",
    "f_orig = h5py.File(valid_img_file, 'r')\n",
    "f_recon = h5py.File(recon_file, 'r')\n",
    "f_mask = h5py.File(mask_file, 'r')\n",
    "\n",
    "orig_img = f_orig['valid'][cutout.pp_idx, 0, :, :]\n",
    "recon_img = f_recon['valid'][cutout.pp_idx, 0, :, :]\n",
    "mask_img = f_mask['valid'][cutout.pp_idx, 0, :, :]"
   ]
  },
  {
   "cell_type": "markdown",
   "id": "26ede417-081b-412f-b2e6-0a746844dc0c",
   "metadata": {},
   "source": [
    "## Show it"
   ]
  },
  {
   "cell_type": "code",
   "execution_count": 22,
   "id": "461017ba-83ae-499d-8ac5-0a63c9fbe5fb",
   "metadata": {
    "tags": []
   },
   "outputs": [
    {
     "data": {
      "text/plain": [
       "<Axes: >"
      ]
     },
     "execution_count": 22,
     "metadata": {},
     "output_type": "execute_result"
    },
    {
     "data": {
      "image/png": "[encoded data removed]",
      "text/plain": [
       "<Figure size 640x480 with 2 Axes>"
      ]
     },
     "metadata": {},
     "output_type": "display_data"
    }
   ],
   "source": [
    "plotting.show_image(orig_img)"
   ]
  },
  {
   "cell_type": "markdown",
   "id": "61a885cc-861f-4707-b90f-224a9373fc22",
   "metadata": {},
   "source": [
    "## Find the patches"
   ]
  },
  {
   "cell_type": "code",
   "execution_count": 27,
   "id": "123a49ee-392d-4974-89d2-f4252aff190a",
   "metadata": {
    "tags": []
   },
   "outputs": [
    {
     "data": {
      "text/plain": [
       "[(0, 4), (0, 12)]"
      ]
     },
     "execution_count": 27,
     "metadata": {},
     "output_type": "execute_result"
    }
   ],
   "source": [
    "p_sz = 4\n",
    "patches = patch_analysis.find_patches(mask_img, p_sz)\n",
    "#patches[0:3]\n",
    "# Unravel\n",
    "ij_patches = []\n",
    "for patch in patches:\n",
    "    i, j = np.unravel_index(patch, mask_img.shape)\n",
    "    ij_patches.append((i,j))\n",
    "ij_patches[0:2]"
   ]
  },
  {
   "cell_type": "markdown",
   "id": "de2025e9-3b13-4cc9-afbd-a805cebd6ba9",
   "metadata": {},
   "source": [
    "# Generate the points"
   ]
  },
  {
   "cell_type": "markdown",
   "id": "89a3c446-8e2e-47b5-abe3-ddc126428021",
   "metadata": {},
   "source": [
    "## Unmasked"
   ]
  },
  {
   "cell_type": "code",
   "execution_count": 32,
   "id": "20a3f26c-2abd-4321-98b6-e171d47e86d4",
   "metadata": {
    "tags": []
   },
   "outputs": [],
   "source": [
    "unmasked = np.where(mask_img == 0)\n",
    "x_pts = unmasked[0]\n",
    "y_pts = unmasked[1]\n",
    "vals = orig_img[unmasked]"
   ]
  },
  {
   "cell_type": "markdown",
   "id": "934d6cca-616d-4f81-9d08-87481c036d38",
   "metadata": {},
   "source": [
    "## All"
   ]
  },
  {
   "cell_type": "code",
   "execution_count": 69,
   "id": "88d8b6ce-d8fa-4654-9576-92d094252caf",
   "metadata": {
    "tags": []
   },
   "outputs": [],
   "source": [
    "#all_x, all_y = np.mgrid[0:63:64j, 0:63:64j]\n",
    "all_x, all_y = np.meshgrid(np.arange(64), np.arange(64), indexing='ij')"
   ]
  },
  {
   "cell_type": "code",
   "execution_count": 70,
   "id": "bb7e0296-fafb-4fc8-a625-66b60728f734",
   "metadata": {
    "tags": []
   },
   "outputs": [
    {
     "data": {
      "text/plain": [
       "array([[ 0,  0,  0, ...,  0,  0,  0],\n",
       "       [ 1,  1,  1, ...,  1,  1,  1],\n",
       "       [ 2,  2,  2, ...,  2,  2,  2],\n",
       "       ...,\n",
       "       [61, 61, 61, ..., 61, 61, 61],\n",
       "       [62, 62, 62, ..., 62, 62, 62],\n",
       "       [63, 63, 63, ..., 63, 63, 63]])"
      ]
     },
     "execution_count": 70,
     "metadata": {},
     "output_type": "execute_result"
    }
   ],
   "source": [
    "all_x"
   ]
  },
  {
   "cell_type": "markdown",
   "id": "d0b9eed0-80ec-48ee-a72e-0c9557b7dbdc",
   "metadata": {},
   "source": [
    "# griddata"
   ]
  },
  {
   "cell_type": "markdown",
   "id": "fd9bf457-f362-482a-b555-c07880191e7d",
   "metadata": {},
   "source": [
    "## Nearest"
   ]
  },
  {
   "cell_type": "code",
   "execution_count": 71,
   "id": "06c20b0b-05b6-460c-8f60-8e8e17d96b8a",
   "metadata": {
    "tags": []
   },
   "outputs": [],
   "source": [
    "recon_nearest = griddata((x_pts, y_pts), vals, (all_x, all_y), method='nearest')"
   ]
  },
  {
   "cell_type": "code",
   "execution_count": 72,
   "id": "d68264fe-7a58-4780-b260-f782c61e5a55",
   "metadata": {
    "tags": []
   },
   "outputs": [
    {
     "data": {
      "text/plain": [
       "<Axes: >"
      ]
     },
     "execution_count": 72,
     "metadata": {},
     "output_type": "execute_result"
    },
    {
     "data": {
      "image/png": "[encoded data removed]",
      "text/plain": [
       "<Figure size 640x480 with 2 Axes>"
      ]
     },
     "metadata": {},
     "output_type": "display_data"
    }
   ],
   "source": [
    "plotting.show_image(recon_nearest-orig_img, vmnx=(-1.,1.), cm='bwr')"
   ]
  },
  {
   "cell_type": "code",
   "execution_count": 73,
   "id": "c6907276-c9fa-4e71-bdac-6b7cc707f4ee",
   "metadata": {
    "tags": []
   },
   "outputs": [
    {
     "data": {
      "text/plain": [
       "0.17028040189965687"
      ]
     },
     "execution_count": 73,
     "metadata": {},
     "output_type": "execute_result"
    }
   ],
   "source": [
    "rmse_nearest = cutout_analysis.rms_single_img(orig_img, recon_nearest, mask_img)\n",
    "rmse_nearest"
   ]
  },
  {
   "cell_type": "markdown",
   "id": "4317b05f-ea6b-4317-8a5e-47492e603ab1",
   "metadata": {},
   "source": [
    "## Linear"
   ]
  },
  {
   "cell_type": "code",
   "execution_count": 48,
   "id": "41c6f229-cbcb-4209-af08-e702df927817",
   "metadata": {
    "tags": []
   },
   "outputs": [],
   "source": [
    "recon_linear = griddata((x_pts, y_pts), vals, (all_x, all_y), method='linear')"
   ]
  },
  {
   "cell_type": "code",
   "execution_count": 49,
   "id": "c5229bff-3830-4b12-9c14-409a946c0642",
   "metadata": {
    "tags": []
   },
   "outputs": [
    {
     "data": {
      "text/plain": [
       "<Axes: >"
      ]
     },
     "execution_count": 49,
     "metadata": {},
     "output_type": "execute_result"
    },
    {
     "data": {
      "image/png": "[encoded data removed]",
      "text/plain": [
       "<Figure size 640x480 with 2 Axes>"
      ]
     },
     "metadata": {},
     "output_type": "display_data"
    }
   ],
   "source": [
    "plotting.show_image(recon_linear-orig_img, vmnx=(-1.,1.), cm='bwr')"
   ]
  },
  {
   "cell_type": "code",
   "execution_count": 50,
   "id": "d5c938e8-474b-473d-a9a7-62e5ba9323a7",
   "metadata": {
    "tags": []
   },
   "outputs": [
    {
     "data": {
      "text/plain": [
       "0.12193006302671183"
      ]
     },
     "execution_count": 50,
     "metadata": {},
     "output_type": "execute_result"
    }
   ],
   "source": [
    "rmse_linear = cutout_analysis.rms_single_img(orig_img, recon_linear, mask_img)\n",
    "rmse_linear"
   ]
  },
  {
   "cell_type": "markdown",
   "id": "5d553bda-185e-485a-bb34-418192331d8f",
   "metadata": {},
   "source": [
    "## Cubic"
   ]
  },
  {
   "cell_type": "code",
   "execution_count": 51,
   "id": "dba8ea05-8b3d-44e6-845f-b4740327d8bb",
   "metadata": {
    "tags": []
   },
   "outputs": [],
   "source": [
    "recon_cubic = griddata((x_pts, y_pts), vals, (all_x, all_y), method='cubic')"
   ]
  },
  {
   "cell_type": "code",
   "execution_count": 52,
   "id": "915ce89b-2af1-4bdd-be7d-29c6de0a3efa",
   "metadata": {
    "tags": []
   },
   "outputs": [
    {
     "data": {
      "text/plain": [
       "<Axes: >"
      ]
     },
     "execution_count": 52,
     "metadata": {},
     "output_type": "execute_result"
    },
    {
     "data": {
      "image/png": "[encoded data removed]",
      "text/plain": [
       "<Figure size 640x480 with 2 Axes>"
      ]
     },
     "metadata": {},
     "output_type": "display_data"
    }
   ],
   "source": [
    "plotting.show_image(recon_cubic-orig_img, vmnx=(-1.,1.), cm='bwr')"
   ]
  },
  {
   "cell_type": "code",
   "execution_count": 53,
   "id": "a8faddd1-44be-4363-966f-afa389d8fc90",
   "metadata": {
    "tags": []
   },
   "outputs": [
    {
     "data": {
      "text/plain": [
       "0.12086639578999377"
      ]
     },
     "execution_count": 53,
     "metadata": {},
     "output_type": "execute_result"
    }
   ],
   "source": [
    "rmse_cubic = cutout_analysis.rms_single_img(orig_img, recon_cubic, mask_img)\n",
    "rmse_cubic"
   ]
  },
  {
   "cell_type": "markdown",
   "id": "7fb1c2fa-51d8-494d-a412-a020f83fded1",
   "metadata": {},
   "source": [
    "----"
   ]
  },
  {
   "cell_type": "markdown",
   "id": "788fdf4e-8036-4dfe-a214-0692203e737d",
   "metadata": {},
   "source": [
    "# Debuggin"
   ]
  },
  {
   "cell_type": "code",
   "execution_count": 74,
   "id": "e8bd5922-40b2-45e5-81c8-746dad008863",
   "metadata": {
    "tags": []
   },
   "outputs": [],
   "source": [
    "import h5py"
   ]
  },
  {
   "cell_type": "markdown",
   "id": "6477e1e7-c173-44d4-95e5-58536994d9cb",
   "metadata": {},
   "source": [
    "## Load"
   ]
  },
  {
   "cell_type": "code",
   "execution_count": 75,
   "id": "ba7c43c2-cb7d-4477-a910-30d4ba363d90",
   "metadata": {
    "tags": []
   },
   "outputs": [],
   "source": [
    "biharm = os.path.join(enki_path, 'Recon', 'Enki_LLC2_nonoise_biharmonic_t10_p10.h5')\n",
    "f_biharm = h5py.File(biharm, 'r')"
   ]
  },
  {
   "cell_type": "code",
   "execution_count": 76,
   "id": "e4f1f2e3-bd11-472e-8651-ea1d0b1cec2c",
   "metadata": {
    "tags": []
   },
   "outputs": [],
   "source": [
    "nearest = os.path.join(enki_path, 'Recon', 'Enki_LLC2_nonoise_grid_nearest_t10_p10.h5')\n",
    "f_nearest = h5py.File(nearest, 'r')"
   ]
  },
  {
   "cell_type": "code",
   "execution_count": 86,
   "id": "939173aa-93aa-482d-a456-0ac3be08d8a9",
   "metadata": {
    "tags": []
   },
   "outputs": [],
   "source": [
    "idx = 2000\n",
    "b0 = f_biharm['inpainted'][idx,...]\n",
    "n0 = f_nearest['inpainted'][idx,...]"
   ]
  },
  {
   "cell_type": "code",
   "execution_count": 87,
   "id": "5dbd5430-4885-48bb-a769-c7bf5d865b77",
   "metadata": {
    "tags": []
   },
   "outputs": [
    {
     "data": {
      "text/plain": [
       "<Axes: >"
      ]
     },
     "execution_count": 87,
     "metadata": {},
     "output_type": "execute_result"
    },
    {
     "data": {
      "image/png": "[encoded data removed]",
      "text/plain": [
       "<Figure size 640x480 with 2 Axes>"
      ]
     },
     "metadata": {},
     "output_type": "display_data"
    }
   ],
   "source": [
    "plotting.show_image(b0)"
   ]
  },
  {
   "cell_type": "code",
   "execution_count": 88,
   "id": "f4cc5f97-5dba-4e61-b825-4be78bceb1c6",
   "metadata": {
    "tags": []
   },
   "outputs": [
    {
     "data": {
      "text/plain": [
       "array([[0., 0., 0., ..., 0., 0., 0.],\n",
       "       [0., 0., 0., ..., 0., 0., 0.],\n",
       "       [0., 0., 0., ..., 0., 0., 0.],\n",
       "       ...,\n",
       "       [0., 0., 0., ..., 0., 0., 0.],\n",
       "       [0., 0., 0., ..., 0., 0., 0.],\n",
       "       [0., 0., 0., ..., 0., 0., 0.]], dtype=float32)"
      ]
     },
     "execution_count": 88,
     "metadata": {},
     "output_type": "execute_result"
    }
   ],
   "source": [
    "n0"
   ]
  },
  {
   "cell_type": "code",
   "execution_count": 85,
   "id": "de1c9fbc-5bf1-41a5-9539-86f5504bc0d6",
   "metadata": {
    "tags": []
   },
   "outputs": [
    {
     "data": {
      "text/plain": [
       "(655770, 64, 64)"
      ]
     },
     "execution_count": 85,
     "metadata": {},
     "output_type": "execute_result"
    }
   ],
   "source": [
    "f_biharm['inpainted'].shape"
   ]
  },
  {
   "cell_type": "code",
   "execution_count": null,
   "id": "c768c874-03c0-44b4-85b7-86f1556eeb08",
   "metadata": {},
   "outputs": [],
   "source": []
  }
 ],
 "metadata": {
  "kernelspec": {
   "display_name": "Python 3 (ipykernel)",
   "language": "python",
   "name": "python3"
  },
  "language_info": {
   "codemirror_mode": {
    "name": "ipython",
    "version": 3
   },
   "file_extension": ".py",
   "mimetype": "text/x-python",
   "name": "python",
   "nbconvert_exporter": "python",
   "pygments_lexer": "ipython3",
   "version": "3.10.9"
  }
 },
 "nbformat": 4,
 "nbformat_minor": 5
}
