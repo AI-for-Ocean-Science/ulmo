{
 "cells": [
  {
   "cell_type": "markdown",
   "id": "e0bfab35-a62c-472a-990c-2b1a354fa169",
   "metadata": {},
   "source": [
    "# Patchify a VIIRS mask"
   ]
  },
  {
   "cell_type": "code",
   "execution_count": 99,
   "id": "7d71e154-e1ff-4f6d-bef7-f51ccfd2bd57",
   "metadata": {},
   "outputs": [],
   "source": [
    "# imports\n",
    "from importlib import reload\n",
    "import h5py\n",
    "import numpy as np\n",
    "from skimage.transform import downscale_local_mean, resize_local_mean\n",
    "\n",
    "import os\n",
    "\n",
    "from matplotlib import pyplot as plt\n",
    "\n",
    "from ulmo.plotting import plotting\n",
    "from ulmo.enki import patch_analysis"
   ]
  },
  {
   "cell_type": "markdown",
   "id": "ac01f6d8-d027-4f9b-8343-7b6242acabf3",
   "metadata": {},
   "source": [
    "# Load a VIIRS file "
   ]
  },
  {
   "cell_type": "code",
   "execution_count": 117,
   "id": "4d3ad259-1b86-4ed7-89c2-e479034972a4",
   "metadata": {},
   "outputs": [],
   "source": [
    "viirs_file = os.path.join(os.getenv('OS_SST'), 'VIIRS',\n",
    "                          'Extractions', 'VIIRS_2013_85clear_192x192_inpaint.h5')"
   ]
  },
  {
   "cell_type": "code",
   "execution_count": 118,
   "id": "34cca93a-9820-4aad-857a-bdcfc4149614",
   "metadata": {},
   "outputs": [
    {
     "data": {
      "text/plain": [
       "<KeysViewHDF5 ['fields', 'inpainted_masks', 'metadata']>"
      ]
     },
     "execution_count": 118,
     "metadata": {},
     "output_type": "execute_result"
    }
   ],
   "source": [
    "f = h5py.File(viirs_file, 'r')\n",
    "f.keys()"
   ]
  },
  {
   "cell_type": "markdown",
   "id": "2e246b32-3d70-4220-86b2-bd09ca810475",
   "metadata": {},
   "source": [
    "## Check a mask"
   ]
  },
  {
   "cell_type": "code",
   "execution_count": 8,
   "id": "444aee6c-263c-46b1-ad43-7f3363e60731",
   "metadata": {},
   "outputs": [
    {
     "data": {
      "text/plain": [
       "array([[3.4777832, 3.477963 , 3.4783235, ...,       nan,       nan,\n",
       "              nan],\n",
       "       [3.4783752, 3.4785554, 3.4789166, ...,       nan,       nan,\n",
       "              nan],\n",
       "       [3.4795585, 3.47974  , 3.480102 , ...,       nan,       nan,\n",
       "              nan],\n",
       "       ...,\n",
       "       [      nan,       nan,       nan, ...,       nan,       nan,\n",
       "              nan],\n",
       "       [      nan,       nan,       nan, ...,       nan,       nan,\n",
       "              nan],\n",
       "       [      nan,       nan,       nan, ...,       nan,       nan,\n",
       "              nan]], dtype=float32)"
      ]
     },
     "execution_count": 8,
     "metadata": {},
     "output_type": "execute_result"
    }
   ],
   "source": [
    "f['inpainted_masks'][0]"
   ]
  },
  {
   "cell_type": "code",
   "execution_count": 13,
   "id": "f2c9d120-7246-48f0-9328-b69901bd3d27",
   "metadata": {},
   "outputs": [
    {
     "data": {
      "text/plain": [
       "0.13685438368055555"
      ]
     },
     "execution_count": 13,
     "metadata": {},
     "output_type": "execute_result"
    }
   ],
   "source": [
    "mask = np.isfinite(f['inpainted_masks'][0])\n",
    "np.sum(mask)/(192**2)"
   ]
  },
  {
   "cell_type": "code",
   "execution_count": 14,
   "id": "fdd5baff-899d-4899-adc7-5014d2bb4847",
   "metadata": {},
   "outputs": [
    {
     "data": {
      "text/plain": [
       "(192, 192)"
      ]
     },
     "execution_count": 14,
     "metadata": {},
     "output_type": "execute_result"
    }
   ],
   "source": [
    "mask.shape"
   ]
  },
  {
   "cell_type": "markdown",
   "id": "23a76ae2-a336-407b-9ac8-8018666fd84d",
   "metadata": {},
   "source": [
    "# Rebin"
   ]
  },
  {
   "cell_type": "code",
   "execution_count": 23,
   "id": "19845f99-db9f-4449-960d-bca359232648",
   "metadata": {},
   "outputs": [
    {
     "data": {
      "text/plain": [
       "(64, 64)"
      ]
     },
     "execution_count": 23,
     "metadata": {},
     "output_type": "execute_result"
    }
   ],
   "source": [
    "r_mask = downscale_local_mean(mask, (3, 3)) > 0\n",
    "r_mask = r_mask.astype(int)\n",
    "r_mask.shape"
   ]
  },
  {
   "cell_type": "code",
   "execution_count": 24,
   "id": "98af1320-a138-4b92-8965-80963a415359",
   "metadata": {},
   "outputs": [
    {
     "data": {
      "text/plain": [
       "array([[1, 1, 1, ..., 0, 0, 0],\n",
       "       [1, 1, 1, ..., 0, 0, 0],\n",
       "       [1, 1, 1, ..., 0, 0, 0],\n",
       "       ...,\n",
       "       [0, 0, 0, ..., 0, 0, 0],\n",
       "       [0, 0, 0, ..., 0, 0, 0],\n",
       "       [0, 0, 0, ..., 0, 0, 0]])"
      ]
     },
     "execution_count": 24,
     "metadata": {},
     "output_type": "execute_result"
    }
   ],
   "source": [
    "r_mask"
   ]
  },
  {
   "cell_type": "markdown",
   "id": "b6693b50-a6bf-4ed9-9b9e-5f363c7a1228",
   "metadata": {},
   "source": [
    "# Patchify"
   ]
  },
  {
   "cell_type": "code",
   "execution_count": 25,
   "id": "25de640b-59ae-4933-8c9c-ac835e3566ae",
   "metadata": {},
   "outputs": [],
   "source": [
    "p_sz = 4"
   ]
  },
  {
   "cell_type": "code",
   "execution_count": 35,
   "id": "86382b29-6a12-472b-a327-41ae12d5cad3",
   "metadata": {},
   "outputs": [
    {
     "data": {
      "text/plain": [
       "(16, 16)"
      ]
     },
     "execution_count": 35,
     "metadata": {},
     "output_type": "execute_result"
    }
   ],
   "source": [
    "patches = np.zeros((64//p_sz, 64//p_sz), dtype=int)\n",
    "patches.shape"
   ]
  },
  {
   "cell_type": "markdown",
   "id": "5d9fc6c1-320b-4d4c-a983-7d2809927182",
   "metadata": {},
   "source": [
    "## Indices"
   ]
  },
  {
   "cell_type": "code",
   "execution_count": 36,
   "id": "a533621e-129f-48a3-899a-7c43a37ef0ec",
   "metadata": {},
   "outputs": [],
   "source": [
    "mask_idx = np.where(r_mask)\n",
    "#mask_idx"
   ]
  },
  {
   "cell_type": "markdown",
   "id": "4e896ffd-8de7-4683-b8e4-b630b0e76c8a",
   "metadata": {},
   "source": [
    "## Turn em on"
   ]
  },
  {
   "cell_type": "code",
   "execution_count": 37,
   "id": "83f75167-72be-49d7-80d9-ca4f4a4bcf04",
   "metadata": {},
   "outputs": [],
   "source": [
    "p_idx = (mask_idx[0]//p_sz, mask_idx[1]//p_sz)\n",
    "patches[p_idx] = 1"
   ]
  },
  {
   "cell_type": "code",
   "execution_count": 38,
   "id": "0c9ba308-3ebf-4df1-8ff5-1d6a85b04d88",
   "metadata": {},
   "outputs": [
    {
     "data": {
      "text/plain": [
       "array([[1, 1, 1, 1, 1, 1, 1, 1, 1, 1, 0, 0, 0, 1, 0, 0],\n",
       "       [1, 1, 1, 1, 1, 1, 1, 1, 0, 0, 0, 0, 1, 1, 0, 0],\n",
       "       [1, 1, 1, 1, 1, 1, 1, 1, 0, 0, 0, 0, 0, 0, 0, 0],\n",
       "       [1, 1, 1, 1, 1, 1, 0, 0, 0, 0, 0, 0, 0, 0, 0, 0],\n",
       "       [1, 1, 1, 1, 1, 1, 0, 0, 0, 0, 0, 0, 0, 0, 0, 0],\n",
       "       [1, 1, 1, 1, 0, 0, 0, 0, 0, 0, 0, 0, 0, 0, 0, 0],\n",
       "       [1, 1, 1, 1, 0, 0, 0, 0, 0, 0, 0, 0, 0, 0, 0, 0],\n",
       "       [0, 1, 1, 0, 0, 0, 0, 0, 0, 0, 0, 0, 0, 0, 0, 0],\n",
       "       [0, 1, 0, 0, 0, 0, 0, 0, 0, 0, 0, 0, 0, 0, 0, 0],\n",
       "       [0, 0, 0, 0, 0, 0, 0, 0, 0, 0, 0, 0, 0, 0, 0, 0],\n",
       "       [0, 0, 0, 0, 0, 0, 0, 0, 0, 0, 0, 0, 0, 0, 0, 0],\n",
       "       [0, 0, 0, 0, 0, 0, 0, 0, 0, 0, 0, 0, 0, 0, 0, 0],\n",
       "       [0, 0, 0, 0, 0, 0, 0, 0, 0, 0, 0, 0, 0, 0, 0, 0],\n",
       "       [1, 0, 0, 0, 0, 0, 0, 0, 1, 0, 0, 0, 0, 0, 0, 0],\n",
       "       [1, 0, 0, 0, 0, 0, 0, 1, 1, 0, 0, 0, 0, 0, 0, 0],\n",
       "       [0, 0, 0, 0, 0, 0, 0, 0, 1, 1, 1, 1, 1, 1, 0, 0]])"
      ]
     },
     "execution_count": 38,
     "metadata": {},
     "output_type": "execute_result"
    }
   ],
   "source": [
    "patches"
   ]
  },
  {
   "cell_type": "markdown",
   "id": "bef55e71-5ad2-4615-b43a-21cacd7a76b9",
   "metadata": {},
   "source": [
    "## Now in 64x64"
   ]
  },
  {
   "cell_type": "code",
   "execution_count": 47,
   "id": "bc790a78-6201-41a8-90bd-169e3e46fa11",
   "metadata": {},
   "outputs": [],
   "source": [
    "new_mask = np.zeros((64,64),dtype=int)"
   ]
  },
  {
   "cell_type": "code",
   "execution_count": 48,
   "id": "59e59218-a7d1-463c-9dfb-6c28fc85e4db",
   "metadata": {},
   "outputs": [],
   "source": [
    "all_pix = np.unravel_index(np.arange(new_mask.size), new_mask.shape)"
   ]
  },
  {
   "cell_type": "code",
   "execution_count": 62,
   "id": "9c4274c1-025b-4cfa-a645-da0fcd52c72e",
   "metadata": {},
   "outputs": [],
   "source": [
    "all_patches = (all_pix[0]//p_sz, all_pix[1]//p_sz)"
   ]
  },
  {
   "cell_type": "code",
   "execution_count": 65,
   "id": "d12b41d2-7193-4ad2-b382-3ff499e1ee66",
   "metadata": {},
   "outputs": [],
   "source": [
    "in_patch = patches[all_patches]"
   ]
  },
  {
   "cell_type": "code",
   "execution_count": 80,
   "id": "d6344ce4-5903-4e23-b741-2793de68e54b",
   "metadata": {},
   "outputs": [],
   "source": [
    "new_mask = in_patch.reshape((64,64)) "
   ]
  },
  {
   "cell_type": "markdown",
   "id": "7d9e74f1-b439-4dbd-aaea-ca262563f424",
   "metadata": {},
   "source": [
    "# Check"
   ]
  },
  {
   "cell_type": "code",
   "execution_count": 40,
   "id": "86286b69-076f-432f-b485-7f33c2dba6af",
   "metadata": {},
   "outputs": [
    {
     "data": {
      "text/plain": [
       "(192, 192)"
      ]
     },
     "execution_count": 40,
     "metadata": {},
     "output_type": "execute_result"
    }
   ],
   "source": [
    "orig = f['fields'][0,...]\n",
    "orig.shape"
   ]
  },
  {
   "cell_type": "code",
   "execution_count": 42,
   "id": "c75e5c54-a8d3-477c-9eb3-0688dac535e3",
   "metadata": {},
   "outputs": [
    {
     "data": {
      "text/plain": [
       "<Axes: >"
      ]
     },
     "execution_count": 42,
     "metadata": {},
     "output_type": "execute_result"
    },
    {
     "data": {
      "image/png": "[encoded data removed]",
      "text/plain": [
       "<Figure size 640x480 with 2 Axes>"
      ]
     },
     "metadata": {},
     "output_type": "display_data"
    }
   ],
   "source": [
    "plotting.show_image(orig)"
   ]
  },
  {
   "cell_type": "code",
   "execution_count": 44,
   "id": "0df85223-a891-4ff5-9c89-07702a463cb0",
   "metadata": {},
   "outputs": [],
   "source": [
    "rebin_orig = downscale_local_mean(orig, (3,3))"
   ]
  },
  {
   "cell_type": "code",
   "execution_count": 45,
   "id": "fccac98e-6b8f-47dc-9a2d-5cda33012ecb",
   "metadata": {},
   "outputs": [
    {
     "data": {
      "text/plain": [
       "<Axes: >"
      ]
     },
     "execution_count": 45,
     "metadata": {},
     "output_type": "execute_result"
    },
    {
     "data": {
      "image/png": "[encoded data removed]",
      "text/plain": [
       "<Figure size 640x480 with 2 Axes>"
      ]
     },
     "metadata": {},
     "output_type": "display_data"
    }
   ],
   "source": [
    "plotting.show_image(rebin_orig)"
   ]
  },
  {
   "cell_type": "code",
   "execution_count": 72,
   "id": "05b891aa-df80-4ba2-89c7-a3098d52779c",
   "metadata": {},
   "outputs": [
    {
     "data": {
      "text/plain": [
       "<Axes: >"
      ]
     },
     "execution_count": 72,
     "metadata": {},
     "output_type": "execute_result"
    },
    {
     "data": {
      "image/png": "[encoded data removed]",
      "text/plain": [
       "<Figure size 640x480 with 2 Axes>"
      ]
     },
     "metadata": {},
     "output_type": "display_data"
    }
   ],
   "source": [
    "plotting.show_image(new_mask)"
   ]
  },
  {
   "cell_type": "code",
   "execution_count": 81,
   "id": "ded54d12-6119-42a9-beb3-b5f65f74b596",
   "metadata": {},
   "outputs": [
    {
     "data": {
      "text/plain": [
       "<Axes: >"
      ]
     },
     "execution_count": 81,
     "metadata": {},
     "output_type": "execute_result"
    },
    {
     "data": {
      "image/png": "[encoded data removed]",
      "text/plain": [
       "<Figure size 640x480 with 2 Axes>"
      ]
     },
     "metadata": {},
     "output_type": "display_data"
    }
   ],
   "source": [
    "plotting.show_image(rebin_orig*(1-new_mask), vmnx=(-5,5))"
   ]
  },
  {
   "cell_type": "markdown",
   "id": "57a1a992-9c09-41eb-bf12-8c9f5e114efa",
   "metadata": {},
   "source": [
    "---- "
   ]
  },
  {
   "cell_type": "markdown",
   "id": "ca01f891-c549-4e07-bc45-c35045c7476c",
   "metadata": {},
   "source": [
    "# Now as a simple algorithm"
   ]
  },
  {
   "cell_type": "code",
   "execution_count": 132,
   "id": "71715645-6494-4c8b-978e-64aee9c6a55c",
   "metadata": {},
   "outputs": [],
   "source": [
    "idx = 2500\n",
    "mask = np.isfinite(f['inpainted_masks'][idx])\n",
    "orig = f['fields'][idx,...]"
   ]
  },
  {
   "cell_type": "markdown",
   "id": "db599e8a-6f07-40f9-bf27-862d715f0025",
   "metadata": {},
   "source": [
    "## Rebin"
   ]
  },
  {
   "cell_type": "code",
   "execution_count": 133,
   "id": "38f19150-81f0-4d33-a874-dbd2d47c385b",
   "metadata": {},
   "outputs": [],
   "source": [
    "#r_mask = downscale_local_mean(mask, (3, 3)) > 0\n",
    "#r_mask = r_mask.astype(int)\n",
    "r_orig = downscale_local_mean(orig, (3,3))"
   ]
  },
  {
   "cell_type": "code",
   "execution_count": 136,
   "id": "7219c4a7-58cf-4188-b2c3-b83bfb054a5f",
   "metadata": {},
   "outputs": [],
   "source": [
    "new_mask = patch_analysis.patchify_mask(mask, 4, rebin=(3,3))"
   ]
  },
  {
   "cell_type": "code",
   "execution_count": 144,
   "id": "3e358adb-9de3-4369-92ca-98d1367aa55c",
   "metadata": {},
   "outputs": [
    {
     "data": {
      "image/png": "[encoded data removed]",
      "text/plain": [
       "<Figure size 1200x400 with 3 Axes>"
      ]
     },
     "metadata": {},
     "output_type": "display_data"
    }
   ],
   "source": [
    "_f, ax = plt.subplots(1,3, figsize=(12,4))\n",
    "#\n",
    "plotting.show_image(r_orig, ax=ax[0], cbar=False)\n",
    "plotting.show_image(r_mask, ax=ax[1], cbar=False)#, cm='Greys')\n",
    "plotting.show_image(new_mask, ax=ax[2], cbar=False)#, cm='Greys')\n",
    "\n",
    "\n",
    "plt.show()"
   ]
  },
  {
   "cell_type": "code",
   "execution_count": 139,
   "id": "ba2681cf-0177-4073-90e8-8ec1093fa2d1",
   "metadata": {},
   "outputs": [
    {
     "data": {
      "text/plain": [
       "(0.07828776041666667, 0.28125)"
      ]
     },
     "execution_count": 139,
     "metadata": {},
     "output_type": "execute_result"
    }
   ],
   "source": [
    "np.sum(mask)/192**2, np.sum(new_mask)/64**2"
   ]
  },
  {
   "cell_type": "code",
   "execution_count": 128,
   "id": "874d075d-3fb7-4942-83bf-8eea06d7b9dc",
   "metadata": {},
   "outputs": [
    {
     "data": {
      "text/plain": [
       "<module 'ulmo.enki.patch_analysis' from '/home/xavier/Projects/Oceanography/python/ulmo/ulmo/enki/patch_analysis.py'>"
      ]
     },
     "execution_count": 128,
     "metadata": {},
     "output_type": "execute_result"
    }
   ],
   "source": [
    "reload(patch_analysis)"
   ]
  },
  {
   "cell_type": "code",
   "execution_count": 130,
   "id": "1d26e29c-9095-451d-8451-7285e7c61487",
   "metadata": {},
   "outputs": [],
   "source": [
    "new_mask2 = patch_analysis.patchify_mask(mask, 4, rebin=(3,3))"
   ]
  },
  {
   "cell_type": "code",
   "execution_count": 131,
   "id": "5f0b4164-8e21-4e22-93dd-0787518eb701",
   "metadata": {},
   "outputs": [
    {
     "data": {
      "text/plain": [
       "<Axes: >"
      ]
     },
     "execution_count": 131,
     "metadata": {},
     "output_type": "execute_result"
    },
    {
     "data": {
      "image/png": "[encoded data removed]",
      "text/plain": [
       "<Figure size 640x480 with 2 Axes>"
      ]
     },
     "metadata": {},
     "output_type": "display_data"
    }
   ],
   "source": [
    "plotting.show_image(new_mask2)"
   ]
  },
  {
   "cell_type": "code",
   "execution_count": 145,
   "id": "afb5c8d2-cf3f-4470-befe-3a49ec8e7799",
   "metadata": {},
   "outputs": [],
   "source": [
    "f.close()"
   ]
  },
  {
   "cell_type": "code",
   "execution_count": null,
   "id": "2a7ecc85-5e4e-4168-a1c4-a4c100f90091",
   "metadata": {},
   "outputs": [],
   "source": []
  }
 ],
 "metadata": {
  "kernelspec": {
   "display_name": "Python 3 (ipykernel)",
   "language": "python",
   "name": "python3"
  },
  "language_info": {
   "codemirror_mode": {
    "name": "ipython",
    "version": 3
   },
   "file_extension": ".py",
   "mimetype": "text/x-python",
   "name": "python",
   "nbconvert_exporter": "python",
   "pygments_lexer": "ipython3",
   "version": "3.10.10"
  }
 },
 "nbformat": 4,
 "nbformat_minor": 5
}
