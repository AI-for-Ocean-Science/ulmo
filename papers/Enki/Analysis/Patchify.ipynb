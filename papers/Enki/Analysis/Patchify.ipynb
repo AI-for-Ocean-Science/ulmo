{
 "cells": [
  {
   "cell_type": "markdown",
   "id": "e0bfab35-a62c-472a-990c-2b1a354fa169",
   "metadata": {},
   "source": [
    "# Patchify a VIIRS mask"
   ]
  },
  {
   "cell_type": "code",
   "execution_count": 15,
   "id": "7d71e154-e1ff-4f6d-bef7-f51ccfd2bd57",
   "metadata": {},
   "outputs": [],
   "source": [
    "# imports\n",
    "import h5py\n",
    "import numpy as np\n",
    "from skimage.transform import downscale_local_mean, resize_local_mean\n",
    "\n",
    "import os"
   ]
  },
  {
   "cell_type": "markdown",
   "id": "ac01f6d8-d027-4f9b-8343-7b6242acabf3",
   "metadata": {},
   "source": [
    "# Load a VIIRS file "
   ]
  },
  {
   "cell_type": "code",
   "execution_count": 5,
   "id": "4d3ad259-1b86-4ed7-89c2-e479034972a4",
   "metadata": {},
   "outputs": [],
   "source": [
    "viirs_file = os.path.join(os.getenv('OS_SST'), 'VIIRS',\n",
    "                          'Extractions', 'VIIRS_2013_85clear_192x192_inpaint.h5')"
   ]
  },
  {
   "cell_type": "code",
   "execution_count": 6,
   "id": "34cca93a-9820-4aad-857a-bdcfc4149614",
   "metadata": {},
   "outputs": [
    {
     "data": {
      "text/plain": [
       "<KeysViewHDF5 ['fields', 'inpainted_masks', 'metadata']>"
      ]
     },
     "execution_count": 6,
     "metadata": {},
     "output_type": "execute_result"
    }
   ],
   "source": [
    "f = h5py.File(viirs_file, 'r')\n",
    "f.keys()"
   ]
  },
  {
   "cell_type": "markdown",
   "id": "2e246b32-3d70-4220-86b2-bd09ca810475",
   "metadata": {},
   "source": [
    "## Check a mask"
   ]
  },
  {
   "cell_type": "code",
   "execution_count": 8,
   "id": "444aee6c-263c-46b1-ad43-7f3363e60731",
   "metadata": {},
   "outputs": [
    {
     "data": {
      "text/plain": [
       "array([[3.4777832, 3.477963 , 3.4783235, ...,       nan,       nan,\n",
       "              nan],\n",
       "       [3.4783752, 3.4785554, 3.4789166, ...,       nan,       nan,\n",
       "              nan],\n",
       "       [3.4795585, 3.47974  , 3.480102 , ...,       nan,       nan,\n",
       "              nan],\n",
       "       ...,\n",
       "       [      nan,       nan,       nan, ...,       nan,       nan,\n",
       "              nan],\n",
       "       [      nan,       nan,       nan, ...,       nan,       nan,\n",
       "              nan],\n",
       "       [      nan,       nan,       nan, ...,       nan,       nan,\n",
       "              nan]], dtype=float32)"
      ]
     },
     "execution_count": 8,
     "metadata": {},
     "output_type": "execute_result"
    }
   ],
   "source": [
    "f['inpainted_masks'][0]"
   ]
  },
  {
   "cell_type": "code",
   "execution_count": 13,
   "id": "f2c9d120-7246-48f0-9328-b69901bd3d27",
   "metadata": {},
   "outputs": [
    {
     "data": {
      "text/plain": [
       "0.13685438368055555"
      ]
     },
     "execution_count": 13,
     "metadata": {},
     "output_type": "execute_result"
    }
   ],
   "source": [
    "mask = np.isfinite(f['inpainted_masks'][0])\n",
    "np.sum(mask)/(192**2)"
   ]
  },
  {
   "cell_type": "code",
   "execution_count": 14,
   "id": "fdd5baff-899d-4899-adc7-5014d2bb4847",
   "metadata": {},
   "outputs": [
    {
     "data": {
      "text/plain": [
       "(192, 192)"
      ]
     },
     "execution_count": 14,
     "metadata": {},
     "output_type": "execute_result"
    }
   ],
   "source": [
    "mask.shape"
   ]
  },
  {
   "cell_type": "markdown",
   "id": "23a76ae2-a336-407b-9ac8-8018666fd84d",
   "metadata": {},
   "source": [
    "# Rebin"
   ]
  },
  {
   "cell_type": "code",
   "execution_count": 23,
   "id": "19845f99-db9f-4449-960d-bca359232648",
   "metadata": {},
   "outputs": [
    {
     "data": {
      "text/plain": [
       "(64, 64)"
      ]
     },
     "execution_count": 23,
     "metadata": {},
     "output_type": "execute_result"
    }
   ],
   "source": [
    "r_mask = downscale_local_mean(mask, (3, 3)) > 0\n",
    "r_mask = r_mask.astype(int)\n",
    "r_mask.shape"
   ]
  },
  {
   "cell_type": "code",
   "execution_count": 24,
   "id": "98af1320-a138-4b92-8965-80963a415359",
   "metadata": {},
   "outputs": [
    {
     "data": {
      "text/plain": [
       "array([[1, 1, 1, ..., 0, 0, 0],\n",
       "       [1, 1, 1, ..., 0, 0, 0],\n",
       "       [1, 1, 1, ..., 0, 0, 0],\n",
       "       ...,\n",
       "       [0, 0, 0, ..., 0, 0, 0],\n",
       "       [0, 0, 0, ..., 0, 0, 0],\n",
       "       [0, 0, 0, ..., 0, 0, 0]])"
      ]
     },
     "execution_count": 24,
     "metadata": {},
     "output_type": "execute_result"
    }
   ],
   "source": [
    "r_mask"
   ]
  },
  {
   "cell_type": "markdown",
   "id": "b6693b50-a6bf-4ed9-9b9e-5f363c7a1228",
   "metadata": {},
   "source": [
    "# Patchify"
   ]
  },
  {
   "cell_type": "code",
   "execution_count": null,
   "id": "25de640b-59ae-4933-8c9c-ac835e3566ae",
   "metadata": {},
   "outputs": [],
   "source": []
  }
 ],
 "metadata": {
  "kernelspec": {
   "display_name": "Python 3 (ipykernel)",
   "language": "python",
   "name": "python3"
  },
  "language_info": {
   "codemirror_mode": {
    "name": "ipython",
    "version": 3
   },
   "file_extension": ".py",
   "mimetype": "text/x-python",
   "name": "python",
   "nbconvert_exporter": "python",
   "pygments_lexer": "ipython3",
   "version": "3.10.10"
  }
 },
 "nbformat": 4,
 "nbformat_minor": 5
}
