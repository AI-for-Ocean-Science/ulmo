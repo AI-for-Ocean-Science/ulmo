{
 "cells": [
  {
   "cell_type": "markdown",
   "id": "b9646611-b2d6-4c0e-ad3e-c52c67d3b489",
   "metadata": {},
   "source": [
    "# DINEOF -- Check Masks"
   ]
  },
  {
   "cell_type": "code",
   "execution_count": 16,
   "id": "a0cf0b1d-f121-49aa-99a2-c8f6ae5dff06",
   "metadata": {
    "tags": []
   },
   "outputs": [],
   "source": [
    "import sys, os\n",
    "import xarray \n",
    "import numpy as np\n",
    "import h5py\n",
    "\n",
    "from ulmo.plotting import plotting\n",
    "from ulmo.mae import patch_analysis"
   ]
  },
  {
   "cell_type": "markdown",
   "id": "9085aecc-3161-47cf-be49-4ada9cc6c158",
   "metadata": {},
   "source": [
    "# Load"
   ]
  },
  {
   "cell_type": "code",
   "execution_count": 9,
   "id": "42964854-1cb9-4668-9f85-4aee8743d8f5",
   "metadata": {
    "tags": []
   },
   "outputs": [],
   "source": [
    "# These are h5 files and not nc!\n",
    "orig_pp_file = os.path.join(os.getenv('OS_OGCM'),\n",
    "                              'LLC', 'Enki', 'DINEOF',\n",
    "                              'Enki_LLC_DINEOF_pproc_p10.nc')\n",
    "new_mask_file = os.path.join(os.getenv('OS_OGCM'),\n",
    "                              'LLC', 'Enki', 'DINEOF',\n",
    "                              'Enki_LLC_DINEOF_mask_p10.nc')"
   ]
  },
  {
   "cell_type": "code",
   "execution_count": 12,
   "id": "97d30917-c31d-4401-b709-bdaca69bb606",
   "metadata": {
    "tags": []
   },
   "outputs": [
    {
     "data": {
      "text/plain": [
       "(180, 16, 16)"
      ]
     },
     "execution_count": 12,
     "metadata": {},
     "output_type": "execute_result"
    }
   ],
   "source": [
    "pp = h5py.File(orig_pp_file, 'r')\n",
    "pp['masks'].shape"
   ]
  },
  {
   "cell_type": "code",
   "execution_count": 11,
   "id": "4f62b7f6-2f20-4bbc-adbb-8b34e471761a",
   "metadata": {
    "tags": []
   },
   "outputs": [
    {
     "data": {
      "text/plain": [
       "(180, 1, 64, 64)"
      ]
     },
     "execution_count": 11,
     "metadata": {},
     "output_type": "execute_result"
    }
   ],
   "source": [
    "new_mask = h5py.File(new_mask_file, 'r')\n",
    "new_mask['valid'].shape"
   ]
  },
  {
   "cell_type": "markdown",
   "id": "e710b0fa-495d-4ec4-af39-2d806f92690a",
   "metadata": {},
   "source": [
    "# Chk"
   ]
  },
  {
   "cell_type": "code",
   "execution_count": 13,
   "id": "d91677ea-face-436d-9f78-10aebe8d0fea",
   "metadata": {
    "tags": []
   },
   "outputs": [
    {
     "data": {
      "text/plain": [
       "array([[0., 0., 0., 0., 0., 0., 0., 0., 0., 0., 0., 0., 0., 1., 1., 0.],\n",
       "       [0., 1., 0., 0., 0., 0., 0., 0., 1., 1., 0., 0., 0., 0., 0., 0.],\n",
       "       [0., 0., 0., 0., 0., 0., 0., 0., 0., 0., 0., 0., 0., 1., 0., 0.],\n",
       "       [0., 0., 0., 0., 0., 0., 0., 0., 1., 1., 0., 0., 0., 0., 0., 0.],\n",
       "       [1., 0., 0., 0., 0., 0., 0., 0., 0., 0., 0., 0., 0., 0., 0., 1.],\n",
       "       [0., 0., 0., 0., 0., 0., 0., 0., 0., 0., 0., 0., 1., 0., 0., 0.],\n",
       "       [0., 0., 0., 0., 1., 0., 0., 0., 0., 0., 0., 0., 0., 0., 1., 0.],\n",
       "       [0., 0., 0., 0., 0., 0., 0., 0., 0., 0., 0., 0., 0., 0., 0., 0.],\n",
       "       [0., 0., 0., 0., 0., 0., 0., 0., 1., 0., 0., 1., 0., 0., 0., 0.],\n",
       "       [0., 0., 0., 0., 0., 0., 0., 1., 0., 0., 0., 0., 1., 0., 0., 0.],\n",
       "       [0., 0., 0., 0., 0., 0., 0., 0., 1., 0., 0., 0., 0., 0., 0., 0.],\n",
       "       [1., 1., 0., 0., 0., 0., 0., 0., 0., 0., 0., 1., 0., 0., 0., 1.],\n",
       "       [0., 0., 0., 1., 1., 0., 0., 0., 0., 0., 0., 0., 0., 0., 0., 0.],\n",
       "       [0., 0., 0., 0., 0., 0., 0., 0., 0., 0., 0., 0., 0., 0., 1., 1.],\n",
       "       [0., 0., 0., 0., 0., 0., 0., 0., 0., 0., 0., 0., 0., 0., 0., 0.],\n",
       "       [0., 0., 0., 0., 0., 0., 0., 0., 0., 0., 0., 0., 0., 0., 0., 0.]],\n",
       "      dtype=float32)"
      ]
     },
     "execution_count": 13,
     "metadata": {},
     "output_type": "execute_result"
    }
   ],
   "source": [
    "pp['masks'][0,...]"
   ]
  },
  {
   "cell_type": "code",
   "execution_count": 14,
   "id": "cdfbc775-721d-42c8-aebc-c13843074815",
   "metadata": {
    "tags": []
   },
   "outputs": [
    {
     "data": {
      "text/plain": [
       "array([[0., 0., 0., ..., 0., 0., 0.],\n",
       "       [0., 0., 0., ..., 0., 0., 0.],\n",
       "       [0., 0., 0., ..., 0., 0., 0.],\n",
       "       ...,\n",
       "       [0., 0., 0., ..., 0., 0., 0.],\n",
       "       [0., 0., 0., ..., 0., 0., 0.],\n",
       "       [0., 0., 0., ..., 0., 0., 0.]], dtype=float32)"
      ]
     },
     "execution_count": 14,
     "metadata": {},
     "output_type": "execute_result"
    }
   ],
   "source": [
    "new_mask['valid'][0,0,...]"
   ]
  },
  {
   "cell_type": "markdown",
   "id": "9d56e5db-789d-4207-9c23-65499330eaf1",
   "metadata": {},
   "source": [
    "# Convert"
   ]
  },
  {
   "cell_type": "code",
   "execution_count": 15,
   "id": "388bc34b-0980-4ae0-971f-871cab45d0d4",
   "metadata": {
    "tags": []
   },
   "outputs": [],
   "source": [
    "mask_img = new_mask['valid'][0,0,...]\n",
    "p_sz = 4"
   ]
  },
  {
   "cell_type": "code",
   "execution_count": 17,
   "id": "6ee3e42e-046b-4515-804c-1e2a12cf5b8a",
   "metadata": {
    "tags": []
   },
   "outputs": [],
   "source": [
    "patches = patch_analysis.find_patches(mask_img, p_sz=p_sz)\n",
    "#\n",
    "mask_patch_img = np.zeros((mask_img.shape[0]//p_sz, \n",
    "                           mask_img.shape[1]//p_sz))\n",
    "for patch in patches:\n",
    "    i, j = np.unravel_index(patch, mask_img.shape)\n",
    "    mask_patch_img[i//p_sz, j//p_sz] = 1."
   ]
  },
  {
   "cell_type": "code",
   "execution_count": 18,
   "id": "b090052a-fed0-498e-8c13-db50a3f36b96",
   "metadata": {
    "tags": []
   },
   "outputs": [
    {
     "data": {
      "text/plain": [
       "array([[0., 0., 0., 0., 0., 0., 0., 0., 0., 0., 0., 0., 0., 1., 1., 0.],\n",
       "       [0., 1., 0., 0., 0., 0., 0., 0., 1., 1., 0., 0., 0., 0., 0., 0.],\n",
       "       [0., 0., 0., 0., 0., 0., 0., 0., 0., 0., 0., 0., 0., 1., 0., 0.],\n",
       "       [0., 0., 0., 0., 0., 0., 0., 0., 1., 1., 0., 0., 0., 0., 0., 0.],\n",
       "       [1., 0., 0., 0., 0., 0., 0., 0., 0., 0., 0., 0., 0., 0., 0., 1.],\n",
       "       [0., 0., 0., 0., 0., 0., 0., 0., 0., 0., 0., 0., 1., 0., 0., 0.],\n",
       "       [0., 0., 0., 0., 1., 0., 0., 0., 0., 0., 0., 0., 0., 0., 1., 0.],\n",
       "       [0., 0., 0., 0., 0., 0., 0., 0., 0., 0., 0., 0., 0., 0., 0., 0.],\n",
       "       [0., 0., 0., 0., 0., 0., 0., 0., 1., 0., 0., 1., 0., 0., 0., 0.],\n",
       "       [0., 0., 0., 0., 0., 0., 0., 1., 0., 0., 0., 0., 1., 0., 0., 0.],\n",
       "       [0., 0., 0., 0., 0., 0., 0., 0., 1., 0., 0., 0., 0., 0., 0., 0.],\n",
       "       [1., 1., 0., 0., 0., 0., 0., 0., 0., 0., 0., 1., 0., 0., 0., 1.],\n",
       "       [0., 0., 0., 1., 1., 0., 0., 0., 0., 0., 0., 0., 0., 0., 0., 0.],\n",
       "       [0., 0., 0., 0., 0., 0., 0., 0., 0., 0., 0., 0., 0., 0., 1., 1.],\n",
       "       [0., 0., 0., 0., 0., 0., 0., 0., 0., 0., 0., 0., 0., 0., 0., 0.],\n",
       "       [0., 0., 0., 0., 0., 0., 0., 0., 0., 0., 0., 0., 0., 0., 0., 0.]])"
      ]
     },
     "execution_count": 18,
     "metadata": {},
     "output_type": "execute_result"
    }
   ],
   "source": [
    "mask_patch_img"
   ]
  },
  {
   "cell_type": "code",
   "execution_count": 20,
   "id": "67c829ef-1744-414c-9c52-addad2edf1f9",
   "metadata": {
    "tags": []
   },
   "outputs": [
    {
     "data": {
      "text/plain": [
       "True"
      ]
     },
     "execution_count": 20,
     "metadata": {},
     "output_type": "execute_result"
    }
   ],
   "source": [
    "np.all(np.isclose(pp['masks'][0,...], mask_patch_img))"
   ]
  },
  {
   "cell_type": "code",
   "execution_count": null,
   "id": "959512d6-4bab-42dc-bf9b-88d4f40271ba",
   "metadata": {},
   "outputs": [],
   "source": []
  }
 ],
 "metadata": {
  "kernelspec": {
   "display_name": "Python 3 (ipykernel)",
   "language": "python",
   "name": "python3"
  },
  "language_info": {
   "codemirror_mode": {
    "name": "ipython",
    "version": 3
   },
   "file_extension": ".py",
   "mimetype": "text/x-python",
   "name": "python",
   "nbconvert_exporter": "python",
   "pygments_lexer": "ipython3",
   "version": "3.10.9"
  }
 },
 "nbformat": 4,
 "nbformat_minor": 5
}
