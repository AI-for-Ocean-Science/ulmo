{
 "cells": [
  {
   "cell_type": "markdown",
   "id": "83a1ba89-bd36-49b8-a77b-1ff18655e225",
   "metadata": {},
   "source": [
    "# Running MAE on VIIRS data"
   ]
  },
  {
   "cell_type": "code",
   "execution_count": 23,
   "id": "01e3fff3-1288-4a1b-acdf-73cfe4956ffb",
   "metadata": {
    "tags": []
   },
   "outputs": [],
   "source": [
    "# imports\n",
    "from importlib import reload\n",
    "import os\n",
    "import numpy as np\n",
    "\n",
    "import h5py\n",
    "\n",
    "import seaborn as sns\n",
    "import matplotlib.pyplot as plt\n",
    "import matplotlib.gridspec as gridspec\n",
    "\n",
    "from ulmo import io as ulmo_io\n",
    "from ulmo.utils import image_utils\n",
    "from ulmo.plotting import plotting\n",
    "#from ulmo.mae import reconstruct_LLC"
   ]
  },
  {
   "cell_type": "markdown",
   "id": "61b13f48-ed12-408a-a016-b4f45dd11994",
   "metadata": {},
   "source": [
    "# Load VIIRS Table"
   ]
  },
  {
   "cell_type": "code",
   "execution_count": 2,
   "id": "3a4218ea-3e32-4af6-a5e1-ebd7c6c42ebe",
   "metadata": {
    "tags": []
   },
   "outputs": [],
   "source": [
    "sst_path = '/media/xavier/Samsung 8TB/Oceanography/SST'"
   ]
  },
  {
   "cell_type": "code",
   "execution_count": 4,
   "id": "07f98235-7661-461c-848a-22fe3b78722c",
   "metadata": {
    "tags": []
   },
   "outputs": [
    {
     "name": "stdout",
     "output_type": "stream",
     "text": [
      "Read main table: /media/xavier/Samsung 8TB/Oceanography/SST/VIIRS/Tables/VIIRS_all_98clear_std.parquet\n"
     ]
    }
   ],
   "source": [
    "viirs_file = os.path.join(sst_path, 'VIIRS', 'Tables', 'VIIRS_all_98clear_std.parquet')\n",
    "viirs = ulmo_io.load_main_table(viirs_file)"
   ]
  },
  {
   "cell_type": "code",
   "execution_count": 5,
   "id": "dc192f01-f546-4a30-8c88-7edd1485491a",
   "metadata": {
    "tags": []
   },
   "outputs": [
    {
     "data": {
      "text/html": [
       "<div>\n",
       "<style scoped>\n",
       "    .dataframe tbody tr th:only-of-type {\n",
       "        vertical-align: middle;\n",
       "    }\n",
       "\n",
       "    .dataframe tbody tr th {\n",
       "        vertical-align: top;\n",
       "    }\n",
       "\n",
       "    .dataframe thead th {\n",
       "        text-align: right;\n",
       "    }\n",
       "</style>\n",
       "<table border=\"1\" class=\"dataframe\">\n",
       "  <thead>\n",
       "    <tr style=\"text-align: right;\">\n",
       "      <th></th>\n",
       "      <th>filename</th>\n",
       "      <th>row</th>\n",
       "      <th>col</th>\n",
       "      <th>lat</th>\n",
       "      <th>lon</th>\n",
       "      <th>clear_fraction</th>\n",
       "      <th>field_size</th>\n",
       "      <th>datetime</th>\n",
       "      <th>ex_filename</th>\n",
       "      <th>pp_file</th>\n",
       "      <th>...</th>\n",
       "      <th>pp_idx</th>\n",
       "      <th>pp_type</th>\n",
       "      <th>mean_temperature</th>\n",
       "      <th>Tmin</th>\n",
       "      <th>Tmax</th>\n",
       "      <th>T90</th>\n",
       "      <th>T10</th>\n",
       "      <th>LL</th>\n",
       "      <th>MODIS_LL</th>\n",
       "      <th>UID</th>\n",
       "    </tr>\n",
       "  </thead>\n",
       "  <tbody>\n",
       "    <tr>\n",
       "      <th>0</th>\n",
       "      <td>s3://viirs/data/2012/032/20120201001000-OSPO-L...</td>\n",
       "      <td>3024</td>\n",
       "      <td>2784</td>\n",
       "      <td>19.337208</td>\n",
       "      <td>-176.89246</td>\n",
       "      <td>0.014025</td>\n",
       "      <td>192</td>\n",
       "      <td>2012-02-01 00:10:00</td>\n",
       "      <td>s3://viirs/Extractions/VIIRS_2012_95clear_192x...</td>\n",
       "      <td>s3://viirs/PreProc/VIIRS_2012_95clear_192x192_...</td>\n",
       "      <td>...</td>\n",
       "      <td>32205</td>\n",
       "      <td>0</td>\n",
       "      <td>26.662079</td>\n",
       "      <td>25.100006</td>\n",
       "      <td>27.660004</td>\n",
       "      <td>26.920013</td>\n",
       "      <td>26.429993</td>\n",
       "      <td>481.689453</td>\n",
       "      <td>486.260010</td>\n",
       "      <td>13281093372310754</td>\n",
       "    </tr>\n",
       "    <tr>\n",
       "      <th>1</th>\n",
       "      <td>s3://viirs/data/2012/032/20120201001000-OSPO-L...</td>\n",
       "      <td>3120</td>\n",
       "      <td>2688</td>\n",
       "      <td>20.116112</td>\n",
       "      <td>-176.30530</td>\n",
       "      <td>0.013943</td>\n",
       "      <td>192</td>\n",
       "      <td>2012-02-01 00:10:00</td>\n",
       "      <td>s3://viirs/Extractions/VIIRS_2012_95clear_192x...</td>\n",
       "      <td>s3://viirs/PreProc/VIIRS_2012_95clear_192x192_...</td>\n",
       "      <td>...</td>\n",
       "      <td>252131</td>\n",
       "      <td>0</td>\n",
       "      <td>26.312477</td>\n",
       "      <td>24.450012</td>\n",
       "      <td>27.149994</td>\n",
       "      <td>26.670013</td>\n",
       "      <td>25.809998</td>\n",
       "      <td>360.780640</td>\n",
       "      <td>379.500183</td>\n",
       "      <td>13281101161369470</td>\n",
       "    </tr>\n",
       "    <tr>\n",
       "      <th>2</th>\n",
       "      <td>s3://viirs/data/2012/032/20120201001000-OSPO-L...</td>\n",
       "      <td>3216</td>\n",
       "      <td>2496</td>\n",
       "      <td>21.009575</td>\n",
       "      <td>-175.17024</td>\n",
       "      <td>0.004693</td>\n",
       "      <td>192</td>\n",
       "      <td>2012-02-01 00:10:00</td>\n",
       "      <td>s3://viirs/Extractions/VIIRS_2012_95clear_192x...</td>\n",
       "      <td>s3://viirs/PreProc/VIIRS_2012_95clear_192x192_...</td>\n",
       "      <td>...</td>\n",
       "      <td>459126</td>\n",
       "      <td>0</td>\n",
       "      <td>26.149899</td>\n",
       "      <td>25.119995</td>\n",
       "      <td>26.790009</td>\n",
       "      <td>26.359985</td>\n",
       "      <td>25.950012</td>\n",
       "      <td>496.087891</td>\n",
       "      <td>482.765015</td>\n",
       "      <td>13281110096482976</td>\n",
       "    </tr>\n",
       "    <tr>\n",
       "      <th>3</th>\n",
       "      <td>s3://viirs/data/2012/032/20120201001000-OSPO-L...</td>\n",
       "      <td>3216</td>\n",
       "      <td>2592</td>\n",
       "      <td>20.876402</td>\n",
       "      <td>-175.80142</td>\n",
       "      <td>0.002740</td>\n",
       "      <td>192</td>\n",
       "      <td>2012-02-01 00:10:00</td>\n",
       "      <td>s3://viirs/Extractions/VIIRS_2012_95clear_192x...</td>\n",
       "      <td>s3://viirs/PreProc/VIIRS_2012_95clear_192x192_...</td>\n",
       "      <td>...</td>\n",
       "      <td>379958</td>\n",
       "      <td>0</td>\n",
       "      <td>26.039507</td>\n",
       "      <td>24.489990</td>\n",
       "      <td>26.889984</td>\n",
       "      <td>26.309998</td>\n",
       "      <td>25.829987</td>\n",
       "      <td>454.589905</td>\n",
       "      <td>493.697144</td>\n",
       "      <td>13281108764419858</td>\n",
       "    </tr>\n",
       "    <tr>\n",
       "      <th>4</th>\n",
       "      <td>s3://viirs/data/2012/032/20120201001000-OSPO-L...</td>\n",
       "      <td>3216</td>\n",
       "      <td>2688</td>\n",
       "      <td>20.725744</td>\n",
       "      <td>-176.50098</td>\n",
       "      <td>0.006565</td>\n",
       "      <td>192</td>\n",
       "      <td>2012-02-01 00:10:00</td>\n",
       "      <td>s3://viirs/Extractions/VIIRS_2012_95clear_192x...</td>\n",
       "      <td>s3://viirs/PreProc/VIIRS_2012_95clear_192x192_...</td>\n",
       "      <td>...</td>\n",
       "      <td>217941</td>\n",
       "      <td>0</td>\n",
       "      <td>25.925251</td>\n",
       "      <td>23.980011</td>\n",
       "      <td>27.029999</td>\n",
       "      <td>26.359985</td>\n",
       "      <td>25.609985</td>\n",
       "      <td>326.442383</td>\n",
       "      <td>328.781921</td>\n",
       "      <td>13281107257349902</td>\n",
       "    </tr>\n",
       "  </tbody>\n",
       "</table>\n",
       "<p>5 rows × 21 columns</p>\n",
       "</div>"
      ],
      "text/plain": [
       "                                            filename   row   col        lat  \\\n",
       "0  s3://viirs/data/2012/032/20120201001000-OSPO-L...  3024  2784  19.337208   \n",
       "1  s3://viirs/data/2012/032/20120201001000-OSPO-L...  3120  2688  20.116112   \n",
       "2  s3://viirs/data/2012/032/20120201001000-OSPO-L...  3216  2496  21.009575   \n",
       "3  s3://viirs/data/2012/032/20120201001000-OSPO-L...  3216  2592  20.876402   \n",
       "4  s3://viirs/data/2012/032/20120201001000-OSPO-L...  3216  2688  20.725744   \n",
       "\n",
       "         lon  clear_fraction  field_size            datetime  \\\n",
       "0 -176.89246        0.014025         192 2012-02-01 00:10:00   \n",
       "1 -176.30530        0.013943         192 2012-02-01 00:10:00   \n",
       "2 -175.17024        0.004693         192 2012-02-01 00:10:00   \n",
       "3 -175.80142        0.002740         192 2012-02-01 00:10:00   \n",
       "4 -176.50098        0.006565         192 2012-02-01 00:10:00   \n",
       "\n",
       "                                         ex_filename  \\\n",
       "0  s3://viirs/Extractions/VIIRS_2012_95clear_192x...   \n",
       "1  s3://viirs/Extractions/VIIRS_2012_95clear_192x...   \n",
       "2  s3://viirs/Extractions/VIIRS_2012_95clear_192x...   \n",
       "3  s3://viirs/Extractions/VIIRS_2012_95clear_192x...   \n",
       "4  s3://viirs/Extractions/VIIRS_2012_95clear_192x...   \n",
       "\n",
       "                                             pp_file  ...  pp_idx  pp_type  \\\n",
       "0  s3://viirs/PreProc/VIIRS_2012_95clear_192x192_...  ...   32205        0   \n",
       "1  s3://viirs/PreProc/VIIRS_2012_95clear_192x192_...  ...  252131        0   \n",
       "2  s3://viirs/PreProc/VIIRS_2012_95clear_192x192_...  ...  459126        0   \n",
       "3  s3://viirs/PreProc/VIIRS_2012_95clear_192x192_...  ...  379958        0   \n",
       "4  s3://viirs/PreProc/VIIRS_2012_95clear_192x192_...  ...  217941        0   \n",
       "\n",
       "   mean_temperature       Tmin       Tmax        T90        T10          LL  \\\n",
       "0         26.662079  25.100006  27.660004  26.920013  26.429993  481.689453   \n",
       "1         26.312477  24.450012  27.149994  26.670013  25.809998  360.780640   \n",
       "2         26.149899  25.119995  26.790009  26.359985  25.950012  496.087891   \n",
       "3         26.039507  24.489990  26.889984  26.309998  25.829987  454.589905   \n",
       "4         25.925251  23.980011  27.029999  26.359985  25.609985  326.442383   \n",
       "\n",
       "     MODIS_LL                UID  \n",
       "0  486.260010  13281093372310754  \n",
       "1  379.500183  13281101161369470  \n",
       "2  482.765015  13281110096482976  \n",
       "3  493.697144  13281108764419858  \n",
       "4  328.781921  13281107257349902  \n",
       "\n",
       "[5 rows x 21 columns]"
      ]
     },
     "execution_count": 5,
     "metadata": {},
     "output_type": "execute_result"
    }
   ],
   "source": [
    "viirs.head()"
   ]
  },
  {
   "cell_type": "markdown",
   "id": "d33245ec-86b4-4d12-b3f9-092ca81f62c6",
   "metadata": {},
   "source": [
    "# Find completely clear"
   ]
  },
  {
   "cell_type": "code",
   "execution_count": 7,
   "id": "5dbe3d06-4e5c-46cc-88ab-e45f975bcac2",
   "metadata": {
    "tags": []
   },
   "outputs": [
    {
     "data": {
      "text/plain": [
       "923751"
      ]
     },
     "execution_count": 7,
     "metadata": {},
     "output_type": "execute_result"
    }
   ],
   "source": [
    "all_clear = np.isclose(viirs.clear_fraction, 0.)\n",
    "np.sum(all_clear)"
   ]
  },
  {
   "cell_type": "code",
   "execution_count": 8,
   "id": "4611e4ca-414d-4477-9073-7e8525602c39",
   "metadata": {
    "tags": []
   },
   "outputs": [],
   "source": [
    "clear_viirs = viirs[all_clear].copy()"
   ]
  },
  {
   "cell_type": "code",
   "execution_count": 9,
   "id": "f7d33977-6280-4604-947a-4bd5f8c3f2bf",
   "metadata": {
    "tags": []
   },
   "outputs": [
    {
     "data": {
      "text/html": [
       "<div>\n",
       "<style scoped>\n",
       "    .dataframe tbody tr th:only-of-type {\n",
       "        vertical-align: middle;\n",
       "    }\n",
       "\n",
       "    .dataframe tbody tr th {\n",
       "        vertical-align: top;\n",
       "    }\n",
       "\n",
       "    .dataframe thead th {\n",
       "        text-align: right;\n",
       "    }\n",
       "</style>\n",
       "<table border=\"1\" class=\"dataframe\">\n",
       "  <thead>\n",
       "    <tr style=\"text-align: right;\">\n",
       "      <th></th>\n",
       "      <th>filename</th>\n",
       "      <th>row</th>\n",
       "      <th>col</th>\n",
       "      <th>lat</th>\n",
       "      <th>lon</th>\n",
       "      <th>clear_fraction</th>\n",
       "      <th>field_size</th>\n",
       "      <th>datetime</th>\n",
       "      <th>ex_filename</th>\n",
       "      <th>pp_file</th>\n",
       "      <th>...</th>\n",
       "      <th>pp_idx</th>\n",
       "      <th>pp_type</th>\n",
       "      <th>mean_temperature</th>\n",
       "      <th>Tmin</th>\n",
       "      <th>Tmax</th>\n",
       "      <th>T90</th>\n",
       "      <th>T10</th>\n",
       "      <th>LL</th>\n",
       "      <th>MODIS_LL</th>\n",
       "      <th>UID</th>\n",
       "    </tr>\n",
       "  </thead>\n",
       "  <tbody>\n",
       "    <tr>\n",
       "      <th>23</th>\n",
       "      <td>s3://viirs/data/2012/032/20120201013000-OSPO-L...</td>\n",
       "      <td>4272</td>\n",
       "      <td>192</td>\n",
       "      <td>-42.767250</td>\n",
       "      <td>-159.981770</td>\n",
       "      <td>1.463673e-16</td>\n",
       "      <td>192</td>\n",
       "      <td>2012-02-01 01:30:00</td>\n",
       "      <td>s3://viirs/Extractions/VIIRS_2012_95clear_192x...</td>\n",
       "      <td>s3://viirs/PreProc/VIIRS_2012_95clear_192x192_...</td>\n",
       "      <td>...</td>\n",
       "      <td>337702</td>\n",
       "      <td>0</td>\n",
       "      <td>16.150503</td>\n",
       "      <td>15.179993</td>\n",
       "      <td>17.429993</td>\n",
       "      <td>16.450012</td>\n",
       "      <td>15.670013</td>\n",
       "      <td>281.213318</td>\n",
       "      <td>305.681091</td>\n",
       "      <td>13284723282001823</td>\n",
       "    </tr>\n",
       "    <tr>\n",
       "      <th>24</th>\n",
       "      <td>s3://viirs/data/2012/032/20120201013000-OSPO-L...</td>\n",
       "      <td>4272</td>\n",
       "      <td>288</td>\n",
       "      <td>-43.076412</td>\n",
       "      <td>-161.011410</td>\n",
       "      <td>1.463673e-16</td>\n",
       "      <td>192</td>\n",
       "      <td>2012-02-01 01:30:00</td>\n",
       "      <td>s3://viirs/Extractions/VIIRS_2012_95clear_192x...</td>\n",
       "      <td>s3://viirs/PreProc/VIIRS_2012_95clear_192x192_...</td>\n",
       "      <td>...</td>\n",
       "      <td>492942</td>\n",
       "      <td>0</td>\n",
       "      <td>16.179958</td>\n",
       "      <td>15.399994</td>\n",
       "      <td>16.859985</td>\n",
       "      <td>16.420013</td>\n",
       "      <td>15.820007</td>\n",
       "      <td>502.220459</td>\n",
       "      <td>536.932861</td>\n",
       "      <td>13284692361898859</td>\n",
       "    </tr>\n",
       "    <tr>\n",
       "      <th>36</th>\n",
       "      <td>s3://viirs/data/2012/032/20120201023000-OSPO-L...</td>\n",
       "      <td>240</td>\n",
       "      <td>2496</td>\n",
       "      <td>37.592620</td>\n",
       "      <td>0.868959</td>\n",
       "      <td>-2.904803e-16</td>\n",
       "      <td>192</td>\n",
       "      <td>2012-02-01 02:30:00</td>\n",
       "      <td>s3://viirs/Extractions/VIIRS_2012_95clear_192x...</td>\n",
       "      <td>s3://viirs/PreProc/VIIRS_2012_95clear_192x192_...</td>\n",
       "      <td>...</td>\n",
       "      <td>710805</td>\n",
       "      <td>0</td>\n",
       "      <td>15.348452</td>\n",
       "      <td>14.250000</td>\n",
       "      <td>15.820007</td>\n",
       "      <td>15.570007</td>\n",
       "      <td>15.170013</td>\n",
       "      <td>456.507751</td>\n",
       "      <td>496.759888</td>\n",
       "      <td>1328127592618086896</td>\n",
       "    </tr>\n",
       "    <tr>\n",
       "      <th>37</th>\n",
       "      <td>s3://viirs/data/2012/032/20120201023000-OSPO-L...</td>\n",
       "      <td>240</td>\n",
       "      <td>2592</td>\n",
       "      <td>37.404587</td>\n",
       "      <td>1.596744</td>\n",
       "      <td>-2.904803e-16</td>\n",
       "      <td>192</td>\n",
       "      <td>2012-02-01 02:30:00</td>\n",
       "      <td>s3://viirs/Extractions/VIIRS_2012_95clear_192x...</td>\n",
       "      <td>s3://viirs/PreProc/VIIRS_2012_95clear_192x192_...</td>\n",
       "      <td>...</td>\n",
       "      <td>144083</td>\n",
       "      <td>0</td>\n",
       "      <td>15.289324</td>\n",
       "      <td>13.559998</td>\n",
       "      <td>16.130005</td>\n",
       "      <td>15.489990</td>\n",
       "      <td>15.109985</td>\n",
       "      <td>501.634094</td>\n",
       "      <td>532.935547</td>\n",
       "      <td>1328127404618159674</td>\n",
       "    </tr>\n",
       "    <tr>\n",
       "      <th>40</th>\n",
       "      <td>s3://viirs/data/2012/032/20120201023000-OSPO-L...</td>\n",
       "      <td>816</td>\n",
       "      <td>1728</td>\n",
       "      <td>35.628773</td>\n",
       "      <td>-8.543817</td>\n",
       "      <td>1.587376e-15</td>\n",
       "      <td>192</td>\n",
       "      <td>2012-02-01 02:30:00</td>\n",
       "      <td>s3://viirs/Extractions/VIIRS_2012_95clear_192x...</td>\n",
       "      <td>s3://viirs/PreProc/VIIRS_2012_95clear_192x192_...</td>\n",
       "      <td>...</td>\n",
       "      <td>71629</td>\n",
       "      <td>0</td>\n",
       "      <td>16.646990</td>\n",
       "      <td>15.769989</td>\n",
       "      <td>17.160004</td>\n",
       "      <td>16.910004</td>\n",
       "      <td>16.350006</td>\n",
       "      <td>382.582520</td>\n",
       "      <td>442.877380</td>\n",
       "      <td>1328125628817145618</td>\n",
       "    </tr>\n",
       "  </tbody>\n",
       "</table>\n",
       "<p>5 rows × 21 columns</p>\n",
       "</div>"
      ],
      "text/plain": [
       "                                             filename   row   col        lat  \\\n",
       "23  s3://viirs/data/2012/032/20120201013000-OSPO-L...  4272   192 -42.767250   \n",
       "24  s3://viirs/data/2012/032/20120201013000-OSPO-L...  4272   288 -43.076412   \n",
       "36  s3://viirs/data/2012/032/20120201023000-OSPO-L...   240  2496  37.592620   \n",
       "37  s3://viirs/data/2012/032/20120201023000-OSPO-L...   240  2592  37.404587   \n",
       "40  s3://viirs/data/2012/032/20120201023000-OSPO-L...   816  1728  35.628773   \n",
       "\n",
       "           lon  clear_fraction  field_size            datetime  \\\n",
       "23 -159.981770    1.463673e-16         192 2012-02-01 01:30:00   \n",
       "24 -161.011410    1.463673e-16         192 2012-02-01 01:30:00   \n",
       "36    0.868959   -2.904803e-16         192 2012-02-01 02:30:00   \n",
       "37    1.596744   -2.904803e-16         192 2012-02-01 02:30:00   \n",
       "40   -8.543817    1.587376e-15         192 2012-02-01 02:30:00   \n",
       "\n",
       "                                          ex_filename  \\\n",
       "23  s3://viirs/Extractions/VIIRS_2012_95clear_192x...   \n",
       "24  s3://viirs/Extractions/VIIRS_2012_95clear_192x...   \n",
       "36  s3://viirs/Extractions/VIIRS_2012_95clear_192x...   \n",
       "37  s3://viirs/Extractions/VIIRS_2012_95clear_192x...   \n",
       "40  s3://viirs/Extractions/VIIRS_2012_95clear_192x...   \n",
       "\n",
       "                                              pp_file  ...  pp_idx  pp_type  \\\n",
       "23  s3://viirs/PreProc/VIIRS_2012_95clear_192x192_...  ...  337702        0   \n",
       "24  s3://viirs/PreProc/VIIRS_2012_95clear_192x192_...  ...  492942        0   \n",
       "36  s3://viirs/PreProc/VIIRS_2012_95clear_192x192_...  ...  710805        0   \n",
       "37  s3://viirs/PreProc/VIIRS_2012_95clear_192x192_...  ...  144083        0   \n",
       "40  s3://viirs/PreProc/VIIRS_2012_95clear_192x192_...  ...   71629        0   \n",
       "\n",
       "    mean_temperature       Tmin       Tmax        T90        T10          LL  \\\n",
       "23         16.150503  15.179993  17.429993  16.450012  15.670013  281.213318   \n",
       "24         16.179958  15.399994  16.859985  16.420013  15.820007  502.220459   \n",
       "36         15.348452  14.250000  15.820007  15.570007  15.170013  456.507751   \n",
       "37         15.289324  13.559998  16.130005  15.489990  15.109985  501.634094   \n",
       "40         16.646990  15.769989  17.160004  16.910004  16.350006  382.582520   \n",
       "\n",
       "      MODIS_LL                  UID  \n",
       "23  305.681091    13284723282001823  \n",
       "24  536.932861    13284692361898859  \n",
       "36  496.759888  1328127592618086896  \n",
       "37  532.935547  1328127404618159674  \n",
       "40  442.877380  1328125628817145618  \n",
       "\n",
       "[5 rows x 21 columns]"
      ]
     },
     "execution_count": 9,
     "metadata": {},
     "output_type": "execute_result"
    }
   ],
   "source": [
    "clear_viirs.head()"
   ]
  },
  {
   "cell_type": "markdown",
   "id": "396d2f37-5052-48f6-b9d9-e119ce4c42c3",
   "metadata": {},
   "source": [
    "# Let's check a few"
   ]
  },
  {
   "cell_type": "markdown",
   "id": "56125f3d-898f-4e72-9732-10f2dc0b373b",
   "metadata": {},
   "source": [
    "## 2012"
   ]
  },
  {
   "cell_type": "code",
   "execution_count": 19,
   "id": "8c2d3223-2e24-4d39-8631-5d0872a29a97",
   "metadata": {
    "tags": []
   },
   "outputs": [],
   "source": [
    "ex_file = os.path.join(sst_path, 'VIIRS', 'Extractions', 'VIIRS_2012_95clear_192x192_inpaint.h5')\n",
    "pp_file = os.path.join(sst_path, 'VIIRS', 'PreProc', 'VIIRS_2012_95clear_192x192_preproc_viirs_std.h5')"
   ]
  },
  {
   "cell_type": "code",
   "execution_count": 21,
   "id": "f3e30f20-2a41-4635-82e0-abc1f3451ebb",
   "metadata": {
    "tags": []
   },
   "outputs": [],
   "source": [
    "f_pp2012 = h5py.File(pp_file, 'r')"
   ]
  },
  {
   "cell_type": "code",
   "execution_count": 17,
   "id": "b7c95017-d2bc-4d52-9dd8-82e5c4d42f9f",
   "metadata": {
    "tags": []
   },
   "outputs": [],
   "source": [
    "f_ex2012 = h5py.File(ex_file, 'r')"
   ]
  },
  {
   "cell_type": "code",
   "execution_count": 26,
   "id": "f47872a4-172e-4235-9eb5-6b3d585c0486",
   "metadata": {
    "tags": []
   },
   "outputs": [
    {
     "data": {
      "image/png": "[encoded data removed]",
      "text/plain": [
       "<Figure size 1200x1200 with 4 Axes>"
      ]
     },
     "metadata": {},
     "output_type": "display_data"
    }
   ],
   "source": [
    "reload(plotting)\n",
    "fig = plt.figure(figsize=(12,12))\n",
    "gs = gridspec.GridSpec(2,2)\n",
    "\n",
    "for ss in range(4):\n",
    "    # Axis\n",
    "    ax = plt.subplot(gs[ss])\n",
    "    # Img\n",
    "    cutout = clear_viirs.iloc[ss]\n",
    "    img, _ = image_utils.grab_image(cutout, pp_hf=f_pp2012, close=False)\n",
    "    # Plot\n",
    "    plotting.show_image(img, ax=ax, set_aspect='equal', cbar=False)\n",
    "\n",
    "# \n",
    "plt.show()\n"
   ]
  },
  {
   "cell_type": "code",
   "execution_count": null,
   "id": "3c154998-09e4-40c4-87d7-d9e9bdffbb4a",
   "metadata": {},
   "outputs": [],
   "source": []
  }
 ],
 "metadata": {
  "kernelspec": {
   "display_name": "Python 3 (ipykernel)",
   "language": "python",
   "name": "python3"
  },
  "language_info": {
   "codemirror_mode": {
    "name": "ipython",
    "version": 3
   },
   "file_extension": ".py",
   "mimetype": "text/x-python",
   "name": "python",
   "nbconvert_exporter": "python",
   "pygments_lexer": "ipython3",
   "version": "3.10.9"
  }
 },
 "nbformat": 4,
 "nbformat_minor": 5
}
