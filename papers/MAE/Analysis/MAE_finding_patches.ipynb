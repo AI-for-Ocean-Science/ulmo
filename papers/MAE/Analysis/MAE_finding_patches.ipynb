{
 "cells": [
  {
   "cell_type": "markdown",
   "id": "1f88207b-db52-407f-8964-be91ad6ea5f4",
   "metadata": {},
   "source": [
    "# Finding Patches"
   ]
  },
  {
   "cell_type": "code",
   "execution_count": 8,
   "id": "8acc00d0-6506-4f54-83ae-552f2d20804c",
   "metadata": {},
   "outputs": [],
   "source": [
    "# imports\n",
    "import numpy as np\n",
    "import h5py\n",
    "\n",
    "from matplotlib import pyplot as plt"
   ]
  },
  {
   "cell_type": "markdown",
   "id": "76f22eeb-dfcd-4723-b9fa-84b4ab8b89d6",
   "metadata": {},
   "source": [
    "# Load up"
   ]
  },
  {
   "cell_type": "code",
   "execution_count": 2,
   "id": "86402558-b6d4-4c12-9172-46545844b540",
   "metadata": {},
   "outputs": [],
   "source": [
    "masks = h5py.File('mae_mask_t75_p75_small.h5', 'r')"
   ]
  },
  {
   "cell_type": "code",
   "execution_count": 4,
   "id": "81b0a717-048f-46d8-a266-a09455c39043",
   "metadata": {},
   "outputs": [
    {
     "data": {
      "text/plain": [
       "(218596, 1, 64, 64)"
      ]
     },
     "execution_count": 4,
     "metadata": {},
     "output_type": "execute_result"
    }
   ],
   "source": [
    "masks['valid'].shape"
   ]
  },
  {
   "cell_type": "markdown",
   "id": "1729e6c1-38c7-4a08-af72-a4463d9305cb",
   "metadata": {},
   "source": [
    "## Check one"
   ]
  },
  {
   "cell_type": "code",
   "execution_count": 50,
   "id": "6ee57e88-0ee5-4309-9a82-abc09d58562e",
   "metadata": {},
   "outputs": [
    {
     "data": {
      "image/png": "[encoded data removed]",
      "text/plain": [
       "<Figure size 432x288 with 2 Axes>"
      ]
     },
     "metadata": {
      "needs_background": "light"
     },
     "output_type": "display_data"
    }
   ],
   "source": [
    "plt.clf()\n",
    "img = plt.imshow(masks['valid'][0, 0, ...], origin='lower')\n",
    "plt.colorbar(img)\n",
    "plt.show()"
   ]
  },
  {
   "cell_type": "code",
   "execution_count": 11,
   "id": "1ce65f9e-789b-404d-9585-b6cb04bb54e3",
   "metadata": {},
   "outputs": [
    {
     "data": {
      "text/plain": [
       "array([0., 1.], dtype=float32)"
      ]
     },
     "execution_count": 11,
     "metadata": {},
     "output_type": "execute_result"
    }
   ],
   "source": [
    "mask0 = masks['valid'][0, 0, ...]\n",
    "np.unique(mask0)"
   ]
  },
  {
   "cell_type": "markdown",
   "id": "0baeaf06-17a7-42a1-99a4-8aaece6a8981",
   "metadata": {},
   "source": [
    "# Mask"
   ]
  },
  {
   "cell_type": "code",
   "execution_count": 64,
   "id": "82681ced-5f4a-4d8a-b8aa-29ef2676be33",
   "metadata": {},
   "outputs": [
    {
     "data": {
      "text/plain": [
       "(array([0, 0, 0, 0, 0, 0, 0, 0, 0, 0, 0, 0, 0, 0, 0, 0, 0, 0, 0, 0, 0, 0,\n",
       "        0, 0, 0, 0, 0, 0, 0, 0]),\n",
       " array([ 0,  1,  2,  3,  4,  5,  6,  7,  8,  9, 10, 11, 16, 17, 18, 19, 20,\n",
       "        21, 22, 23, 24, 25, 26, 27, 28, 29, 30, 31, 32, 33]))"
      ]
     },
     "execution_count": 64,
     "metadata": {},
     "output_type": "execute_result"
    }
   ],
   "source": [
    "mask = np.where(mask0 == 1.)\n",
    "mask[0][0:30], mask[1][0:30]"
   ]
  },
  {
   "cell_type": "markdown",
   "id": "9e9387f9-1aad-420b-b133-9963b0177742",
   "metadata": {},
   "source": [
    "# Find the patches"
   ]
  },
  {
   "cell_type": "code",
   "execution_count": 65,
   "id": "16d19725-5a43-4bad-aaca-83b797ce99d6",
   "metadata": {},
   "outputs": [],
   "source": [
    "p_sz = 4"
   ]
  },
  {
   "cell_type": "code",
   "execution_count": 66,
   "id": "339d02a4-7274-48ec-ad7e-2cca4835ca77",
   "metadata": {},
   "outputs": [
    {
     "data": {
      "text/plain": [
       "array([   0,    1,    2, ..., 4093, 4094, 4095])"
      ]
     },
     "execution_count": 66,
     "metadata": {},
     "output_type": "execute_result"
    }
   ],
   "source": [
    "idx = np.ravel_multi_index((mask[0], mask[1]), mask0.shape)\n",
    "idx"
   ]
  },
  {
   "cell_type": "code",
   "execution_count": 67,
   "id": "6a733acb-cb9e-4e7b-9221-dc0a549b3fd1",
   "metadata": {},
   "outputs": [
    {
     "data": {
      "text/plain": [
       "3072.0"
      ]
     },
     "execution_count": 67,
     "metadata": {},
     "output_type": "execute_result"
    }
   ],
   "source": [
    "np.sum(mask0.flatten()[idx])"
   ]
  },
  {
   "cell_type": "markdown",
   "id": "fd680a3b-52fb-4654-b177-9be15304b951",
   "metadata": {},
   "source": [
    "# Patch finding"
   ]
  },
  {
   "cell_type": "markdown",
   "id": "6fdfd299-d688-4ada-996d-3a999f23b4cd",
   "metadata": {},
   "source": [
    "## Search and Record"
   ]
  },
  {
   "cell_type": "code",
   "execution_count": 73,
   "id": "4e7cbcf3-abb2-4ff0-b0ac-27fc386625fa",
   "metadata": {},
   "outputs": [],
   "source": [
    "flat_mask0 = mask0.flatten().astype(int)\n",
    "patches = []\n",
    "for ss in range(mask0.size):\n",
    "    if flat_mask0[ss] == 1:\n",
    "        patches.append(ss)\n",
    "        # Fill in the patch\n",
    "        i, j = np.unravel_index(ss, mask0.shape)\n",
    "        #import pdb; pdb.set_trace()\n",
    "        i_s = (i+np.arange(p_sz)).tolist() * p_sz\n",
    "        j_s = []\n",
    "        for kk in range(p_sz):\n",
    "            j_s.extend([j+kk]*p_sz)\n",
    "        f_idx = np.ravel_multi_index((i_s, j_s), mask0.shape)\n",
    "        flat_mask0[f_idx] = 0"
   ]
  },
  {
   "cell_type": "markdown",
   "id": "a9bce6ba-8cc9-449a-afdd-8490e0c14b74",
   "metadata": {},
   "source": [
    "## Recreate"
   ]
  },
  {
   "cell_type": "code",
   "execution_count": 74,
   "id": "35ceec42-af81-497e-9221-e00dab6378a5",
   "metadata": {},
   "outputs": [],
   "source": [
    "recon = np.zeros_like(mask0)\n",
    "for patch in patches:\n",
    "    i, j = np.unravel_index(patch, mask0.shape)\n",
    "    #\n",
    "    recon[i:i+p_sz, j:j+p_sz] = 1"
   ]
  },
  {
   "cell_type": "code",
   "execution_count": 75,
   "id": "1a58cb13-75bd-47b8-8713-6ff786a9b86a",
   "metadata": {},
   "outputs": [
    {
     "data": {
      "image/png": "[encoded data removed]",
      "text/plain": [
       "<Figure size 432x288 with 2 Axes>"
      ]
     },
     "metadata": {
      "needs_background": "light"
     },
     "output_type": "display_data"
    }
   ],
   "source": [
    "fig, (ax1, ax2) = plt.subplots(1, 2)\n",
    "\n",
    "ax1.imshow(mask0, origin='lower')\n",
    "ax2.imshow(recon, origin='lower')\n",
    "#ax1.colorbar(img)\n",
    "#\n",
    "plt.show()"
   ]
  },
  {
   "cell_type": "code",
   "execution_count": null,
   "id": "eaa0da66-5835-47b3-8c53-73ed6cd68aae",
   "metadata": {},
   "outputs": [],
   "source": []
  },
  {
   "cell_type": "code",
   "execution_count": null,
   "id": "1d7f5570-ded2-4ac1-abad-a0dbbafeaee5",
   "metadata": {},
   "outputs": [],
   "source": []
  }
 ],
 "metadata": {
  "kernelspec": {
   "display_name": "Python 3 (ipykernel)",
   "language": "python",
   "name": "python3"
  },
  "language_info": {
   "codemirror_mode": {
    "name": "ipython",
    "version": 3
   },
   "file_extension": ".py",
   "mimetype": "text/x-python",
   "name": "python",
   "nbconvert_exporter": "python",
   "pygments_lexer": "ipython3",
   "version": "3.9.7"
  }
 },
 "nbformat": 4,
 "nbformat_minor": 5
}
