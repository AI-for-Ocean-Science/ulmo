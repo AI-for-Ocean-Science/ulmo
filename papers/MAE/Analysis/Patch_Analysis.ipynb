{
 "cells": [
  {
   "cell_type": "markdown",
   "id": "c002decf-c8b4-4961-b24b-3a3629e5cabd",
   "metadata": {},
   "source": [
    "# Patch Analysis"
   ]
  },
  {
   "cell_type": "code",
   "execution_count": 59,
   "id": "c04855e4-bcbd-40ea-afe0-e7a5f8798a4d",
   "metadata": {},
   "outputs": [],
   "source": [
    "# Imports\n",
    "from importlib import reload\n",
    "\n",
    "import numpy as np\n",
    "\n",
    "import pandas\n",
    "import seaborn as sns\n",
    "from matplotlib import pyplot as plt\n",
    "import scipy\n",
    "\n",
    "from ulmo.plotting import plotting\n",
    "\n",
    "import anly_patches"
   ]
  },
  {
   "cell_type": "code",
   "execution_count": 60,
   "id": "371fa65d-57ad-474e-b8a4-d09433d46bb1",
   "metadata": {},
   "outputs": [
    {
     "data": {
      "text/plain": [
       "<module 'anly_patches' from '/home/xavier/Projects/Oceanography/python/ulmo/papers/MAE/Analysis/py/anly_patches.py'>"
      ]
     },
     "execution_count": 60,
     "metadata": {},
     "output_type": "execute_result"
    }
   ],
   "source": []
  },
  {
   "cell_type": "markdown",
   "id": "5bfa2478-05f7-4f9c-8871-58b170e83b9c",
   "metadata": {},
   "source": [
    "# Load the output file"
   ]
  },
  {
   "cell_type": "code",
   "execution_count": 45,
   "id": "da8a79d3-4f29-4648-baee-50d5b5e9113b",
   "metadata": {},
   "outputs": [
    {
     "data": {
      "text/plain": [
       "['data', 'items']"
      ]
     },
     "execution_count": 45,
     "metadata": {},
     "output_type": "execute_result"
    }
   ],
   "source": [
    "f = np.load('mae_patches_t10_p20.npz')\n",
    "list(f.keys())"
   ]
  },
  {
   "cell_type": "code",
   "execution_count": 46,
   "id": "b1231194-bce9-428c-9733-2ab1da4c5108",
   "metadata": {},
   "outputs": [
    {
     "data": {
      "text/plain": [
       "array(['meanT', 'stdT', 'median_diff', 'std_diff', 'max_diff', 'i', 'j'],\n",
       "      dtype='<U11')"
      ]
     },
     "execution_count": 46,
     "metadata": {},
     "output_type": "execute_result"
    }
   ],
   "source": [
    "data = f['data']\n",
    "items = f['items']\n",
    "items"
   ]
  },
  {
   "cell_type": "code",
   "execution_count": 47,
   "id": "6978cca8-a478-4f4b-b7d8-d7116b9e4303",
   "metadata": {},
   "outputs": [
    {
     "data": {
      "text/plain": [
       "(10000, 52, 7)"
      ]
     },
     "execution_count": 47,
     "metadata": {},
     "output_type": "execute_result"
    }
   ],
   "source": [
    "data.shape"
   ]
  },
  {
   "cell_type": "markdown",
   "id": "cf1c17e3-6d45-4e55-a25c-6638296be0d9",
   "metadata": {},
   "source": [
    "## Reshape"
   ]
  },
  {
   "cell_type": "code",
   "execution_count": 48,
   "id": "742b8772-0cdb-4a9a-9d63-5eca0484d6d9",
   "metadata": {},
   "outputs": [],
   "source": [
    "data = data.reshape((data.shape[0]*data.shape[1], data.shape[2]))"
   ]
  },
  {
   "cell_type": "markdown",
   "id": "6da77a23-baf9-49a1-ade1-dd66bdd55011",
   "metadata": {},
   "source": [
    "# Table me"
   ]
  },
  {
   "cell_type": "code",
   "execution_count": 49,
   "id": "28274398-9e47-4c3b-9ba4-7b26886febdd",
   "metadata": {},
   "outputs": [
    {
     "data": {
      "text/html": [
       "<div>\n",
       "<style scoped>\n",
       "    .dataframe tbody tr th:only-of-type {\n",
       "        vertical-align: middle;\n",
       "    }\n",
       "\n",
       "    .dataframe tbody tr th {\n",
       "        vertical-align: top;\n",
       "    }\n",
       "\n",
       "    .dataframe thead th {\n",
       "        text-align: right;\n",
       "    }\n",
       "</style>\n",
       "<table border=\"1\" class=\"dataframe\">\n",
       "  <thead>\n",
       "    <tr style=\"text-align: right;\">\n",
       "      <th></th>\n",
       "      <th>meanT</th>\n",
       "      <th>stdT</th>\n",
       "      <th>median_diff</th>\n",
       "      <th>std_diff</th>\n",
       "      <th>max_diff</th>\n",
       "      <th>i</th>\n",
       "      <th>j</th>\n",
       "    </tr>\n",
       "  </thead>\n",
       "  <tbody>\n",
       "    <tr>\n",
       "      <th>0</th>\n",
       "      <td>0.565716</td>\n",
       "      <td>0.124143</td>\n",
       "      <td>-0.146675</td>\n",
       "      <td>0.079534</td>\n",
       "      <td>0.292810</td>\n",
       "      <td>0.0</td>\n",
       "      <td>40.0</td>\n",
       "    </tr>\n",
       "    <tr>\n",
       "      <th>1</th>\n",
       "      <td>0.732437</td>\n",
       "      <td>0.050911</td>\n",
       "      <td>-0.043529</td>\n",
       "      <td>0.045282</td>\n",
       "      <td>0.147853</td>\n",
       "      <td>0.0</td>\n",
       "      <td>44.0</td>\n",
       "    </tr>\n",
       "    <tr>\n",
       "      <th>2</th>\n",
       "      <td>-0.283329</td>\n",
       "      <td>0.032693</td>\n",
       "      <td>0.010058</td>\n",
       "      <td>0.007569</td>\n",
       "      <td>0.024012</td>\n",
       "      <td>4.0</td>\n",
       "      <td>0.0</td>\n",
       "    </tr>\n",
       "    <tr>\n",
       "      <th>3</th>\n",
       "      <td>-0.084868</td>\n",
       "      <td>0.017589</td>\n",
       "      <td>0.011065</td>\n",
       "      <td>0.005283</td>\n",
       "      <td>0.020870</td>\n",
       "      <td>4.0</td>\n",
       "      <td>16.0</td>\n",
       "    </tr>\n",
       "    <tr>\n",
       "      <th>4</th>\n",
       "      <td>0.820333</td>\n",
       "      <td>0.015397</td>\n",
       "      <td>0.000440</td>\n",
       "      <td>0.005214</td>\n",
       "      <td>0.008616</td>\n",
       "      <td>4.0</td>\n",
       "      <td>48.0</td>\n",
       "    </tr>\n",
       "  </tbody>\n",
       "</table>\n",
       "</div>"
      ],
      "text/plain": [
       "      meanT      stdT  median_diff  std_diff  max_diff    i     j\n",
       "0  0.565716  0.124143    -0.146675  0.079534  0.292810  0.0  40.0\n",
       "1  0.732437  0.050911    -0.043529  0.045282  0.147853  0.0  44.0\n",
       "2 -0.283329  0.032693     0.010058  0.007569  0.024012  4.0   0.0\n",
       "3 -0.084868  0.017589     0.011065  0.005283  0.020870  4.0  16.0\n",
       "4  0.820333  0.015397     0.000440  0.005214  0.008616  4.0  48.0"
      ]
     },
     "execution_count": 49,
     "metadata": {},
     "output_type": "execute_result"
    }
   ],
   "source": [
    "tbl = pandas.DataFrame(data, columns=items)\n",
    "tbl.head()"
   ]
  },
  {
   "cell_type": "code",
   "execution_count": 50,
   "id": "a3936987-d803-44b5-bc81-ca1d5e50b70a",
   "metadata": {},
   "outputs": [
    {
     "data": {
      "text/plain": [
       "16"
      ]
     },
     "execution_count": 50,
     "metadata": {},
     "output_type": "execute_result"
    }
   ],
   "source": [
    "np.unique(tbl.i).size"
   ]
  },
  {
   "cell_type": "markdown",
   "id": "da61aa6f-c61a-46f0-96f1-8fd3c7557c84",
   "metadata": {},
   "source": [
    "# Plot something"
   ]
  },
  {
   "cell_type": "markdown",
   "id": "c825d805-c81b-4e04-80c1-e118990da47a",
   "metadata": {},
   "source": [
    "## Binned stats"
   ]
  },
  {
   "cell_type": "code",
   "execution_count": 86,
   "id": "617d076e-ca08-4800-aed3-df7859b182b5",
   "metadata": {},
   "outputs": [],
   "source": [
    "nbins = 16\n",
    "#metric = 'abs_median_diff'\n",
    "#metric = 'median_diff'\n",
    "metric = 'std_diff'\n",
    "#stat = 'median'\n",
    "stat = 'mean'\n",
    "#stat = 'std'\n",
    "\n",
    "reload(anly_patches)\n",
    "values, lbl = anly_patches.parse_metric(tbl, metric)\n",
    "\n",
    "# Do it\n",
    "median, x_edge, y_edge, ibins = scipy.stats.binned_statistic_2d(\n",
    "    tbl.i, tbl.j, values,\n",
    "        statistic=stat, expand_binnumbers=True, bins=[nbins,nbins])"
   ]
  },
  {
   "cell_type": "code",
   "execution_count": 87,
   "id": "1f5cbe32-ca6a-4109-97ad-93ae05c19fa7",
   "metadata": {},
   "outputs": [
    {
     "data": {
      "image/png": "[encoded data removed]",
      "text/plain": [
       "<Figure size 576x576 with 2 Axes>"
      ]
     },
     "metadata": {
      "needs_background": "light"
     },
     "output_type": "display_data"
    }
   ],
   "source": [
    "fig = plt.figure(figsize=(8, 8))\n",
    "plt.clf()\n",
    "ax = plt.gca()\n",
    "\n",
    "cmap = 'Blues'\n",
    "cm = plt.get_cmap(cmap)\n",
    "mplt = ax.pcolormesh(x_edge, y_edge, \n",
    "                 median.transpose(),\n",
    "                 cmap=cm, \n",
    "                 vmax=None) \n",
    "# Color bar\n",
    "cbaxes = plt.colorbar(mplt, pad=0., fraction=0.030)\n",
    "cbaxes.set_label(f'{stat}({lbl})', fontsize=17.)\n",
    "cbaxes.ax.tick_params(labelsize=15)\n",
    "\n",
    "# Axes\n",
    "ax.set_xlabel(r'i')\n",
    "ax.set_ylabel(r'j')\n",
    "\n",
    "plotting.set_fontsize(ax, 15)\n",
    "\n",
    "plt.show()"
   ]
  },
  {
   "cell_type": "markdown",
   "id": "3ba31cc5-98b1-466e-b79b-632d9ae1b85b",
   "metadata": {},
   "source": [
    "## Other patch properties: meanT, $\\sigma$(T)"
   ]
  },
  {
   "cell_type": "code",
   "execution_count": 98,
   "id": "fdb75920-d57c-45fe-93b1-801ea2ad3d92",
   "metadata": {},
   "outputs": [],
   "source": [
    "nbins = 32\n",
    "#metric = 'abs_median_diff'\n",
    "#metric = 'median_diff'\n",
    "metric = 'log10_std_diff'\n",
    "stat = 'median'\n",
    "#stat = 'mean'\n",
    "#stat = 'std'\n",
    "\n",
    "x,y = 'meanT', 'stdT'\n",
    "\n",
    "reload(anly_patches)\n",
    "values, lbl = anly_patches.parse_metric(tbl, metric)\n",
    "\n",
    "# Do it\n",
    "median, x_edge, y_edge, ibins = scipy.stats.binned_statistic_2d(\n",
    "    tbl[x], np.log10(tbl[y]), values,\n",
    "        statistic=stat, expand_binnumbers=True, bins=[nbins,nbins])"
   ]
  },
  {
   "cell_type": "code",
   "execution_count": 100,
   "id": "85da5365-4cf4-471c-990b-a59b107b5945",
   "metadata": {},
   "outputs": [
    {
     "data": {
      "image/png": "[encoded data removed]",
      "text/plain": [
       "<Figure size 576x576 with 2 Axes>"
      ]
     },
     "metadata": {
      "needs_background": "light"
     },
     "output_type": "display_data"
    }
   ],
   "source": [
    "fig = plt.figure(figsize=(8, 8))\n",
    "plt.clf()\n",
    "ax = plt.gca()\n",
    "\n",
    "cmap = 'plasma'\n",
    "cm = plt.get_cmap(cmap)\n",
    "mplt = ax.pcolormesh(x_edge, y_edge, \n",
    "                 median.transpose(),\n",
    "                 cmap=cm, \n",
    "                 vmax=None) \n",
    "# Color bar\n",
    "cbaxes = plt.colorbar(mplt, pad=0., fraction=0.030)\n",
    "cbaxes.set_label(f'{stat}({lbl})', fontsize=17.)\n",
    "cbaxes.ax.tick_params(labelsize=15)\n",
    "\n",
    "# Axes\n",
    "ax.set_xlabel(x)\n",
    "ax.set_ylabel(y)\n",
    "\n",
    "plotting.set_fontsize(ax, 15)\n",
    "\n",
    "plt.show()"
   ]
  },
  {
   "cell_type": "markdown",
   "id": "5d9f917d-b5a2-4d9b-8352-802d843940ce",
   "metadata": {},
   "source": [
    "# One-D"
   ]
  },
  {
   "cell_type": "code",
   "execution_count": 116,
   "id": "9e965318-36bd-4796-9e36-1b0bd4c10bdf",
   "metadata": {},
   "outputs": [],
   "source": [
    "reload(anly_patches)\n",
    "\n",
    "nbins = 32\n",
    "#metric = 'abs_median_diff'\n",
    "#metric = 'median_diff'\n",
    "metric = 'log10_std_diff'\n",
    "stat = 'median'\n",
    "#stat = 'mean'\n",
    "#stat = 'std'\n",
    "\n",
    "x_metric = 'log10_stdT'\n",
    "xvalues, x_lbl = anly_patches.parse_metric(tbl, x_metric)\n",
    "\n",
    "values, lbl = anly_patches.parse_metric(tbl, metric)\n",
    "\n",
    "# Do it\n",
    "eval_stats, x_edge, ibins = scipy.stats.binned_statistic(\n",
    "    xvalues, values, statistic=stat, bins=nbins)"
   ]
  },
  {
   "cell_type": "code",
   "execution_count": 120,
   "id": "4fbea72c-4172-44f8-ba59-271656db0927",
   "metadata": {},
   "outputs": [
    {
     "data": {
      "image/png": "[encoded data removed]",
      "text/plain": [
       "<Figure size 576x576 with 1 Axes>"
      ]
     },
     "metadata": {
      "needs_background": "light"
     },
     "output_type": "display_data"
    }
   ],
   "source": [
    "fig = plt.figure(figsize=(8, 8))\n",
    "plt.clf()\n",
    "ax = plt.gca()\n",
    "\n",
    "plt_x = (x_edge[:-1]+x_edge[1:])/2\n",
    "ax.plot(plt_x, eval_stats)\n",
    "\n",
    "# Axes\n",
    "ax.set_xlabel(x_lbl)\n",
    "ax.set_ylabel(f'{stat}({lbl})')\n",
    "\n",
    "plotting.set_fontsize(ax, 15)\n",
    "\n",
    "# 1-1\n",
    "ax.plot(plt_x, plt_x, 'k--')\n",
    "\n",
    "plt.show()"
   ]
  },
  {
   "cell_type": "code",
   "execution_count": null,
   "id": "ef8e9684-8c9b-4f26-94a7-18e27a13d628",
   "metadata": {},
   "outputs": [],
   "source": []
  }
 ],
 "metadata": {
  "kernelspec": {
   "display_name": "Python 3 (ipykernel)",
   "language": "python",
   "name": "python3"
  },
  "language_info": {
   "codemirror_mode": {
    "name": "ipython",
    "version": 3
   },
   "file_extension": ".py",
   "mimetype": "text/x-python",
   "name": "python",
   "nbconvert_exporter": "python",
   "pygments_lexer": "ipython3",
   "version": "3.9.7"
  }
 },
 "nbformat": 4,
 "nbformat_minor": 5
}
