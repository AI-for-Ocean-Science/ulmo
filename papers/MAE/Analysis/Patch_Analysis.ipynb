{
 "cells": [
  {
   "cell_type": "markdown",
   "id": "c002decf-c8b4-4961-b24b-3a3629e5cabd",
   "metadata": {},
   "source": [
    "# Patch Analysis"
   ]
  },
  {
   "cell_type": "code",
   "execution_count": 7,
   "id": "c04855e4-bcbd-40ea-afe0-e7a5f8798a4d",
   "metadata": {},
   "outputs": [],
   "source": [
    "# Imports\n",
    "import numpy as np\n",
    "\n",
    "import pandas\n",
    "import seaborn as sns"
   ]
  },
  {
   "cell_type": "markdown",
   "id": "5bfa2478-05f7-4f9c-8871-58b170e83b9c",
   "metadata": {},
   "source": [
    "# Load the output file"
   ]
  },
  {
   "cell_type": "code",
   "execution_count": 25,
   "id": "da8a79d3-4f29-4648-baee-50d5b5e9113b",
   "metadata": {},
   "outputs": [
    {
     "data": {
      "text/plain": [
       "['data', 'items']"
      ]
     },
     "execution_count": 25,
     "metadata": {},
     "output_type": "execute_result"
    }
   ],
   "source": [
    "f = np.load('mae_patches_t10_p20.npz')\n",
    "list(f.keys())"
   ]
  },
  {
   "cell_type": "code",
   "execution_count": 26,
   "id": "b1231194-bce9-428c-9733-2ab1da4c5108",
   "metadata": {},
   "outputs": [
    {
     "data": {
      "text/plain": [
       "array(['meanT', 'stdT', 'mean_diff', 'std_diff', 'max_diff', 'i', 'j'],\n",
       "      dtype='<U9')"
      ]
     },
     "execution_count": 26,
     "metadata": {},
     "output_type": "execute_result"
    }
   ],
   "source": [
    "data = f['data']\n",
    "items = f['items']\n",
    "items"
   ]
  },
  {
   "cell_type": "code",
   "execution_count": 27,
   "id": "6978cca8-a478-4f4b-b7d8-d7116b9e4303",
   "metadata": {},
   "outputs": [
    {
     "data": {
      "text/plain": [
       "(10000, 52, 7)"
      ]
     },
     "execution_count": 27,
     "metadata": {},
     "output_type": "execute_result"
    }
   ],
   "source": [
    "data.shape"
   ]
  },
  {
   "cell_type": "markdown",
   "id": "cf1c17e3-6d45-4e55-a25c-6638296be0d9",
   "metadata": {},
   "source": [
    "## Reshape"
   ]
  },
  {
   "cell_type": "code",
   "execution_count": 28,
   "id": "742b8772-0cdb-4a9a-9d63-5eca0484d6d9",
   "metadata": {},
   "outputs": [],
   "source": [
    "data = data.reshape((data.shape[0]*data.shape[1], data.shape[2]))"
   ]
  },
  {
   "cell_type": "markdown",
   "id": "6da77a23-baf9-49a1-ade1-dd66bdd55011",
   "metadata": {},
   "source": [
    "# Table me"
   ]
  },
  {
   "cell_type": "code",
   "execution_count": 29,
   "id": "28274398-9e47-4c3b-9ba4-7b26886febdd",
   "metadata": {},
   "outputs": [
    {
     "data": {
      "text/html": [
       "<div>\n",
       "<style scoped>\n",
       "    .dataframe tbody tr th:only-of-type {\n",
       "        vertical-align: middle;\n",
       "    }\n",
       "\n",
       "    .dataframe tbody tr th {\n",
       "        vertical-align: top;\n",
       "    }\n",
       "\n",
       "    .dataframe thead th {\n",
       "        text-align: right;\n",
       "    }\n",
       "</style>\n",
       "<table border=\"1\" class=\"dataframe\">\n",
       "  <thead>\n",
       "    <tr style=\"text-align: right;\">\n",
       "      <th></th>\n",
       "      <th>meanT</th>\n",
       "      <th>stdT</th>\n",
       "      <th>mean_diff</th>\n",
       "      <th>std_diff</th>\n",
       "      <th>max_diff</th>\n",
       "      <th>i</th>\n",
       "      <th>j</th>\n",
       "    </tr>\n",
       "  </thead>\n",
       "  <tbody>\n",
       "    <tr>\n",
       "      <th>0</th>\n",
       "      <td>0.565716</td>\n",
       "      <td>0.124143</td>\n",
       "      <td>-0.149936</td>\n",
       "      <td>0.079534</td>\n",
       "      <td>0.292810</td>\n",
       "      <td>0.0</td>\n",
       "      <td>40.0</td>\n",
       "    </tr>\n",
       "    <tr>\n",
       "      <th>1</th>\n",
       "      <td>0.732437</td>\n",
       "      <td>0.050911</td>\n",
       "      <td>-0.053818</td>\n",
       "      <td>0.045282</td>\n",
       "      <td>0.147853</td>\n",
       "      <td>0.0</td>\n",
       "      <td>44.0</td>\n",
       "    </tr>\n",
       "    <tr>\n",
       "      <th>2</th>\n",
       "      <td>-0.283329</td>\n",
       "      <td>0.032693</td>\n",
       "      <td>0.009533</td>\n",
       "      <td>0.007569</td>\n",
       "      <td>0.024012</td>\n",
       "      <td>4.0</td>\n",
       "      <td>0.0</td>\n",
       "    </tr>\n",
       "    <tr>\n",
       "      <th>3</th>\n",
       "      <td>-0.084868</td>\n",
       "      <td>0.017589</td>\n",
       "      <td>0.011495</td>\n",
       "      <td>0.005283</td>\n",
       "      <td>0.020870</td>\n",
       "      <td>4.0</td>\n",
       "      <td>16.0</td>\n",
       "    </tr>\n",
       "    <tr>\n",
       "      <th>4</th>\n",
       "      <td>0.820333</td>\n",
       "      <td>0.015397</td>\n",
       "      <td>0.000356</td>\n",
       "      <td>0.005214</td>\n",
       "      <td>0.008616</td>\n",
       "      <td>4.0</td>\n",
       "      <td>48.0</td>\n",
       "    </tr>\n",
       "  </tbody>\n",
       "</table>\n",
       "</div>"
      ],
      "text/plain": [
       "      meanT      stdT  mean_diff  std_diff  max_diff    i     j\n",
       "0  0.565716  0.124143  -0.149936  0.079534  0.292810  0.0  40.0\n",
       "1  0.732437  0.050911  -0.053818  0.045282  0.147853  0.0  44.0\n",
       "2 -0.283329  0.032693   0.009533  0.007569  0.024012  4.0   0.0\n",
       "3 -0.084868  0.017589   0.011495  0.005283  0.020870  4.0  16.0\n",
       "4  0.820333  0.015397   0.000356  0.005214  0.008616  4.0  48.0"
      ]
     },
     "execution_count": 29,
     "metadata": {},
     "output_type": "execute_result"
    }
   ],
   "source": [
    "tbl = pandas.DataFrame(data, columns=items)\n",
    "tbl.head()"
   ]
  },
  {
   "cell_type": "markdown",
   "id": "da61aa6f-c61a-46f0-96f1-8fd3c7557c84",
   "metadata": {},
   "source": [
    "# Plot something"
   ]
  },
  {
   "cell_type": "code",
   "execution_count": 31,
   "id": "82569a95-1699-443d-8fa7-5361042daa72",
   "metadata": {},
   "outputs": [
    {
     "data": {
      "text/plain": [
       "<seaborn.axisgrid.JointGrid at 0x7fac20fb9940>"
      ]
     },
     "execution_count": 31,
     "metadata": {},
     "output_type": "execute_result"
    },
    {
     "data": {
      "image/png": "[encoded data removed]",
      "text/plain": [
       "<Figure size 432x432 with 3 Axes>"
      ]
     },
     "metadata": {
      "needs_background": "light"
     },
     "output_type": "display_data"
    }
   ],
   "source": [
    "sns.jointplot(data=tbl, x='stdT', y='std_diff', kind='hex', \n",
    "              gridsize=250, bins='log')"
   ]
  },
  {
   "cell_type": "code",
   "execution_count": null,
   "id": "b22236b9-39fe-4aec-ba8e-9d0563fdf650",
   "metadata": {},
   "outputs": [],
   "source": []
  }
 ],
 "metadata": {
  "kernelspec": {
   "display_name": "Python 3 (ipykernel)",
   "language": "python",
   "name": "python3"
  },
  "language_info": {
   "codemirror_mode": {
    "name": "ipython",
    "version": 3
   },
   "file_extension": ".py",
   "mimetype": "text/x-python",
   "name": "python",
   "nbconvert_exporter": "python",
   "pygments_lexer": "ipython3",
   "version": "3.9.7"
  }
 },
 "nbformat": 4,
 "nbformat_minor": 5
}
