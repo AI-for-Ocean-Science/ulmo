{
 "cells": [
  {
   "cell_type": "markdown",
   "id": "0a99a7ee-a247-4023-b7a0-2c35285b0ec3",
   "metadata": {},
   "source": [
    "# Exploring the bias"
   ]
  },
  {
   "cell_type": "code",
   "execution_count": 1,
   "id": "38f51d0f-e045-4def-b804-5833d318c642",
   "metadata": {
    "tags": []
   },
   "outputs": [],
   "source": [
    "# imports\n",
    "\"\"\" Routines to analyze patches \"\"\"\n",
    "import numpy as np\n",
    "import os\n",
    "\n",
    "import h5py\n",
    "\n",
    "import pandas\n",
    "\n",
    "import seaborn as sns"
   ]
  },
  {
   "cell_type": "markdown",
   "id": "b71db58d-1359-4501-9380-fb914ff0c67a",
   "metadata": {},
   "source": [
    "# Files"
   ]
  },
  {
   "cell_type": "code",
   "execution_count": 2,
   "id": "64d2e2a6-d896-46ee-9c84-e513ed9a9ade",
   "metadata": {
    "tags": []
   },
   "outputs": [],
   "source": [
    "preproc_path = os.path.join(os.getenv('OS_AI'), 'MAE', 'PreProc')\n",
    "recon_path = os.path.join(os.getenv('OS_AI'), 'MAE', 'Recon')\n",
    "orig_file = os.path.join(preproc_path, 'MAE_LLC_valid_nonoise_preproc.h5')\n",
    "recon_file = os.path.join(recon_path, 'mae_reconstruct_t75_p10.h5')\n",
    "mask_file = os.path.join(recon_path, 'mae_mask_t75_p10.h5')"
   ]
  },
  {
   "cell_type": "markdown",
   "id": "87fa1549-7148-428a-9647-d33d47b8e508",
   "metadata": {},
   "source": [
    "# Measure the bias"
   ]
  },
  {
   "cell_type": "code",
   "execution_count": 3,
   "id": "a510349b-1139-4b71-aab1-2ac0dd534ad9",
   "metadata": {
    "tags": []
   },
   "outputs": [],
   "source": [
    "# Load up images\n",
    "f_orig = h5py.File(orig_file, 'r')\n",
    "f_recon = h5py.File(recon_file, 'r')\n",
    "f_mask = h5py.File(mask_file, 'r')\n",
    "\n",
    "median_biases = []\n",
    "mean_biases = []\n",
    "for idx in range(10000):\n",
    "    orig_img = f_orig['valid'][idx,0,...]\n",
    "    recon_img = f_recon['valid'][idx,0,...]\n",
    "    mask_img = f_mask['valid'][idx,0,...]\n",
    "\n",
    "    diff_true = recon_img - orig_img \n",
    "\n",
    "    median_bias = np.median(diff_true[np.abs(diff_true) > 0.])\n",
    "    mean_bias = np.mean(diff_true[np.abs(diff_true) > 0.])\n",
    "    #mean_img = np.mean(orig_img[np.isclose(mask_img,0.)])\n",
    "    # Save\n",
    "    median_biases.append(median_bias)\n",
    "    mean_biases.append(mean_bias)"
   ]
  },
  {
   "cell_type": "markdown",
   "id": "ad03d1eb-33b5-4f2b-bf06-87bcf20e53a9",
   "metadata": {},
   "source": [
    "# Stats"
   ]
  },
  {
   "cell_type": "code",
   "execution_count": 4,
   "id": "f127b0e1-a9c2-4b63-9e51-3ce24e998751",
   "metadata": {
    "tags": []
   },
   "outputs": [],
   "source": [
    "df = pandas.DataFrame({'median_bias': median_biases,\n",
    "                       'mean_bias': mean_biases})"
   ]
  },
  {
   "cell_type": "code",
   "execution_count": 5,
   "id": "c902e222-cdf4-407c-95de-5bcbb2448c94",
   "metadata": {
    "tags": []
   },
   "outputs": [
    {
     "data": {
      "text/html": [
       "<div>\n",
       "<style scoped>\n",
       "    .dataframe tbody tr th:only-of-type {\n",
       "        vertical-align: middle;\n",
       "    }\n",
       "\n",
       "    .dataframe tbody tr th {\n",
       "        vertical-align: top;\n",
       "    }\n",
       "\n",
       "    .dataframe thead th {\n",
       "        text-align: right;\n",
       "    }\n",
       "</style>\n",
       "<table border=\"1\" class=\"dataframe\">\n",
       "  <thead>\n",
       "    <tr style=\"text-align: right;\">\n",
       "      <th></th>\n",
       "      <th>median_bias</th>\n",
       "      <th>mean_bias</th>\n",
       "    </tr>\n",
       "  </thead>\n",
       "  <tbody>\n",
       "    <tr>\n",
       "      <th>0</th>\n",
       "      <td>0.038407</td>\n",
       "      <td>0.038477</td>\n",
       "    </tr>\n",
       "    <tr>\n",
       "      <th>1</th>\n",
       "      <td>0.031939</td>\n",
       "      <td>0.031265</td>\n",
       "    </tr>\n",
       "    <tr>\n",
       "      <th>2</th>\n",
       "      <td>0.027058</td>\n",
       "      <td>0.025236</td>\n",
       "    </tr>\n",
       "    <tr>\n",
       "      <th>3</th>\n",
       "      <td>0.042688</td>\n",
       "      <td>0.043436</td>\n",
       "    </tr>\n",
       "    <tr>\n",
       "      <th>4</th>\n",
       "      <td>0.048007</td>\n",
       "      <td>0.047166</td>\n",
       "    </tr>\n",
       "    <tr>\n",
       "      <th>...</th>\n",
       "      <td>...</td>\n",
       "      <td>...</td>\n",
       "    </tr>\n",
       "    <tr>\n",
       "      <th>9995</th>\n",
       "      <td>0.021377</td>\n",
       "      <td>0.023236</td>\n",
       "    </tr>\n",
       "    <tr>\n",
       "      <th>9996</th>\n",
       "      <td>0.018002</td>\n",
       "      <td>0.019443</td>\n",
       "    </tr>\n",
       "    <tr>\n",
       "      <th>9997</th>\n",
       "      <td>0.029167</td>\n",
       "      <td>0.029377</td>\n",
       "    </tr>\n",
       "    <tr>\n",
       "      <th>9998</th>\n",
       "      <td>0.027276</td>\n",
       "      <td>0.027246</td>\n",
       "    </tr>\n",
       "    <tr>\n",
       "      <th>9999</th>\n",
       "      <td>0.004556</td>\n",
       "      <td>-0.002055</td>\n",
       "    </tr>\n",
       "  </tbody>\n",
       "</table>\n",
       "<p>10000 rows × 2 columns</p>\n",
       "</div>"
      ],
      "text/plain": [
       "      median_bias  mean_bias\n",
       "0        0.038407   0.038477\n",
       "1        0.031939   0.031265\n",
       "2        0.027058   0.025236\n",
       "3        0.042688   0.043436\n",
       "4        0.048007   0.047166\n",
       "...           ...        ...\n",
       "9995     0.021377   0.023236\n",
       "9996     0.018002   0.019443\n",
       "9997     0.029167   0.029377\n",
       "9998     0.027276   0.027246\n",
       "9999     0.004556  -0.002055\n",
       "\n",
       "[10000 rows x 2 columns]"
      ]
     },
     "execution_count": 5,
     "metadata": {},
     "output_type": "execute_result"
    }
   ],
   "source": [
    "df"
   ]
  },
  {
   "cell_type": "markdown",
   "id": "96262e24-3435-491f-a334-75f58fecc239",
   "metadata": {},
   "source": [
    "# Plots"
   ]
  },
  {
   "cell_type": "code",
   "execution_count": 6,
   "id": "b51330cf-0350-4b6c-b8e7-387fe7381dbb",
   "metadata": {
    "tags": []
   },
   "outputs": [
    {
     "data": {
      "text/plain": [
       "(-0.1, 0.1)"
      ]
     },
     "execution_count": 6,
     "metadata": {},
     "output_type": "execute_result"
    },
    {
     "data": {
      "image/png": "[encoded data removed]",
      "text/plain": [
       "<Figure size 640x480 with 1 Axes>"
      ]
     },
     "metadata": {},
     "output_type": "display_data"
    }
   ],
   "source": [
    "ax = sns.histplot(df, x='median_bias')\n",
    "ax.set_xlim(-0.1, 0.1)"
   ]
  },
  {
   "cell_type": "markdown",
   "id": "8e7b4826-0211-42ca-94eb-a0c0f2dafd30",
   "metadata": {},
   "source": [
    "## Corrected"
   ]
  },
  {
   "cell_type": "code",
   "execution_count": 7,
   "id": "46696323-fba4-4f04-a489-9ad3656f0ac5",
   "metadata": {
    "tags": []
   },
   "outputs": [],
   "source": [
    "df['corrected'] = df.median_bias - np.median(df.median_bias)"
   ]
  },
  {
   "cell_type": "code",
   "execution_count": 8,
   "id": "34ff24aa-2a5e-496e-8b5a-96d16a808e41",
   "metadata": {
    "tags": []
   },
   "outputs": [
    {
     "data": {
      "text/plain": [
       "(-0.1, 0.1)"
      ]
     },
     "execution_count": 8,
     "metadata": {},
     "output_type": "execute_result"
    },
    {
     "data": {
      "image/png": "[encoded data removed]",
      "text/plain": [
       "<Figure size 640x480 with 1 Axes>"
      ]
     },
     "metadata": {},
     "output_type": "display_data"
    }
   ],
   "source": [
    "ax = sns.histplot(df, x='corrected')\n",
    "ax.set_xlim(-0.1, 0.1)"
   ]
  },
  {
   "cell_type": "code",
   "execution_count": 9,
   "id": "5dfbd650-4ba6-44f2-8138-74e3fb56c81c",
   "metadata": {
    "tags": []
   },
   "outputs": [
    {
     "data": {
      "text/plain": [
       "0.01863315887749195"
      ]
     },
     "execution_count": 9,
     "metadata": {},
     "output_type": "execute_result"
    }
   ],
   "source": [
    "np.std(df.corrected)"
   ]
  },
  {
   "cell_type": "code",
   "execution_count": 10,
   "id": "d94a4fd4-1235-4b7e-a9bf-ba6f4b84bbbc",
   "metadata": {
    "tags": []
   },
   "outputs": [
    {
     "data": {
      "text/plain": [
       "663"
      ]
     },
     "execution_count": 10,
     "metadata": {},
     "output_type": "execute_result"
    }
   ],
   "source": [
    "np.argmax(df.median_bias)"
   ]
  },
  {
   "cell_type": "markdown",
   "id": "05e603db-3802-49d9-ada9-9d2a7c31fd3d",
   "metadata": {},
   "source": [
    "# All values"
   ]
  },
  {
   "cell_type": "code",
   "execution_count": 11,
   "id": "4c879011-0f89-44c8-b943-0333bf00a4c5",
   "metadata": {
    "tags": []
   },
   "outputs": [],
   "source": [
    "df2 = pandas.DataFrame({'values': f_orig['valid'][0:1000,0,...].flatten()})"
   ]
  },
  {
   "cell_type": "code",
   "execution_count": 12,
   "id": "8a7515b9-aa37-459d-aa5b-5fd4b4859a22",
   "metadata": {
    "tags": []
   },
   "outputs": [
    {
     "data": {
      "text/html": [
       "<div>\n",
       "<style scoped>\n",
       "    .dataframe tbody tr th:only-of-type {\n",
       "        vertical-align: middle;\n",
       "    }\n",
       "\n",
       "    .dataframe tbody tr th {\n",
       "        vertical-align: top;\n",
       "    }\n",
       "\n",
       "    .dataframe thead th {\n",
       "        text-align: right;\n",
       "    }\n",
       "</style>\n",
       "<table border=\"1\" class=\"dataframe\">\n",
       "  <thead>\n",
       "    <tr style=\"text-align: right;\">\n",
       "      <th></th>\n",
       "      <th>values</th>\n",
       "    </tr>\n",
       "  </thead>\n",
       "  <tbody>\n",
       "    <tr>\n",
       "      <th>0</th>\n",
       "      <td>-0.219200</td>\n",
       "    </tr>\n",
       "    <tr>\n",
       "      <th>1</th>\n",
       "      <td>-0.222333</td>\n",
       "    </tr>\n",
       "    <tr>\n",
       "      <th>2</th>\n",
       "      <td>-0.228568</td>\n",
       "    </tr>\n",
       "    <tr>\n",
       "      <th>3</th>\n",
       "      <td>-0.228154</td>\n",
       "    </tr>\n",
       "    <tr>\n",
       "      <th>4</th>\n",
       "      <td>-0.219143</td>\n",
       "    </tr>\n",
       "    <tr>\n",
       "      <th>...</th>\n",
       "      <td>...</td>\n",
       "    </tr>\n",
       "    <tr>\n",
       "      <th>4095995</th>\n",
       "      <td>1.020094</td>\n",
       "    </tr>\n",
       "    <tr>\n",
       "      <th>4095996</th>\n",
       "      <td>1.016069</td>\n",
       "    </tr>\n",
       "    <tr>\n",
       "      <th>4095997</th>\n",
       "      <td>1.013470</td>\n",
       "    </tr>\n",
       "    <tr>\n",
       "      <th>4095998</th>\n",
       "      <td>1.012602</td>\n",
       "    </tr>\n",
       "    <tr>\n",
       "      <th>4095999</th>\n",
       "      <td>1.014107</td>\n",
       "    </tr>\n",
       "  </tbody>\n",
       "</table>\n",
       "<p>4096000 rows × 1 columns</p>\n",
       "</div>"
      ],
      "text/plain": [
       "           values\n",
       "0       -0.219200\n",
       "1       -0.222333\n",
       "2       -0.228568\n",
       "3       -0.228154\n",
       "4       -0.219143\n",
       "...           ...\n",
       "4095995  1.020094\n",
       "4095996  1.016069\n",
       "4095997  1.013470\n",
       "4095998  1.012602\n",
       "4095999  1.014107\n",
       "\n",
       "[4096000 rows x 1 columns]"
      ]
     },
     "execution_count": 12,
     "metadata": {},
     "output_type": "execute_result"
    }
   ],
   "source": [
    "df2"
   ]
  },
  {
   "cell_type": "code",
   "execution_count": 13,
   "id": "1de69df4-cc29-4248-a8b6-a21e5d049573",
   "metadata": {
    "tags": []
   },
   "outputs": [
    {
     "data": {
      "text/plain": [
       "(-2.5, 2.5)"
      ]
     },
     "execution_count": 13,
     "metadata": {},
     "output_type": "execute_result"
    },
    {
     "data": {
      "image/png": "[encoded data removed]",
      "text/plain": [
       "<Figure size 640x480 with 1 Axes>"
      ]
     },
     "metadata": {},
     "output_type": "display_data"
    }
   ],
   "source": [
    "ax = sns.histplot(df2, x='values')\n",
    "ax.set_xlim(-2.5, 2.5)"
   ]
  },
  {
   "cell_type": "markdown",
   "id": "0cdd998c-325b-419a-8a95-7deaf52b075f",
   "metadata": {},
   "source": [
    "# Another example"
   ]
  },
  {
   "cell_type": "code",
   "execution_count": 14,
   "id": "58a7a039-72e3-4200-82da-f409b66ea85a",
   "metadata": {
    "tags": []
   },
   "outputs": [],
   "source": [
    "preproc_path = os.path.join(os.getenv('OS_AI'), 'MAE', 'PreProc')\n",
    "recon_path = os.path.join(os.getenv('OS_AI'), 'MAE', 'Recon')\n",
    "orig_file = os.path.join(preproc_path, 'MAE_LLC_valid_nonoise_preproc.h5')\n",
    "recon_file = os.path.join(recon_path, 'mae_reconstruct_t75_p50.h5')\n",
    "mask_file = os.path.join(recon_path, 'mae_mask_t75_p50.h5')"
   ]
  },
  {
   "cell_type": "code",
   "execution_count": 15,
   "id": "0d2c17c9-f39a-4d58-9ede-0cf5e96d35c7",
   "metadata": {
    "tags": []
   },
   "outputs": [],
   "source": [
    "# Load up images\n",
    "f_orig = h5py.File(orig_file, 'r')\n",
    "f_recon = h5py.File(recon_file, 'r')\n",
    "f_mask = h5py.File(mask_file, 'r')\n",
    "\n",
    "median_biases = []\n",
    "mean_biases = []\n",
    "for idx in range(10000):\n",
    "    orig_img = f_orig['valid'][idx,0,...]\n",
    "    recon_img = f_recon['valid'][idx,0,...]\n",
    "    mask_img = f_mask['valid'][idx,0,...]\n",
    "\n",
    "    diff_true = recon_img - orig_img \n",
    "\n",
    "    median_bias = np.median(diff_true[np.abs(diff_true) > 0.])\n",
    "    mean_bias = np.mean(diff_true[np.abs(diff_true) > 0.])\n",
    "    #mean_img = np.mean(orig_img[np.isclose(mask_img,0.)])\n",
    "    # Save\n",
    "    median_biases.append(median_bias)\n",
    "    mean_biases.append(mean_bias)"
   ]
  },
  {
   "cell_type": "code",
   "execution_count": 16,
   "id": "efd60575-f4a5-4043-8c2b-fc6e6c023be4",
   "metadata": {
    "tags": []
   },
   "outputs": [],
   "source": [
    "df_t75_p50 = pandas.DataFrame({'median_bias': median_biases,\n",
    "                       'mean_bias': mean_biases})"
   ]
  },
  {
   "cell_type": "code",
   "execution_count": 17,
   "id": "cec1f04c-b402-4716-8c7a-f3451c7b1114",
   "metadata": {
    "tags": []
   },
   "outputs": [
    {
     "data": {
      "text/plain": [
       "(-0.1, 0.1)"
      ]
     },
     "execution_count": 17,
     "metadata": {},
     "output_type": "execute_result"
    },
    {
     "data": {
      "image/png": "[encoded data removed]",
      "text/plain": [
       "<Figure size 640x480 with 1 Axes>"
      ]
     },
     "metadata": {},
     "output_type": "display_data"
    }
   ],
   "source": [
    "ax = sns.histplot(df_t75_p50, x='median_bias')\n",
    "ax.set_xlim(-0.1, 0.1)"
   ]
  },
  {
   "cell_type": "code",
   "execution_count": null,
   "id": "d3526762-7d47-421d-83de-03b369875a6e",
   "metadata": {},
   "outputs": [],
   "source": []
  }
 ],
 "metadata": {
  "kernelspec": {
   "display_name": "Python 3 (ipykernel)",
   "language": "python",
   "name": "python3"
  },
  "language_info": {
   "codemirror_mode": {
    "name": "ipython",
    "version": 3
   },
   "file_extension": ".py",
   "mimetype": "text/x-python",
   "name": "python",
   "nbconvert_exporter": "python",
   "pygments_lexer": "ipython3",
   "version": "3.10.9"
  }
 },
 "nbformat": 4,
 "nbformat_minor": 5
}
