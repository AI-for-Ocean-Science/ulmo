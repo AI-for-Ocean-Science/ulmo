{
 "cells": [
  {
   "cell_type": "markdown",
   "id": "afae056c-ab23-4ea7-8ff4-e89b99da3ca1",
   "metadata": {},
   "source": [
    "# Bias Trends"
   ]
  },
  {
   "cell_type": "code",
   "execution_count": 1,
   "id": "fcf08dc4-db68-4fc3-ac3e-e12771a50a95",
   "metadata": {
    "tags": []
   },
   "outputs": [],
   "source": [
    "%matplotlib widget"
   ]
  },
  {
   "cell_type": "code",
   "execution_count": 2,
   "id": "540da35f-80d5-49b9-bb65-14908b8d512b",
   "metadata": {
    "tags": []
   },
   "outputs": [],
   "source": [
    "# imports\n",
    "from importlib import reload\n",
    "import numpy as np\n",
    "import os\n",
    "\n",
    "import h5py\n",
    "\n",
    "import pandas\n",
    "\n",
    "import seaborn as sns\n",
    "from matplotlib import pyplot as plt\n",
    "\n",
    "from ulmo.mae import bias\n",
    "from ulmo.mae import mae_utils"
   ]
  },
  {
   "cell_type": "markdown",
   "id": "02be33f7-8ab6-4ba8-947b-997e35440fa2",
   "metadata": {},
   "source": [
    "# Files"
   ]
  },
  {
   "cell_type": "code",
   "execution_count": 3,
   "id": "2bfd5d5f-fb74-4d93-a675-97a98429110a",
   "metadata": {
    "tags": []
   },
   "outputs": [],
   "source": [
    "enki_path = os.path.join(os.getenv('OS_OGCM'), 'LLC', 'Enki')"
   ]
  },
  {
   "cell_type": "code",
   "execution_count": 4,
   "id": "79f070b2-78df-4fb0-ba40-7ef9b2e53073",
   "metadata": {
    "tags": []
   },
   "outputs": [],
   "source": [
    "orig_file = os.path.join(enki_path, 'PreProc', 'MAE_LLC_valid_nonoise_preproc.h5')"
   ]
  },
  {
   "cell_type": "code",
   "execution_count": 5,
   "id": "f4de6ab8-85ae-4991-b885-34004c042353",
   "metadata": {
    "tags": []
   },
   "outputs": [],
   "source": [
    "f_orig = h5py.File(orig_file, 'r')"
   ]
  },
  {
   "cell_type": "code",
   "execution_count": 6,
   "id": "64cbc6ec-1b04-43a1-a4b4-2692ac86dfec",
   "metadata": {
    "tags": []
   },
   "outputs": [],
   "source": [
    "reload(mae_utils)\n",
    "t, p = 75, 10\n",
    "recon_file = mae_utils.img_filename(t,p, local=True)\n",
    "f_recon = h5py.File(recon_file,'r')"
   ]
  },
  {
   "cell_type": "markdown",
   "id": "f392e46e-78c7-4e4c-942b-e7844685889d",
   "metadata": {},
   "source": [
    "# Calculate the bias"
   ]
  },
  {
   "cell_type": "code",
   "execution_count": 28,
   "id": "ea39296e-e099-41ac-8f65-070f63248a62",
   "metadata": {
    "tags": []
   },
   "outputs": [
    {
     "data": {
      "text/plain": [
       "655788"
      ]
     },
     "execution_count": 28,
     "metadata": {},
     "output_type": "execute_result"
    }
   ],
   "source": [
    "reload(bias)\n",
    "median_bias, mean_bias = bias.measure_bias(f_orig, f_recon)\n",
    "median_bias.size"
   ]
  },
  {
   "cell_type": "markdown",
   "id": "24bd7eff-965a-468b-9643-f43da876bb01",
   "metadata": {},
   "source": [
    "# Correlate me"
   ]
  },
  {
   "cell_type": "code",
   "execution_count": 17,
   "id": "8c9007ee-b191-4a0f-bf93-8a41709e70b5",
   "metadata": {
    "tags": []
   },
   "outputs": [],
   "source": [
    "llc_tbl_file = os.path.join(enki_path, 'Tables', 'MAE_LLC_valid_nonoise.parquet')\n",
    "llc_tbl = pandas.read_parquet(llc_tbl_file)"
   ]
  },
  {
   "cell_type": "code",
   "execution_count": 21,
   "id": "30cefdcd-ba63-4416-b258-2009276bd9f0",
   "metadata": {
    "tags": []
   },
   "outputs": [
    {
     "data": {
      "text/html": [
       "<div>\n",
       "<style scoped>\n",
       "    .dataframe tbody tr th:only-of-type {\n",
       "        vertical-align: middle;\n",
       "    }\n",
       "\n",
       "    .dataframe tbody tr th {\n",
       "        vertical-align: top;\n",
       "    }\n",
       "\n",
       "    .dataframe thead th {\n",
       "        text-align: right;\n",
       "    }\n",
       "</style>\n",
       "<table border=\"1\" class=\"dataframe\">\n",
       "  <thead>\n",
       "    <tr style=\"text-align: right;\">\n",
       "      <th></th>\n",
       "      <th>lat</th>\n",
       "      <th>lon</th>\n",
       "      <th>row</th>\n",
       "      <th>col</th>\n",
       "      <th>datetime</th>\n",
       "      <th>filename</th>\n",
       "      <th>pp_file</th>\n",
       "      <th>pp_root</th>\n",
       "      <th>field_size</th>\n",
       "      <th>pp_idx</th>\n",
       "      <th>...</th>\n",
       "      <th>LL_t10_p10</th>\n",
       "      <th>LL_t10_p20</th>\n",
       "      <th>LL_t10_p30</th>\n",
       "      <th>LL_t10_p40</th>\n",
       "      <th>LL_t10_p50</th>\n",
       "      <th>LL_t35_p10</th>\n",
       "      <th>LL_t35_p20</th>\n",
       "      <th>LL_t35_p30</th>\n",
       "      <th>LL_t35_p40</th>\n",
       "      <th>LL_t35_p50</th>\n",
       "    </tr>\n",
       "  </thead>\n",
       "  <tbody>\n",
       "    <tr>\n",
       "      <th>1000</th>\n",
       "      <td>54.345779</td>\n",
       "      <td>-50.156250</td>\n",
       "      <td>11252</td>\n",
       "      <td>16664</td>\n",
       "      <td>2011-09-30</td>\n",
       "      <td>/data/Projects/Oceanography/data/LLC/ThetaUVSa...</td>\n",
       "      <td>s3://llc/mae/Recon/mae_reconstruct_t35_p50.h5</td>\n",
       "      <td>llc_144_nonoise</td>\n",
       "      <td>64</td>\n",
       "      <td>229955</td>\n",
       "      <td>...</td>\n",
       "      <td>-191.921265</td>\n",
       "      <td>-196.330933</td>\n",
       "      <td>-181.952820</td>\n",
       "      <td>-176.569885</td>\n",
       "      <td>-162.086609</td>\n",
       "      <td>-196.648315</td>\n",
       "      <td>-196.492371</td>\n",
       "      <td>-178.868530</td>\n",
       "      <td>-186.729004</td>\n",
       "      <td>-169.048828</td>\n",
       "    </tr>\n",
       "    <tr>\n",
       "      <th>1001</th>\n",
       "      <td>54.345779</td>\n",
       "      <td>-49.218750</td>\n",
       "      <td>11252</td>\n",
       "      <td>16709</td>\n",
       "      <td>2011-09-30</td>\n",
       "      <td>/data/Projects/Oceanography/data/LLC/ThetaUVSa...</td>\n",
       "      <td>s3://llc/mae/Recon/mae_reconstruct_t35_p50.h5</td>\n",
       "      <td>llc_144_nonoise</td>\n",
       "      <td>64</td>\n",
       "      <td>283308</td>\n",
       "      <td>...</td>\n",
       "      <td>41.433716</td>\n",
       "      <td>35.623047</td>\n",
       "      <td>49.074341</td>\n",
       "      <td>39.213013</td>\n",
       "      <td>49.705811</td>\n",
       "      <td>21.107910</td>\n",
       "      <td>46.197693</td>\n",
       "      <td>47.407959</td>\n",
       "      <td>62.348145</td>\n",
       "      <td>57.312805</td>\n",
       "    </tr>\n",
       "    <tr>\n",
       "      <th>1002</th>\n",
       "      <td>54.345779</td>\n",
       "      <td>-48.281250</td>\n",
       "      <td>11252</td>\n",
       "      <td>16754</td>\n",
       "      <td>2011-09-30</td>\n",
       "      <td>/data/Projects/Oceanography/data/LLC/ThetaUVSa...</td>\n",
       "      <td>s3://llc/mae/Recon/mae_reconstruct_t35_p50.h5</td>\n",
       "      <td>llc_144_nonoise</td>\n",
       "      <td>64</td>\n",
       "      <td>120136</td>\n",
       "      <td>...</td>\n",
       "      <td>208.782959</td>\n",
       "      <td>203.840820</td>\n",
       "      <td>209.611694</td>\n",
       "      <td>204.894897</td>\n",
       "      <td>226.825317</td>\n",
       "      <td>197.599609</td>\n",
       "      <td>208.896362</td>\n",
       "      <td>206.791077</td>\n",
       "      <td>209.254150</td>\n",
       "      <td>217.910583</td>\n",
       "    </tr>\n",
       "    <tr>\n",
       "      <th>1003</th>\n",
       "      <td>54.345779</td>\n",
       "      <td>-47.343750</td>\n",
       "      <td>11252</td>\n",
       "      <td>16799</td>\n",
       "      <td>2011-09-30</td>\n",
       "      <td>/data/Projects/Oceanography/data/LLC/ThetaUVSa...</td>\n",
       "      <td>s3://llc/mae/Recon/mae_reconstruct_t35_p50.h5</td>\n",
       "      <td>llc_144_nonoise</td>\n",
       "      <td>64</td>\n",
       "      <td>505678</td>\n",
       "      <td>...</td>\n",
       "      <td>156.259399</td>\n",
       "      <td>157.697754</td>\n",
       "      <td>166.526611</td>\n",
       "      <td>166.519287</td>\n",
       "      <td>170.326904</td>\n",
       "      <td>140.238708</td>\n",
       "      <td>154.915039</td>\n",
       "      <td>147.713013</td>\n",
       "      <td>161.911072</td>\n",
       "      <td>172.627808</td>\n",
       "    </tr>\n",
       "    <tr>\n",
       "      <th>1004</th>\n",
       "      <td>54.345779</td>\n",
       "      <td>-46.406250</td>\n",
       "      <td>11252</td>\n",
       "      <td>16844</td>\n",
       "      <td>2011-09-30</td>\n",
       "      <td>/data/Projects/Oceanography/data/LLC/ThetaUVSa...</td>\n",
       "      <td>s3://llc/mae/Recon/mae_reconstruct_t35_p50.h5</td>\n",
       "      <td>llc_144_nonoise</td>\n",
       "      <td>64</td>\n",
       "      <td>668</td>\n",
       "      <td>...</td>\n",
       "      <td>138.274719</td>\n",
       "      <td>147.187500</td>\n",
       "      <td>152.421570</td>\n",
       "      <td>-7.425049</td>\n",
       "      <td>176.222473</td>\n",
       "      <td>117.940369</td>\n",
       "      <td>139.703613</td>\n",
       "      <td>145.235840</td>\n",
       "      <td>149.465637</td>\n",
       "      <td>158.906799</td>\n",
       "    </tr>\n",
       "    <tr>\n",
       "      <th>...</th>\n",
       "      <td>...</td>\n",
       "      <td>...</td>\n",
       "      <td>...</td>\n",
       "      <td>...</td>\n",
       "      <td>...</td>\n",
       "      <td>...</td>\n",
       "      <td>...</td>\n",
       "      <td>...</td>\n",
       "      <td>...</td>\n",
       "      <td>...</td>\n",
       "      <td>...</td>\n",
       "      <td>...</td>\n",
       "      <td>...</td>\n",
       "      <td>...</td>\n",
       "      <td>...</td>\n",
       "      <td>...</td>\n",
       "      <td>...</td>\n",
       "      <td>...</td>\n",
       "      <td>...</td>\n",
       "      <td>...</td>\n",
       "      <td>...</td>\n",
       "    </tr>\n",
       "    <tr>\n",
       "      <th>1095</th>\n",
       "      <td>53.961609</td>\n",
       "      <td>-177.677078</td>\n",
       "      <td>11219</td>\n",
       "      <td>10543</td>\n",
       "      <td>2011-09-30</td>\n",
       "      <td>/data/Projects/Oceanography/data/LLC/ThetaUVSa...</td>\n",
       "      <td>s3://llc/mae/Recon/mae_reconstruct_t35_p50.h5</td>\n",
       "      <td>llc_144_nonoise</td>\n",
       "      <td>64</td>\n",
       "      <td>653350</td>\n",
       "      <td>...</td>\n",
       "      <td>556.656372</td>\n",
       "      <td>556.364319</td>\n",
       "      <td>553.040222</td>\n",
       "      <td>559.734985</td>\n",
       "      <td>559.667847</td>\n",
       "      <td>544.250061</td>\n",
       "      <td>553.629395</td>\n",
       "      <td>550.296997</td>\n",
       "      <td>570.557129</td>\n",
       "      <td>561.527344</td>\n",
       "    </tr>\n",
       "    <tr>\n",
       "      <th>1096</th>\n",
       "      <td>53.961609</td>\n",
       "      <td>-176.760422</td>\n",
       "      <td>11219</td>\n",
       "      <td>10587</td>\n",
       "      <td>2011-09-30</td>\n",
       "      <td>/data/Projects/Oceanography/data/LLC/ThetaUVSa...</td>\n",
       "      <td>s3://llc/mae/Recon/mae_reconstruct_t35_p50.h5</td>\n",
       "      <td>llc_144_nonoise</td>\n",
       "      <td>64</td>\n",
       "      <td>370854</td>\n",
       "      <td>...</td>\n",
       "      <td>509.837891</td>\n",
       "      <td>506.596069</td>\n",
       "      <td>506.394165</td>\n",
       "      <td>517.253967</td>\n",
       "      <td>525.597168</td>\n",
       "      <td>500.050232</td>\n",
       "      <td>502.210632</td>\n",
       "      <td>502.107544</td>\n",
       "      <td>536.075317</td>\n",
       "      <td>522.285400</td>\n",
       "    </tr>\n",
       "    <tr>\n",
       "      <th>1097</th>\n",
       "      <td>53.961609</td>\n",
       "      <td>-175.822922</td>\n",
       "      <td>11219</td>\n",
       "      <td>10632</td>\n",
       "      <td>2011-09-30</td>\n",
       "      <td>/data/Projects/Oceanography/data/LLC/ThetaUVSa...</td>\n",
       "      <td>s3://llc/mae/Recon/mae_reconstruct_t35_p50.h5</td>\n",
       "      <td>llc_144_nonoise</td>\n",
       "      <td>64</td>\n",
       "      <td>316843</td>\n",
       "      <td>...</td>\n",
       "      <td>446.278870</td>\n",
       "      <td>446.234497</td>\n",
       "      <td>445.714050</td>\n",
       "      <td>445.133667</td>\n",
       "      <td>460.607056</td>\n",
       "      <td>432.301819</td>\n",
       "      <td>442.167969</td>\n",
       "      <td>452.029785</td>\n",
       "      <td>457.897339</td>\n",
       "      <td>451.970581</td>\n",
       "    </tr>\n",
       "    <tr>\n",
       "      <th>1098</th>\n",
       "      <td>53.961609</td>\n",
       "      <td>-174.906250</td>\n",
       "      <td>11219</td>\n",
       "      <td>10676</td>\n",
       "      <td>2011-09-30</td>\n",
       "      <td>/data/Projects/Oceanography/data/LLC/ThetaUVSa...</td>\n",
       "      <td>s3://llc/mae/Recon/mae_reconstruct_t35_p50.h5</td>\n",
       "      <td>llc_144_nonoise</td>\n",
       "      <td>64</td>\n",
       "      <td>381106</td>\n",
       "      <td>...</td>\n",
       "      <td>443.340332</td>\n",
       "      <td>449.275391</td>\n",
       "      <td>442.800293</td>\n",
       "      <td>443.764160</td>\n",
       "      <td>440.284119</td>\n",
       "      <td>437.277588</td>\n",
       "      <td>441.216309</td>\n",
       "      <td>448.739197</td>\n",
       "      <td>454.982788</td>\n",
       "      <td>466.063721</td>\n",
       "    </tr>\n",
       "    <tr>\n",
       "      <th>1099</th>\n",
       "      <td>53.961609</td>\n",
       "      <td>-173.968750</td>\n",
       "      <td>11219</td>\n",
       "      <td>10721</td>\n",
       "      <td>2011-09-30</td>\n",
       "      <td>/data/Projects/Oceanography/data/LLC/ThetaUVSa...</td>\n",
       "      <td>s3://llc/mae/Recon/mae_reconstruct_t35_p50.h5</td>\n",
       "      <td>llc_144_nonoise</td>\n",
       "      <td>64</td>\n",
       "      <td>413409</td>\n",
       "      <td>...</td>\n",
       "      <td>404.492249</td>\n",
       "      <td>406.588867</td>\n",
       "      <td>410.959839</td>\n",
       "      <td>400.583862</td>\n",
       "      <td>418.193237</td>\n",
       "      <td>398.108398</td>\n",
       "      <td>405.443176</td>\n",
       "      <td>408.548950</td>\n",
       "      <td>415.485657</td>\n",
       "      <td>417.738159</td>\n",
       "    </tr>\n",
       "  </tbody>\n",
       "</table>\n",
       "<p>100 rows × 32 columns</p>\n",
       "</div>"
      ],
      "text/plain": [
       "            lat         lon    row    col   datetime  \\\n",
       "1000  54.345779  -50.156250  11252  16664 2011-09-30   \n",
       "1001  54.345779  -49.218750  11252  16709 2011-09-30   \n",
       "1002  54.345779  -48.281250  11252  16754 2011-09-30   \n",
       "1003  54.345779  -47.343750  11252  16799 2011-09-30   \n",
       "1004  54.345779  -46.406250  11252  16844 2011-09-30   \n",
       "...         ...         ...    ...    ...        ...   \n",
       "1095  53.961609 -177.677078  11219  10543 2011-09-30   \n",
       "1096  53.961609 -176.760422  11219  10587 2011-09-30   \n",
       "1097  53.961609 -175.822922  11219  10632 2011-09-30   \n",
       "1098  53.961609 -174.906250  11219  10676 2011-09-30   \n",
       "1099  53.961609 -173.968750  11219  10721 2011-09-30   \n",
       "\n",
       "                                               filename  \\\n",
       "1000  /data/Projects/Oceanography/data/LLC/ThetaUVSa...   \n",
       "1001  /data/Projects/Oceanography/data/LLC/ThetaUVSa...   \n",
       "1002  /data/Projects/Oceanography/data/LLC/ThetaUVSa...   \n",
       "1003  /data/Projects/Oceanography/data/LLC/ThetaUVSa...   \n",
       "1004  /data/Projects/Oceanography/data/LLC/ThetaUVSa...   \n",
       "...                                                 ...   \n",
       "1095  /data/Projects/Oceanography/data/LLC/ThetaUVSa...   \n",
       "1096  /data/Projects/Oceanography/data/LLC/ThetaUVSa...   \n",
       "1097  /data/Projects/Oceanography/data/LLC/ThetaUVSa...   \n",
       "1098  /data/Projects/Oceanography/data/LLC/ThetaUVSa...   \n",
       "1099  /data/Projects/Oceanography/data/LLC/ThetaUVSa...   \n",
       "\n",
       "                                            pp_file          pp_root  \\\n",
       "1000  s3://llc/mae/Recon/mae_reconstruct_t35_p50.h5  llc_144_nonoise   \n",
       "1001  s3://llc/mae/Recon/mae_reconstruct_t35_p50.h5  llc_144_nonoise   \n",
       "1002  s3://llc/mae/Recon/mae_reconstruct_t35_p50.h5  llc_144_nonoise   \n",
       "1003  s3://llc/mae/Recon/mae_reconstruct_t35_p50.h5  llc_144_nonoise   \n",
       "1004  s3://llc/mae/Recon/mae_reconstruct_t35_p50.h5  llc_144_nonoise   \n",
       "...                                             ...              ...   \n",
       "1095  s3://llc/mae/Recon/mae_reconstruct_t35_p50.h5  llc_144_nonoise   \n",
       "1096  s3://llc/mae/Recon/mae_reconstruct_t35_p50.h5  llc_144_nonoise   \n",
       "1097  s3://llc/mae/Recon/mae_reconstruct_t35_p50.h5  llc_144_nonoise   \n",
       "1098  s3://llc/mae/Recon/mae_reconstruct_t35_p50.h5  llc_144_nonoise   \n",
       "1099  s3://llc/mae/Recon/mae_reconstruct_t35_p50.h5  llc_144_nonoise   \n",
       "\n",
       "      field_size  pp_idx  ...  LL_t10_p10  LL_t10_p20  LL_t10_p30  LL_t10_p40  \\\n",
       "1000          64  229955  ... -191.921265 -196.330933 -181.952820 -176.569885   \n",
       "1001          64  283308  ...   41.433716   35.623047   49.074341   39.213013   \n",
       "1002          64  120136  ...  208.782959  203.840820  209.611694  204.894897   \n",
       "1003          64  505678  ...  156.259399  157.697754  166.526611  166.519287   \n",
       "1004          64     668  ...  138.274719  147.187500  152.421570   -7.425049   \n",
       "...          ...     ...  ...         ...         ...         ...         ...   \n",
       "1095          64  653350  ...  556.656372  556.364319  553.040222  559.734985   \n",
       "1096          64  370854  ...  509.837891  506.596069  506.394165  517.253967   \n",
       "1097          64  316843  ...  446.278870  446.234497  445.714050  445.133667   \n",
       "1098          64  381106  ...  443.340332  449.275391  442.800293  443.764160   \n",
       "1099          64  413409  ...  404.492249  406.588867  410.959839  400.583862   \n",
       "\n",
       "      LL_t10_p50  LL_t35_p10  LL_t35_p20  LL_t35_p30  LL_t35_p40  LL_t35_p50  \n",
       "1000 -162.086609 -196.648315 -196.492371 -178.868530 -186.729004 -169.048828  \n",
       "1001   49.705811   21.107910   46.197693   47.407959   62.348145   57.312805  \n",
       "1002  226.825317  197.599609  208.896362  206.791077  209.254150  217.910583  \n",
       "1003  170.326904  140.238708  154.915039  147.713013  161.911072  172.627808  \n",
       "1004  176.222473  117.940369  139.703613  145.235840  149.465637  158.906799  \n",
       "...          ...         ...         ...         ...         ...         ...  \n",
       "1095  559.667847  544.250061  553.629395  550.296997  570.557129  561.527344  \n",
       "1096  525.597168  500.050232  502.210632  502.107544  536.075317  522.285400  \n",
       "1097  460.607056  432.301819  442.167969  452.029785  457.897339  451.970581  \n",
       "1098  440.284119  437.277588  441.216309  448.739197  454.982788  466.063721  \n",
       "1099  418.193237  398.108398  405.443176  408.548950  415.485657  417.738159  \n",
       "\n",
       "[100 rows x 32 columns]"
      ]
     },
     "execution_count": 21,
     "metadata": {},
     "output_type": "execute_result"
    }
   ],
   "source": [
    "llc_tbl[1000:1100]"
   ]
  },
  {
   "cell_type": "code",
   "execution_count": 22,
   "id": "7902c02f-be77-4d4b-b9e3-195a7997f100",
   "metadata": {
    "tags": []
   },
   "outputs": [
    {
     "data": {
      "text/plain": [
       "655788"
      ]
     },
     "execution_count": 22,
     "metadata": {},
     "output_type": "execute_result"
    }
   ],
   "source": [
    "np.sum(llc_tbl.pp_idx >= 0)"
   ]
  },
  {
   "cell_type": "code",
   "execution_count": 20,
   "id": "3d5646cc-fab8-4c4e-b8b4-0f45dcb8a146",
   "metadata": {
    "tags": []
   },
   "outputs": [
    {
     "data": {
      "text/plain": [
       "(655788, 1, 64, 64)"
      ]
     },
     "execution_count": 20,
     "metadata": {},
     "output_type": "execute_result"
    }
   ],
   "source": [
    "f_orig['valid'].shape"
   ]
  },
  {
   "cell_type": "code",
   "execution_count": 23,
   "id": "4f5c6cd7-9b40-4a89-9f35-a1195b9c1116",
   "metadata": {
    "tags": []
   },
   "outputs": [],
   "source": [
    "llc_tbl = llc_tbl[llc_tbl.pp_idx >= 0].copy()"
   ]
  },
  {
   "cell_type": "markdown",
   "id": "305b49e4-5627-44c7-8a32-3b40a62fb88d",
   "metadata": {},
   "source": [
    "## Reorder the bias values"
   ]
  },
  {
   "cell_type": "code",
   "execution_count": 29,
   "id": "0e4420d2-9f01-4cc7-93b1-d5e228468e31",
   "metadata": {
    "tags": []
   },
   "outputs": [],
   "source": [
    "median_bias = median_bias[llc_tbl.pp_idx]\n",
    "mean_bias = mean_bias[llc_tbl.pp_idx]"
   ]
  },
  {
   "cell_type": "code",
   "execution_count": 32,
   "id": "436314ff-3ddb-4f8c-ba21-858003e5f981",
   "metadata": {
    "tags": []
   },
   "outputs": [],
   "source": [
    "llc_tbl['bias'] = mean_bias"
   ]
  },
  {
   "cell_type": "code",
   "execution_count": 33,
   "id": "7c080a24-5889-491c-981a-6ada7ac64718",
   "metadata": {
    "tags": []
   },
   "outputs": [
    {
     "data": {
      "text/html": [
       "<div>\n",
       "<style scoped>\n",
       "    .dataframe tbody tr th:only-of-type {\n",
       "        vertical-align: middle;\n",
       "    }\n",
       "\n",
       "    .dataframe tbody tr th {\n",
       "        vertical-align: top;\n",
       "    }\n",
       "\n",
       "    .dataframe thead th {\n",
       "        text-align: right;\n",
       "    }\n",
       "</style>\n",
       "<table border=\"1\" class=\"dataframe\">\n",
       "  <thead>\n",
       "    <tr style=\"text-align: right;\">\n",
       "      <th></th>\n",
       "      <th>lat</th>\n",
       "      <th>lon</th>\n",
       "      <th>row</th>\n",
       "      <th>col</th>\n",
       "      <th>datetime</th>\n",
       "      <th>filename</th>\n",
       "      <th>pp_file</th>\n",
       "      <th>pp_root</th>\n",
       "      <th>field_size</th>\n",
       "      <th>pp_idx</th>\n",
       "      <th>...</th>\n",
       "      <th>LL_t10_p20</th>\n",
       "      <th>LL_t10_p30</th>\n",
       "      <th>LL_t10_p40</th>\n",
       "      <th>LL_t10_p50</th>\n",
       "      <th>LL_t35_p10</th>\n",
       "      <th>LL_t35_p20</th>\n",
       "      <th>LL_t35_p30</th>\n",
       "      <th>LL_t35_p40</th>\n",
       "      <th>LL_t35_p50</th>\n",
       "      <th>bias</th>\n",
       "    </tr>\n",
       "  </thead>\n",
       "  <tbody>\n",
       "    <tr>\n",
       "      <th>8</th>\n",
       "      <td>56.642715</td>\n",
       "      <td>-179.489578</td>\n",
       "      <td>11455</td>\n",
       "      <td>10456</td>\n",
       "      <td>2011-09-30</td>\n",
       "      <td>/data/Projects/Oceanography/data/LLC/ThetaUVSa...</td>\n",
       "      <td>s3://llc/mae/Recon/mae_reconstruct_t35_p50.h5</td>\n",
       "      <td>llc_144_nonoise</td>\n",
       "      <td>64</td>\n",
       "      <td>170686</td>\n",
       "      <td>...</td>\n",
       "      <td>299.012817</td>\n",
       "      <td>302.756042</td>\n",
       "      <td>298.496460</td>\n",
       "      <td>307.338135</td>\n",
       "      <td>295.663147</td>\n",
       "      <td>299.283936</td>\n",
       "      <td>313.300415</td>\n",
       "      <td>311.911865</td>\n",
       "      <td>322.112061</td>\n",
       "      <td>0.021002</td>\n",
       "    </tr>\n",
       "    <tr>\n",
       "      <th>9</th>\n",
       "      <td>56.642715</td>\n",
       "      <td>-178.489578</td>\n",
       "      <td>11455</td>\n",
       "      <td>10504</td>\n",
       "      <td>2011-09-30</td>\n",
       "      <td>/data/Projects/Oceanography/data/LLC/ThetaUVSa...</td>\n",
       "      <td>s3://llc/mae/Recon/mae_reconstruct_t35_p50.h5</td>\n",
       "      <td>llc_144_nonoise</td>\n",
       "      <td>64</td>\n",
       "      <td>254068</td>\n",
       "      <td>...</td>\n",
       "      <td>199.893677</td>\n",
       "      <td>197.024353</td>\n",
       "      <td>203.142334</td>\n",
       "      <td>213.431519</td>\n",
       "      <td>185.846313</td>\n",
       "      <td>196.908752</td>\n",
       "      <td>187.559082</td>\n",
       "      <td>203.118774</td>\n",
       "      <td>228.070251</td>\n",
       "      <td>0.020644</td>\n",
       "    </tr>\n",
       "    <tr>\n",
       "      <th>10</th>\n",
       "      <td>56.642715</td>\n",
       "      <td>-177.489578</td>\n",
       "      <td>11455</td>\n",
       "      <td>10552</td>\n",
       "      <td>2011-09-30</td>\n",
       "      <td>/data/Projects/Oceanography/data/LLC/ThetaUVSa...</td>\n",
       "      <td>s3://llc/mae/Recon/mae_reconstruct_t35_p50.h5</td>\n",
       "      <td>llc_144_nonoise</td>\n",
       "      <td>64</td>\n",
       "      <td>462018</td>\n",
       "      <td>...</td>\n",
       "      <td>160.267578</td>\n",
       "      <td>163.410767</td>\n",
       "      <td>167.850525</td>\n",
       "      <td>168.364258</td>\n",
       "      <td>148.482788</td>\n",
       "      <td>158.051270</td>\n",
       "      <td>164.441589</td>\n",
       "      <td>161.891846</td>\n",
       "      <td>176.772827</td>\n",
       "      <td>0.012069</td>\n",
       "    </tr>\n",
       "    <tr>\n",
       "      <th>11</th>\n",
       "      <td>56.642715</td>\n",
       "      <td>-176.510422</td>\n",
       "      <td>11455</td>\n",
       "      <td>10599</td>\n",
       "      <td>2011-09-30</td>\n",
       "      <td>/data/Projects/Oceanography/data/LLC/ThetaUVSa...</td>\n",
       "      <td>s3://llc/mae/Recon/mae_reconstruct_t35_p50.h5</td>\n",
       "      <td>llc_144_nonoise</td>\n",
       "      <td>64</td>\n",
       "      <td>559545</td>\n",
       "      <td>...</td>\n",
       "      <td>181.416199</td>\n",
       "      <td>177.412354</td>\n",
       "      <td>175.369324</td>\n",
       "      <td>189.435059</td>\n",
       "      <td>174.824951</td>\n",
       "      <td>175.500244</td>\n",
       "      <td>177.849365</td>\n",
       "      <td>193.722900</td>\n",
       "      <td>204.234619</td>\n",
       "      <td>0.022669</td>\n",
       "    </tr>\n",
       "    <tr>\n",
       "      <th>12</th>\n",
       "      <td>56.642715</td>\n",
       "      <td>-175.489578</td>\n",
       "      <td>11455</td>\n",
       "      <td>10648</td>\n",
       "      <td>2011-09-30</td>\n",
       "      <td>/data/Projects/Oceanography/data/LLC/ThetaUVSa...</td>\n",
       "      <td>s3://llc/mae/Recon/mae_reconstruct_t35_p50.h5</td>\n",
       "      <td>llc_144_nonoise</td>\n",
       "      <td>64</td>\n",
       "      <td>402050</td>\n",
       "      <td>...</td>\n",
       "      <td>226.181091</td>\n",
       "      <td>220.214294</td>\n",
       "      <td>231.398315</td>\n",
       "      <td>281.954102</td>\n",
       "      <td>211.199585</td>\n",
       "      <td>219.695312</td>\n",
       "      <td>230.321899</td>\n",
       "      <td>242.675842</td>\n",
       "      <td>226.747925</td>\n",
       "      <td>0.019926</td>\n",
       "    </tr>\n",
       "  </tbody>\n",
       "</table>\n",
       "<p>5 rows × 33 columns</p>\n",
       "</div>"
      ],
      "text/plain": [
       "          lat         lon    row    col   datetime  \\\n",
       "8   56.642715 -179.489578  11455  10456 2011-09-30   \n",
       "9   56.642715 -178.489578  11455  10504 2011-09-30   \n",
       "10  56.642715 -177.489578  11455  10552 2011-09-30   \n",
       "11  56.642715 -176.510422  11455  10599 2011-09-30   \n",
       "12  56.642715 -175.489578  11455  10648 2011-09-30   \n",
       "\n",
       "                                             filename  \\\n",
       "8   /data/Projects/Oceanography/data/LLC/ThetaUVSa...   \n",
       "9   /data/Projects/Oceanography/data/LLC/ThetaUVSa...   \n",
       "10  /data/Projects/Oceanography/data/LLC/ThetaUVSa...   \n",
       "11  /data/Projects/Oceanography/data/LLC/ThetaUVSa...   \n",
       "12  /data/Projects/Oceanography/data/LLC/ThetaUVSa...   \n",
       "\n",
       "                                          pp_file          pp_root  \\\n",
       "8   s3://llc/mae/Recon/mae_reconstruct_t35_p50.h5  llc_144_nonoise   \n",
       "9   s3://llc/mae/Recon/mae_reconstruct_t35_p50.h5  llc_144_nonoise   \n",
       "10  s3://llc/mae/Recon/mae_reconstruct_t35_p50.h5  llc_144_nonoise   \n",
       "11  s3://llc/mae/Recon/mae_reconstruct_t35_p50.h5  llc_144_nonoise   \n",
       "12  s3://llc/mae/Recon/mae_reconstruct_t35_p50.h5  llc_144_nonoise   \n",
       "\n",
       "    field_size  pp_idx  ...  LL_t10_p20  LL_t10_p30  LL_t10_p40  LL_t10_p50  \\\n",
       "8           64  170686  ...  299.012817  302.756042  298.496460  307.338135   \n",
       "9           64  254068  ...  199.893677  197.024353  203.142334  213.431519   \n",
       "10          64  462018  ...  160.267578  163.410767  167.850525  168.364258   \n",
       "11          64  559545  ...  181.416199  177.412354  175.369324  189.435059   \n",
       "12          64  402050  ...  226.181091  220.214294  231.398315  281.954102   \n",
       "\n",
       "    LL_t35_p10  LL_t35_p20  LL_t35_p30  LL_t35_p40  LL_t35_p50      bias  \n",
       "8   295.663147  299.283936  313.300415  311.911865  322.112061  0.021002  \n",
       "9   185.846313  196.908752  187.559082  203.118774  228.070251  0.020644  \n",
       "10  148.482788  158.051270  164.441589  161.891846  176.772827  0.012069  \n",
       "11  174.824951  175.500244  177.849365  193.722900  204.234619  0.022669  \n",
       "12  211.199585  219.695312  230.321899  242.675842  226.747925  0.019926  \n",
       "\n",
       "[5 rows x 33 columns]"
      ]
     },
     "execution_count": 33,
     "metadata": {},
     "output_type": "execute_result"
    }
   ],
   "source": [
    "llc_tbl.head()"
   ]
  },
  {
   "cell_type": "markdown",
   "id": "03c3e021-c9e2-44b2-8f60-8d49ea70e1ca",
   "metadata": {},
   "source": [
    "## Write to speed things up for reanalysis"
   ]
  },
  {
   "cell_type": "code",
   "execution_count": 34,
   "id": "9a31224c-cb3b-4878-9a84-6076002953cb",
   "metadata": {
    "tags": []
   },
   "outputs": [],
   "source": [
    "llc_tbl.to_parquet('llc_with_bias.parquet')"
   ]
  },
  {
   "cell_type": "code",
   "execution_count": 35,
   "id": "b7dfacbc-efff-4ad6-b5c6-cc8e8025ab45",
   "metadata": {
    "tags": []
   },
   "outputs": [
    {
     "data": {
      "text/plain": [
       "Index(['lat', 'lon', 'row', 'col', 'datetime', 'filename', 'pp_file',\n",
       "       'pp_root', 'field_size', 'pp_idx', 'pp_type', 'mean_temperature',\n",
       "       'Tmin', 'Tmax', 'T90', 'T10', 'LL', 'LL_t75_p10', 'LL_t75_p20',\n",
       "       'LL_t75_p30', 'LL_t75_p40', 'LL_t75_p50', 'LL_t10_p10', 'LL_t10_p20',\n",
       "       'LL_t10_p30', 'LL_t10_p40', 'LL_t10_p50', 'LL_t35_p10', 'LL_t35_p20',\n",
       "       'LL_t35_p30', 'LL_t35_p40', 'LL_t35_p50', 'bias'],\n",
       "      dtype='object')"
      ]
     },
     "execution_count": 35,
     "metadata": {},
     "output_type": "execute_result"
    }
   ],
   "source": [
    "llc_tbl.keys()"
   ]
  },
  {
   "cell_type": "markdown",
   "id": "ea288cc1-64f8-4c0e-b6ba-400d8302eeab",
   "metadata": {},
   "source": [
    "----"
   ]
  },
  {
   "cell_type": "markdown",
   "id": "b1dea8ae-5807-45e0-8242-52cb47617ed4",
   "metadata": {},
   "source": [
    "# Correlate me"
   ]
  },
  {
   "cell_type": "code",
   "execution_count": 44,
   "id": "a7a55ecc-1820-4659-82c1-29f4321121f4",
   "metadata": {
    "tags": []
   },
   "outputs": [
    {
     "name": "stderr",
     "output_type": "stream",
     "text": [
      "/home/xavier/miniconda3/envs/os/lib/python3.10/site-packages/seaborn/distributions.py:2142: UserWarning: `displot` is a figure-level function and does not accept the ax= parameter. You may wish to try histplot.\n",
      "  warnings.warn(msg, UserWarning)\n",
      "/home/xavier/miniconda3/envs/os/lib/python3.10/site-packages/pandas/core/arraylike.py:402: RuntimeWarning: invalid value encountered in log10\n",
      "  result = getattr(ufunc, method)(*inputs, **kwargs)\n"
     ]
    },
    {
     "data": {
      "application/vnd.jupyter.widget-view+json": {
       "model_id": "d44159fb1dc2462483cc0e3a35b7ca4e",
       "version_major": 2,
       "version_minor": 0
      },
      "image/png": "[encoded data removed]",
      "text/html": [
       "\n",
       "            <div style=\"display: inline-block;\">\n",
       "                <div class=\"jupyter-widgets widget-label\" style=\"text-align: center;\">\n",
       "                    Figure\n",
       "                </div>\n",
       "                <img src='data:image/png;base64,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' width=500.0/>\n",
       "            </div>\n",
       "        "
      ],
      "text/plain": [
       "Canvas(toolbar=Toolbar(toolitems=[('Home', 'Reset original view', 'home', 'home'), ('Back', 'Back to previous …"
      ]
     },
     "metadata": {},
     "output_type": "display_data"
    }
   ],
   "source": [
    "plt.clf()\n",
    "ax = plt.gca()\n",
    "sns.displot(data=llc_tbl, x='LL', y='bias', log_scale=(True,False), ax=ax)\n",
    "plt.show()"
   ]
  },
  {
   "cell_type": "code",
   "execution_count": null,
   "id": "a4c5de9a-6beb-43a3-89af-8cdcecd605a1",
   "metadata": {},
   "outputs": [],
   "source": []
  }
 ],
 "metadata": {
  "kernelspec": {
   "display_name": "Python 3 (ipykernel)",
   "language": "python",
   "name": "python3"
  },
  "language_info": {
   "codemirror_mode": {
    "name": "ipython",
    "version": 3
   },
   "file_extension": ".py",
   "mimetype": "text/x-python",
   "name": "python",
   "nbconvert_exporter": "python",
   "pygments_lexer": "ipython3",
   "version": "3.10.9"
  }
 },
 "nbformat": 4,
 "nbformat_minor": 5
}
