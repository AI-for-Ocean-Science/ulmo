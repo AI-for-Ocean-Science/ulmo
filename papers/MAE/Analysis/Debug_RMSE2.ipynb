{
 "cells": [
  {
   "cell_type": "markdown",
   "id": "ce7e9f50-bacc-43d2-9fc0-3639105ee0f4",
   "metadata": {},
   "source": [
    "# Debug RMSE Part 2"
   ]
  },
  {
   "cell_type": "code",
   "execution_count": 1,
   "id": "dc1ce2bf-e3a8-481f-844d-cc30495c3407",
   "metadata": {
    "tags": []
   },
   "outputs": [],
   "source": [
    "# imports\n",
    "import os\n",
    "import numpy as np\n",
    "\n",
    "import seaborn as sns\n",
    "import h5py\n",
    "\n",
    "from ulmo import io as ulmo_io\n",
    "from ulmo.plotting import plotting\n",
    "from ulmo.mae import cutout_analysis"
   ]
  },
  {
   "cell_type": "markdown",
   "id": "9fd23418-b5a7-4f31-acce-7d4dca7c04ca",
   "metadata": {},
   "source": [
    "# Load up"
   ]
  },
  {
   "cell_type": "code",
   "execution_count": 2,
   "id": "a02d57ea-f5b9-4f21-883e-5456f56bd527",
   "metadata": {
    "tags": []
   },
   "outputs": [],
   "source": [
    "recon_file35 = os.path.join(os.getenv('OS_OGCM'), 'LLC', 'Enki', 'Recon', 'mae_reconstruct_t35_p30.h5')\n",
    "recon_file75 = os.path.join(os.getenv('OS_OGCM'), 'LLC', 'Enki', 'Recon', 'mae_reconstruct_t75_p30.h5')"
   ]
  },
  {
   "cell_type": "code",
   "execution_count": 3,
   "id": "ae2e2b4e-4ba7-4a1a-a447-9831a0b4bba1",
   "metadata": {
    "tags": []
   },
   "outputs": [],
   "source": [
    "f_35 = h5py.File(recon_file35, 'r')\n",
    "f_75 = h5py.File(recon_file75, 'r')"
   ]
  },
  {
   "cell_type": "markdown",
   "id": "342b7e5c-e6a0-413c-991c-93737e75b324",
   "metadata": {},
   "source": [
    "# Compare"
   ]
  },
  {
   "cell_type": "code",
   "execution_count": 4,
   "id": "3d739329-14c3-4845-8345-53041f894824",
   "metadata": {
    "tags": []
   },
   "outputs": [],
   "source": [
    "i0_35 = f_35['valid'][0,0,...]\n",
    "i0_75 = f_75['valid'][0,0,...]"
   ]
  },
  {
   "cell_type": "code",
   "execution_count": 5,
   "id": "a62b6c1b-e83b-424b-b791-5b9560e104c0",
   "metadata": {
    "tags": []
   },
   "outputs": [
    {
     "data": {
      "text/plain": [
       "(64, 64)"
      ]
     },
     "execution_count": 5,
     "metadata": {},
     "output_type": "execute_result"
    }
   ],
   "source": [
    "i0_35.shape"
   ]
  },
  {
   "cell_type": "markdown",
   "id": "3ca48a5d-3d00-4352-b91a-83c7564e9a0d",
   "metadata": {},
   "source": [
    "## Diff me"
   ]
  },
  {
   "cell_type": "code",
   "execution_count": 6,
   "id": "066c6a19-8d2f-48d3-a220-1c8e6a1079e6",
   "metadata": {
    "tags": []
   },
   "outputs": [],
   "source": [
    "diff = i0_35- i0_75"
   ]
  },
  {
   "cell_type": "code",
   "execution_count": 7,
   "id": "a384ef65-4bdc-4e4f-bf24-749e262700aa",
   "metadata": {
    "tags": []
   },
   "outputs": [
    {
     "data": {
      "text/plain": [
       "<Axes: >"
      ]
     },
     "execution_count": 7,
     "metadata": {},
     "output_type": "execute_result"
    },
    {
     "data": {
      "image/png": "[encoded data removed]",
      "text/plain": [
       "<Figure size 640x480 with 2 Axes>"
      ]
     },
     "metadata": {},
     "output_type": "display_data"
    }
   ],
   "source": [
    "plotting.show_image(diff)"
   ]
  },
  {
   "cell_type": "markdown",
   "id": "0617f4c1-566b-41d6-b123-fc79ba84bab0",
   "metadata": {},
   "source": [
    "# RMSE"
   ]
  },
  {
   "cell_type": "markdown",
   "id": "5d75be14-4e99-412b-8336-83a273da2923",
   "metadata": {},
   "source": [
    "## Load the rest"
   ]
  },
  {
   "cell_type": "code",
   "execution_count": 8,
   "id": "1acb0907-2679-40ff-b582-a48e37c4a481",
   "metadata": {
    "tags": []
   },
   "outputs": [],
   "source": [
    "mask_file35 = os.path.join(os.getenv('OS_OGCM'), 'LLC', 'Enki', 'Recon', 'mae_mask_t35_p30.h5')\n",
    "mask_file75 = os.path.join(os.getenv('OS_OGCM'), 'LLC', 'Enki', 'Recon', 'mae_mask_t75_p30.h5')"
   ]
  },
  {
   "cell_type": "code",
   "execution_count": 9,
   "id": "9dcc987c-2cbc-4a8d-8e30-91f27a1d664d",
   "metadata": {
    "tags": []
   },
   "outputs": [],
   "source": [
    "f_mask_35 = h5py.File(mask_file35, 'r')\n",
    "f_mask_75 = h5py.File(mask_file75, 'r')"
   ]
  },
  {
   "cell_type": "code",
   "execution_count": 10,
   "id": "5441595a-221c-4496-9f34-42f50ee96eac",
   "metadata": {
    "tags": []
   },
   "outputs": [],
   "source": [
    "mask_0_35 = f_mask_35['valid'][0,0,...]\n",
    "mask_0_75 = f_mask_75['valid'][0,0,...]"
   ]
  },
  {
   "cell_type": "code",
   "execution_count": 11,
   "id": "fa644db4-c709-483c-b4aa-7ba963c2fe79",
   "metadata": {
    "tags": []
   },
   "outputs": [],
   "source": [
    "orig_file = os.path.join(os.getenv('OS_OGCM'), 'LLC', 'Enki', 'PreProc', 'MAE_LLC_valid_nonoise_preproc.h5')\n",
    "f_orig = h5py.File(orig_file, 'r')"
   ]
  },
  {
   "cell_type": "code",
   "execution_count": 12,
   "id": "6936c1f6-4727-4aa5-8a1a-fcdcef27fd9e",
   "metadata": {
    "tags": []
   },
   "outputs": [],
   "source": [
    "orig_0 = f_orig['valid'][0,0,...]"
   ]
  },
  {
   "cell_type": "markdown",
   "id": "bcda7d49-52fe-45b6-bb0b-7e0578c0bb95",
   "metadata": {},
   "source": [
    "## Single"
   ]
  },
  {
   "cell_type": "code",
   "execution_count": 13,
   "id": "1548f142-1cd3-47d3-a6f7-f33da12311a3",
   "metadata": {
    "tags": []
   },
   "outputs": [
    {
     "data": {
      "text/plain": [
       "(0.03309219268494642, 0.036424134817382194)"
      ]
     },
     "execution_count": 13,
     "metadata": {},
     "output_type": "execute_result"
    }
   ],
   "source": [
    "irms_35 = cutout_analysis.rms_single_img(orig_0, i0_35, mask_0_35)\n",
    "irms_75 = cutout_analysis.rms_single_img(orig_0, i0_75, mask_0_75)\n",
    "irms_35, irms_75"
   ]
  },
  {
   "cell_type": "markdown",
   "id": "0b152858-2905-4411-b4a4-43147a26c14d",
   "metadata": {},
   "source": [
    "## Table"
   ]
  },
  {
   "cell_type": "code",
   "execution_count": 19,
   "id": "53154e42-aacf-4b8a-b661-3015b05e9b0e",
   "metadata": {
    "tags": []
   },
   "outputs": [
    {
     "name": "stdout",
     "output_type": "stream",
     "text": [
      "Read main table: /home/xavier/Projects/Oceanography/OGCM/LLC/Enki/Tables/MAE_LLC_valid_nonoise.parquet\n"
     ]
    }
   ],
   "source": [
    "valid_file = os.path.join(os.getenv('OS_OGCM'), 'LLC', 'Enki', 'Tables', 'MAE_LLC_valid_nonoise.parquet')\n",
    "tbl = ulmo_io.load_main_table(valid_file)"
   ]
  },
  {
   "cell_type": "code",
   "execution_count": 20,
   "id": "ce693f05-c76d-4536-a462-7a4c343c52f4",
   "metadata": {
    "tags": []
   },
   "outputs": [
    {
     "data": {
      "text/plain": [
       "array([118547])"
      ]
     },
     "execution_count": 20,
     "metadata": {},
     "output_type": "execute_result"
    }
   ],
   "source": [
    "idx = np.where(tbl.pp_idx == 0)[0]\n",
    "idx"
   ]
  },
  {
   "cell_type": "code",
   "execution_count": 21,
   "id": "cf0eb901-e49f-4dee-a2e0-9288ee224e46",
   "metadata": {
    "tags": []
   },
   "outputs": [
    {
     "data": {
      "text/plain": [
       "lat                                                         50.477859\n",
       "lon                                                         146.46875\n",
       "row                                                             10931\n",
       "col                                                              8822\n",
       "datetime                                          2011-11-30 00:00:00\n",
       "filename            /data/Projects/Oceanography/data/LLC/ThetaUVSa...\n",
       "pp_file                 s3://llc/mae/Recon/mae_reconstruct_t35_p50.h5\n",
       "pp_root                                               llc_144_nonoise\n",
       "field_size                                                         64\n",
       "pp_idx                                                              0\n",
       "pp_type                                                             0\n",
       "mean_temperature                                             1.481344\n",
       "Tmin                                                            0.631\n",
       "Tmax                                                            2.414\n",
       "T90                                                          1.929999\n",
       "T10                                                          1.044999\n",
       "LL                                                         391.267578\n",
       "LL_t75_p10                                                 374.919067\n",
       "LL_t75_p20                                                 368.600586\n",
       "LL_t75_p30                                                 380.874023\n",
       "LL_t75_p40                                                 389.131714\n",
       "LL_t75_p50                                                 390.061951\n",
       "LL_t10_p10                                                 380.393921\n",
       "LL_t10_p20                                                 382.898438\n",
       "LL_t10_p30                                                 383.348877\n",
       "LL_t10_p40                                                -240.742859\n",
       "LL_t10_p50                                                -159.928406\n",
       "LL_t35_p10                                                 363.908447\n",
       "LL_t35_p20                                                 374.617371\n",
       "LL_t35_p30                                                 377.265747\n",
       "LL_t35_p40                                                 370.608765\n",
       "LL_t35_p50                                                 391.267578\n",
       "RMS_t10_p10                                                  0.012083\n",
       "RMS_t10_p20                                                  0.008859\n",
       "RMS_t10_p30                                                  0.016932\n",
       "RMS_t10_p40                                                  0.099333\n",
       "RMS_t10_p50                                                  0.503537\n",
       "RMS_t35_p10                                                  0.072688\n",
       "RMS_t35_p20                                                  0.029943\n",
       "RMS_t35_p30                                                  0.033092\n",
       "RMS_t35_p40                                                  0.049123\n",
       "RMS_t35_p50                                                  0.045153\n",
       "RMS_t75_p10                                                  0.040261\n",
       "RMS_t75_p20                                                   0.03513\n",
       "RMS_t75_p30                                                  0.036424\n",
       "RMS_t75_p40                                                  0.044622\n",
       "RMS_t75_p50                                                  0.038204\n",
       "DT                                                              0.885\n",
       "RMS_t50_p10                                                  0.158613\n",
       "RMS_t50_p20                                                  0.121656\n",
       "RMS_t50_p30                                                  0.067154\n",
       "RMS_t50_p40                                                  0.027007\n",
       "RMS_t50_p50                                                  0.014947\n",
       "Name: 118547, dtype: object"
      ]
     },
     "execution_count": 21,
     "metadata": {},
     "output_type": "execute_result"
    }
   ],
   "source": [
    "tbl.iloc[idx[0]]"
   ]
  },
  {
   "cell_type": "markdown",
   "id": "b5f3f71d-cffa-4387-9b5c-00b0d1dfd7b5",
   "metadata": {},
   "source": [
    "## Histogram"
   ]
  },
  {
   "cell_type": "code",
   "execution_count": 32,
   "id": "3f683308-ddbc-415a-9b85-da0029ffd658",
   "metadata": {
    "tags": []
   },
   "outputs": [
    {
     "data": {
      "text/plain": [
       "(-0.05, 0.05)"
      ]
     },
     "execution_count": 32,
     "metadata": {},
     "output_type": "execute_result"
    },
    {
     "data": {
      "image/png": "[encoded data removed]",
      "text/plain": [
       "<Figure size 640x480 with 1 Axes>"
      ]
     },
     "metadata": {},
     "output_type": "display_data"
    }
   ],
   "source": [
    "ax = sns.histplot(tbl.RMS_t35_p30-tbl.RMS_t75_p30)#, log_scale=(True,False))\n",
    "ax.set_xlim(-0.05, 0.05)"
   ]
  },
  {
   "cell_type": "markdown",
   "id": "a01d856c-5b83-4ee9-997f-49604e487496",
   "metadata": {},
   "source": [
    "# Complex"
   ]
  },
  {
   "cell_type": "code",
   "execution_count": 33,
   "id": "144349ea-dcf2-440f-b28b-89d9bdc41815",
   "metadata": {
    "tags": []
   },
   "outputs": [],
   "source": [
    "cmplx = tbl.LL < -150."
   ]
  },
  {
   "cell_type": "code",
   "execution_count": 25,
   "id": "0d4ddba0-7082-4bd7-8088-f66036c5d789",
   "metadata": {
    "tags": []
   },
   "outputs": [],
   "source": [
    "cmplx_tbl = tbl[cmplx].copy()"
   ]
  },
  {
   "cell_type": "code",
   "execution_count": 34,
   "id": "9a68f23a-3e8f-432d-94f3-da1a4f0cf5d2",
   "metadata": {
    "tags": []
   },
   "outputs": [
    {
     "data": {
      "text/plain": [
       "(-0.05, 0.05)"
      ]
     },
     "execution_count": 34,
     "metadata": {},
     "output_type": "execute_result"
    },
    {
     "data": {
      "image/png": "[encoded data removed]",
      "text/plain": [
       "<Figure size 640x480 with 1 Axes>"
      ]
     },
     "metadata": {},
     "output_type": "display_data"
    }
   ],
   "source": [
    "ax = sns.histplot(cmplx_tbl.RMS_t35_p30-cmplx_tbl.RMS_t75_p30)\n",
    "ax.set_xlim(-0.05, 0.05)"
   ]
  },
  {
   "cell_type": "code",
   "execution_count": 29,
   "id": "e5e9ba91-2488-44e9-9765-c5d52412e7f5",
   "metadata": {
    "tags": []
   },
   "outputs": [
    {
     "data": {
      "text/plain": [
       "(0.10350745701035338, 0.10356417610461413)"
      ]
     },
     "execution_count": 29,
     "metadata": {},
     "output_type": "execute_result"
    }
   ],
   "source": [
    "np.nanmean(cmplx_tbl.RMS_t35_p30),  np.nanmean(cmplx_tbl.RMS_t75_p30) "
   ]
  },
  {
   "cell_type": "code",
   "execution_count": 31,
   "id": "def657ab-7ba0-43bd-938e-be66fecbeabf",
   "metadata": {
    "tags": []
   },
   "outputs": [
    {
     "data": {
      "text/plain": [
       "(0.08553365245461464, 0.08545922860503197)"
      ]
     },
     "execution_count": 31,
     "metadata": {},
     "output_type": "execute_result"
    }
   ],
   "source": [
    "np.nanmedian(cmplx_tbl.RMS_t35_p30),  np.nanmedian(cmplx_tbl.RMS_t75_p30) "
   ]
  },
  {
   "cell_type": "code",
   "execution_count": null,
   "id": "67ce0f79-c686-4e05-b2fa-fbef1893975c",
   "metadata": {},
   "outputs": [],
   "source": []
  }
 ],
 "metadata": {
  "kernelspec": {
   "display_name": "Python 3 (ipykernel)",
   "language": "python",
   "name": "python3"
  },
  "language_info": {
   "codemirror_mode": {
    "name": "ipython",
    "version": 3
   },
   "file_extension": ".py",
   "mimetype": "text/x-python",
   "name": "python",
   "nbconvert_exporter": "python",
   "pygments_lexer": "ipython3",
   "version": "3.10.9"
  }
 },
 "nbformat": 4,
 "nbformat_minor": 5
}
