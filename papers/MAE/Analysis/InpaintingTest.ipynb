{
 "cells": [
  {
   "cell_type": "markdown",
   "id": "4639778c-0dfb-44a8-b6be-781d618dde0b",
   "metadata": {},
   "source": [
    "# Test Recon vs. Inpainting"
   ]
  },
  {
   "cell_type": "code",
   "execution_count": 15,
   "id": "482d7d35-fa7b-44ae-97dd-bb75d6bac345",
   "metadata": {
    "tags": []
   },
   "outputs": [],
   "source": [
    "# imports\n",
    "from importlib import reload\n",
    "import numpy as np\n",
    "import os\n",
    "\n",
    "import h5py\n",
    "\n",
    "import pandas\n",
    "from skimage.restoration import inpaint as sk_inpaint\n",
    "\n",
    "import seaborn as sns\n",
    "from matplotlib import pyplot as plt\n",
    "\n",
    "from ulmo.mae import bias\n",
    "from ulmo.mae import mae_utils\n",
    "from ulmo import io as ulmo_io\n",
    "from ulmo.plotting import plotting "
   ]
  },
  {
   "cell_type": "markdown",
   "id": "f0d5e775-c053-4b86-8d38-039fc4d8ea0c",
   "metadata": {},
   "source": [
    "# Load up "
   ]
  },
  {
   "cell_type": "code",
   "execution_count": 2,
   "id": "ca53d607-4866-430a-9c41-4c0d3d90167e",
   "metadata": {
    "tags": []
   },
   "outputs": [],
   "source": [
    "enki_path = os.path.join(os.getenv('OS_OGCM'), 'LLC', 'Enki')"
   ]
  },
  {
   "cell_type": "code",
   "execution_count": 5,
   "id": "2b1630d1-06f1-4f70-9d36-f43dd4dc8aba",
   "metadata": {
    "tags": []
   },
   "outputs": [],
   "source": [
    "orig_file = os.path.join(enki_path, 'PreProc', 'MAE_LLC_valid_nonoise_preproc.h5')\n",
    "f_orig = h5py.File(orig_file, 'r')"
   ]
  },
  {
   "cell_type": "code",
   "execution_count": 4,
   "id": "acb7506e-443a-43ca-ad22-6f2c641807c7",
   "metadata": {
    "tags": []
   },
   "outputs": [],
   "source": [
    "t, p = 10, 10\n",
    "recon_file = mae_utils.img_filename(t,p, local=True)\n",
    "f_recon = h5py.File(recon_file,'r')"
   ]
  },
  {
   "cell_type": "code",
   "execution_count": 9,
   "id": "e32978c3-3995-449e-bf7b-420f2d4dd1eb",
   "metadata": {
    "tags": []
   },
   "outputs": [],
   "source": [
    "reload(mae_utils)\n",
    "mask_file = mae_utils.mask_filename(t,p, local=True)\n",
    "f_mask = h5py.File(mask_file,'r')"
   ]
  },
  {
   "cell_type": "markdown",
   "id": "742a7210-fc9f-4506-b9d4-b6c9db27da10",
   "metadata": {},
   "source": [
    "# Test one"
   ]
  },
  {
   "cell_type": "code",
   "execution_count": 6,
   "id": "0b09923b-f24b-44f4-bc3e-1b32e8c88740",
   "metadata": {
    "tags": []
   },
   "outputs": [
    {
     "data": {
      "text/plain": [
       "(655788, 1, 64, 64)"
      ]
     },
     "execution_count": 6,
     "metadata": {},
     "output_type": "execute_result"
    }
   ],
   "source": [
    "f_orig['valid'].shape"
   ]
  },
  {
   "cell_type": "code",
   "execution_count": null,
   "id": "74545a73-14b1-45ae-8de9-9cc4175ec70d",
   "metadata": {},
   "outputs": [],
   "source": []
  },
  {
   "cell_type": "code",
   "execution_count": 10,
   "id": "4081100f-5df1-4653-bec1-ed7ce0411cf3",
   "metadata": {
    "tags": []
   },
   "outputs": [],
   "source": [
    "orig0 = f_orig['valid'][0,0,...]\n",
    "recon0 = f_recon['valid'][0,0,...]\n",
    "mask0 = f_mask['valid'][0,0,...]"
   ]
  },
  {
   "cell_type": "code",
   "execution_count": 11,
   "id": "9e511144-345d-41ca-8df9-3b63ca8a7d58",
   "metadata": {
    "tags": []
   },
   "outputs": [
    {
     "data": {
      "text/plain": [
       "0.1015625"
      ]
     },
     "execution_count": 11,
     "metadata": {},
     "output_type": "execute_result"
    }
   ],
   "source": [
    "np.sum(mask0 == 1)/mask0.size"
   ]
  },
  {
   "cell_type": "markdown",
   "id": "b0c55f5a-64b4-4bdb-b34f-d21389e6341c",
   "metadata": {},
   "source": [
    "## Inpaint"
   ]
  },
  {
   "cell_type": "code",
   "execution_count": 14,
   "id": "75bbc4ff-62ea-4a60-8919-01abce01b193",
   "metadata": {
    "tags": []
   },
   "outputs": [],
   "source": [
    "inpaint0 = sk_inpaint.inpaint_biharmonic(orig0, mask0, channel_axis=None)"
   ]
  },
  {
   "cell_type": "markdown",
   "id": "1c1d8422-423b-41ef-984a-cfb902c19173",
   "metadata": {},
   "source": [
    "## Check them out"
   ]
  },
  {
   "cell_type": "code",
   "execution_count": 28,
   "id": "43c45942-2b86-4967-92b4-ddd8fcd9dd0f",
   "metadata": {
    "tags": []
   },
   "outputs": [
    {
     "data": {
      "text/plain": [
       "<Figure size 640x480 with 0 Axes>"
      ]
     },
     "metadata": {},
     "output_type": "display_data"
    },
    {
     "data": {
      "image/png": "[encoded data removed]",
      "text/plain": [
       "<Figure size 1200x800 with 3 Axes>"
      ]
     },
     "metadata": {},
     "output_type": "display_data"
    }
   ],
   "source": [
    "reload(plotting)\n",
    "plt.clf()\n",
    "#plt.figure(figsize=(12,8))\n",
    "_, axs = plt.subplots(1, 3, figsize=(12,8))#, layout='constrained', sharex=True, sharey=True)\n",
    "\n",
    "vmnx = [-1.,1.]\n",
    "_ = plotting.show_image(orig0, ax=axs[0], set_aspect='equal', vmnx=vmnx, cbar=False)\n",
    "_ = plotting.show_image(recon0, ax=axs[1], set_aspect='equal', vmnx=vmnx, cbar=False)\n",
    "_ = plotting.show_image(inpaint0, ax=axs[2], set_aspect='equal', vmnx=vmnx, cbar=False)\n",
    "\n",
    "#\n",
    "plt.show()"
   ]
  },
  {
   "cell_type": "markdown",
   "id": "af784089-41f3-4905-b55d-1c7dba26c5e0",
   "metadata": {},
   "source": [
    "## Diff me"
   ]
  },
  {
   "cell_type": "code",
   "execution_count": 29,
   "id": "65582276-b31f-4c45-8034-18097d4bf9ea",
   "metadata": {
    "tags": []
   },
   "outputs": [],
   "source": [
    "diff_reco = recon0 - orig0\n",
    "diff_inpaint = inpaint0 - orig0"
   ]
  },
  {
   "cell_type": "code",
   "execution_count": 32,
   "id": "a1c099f3-2c8f-433d-8543-6e16403f05cc",
   "metadata": {
    "tags": []
   },
   "outputs": [
    {
     "data": {
      "text/plain": [
       "<Figure size 640x480 with 0 Axes>"
      ]
     },
     "metadata": {},
     "output_type": "display_data"
    },
    {
     "data": {
      "image/png": "[encoded data removed]",
      "text/plain": [
       "<Figure size 1200x800 with 3 Axes>"
      ]
     },
     "metadata": {},
     "output_type": "display_data"
    }
   ],
   "source": [
    "reload(plotting)\n",
    "plt.clf()\n",
    "#plt.figure(figsize=(12,8))\n",
    "_, axs = plt.subplots(1, 2, figsize=(12,8))#, layout='constrained', sharex=True, sharey=True)\n",
    "\n",
    "vmnx = [-0.1,0.1]\n",
    "cm = 'bwr'\n",
    "_ = plotting.show_image(diff_reco, ax=axs[0], set_aspect='equal', vmnx=vmnx, cbar=True, cm=cm)\n",
    "_ = plotting.show_image(diff_inpaint, ax=axs[1], set_aspect='equal', vmnx=vmnx, cbar=False, cm=cm)\n",
    "#_ = plotting.show_image(inpaint0, ax=axs[2], set_aspect='equal', vmnx=vmnx, cbar=False)\n",
    "\n",
    "#\n",
    "plt.show()"
   ]
  },
  {
   "cell_type": "code",
   "execution_count": null,
   "id": "683498b9-ca54-4706-8377-3d884e5593fa",
   "metadata": {},
   "outputs": [],
   "source": [
    "np.std(diff_reco["
   ]
  }
 ],
 "metadata": {
  "kernelspec": {
   "display_name": "Python 3 (ipykernel)",
   "language": "python",
   "name": "python3"
  },
  "language_info": {
   "codemirror_mode": {
    "name": "ipython",
    "version": 3
   },
   "file_extension": ".py",
   "mimetype": "text/x-python",
   "name": "python",
   "nbconvert_exporter": "python",
   "pygments_lexer": "ipython3",
   "version": "3.10.9"
  }
 },
 "nbformat": 4,
 "nbformat_minor": 5
}
