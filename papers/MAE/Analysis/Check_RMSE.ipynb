{
 "cells": [
  {
   "cell_type": "markdown",
   "id": "70b20950-0869-47b5-8b89-2c2fbce09ac7",
   "metadata": {},
   "source": [
    "# Check RMSE"
   ]
  },
  {
   "cell_type": "code",
   "execution_count": 30,
   "id": "dfc62494-f548-41b1-b115-f300711b0941",
   "metadata": {
    "tags": []
   },
   "outputs": [],
   "source": [
    "# imports\n",
    "from importlib import reload\n",
    "import os \n",
    "import numpy as np\n",
    "from scipy.sparse import csc_matrix\n",
    "\n",
    "import h5py\n",
    "\n",
    "from ulmo.mae import cutout_analysis\n",
    "from ulmo.mae import mae_utils\n",
    "\n",
    "import anly_rms"
   ]
  },
  {
   "cell_type": "markdown",
   "id": "476b582f-d152-4ff7-a827-da13363b16af",
   "metadata": {},
   "source": [
    "# Load up LLC"
   ]
  },
  {
   "cell_type": "code",
   "execution_count": 7,
   "id": "f60659e2-855e-4eae-966c-585f02b9206a",
   "metadata": {
    "tags": []
   },
   "outputs": [],
   "source": [
    "t,p = 10, 10\n",
    "mae_valid_nonoise_tbl_file = 's3://llc/mae/Tables/MAE_LLC_valid_nonoise.parquet'\n",
    "\n",
    "ogcm_path = os.getenv('OS_OGCM')\n",
    "if ogcm_path is not None:\n",
    "    enki_path = os.path.join(os.getenv('OS_OGCM'), 'LLC', 'Enki')\n",
    "    local_mae_valid_nonoise_file = os.path.join(enki_path, 'PreProc', 'MAE_LLC_valid_nonoise_preproc.h5')\n"
   ]
  },
  {
   "cell_type": "code",
   "execution_count": 8,
   "id": "e9c58b72-ee5e-4550-898f-fd891c0112f6",
   "metadata": {
    "tags": []
   },
   "outputs": [],
   "source": [
    "tbl_file = mae_valid_nonoise_tbl_file\n",
    "recon_file = mae_utils.img_filename(t,p, local=True)\n",
    "mask_file = mae_utils.mask_filename(t,p, local=True)\n",
    "orig_file = local_mae_valid_nonoise_file"
   ]
  },
  {
   "cell_type": "markdown",
   "id": "b40bcffd-8298-48ae-831d-f7b5981eb940",
   "metadata": {},
   "source": [
    "## Open up"
   ]
  },
  {
   "cell_type": "code",
   "execution_count": 11,
   "id": "505bb651-7d19-4e8c-b59d-b66ba2507765",
   "metadata": {
    "tags": []
   },
   "outputs": [],
   "source": [
    "f_orig = h5py.File(orig_file, 'r')\n",
    "f_recon = h5py.File(recon_file, 'r')\n",
    "f_mask = h5py.File(mask_file, 'r')"
   ]
  },
  {
   "cell_type": "markdown",
   "id": "02f32228-b7e2-4a90-8d10-1d0172278e61",
   "metadata": {},
   "source": [
    "# Batch approach"
   ]
  },
  {
   "cell_type": "code",
   "execution_count": 80,
   "id": "59715c98-1605-4df3-925f-9bb26a4b5369",
   "metadata": {
    "tags": []
   },
   "outputs": [
    {
     "name": "stdout",
     "output_type": "stream",
     "text": [
      "Loading images...\n",
      "Masking edges\n",
      "Calculate\n",
      "Square\n",
      "Mean\n",
      "Root\n"
     ]
    }
   ],
   "source": [
    "reload(cutout_analysis)\n",
    "rms = cutout_analysis.rms_images(f_orig, f_recon, f_mask, nimgs=100)"
   ]
  },
  {
   "cell_type": "code",
   "execution_count": 71,
   "id": "8f34270c-5488-4e9d-83e6-cf559f9e412b",
   "metadata": {
    "tags": []
   },
   "outputs": [
    {
     "data": {
      "text/plain": [
       "array([0.01208348, 0.0040086 , 0.01031118, 0.03580199, 0.02985872,\n",
       "       0.01605023, 0.00310993, 0.0078866 , 0.00259255, 0.00899036,\n",
       "       0.00623034, 0.00732086, 0.00188469, 0.00323403, 0.01437132,\n",
       "       0.01202103, 0.0024626 , 0.00579177, 0.00349934, 0.00853155,\n",
       "       0.00233403, 0.01781391, 0.00759246, 0.00557913, 0.00303644,\n",
       "       0.03465322, 0.00301932, 0.03161074, 0.00723953, 0.00865494,\n",
       "       0.00319845, 0.00634125, 0.00403289, 0.01085669, 0.00279277,\n",
       "       0.00901101, 0.00743638, 0.00558569, 0.00852947, 0.01197581,\n",
       "       0.00477717, 0.00277351, 0.04889103, 0.00301058, 0.03877452,\n",
       "       0.00310707, 0.00209346, 0.00836256, 0.00267115, 0.00262845,\n",
       "       0.00567396, 0.00305778, 0.00235853, 0.00337227, 0.00286731,\n",
       "       0.00741211, 0.00607754, 0.01464252, 0.02242037, 0.0040077 ,\n",
       "       0.0060764 , 0.00263646, 0.00685102, 0.00321847, 0.00505326,\n",
       "       0.01964377, 0.02218987, 0.0179411 , 0.03840765, 0.02410337,\n",
       "       0.02444774, 0.0058664 , 0.00241051, 0.00210187, 0.0040974 ,\n",
       "       0.00485473, 0.00228693, 0.05020716, 0.00237563, 0.00853153,\n",
       "       0.0080083 , 0.00170917, 0.00777961, 0.00370863, 0.01029997,\n",
       "       0.00581428, 0.00563451, 0.05135931, 0.00201867, 0.00362362,\n",
       "       0.00197227, 0.0020289 , 0.00169261, 0.0018973 , 0.01335445,\n",
       "       0.00732102, 0.00203453, 0.011933  , 0.02345514, 0.00593738],\n",
       "      dtype=float32)"
      ]
     },
     "execution_count": 71,
     "metadata": {},
     "output_type": "execute_result"
    }
   ],
   "source": [
    "rms"
   ]
  },
  {
   "cell_type": "markdown",
   "id": "94624604-b7ae-46ba-b44b-b42f9bfa4add",
   "metadata": {},
   "source": [
    "# One by one approach"
   ]
  },
  {
   "cell_type": "code",
   "execution_count": 72,
   "id": "98acff41-8056-4f6d-b56d-a5c8c3fc42cc",
   "metadata": {
    "tags": []
   },
   "outputs": [],
   "source": [
    "orig0 = f_orig['valid'][0,0,...]\n",
    "recon0 = f_recon['valid'][0,0,...]\n",
    "mask0 = f_mask['valid'][0,0,...]"
   ]
  },
  {
   "cell_type": "code",
   "execution_count": 73,
   "id": "1b912835-af49-40a3-abfb-f634488c01e1",
   "metadata": {
    "tags": []
   },
   "outputs": [
    {
     "data": {
      "text/plain": [
       "0.01208347991674546"
      ]
     },
     "execution_count": 73,
     "metadata": {},
     "output_type": "execute_result"
    }
   ],
   "source": [
    "reload(anly_rms)\n",
    "rms0 = anly_rms.rms_single_img(orig0, recon0, mask0)\n",
    "rms0"
   ]
  },
  {
   "cell_type": "code",
   "execution_count": 79,
   "id": "0187d3f1-5ade-40de-b613-504788603d00",
   "metadata": {
    "tags": []
   },
   "outputs": [],
   "source": [
    "one_rms = []\n",
    "for idx in range(100):\n",
    "    orig = f_orig['valid'][idx,0,...]\n",
    "    recon = f_recon['valid'][idx,0,...]\n",
    "    mask = f_mask['valid'][idx,0,...]    \n",
    "    #\n",
    "    irms = anly_rms.rms_single_img(orig, recon, mask)\n",
    "    #print(f'{idx}: rms={rms}')\n",
    "    one_rms.append(irms)\n",
    "one_rms = np.array(one_rms)"
   ]
  },
  {
   "cell_type": "code",
   "execution_count": 82,
   "id": "92563135-803f-4cc1-b90c-384d0c96ceea",
   "metadata": {
    "tags": []
   },
   "outputs": [
    {
     "data": {
      "text/plain": [
       "True"
      ]
     },
     "execution_count": 82,
     "metadata": {},
     "output_type": "execute_result"
    }
   ],
   "source": [
    "np.all(np.isclose(rms, one_rms))"
   ]
  },
  {
   "cell_type": "markdown",
   "id": "203e9ba1-9275-4840-987c-530a7c9e5a76",
   "metadata": {},
   "source": [
    "----"
   ]
  },
  {
   "cell_type": "markdown",
   "id": "fca1dd23-fb7f-4023-8a1a-c00441c158d4",
   "metadata": {},
   "source": [
    "# Debuggin"
   ]
  },
  {
   "cell_type": "markdown",
   "id": "341124ce-7d6e-47f3-b8f2-9ab3b138d9b0",
   "metadata": {},
   "source": [
    "## X"
   ]
  },
  {
   "cell_type": "code",
   "execution_count": 68,
   "id": "4dd09c57-63e8-4882-a69f-37848130f030",
   "metadata": {
    "tags": []
   },
   "outputs": [
    {
     "name": "stdout",
     "output_type": "stream",
     "text": [
      "Masking edges\n",
      "Calculate\n",
      "Square\n",
      "Mean\n",
      "Root\n"
     ]
    }
   ],
   "source": [
    "patch_sz = 4\n",
    "nimgs = 2\n",
    "\n",
    "# Grab em\n",
    "orig_imgs = f_orig['valid'][:nimgs,0,...]\n",
    "recon_imgs = f_recon['valid'][:nimgs,0,...]\n",
    "mask_imgs = f_mask['valid'][:nimgs,0,...]\n",
    "\n",
    "# Mask out edges\n",
    "print(\"Masking edges\")\n",
    "mask_imgs[:, 0:patch_sz, :] = 0\n",
    "mask_imgs[:, -patch_sz:, :] = 0\n",
    "mask_imgs[:, :, 0:patch_sz] = 0\n",
    "mask_imgs[:, :, -patch_sz:] = 0\n",
    "\n",
    "# Analyze\n",
    "print(\"Calculate\")\n",
    "calc = (orig_imgs - recon_imgs)*mask_imgs\n",
    "\n",
    "# Square\n",
    "print(\"Square\")\n",
    "calc = calc**2\n",
    "\n",
    "# Mean\n",
    "print(\"Mean\")\n",
    "nmask = np.sum(mask_imgs, axis=(1,2))\n",
    "calc = np.sum(calc, axis=(1,2)) / nmask\n",
    "\n",
    "# RMS\n",
    "print(\"Root\")\n",
    "rmss = np.sqrt(calc)"
   ]
  },
  {
   "cell_type": "code",
   "execution_count": 69,
   "id": "b41b48bb-f192-4746-9898-df6c6ec682cd",
   "metadata": {
    "tags": []
   },
   "outputs": [
    {
     "data": {
      "text/plain": [
       "array([0.01208348, 0.0040086 ], dtype=float32)"
      ]
     },
     "execution_count": 69,
     "metadata": {},
     "output_type": "execute_result"
    }
   ],
   "source": [
    "rmss"
   ]
  },
  {
   "cell_type": "code",
   "execution_count": 28,
   "id": "de70a7f8-60c6-4242-8d5d-f54c3ee90b73",
   "metadata": {
    "tags": []
   },
   "outputs": [
    {
     "data": {
      "text/plain": [
       "array([128.,  64.], dtype=float32)"
      ]
     },
     "execution_count": 28,
     "metadata": {},
     "output_type": "execute_result"
    }
   ],
   "source": [
    "nmask"
   ]
  },
  {
   "cell_type": "markdown",
   "id": "d2e033b7-6b68-4b0f-b263-1748c0e43e62",
   "metadata": {},
   "source": [
    "## Single"
   ]
  },
  {
   "cell_type": "code",
   "execution_count": 45,
   "id": "2dbe4dcb-f2ac-44c4-8be8-7461a823a46c",
   "metadata": {
    "tags": []
   },
   "outputs": [
    {
     "data": {
      "text/plain": [
       "(2, 64, 64)"
      ]
     },
     "execution_count": 45,
     "metadata": {},
     "output_type": "execute_result"
    }
   ],
   "source": [
    "mask_imgs.shape"
   ]
  },
  {
   "cell_type": "code",
   "execution_count": 31,
   "id": "9d1b9314-fcb1-49c8-bb2d-b0e7b0b02555",
   "metadata": {
    "tags": []
   },
   "outputs": [],
   "source": [
    "mask_sparse = csc_matrix(mask_imgs[0,...])\n",
    "mask_i,mask_j = mask_sparse.nonzero()"
   ]
  },
  {
   "cell_type": "code",
   "execution_count": 32,
   "id": "a79aaaa0-6212-47a0-9e2b-40534b7966bb",
   "metadata": {
    "tags": []
   },
   "outputs": [
    {
     "data": {
      "text/plain": [
       "128"
      ]
     },
     "execution_count": 32,
     "metadata": {},
     "output_type": "execute_result"
    }
   ],
   "source": [
    "len(mask_i)"
   ]
  },
  {
   "cell_type": "code",
   "execution_count": 33,
   "id": "09f683d6-1d1c-471b-8989-d3d22098bfb7",
   "metadata": {
    "tags": []
   },
   "outputs": [
    {
     "data": {
      "text/plain": [
       "(64, 64)"
      ]
     },
     "execution_count": 33,
     "metadata": {},
     "output_type": "execute_result"
    }
   ],
   "source": [
    "orig0.shape"
   ]
  },
  {
   "cell_type": "code",
   "execution_count": 64,
   "id": "acc881ad-f9d9-4cb1-84bd-6210829ffdc2",
   "metadata": {
    "tags": []
   },
   "outputs": [],
   "source": [
    "orig_img  = orig0[4:-4, 4:-4]\n",
    "recon_img = recon0[4:-4, 4:-4]\n",
    "mask_img  = mask0[4:-4, 4:-4]\n",
    "\n",
    "# Find i,j positions from mask\n",
    "mask_sparse = csc_matrix(mask_img)\n",
    "mask_i,mask_j = mask_sparse.nonzero()\n",
    "\n",
    "# Find differences\n",
    "diff = np.zeros(len(mask_i))\n",
    "for idx, (i, j) in enumerate(zip(mask_i, mask_j)):\n",
    "    diff[idx] = orig_img[i,j] - recon_img[i,j]"
   ]
  },
  {
   "cell_type": "code",
   "execution_count": 67,
   "id": "78bcb772-9843-4cc6-99bd-dc47e5c59fcc",
   "metadata": {
    "tags": []
   },
   "outputs": [
    {
     "name": "stderr",
     "output_type": "stream",
     "text": [
      "/tmp/ipykernel_151583/3657733041.py:2: DeprecationWarning: elementwise comparison failed; this will raise an error in the future.\n",
      "  np.all(tmp == mask0)\n"
     ]
    },
    {
     "data": {
      "text/plain": [
       "False"
      ]
     },
     "execution_count": 67,
     "metadata": {},
     "output_type": "execute_result"
    }
   ],
   "source": [
    "tmp = mask_imgs[0,4:-4,4:-4]\n",
    "np.all(tmp == mask0)"
   ]
  },
  {
   "cell_type": "code",
   "execution_count": 48,
   "id": "0f5384e2-5a3d-4ba5-9600-d1b2e9c13882",
   "metadata": {
    "tags": []
   },
   "outputs": [
    {
     "data": {
      "text/plain": [
       "array([ 8,  8,  8,  8,  8,  8,  8,  8,  9,  9,  9,  9,  9,  9,  9,  9, 10,\n",
       "       10, 10, 10, 10, 10, 10, 10, 11, 11, 11, 11, 11, 11, 11, 11, 12, 12,\n",
       "       12, 12, 12, 12, 12, 12, 13, 13, 13, 13, 13, 13, 13, 13, 14, 14, 14,\n",
       "       14, 14, 14, 14, 14, 15, 15, 15, 15, 15, 15, 15, 15, 16, 16, 16, 16,\n",
       "       16, 16, 16, 16, 16, 16, 16, 16, 17, 17, 17, 17, 17, 17, 17, 17, 17,\n",
       "       17, 17, 17, 18, 18, 18, 18, 18, 18, 18, 18, 18, 18, 18, 18, 19, 19,\n",
       "       19, 19, 19, 19, 19, 19, 19, 19, 19, 19, 20, 20, 20, 20, 21, 21, 21,\n",
       "       21, 22, 22, 22, 22, 23, 23, 23, 23, 24, 24, 24, 24, 24, 24, 24, 24,\n",
       "       25, 25, 25, 25, 25, 25, 25, 25, 26, 26, 26, 26, 26, 26, 26, 26, 27,\n",
       "       27, 27, 27, 27, 27, 27, 27, 28, 28, 28, 28, 29, 29, 29, 29, 30, 30,\n",
       "       30, 30, 31, 31, 31, 31, 32, 32, 32, 32, 32, 32, 32, 32, 33, 33, 33,\n",
       "       33, 33, 33, 33, 33, 34, 34, 34, 34, 34, 34, 34, 34, 35, 35, 35, 35,\n",
       "       35, 35, 35, 35, 36, 36, 36, 36, 37, 37, 37, 37, 38, 38, 38, 38, 39,\n",
       "       39, 39, 39, 40, 40, 40, 40, 41, 41, 41, 41, 42, 42, 42, 42, 43, 43,\n",
       "       43, 43, 44, 44, 44, 44, 45, 45, 45, 45, 46, 46, 46, 46, 47, 47, 47,\n",
       "       47, 48, 48, 48, 48, 49, 49, 49, 49, 50, 50, 50, 50, 51, 51, 51, 51,\n",
       "       52, 52, 52, 52, 53, 53, 53, 53, 54, 54, 54, 54, 55, 55, 55, 55],\n",
       "      dtype=int32)"
      ]
     },
     "execution_count": 48,
     "metadata": {},
     "output_type": "execute_result"
    }
   ],
   "source": [
    "mask_i"
   ]
  },
  {
   "cell_type": "code",
   "execution_count": 49,
   "id": "9254ab24-d8bd-4930-ba19-b9516c0fb4f3",
   "metadata": {
    "tags": []
   },
   "outputs": [
    {
     "data": {
      "text/plain": [
       "288"
      ]
     },
     "execution_count": 49,
     "metadata": {},
     "output_type": "execute_result"
    }
   ],
   "source": [
    "diff.size"
   ]
  },
  {
   "cell_type": "code",
   "execution_count": 52,
   "id": "9ab9428e-d5e9-4c43-b851-c4a873d3f135",
   "metadata": {
    "tags": []
   },
   "outputs": [
    {
     "data": {
      "text/plain": [
       "(416.0, 409.6)"
      ]
     },
     "execution_count": 52,
     "metadata": {},
     "output_type": "execute_result"
    }
   ],
   "source": [
    "np.sum(mask0), 0.1 * 64**2"
   ]
  },
  {
   "cell_type": "code",
   "execution_count": 53,
   "id": "7774c53c-979c-4188-a90a-883cca376138",
   "metadata": {
    "tags": []
   },
   "outputs": [
    {
     "data": {
      "text/plain": [
       "128.0"
      ]
     },
     "execution_count": 53,
     "metadata": {},
     "output_type": "execute_result"
    }
   ],
   "source": [
    "np.sum(mask_imgs[0,...])"
   ]
  },
  {
   "cell_type": "code",
   "execution_count": 54,
   "id": "294e4de6-f3c4-4f1f-ac76-6e9342dbc824",
   "metadata": {
    "tags": []
   },
   "outputs": [
    {
     "data": {
      "text/plain": [
       "array([[0., 0., 0., ..., 0., 0., 0.],\n",
       "       [0., 0., 0., ..., 0., 0., 0.],\n",
       "       [0., 0., 0., ..., 0., 0., 0.],\n",
       "       ...,\n",
       "       [1., 1., 1., ..., 0., 0., 0.],\n",
       "       [1., 1., 1., ..., 0., 0., 0.],\n",
       "       [1., 1., 1., ..., 0., 0., 0.]], dtype=float32)"
      ]
     },
     "execution_count": 54,
     "metadata": {},
     "output_type": "execute_result"
    }
   ],
   "source": [
    "mask_imgs[0,...]"
   ]
  },
  {
   "cell_type": "code",
   "execution_count": 58,
   "id": "c17051cf-b35a-4588-b838-30eecb540656",
   "metadata": {
    "tags": []
   },
   "outputs": [
    {
     "data": {
      "text/plain": [
       "False"
      ]
     },
     "execution_count": 58,
     "metadata": {},
     "output_type": "execute_result"
    }
   ],
   "source": [
    "np.all(mask0 == mask_imgs[0,...])"
   ]
  },
  {
   "cell_type": "code",
   "execution_count": 57,
   "id": "44ff0966-d91e-446f-a7e8-887499d75de3",
   "metadata": {
    "tags": []
   },
   "outputs": [
    {
     "data": {
      "text/plain": [
       "4096"
      ]
     },
     "execution_count": 57,
     "metadata": {},
     "output_type": "execute_result"
    }
   ],
   "source": [
    "64**2"
   ]
  },
  {
   "cell_type": "code",
   "execution_count": 60,
   "id": "706ad0f2-5c29-4450-a139-bc3dc2f07219",
   "metadata": {
    "tags": []
   },
   "outputs": [
    {
     "data": {
      "text/plain": [
       "(64, 64)"
      ]
     },
     "execution_count": 60,
     "metadata": {},
     "output_type": "execute_result"
    }
   ],
   "source": [
    "mask0 = f_mask['valid'][0,0,...]\n",
    "mask0.shape"
   ]
  },
  {
   "cell_type": "code",
   "execution_count": 61,
   "id": "6ea7241f-daf3-4448-b4c2-9bae2c2c9204",
   "metadata": {
    "tags": []
   },
   "outputs": [
    {
     "data": {
      "text/plain": [
       "(2, 64, 64)"
      ]
     },
     "execution_count": 61,
     "metadata": {},
     "output_type": "execute_result"
    }
   ],
   "source": [
    "mask_imgs = f_mask['valid'][:nimgs,0,...]\n",
    "mask_imgs.shape"
   ]
  },
  {
   "cell_type": "code",
   "execution_count": 62,
   "id": "48c88ae2-e729-4460-9590-70a0fa3b4dc4",
   "metadata": {
    "tags": []
   },
   "outputs": [
    {
     "data": {
      "text/plain": [
       "True"
      ]
     },
     "execution_count": 62,
     "metadata": {},
     "output_type": "execute_result"
    }
   ],
   "source": [
    "np.all(mask0 == mask_imgs[0,...])"
   ]
  },
  {
   "cell_type": "code",
   "execution_count": null,
   "id": "56a8073b-b97e-4b6a-ba04-da023bf6a870",
   "metadata": {},
   "outputs": [],
   "source": []
  }
 ],
 "metadata": {
  "kernelspec": {
   "display_name": "Python 3 (ipykernel)",
   "language": "python",
   "name": "python3"
  },
  "language_info": {
   "codemirror_mode": {
    "name": "ipython",
    "version": 3
   },
   "file_extension": ".py",
   "mimetype": "text/x-python",
   "name": "python",
   "nbconvert_exporter": "python",
   "pygments_lexer": "ipython3",
   "version": "3.10.9"
  }
 },
 "nbformat": 4,
 "nbformat_minor": 5
}
