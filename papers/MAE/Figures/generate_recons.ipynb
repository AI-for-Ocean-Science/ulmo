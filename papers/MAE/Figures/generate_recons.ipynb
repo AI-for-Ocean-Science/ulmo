{
 "cells": [
  {
   "cell_type": "markdown",
   "id": "15c2148f-c1b0-46e0-87f6-2db29e13d5b8",
   "metadata": {
    "tags": []
   },
   "source": [
    "## ENKI Visualize and Compare Plots\n",
    "\n",
    "[completed] Live demo of ENKI. "
   ]
  },
  {
   "cell_type": "markdown",
   "id": "fffa39c9-ca9b-4da0-90a4-de96bebbf755",
   "metadata": {
    "tags": []
   },
   "source": [
    "### Prepare\n",
    "Check environment. Install packages if in Colab.\n"
   ]
  },
  {
   "cell_type": "code",
   "execution_count": 1,
   "id": "1eae7403-f458-4f55-a557-4e045bd6f679",
   "metadata": {},
   "outputs": [],
   "source": [
    "\"\"\" :((( \"\"\"\n",
    "from dataclasses import replace\n",
    "from datetime import datetime\n",
    "import os, sys\n",
    "import numpy as np\n",
    "import scipy\n",
    "from scipy import stats\n",
    "from urllib.parse import urlparse\n",
    "import datetime\n",
    "\n",
    "import argparse\n",
    "\n",
    "import healpy as hp\n",
    "\n",
    "import matplotlib as mpl\n",
    "import matplotlib.gridspec as gridspec\n",
    "from matplotlib import pyplot as plt\n",
    "from matplotlib.patches import Rectangle, Ellipse\n",
    "\n",
    "\n",
    "from cartopy.mpl.gridliner import LONGITUDE_FORMATTER, LATITUDE_FORMATTER\n",
    "\n",
    "mpl.rcParams['font.family'] = 'stixgeneral'\n",
    "\n",
    "import pandas as pd\n",
    "import seaborn as sns\n",
    "\n",
    "import h5py\n",
    "\n",
    "from ulmo import plotting\n",
    "from ulmo.utils import utils as utils\n",
    "\n",
    "from ulmo import io as ulmo_io\n",
    "from ulmo.ssl import single_image as ssl_simage\n",
    "from ulmo.ssl import defs as ssl_defs\n",
    "from ulmo.mae import patch_analysis\n",
    "from ulmo.utils import image_utils\n",
    "\n",
    "import sys\n",
    "import os\n",
    "import requests\n",
    "\n",
    "import torch\n",
    "import numpy as np\n",
    "import h5py\n",
    "\n",
    "import matplotlib.pyplot as plt\n",
    "from PIL import Image\n",
    "from ulmo.plotting import plotting\n",
    "\n",
    "# check whether run in Colab\n",
    "if 'google.colab' in sys.modules:\n",
    "    print('Running in Colab.')\n",
    "    !pip3 install timm==0.4.5  # 0.3.2 does not work in Colab\n",
    "    !git clone https://github.com/facebookresearch/mae.git\n",
    "    sys.path.append('./mae')\n",
    "else:\n",
    "    sys.path.append('..')\n",
    "import models_mae"
   ]
  },
  {
   "cell_type": "markdown",
   "id": "2f7797ef-412a-439f-911e-3be294047629",
   "metadata": {
    "tags": []
   },
   "source": [
    "### Define utils"
   ]
  },
  {
   "cell_type": "code",
   "execution_count": 2,
   "id": "4573e6be-935a-4106-8c06-e467552b0e3d",
   "metadata": {},
   "outputs": [],
   "source": [
    "# define the utils\n",
    "\n",
    "imagenet_mean = np.array([0.485, 0.456, 0.406])\n",
    "imagenet_std = np.array([0.229, 0.224, 0.225])\n",
    "\n",
    "def show_image(image, title=''):\n",
    "    # image is [H, W, 3]\n",
    "    assert image.shape[2] == 1\n",
    "    _, cm = plotting.load_palette()\n",
    "    #plt.imshow(torch.clip((image * imagenet_std + imagenet_mean) * 255, 0, 255).int(), cmap=cm)\n",
    "    plt.imshow(image, cmap=cm)\n",
    "    plt.title(title, fontsize=16)\n",
    "    plt.axis('off')\n",
    "    return\n",
    "\n",
    "def prepare_model(chkpt_dir, arch='mae_vit_LLC_patch4'):\n",
    "    # build model\n",
    "    model = getattr(models_mae, arch)()\n",
    "    # load model\n",
    "    checkpoint = torch.load(chkpt_dir, map_location='cpu')\n",
    "    msg = model.load_state_dict(checkpoint['model'], strict=False)\n",
    "    print(msg)\n",
    "    return model\n",
    "\n",
    "def run_one_image(img, model, mask_ratio):\n",
    "    x = torch.tensor(img)\n",
    "\n",
    "    # make it a batch-like\n",
    "    x = x.unsqueeze(dim=0)\n",
    "    x = torch.einsum('nhwc->nchw', x)\n",
    "\n",
    "    # run MAE\n",
    "    loss, y, mask = model(x.float(), mask_ratio)\n",
    "    y = model.unpatchify(y)\n",
    "    y = torch.einsum('nchw->nhwc', y).detach().cpu()\n",
    "\n",
    "    # visualize the mask\n",
    "    mask = mask.detach()\n",
    "    mask = mask.unsqueeze(-1).repeat(1, 1, model.patch_embed.patch_size[0]**2 *1)  # (N, H*W, p*p*3)\n",
    "    mask = model.unpatchify(mask)  # 1 is removing, 0 is keeping\n",
    "    mask = torch.einsum('nchw->nhwc', mask).detach().cpu()\n",
    "    \n",
    "    x = torch.einsum('nchw->nhwc', x)\n",
    "\n",
    "    # masked image\n",
    "    im_masked = x * (1 - mask)\n",
    "\n",
    "    # MAE reconstruction pasted with visible patches\n",
    "    im_paste = x * (1 - mask) + y * mask\n",
    "    \n",
    "    im = im_paste.cpu().detach().numpy()\n",
    "    m = mask.cpu().detach().numpy()\n",
    "    im = im.squeeze()\n",
    "    m = m.squeeze()\n",
    "    print(im.shape)\n",
    "    print(m.shape)\n",
    "    \n",
    "    return im, m\n",
    "    "
   ]
  },
  {
   "cell_type": "code",
   "execution_count": 3,
   "id": "c43d6864-aa4f-4236-a8aa-f076df454664",
   "metadata": {
    "tags": []
   },
   "outputs": [],
   "source": [
    "def plot_recon(orig_img, recon_img, mask_img, idx,\n",
    "               apply_bias=False, vmnx = [None, None, None, None],\n",
    "               LL_file='MAE_LLC_valid_nonoise.parquet'):\n",
    "    # Load Unmasked\n",
    "    unmasked = 1 - mask_img\n",
    "\n",
    "    # Bias\n",
    "    diff_true = recon_img - orig_img\n",
    "    bias = np.median(diff_true[np.abs(diff_true)>0.])\n",
    "\n",
    "    # Find the patches\n",
    "    p_sz = 4\n",
    "    patches = patch_analysis.find_patches(mask_img, p_sz)\n",
    "    upatches = patch_analysis.find_patches(unmasked, p_sz)\n",
    "\n",
    "\n",
    "    fig = plt.figure(figsize=(9, 4))\n",
    "    plt.clf()\n",
    "    gs = gridspec.GridSpec(1,4)\n",
    "    ax0 = plt.subplot(gs[0])\n",
    "\n",
    "    _, cm = plotting.load_palette()\n",
    "    cbar_kws={'label': 'SSTa (K)',\n",
    "              'fraction': 0.0450,\n",
    "              'location': 'top'}\n",
    "\n",
    "    _ = sns.heatmap(np.flipud(orig_img), xticklabels=[],\n",
    "                    vmin=vmnx[0], vmax=vmnx[1],\n",
    "                    yticklabels=[], cmap=cm, cbar=True, \n",
    "                    square=True, \n",
    "                    cbar_kws=cbar_kws,\n",
    "                    ax=ax0)\n",
    "\n",
    "    # Reconstructed\n",
    "    sub_recon = np.ones_like(recon_img) * np.nan\n",
    "    # Difference\n",
    "    diff = np.ones_like(recon_img) * np.nan\n",
    "    frecon = recon_img.copy()\n",
    "\n",
    "    # Plot/fill the patches\n",
    "    for kk, patch in enumerate(patches):\n",
    "        i, j = np.unravel_index(patch, mask_img.shape)\n",
    "        \n",
    "        # Fill\n",
    "        sub_recon[i:i+p_sz, j:j+p_sz] = recon_img[i:i+p_sz, j:j+p_sz]\n",
    "        frecon[i:i+p_sz, j:j+p_sz]\n",
    "        # ???\n",
    "        diff[i:i+p_sz, j:j+p_sz] = diff_true[i:i+p_sz, j:j+p_sz]\n",
    "        if apply_bias:\n",
    "            sub_recon[i:i+p_sz, j:j+p_sz] = recon_img[i:i+p_sz, j:j+p_sz] - bias\n",
    "            frecon[i:i+p_sz, j:j+p_sz] -= bias\n",
    "            # ???\n",
    "            diff[i:i+p_sz, j:j+p_sz] = diff_true[i:i+p_sz, j:j+p_sz] - bias\n",
    "        \n",
    "\n",
    "\n",
    "    # Reconstructed\n",
    "    usub_recon = np.ones_like(recon_img) * np.nan\n",
    "    # Difference\n",
    "    udiff = np.ones_like(recon_img) * np.nan\n",
    "    ufrecon = recon_img.copy()\n",
    "\n",
    "    # Plot/fill the patches\n",
    "    for kk, patch in enumerate(upatches):\n",
    "        i, j = np.unravel_index(patch, unmasked.shape)\n",
    "        # Fill\n",
    "        usub_recon[i:i+p_sz, j:j+p_sz] = orig_img[i:i+p_sz, j:j+p_sz]\n",
    "        ufrecon[i:i+p_sz, j:j+p_sz]\n",
    "        # ???\n",
    "        udiff[i:i+p_sz, j:j+p_sz] = diff_true[i:i+p_sz, j:j+p_sz]\n",
    "\n",
    "    # Unmasked image\n",
    "    ax1 = plt.subplot(gs[1])\n",
    "\n",
    "    u_recon = False\n",
    "    if u_recon:\n",
    "        usub_recon = ufrecon.copy()\n",
    "    _ = sns.heatmap(np.flipud(usub_recon), xticklabels=[],\n",
    "                    vmin=vmnx[0], vmax=vmnx[1],\n",
    "                    yticklabels=[], cmap=cm, cbar=True, \n",
    "                    square=True, cbar_kws=cbar_kws,\n",
    "                    ax=ax1)\n",
    "\n",
    "    # Recon image\n",
    "    ax2 = plt.subplot(gs[2])\n",
    "\n",
    "    full_recon = True\n",
    "    if apply_bias:\n",
    "        cbar_kws['label'] = 'SSTa (K) ({:.3f} bias)'.format(bias)\n",
    "    if full_recon:\n",
    "        sub_recon = frecon.copy()\n",
    "    _ = sns.heatmap(np.flipud(sub_recon), xticklabels=[],\n",
    "                    vmin=vmnx[0], vmax=vmnx[1],\n",
    "                    yticklabels=[], cmap=cm, cbar=True, \n",
    "                    square=True, cbar_kws=cbar_kws,\n",
    "                    ax=ax2)\n",
    "\n",
    "    # Residual image\n",
    "    ax3 = plt.subplot(gs[3])\n",
    "\n",
    "    cbar_kws['label'] = 'Residuals (K)'\n",
    "    _ = sns.heatmap(np.flipud(diff), xticklabels=[], \n",
    "                    vmin=vmnx[2], vmax=vmnx[3],\n",
    "                    yticklabels=[], cmap='bwr', cbar=True,\n",
    "                    square=True, \n",
    "                    cbar_kws=cbar_kws,\n",
    "                    ax=ax3)\n",
    "\n",
    "    # Borders\n",
    "    # \n",
    "    for ax, title in zip( [ax0, ax1, ax2 ,ax3],\n",
    "        ['Original', 'Unmasked', 'Reconstructed', 'Residuals']):\n",
    "        ax.patch.set_edgecolor('black')  \n",
    "        ax.patch.set_linewidth(1.)  \n",
    "        #\n",
    "        show_title=True\n",
    "        if show_title:\n",
    "            ax.set_title(title, fontsize=14, y=-0.13)\n",
    "    \n",
    "    # Plot title\n",
    "    table = pd.read_parquet(LL_file, engine='pyarrow',columns=['pp_idx', 'LL'])\n",
    "    table = table[table['LL'].notna()]\n",
    "    table = table.sort_values(by=['pp_idx'])\n",
    "    LL = int(table.iloc[idx]['LL'])\n",
    "    #fig.suptitle('{LL} LL Reconstruction: t{model} {p}% masking'.format(LL=LL))\n",
    "    fig.suptitle('{LL} LL Reconstruction'.format(LL=LL))\n",
    "    \n",
    "    plt.tight_layout(pad=0.5, h_pad=0.5, w_pad=0.5)\n",
    "    #outfile = 'corner_example.png'\n",
    "    #plt.savefig(outfile, dpi=300)\n",
    "    #plt.close()\n",
    "    #print('Wrote {:s}'.format(outfile))"
   ]
  },
  {
   "cell_type": "markdown",
   "id": "8b7e691d-93d2-439f-91d6-c22716a897b5",
   "metadata": {
    "tags": []
   },
   "source": [
    "### Load a pre-trained MAE model"
   ]
  },
  {
   "cell_type": "code",
   "execution_count": 4,
   "id": "d9c1c4ab-c301-40ff-a655-2bfca4c8cd50",
   "metadata": {},
   "outputs": [],
   "source": [
    "# Models:\n",
    "t10_file = 'data/ENKI_t10.pth'\n",
    "t35_file = 'data/ENKI_t35.pth'\n",
    "t50_file = 'data/ENKI_t50.pth'\n",
    "t75_file = 'data/ENKI_t75.pth'"
   ]
  },
  {
   "cell_type": "code",
   "execution_count": 5,
   "id": "066c7a7b-a4b2-49f4-a113-a154347ae2ce",
   "metadata": {
    "tags": []
   },
   "outputs": [
    {
     "name": "stdout",
     "output_type": "stream",
     "text": [
      "<All keys matched successfully>\n",
      "Model10 loaded.\n"
     ]
    }
   ],
   "source": [
    "# load model trained on 10% masking\n",
    "model_mae_35 = prepare_model(t35_file, 'mae_vit_LLC_patch4')\n",
    "print('Model10 loaded.')"
   ]
  },
  {
   "cell_type": "code",
   "execution_count": 6,
   "id": "fd2d7da9-f75c-4b27-a84b-6d1247f73a7d",
   "metadata": {},
   "outputs": [
    {
     "name": "stdout",
     "output_type": "stream",
     "text": [
      "<All keys matched successfully>\n",
      "Model10 loaded.\n"
     ]
    }
   ],
   "source": [
    "# load model trained on 10% masking\n",
    "model_mae_10 = prepare_model(t10_file, 'mae_vit_LLC_patch4')\n",
    "print('Model10 loaded.')"
   ]
  },
  {
   "cell_type": "code",
   "execution_count": 7,
   "id": "37ab2395-521a-401f-a3d7-c0daead5c3cc",
   "metadata": {},
   "outputs": [
    {
     "name": "stdout",
     "output_type": "stream",
     "text": [
      "<All keys matched successfully>\n",
      "Model50 loaded.\n"
     ]
    }
   ],
   "source": [
    "# load model trained on 50% masking\n",
    "model_mae_50 = prepare_model(t50_file, 'mae_vit_LLC_patch4')\n",
    "print('Model50 loaded.')"
   ]
  },
  {
   "cell_type": "code",
   "execution_count": 8,
   "id": "19da9fbf-07e3-4005-adb3-0f6e93470cac",
   "metadata": {},
   "outputs": [
    {
     "name": "stdout",
     "output_type": "stream",
     "text": [
      "<All keys matched successfully>\n",
      "Model75 loaded.\n"
     ]
    }
   ],
   "source": [
    "# load model trained on 75% masking\n",
    "model_mae_75 = prepare_model(t75_file, 'mae_vit_LLC_patch4')\n",
    "print('Model75 loaded.')"
   ]
  },
  {
   "cell_type": "markdown",
   "id": "a92a06e7-3b6d-4c33-9eb2-15e560a4ce42",
   "metadata": {},
   "source": [
    "### Load an image"
   ]
  },
  {
   "cell_type": "code",
   "execution_count": 9,
   "id": "27755296-05cc-4344-90de-a8ab3878f485",
   "metadata": {},
   "outputs": [
    {
     "name": "stdout",
     "output_type": "stream",
     "text": [
      "(655788, 1, 64, 64)\n",
      "(64, 64, 1)\n"
     ]
    },
    {
     "data": {
      "image/png": "[encoded data removed]",
      "text/plain": [
       "<Figure size 500x500 with 1 Axes>"
      ]
     },
     "metadata": {},
     "output_type": "display_data"
    }
   ],
   "source": [
    "# load an image\n",
    "filepath = 'data/MAE_LLC_valid_nonoise_preproc.h5'\n",
    "idx = 330469\n",
    "#idx = 92810\n",
    "idx = 2365\n",
    "# idx = 666 # good for capturing blurriness in reconstructions\n",
    "with h5py.File(filepath, 'r') as f:\n",
    "    print(f['valid'].shape)\n",
    "    img = f['valid'][idx][0]\n",
    "img.resize((64,64,1))\n",
    "assert img.shape == (64, 64, 1)\n",
    "\n",
    "print(img.shape)\n",
    "_, cm = plotting.load_palette()\n",
    "plt.rcParams['figure.figsize'] = [5, 5]\n",
    "show_image(torch.tensor(img))"
   ]
  },
  {
   "cell_type": "markdown",
   "id": "7d15a0a7-c093-439a-9a4d-c37ce0c0eaa6",
   "metadata": {},
   "source": [
    "### Run MAE on the image"
   ]
  },
  {
   "cell_type": "code",
   "execution_count": 10,
   "id": "1b0eb444-e403-44a9-a370-ff2326f78f30",
   "metadata": {},
   "outputs": [
    {
     "name": "stdout",
     "output_type": "stream",
     "text": [
      "(64, 64)\n",
      "(64, 64)\n",
      "(64, 64)\n",
      "(64, 64)\n",
      "(64, 64)\n",
      "(64, 64)\n",
      "(64, 64)\n",
      "(64, 64)\n",
      "(64, 64)\n",
      "(64, 64)\n",
      "(64, 64)\n",
      "(64, 64)\n",
      "(64, 64)\n",
      "(64, 64)\n",
      "(64, 64)\n",
      "(64, 64)\n",
      "(64, 64)\n",
      "(64, 64)\n",
      "(64, 64)\n",
      "(64, 64)\n",
      "(64, 64)\n",
      "(64, 64)\n",
      "(64, 64)\n",
      "(64, 64)\n",
      "(64, 64)\n",
      "(64, 64)\n",
      "(64, 64)\n",
      "(64, 64)\n",
      "(64, 64)\n",
      "(64, 64)\n",
      "(64, 64)\n",
      "(64, 64)\n"
     ]
    }
   ],
   "source": [
    "# make random mask reproducible (comment out to make it change)\n",
    "group1 = [209248, 524321, 414040, 610138]\n",
    "group2 = [245215, 72480, 29518, 569580] \n",
    "group3 = [313043, 202716, 15385, 478432] \n",
    "group4 = [173629, 426310, 599472, 595621]\n",
    "\n",
    "\n",
    "indexes = [209248, 524321, 414040, 610138, 245215, 72480, 29518, 569580, \n",
    "           313043, 202716, 15385, 478432, 173629, 426310, 599472, 595621]\n",
    "f = h5py.File(filepath, 'r')\n",
    "\n",
    "models = [model_mae_10, model_mae_35, model_mae_50, model_mae_75]\n",
    "mask_ratios = [0.10, 0.35, 0.50, 0.75]\n",
    "\n",
    "orig_imgs = []\n",
    "recon_imgs = []\n",
    "masks = []\n",
    "\n",
    "for (idx, t, p) in zip(group1, models, mask_ratios):\n",
    "    orig_img = f['valid'][idx][0]\n",
    "    orig_img.resize((64,64,1))\n",
    "    recon_img, mask = run_one_image(orig_img, t, p)\n",
    "    orig_img = orig_img.squeeze()\n",
    "    orig_imgs.append(orig_img)\n",
    "    recon_imgs.append(recon_img)\n",
    "    masks.append(mask)\n",
    "    \n",
    "for (idx, t, p) in zip(group2, models, mask_ratios):\n",
    "    orig_img = f['valid'][idx][0]\n",
    "    orig_img.resize((64,64,1))\n",
    "    recon_img, mask = run_one_image(orig_img, t, p)\n",
    "    orig_img = orig_img.squeeze()\n",
    "    orig_imgs.append(orig_img)\n",
    "    recon_imgs.append(recon_img)\n",
    "    masks.append(mask)\n",
    "    \n",
    "for (idx, t, p) in zip(group3, models, mask_ratios):\n",
    "    orig_img = f['valid'][idx][0]\n",
    "    orig_img.resize((64,64,1))\n",
    "    recon_img, mask = run_one_image(orig_img, t, p)\n",
    "    orig_img = orig_img.squeeze()\n",
    "    orig_imgs.append(orig_img)\n",
    "    recon_imgs.append(recon_img)\n",
    "    masks.append(mask)\n",
    "    \n",
    "for (idx, t, p) in zip(group4, models, mask_ratios):\n",
    "    orig_img = f['valid'][idx][0]\n",
    "    orig_img.resize((64,64,1))\n",
    "    recon_img, mask = run_one_image(orig_img, t, p)\n",
    "    orig_img = orig_img.squeeze()\n",
    "    orig_imgs.append(orig_img)\n",
    "    recon_imgs.append(recon_img)\n",
    "    masks.append(mask)\n"
   ]
  },
  {
   "cell_type": "code",
   "execution_count": 11,
   "id": "7bf5e5c4-2fbb-498c-a9af-e1b08341fb8e",
   "metadata": {
    "tags": []
   },
   "outputs": [],
   "source": [
    "orig_imgs = np.array(orig_imgs)\n",
    "recon_imgs = np.array(recon_imgs)\n",
    "masks = np.array(masks)"
   ]
  },
  {
   "cell_type": "code",
   "execution_count": 12,
   "id": "d9822ad6-1c8e-406e-872d-adcc2bc10143",
   "metadata": {
    "tags": []
   },
   "outputs": [],
   "source": [
    "#masks = [p10_mask[0], p30_mask[0], p50_mask]\n",
    "np.savez('gallery_imgs.npz', orig_imgs=orig_imgs, recon_imgs=recon_imgs, masks=masks)"
   ]
  },
  {
   "cell_type": "code",
   "execution_count": null,
   "id": "078a4949-008e-4c14-aaae-50324cf8bcca",
   "metadata": {},
   "outputs": [],
   "source": []
  }
 ],
 "metadata": {
  "kernelspec": {
   "display_name": "Python 3 (ipykernel)",
   "language": "python",
   "name": "python3"
  },
  "language_info": {
   "codemirror_mode": {
    "name": "ipython",
    "version": 3
   },
   "file_extension": ".py",
   "mimetype": "text/x-python",
   "name": "python",
   "nbconvert_exporter": "python",
   "pygments_lexer": "ipython3",
   "version": "3.10.10"
  }
 },
 "nbformat": 4,
 "nbformat_minor": 5
}
